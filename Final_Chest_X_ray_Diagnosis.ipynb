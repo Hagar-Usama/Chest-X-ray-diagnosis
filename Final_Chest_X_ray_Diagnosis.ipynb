{
  "nbformat": 4,
  "nbformat_minor": 0,
  "metadata": {
    "colab": {
      "name": "Final Chest X-ray Diagnosis.ipynb",
      "provenance": [],
      "collapsed_sections": [],
      "include_colab_link": true
    },
    "kernelspec": {
      "display_name": "Python 3",
      "name": "python3"
    },
    "accelerator": "GPU"
  },
  "cells": [
    {
      "cell_type": "markdown",
      "metadata": {
        "id": "view-in-github",
        "colab_type": "text"
      },
      "source": [
        "<a href=\"https://colab.research.google.com/github/Hagar-Usama/Chest-X-ray-diagnosis/blob/basic-models/Final_Chest_X_ray_Diagnosis.ipynb\" target=\"_parent\"><img src=\"https://colab.research.google.com/assets/colab-badge.svg\" alt=\"Open In Colab\"/></a>"
      ]
    },
    {
      "cell_type": "markdown",
      "metadata": {
        "id": "66TJfc0Z0d3R"
      },
      "source": [
        "#TODO:\n",
        "* [x] FCNN1 \n",
        "* [x] FCNN 2\n",
        "* [x] CNN 1\n",
        "* [x] CNN 2\n",
        "* [x] Data Augmentation (bonus) [double-check]\n",
        "* [x] ResNet  (pretrained = true & false)\n",
        "* [x] DenseNet\n",
        "* [x] Inception v3 (bonus)\n",
        "* [x] Compare all model in a table (use Tabulate)"
      ]
    },
    {
      "cell_type": "markdown",
      "metadata": {
        "id": "0YZ6oQfXP9Sp"
      },
      "source": [
        "# Import packages"
      ]
    },
    {
      "cell_type": "code",
      "metadata": {
        "id": "_NARBw1fxorH"
      },
      "source": [
        "import os\r\n",
        "import numpy as np\r\n",
        "import matplotlib.pyplot as plt\r\n",
        "from torch.utils.data import Dataset, DataLoader, random_split\r\n",
        "import cv2\r\n",
        "from google.colab import drive\r\n",
        "import torch.optim as optim\r\n",
        "from sklearn.preprocessing import LabelEncoder\r\n",
        "import torch.nn as nn\r\n",
        "import torch.nn.functional as F\r\n",
        "import torch\r\n",
        "from sklearn.metrics import f1_score, recall_score, precision_score, accuracy_score\r\n",
        "from sklearn.model_selection import train_test_split\r\n",
        "from google.colab import files\r\n",
        "from torchvision.models import resnet18, resnet50\r\n",
        "from statistics import mode"
      ],
      "execution_count": null,
      "outputs": []
    },
    {
      "cell_type": "code",
      "metadata": {
        "id": "rhAlviJCjTdB"
      },
      "source": [
        "torch.set_default_tensor_type('torch.cuda.FloatTensor')"
      ],
      "execution_count": null,
      "outputs": []
    },
    {
      "cell_type": "markdown",
      "metadata": {
        "id": "KXvwEjYoB7dE"
      },
      "source": [
        "# Load Data"
      ]
    },
    {
      "cell_type": "code",
      "metadata": {
        "colab": {
          "base_uri": "https://localhost:8080/",
          "height": 248
        },
        "id": "vfVM2HdiOtrp",
        "outputId": "ffc26ef2-4ec6-497c-b9fe-fca488df845a"
      },
      "source": [
        "drive.mount('/content/drive') #, force_remount=True)\r\n",
        "path = '/content/drive/My Drive/COVID-19RadiographyDatabase'\r\n",
        "labels = []\r\n",
        "data = []\r\n",
        "dim = (256, 256)   \r\n",
        "\r\n",
        "for directory in os.listdir(path):\r\n",
        "  for file in os.listdir(path + '/' + directory):\r\n",
        "    labels.append(directory)\r\n",
        "    imagedata = cv2.imread(path + \"/\" + directory + \"/\" + file)\r\n",
        "    resized = cv2.resize(imagedata, dim, interpolation = cv2.INTER_AREA)\r\n",
        "    data.append(resized)\r\n",
        "    #data.append(imagedata)\r\n",
        "print(len(data))\r\n",
        "print(len(labels))"
      ],
      "execution_count": null,
      "outputs": [
        {
          "output_type": "stream",
          "text": [
            "Mounted at /content/drive\n"
          ],
          "name": "stdout"
        },
        {
          "output_type": "error",
          "ename": "KeyboardInterrupt",
          "evalue": "ignored",
          "traceback": [
            "\u001b[0;31m---------------------------------------------------------------------------\u001b[0m",
            "\u001b[0;31mKeyboardInterrupt\u001b[0m                         Traceback (most recent call last)",
            "\u001b[0;32m<ipython-input-3-1f5f1ae15bbe>\u001b[0m in \u001b[0;36m<module>\u001b[0;34m()\u001b[0m\n\u001b[1;32m      8\u001b[0m   \u001b[0;32mfor\u001b[0m \u001b[0mfile\u001b[0m \u001b[0;32min\u001b[0m \u001b[0mos\u001b[0m\u001b[0;34m.\u001b[0m\u001b[0mlistdir\u001b[0m\u001b[0;34m(\u001b[0m\u001b[0mpath\u001b[0m \u001b[0;34m+\u001b[0m \u001b[0;34m'/'\u001b[0m \u001b[0;34m+\u001b[0m \u001b[0mdirectory\u001b[0m\u001b[0;34m)\u001b[0m\u001b[0;34m:\u001b[0m\u001b[0;34m\u001b[0m\u001b[0;34m\u001b[0m\u001b[0m\n\u001b[1;32m      9\u001b[0m     \u001b[0mlabels\u001b[0m\u001b[0;34m.\u001b[0m\u001b[0mappend\u001b[0m\u001b[0;34m(\u001b[0m\u001b[0mdirectory\u001b[0m\u001b[0;34m)\u001b[0m\u001b[0;34m\u001b[0m\u001b[0;34m\u001b[0m\u001b[0m\n\u001b[0;32m---> 10\u001b[0;31m     \u001b[0mimagedata\u001b[0m \u001b[0;34m=\u001b[0m \u001b[0mcv2\u001b[0m\u001b[0;34m.\u001b[0m\u001b[0mimread\u001b[0m\u001b[0;34m(\u001b[0m\u001b[0mpath\u001b[0m \u001b[0;34m+\u001b[0m \u001b[0;34m\"/\"\u001b[0m \u001b[0;34m+\u001b[0m \u001b[0mdirectory\u001b[0m \u001b[0;34m+\u001b[0m \u001b[0;34m\"/\"\u001b[0m \u001b[0;34m+\u001b[0m \u001b[0mfile\u001b[0m\u001b[0;34m)\u001b[0m\u001b[0;34m\u001b[0m\u001b[0;34m\u001b[0m\u001b[0m\n\u001b[0m\u001b[1;32m     11\u001b[0m     \u001b[0mresized\u001b[0m \u001b[0;34m=\u001b[0m \u001b[0mcv2\u001b[0m\u001b[0;34m.\u001b[0m\u001b[0mresize\u001b[0m\u001b[0;34m(\u001b[0m\u001b[0mimagedata\u001b[0m\u001b[0;34m,\u001b[0m \u001b[0mdim\u001b[0m\u001b[0;34m,\u001b[0m \u001b[0minterpolation\u001b[0m \u001b[0;34m=\u001b[0m \u001b[0mcv2\u001b[0m\u001b[0;34m.\u001b[0m\u001b[0mINTER_AREA\u001b[0m\u001b[0;34m)\u001b[0m\u001b[0;34m\u001b[0m\u001b[0;34m\u001b[0m\u001b[0m\n\u001b[1;32m     12\u001b[0m     \u001b[0mdata\u001b[0m\u001b[0;34m.\u001b[0m\u001b[0mappend\u001b[0m\u001b[0;34m(\u001b[0m\u001b[0mresized\u001b[0m\u001b[0;34m)\u001b[0m\u001b[0;34m\u001b[0m\u001b[0;34m\u001b[0m\u001b[0m\n",
            "\u001b[0;31mKeyboardInterrupt\u001b[0m: "
          ]
        }
      ]
    },
    {
      "cell_type": "markdown",
      "metadata": {
        "id": "hWBj0tPsLJkZ"
      },
      "source": [
        "**Pickle** File (less storage, faster retreival)\n",
        "* Alteranative to the previous step"
      ]
    },
    {
      "cell_type": "code",
      "metadata": {
        "id": "p5in3CS0LInV"
      },
      "source": [
        "## Credit\n",
        "# https://medium.com/better-programming/load-fast-load-big-with-compressed-pickles-5f311584507e\n",
        "import pickle\n",
        "import bz2\n",
        "import os\n",
        "import cv2\n",
        "import _pickle as cPickle\n",
        "\n",
        "def compressed_pickle(title, data):\n",
        "    with bz2.BZ2File(title + '.pbz2', 'w') as f:\n",
        "        cPickle.dump(data, f)\n",
        "\n",
        "# Load any compressed pickle file\n",
        "def decompress_pickle(file):\n",
        "    data = bz2.BZ2File(file, 'rb')\n",
        "    data = cPickle.load(data)\n",
        "    return data"
      ],
      "execution_count": null,
      "outputs": []
    },
    {
      "cell_type": "code",
      "metadata": {
        "id": "osm0-0ibM-Zb"
      },
      "source": [
        "from google.colab import drive\n",
        "drive.mount('/content/drive')"
      ],
      "execution_count": null,
      "outputs": []
    },
    {
      "cell_type": "code",
      "metadata": {
        "id": "cxCWFJ5GLlFp",
        "colab": {
          "base_uri": "https://localhost:8080/"
        },
        "outputId": "3c27b14e-f6fb-409e-b089-81b6f2b7db06"
      },
      "source": [
        "## run iff a pickle file is used\r\n",
        "from pathlib import Path\r\n",
        "dataset_path = Path(\"/content/drive/My Drive/covid-19\")\r\n",
        "!ls \"/content/drive/My Drive/covid-19\"\r\n",
        "labels = decompress_pickle(dataset_path.joinpath(\"covid-compressed-label.pbz2\"))\r\n",
        "print(len(labels))\r\n",
        "data = decompress_pickle(dataset_path.joinpath(\"covid-compressed-image.pbz2\"))\r\n",
        "print(len(data))\r\n",
        "#print(type(data[0]))\r\n",
        "# mind: 3865 >> missing data (36 image)"
      ],
      "execution_count": null,
      "outputs": [
        {
          "output_type": "stream",
          "text": [
            "COVID-19\t\t     covid-compressed-label.pbz2  many_fcnn_2_mod\n",
            "covid-compressed-image.pbz2  covid-compressed-size.pbz2   many_fcnn.pbz2\n",
            "3829\n",
            "3829\n"
          ],
          "name": "stdout"
        }
      ]
    },
    {
      "cell_type": "markdown",
      "metadata": {
        "id": "LYaYb5MyCNLd"
      },
      "source": [
        "# Change Text Labels to Numerical"
      ]
    },
    {
      "cell_type": "code",
      "metadata": {
        "id": "03CeX6G5MYfm",
        "colab": {
          "base_uri": "https://localhost:8080/"
        },
        "outputId": "e61e844b-8dc6-4c57-faf8-76ce72a16de9"
      },
      "source": [
        "le = LabelEncoder()\r\n",
        "labels = le.fit_transform(labels)\r\n",
        "print(labels)\r\n",
        "print(data[0].shape)"
      ],
      "execution_count": null,
      "outputs": [
        {
          "output_type": "stream",
          "text": [
            "[2 2 2 ... 1 1 1]\n",
            "(256, 256, 3)\n"
          ],
          "name": "stdout"
        }
      ]
    },
    {
      "cell_type": "markdown",
      "metadata": {
        "id": "EoAM6kSgCYyK"
      },
      "source": [
        "# Split Dataset"
      ]
    },
    {
      "cell_type": "code",
      "metadata": {
        "id": "7NeBBOggn1NZ"
      },
      "source": [
        "x_train, x_test_cv, y_train, y_test_cv = train_test_split(data, labels, test_size=0.4, random_state=1, stratify=labels)\r\n",
        "x_cv,    x_test,    y_cv,    y_test    = train_test_split(x_test_cv, y_test_cv, test_size=0.5, random_state=1, stratify=y_test_cv)"
      ],
      "execution_count": null,
      "outputs": []
    },
    {
      "cell_type": "markdown",
      "metadata": {
        "id": "RWMsNzql2tKM"
      },
      "source": [
        "## Data Augmentation"
      ]
    },
    {
      "cell_type": "code",
      "metadata": {
        "id": "2mGHHy7Q20cR"
      },
      "source": [
        "from torchvision import transforms, utils\n",
        "train_trans =  transforms.Compose([\n",
        "        transforms.RandomResizedCrop(224),\n",
        "        transforms.RandomHorizontalFlip(),\n",
        "        transforms.ToTensor(),\n",
        "        transforms.Normalize([0.485, 0.456, 0.406], [0.229, 0.224, 0.225])\n",
        "    ])\n",
        "\n",
        "valid_trans = transforms.Compose([\n",
        "        transforms.Resize(256),\n",
        "        transforms.CenterCrop(224),\n",
        "        transforms.ToTensor(),\n",
        "        transforms.Normalize([0.485, 0.456, 0.406], [0.229, 0.224, 0.225])\n",
        "    ])"
      ],
      "execution_count": null,
      "outputs": []
    },
    {
      "cell_type": "markdown",
      "metadata": {
        "id": "YfOekV5-Vequ"
      },
      "source": [
        "# Data Loader"
      ]
    },
    {
      "cell_type": "code",
      "metadata": {
        "id": "-pvSmqemYurZ"
      },
      "source": [
        "class myDataset(Dataset):\r\n",
        "  def __init__(self, array, label):\r\n",
        "    self.array = array\r\n",
        "    self.label = label\r\n",
        "    # for data augmentation\r\n",
        "    # self.transform = transform\r\n",
        "  \r\n",
        "  def __getitem__(self, index):\r\n",
        "    # image = cv2.imread(self.array[index], 0)\r\n",
        "    # # # image = image.reshape(1,28,28)\r\n",
        "    image = self.array[index]\r\n",
        "    #image = self.transform(image)\r\n",
        "    return torch.tensor(image).float(), torch.tensor(int(self.label[index]))\r\n",
        "    # return(self.array[index], self.label[index])\r\n",
        "  \r\n",
        "  def __len__(self):\r\n",
        "      return len(self.array)\r\n"
      ],
      "execution_count": null,
      "outputs": []
    },
    {
      "cell_type": "code",
      "metadata": {
        "id": "nXTgxPSCuMPA"
      },
      "source": [
        "customDataset = myDataset(x_train, y_train)\r\n",
        "train_dataloader = DataLoader(customDataset, batch_size=4, shuffle=True, num_workers=0)\r\n",
        "\r\n",
        "customDataset = myDataset(x_cv, y_cv)\r\n",
        "cv_dataloader = DataLoader(customDataset, batch_size=4, shuffle=True, num_workers=0)\r\n",
        "\r\n",
        "customDataset = myDataset(x_test, y_test)\r\n",
        "test_dataloader = DataLoader(customDataset, batch_size=4, shuffle=True, num_workers=0)"
      ],
      "execution_count": null,
      "outputs": []
    },
    {
      "cell_type": "markdown",
      "metadata": {
        "id": "0Q-n2ryvCdio"
      },
      "source": [
        "# Neural Networks Declaration"
      ]
    },
    {
      "cell_type": "markdown",
      "metadata": {
        "id": "CFPto0Y7aJ1X"
      },
      "source": [
        "## CNN 1 (few layers)"
      ]
    },
    {
      "cell_type": "code",
      "metadata": {
        "id": "FXQo38WNjJ94"
      },
      "source": [
        "# https://towardsdatascience.com/9-tips-for-training-lightning-fast-neural-networks-in-pytorch-8e63a502f565\r\n",
        "# really bad idea. Stops all the GPUs until they all catch up\r\n",
        "torch.cuda.empty_cache()\r\n",
        "class ConvNN(nn.Module):\r\n",
        "  def __init__(self):\r\n",
        "    super(ConvNN, self).__init__()\r\n",
        "    self.conv1 = nn.Conv2d(in_channels=3, out_channels=32, kernel_size=3, stride=1)\r\n",
        "    self.conv2 = nn.Conv2d(in_channels=32, out_channels=64, kernel_size=3, stride=1)\r\n",
        "    self.dropout1 = nn.Dropout(0.25)\r\n",
        "    self.dropout2 = nn.Dropout(0.5)\r\n",
        "    self.fc1 = nn.Linear(1016064, 128) \r\n",
        "    self.fc2 = nn.Linear(128, 3)\r\n",
        "\r\n",
        "  def forward(self, x):\r\n",
        "    x = self.conv1(x.permute(0, 3, 1, 2))\r\n",
        "    x = F.relu(x)\r\n",
        "    x = self.conv2(x)\r\n",
        "    x = F.relu(x)\r\n",
        "    x = F.max_pool2d(x,2)\r\n",
        "    x = self.dropout1(x)\r\n",
        "    x = torch.flatten(x, 1)\r\n",
        "    x = self.fc1(x)\r\n",
        "    x = F.relu(x)\r\n",
        "    x = self.dropout2(x)\r\n",
        "    x = self.fc2(x)\r\n",
        "    output = F.log_softmax(x, dim=1)\r\n",
        "    return output\r\n",
        "\r\n",
        "# conv_nn = ConvNN()\r\n",
        "# fully_conn_nn = FullyConnectedNN()\r\n",
        "# resnet = ResNet50()"
      ],
      "execution_count": null,
      "outputs": []
    },
    {
      "cell_type": "markdown",
      "metadata": {
        "id": "pEJfHe7oSs4C"
      },
      "source": [
        "## CNN 2 (manny layers)"
      ]
    },
    {
      "cell_type": "code",
      "metadata": {
        "id": "vH61s3r2TCvn"
      },
      "source": [
        "torch.cuda.empty_cache()\r\n",
        "class ConvNN2(nn.Module):\r\n",
        "  def __init__(self):\r\n",
        "    super(ConvNN2, self).__init__()\r\n",
        "    self.conv1 = nn.Conv2d(in_channels=3, out_channels=8, kernel_size=3, stride=1)\r\n",
        "    self.conv2 = nn.Conv2d(in_channels=8, out_channels=16, kernel_size=3, stride=1)\r\n",
        "    self.conv3 = nn.Conv2d(in_channels=16, out_channels=32, kernel_size=3, stride=1)\r\n",
        "    # self.conv4 = nn.Conv2d(in_channels=32, out_channels=64, kernel_size=3, stride=1)\r\n",
        "    # print(self.conv4.weight.shape)\r\n",
        "    \r\n",
        "    # print(self.conv4.weight)\r\n",
        "    self.dropout1 = nn.Dropout(0.25)\r\n",
        "    self.dropout2 = nn.Dropout(0.5)\r\n",
        "\r\n",
        "    self.fc1 = nn.Linear(500000, 128) \r\n",
        "    self.fc2 = nn.Linear(128, 3)\r\n",
        "\r\n",
        "  def forward(self, x):\r\n",
        "    x = self.conv1(x.permute(0, 3, 1, 2))\r\n",
        "    x = F.relu(x)\r\n",
        "\r\n",
        "    x = self.conv2(x)\r\n",
        "    x = F.relu(x)\r\n",
        "\r\n",
        "    x = self.conv3(x)\r\n",
        "    \r\n",
        "    x = F.relu(x)\r\n",
        "\r\n",
        "    # x = self.conv4(x)\r\n",
        "   \r\n",
        "\r\n",
        "    # x = F.relu(x)\r\n",
        "\r\n",
        "    x = F.max_pool2d(x,2)\r\n",
        "    x = self.dropout1(x)\r\n",
        "\r\n",
        "    x = torch.flatten(x, 1)\r\n",
        "    # print(x.size())\r\n",
        "    x = self.fc1(x)\r\n",
        "    x = F.relu(x)\r\n",
        "    x = self.dropout2(x)\r\n",
        "    x = self.fc2(x)\r\n",
        "    output = F.log_softmax(x, dim=1)\r\n",
        "    return output\r\n",
        "\r\n",
        "# temp = ConvNN2()"
      ],
      "execution_count": null,
      "outputs": []
    },
    {
      "cell_type": "markdown",
      "metadata": {
        "id": "-iNRN0e5aOdA"
      },
      "source": [
        "## FCNN1"
      ]
    },
    {
      "cell_type": "code",
      "metadata": {
        "id": "iu4LIajCwTk9"
      },
      "source": [
        "input_size = 256*256*3 #65536\n",
        "output_size = 3\n",
        "\n",
        "class FullyConnectedNN(nn.Module):\n",
        "    \n",
        "    def __init__(self):\n",
        "        super(FullyConnectedNN, self).__init__()\n",
        "        self.l1 = nn.Linear(input_size, 500)\n",
        "        self.l3 = nn.Linear(500, 100 )\n",
        "        self.l6 = nn.Linear(100, output_size)\n",
        "        self.dropout2 = nn.Dropout(0.5)\n",
        "\n",
        "    def forward(self, x):\n",
        "        x = torch.flatten(x, 1)\n",
        "        \n",
        "        x = self.l1(x)\n",
        "        x = F.relu(x)\n",
        "        x = self.dropout2(x)\n",
        "\n",
        "        x = self.l3(x)\n",
        "        x = F.relu(x)\n",
        "        x = self.dropout2(x)\n",
        "\n",
        "        x = self.l6(x)\n",
        "        return x"
      ],
      "execution_count": null,
      "outputs": []
    },
    {
      "cell_type": "markdown",
      "metadata": {
        "id": "V6Zo05IdaTwA"
      },
      "source": [
        "## ResNet50"
      ]
    },
    {
      "cell_type": "code",
      "metadata": {
        "id": "aeZZCcujwW0O"
      },
      "source": [
        "class ResNet50(nn.Module):\n",
        "  def __init__(self):\n",
        "    super(ResNet50, self).__init__()\n",
        "    self.layer1 = resnet50(pretrained=False)\n",
        "    self.layer2 = nn.Softmax(dim=1)\n",
        "  \n",
        "  def forward(self, x):\n",
        "    x = self.layer1(x.permute(0, 3, 1, 2))\n",
        "    x = self.layer2(x)\n",
        "    return x\n"
      ],
      "execution_count": null,
      "outputs": []
    },
    {
      "cell_type": "markdown",
      "metadata": {
        "id": "ugwF-r_iaYuH"
      },
      "source": [
        "## FCNN 2"
      ]
    },
    {
      "cell_type": "code",
      "metadata": {
        "id": "w9_j7KCitv1A"
      },
      "source": [
        "# hyperparameters\n",
        "input_size = 256*256*3 #65536\n",
        "output_size = 3\n",
        "hidden_size = 1000\n",
        "hidden_size0 = 500\n",
        "hidden_size1 = 128\n",
        "hidden_size2 = 84\n",
        "hidden_size3 = 10\n",
        "\n",
        "# many layers FCNN model\n",
        "class FullyConnectedNN2(nn.Module):\n",
        "    \n",
        "    def __init__(self):\n",
        "        super(FullyConnectedNN2, self).__init__()\n",
        "        self.l1 = nn.Linear(input_size, hidden_size)\n",
        "        self.relu = nn.ReLU()\n",
        "        self.l3 = nn.Linear(hidden_size, hidden_size0 )\n",
        "        self.l4 = nn.Linear(hidden_size0, hidden_size1)\n",
        "        self.l5 = nn.Linear(hidden_size1, hidden_size2)\n",
        "        self.l6 = nn.Linear(hidden_size2, output_size)\n",
        "        self.dropout = nn.Dropout(0.5)\n",
        "        self.tanh = nn.Tanh()\n",
        "        self.l7 = nn.Softmax(dim=1)\n",
        "\n",
        "    def forward(self, x):\n",
        "        x = torch.flatten(x, 1)\n",
        "        x = self.l1(x)\n",
        "        x = self.relu(x)\n",
        "        x = self.l3(x)\n",
        "        x = self.relu(x)\n",
        "        x = self.l4(x)\n",
        "        x = self.tanh(x)\n",
        "        x = self.l5(x)\n",
        "        x = self.dropout(x)\n",
        "        x = self.l6(x)\n",
        "        x = self.tanh(x)\n",
        "        x = self.l7(x)\n",
        "        return x"
      ],
      "execution_count": null,
      "outputs": []
    },
    {
      "cell_type": "markdown",
      "metadata": {
        "id": "kXChpvO4uUaU"
      },
      "source": [
        "## Initialize Weights"
      ]
    },
    {
      "cell_type": "code",
      "metadata": {
        "id": "TznylJ4zuXDq"
      },
      "source": [
        "def weights_init_uniform_rule(m):\n",
        "        classname = m.__class__.__name__\n",
        "        # for every Linear layer in a model..\n",
        "        if classname.find('Linear') != -1:\n",
        "            # get the number of the inputs\n",
        "            n = m.in_features\n",
        "            y = 1.0/np.sqrt(n)\n",
        "            m.weight.data.uniform_(-y, y)\n",
        "            m.bias.data.fill_(0)"
      ],
      "execution_count": null,
      "outputs": []
    },
    {
      "cell_type": "markdown",
      "metadata": {
        "id": "yo100L7xW1ZN"
      },
      "source": [
        "# Get Metrics"
      ]
    },
    {
      "cell_type": "code",
      "metadata": {
        "id": "LrIDb7lqSEPi"
      },
      "source": [
        "def get_metrics(pred, labels):\r\n",
        "  # pred = torch.exp(torch.tensor(pred)) # get probabilities back\r\n",
        "  pred = torch.tensor(pred)\r\n",
        "  _, pred = torch.max(pred, 1)\r\n",
        "  # _, pred = torch.max(torch.tensor(pred), 1)\r\n",
        "  # print(pred)\r\n",
        "  f1 = f1_score(labels, pred.cpu(), average='weighted')\r\n",
        "  r = recall_score(labels, pred.cpu(), average='weighted')\r\n",
        "  p = precision_score(labels, pred.cpu(), average='weighted')\r\n",
        "  a = accuracy_score(labels, pred.cpu())\r\n",
        "  print(\"f1 score: \", f1)\r\n",
        "  print(\"recall: \", r)\r\n",
        "  print(\"precision: \", p)\r\n",
        "  print(\"accuracy: \", a)\r\n"
      ],
      "execution_count": null,
      "outputs": []
    },
    {
      "cell_type": "markdown",
      "metadata": {
        "id": "hk-4diZGS760"
      },
      "source": [
        "# Models Training and Testing"
      ]
    },
    {
      "cell_type": "code",
      "metadata": {
        "id": "NYcfXgUsC9eJ"
      },
      "source": [
        "def run_model(model, dataloader, optimizer, scheduler, train = True):\r\n",
        "  if train:\r\n",
        "    model.train()\r\n",
        "  else:\r\n",
        "    model.eval()\r\n",
        "\r\n",
        "  pred = []\r\n",
        "  labels = []\r\n",
        "  loss = nn.CrossEntropyLoss()\r\n",
        "  total_loss = 0\r\n",
        "\r\n",
        "  for (data, label) in dataloader:  \r\n",
        "      # zero the parameter gradients\r\n",
        "      optimizer.zero_grad()\r\n",
        "      # forward + backward + optimize\r\n",
        "      with torch.set_grad_enabled(train == True):\r\n",
        "        output = model(data)\r\n",
        "        loss_ = loss(output, label)\r\n",
        "\r\n",
        "      total_loss += loss_.item()\r\n",
        "\r\n",
        "      if train:\r\n",
        "        loss_.backward()\r\n",
        "        optimizer.step()\r\n",
        "\r\n",
        "      pred += output.tolist()\r\n",
        "      labels += label.tolist()\r\n",
        "        \r\n",
        "\r\n",
        "  return labels,pred,total_loss/len(dataloader)"
      ],
      "execution_count": null,
      "outputs": []
    },
    {
      "cell_type": "code",
      "metadata": {
        "id": "PzvaLj9dqUis"
      },
      "source": [
        "def train_model(model, optimizer, scheduler, epoch):\r\n",
        "\r\n",
        "  for e in range(epoch):\r\n",
        "    print(\"\\n**********epoch: \", e, \"\\n\")\r\n",
        "    labels, pred, loss = run_model(model, train_dataloader, optimizer, scheduler, train=True)\r\n",
        "    print(\"\\ntrain:\\n\") \r\n",
        "    print(\"loss: \", loss)\r\n",
        "    get_metrics(pred, labels)\r\n",
        "\r\n",
        "    with torch.no_grad():\r\n",
        "      labels, pred, loss = run_model(model, cv_dataloader, optimizer, scheduler, train=False)\r\n",
        "      scheduler.step(loss)\r\n",
        "      print(\"\\nvalidation:\\n\")\r\n",
        "      print(\"loss: \", loss)\r\n",
        "      get_metrics(pred, labels)"
      ],
      "execution_count": null,
      "outputs": []
    },
    {
      "cell_type": "code",
      "metadata": {
        "id": "J-W-sJCXrLkq"
      },
      "source": [
        "def test_model(model, optimizer, scheduler):\r\n",
        "  with torch.no_grad():\r\n",
        "    labels, pred, loss = run_model(model, test_dataloader, optimizer, scheduler, train=False)\r\n",
        "    print(\"test: \")\r\n",
        "    print(\"loss: \", loss)\r\n",
        "    print(pred)\r\n",
        "    print(torch.exp(torch.tensor(pred)))\r\n",
        "    print(labels)\r\n",
        "\r\n",
        "    get_metrics(pred, labels)"
      ],
      "execution_count": null,
      "outputs": []
    },
    {
      "cell_type": "markdown",
      "metadata": {
        "id": "9P3426DGhNl0"
      },
      "source": [
        "# ConvNN Training"
      ]
    },
    {
      "cell_type": "code",
      "metadata": {
        "colab": {
          "base_uri": "https://localhost:8080/"
        },
        "id": "C-gg_YZAqjhV",
        "outputId": "36e72321-c67f-4c54-bfbd-2e5c356b3b65"
      },
      "source": [
        "convNN_model = ConvNN()\r\n",
        "torch.set_default_tensor_type('torch.cuda.FloatTensor')\r\n",
        "convNN_model.cuda()\r\n",
        "optimizer = torch.optim.Adam(convNN_model.parameters(), 0.0000001, weight_decay=0.01)\r\n",
        "scheduler = torch.optim.lr_scheduler.ReduceLROnPlateau(optimizer, patience=5, factor=0.3, threshold=0.0001) \r\n",
        "epoch = 15\r\n",
        "train_model(convNN_model, optimizer, scheduler, epoch)"
      ],
      "execution_count": null,
      "outputs": [
        {
          "output_type": "stream",
          "text": [
            "\n",
            "**********epoch:  0 \n",
            "\n",
            "\n",
            "train:\n",
            "\n",
            "loss:  1.56740935869191\n",
            "f1 score:  0.5754908500740619\n",
            "recall:  0.5777100565955594\n",
            "precision:  0.5739427176545164\n",
            "accuracy:  0.5777100565955594\n",
            "\n",
            "validation:\n",
            "\n",
            "loss:  0.608917397679761\n",
            "f1 score:  0.7446694905457457\n",
            "recall:  0.7558746736292428\n",
            "precision:  0.8015017656914472\n",
            "accuracy:  0.7558746736292428\n",
            "\n",
            "**********epoch:  1 \n",
            "\n",
            "\n",
            "train:\n",
            "\n",
            "loss:  0.7114696058035707\n",
            "f1 score:  0.6774198106275648\n",
            "recall:  0.6804527644754027\n",
            "precision:  0.6760392612571887\n",
            "accuracy:  0.6804527644754027\n",
            "\n",
            "validation:\n",
            "\n",
            "loss:  0.519385039845171\n",
            "f1 score:  0.8186737226919126\n",
            "recall:  0.8198433420365535\n",
            "precision:  0.8331706124740287\n",
            "accuracy:  0.8198433420365535\n",
            "\n",
            "**********epoch:  2 \n",
            "\n",
            "\n",
            "train:\n",
            "\n",
            "loss:  0.6170627337726562\n",
            "f1 score:  0.7316062331654064\n",
            "recall:  0.7331301697866782\n",
            "precision:  0.7309120929837853\n",
            "accuracy:  0.7331301697866782\n",
            "\n",
            "validation:\n",
            "\n",
            "loss:  0.43302673877527315\n",
            "f1 score:  0.8481305472668015\n",
            "recall:  0.8485639686684073\n",
            "precision:  0.8509206285924394\n",
            "accuracy:  0.8485639686684073\n",
            "\n",
            "**********epoch:  3 \n",
            "\n",
            "\n",
            "train:\n",
            "\n",
            "loss:  0.5782052662328857\n",
            "f1 score:  0.7334556488171772\n",
            "recall:  0.7344362211580322\n",
            "precision:  0.7334056585218162\n",
            "accuracy:  0.7344362211580322\n",
            "\n",
            "validation:\n",
            "\n",
            "loss:  0.4589309036625006\n",
            "f1 score:  0.7873002801397642\n",
            "recall:  0.7963446475195822\n",
            "precision:  0.8448157177359109\n",
            "accuracy:  0.7963446475195822\n",
            "\n",
            "**********epoch:  4 \n",
            "\n",
            "\n",
            "train:\n",
            "\n",
            "loss:  0.5372962355937647\n",
            "f1 score:  0.7603506139195005\n",
            "recall:  0.760992599042229\n",
            "precision:  0.7604959057060323\n",
            "accuracy:  0.760992599042229\n",
            "\n",
            "validation:\n",
            "\n",
            "loss:  0.3778597167887104\n",
            "f1 score:  0.8492876304992574\n",
            "recall:  0.8511749347258486\n",
            "precision:  0.8569060543631192\n",
            "accuracy:  0.8511749347258486\n",
            "\n",
            "**********epoch:  5 \n",
            "\n",
            "\n",
            "train:\n",
            "\n",
            "loss:  0.49543010582580516\n",
            "f1 score:  0.7858711436281178\n",
            "recall:  0.7866782760121898\n",
            "precision:  0.7857560510679342\n",
            "accuracy:  0.7866782760121898\n",
            "\n",
            "validation:\n",
            "\n",
            "loss:  0.38762789122605074\n",
            "f1 score:  0.853147003326339\n",
            "recall:  0.8550913838120104\n",
            "precision:  0.8681412843364879\n",
            "accuracy:  0.8550913838120104\n",
            "\n",
            "**********epoch:  6 \n",
            "\n",
            "\n",
            "train:\n",
            "\n",
            "loss:  0.4793756237545091\n",
            "f1 score:  0.7992403089726049\n",
            "recall:  0.7997387897257292\n",
            "precision:  0.799571217354583\n",
            "accuracy:  0.7997387897257292\n",
            "\n",
            "validation:\n",
            "\n",
            "loss:  0.3669520132243633\n",
            "f1 score:  0.8726913268410134\n",
            "recall:  0.8733681462140992\n",
            "precision:  0.8757156631033199\n",
            "accuracy:  0.8733681462140992\n",
            "\n",
            "**********epoch:  7 \n",
            "\n",
            "\n",
            "train:\n",
            "\n",
            "loss:  0.4475463043420535\n",
            "f1 score:  0.8217769209104654\n",
            "recall:  0.8223770134958641\n",
            "precision:  0.8216666169056718\n",
            "accuracy:  0.8223770134958641\n",
            "\n",
            "validation:\n",
            "\n",
            "loss:  0.34889843785398017\n",
            "f1 score:  0.8585368354088433\n",
            "recall:  0.860313315926893\n",
            "precision:  0.8684954881916986\n",
            "accuracy:  0.860313315926893\n",
            "\n",
            "**********epoch:  8 \n",
            "\n",
            "\n",
            "train:\n",
            "\n",
            "loss:  0.43817743592561503\n",
            "f1 score:  0.8191780720538134\n",
            "recall:  0.8193295602960383\n",
            "precision:  0.8196493326102515\n",
            "accuracy:  0.8193295602960383\n",
            "\n",
            "validation:\n",
            "\n",
            "loss:  0.3339966603659074\n",
            "f1 score:  0.8718671862521222\n",
            "recall:  0.8733681462140992\n",
            "precision:  0.8757334904719682\n",
            "accuracy:  0.8733681462140992\n",
            "\n",
            "**********epoch:  9 \n",
            "\n",
            "\n",
            "train:\n",
            "\n",
            "loss:  0.4002473186108324\n",
            "f1 score:  0.8368558483739054\n",
            "recall:  0.8376142794949935\n",
            "precision:  0.8366654720291734\n",
            "accuracy:  0.8376142794949935\n",
            "\n",
            "validation:\n",
            "\n",
            "loss:  0.30402712494833395\n",
            "f1 score:  0.8849962654657658\n",
            "recall:  0.8851174934725848\n",
            "precision:  0.8908272992482176\n",
            "accuracy:  0.8851174934725848\n",
            "\n",
            "**********epoch:  10 \n",
            "\n",
            "\n",
            "train:\n",
            "\n",
            "loss:  0.37976015702294913\n",
            "f1 score:  0.8430976236896295\n",
            "recall:  0.8432738354375272\n",
            "precision:  0.8434620441324785\n",
            "accuracy:  0.8432738354375272\n",
            "\n",
            "validation:\n",
            "\n",
            "loss:  0.3060212479176698\n",
            "f1 score:  0.8827771762983113\n",
            "recall:  0.8838120104438643\n",
            "precision:  0.8865580103308259\n",
            "accuracy:  0.8838120104438643\n",
            "\n",
            "**********epoch:  11 \n",
            "\n",
            "\n",
            "train:\n",
            "\n",
            "loss:  0.364943170570161\n",
            "f1 score:  0.8552174600807999\n",
            "recall:  0.8554636482368306\n",
            "precision:  0.8553829533281359\n",
            "accuracy:  0.8554636482368306\n",
            "\n",
            "validation:\n",
            "\n",
            "loss:  0.3043423302442534\n",
            "f1 score:  0.8720156551364467\n",
            "recall:  0.8733681462140992\n",
            "precision:  0.8734392655462891\n",
            "accuracy:  0.8733681462140992\n",
            "\n",
            "**********epoch:  12 \n",
            "\n",
            "\n",
            "train:\n",
            "\n",
            "loss:  0.35446700215648413\n",
            "f1 score:  0.8682367707016057\n",
            "recall:  0.8685241619503701\n",
            "precision:  0.8685604107491133\n",
            "accuracy:  0.8685241619503701\n",
            "\n",
            "validation:\n",
            "\n",
            "loss:  0.26629546522841946\n",
            "f1 score:  0.8851408361434299\n",
            "recall:  0.8851174934725848\n",
            "precision:  0.8858805572672969\n",
            "accuracy:  0.8851174934725848\n",
            "\n",
            "**********epoch:  13 \n",
            "\n",
            "\n",
            "train:\n",
            "\n",
            "loss:  0.3508186644704446\n",
            "f1 score:  0.8692725995016124\n",
            "recall:  0.869394862864606\n",
            "precision:  0.8697321395276489\n",
            "accuracy:  0.869394862864606\n",
            "\n",
            "validation:\n",
            "\n",
            "loss:  0.28406536438221036\n",
            "f1 score:  0.890333281585534\n",
            "recall:  0.8903394255874674\n",
            "precision:  0.8960871097177194\n",
            "accuracy:  0.8903394255874674\n",
            "\n",
            "**********epoch:  14 \n",
            "\n",
            "\n",
            "train:\n",
            "\n",
            "loss:  0.33851870251415833\n",
            "f1 score:  0.8678932151967452\n",
            "recall:  0.8680888114932521\n",
            "precision:  0.8681512313708551\n",
            "accuracy:  0.8680888114932521\n",
            "\n",
            "validation:\n",
            "\n",
            "loss:  0.2929813120814894\n",
            "f1 score:  0.892407147673761\n",
            "recall:  0.8929503916449086\n",
            "precision:  0.8993371883224196\n",
            "accuracy:  0.8929503916449086\n"
          ],
          "name": "stdout"
        }
      ]
    },
    {
      "cell_type": "markdown",
      "metadata": {
        "id": "Nu_muZXCTBi0"
      },
      "source": [
        "# ConvNN Testing"
      ]
    },
    {
      "cell_type": "code",
      "metadata": {
        "id": "0HGBoN9-bn9m",
        "colab": {
          "base_uri": "https://localhost:8080/"
        },
        "outputId": "e17d002f-8cad-49a8-c9c6-2950d188ab23"
      },
      "source": [
        "test_model(convNN_model, optimizer, scheduler)"
      ],
      "execution_count": null,
      "outputs": [
        {
          "output_type": "stream",
          "text": [
            "test: \n",
            "loss:  0.2628325190792869\n",
            "[[-0.002975443610921502, -6.327452182769775, -6.73854398727417], [-6.216653823852539, -0.39576029777526855, -1.1244347095489502], [-0.029449280351400375, -4.161752700805664, -4.309554100036621], [-8.49248218536377, -0.07039942592382431, -2.6915833950042725], [-0.30678218603134155, -3.8276150226593018, -1.4170515537261963], [-0.0005298641044646502, -8.029641151428223, -8.49710464477539], [-3.662538528442383, -4.459349632263184, -0.037948109209537506], [-6.371342182159424, -1.5706210136413574, -0.23524898290634155], [-0.09038940072059631, -3.9734151363372803, -2.6939165592193604], [-7.028767108917236, -2.3325676918029785, -0.1030656099319458], [-0.005440903827548027, -7.263734817504883, -5.354755878448486], [-6.240358352661133, -0.8339428901672363, -0.5732021331787109], [-10.392414093017578, -2.034060478210449, -0.14022113382816315], [-3.073364019393921, -3.0593678951263428, -0.09781425446271896], [-7.201408386230469, -0.08779143542051315, -2.4852752685546875], [-6.480310916900635, -0.4543215334415436, -1.0117336511611938], [-8.005518913269043, -0.06051556020975113, -2.840657949447632], [-6.566197395324707, -0.4858732223510742, -0.958590030670166], [-10.598906517028809, -0.07112590223550797, -2.679018497467041], [-0.025131648406386375, -4.209125995635986, -4.609273910522461], [-1.230644941329956, -0.47117507457733154, -2.481381893157959], [-1.0474512577056885, -4.306737422943115, -0.4530414938926697], [-1.1920922133867862e-06, -15.033221244812012, -13.87026596069336], [-1.0554237365722656, -2.2070207595825195, -0.6126236319541931], [-6.925901889801025, -1.981208324432373, -0.14952656626701355], [-10.10175895690918, -0.21161359548568726, -1.6571497917175293], [-6.033842086791992, -3.7638866901397705, -0.02592276968061924], [-0.00010787858627736568, -11.330864906311035, -9.253283500671387], [-1.5763485431671143, -1.6845149993896484, -0.4980129599571228], [-0.043800532817840576, -3.6064770221710205, -4.153600692749023], [-10.7993803024292, -2.748824119567871, -0.06616490334272385], [-0.9969476461410522, -0.5843483209609985, -2.6101040840148926], [-9.394763946533203, -0.5025373697280884, -0.9290639162063599], [-8.655445098876953, -0.029292196035385132, -3.5510945320129395], [-11.585515022277832, -1.76213538646698, -0.1883644014596939], [-0.01139525044709444, -5.280270576477051, -5.076850891113281], [-0.0008002892718650401, -7.71499490737915, -7.946527481079102], [-0.061367202550172806, -5.14750862121582, -2.9241883754730225], [-10.21561050415039, -0.022283639758825302, -3.816683292388916], [-1.3298213481903076, -3.6377689838409424, -0.34366780519485474], [-7.476644039154053, -0.32477298378944397, -1.2846680879592896], [-1.4695883989334106, -2.3802287578582764, -0.3894188702106476], [-9.86952018737793, -0.007374446373432875, -4.92048454284668], [-11.54344367980957, -0.01199108362197876, -4.430392742156982], [-7.116541382856667e-05, -10.806506156921387, -9.885360717773438], [-3.2654497623443604, -3.130009651184082, -0.08544579893350601], [-0.321171373128891, -4.4340620040893555, -1.3362292051315308], [-0.0038086273707449436, -5.7510199546813965, -7.382786273956299], [-2.4133970737457275, -2.3514440059661865, -0.2042510211467743], [-7.953730583190918, -0.011039608158171177, -4.544309616088867], [-9.688958168029785, -1.6743441820144653, -0.20763078331947327], [-0.6274062991142273, -3.047290563583374, -0.8709885478019714], [-9.078280448913574, -0.13264808058738708, -2.0865659713745117], [-2.335068464279175, -0.21842442452907562, -2.308483123779297], [-2.6081042289733887, -0.8965243101119995, -0.6571224927902222], [-0.0036418798845261335, -8.712610244750977, -5.663372993469238], [-8.516321182250977, -0.11898669600486755, -2.1894335746765137], [-5.553141117095947, -1.9730929136276245, -0.15420234203338623], [-0.07560647279024124, -4.284694194793701, -2.8295211791992188], [-4.40730619430542, -1.7457388639450073, -0.2066601812839508], [-4.484167575836182, -2.4711155891418457, -0.10067903995513916], [-2.6185340881347656, -2.7830183506011963, -0.144749715924263], [-0.11186517775058746, -5.307570457458496, -2.2938108444213867], [-1.6271435022354126, -2.8935375213623047, -0.2901786267757416], [-3.6954811548639555e-06, -13.311028480529785, -13.080366134643555], [-0.0006551980040967464, -9.947073936462402, -7.4067840576171875], [-6.378490924835205, -2.1412782669067383, -0.12692731618881226], [-10.329202651977539, -0.041709739714860916, -3.1986029148101807], [-1.0347257852554321, -3.23211669921875, -0.5021923780441284], [-7.812346458435059, -0.34142830967903137, -1.2418794631958008], [-0.00048637480358593166, -9.185494422912598, -7.865469932556152], [-5.533258438110352, -0.10968286544084549, -2.3032991886138916], [-0.019071074202656746, -4.636882305145264, -4.688274383544922], [-0.00027938754647038877, -9.088374137878418, -8.70130443572998], [-8.532180786132812, -1.0111628770828247, -0.45254525542259216], [-9.143316268920898, -0.0714384987950325, -2.6759769916534424], [-9.47727108001709, -0.07787669450044632, -2.592336416244507], [-7.792390823364258, -2.2195932865142822, -0.11548501253128052], [-2.2138736248016357, -3.3431575298309326, -0.15618817508220673], [-11.509726524353027, -0.009435582906007767, -4.669044017791748], [-0.006943383254110813, -5.6073455810546875, -5.729544162750244], [-0.050114620476961136, -4.611992359161377, -3.245537757873535], [-1.1920928244535389e-07, -17.78502082824707, -16.449018478393555], [-9.664599418640137, -0.04842175170779228, -3.053264617919922], [-8.396425247192383, -3.4076924324035645, -0.03391176834702492], [-8.108501434326172, -1.6275132894515991, -0.2190498411655426], [-0.04214321821928024, -5.544189929962158, -3.2872228622436523], [-6.74237060546875, -0.20286253094673157, -1.7013905048370361], [-2.9406633377075195, -0.49024468660354614, -1.0945420265197754], [-0.004257543478161097, -5.773402690887451, -6.777358531951904], [-6.086251258850098, -0.7730523943901062, -0.6233894228935242], [-6.316627502441406, -0.17728625237941742, -1.8285027742385864], [-1.4305104514278355e-06, -17.280088424682617, -13.45793628692627], [-7.462222856702283e-05, -11.271286010742188, -9.690020561218262], [-10.131769180297852, -0.014133007265627384, -4.269138813018799], [-4.103560447692871, -2.5881214141845703, -0.09615298360586166], [-9.544940948486328, -0.007302970625460148, -4.933006286621094], [-10.009310722351074, -0.01562812738120556, -4.1693902015686035], [-4.793481349945068, -0.2758544385433197, -1.4576054811477661], [-6.144567489624023, -0.49440333247184753, -0.946955680847168], [-7.144761562347412, -2.5423378944396973, -0.08280707150697708], [-0.043445732444524765, -4.4976887702941895, -3.4615607261657715], [-0.0009884715545922518, -9.063244819641113, -7.044663906097412], [-8.082063141046092e-05, -12.411172866821289, -9.474638938903809], [-0.0016918168403208256, -8.611528396606445, -6.496704578399658], [-0.023128153756260872, -4.130573749542236, -4.992431640625], [-8.992352485656738, -0.10415026545524597, -2.3148016929626465], [-6.420589923858643, -1.0575720071792603, -0.4291315972805023], [-0.011795535683631897, -7.6486663818359375, -4.487423419952393], [-2.7418097943154862e-06, -14.187782287597656, -13.107342720031738], [-8.464203834533691, -2.9484188556671143, -0.054069165140390396], [-5.631422519683838, -0.03196621686220169, -3.5799448490142822], [-5.554141044616699, -2.6335530281066895, -0.07871236652135849], [-8.747028350830078, -1.7216296195983887, -0.19715119898319244], [-0.7115247845649719, -1.5125627517700195, -1.2421579360961914], [-2.6745879650115967, -1.5701931715011597, -0.32426342368125916], [-11.90625, -0.007767827715724707, -4.862524509429932], [-7.467522621154785, -0.21445994079113007, -1.6479110717773438], [-11.282085418701172, -0.008959213271737099, -4.720963478088379], [-0.0021663072984665632, -9.209957122802734, -6.183125019073486], [-0.0605987049639225, -2.950162172317505, -5.040913105010986], [-2.753696753643453e-05, -11.596529006958008, -10.903304100036621], [-4.7834696769714355, -2.616198778152466, -0.08495568484067917], [-0.04214470461010933, -7.775994300842285, -3.1978652477264404], [-0.46594661474227905, -3.6886560916900635, -1.0571238994598389], [-0.011662517674267292, -5.2709527015686035, -5.042723178863525], [-9.01806640625, -0.037811294198036194, -3.2972664833068848], [-8.978680610656738, -1.101247787475586, -0.40433889627456665], [-0.03266657516360283, -3.6696906089782715, -5.0124664306640625], [-12.604072570800781, -0.00920835230499506, -4.692617416381836], [-6.141410827636719, -0.15412214398384094, -1.961261510848999], [-3.075012445449829, -4.078075885772705, -0.06520979106426239], [-0.008901437744498253, -6.7407684326171875, -4.869113922119141], [-7.4927897453308105, -2.3939037322998047, -0.09632350504398346], [-0.00024339574156329036, -9.841672897338867, -8.567580223083496], [-11.163651466369629, -0.06624646484851837, -2.7475342750549316], [-1.0967194612021558e-05, -11.87996768951416, -12.408153533935547], [-6.463891506195068, -2.1135382652282715, -0.1305284947156906], [-8.392231941223145, -4.036391735076904, -0.018049631267786026], [-0.5415700674057007, -1.1273573637008667, -2.3615078926086426], [-0.009032106027007103, -9.524147033691406, -4.719632148742676], [-1.5302095413208008, -0.7386441826820374, -1.1849923133850098], [-2.5979039669036865, -0.3066369891166687, -1.6625595092773438], [-9.372201919555664, -1.7368183135986328, -0.19378477334976196], [-6.687114715576172, -0.06568478047847748, -2.7753591537475586], [-0.973343014717102, -2.923124313354492, -0.5649005174636841], [-5.282074451446533, -2.0762412548065186, -0.13981686532497406], [-0.005330753047019243, -5.673416614532471, -6.276198863983154], [-9.664677619934082, -0.023432830348610878, -3.7680535316467285], [-0.03874040022492409, -6.492510795593262, -3.3108556270599365], [-5.8468475341796875, -0.025364935398101807, -3.809603214263916], [-6.736502170562744, -2.431103229522705, -0.09335129708051682], [-0.01806812919676304, -6.6074442863464355, -4.1010284423828125], [-12.625883102416992, -0.012270438484847546, -4.406959056854248], [-0.0033980030566453934, -6.015050888061523, -6.958436012268066], [-0.005778868217021227, -9.398144721984863, -5.17092752456665], [-7.37934684753418, -0.12989836931228638, -2.110384702682495], [-8.85529613494873, -2.8142244815826416, -0.061975233256816864], [-7.098507404327393, -0.36314213275909424, -1.1917606592178345], [-7.4056291580200195, -0.04168446734547615, -3.2133963108062744], [-2.06815767288208, -3.2010154724121094, -0.18288888037204742], [-0.00018737945356406271, -11.24023151397705, -8.654869079589844], [-5.130118370056152, -0.9147515892982483, -0.5217719674110413], [-0.08194516599178314, -3.269174814224243, -3.203009843826294], [-10.826520919799805, -0.011275380849838257, -4.492543697357178], [-5.767209053039551, -0.24824443459510803, -1.5292307138442993], [-3.2622478008270264, -1.5390803813934326, -0.29153019189834595], [-3.5782206058502197, -3.3511836528778076, -0.06503812223672867], [-4.5160956382751465, -4.902723789215088, -0.018528595566749573], [-8.767194747924805, -2.828896999359131, -0.061060525476932526], [-0.010477771982550621, -7.939493656158447, -4.598522663116455], [-6.975251197814941, -0.028035324066877365, -3.6226725578308105], [-7.388519287109375, -3.2301056385040283, -0.041000813245773315], [-5.657735347747803, -2.3537020683288574, -0.10370319336652756], [-8.301249504089355, -0.02001984976232052, -3.933626890182495], [-10.439008712768555, -0.015610874630510807, -4.169471740722656], [-4.451103210449219, -3.421436309814453, -0.045343805104494095], [-1.2453038692474365, -1.5259268283843994, -0.7037490606307983], [-7.855121612548828, -2.130307197570801, -0.12691166996955872], [-8.341617584228516, -0.08808816969394684, -2.475969076156616], [-8.439821243286133, -0.017624201253056526, -4.059730529785156], [-8.251954078674316, -0.03601914271712303, -3.349057912826538], [-0.00018404220463708043, -9.310956001281738, -9.276528358459473], [-0.07123725861310959, -2.764392375946045, -5.159477710723877], [-9.570669174194336, -0.10724587738513947, -2.286461353302002], [-0.0001134808044298552, -10.588276863098145, -9.333889961242676], [-7.221199035644531, -0.15779191255569458, -1.9293568134307861], [-7.827698707580566, -0.09120292961597443, -2.4445059299468994], [-7.545517444610596, -2.2916340827941895, -0.10717284679412842], [-0.013472940772771835, -5.43325662612915, -4.709011554718018], [-4.125710964202881, -0.7139394283294678, -0.7049429416656494], [-8.576144218444824, -2.897799015045166, -0.0569227933883667], [-5.990673542022705, -0.0166699830442667, -4.266571998596191], [-9.610211372375488, -0.0723021849989891, -2.6637957096099854], [-8.940656698541716e-06, -13.184940338134766, -11.859211921691895], [-0.022004736587405205, -4.464621067047119, -4.579960346221924], [-9.564830780029297, -0.0782761499285698, -2.587327480316162], [-10.393546104431152, -0.025797193869948387, -3.671565294265747], [-9.533418655395508, -0.018220549449324608, -4.018321990966797], [-10.247249603271484, -0.027811354026198387, -3.5974791049957275], [-1.6984678506851196, -0.3634962737560272, -2.1054155826568604], [-5.351011276245117, -4.269412517547607, -0.01891106367111206], [-4.630192279815674, -0.07172803580760956, -2.822399616241455], [-7.404915809631348, -0.08063314855098724, -2.5657734870910645], [-0.60224449634552, -4.604646682739258, -0.8155101537704468], [-6.0887370109558105, -1.2193635702133179, -0.35337531566619873], [-0.000125281119835563, -10.823513984680176, -9.158535957336426], [-0.1791265606880188, -3.8620715141296387, -1.9450812339782715], [-8.44345474243164, -2.3989434242248535, -0.09544229507446289], [-10.172191619873047, -0.023249290883541107, -3.7747485637664795], [-8.52364730834961, -0.024722710251808167, -3.7205398082733154], [-0.09558726847171783, -3.031315565109253, -3.1486778259277344], [-4.768370445162873e-07, -16.28680419921875, -14.97905158996582], [-9.649765968322754, -0.07610085606575012, -2.6143851280212402], [-13.179350852966309, -0.0008075552177615464, -7.124242305755615], [-4.52544641494751, -0.46410638093948364, -1.0203368663787842], [-11.629964828491211, -0.0503389798104763, -3.0142199993133545], [-5.638440416078083e-05, -10.025248527526855, -11.31614875793457], [-3.2016234397888184, -0.09951118379831314, -2.918325424194336], [-11.367810249328613, -0.01187894307076931, -4.439905643463135], [-0.00016223068814724684, -10.827042579650879, -8.857653617858887], [-0.09188857674598694, -6.319738864898682, -2.4534928798675537], [-3.838465272565372e-05, -12.734387397766113, -10.249893188476562], [-8.666000366210938, -0.1413169652223587, -2.0278854370117188], [-9.03790283203125, -0.8412647247314453, -0.5643734931945801], [-0.00015496007108595222, -11.766810417175293, -8.823694229125977], [-6.573653221130371, -0.20979119837284088, -1.6721124649047852], [-11.478619575500488, -0.007806980051100254, -4.857973098754883], [-9.14286994934082, -1.449720859527588, -0.2675432860851288], [-5.986621856689453, -0.33903083205223083, -1.2551699876785278], [-0.004904857836663723, -5.370882034301758, -8.323034286499023], [-10.926405906677246, -0.03984392434358597, -3.2431015968322754], [-7.999299049377441, -0.1308777630329132, -2.100957155227661], [-8.220738410949707, -0.34897130727767944, -1.2230958938598633], [-8.299517631530762, -2.0179150104522705, -0.14292508363723755], [-5.915693759918213, -0.050039105117321014, -3.0767033100128174], [-5.891911506652832, -2.029346227645874, -0.14408184587955475], [-10.711822509765625, -0.07785927504301071, -2.5918266773223877], [-5.411955135059543e-05, -12.999077796936035, -9.868048667907715], [-11.907808303833008, -0.01998000405728817, -3.923336982727051], [-0.015511698089540005, -9.4708251953125, -4.178928375244141], [-0.005475286394357681, -5.260453224182129, -8.22673511505127], [-7.8609514236450195, -0.12544257938861847, -2.1412487030029297], [-10.892045974731445, -0.16676965355873108, -1.8734890222549438], [-9.563471794128418, -0.0423341803252697, -3.1849493980407715], [-4.9837870597839355, -0.039583854377269745, -3.443189859390259], [-11.665810585021973, -0.010602454654872417, -4.5527849197387695], [-11.190470695495605, -0.0031863891053944826, -5.754810810089111], [-0.007041519042104483, -6.762886047363281, -5.13945198059082], [-0.0008540081907995045, -10.586050987243652, -7.096015453338623], [-0.032691843807697296, -6.1602463722229, -3.5048415660858154], [-8.567876815795898, -3.9799656867980957, -0.019056804478168488], [-6.792524814605713, -1.8769603967666626, -0.1674448400735855], [-1.3847869634628296, -2.8728485107421875, -0.3666023015975952], [-11.090083122253418, -3.12328839302063, -0.045026134699583054], [-8.639225006103516, -0.04922803118824959, -3.0394980907440186], [-6.42590856552124, -2.4781711101531982, -0.08939491212368011], [-0.001141373417340219, -7.371315956115723, -7.577788352966309], [-1.3138130903244019, -0.4347575604915619, -2.4794981479644775], [-1.5715091228485107, -2.167933940887451, -0.38882213830947876], [-3.3459019660949707, -4.252422332763672, -0.05072307214140892], [-4.6064558029174805, -0.2411932349205017, -1.5880529880523682], [-0.07840489596128464, -2.80716872215271, -4.197421073913574], [-7.338722229003906, -0.07744916528463364, -2.6053659915924072], [-0.0017369197448715568, -6.415916919708252, -9.209030151367188], [-10.510441780090332, -0.6288009285926819, -0.7619786858558655], [-3.497406244277954, -0.20856648683547974, -1.8453049659729004], [-3.95434832572937, -0.24955372512340546, -1.6010708808898926], [-6.773057460784912, -1.3383843898773193, -0.3057282567024231], [-1.6073288917541504, -2.0840041637420654, -0.392825186252594], [-9.580940246582031, -4.827179908752441, -0.008110919035971165], [-0.00868224073201418, -6.549387454986572, -4.931775093078613], [-8.637174606323242, -0.12136222422122955, -2.170596122741699], [-2.7291903495788574, -2.6264488697052, -0.14804419875144958], [-0.44365590810775757, -1.4833459854125977, -2.029231548309326], [-0.0023648173082619905, -6.759728908538818, -6.7234110832214355], [-8.581120491027832, -0.048710983246564865, -3.050060510635376], [-2.591297149658203, -2.0682976245880127, -0.22479937970638275], [-8.11037540435791, -1.762815237045288, -0.18857499957084656], [-8.597074508666992, -0.01222262904047966, -4.42588472366333], [-1.8249444961547852, -4.350046634674072, -0.19132131338119507], [-9.216094017028809, -2.9854044914245605, -0.05194463953375816], [-7.304479598999023, -0.570717453956604, -0.8342324495315552], [-9.520451545715332, -0.03537831827998161, -3.361403703689575], [-7.416927337646484, -2.1200578212738037, -0.12854456901550293], [-0.0008397151832468808, -9.574752807617188, -7.169149398803711], [-0.0031562058720737696, -6.023757457733154, -7.221519947052002], [-0.0004601611872203648, -9.7119779586792, -7.82522439956665], [-0.0014990055933594704, -8.128408432006836, -6.723104000091553], [-12.134897232055664, -0.12917470932006836, -2.110525608062744], [-10.46251106262207, -1.0839345455169678, -0.4129287600517273], [-7.816976070404053, -2.849243402481079, -0.06005887687206268], [-11.713950157165527, -4.184967517852783, -0.01534806564450264], [-10.8643217086792, -4.969541549682617, -0.006989907473325729], [-10.447125434875488, -0.01408916525542736, -4.271460056304932], [-10.729029655456543, -0.18666893243789673, -1.770430088043213], [-8.344646857949556e-07, -14.417130470275879, -15.077220916748047], [-13.182908058166504, -0.0069320183247327805, -4.975345611572266], [-0.0014013956533744931, -8.111244201660156, -6.812145233154297], [-9.395539283752441, -0.05622142180800438, -2.907956600189209], [-9.5770263671875, -0.04078499227762222, -3.221501111984253], [-0.7670180797576904, -3.409268379211426, -0.6880824565887451], [-8.1199312210083, -0.024072159081697464, -3.7513012886047363], [-7.562911033630371, -0.03755035251379013, -3.3149819374084473], [-10.078634262084961, -2.613309621810913, -0.07616161555051804], [-7.370635986328125, -0.2141275256872177, -1.6496086120605469], [-8.805071830749512, -0.012343797832727432, -4.4130659103393555], [-8.965999603271484, -0.05723986402153969, -2.891284704208374], [-1.8736107349395752, -1.8710079193115234, -0.36749982833862305], [-9.95106029510498, -3.615511655807495, -0.02732069231569767], [-0.07960359007120132, -3.5763134956359863, -3.025387763977051], [-0.5158977508544922, -3.852473258972168, -0.9628362655639648], [-0.0022419574670493603, -9.409687995910645, -6.138815879821777], [-0.143081933259964, -2.450246572494507, -3.0566580295562744], [-7.781647205352783, -0.05517159402370453, -2.9325709342956543], [-0.0007678897818550467, -9.87206745147705, -7.2418212890625], [-0.001943843555636704, -6.983799934387207, -6.8926544189453125], [-0.0015887507470324636, -9.739374160766602, -6.483402729034424], [-8.177665710449219, -0.13894806802272797, -2.044492244720459], [-3.370910882949829, -2.108647346496582, -0.16931891441345215], [-7.083481311798096, -0.09168259054422379, -2.44453501701355], [-5.5233988761901855, -0.09262993186712265, -2.47127628326416], [-2.48533296585083, -1.879619836807251, -0.26911669969558716], [-10.377714157104492, -2.1000678539276123, -0.13065455853939056], [-9.166366577148438, -0.1395205706357956, -2.0392956733703613], [-6.92703914642334, -0.06659973412752151, -2.757511615753174], [-7.453543186187744, -1.8891769647598267, -0.16461001336574554], [-4.2245917320251465, -0.38165318965911865, -1.1952213048934937], [-7.816386699676514, -1.9492793083190918, -0.15406031906604767], [-8.71024227142334, -0.22667068243026733, -1.5962657928466797], [-8.796245574951172, -0.4789651036262512, -0.9664672017097473], [-10.324312210083008, -0.03058691695332527, -3.5035269260406494], [-0.0024471119977533817, -6.65678071975708, -6.7602949142456055], [-6.528712749481201, -0.17047642171382904, -1.8625502586364746], [-8.948921203613281, -0.01083337888121605, -4.542665481567383], [-9.456103324890137, -0.09675051271915436, -2.384453058242798], [-10.379842758178711, -0.054909612983465195, -2.9299769401550293], [-4.494089080253616e-05, -10.67098617553711, -10.736021995544434], [-8.743871688842773, -0.5299410820007324, -0.8886733055114746], [-0.003068978199735284, -8.687488555908203, -5.844564437866211], [-4.2199197196168825e-05, -11.388345718383789, -10.384055137634277], [-12.096158027648926, -3.375626802444458, -0.034800752997398376], [-2.777537883957848e-05, -13.190911293029785, -10.560433387756348], [-6.793978691101074, -0.6427084803581238, -0.7486316561698914], [-6.000679016113281, -3.9764702320098877, -0.021457312628626823], [-0.19733929634094238, -4.351321220397949, -1.79457426071167], [-2.3161377906799316, -1.813232421875, -0.3035131096839905], [-0.0015755394706502557, -9.563008308410645, -6.499564170837402], [-7.482048511505127, -4.070104122161865, -0.017796127125620842], [-0.014363822527229786, -6.664543628692627, -4.343893527984619], [-0.8515353202819824, -0.9894373416900635, -1.602189540863037], [-7.522889614105225, -2.1493334770202637, -0.12454603612422943], [-7.128433704376221, -1.1290291547775269, -0.39178264141082764], [-0.0035818961914628744, -5.77225399017334, -7.678365707397461], [-4.710043430328369, -0.022348573431372643, -4.335424900054932], [-7.583922863006592, -0.018104538321495056, -4.049388408660889], [-9.959644317626953, -0.10190140455961227, -2.3347551822662354], [-8.669829368591309, -0.1122584268450737, -2.244174003601074], [-9.390213966369629, -1.8086987733840942, -0.17906776070594788], [-5.542654991149902, -0.04668436944484711, -3.1773672103881836], [-9.433036804199219, -0.25438064336776733, -1.4937758445739746], [-8.408594131469727, -0.3636540472507477, -1.1886066198349], [-0.06356233358383179, -2.8119449615478516, -6.504765033721924], [-0.023768378421664238, -4.554168224334717, -4.345510482788086], [-10.861393928527832, -0.015623901970684528, -4.1679911613464355], [-0.27767258882522583, -4.450435638427734, -1.466282606124878], [-0.00015829740732442588, -9.66562271118164, -9.262998580932617], [-0.36238422989845276, -2.0454018115997314, -1.744931936264038], [-8.98105525970459, -0.03218290954828262, -3.4563467502593994], [-8.140739440917969, -0.8349167704582214, -0.5695182681083679], [-12.347838401794434, -2.0691332817077637, -0.1350177675485611], [-0.3503967225551605, -3.293071746826172, -1.3530458211898804], [-2.533965587615967, -4.750504493713379, -0.09210560470819473], [-0.0040553719736635685, -7.182705402374268, -5.717607498168945], [-6.990537643432617, -0.03017430752515793, -3.547274589538574], [-11.450517654418945, -0.017400581389665604, -4.060553550720215], [-0.18931277096271515, -2.34199595451355, -2.572599172592163], [-0.00023147765023168176, -12.409313201904297, -8.38862133026123], [-5.964457035064697, -1.2500123977661133, -0.34118086099624634], [-6.589349269866943, -2.442384719848633, -0.09247518330812454], [-0.0026164366863667965, -7.2473015785217285, -6.265407562255859], [-6.774426460266113, -1.5089588165283203, -0.25139230489730835], [-0.00018737945356406271, -11.5591402053833, -8.634602546691895], [-3.309859275817871, -3.3039770126342773, -0.07608020305633545], [-8.139877319335938, -1.7659718990325928, -0.1879117637872696], [-0.024359911680221558, -6.530892848968506, -3.7894556522369385], [-5.011120796203613, -2.0647339820861816, -0.1433110535144806], [-9.732697486877441, -0.011752298101782799, -4.45466947555542], [-6.054739952087402, -0.06822662055492401, -2.755070447921753], [-1.6259055137634277, -3.6245644092559814, -0.2528223693370819], [-8.124839782714844, -1.4928560256958008, -0.25492575764656067], [-0.5621547102928162, -3.321336269378662, -0.9316181540489197], [-7.508914947509766, -0.10731152445077896, -2.2905967235565186], [-2.50339189733495e-06, -15.292305946350098, -13.022022247314453], [-0.0772099569439888, -2.8658571243286133, -4.052999496459961], [-7.307907581329346, -0.015996219590306282, -4.186539173126221], [-0.006056053563952446, -5.147356033325195, -8.408349990844727], [-11.608391761779785, -0.03726648539304733, -3.308485269546509], [-2.916071653366089, -2.093721389770508, -0.19525328278541565], [-0.0034981505014002323, -9.31987476348877, -5.683260917663574], [-0.012385714799165726, -7.62379789352417, -4.437901020050049], [-10.103952407836914, -0.21288296580314636, -1.651780128479004], [-4.6125078201293945, -0.6763160824775696, -0.7306697964668274], [-0.0004287039046175778, -9.097366333007812, -8.057816505432129], [-10.163397789001465, -0.05161592364311218, -2.9903881549835205], [-8.116473197937012, -0.05335064232349396, -2.9631903171539307], [-8.676851272583008, -0.05415567010641098, -2.946087121963501], [-6.733822822570801, -4.811931133270264, -0.009365788660943508], [-0.0011542332358658314, -9.16817855834961, -6.8596510887146], [-9.210088729858398, -0.05297490581870079, -2.966247320175171], [-0.7214590907096863, -0.7126004099845886, -3.7469308376312256], [-8.152669906616211, -1.4362976551055908, -0.27193281054496765], [-0.0008275659638457, -11.25690746307373, -7.113110065460205], [-3.02742338180542, -0.7418134212493896, -0.7437875270843506], [-0.00023231192608363926, -9.505799293518066, -8.753329277038574], [-10.378190994262695, -0.015411456115543842, -4.18237829208374], [-8.198274612426758, -0.05465298146009445, -2.9391400814056396], [-0.00020132421923335642, -10.466972351074219, -8.663506507873535], [-5.720918655395508, -1.0360472202301025, -0.4433714747428894], [-9.849781036376953, -0.1839037388563156, -1.7841997146606445], [-4.351922988891602, -1.6157095432281494, -0.23778986930847168], [-2.8351407051086426, -0.8153029680252075, -0.6955810785293579], [-5.397859573364258, -0.7114403247833252, -0.6841137409210205], [-8.175076484680176, -1.627977967262268, -0.21891221404075623], [-7.44877290725708, -0.00944680068641901, -4.7307209968566895], [-0.008578591980040073, -7.854395389556885, -4.809267520904541], [-6.989635944366455, -0.07460248470306396, -2.6455507278442383], [-9.765368461608887, -0.06318123638629913, -2.794109582901001], [-1.4874076843261719, -2.1586756706237793, -0.4176929295063019], [-7.156530857086182, -0.05850949138402939, -2.8814942836761475], [-9.82433795928955, -0.007738137152045965, -4.872500419616699], [-9.605897903442383, -0.04018065333366394, -3.236103057861328], [-0.003019537776708603, -8.451631546020508, -5.877618789672852], [-4.111214637756348, -0.7140030860900879, -0.7053570747375488], [-0.020973796024918556, -4.701216697692871, -4.450630187988281], [-1.9073468138230965e-06, -15.012792587280273, -13.351613998413086], [-1.4296753406524658, -3.246621608734131, -0.32613471150398254], [-8.225339889526367, -0.45739009976387024, -1.0029418468475342], [-7.313113212585449, -0.10093630105257034, -2.350278377532959], [0.0, -17.028690338134766, -17.146408081054688], [-10.559181213378906, -0.061384353786706924, -2.821571111679077], [-4.419591903686523, -1.9197263717651367, -0.1727905422449112], [-9.389352798461914, -3.4795970916748047, -0.03139106556773186], [-9.760574340820312, -2.4882309436798096, -0.0867726132273674], [-1.5497195136049413e-06, -13.686295509338379, -15.012612342834473], [-10.62956714630127, -0.029949195683002472, -3.5240116119384766], [-9.108859062194824, -2.8208885192871094, -0.06151764839887619], [-0.0003232433518860489, -8.325515747070312, -9.422273635864258], [-4.502531051635742, -1.2156518697738647, -0.3675879240036011], [-0.0025259514804929495, -7.861780643463135, -6.148044586181641], [-0.014794518239796162, -7.503390789031982, -4.259145736694336], [-0.051380302757024765, -3.6781327724456787, -3.6964046955108643], [-0.01889854669570923, -4.448150634765625, -4.958865642547607], [-0.0001230164198204875, -9.321013450622559, -10.303438186645508], [-4.962533473968506, -0.4078553318977356, -1.1149556636810303], [-1.4543427823809907e-05, -12.149981498718262, -11.59130859375], [-9.82479190826416, -0.026655927300453186, -3.6401007175445557], [-10.18724250793457, -0.018562765792012215, -3.997915744781494], [-9.685503959655762, -0.020753493532538414, -3.8884339332580566], [-0.03767446056008339, -6.723475456237793, -3.330608367919922], [-10.527375221252441, -0.17459537088871002, -1.8314790725708008], [-8.574078559875488, -2.6739532947540283, -0.07167643308639526], [-0.004212910309433937, -7.411826133728027, -5.626826286315918], [-10.546199798583984, -0.040697209537029266, -3.2225341796875], [-0.007106266915798187, -6.1885271072387695, -5.292675495147705], [-10.336026191711426, -2.847578525543213, -0.059768080711364746], [-4.09775447845459, -0.6316036581993103, -0.7948440909385681], [-9.053487777709961, -2.588801860809326, -0.07820692658424377], [-0.0018667429685592651, -10.865580558776855, -6.294848918914795], [-6.678759574890137, -1.0492843389511108, -0.4330095052719116], [-0.025551574304699898, -6.836277961730957, -3.7233128547668457], [-1.1809197664260864, -3.325782299041748, -0.41998088359832764], [-0.0461270734667778, -3.6182754039764404, -4.003564357757568], [-9.452436447143555, -0.06314430385828018, -2.795022964477539], [-8.264225006103516, -0.295754611492157, -1.3634669780731201], [-6.278112411499023, -2.0900824069976807, -0.13416460156440735], [-7.424151420593262, -0.2950102388858795, -1.3669649362564087], [-0.16609269380569458, -3.8879239559173584, -2.02083683013916], [-6.437094270950183e-05, -10.486974716186523, -10.219320297241211], [-0.07987271994352341, -3.3174405097961426, -3.2059431076049805], [-8.800495147705078, -0.011415285989642143, -4.4918694496154785], [-8.776065826416016, -2.0276877880096436, -0.1413261741399765], [-10.585254669189453, -0.016485432162880898, -4.115057945251465], [-7.02555513381958, -0.9408611059188843, -0.49623334407806396], [0.0, -19.657955169677734, -20.058927536010742], [-0.0013490156270563602, -8.13702392578125, -6.853652477264404], [-0.9345557689666748, -3.9705617427825928, -0.5303876399993896], [-8.964787483215332, -0.1759117841720581, -1.8252323865890503], [-0.4060148298740387, -4.675644397735596, -1.1258388757705688], [-3.9714505672454834, -1.3964323997497559, -0.3096882700920105], [-3.1709168979432434e-05, -11.023179054260254, -11.08425235748291], [-0.059499889612197876, -6.452945709228516, -2.8790433406829834], [-8.381681442260742, -0.045843012630939484, -3.1104912757873535], [-2.0265558760002023e-06, -14.140473365783691, -13.52932071685791], [-0.00047541281674057245, -11.285599708557129, -7.6783576011657715], [-7.397233486175537, -0.07786732167005539, -2.5996458530426025], [-6.583522796630859, -1.291645884513855, -0.32324156165122986], [-13.057577133178711, -0.012813026085495949, -4.363860130310059], [-8.240653991699219, -0.04324048385024071, -3.1687726974487305], [-0.0008301864145323634, -8.316545486450195, -7.44312858581543], [-1.1917767524719238, -0.7281041741371155, -1.544140338897705], [-0.006634115241467953, -5.8518595695495605, -5.589315414428711], [-9.165365219116211, -1.5913827419281006, -0.2278401255607605], [-6.318072337307967e-06, -14.251111030578613, -12.064590454101562], [-0.0032524564303457737, -7.770862579345703, -5.869107723236084], [-0.32975319027900696, -4.3890910148620605, -1.3149535655975342], [-6.905172348022461, -1.2629244327545166, -0.33383533358573914], [-7.7810893058776855, -0.11520819365978241, -2.221909523010254], [-9.714338302612305, -0.021378902718424797, -3.8588833808898926], [-3.6094393730163574, -2.5399117469787598, -0.11198284476995468], [-0.006215527653694153, -9.142200469970703, -5.1012420654296875], [-7.826435089111328, -0.0634864792227745, -2.795011520385742], [-9.799617767333984, -0.030608654022216797, -3.5035805702209473], [-7.106703281402588, -0.18121501803398132, -1.8022677898406982], [-8.915647506713867, -0.030701952055096626, -3.503190755844116], [-0.011364960111677647, -7.751142501831055, -4.521707534790039], [-6.290562629699707, -0.1406031847000122, -2.0455245971679688], [-8.247868537902832, -0.6989718675613403, -0.68787682056427], [-3.2019405364990234, -3.8235626220703125, -0.06457377970218658], [-8.901368141174316, -2.5367085933685303, -0.08258043974637985], [-7.772961616516113, -0.42502373456954956, -1.0618231296539307], [-0.003741290420293808, -7.40894079208374, -5.767194747924805], [-10.29769515991211, -0.07441769540309906, -2.6355090141296387], [-2.3841855067985307e-07, -17.487003326416016, -15.322288513183594], [-8.725957870483398, -2.3228089809417725, -0.10331849753856659], [-6.688534736633301, -0.11996139585971832, -2.191042184829712], [-0.0029187481850385666, -8.852776527404785, -5.888347625732422], [-2.895756721496582, -5.001033782958984, -0.0639927089214325], [-0.002042352221906185, -7.783291816711426, -6.423074245452881], [-9.658809661865234, -0.9611974358558655, -0.4820738434791565], [-9.226966857910156, -0.06757457554340363, -2.7296271324157715], [-0.0005415403284132481, -8.723034858703613, -7.879006385803223], [-8.489625930786133, -0.03576256334781647, -3.354551076889038], [-4.260400772094727, -2.361893892288208, -0.11469078809022903], [-0.028571976348757744, -3.776505947113037, -5.24665641784668], [-9.364533424377441, -2.718074083328247, -0.06837247312068939], [-0.0006847421173006296, -10.399977684020996, -7.332291603088379], [-8.575004577636719, -0.0118326460942626, -4.458982467651367], [-5.8817458152771, -3.844315767288208, -0.02448834292590618], [-10.204540252685547, -0.017061950638890266, -4.0816121101379395], [-9.156524658203125, -0.07674626260995865, -2.6068079471588135], [-9.163395881652832, -0.021208522841334343, -3.868945360183716], [-8.536067008972168, -0.005672310944646597, -5.21029806137085], [-0.0013665156438946724, -7.750160217285156, -6.97511625289917], [-0.001042656716890633, -6.984379768371582, -9.06258487701416], [-4.451078414916992, -2.2014267444610596, -0.13046321272850037], [-6.894431114196777, -1.8035814762115479, -0.18118786811828613], [-4.063202857971191, -0.15435589849948883, -2.0727508068084717], [-10.628193855285645, -0.007070519961416721, -4.958790302276611], [-7.913633346557617, -2.4238123893737793, -0.0931563749909401], [-0.9329598546028137, -3.2353336811065674, -0.5669282078742981], [-4.369380950927734, -3.2834115028381348, -0.05146092548966408], [-10.210956573486328, -0.22322994470596313, -1.609276294708252], [-9.772941589355469, -2.282280445098877, -0.10770571231842041], [-8.995134353637695, -0.4412778615951538, -1.0309666395187378], [-9.223126411437988, -2.2832560539245605, -0.10764127224683762], [-0.00010275312524754554, -12.74195671081543, -9.212562561035156], [-4.192915916442871, -1.914985179901123, -0.17726987600326538], [-8.072516441345215, -1.6082488298416138, -0.22383129596710205], [-0.13168327510356903, -3.152850389480591, -2.5176219940185547], [-8.943053245544434, -0.16188901662826538, -1.901571273803711], [-8.620476722717285, -1.6239423751831055, -0.2197747528553009], [-7.5516357421875, -0.042216818779706955, -3.1987571716308594], [-0.7620444297790527, -3.6572649478912354, -0.6782867908477783], [-5.87361478805542, -2.007040023803711, -0.1475706547498703], [-0.00013457823661156, -9.080628395080566, -10.781415939331055], [-0.00253700977191329, -8.592068672180176, -6.0541276931762695], [-5.066266385256313e-05, -11.427181243896484, -10.13253402709961], [-8.293753623962402, -0.0620047003030777, -2.8155548572540283], [-6.758938252460212e-05, -10.506278038024902, -10.123519897460938], [-4.23851203918457, -0.9250568747520447, -0.5292238593101501], [-8.165761947631836, -0.32182249426841736, -1.291387915611267], [-0.2649554908275604, -3.881971836090088, -1.5504629611968994], [-2.2189183235168457, -3.6931064128875732, -0.14343293011188507], [-9.69531536102295, -0.057653725147247314, -2.883087396621704], [-5.966306686401367, -0.13436920940876007, -2.0941975116729736], [-0.1251184344291687, -4.078774929046631, -2.2958147525787354], [-8.407776832580566, -0.05276628956198692, -2.972500801086426], [-1.2165722846984863, -2.5349903106689453, -0.47081416845321655], [-11.43055534362793, -0.22880813479423523, -1.5871484279632568], [-0.00039081089198589325, -10.31523609161377, -7.936150074005127], [-0.003842947306111455, -6.737124919891357, -5.933391094207764], [-3.4068801403045654, -2.5830819606781006, -0.11505764722824097], [-6.032378673553467, -0.4009769856929779, -1.1149405241012573], [-8.387805938720703, -0.05592093989253044, -2.9158403873443604], [-10.324723243713379, -4.13278865814209, -0.016201505437493324], [-5.58400821685791, -3.011113166809082, -0.0544501356780529], [-6.79921817779541, -2.431215286254883, -0.09326127916574478], [-0.006925152149051428, -5.968565464019775, -5.439108371734619], [-1.543661117553711, -0.962723970413208, -0.904977560043335], [-9.059865078597795e-06, -12.209796905517578, -12.424137115478516], [-0.05860843136906624, -4.0936784744262695, -3.2127387523651123], [-9.443684577941895, -0.018853742629289627, -3.9847068786621094], [-8.010010719299316, -0.060179661959409714, -2.8460617065429688], [-1.4483654499053955, -0.8700620532035828, -1.0609686374664307], [-9.525251388549805, -0.04800814017653465, -3.0618503093719482], [-3.2488937377929688, -1.6444302797317505, -0.2638870179653168], [-6.3425421714782715, -0.4144459366798401, -1.0860891342163086], [-9.429727554321289, -3.559960126876831, -0.02893475629389286], [-0.0016559947980567813, -10.65424633026123, -6.418531894683838], [-0.5324559211730957, -1.104161262512207, -2.5089941024780273], [-0.0008339979685842991, -9.888816833496094, -7.1524739265441895], [-7.109635353088379, -0.07078389078378677, -2.6953375339508057], [-0.008984023705124855, -6.098373889923096, -5.006044864654541], [-5.733436107635498, -0.25719574093818665, -1.4981324672698975], [-0.18363581597805023, -5.473432540893555, -1.8105489015579224], [-4.855325222015381, -1.7076396942138672, -0.20958589017391205], [-2.510435104370117, -2.6755857467651367, -0.16263580322265625], [-0.01260080561041832, -4.733517169952393, -5.592320919036865], [-1.631959080696106, -4.058595180511475, -0.2392975091934204], [-9.361014366149902, -1.2450132369995117, -0.33970972895622253], [-7.654000759124756, -0.30980056524276733, -1.3245124816894531], [-2.1221697330474854, -3.5057106018066406, -0.16228000819683075], [-0.08087462186813354, -3.3371706008911133, -3.166440010070801], [-9.463336944580078, -0.026264451444149017, -3.6556427478790283], [-0.039631862193346024, -3.4835352897644043, -4.8087477684021], [-0.7856787443161011, -0.728699803352356, -2.786221504211426], [-9.490777969360352, -2.970245838165283, -0.05273247882723808], [-11.547877311706543, -0.015951287001371384, -4.146794319152832], [-11.754514694213867, -0.007829808630049229, -4.85473108291626], [-3.9718995094299316, -0.13028709590435028, -2.2699339389801025], [-2.511418342590332, -0.5210367441177368, -1.1241074800491333], [-7.051490783691406, -1.0887037515640259, -0.41176286339759827], [-3.2340946197509766, -3.156543731689453, -0.08552361279726028], [-8.257816314697266, -0.019499164074659348, -3.96063494682312], [-8.91802978515625, -1.6123884916305542, -0.2225746214389801], [-8.137112617492676, -0.0699969232082367, -2.698434352874756], [-1.5047650337219238, -0.32557040452957153, -2.8857080936431885], [-3.796334981918335, -0.2108278125524521, -1.7859747409820557], [-0.0022110319696366787, -6.471182346343994, -7.321414947509766], [-8.816377639770508, -0.9938600063323975, -0.46250128746032715], [-0.022430988028645515, -4.568080425262451, -4.43936824798584], [-13.170730590820312, -0.005375455133616924, -5.228948593139648], [-9.255897521972656, -0.06000117212533951, -2.844883680343628], [-11.221368789672852, -2.7992119789123535, -0.06280291080474854], [-0.25121140480041504, -4.096336364746094, -1.5822674036026], [-11.09102725982666, -1.667410135269165, -0.2091796100139618], [-8.804651260375977, -2.7482404708862305, -0.06634330004453659], [-8.255101203918457, -1.2171378135681152, -0.35145479440689087], [-7.798407077789307, -0.019621558487415314, -3.962265729904175], [-4.671786308288574, -0.3151930868625641, -1.3432484865188599], [-10.487592697143555, -0.11313357204198837, -2.235480546951294], [-0.04095275327563286, -5.21944522857666, -3.360576629638672], [-0.033957745879888535, -4.078952312469482, -4.106674671173096], [-2.9518091678619385, -1.5703046321868896, -0.30141180753707886], [-1.5735502529423684e-05, -12.2721529006958, -11.40479850769043], [-6.91148567199707, -0.06507531553506851, -2.780510425567627], [-9.123604774475098, -2.2437055110931396, -0.11224393546581268], [-7.376816749572754, -3.0877199172973633, -0.04733413830399513], [-9.449719429016113, -0.03550304099917412, -3.358095407485962], [-10.791279792785645, -0.030739985406398773, -3.4982011318206787], [-1.9073100090026855, -2.5523738861083984, -0.2566690146923065], [-8.521097183227539, -0.03107251226902008, -3.4934592247009277], [-8.316664695739746, -1.6236547231674194, -0.21992525458335876], [-7.090210437774658, -0.15857115387916565, -1.9254883527755737], [-8.930331230163574, -2.2645423412323, -0.10982589423656464], [-0.002860266249626875, -7.422574996948242, -6.0929789543151855], [-8.100358963012695, -0.05720057338476181, -2.895127534866333], [-0.9195451736450195, -2.740842819213867, -0.6221599578857422], [-0.00014995403762441128, -10.679216384887695, -8.971564292907715], [-0.006981028709560633, -6.732689380645752, -5.155888557434082], [-3.5383176803588867, -0.2538033127784729, -1.6342768669128418], [-8.511151313781738, -1.0875391960144043, -0.41135162115097046], [-8.745889663696289, -0.5138363838195801, -0.9121875762939453], [-0.154824897646904, -3.823035717010498, -2.107236385345459], [-7.936646938323975, -0.05287913978099823, -2.9730336666107178], [-0.03039034828543663, -6.266171932220459, -3.5743489265441895], [-6.577180862426758, -0.08284953981637955, -2.5495266914367676], [-0.0070909978821873665, -5.228413105010986, -6.374831676483154], [-9.487273216247559, -3.2225000858306885, -0.04075019806623459], [-6.300151824951172, -0.09686131775379181, -2.4026031494140625], [-0.05696997791528702, -4.069736480712891, -3.262418746948242], [-0.021387886255979538, -4.4194254875183105, -4.697319507598877], [-8.177513122558594, -0.02474399283528328, -3.7230801582336426], [-7.896677017211914, -0.0625879317522049, -2.8084638118743896], [-7.424213886260986, -0.19512933492660522, -1.733442783355713], [-0.009684602729976177, -7.102530479431152, -4.731316566467285], [-6.839076042175293, -0.2782609462738037, -1.4195215702056885], [-10.184370040893555, -4.421273708343506, -0.012129946611821651], [-7.1272454261779785, -2.4984421730041504, -0.08666516095399857], [-10.979754447937012, -0.061881449073553085, -2.813600540161133], [-0.008331069722771645, -9.033880233764648, -4.806415557861328], [-8.58576488494873, -0.05506836622953415, -2.9300782680511475], [-7.057433128356934, -0.04423025622963905, -3.160479784011841], [-7.045602321624756, -0.009015684947371483, -4.81540060043335], [-8.316451072692871, -0.04149807244539261, -3.208817481994629], [-3.8918819427490234, -2.918255090713501, -0.07735063880681992], [-2.9726932048797607, -1.950219750404358, -0.21493755280971527], [-4.364239692687988, -0.07502736151218414, -2.8208115100860596], [-9.632513999938965, -0.012928004376590252, -4.3599324226379395], [-8.54820728302002, -0.06169956550002098, -2.8194143772125244], [-9.711100578308105, -2.448749303817749, -0.09043056517839432], [-8.566903114318848, -2.2627758979797363, -0.1100955605506897], [-9.876097679138184, -0.1259918510913849, -2.1343069076538086], [-7.5723347663879395, -0.9863486289978027, -0.4675273597240448], [-9.12304401397705, -0.05508653074502945, -2.9283041954040527], [-9.118216514587402, -0.19808217883110046, -1.717090368270874], [-9.319913864135742, -0.03766344115138054, -3.300264835357666], [-11.743881225585938, -4.275211334228516, -0.014014876447618008], [-9.147245407104492, -0.2060914933681488, -1.6812840700149536], [-9.00185489654541, -0.025747006759047508, -3.6771399974823], [-7.489272594451904, -0.2161933034658432, -1.6406117677688599], [-0.0003292018664069474, -8.906573295593262, -8.549471855163574], [-7.325654029846191, -0.10688772052526474, -2.2954602241516113], [-9.99291706085205, -0.008112811483442783, -4.824045181274414], [-5.2316083908081055, -4.598999977111816, -0.015526722185313702], [-5.906597137451172, -1.7090933322906494, -0.2030361294746399], [-10.647537231445312, -2.8277058601379395, -0.06099513918161392], [-9.973612785339355, -0.08254729211330414, -2.5359621047973633], [-0.36672013998031616, -4.824882507324219, -1.2074158191680908], [-6.222531374078244e-05, -10.597322463989258, -10.199932098388672], [-5.875396251678467, -2.33764386177063, -0.1046525314450264], [-3.3016903400421143, -0.8558982014656067, -0.619380533695221], [-7.794162750244141, -0.14964883029460907, -1.9763251543045044], [-4.53127384185791, -0.9598912596702576, -0.5003828406333923], [-5.308797836303711, -0.46380728483200073, -1.004664659500122], [-2.471588611602783, -1.6746716499328613, -0.31720736622810364], [-0.00030119650182314217, -10.0957670211792, -8.255293846130371], [-9.875123023986816, -0.06249263882637024, -2.8046391010284424], [-0.0002138386043952778, -9.283574104309082, -9.020940780639648], [-8.778619766235352, -1.7843927145004272, -0.18398655951023102], [-6.9016804695129395, -0.044073425233364105, -3.1674649715423584], [-0.00016866691294126213, -12.018144607543945, -8.724729537963867], [-10.317378997802734, -0.009418695233762264, -4.6732964515686035], [-0.0008017186191864312, -7.973832607269287, -7.690830707550049], [-0.0021628576796501875, -7.447535514831543, -6.451817035675049], [-0.1769893765449524, -5.781539440155029, -1.8380506038665771], [-0.0044111330062150955, -8.779424667358398, -5.461406230926514], [-9.259493827819824, -0.014204232022166252, -4.268077850341797], [-9.628582000732422, -0.14658010005950928, -1.9930614233016968], [-0.01450317818671465, -6.377974510192871, -4.366157054901123], [-9.198094367980957, -0.041114311665296555, -3.2144017219543457], [-0.000447530735982582, -8.367756843566895, -8.443848609924316], [-7.217706680297852, -0.12580518424510956, -2.1414878368377686], [-9.370085716247559, -0.206593856215477, -1.6789764165878296], [-0.0038862908259034157, -5.878932952880859, -6.829888343811035], [-9.661235809326172, -3.4009647369384766, -0.03397548943758011], [-7.7387237548828125, -4.146613597869873, -0.01638704538345337], [-6.313425064086914, -1.273684024810791, -0.3307437598705292], [-6.404195785522461, -0.7789046764373779, -0.6172292232513428], [-4.810965538024902, -0.19061872363090515, -1.7993137836456299], [-7.635684967041016, -0.17438001930713654, -1.8354637622833252], [-8.893633842468262, -0.08782899379730225, -2.477591037750244], [-7.668339252471924, -1.6581419706344604, -0.21190683543682098], [-0.05522856116294861, -3.898500442504883, -3.397437334060669], [-0.0006057572900317609, -7.54768180847168, -9.455708503723145], [-4.446685791015625, -2.4843034744262695, -0.09993186593055725], [-9.675204277038574, -1.8626264333724976, -0.16880591213703156], [-11.425185203552246, -0.003693308448418975, -5.606047630310059], [-4.189050197601318, -0.07443728297948837, -2.8722126483917236], [-8.706592559814453, -0.1136997640132904, -2.232045888900757], [-0.0023777803871780634, -8.692351341247559, -6.116114139556885], [-7.5510454177856445, -0.5288332104682922, -0.8911536335945129], [-9.921286582946777, -3.6901395320892334, -0.025335995480418205], [-0.004143344704061747, -5.950098037719727, -6.482998371124268], [-7.365976333618164, -1.126787543296814, -0.3926056921482086], [-7.904846668243408, -0.17606623470783234, -1.8259252309799194], [-6.163918972015381, -5.232449531555176, -0.007472303695976734], [-6.592442035675049, -0.1435932219028473, -2.0220088958740234], [-7.496387958526611, -0.41807281970977783, -1.0754896402359009], [-1.8000440832111053e-05, -11.16171932220459, -12.47482967376709], [-6.007866382598877, -0.06295168399810791, -2.8378419876098633], [-7.048957347869873, -0.0288704801350832, -3.5903258323669434], [-0.00209386320784688, -7.787013530731201, -6.390949726104736], [-6.757570743560791, -1.0522081851959229, -0.4312874674797058], [-0.00604029418900609, -7.380971431732178, -5.221530437469482]]\n",
            "tensor([[9.9703e-01, 1.7866e-03, 1.1844e-03],\n",
            "        [1.9959e-03, 6.7317e-01, 3.2484e-01],\n",
            "        [9.7098e-01, 1.5580e-02, 1.3440e-02],\n",
            "        ...,\n",
            "        [9.9791e-01, 4.1509e-04, 1.6767e-03],\n",
            "        [1.1620e-03, 3.4917e-01, 6.4967e-01],\n",
            "        [9.9398e-01, 6.2300e-04, 5.3991e-03]])\n",
            "[0, 2, 0, 1, 2, 0, 2, 2, 0, 2, 0, 2, 2, 2, 1, 2, 1, 2, 1, 0, 1, 2, 0, 2, 2, 1, 2, 0, 2, 0, 2, 0, 2, 1, 2, 0, 0, 0, 1, 2, 1, 2, 1, 1, 0, 2, 0, 0, 2, 1, 2, 2, 1, 1, 2, 0, 1, 2, 0, 2, 2, 2, 0, 2, 0, 0, 2, 1, 2, 1, 0, 1, 0, 0, 2, 1, 1, 2, 2, 1, 0, 0, 0, 1, 2, 2, 0, 1, 2, 0, 2, 1, 0, 0, 1, 2, 1, 1, 1, 1, 2, 0, 0, 0, 0, 0, 2, 2, 0, 0, 2, 1, 2, 2, 2, 2, 1, 1, 1, 0, 0, 0, 2, 0, 0, 0, 1, 2, 0, 1, 1, 2, 0, 2, 0, 1, 0, 2, 2, 0, 0, 2, 2, 2, 1, 2, 2, 0, 1, 0, 1, 2, 0, 1, 0, 0, 1, 2, 1, 1, 2, 0, 2, 0, 1, 1, 2, 2, 2, 2, 0, 1, 2, 2, 1, 1, 2, 2, 2, 1, 1, 1, 0, 1, 1, 0, 1, 1, 2, 0, 2, 2, 1, 1, 0, 0, 1, 1, 1, 1, 1, 2, 1, 1, 2, 2, 0, 0, 2, 1, 1, 0, 0, 2, 1, 2, 1, 0, 0, 1, 0, 0, 0, 1, 2, 0, 1, 1, 2, 1, 0, 1, 1, 1, 2, 1, 2, 1, 0, 1, 0, 0, 1, 1, 2, 1, 1, 1, 0, 0, 2, 2, 2, 2, 2, 1, 2, 0, 1, 2, 2, 1, 2, 1, 1, 2, 2, 2, 2, 2, 2, 0, 1, 2, 0, 0, 1, 2, 2, 1, 2, 2, 2, 1, 2, 0, 0, 0, 0, 1, 2, 2, 2, 2, 1, 2, 0, 1, 0, 1, 1, 2, 1, 1, 2, 1, 1, 1, 2, 2, 0, 0, 0, 0, 1, 0, 0, 0, 1, 2, 1, 1, 2, 2, 1, 1, 2, 1, 2, 1, 2, 1, 0, 2, 1, 1, 1, 0, 1, 0, 0, 2, 0, 1, 2, 0, 2, 0, 2, 0, 2, 2, 2, 0, 1, 1, 1, 1, 2, 1, 1, 1, 1, 0, 1, 0, 0, 0, 1, 2, 2, 0, 2, 0, 1, 1, 0, 0, 2, 2, 0, 2, 0, 2, 2, 0, 2, 1, 1, 2, 2, 2, 1, 0, 0, 1, 0, 1, 2, 0, 0, 2, 1, 0, 1, 1, 1, 2, 0, 1, 1, 2, 0, 2, 0, 1, 1, 0, 2, 1, 2, 2, 2, 2, 1, 0, 1, 1, 1, 1, 1, 1, 0, 1, 0, 0, 2, 1, 1, 0, 1, 2, 2, 2, 0, 1, 2, 0, 2, 0, 0, 0, 0, 0, 2, 0, 1, 1, 1, 0, 1, 2, 0, 1, 0, 2, 2, 2, 0, 1, 0, 0, 0, 1, 1, 2, 2, 2, 0, 0, 1, 2, 1, 2, 0, 0, 0, 2, 2, 0, 0, 0, 1, 0, 0, 1, 2, 1, 1, 0, 2, 0, 2, 0, 0, 2, 2, 1, 1, 2, 0, 1, 1, 1, 1, 0, 2, 2, 2, 2, 2, 0, 1, 0, 2, 1, 0, 0, 0, 2, 1, 0, 1, 2, 0, 2, 0, 1, 2, 1, 1, 1, 1, 0, 0, 2, 2, 1, 1, 2, 2, 2, 2, 2, 1, 2, 0, 2, 2, 0, 1, 2, 1, 2, 2, 0, 0, 0, 1, 0, 2, 1, 2, 2, 1, 1, 0, 1, 2, 1, 0, 0, 2, 2, 1, 2, 2, 2, 0, 2, 0, 0, 1, 1, 2, 1, 2, 1, 2, 0, 0, 0, 1, 0, 1, 0, 0, 2, 0, 2, 2, 1, 2, 0, 1, 2, 1, 2, 1, 1, 1, 1, 2, 2, 1, 2, 1, 1, 1, 0, 2, 0, 1, 1, 2, 0, 2, 2, 2, 1, 1, 1, 0, 0, 2, 0, 1, 2, 2, 1, 1, 2, 1, 2, 1, 2, 0, 1, 2, 0, 0, 1, 2, 1, 0, 1, 0, 1, 0, 2, 1, 0, 0, 1, 1, 1, 0, 1, 2, 2, 1, 0, 1, 1, 1, 1, 2, 2, 1, 1, 1, 2, 2, 2, 2, 1, 2, 1, 2, 1, 1, 2, 0, 1, 1, 2, 1, 2, 1, 2, 0, 2, 0, 1, 2, 2, 2, 0, 1, 0, 2, 1, 0, 1, 0, 0, 0, 0, 1, 1, 0, 1, 0, 1, 1, 0, 2, 2, 2, 2, 1, 2, 1, 2, 0, 0, 2, 2, 1, 1, 1, 0, 1, 2, 0, 2, 1, 2, 1, 2, 0, 1, 1, 0, 2, 0]\n",
            "f1 score:  0.913914010088179\n",
            "recall:  0.9151436031331592\n",
            "precision:  0.9188322603082117\n",
            "accuracy:  0.9151436031331592\n"
          ],
          "name": "stdout"
        }
      ]
    },
    {
      "cell_type": "markdown",
      "metadata": {
        "id": "5pN9jPPmVhl1"
      },
      "source": [
        "# ConvNN 2 Training"
      ]
    },
    {
      "cell_type": "code",
      "metadata": {
        "colab": {
          "base_uri": "https://localhost:8080/"
        },
        "id": "CVyXgkS9VplT",
        "outputId": "efca9fbe-a492-4415-c629-6a9b65c0235e"
      },
      "source": [
        "convNN2_model = ConvNN2()\r\n",
        "torch.set_default_tensor_type('torch.cuda.FloatTensor')\r\n",
        "convNN2_model.cuda()\r\n",
        "optimizer = torch.optim.Adam(convNN2_model.parameters(), 0.0000001, weight_decay=0.01)\r\n",
        "scheduler = torch.optim.lr_scheduler.ReduceLROnPlateau(optimizer, patience=5, factor=0.3, threshold=0.0001) \r\n",
        "epoch = 15\r\n",
        "train_model(convNN2_model, optimizer, scheduler, epoch)"
      ],
      "execution_count": null,
      "outputs": [
        {
          "output_type": "stream",
          "text": [
            "\n",
            "**********epoch:  0 \n",
            "\n",
            "\n",
            "train:\n",
            "\n",
            "loss:  1.170556653427041\n",
            "f1 score:  0.5188722246295974\n",
            "recall:  0.5193730953417501\n",
            "precision:  0.5184603621112841\n",
            "accuracy:  0.5193730953417501\n",
            "\n",
            "validation:\n",
            "\n",
            "loss:  0.6245144951778153\n",
            "f1 score:  0.7406628418434253\n",
            "recall:  0.7545691906005222\n",
            "precision:  0.8035612645497942\n",
            "accuracy:  0.7545691906005222\n",
            "\n",
            "**********epoch:  1 \n",
            "\n",
            "\n",
            "train:\n",
            "\n",
            "loss:  0.7360932179767152\n",
            "f1 score:  0.654181965638906\n",
            "recall:  0.6547670875054419\n",
            "precision:  0.6536478705499698\n",
            "accuracy:  0.6547670875054419\n",
            "\n",
            "validation:\n",
            "\n",
            "loss:  0.561578401674827\n",
            "f1 score:  0.7752177275464972\n",
            "recall:  0.7819843342036553\n",
            "precision:  0.8227594050772776\n",
            "accuracy:  0.7819843342036553\n",
            "\n",
            "**********epoch:  2 \n",
            "\n",
            "\n",
            "train:\n",
            "\n",
            "loss:  0.6446862002041029\n",
            "f1 score:  0.6991277259206918\n",
            "recall:  0.6987374836743578\n",
            "precision:  0.6995410032559731\n",
            "accuracy:  0.6987374836743578\n",
            "\n",
            "validation:\n",
            "\n",
            "loss:  0.49359505200603354\n",
            "f1 score:  0.8395031288165168\n",
            "recall:  0.839425587467363\n",
            "precision:  0.8472272731188949\n",
            "accuracy:  0.839425587467363\n",
            "\n",
            "**********epoch:  3 \n",
            "\n",
            "\n",
            "train:\n",
            "\n",
            "loss:  0.5748985680581435\n",
            "f1 score:  0.741694085999014\n",
            "recall:  0.7427078798432738\n",
            "precision:  0.7409855827939142\n",
            "accuracy:  0.7427078798432738\n",
            "\n",
            "validation:\n",
            "\n",
            "loss:  0.4278867551086781\n",
            "f1 score:  0.842340150749274\n",
            "recall:  0.8433420365535248\n",
            "precision:  0.84547525641076\n",
            "accuracy:  0.8433420365535248\n",
            "\n",
            "**********epoch:  4 \n",
            "\n",
            "\n",
            "train:\n",
            "\n",
            "loss:  0.5482705641123997\n",
            "f1 score:  0.7542561967997349\n",
            "recall:  0.7548976926425772\n",
            "precision:  0.7538524025374419\n",
            "accuracy:  0.7548976926425772\n",
            "\n",
            "validation:\n",
            "\n",
            "loss:  0.4039969815736792\n",
            "f1 score:  0.8465790689511019\n",
            "recall:  0.8472584856396866\n",
            "precision:  0.8496496102025352\n",
            "accuracy:  0.8472584856396866\n",
            "\n",
            "**********epoch:  5 \n",
            "\n",
            "\n",
            "train:\n",
            "\n",
            "loss:  0.515430978724895\n",
            "f1 score:  0.777730692577095\n",
            "recall:  0.7779712668698302\n",
            "precision:  0.7775610342637617\n",
            "accuracy:  0.7779712668698302\n",
            "\n",
            "validation:\n",
            "\n",
            "loss:  0.40664877214779455\n",
            "f1 score:  0.8581765760857067\n",
            "recall:  0.8577023498694517\n",
            "precision:  0.8588424295841943\n",
            "accuracy:  0.8577023498694517\n",
            "\n",
            "**********epoch:  6 \n",
            "\n",
            "\n",
            "train:\n",
            "\n",
            "loss:  0.47586728819200524\n",
            "f1 score:  0.8110766071675612\n",
            "recall:  0.8114932520679147\n",
            "precision:  0.8107950214212277\n",
            "accuracy:  0.8114932520679147\n",
            "\n",
            "validation:\n",
            "\n",
            "loss:  0.3693641849095002\n",
            "f1 score:  0.8721279268290195\n",
            "recall:  0.8720626631853786\n",
            "precision:  0.8723694962797144\n",
            "accuracy:  0.8720626631853786\n",
            "\n",
            "**********epoch:  7 \n",
            "\n",
            "\n",
            "train:\n",
            "\n",
            "loss:  0.46241778730050376\n",
            "f1 score:  0.812420480633287\n",
            "recall:  0.8123639529821506\n",
            "precision:  0.8125650162906244\n",
            "accuracy:  0.8123639529821506\n",
            "\n",
            "validation:\n",
            "\n",
            "loss:  0.3784449915207612\n",
            "f1 score:  0.8424954862481981\n",
            "recall:  0.8433420365535248\n",
            "precision:  0.8557880387654867\n",
            "accuracy:  0.8433420365535248\n",
            "\n",
            "**********epoch:  8 \n",
            "\n",
            "\n",
            "train:\n",
            "\n",
            "loss:  0.46645667396526297\n",
            "f1 score:  0.8194496770406671\n",
            "recall:  0.8193295602960383\n",
            "precision:  0.8197483797011488\n",
            "accuracy:  0.8193295602960383\n",
            "\n",
            "validation:\n",
            "\n",
            "loss:  0.335110702610109\n",
            "f1 score:  0.8759740614581708\n",
            "recall:  0.8759791122715405\n",
            "precision:  0.8765762974954099\n",
            "accuracy:  0.8759791122715405\n",
            "\n",
            "**********epoch:  9 \n",
            "\n",
            "\n",
            "train:\n",
            "\n",
            "loss:  0.42239167272153755\n",
            "f1 score:  0.8261592822741675\n",
            "recall:  0.8262951676099259\n",
            "precision:  0.8261795936359136\n",
            "accuracy:  0.8262951676099259\n",
            "\n",
            "validation:\n",
            "\n",
            "loss:  0.3405243464803789\n",
            "f1 score:  0.8793196264572531\n",
            "recall:  0.8785900783289817\n",
            "precision:  0.8810698680265296\n",
            "accuracy:  0.8785900783289817\n",
            "\n",
            "**********epoch:  10 \n",
            "\n",
            "\n",
            "train:\n",
            "\n",
            "loss:  0.4156062176200035\n",
            "f1 score:  0.833122833284724\n",
            "recall:  0.8332607749238137\n",
            "precision:  0.8332985310881452\n",
            "accuracy:  0.8332607749238137\n",
            "\n",
            "validation:\n",
            "\n",
            "loss:  0.3524329488427611\n",
            "f1 score:  0.8731371461403236\n",
            "recall:  0.8733681462140992\n",
            "precision:  0.878460339923295\n",
            "accuracy:  0.8733681462140992\n",
            "\n",
            "**********epoch:  11 \n",
            "\n",
            "\n",
            "train:\n",
            "\n",
            "loss:  0.3870026293960805\n",
            "f1 score:  0.848895371742172\n",
            "recall:  0.848933391380061\n",
            "precision:  0.8489012502167625\n",
            "accuracy:  0.848933391380061\n",
            "\n",
            "validation:\n",
            "\n",
            "loss:  0.3150660313719224\n",
            "f1 score:  0.8780010158226108\n",
            "recall:  0.8785900783289817\n",
            "precision:  0.8790675226908847\n",
            "accuracy:  0.8785900783289817\n",
            "\n",
            "**********epoch:  12 \n",
            "\n",
            "\n",
            "train:\n",
            "\n",
            "loss:  0.3853800939829291\n",
            "f1 score:  0.854757968021119\n",
            "recall:  0.8545929473225947\n",
            "precision:  0.8549493858789131\n",
            "accuracy:  0.8545929473225947\n",
            "\n",
            "validation:\n",
            "\n",
            "loss:  0.3087231575251887\n",
            "f1 score:  0.8822994810168928\n",
            "recall:  0.8825065274151436\n",
            "precision:  0.8851515394090882\n",
            "accuracy:  0.8825065274151436\n",
            "\n",
            "**********epoch:  13 \n",
            "\n",
            "\n",
            "train:\n",
            "\n",
            "loss:  0.3604822255768206\n",
            "f1 score:  0.8596729014890645\n",
            "recall:  0.8598171528080104\n",
            "precision:  0.8595485705205718\n",
            "accuracy:  0.8598171528080104\n",
            "\n",
            "validation:\n",
            "\n",
            "loss:  0.3102360865304945\n",
            "f1 score:  0.8847770550819545\n",
            "recall:  0.8851174934725848\n",
            "precision:  0.8893093203312674\n",
            "accuracy:  0.8851174934725848\n",
            "\n",
            "**********epoch:  14 \n",
            "\n",
            "\n",
            "train:\n",
            "\n",
            "loss:  0.35846857643726726\n",
            "f1 score:  0.858785546384759\n",
            "recall:  0.8589464518937745\n",
            "precision:  0.8588441494670802\n",
            "accuracy:  0.8589464518937745\n",
            "\n",
            "validation:\n",
            "\n",
            "loss:  0.28407326810217154\n",
            "f1 score:  0.8943383552006999\n",
            "recall:  0.8942558746736292\n",
            "precision:  0.8946421835228335\n",
            "accuracy:  0.8942558746736292\n"
          ],
          "name": "stdout"
        }
      ]
    },
    {
      "cell_type": "markdown",
      "metadata": {
        "id": "cKatjOPVWBnH"
      },
      "source": [
        "# ConvNN 2 Testing"
      ]
    },
    {
      "cell_type": "code",
      "metadata": {
        "colab": {
          "base_uri": "https://localhost:8080/"
        },
        "id": "Oh5TnflrWHZD",
        "outputId": "cbd378cf-d6ca-4ba6-ef29-1707648de1d5"
      },
      "source": [
        "test_model(convNN2_model, optimizer, scheduler)"
      ],
      "execution_count": null,
      "outputs": [
        {
          "output_type": "stream",
          "text": [
            "test: \n",
            "loss:  0.2576743458582011\n",
            "[[-0.0039704786613583565, -8.585112571716309, -5.5791544914245605], [-5.92579984664917, -2.499952554702759, -0.08856747299432755], [-0.08042802661657333, -4.948905944824219, -2.6565847396850586], [-5.94563627243042, -0.012924239039421082, -4.583034515380859], [-6.661315441131592, -4.134222030639648, -0.017445918172597885], [-7.765295505523682, -0.5065224766731262, -0.9238484501838684], [-4.294979572296143, -4.47038459777832, -0.025399569422006607], [-0.0007657456444576383, -7.810447692871094, -7.929582595825195], [-0.01269509270787239, -6.763330459594727, -4.468937873840332], [-6.822900295257568, -2.2014846801757812, -0.11847653985023499], [-5.157100677490234, -3.6770591735839844, -0.03154805302619934], [-0.029138097539544106, -6.547063827514648, -3.60147762298584], [-0.1763051301240921, -3.4143130779266357, -2.04996919631958], [-7.749880790710449, -0.7435449361801147, -0.6459895372390747], [-4.172796249389648, -0.42863720655441284, -1.0990283489227295], [-7.006433963775635, -0.08269337564706802, -2.5451595783233643], [-8.400678634643555, -3.276641368865967, -0.038719527423381805], [-8.258280754089355, -3.0985395908355713, -0.04643586277961731], [-6.032563209533691, -0.9833508729934692, -0.4723341464996338], [-2.261241912841797, -2.085477113723755, -0.2593781650066376], [-0.00014649749209638685, -12.031645774841309, -8.870353698730469], [-5.23315102327615e-05, -11.787497520446777, -10.016436576843262], [-1.728519782773219e-05, -13.21182632446289, -11.078231811523438], [-3.9144811630249023, -0.6001970171928406, -0.8408456444740295], [-5.108731269836426, -0.7259493470191956, -0.6731655597686768], [-0.005556021351367235, -7.983033657073975, -5.259200096130371], [-0.0012344843707978725, -8.414740562438965, -6.8956475257873535], [-5.96989631652832, -1.198019027709961, -0.36290284991264343], [-8.78723430633545, -3.444530487060547, -0.03259803727269173], [-6.399207592010498, -2.3389127254486084, -0.10324636101722717], [-1.8460623025894165, -1.1649086475372314, -0.6345173120498657], [-7.792327880859375, -0.04120674729347229, -3.219966173171997], [-6.81005859375, -0.07305809110403061, -2.66858172416687], [-3.244459867477417, -3.6860849857330322, -0.06620340049266815], [-7.989049911499023, -0.04039832204580307, -3.237700939178467], [-6.568645477294922, -1.375875473022461, -0.29305920004844666], [-8.366032600402832, -3.152555465698242, -0.04392614960670471], [-4.662214279174805, -3.9353349208831787, -0.029413050040602684], [-0.0017703588819131255, -7.0771484375, -6.9860920906066895], [-5.411955135059543e-05, -10.335504531860352, -10.73785400390625], [-5.925135135650635, -0.8305752873420715, -0.5770899653434753], [-6.219508171081543, -2.460371732711792, -0.09145046025514603], [-0.0004825619689654559, -9.132036209106445, -7.890651702880859], [-5.695842742919922, -0.13676601648330688, -2.0837242603302], [-4.627686023712158, -0.3696231245994568, -1.2065496444702148], [-0.0018455630633980036, -7.251194000244141, -6.781535625457764], [-6.772757053375244, -0.8722288608551025, -0.5432857275009155], [-4.759261131286621, -0.22922851145267487, -1.628206729888916], [-6.854310512542725, -0.08581379801034927, -2.5110859870910645], [-0.0459161140024662, -3.123628616333008, -7.0348076820373535], [-5.222880840301514, -0.08460916578769684, -2.5804898738861084], [-7.442122459411621, -0.02604658715426922, -3.6839215755462646], [-0.2630904018878937, -5.205173969268799, -1.4879306554794312], [-6.942767143249512, -0.18535137176513672, -1.7824699878692627], [-0.0007242917199619114, -9.604026794433594, -7.32848596572876], [-0.01992204412817955, -5.938305377960205, -4.069355487823486], [-5.693947792053223, -0.32825183868408203, -1.2857176065444946], [-6.725639820098877, -0.12165254354476929, -2.17732572555542], [-2.960726499557495, -0.1197241023182869, -2.796003580093384], [-7.208898067474365, -0.010463851504027843, -4.638800621032715], [-0.3717285096645355, -1.9777077436447144, -1.7598391771316528], [-0.0020870824810117483, -6.634496212005615, -7.168264389038086], [-5.338683128356934, -0.031219149008393288, -3.6521732807159424], [-5.255140781402588, -0.02190222591161728, -4.107825756072998], [-5.808083534240723, -0.20640778541564941, -1.695565104484558], [-3.068720817565918, -3.648857593536377, -0.07526399940252304], [-0.002761362586170435, -5.957578182220459, -8.6713228225708], [-2.283231735229492, -0.46836644411087036, -1.3018732070922852], [-3.413428783416748, -2.2269210815429688, -0.15173977613449097], [-5.375709533691406, -2.1675260066986084, -0.12679752707481384], [-7.456595420837402, -2.946350336074829, -0.05457092449069023], [-0.04692531004548073, -4.3156561851501465, -3.4270238876342773], [-6.732311725616455, -0.02899613417685032, -3.5976502895355225], [-5.9177985191345215, -3.498120069503784, -0.033500295132398605], [-0.31835585832595825, -1.3404567241668701, -4.5162482261657715], [-7.640622615814209, -0.0766875222325325, -2.6126456260681152], [-4.944051265716553, -0.36362895369529724, -1.2115843296051025], [-5.419004440307617, -2.429675579071045, -0.09705834090709686], [-4.218754291534424, -3.4953601360321045, -0.04610123112797737], [-0.23906175792217255, -4.061030387878418, -1.6326935291290283], [-7.227735996246338, -2.5185964107513428, -0.08479437977075577], [-6.249027729034424, -0.07143339514732361, -2.7029221057891846], [-1.5497195136049413e-06, -16.09734535217285, -13.43288803100586], [-2.7290172576904297, -1.1208240985870361, -0.49642059206962585], [-0.0034209322184324265, -6.077643394470215, -6.7930498123168945], [-2.5832571983337402, -2.316046714782715, -0.19139111042022705], [-7.141113758087158, -0.09121663868427277, -2.4489035606384277], [-6.69879674911499, -0.33110955357551575, -1.2706785202026367], [-2.4888949394226074, -3.147958755493164, -0.13460773229599], [-0.036326467990875244, -4.4822258949279785, -3.714547634124756], [-3.4408252239227295, -4.1895012855529785, -0.0483420193195343], [-4.505774021148682, -0.023923538625240326, -4.37448787689209], [-3.9986772537231445, -0.5234676599502563, -0.9436681270599365], [-6.959213733673096, -0.07635458558797836, -2.6233057975769043], [-0.8479899764060974, -3.2950439453125, -0.6261266469955444], [-7.439569473266602, -0.008233651518821716, -4.877985000610352], [-0.10247054696083069, -4.146347522735596, -2.5062544345855713], [-7.569680690765381, -0.11779458820819855, -2.201785087585449], [-8.316316604614258, -3.7833828926086426, -0.02325849048793316], [-8.248444557189941, -4.859480381011963, -0.008048483170568943], [-7.862693786621094, -3.604454278945923, -0.027974814176559448], [-0.020913325250148773, -4.382671356201172, -4.80310583114624], [-0.5264740586280823, -2.655726194381714, -1.0815541744232178], [-7.816145420074463, -2.29845929145813, -0.10626824200153351], [-6.550439834594727, -1.0731414556503296, -0.42062267661094666], [-3.3707942962646484, -1.5682271718978882, -0.2780970335006714], [-0.0022671727929264307, -7.661749362945557, -6.323241710662842], [-0.02324335090816021, -3.9630308151245117, -5.529005527496338], [-9.466270446777344, -3.2250607013702393, -0.040645699948072433], [-0.009952091611921787, -6.989675998687744, -4.7125983238220215], [-6.890632152557373, -0.21554920077323914, -1.6456656455993652], [-0.0013103241799399257, -7.401474952697754, -7.26577091217041], [-0.36856192350387573, -3.6042799949645996, -1.2691705226898193], [-6.27499532699585, -0.6186517477035522, -0.7777317762374878], [-4.541461944580078, -0.29613181948661804, -1.4038361310958862], [-9.3295316696167, -4.7739973068237305, -0.008571973070502281], [-5.354826927185059, -0.10980314761400223, -2.3099703788757324], [-1.257233738899231, -0.6304433345794678, -1.6971526145935059], [-6.9182209968566895, -0.2681218385696411, -1.451597809791565], [-0.017315875738859177, -4.857006072998047, -4.667783737182617], [-6.094655990600586, -1.0297726392745972, -0.44526103138923645], [-6.225416660308838, -0.21102957427501678, -1.6698708534240723], [-3.3202667236328125, -2.1276729106903076, -0.1687232404947281], [-6.049245834350586, -1.6349079608917236, -0.21981149911880493], [-0.02667740173637867, -5.658824920654297, -3.7793257236480713], [-8.28145980834961, -2.2250816822052, -0.11463870853185654], [-6.119974613189697, -0.1349850594997406, -2.0868887901306152], [-4.580190181732178, -2.1179635524749756, -0.13987065851688385], [-7.369563102722168, -1.4699952602386475, -0.26208800077438354], [-0.0007844470092095435, -7.412572860717773, -8.619400024414062], [-6.4107818603515625, -0.6245890855789185, -0.7702986001968384], [-3.618415355682373, -3.017205238342285, -0.07878673821687698], [-8.27843189239502, -2.615837812423706, -0.07619067281484604], [-0.0006242233794182539, -8.290133476257324, -7.8939595222473145], [-5.32228946685791, -0.06309842318296432, -2.877641439437866], [-2.3985204696655273, -2.4527223110198975, -0.1946912258863449], [-4.821861267089844, -0.19442635774612427, -1.7799806594848633], [-5.362421035766602, -0.5876091718673706, -0.821761965751648], [-9.539877891540527, -4.248964309692383, -0.014454888179898262], [-6.756545066833496, -0.14633235335350037, -2.0027308464050293], [-7.120948791503906, -2.6349263191223145, -0.0752972811460495], [-0.256095290184021, -2.1130645275115967, -2.253178119659424], [-5.0125532150268555, -2.641542434692383, -0.0811072513461113], [-0.000362807244528085, -8.29944896697998, -9.07880973815918], [-5.94836674281396e-05, -10.702157974243164, -10.205026626586914], [-5.727944850921631, -0.35600775480270386, -1.2164535522460938], [-0.0007564543629996479, -7.272460460662842, -9.69096851348877], [-4.679251670837402, -0.35269543528556824, -1.2450629472732544], [-5.029935836791992, -3.099350929260254, -0.05299763008952141], [-6.880594730377197, -0.05599589645862579, -2.929393768310547], [-4.499582767486572, -2.7972254753112793, -0.07482340931892395], [-7.123093128204346, -4.910513401031494, -0.008208585903048515], [-8.969019889831543, -3.2061173915863037, -0.04148983955383301], [-0.003319469979032874, -7.31168794631958, -5.934598922729492], [-0.03822891414165497, -3.4317147731781006, -5.263738632202148], [-6.873154163360596, -3.0986547470092773, -0.0472436286509037], [-1.8000440832111053e-05, -12.332980155944824, -11.209990501403809], [-1.2874520507466514e-05, -15.163464546203613, -11.276334762573242], [-4.657933712005615, -2.6516969203948975, -0.0834006741642952], [-6.461393356323242, -2.5678045749664307, -0.08149893581867218], [-2.9298934936523438, -2.276456356048584, -0.16966204345226288], [-7.383766174316406, -1.5475819110870361, -0.24001389741897583], [-4.637133679352701e-05, -11.330679893493652, -10.280848503112793], [-2.1108717918395996, -0.798041820526123, -0.8470961451530457], [-0.005021934863179922, -5.671514511108398, -6.458770275115967], [-6.530427932739258, -0.5513136386871338, -0.8619227409362793], [-8.239991188049316, -3.303833484649658, -0.0377080962061882], [-0.01084328442811966, -6.838298797607422, -4.634317398071289], [-6.2733635902404785, -2.641400098800659, -0.07596054673194885], [-8.644773483276367, -2.8428361415863037, -0.06021322309970856], [-5.8236517906188965, -0.46932631731033325, -0.9898841977119446], [-5.373383045196533, -0.34327471256256104, -1.2520490884780884], [-8.736421585083008, -2.514429807662964, -0.08454497903585434], [-5.226436138153076, -1.8440101146697998, -0.1785939335823059], [-6.72911262512207, -0.02600465901196003, -3.7101497650146484], [-6.801879405975342, -1.149441123008728, -0.3826163709163666], [-7.535189151763916, -0.07013862580060959, -2.7000598907470703], [-7.407474517822266, -0.02110126242041588, -3.8984391689300537], [-5.478450775146484, -1.6727114915847778, -0.21308566629886627], [-0.5476939678192139, -4.021325588226318, -0.9068627953529358], [-5.714221477508545, -0.16756188869476318, -1.8906276226043701], [-2.1815061700181104e-05, -12.773544311523438, -10.87435245513916], [-5.527265548706055, -0.16566702723503113, -1.9058589935302734], [-0.0018210508860647678, -8.79883098602295, -6.395801067352295], [-6.411933422088623, -1.1572636365890503, -0.37977829575538635], [-6.172835826873779, -0.4628766179084778, -0.9984654784202576], [-4.183767795562744, -0.41125160455703735, -1.1333935260772705], [-7.846733093261719, -1.0366405248641968, -0.4385594129562378], [-2.0773444175720215, -2.5758261680603027, -0.22483670711517334], [-6.220557689666748, -0.07379017025232315, -2.6715445518493652], [-0.18160369992256165, -2.9019744396209717, -2.196842908859253], [-0.00021407696476671845, -10.114801406860352, -8.65945816040039], [-3.7364025115966797, -1.9385408163070679, -0.18362657725811005], [-0.0005509527400135994, -9.747745513916016, -7.616271495819092], [-5.032498359680176, -0.5636804103851318, -0.8571571111679077], [-4.541405200958252, -0.27899986505508423, -1.457568645477295], [-0.00022849810193292797, -9.260673522949219, -8.922845840454102], [-4.820487976074219, -1.430180549621582, -0.2841264307498932], [-3.099454879760742, -0.694889485836029, -0.7857086658477783], [-6.63150691986084, -4.016911029815674, -0.019515881314873695], [-5.966181755065918, -1.029653549194336, -0.44581013917922974], [-6.023575782775879, -0.11725318431854248, -2.2235984802246094], [-7.488180160522461, -0.06626620888710022, -2.755791664123535], [-0.016109894961118698, -5.309787273406982, -4.5064239501953125], [-7.391384601593018, -2.602322816848755, -0.07765655964612961], [-0.00525581045076251, -7.3466362953186035, -5.382296085357666], [-5.353954792022705, -0.2890438139438629, -1.4012407064437866], [-5.05161190032959, -3.7490956783294678, -0.030395319685339928], [-0.03304598107933998, -7.047713279724121, -3.453444242477417], [-3.434058427810669, -0.054070182144641876, -3.8932700157165527], [-5.500681400299072, -0.04616384208202362, -3.1934397220611572], [-0.9943927526473999, -2.7753000259399414, -0.566124677658081], [-6.978404998779297, -0.036673806607723236, -3.350191354751587], [-6.156365871429443, -0.20207741856575012, -1.7100961208343506], [-1.5154114961624146, -3.5415639877319336, -0.28593122959136963], [-5.473689079284668, -0.35396745800971985, -1.2244935035705566], [-5.4472503662109375, -0.12024746835231781, -2.2164905071258545], [-0.0504380501806736, -6.259087085723877, -3.0517895221710205], [-4.646484375, -3.198540210723877, -0.05173241347074509], [-7.035154819488525, -0.06608434021472931, -2.7635457515716553], [-0.00362905184738338, -8.51144027709961, -5.677761554718018], [-4.072556972503662, -0.8172867298126221, -0.6137114763259888], [-5.763955593109131, -0.21151018142700195, -1.6739747524261475], [-7.465399742126465, -0.007745707873255014, -4.941588401794434], [-4.524326801300049, -3.101310968399048, -0.05745137482881546], [-6.353643417358398, -0.20809830725193024, -1.6812968254089355], [-4.965621471405029, -3.688466787338257, -0.03250664845108986], [-0.21494823694229126, -1.983236312866211, -2.8860950469970703], [-0.0051918914541602135, -7.111309051513672, -5.434686660766602], [-0.001086002797819674, -8.253499031066895, -7.099979400634766], [-7.059063911437988, -1.5885590314865112, -0.22951284050941467], [-4.621763229370117, -0.1497482806444168, -2.0460848808288574], [-6.670802593231201, -0.005103655159473419, -5.566649436950684], [-0.0026656591799110174, -6.24887752532959, -7.223123550415039], [-7.985422134399414, -4.265408992767334, -0.014490959234535694], [-5.052455902099609, -3.424239158630371, -0.03974723815917969], [-1.6716617345809937, -3.1236772537231445, -0.2638739347457886], [-0.005091439001262188, -6.752972602844238, -5.543940544128418], [-8.13514232635498, -2.09722900390625, -0.1313500702381134], [-0.002466614358127117, -9.595263481140137, -6.03412389755249], [-6.493732452392578, -2.468578815460205, -0.09016328305006027], [-8.9827880859375, -3.5253102779388428, -0.030014095827937126], [-5.9498419761657715, -0.3957926630973816, -1.1262481212615967], [-0.6086206436157227, -4.0140581130981445, -0.8259034752845764], [-1.6801824569702148, -1.2158317565917969, -0.6593320965766907], [-0.0005978942499496043, -9.873953819274902, -7.512415885925293], [-6.043771743774414, -1.1312588453292847, -0.39304181933403015], [-0.007960261777043343, -7.511242866516113, -4.9087300300598145], [-2.5486350059509277, -4.119760513305664, -0.09919817745685577], [-4.480425834655762, -0.7665013670921326, -0.6461957097053528], [-0.14132338762283325, -3.240344285964966, -2.3790218830108643], [-0.0051690032705664635, -7.119390487670898, -5.438405990600586], [-6.396115779876709, -0.10494580864906311, -2.3232102394104004], [-5.772043704986572, -0.037344351410865784, -3.3949475288391113], [-6.886405944824219, -0.40001314878463745, -1.1127097606658936], [-0.8838734030723572, -4.022494792938232, -0.5640288591384888], [-6.163859844207764, -0.020237978547811508, -4.021252632141113], [-7.3783955574035645, -0.039911624044179916, -3.257070541381836], [-7.934561729431152, -2.2401347160339355, -0.11294735968112946], [-8.545719146728516, -3.001436471939087, -0.05119853466749191], [-8.420519828796387, -4.194707870483398, -0.015413685701787472], [-5.293220520019531, -0.07074335217475891, -2.760288953781128], [-3.3614139556884766, -3.8160018920898438, -0.058372873812913895], [-5.873765468597412, -0.04036466032266617, -3.303654670715332], [-4.232453346252441, -0.4631357789039612, -1.0323302745819092], [-6.786649703979492, -1.3665205240249634, -0.2958775460720062], [-0.0722653716802597, -3.375333070755005, -3.3379604816436768], [-3.567505121231079, -0.13256435096263885, -2.344165802001953], [-0.0008937893435359001, -8.731443405151367, -7.219719886779785], [-7.131229877471924, -3.1912953853607178, -0.0428222119808197], [-6.888274192810059, -2.5124707221984863, -0.08565306663513184], [-4.979709148406982, -0.08380121737718582, -2.610335111618042], [-6.349139213562012, -0.01704179309308529, -4.189812660217285], [-7.99134635925293, -4.384366035461426, -0.012891876511275768], [-3.3916337490081787, -0.12948015332221985, -2.43275785446167], [-7.191757678985596, -1.8514177799224854, -0.17169886827468872], [-0.06235555559396744, -3.8498945236206055, -3.239863395690918], [-7.413665771484375, -0.01109596248716116, -4.56290340423584], [-7.397613048553467, -3.6136958599090576, -0.027951862663030624], [-0.00019631843315437436, -11.55400276184082, -8.586597442626953], [-6.449954032897949, -2.363609790802002, -0.10055065155029297], [-0.0011557810939848423, -9.04357624053955, -6.871455192565918], [-0.007662546820938587, -8.349311828613281, -4.906721115112305], [-0.00010513706365600228, -10.46234130859375, -9.477580070495605], [-0.00016175392374861985, -9.311514854431152, -9.546586036682129], [-7.154381275177002, -1.799591302871704, -0.1816992312669754], [-5.591117858886719, -4.643012046813965, -0.013449535705149174], [-8.16604995727539, -3.1840126514434814, -0.04259775951504707], [-6.12763786315918, -0.06953120231628418, -2.733564615249634], [-0.000228140561375767, -8.475945472717285, -10.83497142791748], [-5.877392768859863, -0.04624078795313835, -3.1609396934509277], [-3.873732805252075, -2.2900049686431885, -0.1301618367433548], [-7.30817174911499, -2.597663402557373, -0.07808841019868851], [-0.00013636612857226282, -9.831900596618652, -9.401867866516113], [-1.940430760383606, -1.6425583362579346, -0.41117098927497864], [-5.485077857971191, -0.9298455715179443, -0.5087659358978271], [-7.081500053405762, -0.08108702301979065, -2.563352108001709], [-0.00019643761334009469, -8.841681480407715, -9.867925643920898], [-7.53196382522583, -0.0897306278347969, -2.4617342948913574], [-6.855145454406738, -0.10322947800159454, -2.3327760696411133], [-6.319908618927002, -2.348493814468384, -0.10237941145896912], [-0.002272525103762746, -8.41159725189209, -6.191059112548828], [-4.212701797485352, -2.288550615310669, -0.12354682385921478], [-5.524608135223389, -3.112262725830078, -0.04970261827111244], [-5.604326248168945, -0.1983114629983902, -1.7361146211624146], [-7.615330219268799, -0.05407300591468811, -2.953742265701294], [-0.0001793938863556832, -11.634839057922363, -8.676551818847656], [-0.010788212530314922, -5.960529804229736, -4.809535503387451], [-0.002168329432606697, -6.942031383514404, -6.725770473480225], [-4.563206672668457, -0.9772670865058899, -0.4890098571777344], [-5.8956499099731445, -0.8917465209960938, -0.5322034358978271], [-0.003649006364867091, -7.641577243804932, -5.756473541259766], [-6.900821685791016, -0.12676633894443512, -2.136617422103882], [-5.931954383850098, -0.09670689702033997, -2.413241386413574], [-3.633667230606079, -2.7418887615203857, -0.09526457637548447], [-6.77435302734375, -0.011911691166460514, -4.537668228149414], [-5.993452548980713, -1.9260048866271973, -0.16043198108673096], [-5.713760852813721, -2.6642487049102783, -0.07574982196092606], [-3.325883881188929e-05, -10.793129920959473, -11.268251419067383], [-7.46831750869751, -2.7618014812469482, -0.06587141007184982], [-9.516630172729492, -0.0012303171679377556, -6.762869358062744], [-5.088527202606201, -0.2760330140590668, -1.4479782581329346], [-2.7820420265197754, -0.914493203163147, -0.621071457862854], [-7.2070722579956055, -4.932515621185303, -0.007981549017131329], [-5.9305853843688965, -0.3450726270675659, -1.2407262325286865], [-6.855100631713867, -0.15101619064807892, -1.9724745750427246], [-0.04232480749487877, -4.971926689147949, -3.366450071334839], [-3.499884843826294, -2.7074546813964844, -0.1019299328327179], [-5.697099685668945, -0.19565518200397491, -1.7466987371444702], [-8.72290325164795, -3.956622362136841, -0.01947893761098385], [-7.64699125289917, -0.004760123789310455, -5.45583963394165], [-6.3840012550354, -0.09067578613758087, -2.4651288986206055], [-8.401174545288086, -3.3573012351989746, -0.03568296507000923], [-6.575624465942383, -0.13411132991313934, -2.086559534072876], [-6.381613731384277, -4.783638954162598, -0.010108822025358677], [-0.001515312702395022, -6.852216720581055, -7.690749645233154], [-5.787657737731934, -0.13738757371902466, -2.077024221420288], [-0.0010829067323356867, -8.40042495727539, -7.061479568481445], [-4.661708831787109, -0.21198871731758118, -1.7060818672180176], [-0.43195104598999023, -1.2064979076385498, -2.965874195098877], [-5.245510101318359, -0.3723832368850708, -1.1853512525558472], [-7.393752574920654, -0.24138231575489044, -1.5425100326538086], [-5.722960472106934, -3.2159066200256348, -0.04435844346880913], [-3.5770137310028076, -2.2956807613372803, -0.13771367073059082], [-7.240844249725342, -1.3990912437438965, -0.2844046354293823], [-8.960171699523926, -2.7929563522338867, -0.06333219259977341], [-2.6181089878082275, -2.6254756450653076, -0.15705852210521698], [-6.750343322753906, -0.12251381576061249, -2.170366048812866], [-0.6068821549415588, -3.0278208255767822, -0.9000942707061768], [-0.0004142856632824987, -9.855507850646973, -7.924625873565674], [-3.73073410987854, -0.40633630752563477, -1.171380877494812], [-4.915619850158691, -3.8432974815368652, -0.029175495728850365], [-5.901318073272705, -1.4661556482315063, -0.2659818232059479], [-7.050146102905273, -1.4901496171951294, -0.2564498484134674], [-6.08073616027832, -1.714263916015625, -0.20136089622974396], [-6.3440375328063965, -3.2236881256103516, -0.042453695088624954], [-5.954787254333496, -2.4465253353118896, -0.09341797232627869], [-3.096118927001953, -0.05319037288427353, -5.024316787719727], [-0.0012423424050211906, -8.415596961975098, -6.887697696685791], [-7.724016189575195, -0.2540186941623688, -1.4966424703598022], [-3.817659378051758, -0.07800108194351196, -2.9363813400268555], [-5.82644510269165, -3.8546295166015625, -0.024425873532891273], [-0.0046249800361692905, -8.571595191955566, -5.420495510101318], [-7.796145915985107, -3.645214796066284, -0.0268852636218071], [-5.635559558868408, -3.9069502353668213, -0.023955080658197403], [-8.189342770492658e-05, -10.53874397277832, -9.799541473388672], [-6.440796375274658, -0.9172728657722473, -0.5128317475318909], [-5.723940372467041, -0.7088342905044556, -0.6841565370559692], [-5.529778957366943, -0.16422459483146667, -1.9140511751174927], [-0.03435785695910454, -4.672224998474121, -3.71223521232605], [-0.00015960850578267127, -10.802855491638184, -8.879748344421387], [-8.06087875366211, -2.9800353050231934, -0.05245888605713844], [-5.310362339019775, -2.0835416316986084, -0.13860554993152618], [-0.026560626924037933, -4.57090950012207, -4.143803119659424], [-0.008089279755949974, -6.7139434814453125, -4.9845476150512695], [-5.414347171783447, -0.6655739545822144, -0.7307051420211792], [-4.520087242126465, -1.9642950296401978, -0.16386421024799347], [-6.34477424621582, -0.09973239153623581, -2.3733882904052734], [-5.573122024536133, -2.828778028488159, -0.06494774669408798], [-7.061490058898926, -3.842470407485962, -0.022550344467163086], [-0.8023859858512878, -1.3619263172149658, -1.2188327312469482], [-7.339658737182617, -0.12503616511821747, -2.1465582847595215], [-0.004687392618507147, -6.488151550292969, -5.758752822875977], [-1.0472753047943115, -0.4677601456642151, -3.7852234840393066], [-8.511038780212402, -3.3519113063812256, -0.03585376963019371], [-6.425714015960693, -0.4899422526359558, -0.9526464343070984], [-0.02956676110625267, -3.6873819828033447, -5.497629165649414], [-6.032952785491943, -0.09519044309854507, -2.4258625507354736], [-7.938908100128174, -0.6301304697990417, -0.7611667513847351], [-5.549900054931641, -2.9830422401428223, -0.0560692735016346], [-6.317256927490234, -0.13834388554096222, -2.060455560684204], [-4.152219772338867, -1.4315847158432007, -0.2939140796661377], [-0.04637235775589943, -4.115016937255859, -3.5408756732940674], [-0.941872239112854, -1.0661499500274658, -1.3251194953918457], [-0.08851805329322815, -4.145320892333984, -2.675462007522583], [-7.114889621734619, -0.06076979264616966, -2.8447771072387695], [-0.006805574521422386, -5.019097805023193, -8.66769790649414], [-0.7821815609931946, -4.104640960693359, -0.6422695517539978], [-5.619921684265137, -2.716987371444702, -0.07224640250205994], [-0.002810459118336439, -5.941144943237305, -8.636919021606445], [-0.00289022084325552, -6.95733642578125, -6.247936725616455], [-0.0015404274454340339, -6.841696262359619, -7.660562038421631], [-3.206730842590332, -1.601189136505127, -0.27726370096206665], [-0.01015708688646555, -7.620598316192627, -4.644378185272217], [-9.536697689327411e-06, -13.528810501098633, -11.70163345336914], [-6.8930983543396, -0.04379505664110184, -3.1740188598632812], [-8.35560131072998, -3.307579278945923, -0.037535425275564194], [-0.0019985719118267298, -9.147292137145996, -6.271098613739014], [-8.247835159301758, -3.4043667316436768, -0.03406329080462456], [-7.000947952270508, -2.9739878177642822, -0.053411442786455154], [-0.0034743917640298605, -8.197785377502441, -5.746769905090332], [-5.484365463256836, -0.0839729905128479, -2.5718679428100586], [-0.048134367913007736, -3.540285587310791, -4.017982482910156], [-4.639480113983154, -2.3141090869903564, -0.11486892402172089], [-7.144707202911377, -0.025303103029727936, -3.721544027328491], [-3.7760074138641357, -0.057216670364141464, -3.420485496520996], [-1.4322479963302612, -2.9318671226501465, -0.34540855884552], [-7.251369953155518, -0.030313096940517426, -3.535332679748535], [-4.504284858703613, -0.19702550768852234, -1.7851682901382446], [-0.3182786703109741, -1.908673644065857, -2.084871768951416], [-6.180916786193848, -1.2211085557937622, -0.35235798358917236], [-0.022079600021243095, -8.348575592041016, -3.83501935005188], [-5.69815731048584, -3.568434000015259, -0.032060656696558], [-7.4519171714782715, -0.4486050605773926, -1.0191502571105957], [-0.03573277220129967, -3.501164197921753, -5.3104567527771], [-5.580343723297119, -0.26468318700790405, -1.4749958515167236], [-0.34513795375823975, -2.038738250732422, -1.822108507156372], [-7.429052352905273, -2.6812052726745605, -0.07157578319311142], [-6.315108776092529, -0.4747375249862671, -0.9777859449386597], [-7.775589942932129, -3.5708277225494385, -0.028967993333935738], [-4.383421897888184, -1.657244086265564, -0.2270841747522354], [-5.809730529785156, -0.10788926482200623, -2.309863805770874], [-0.5266106724739075, -3.8801023960113525, -0.9448240995407104], [-0.02476388029754162, -4.851447105407715, -4.095777988433838], [-0.004492191597819328, -5.923529624938965, -6.316478252410889], [-0.7037071585655212, -2.6034798622131348, -0.8410982489585876], [-6.683346271514893, -3.8189806938171387, -0.023475099354982376], [-6.254653453826904, -0.013356378301978111, -4.478880882263184], [-0.0007167869480326772, -8.22474193572998, -7.709333419799805], [-9.283941268920898, -3.427016019821167, -0.03311910107731819], [-3.329768180847168, -2.54205060005188, -0.1216098964214325], [-0.00017927470616996288, -9.459056854248047, -9.196884155273438], [-6.214815616607666, -0.5798063278198242, -0.82555091381073], [-0.1844233274459839, -2.8761749267578125, -2.1886634826660156], [-0.2247023582458496, -4.274389743804932, -1.6749072074890137], [-0.00021884430316276848, -10.628153800964355, -8.544563293457031], [-2.586808113846928e-05, -11.732893943786621, -10.932572364807129], [-3.323333501815796, -3.731968641281128, -0.06185220181941986], [-6.752569198608398, -0.03908265754580498, -3.292496681213379], [-0.0011426832061260939, -9.357003211975098, -6.853594779968262], [-5.174455642700195, -1.907623052597046, -0.16734470427036285], [-0.0008192281820811331, -8.69316577911377, -7.336797714233398], [-3.9529201984405518, -2.998290777206421, -0.07157201319932938], [-0.0017576259560883045, -8.673613548278809, -6.447142601013184], [-5.5511794090271, -0.21885743737220764, -1.6467198133468628], [-7.215824127197266, -2.844731569290161, -0.06068969517946243], [-6.997372150421143, -0.2360229790210724, -1.5638757944107056], [-8.892809867858887, -3.4069831371307373, -0.03384469822049141], [-7.559874534606934, -0.516016960144043, -0.9098470211029053], [-0.00874203722923994, -5.504296779632568, -5.374197483062744], [-0.003946968819946051, -8.044062614440918, -5.621769428253174], [-0.06496026366949081, -4.199418067932129, -3.0388283729553223], [-5.259156703948975, -1.6835271120071411, -0.21185436844825745], [-0.5412003397941589, -3.197136402130127, -0.9753198027610779], [-6.8438849449157715, -2.2902817726135254, -0.10792361199855804], [-5.4187846183776855, -2.279106855392456, -0.11295385658740997], [-5.514708518981934, -1.5266486406326294, -0.25011613965034485], [-1.4046337604522705, -1.339864730834961, -0.7079320549964905], [-5.001615524291992, -0.20916847884655, -1.7036696672439575], [-6.318499565124512, -0.28981611132621765, -1.3871099948883057], [-7.1554670333862305, -0.028692221269011497, -3.5934267044067383], [-0.016182150691747665, -5.275627136230469, -4.515592575073242], [-5.298227787017822, -0.09539765119552612, -2.4535462856292725], [-5.684548854827881, -0.7858452796936035, -0.6145807504653931], [-1.5375514030456543, -3.461073160171509, -0.2827644348144531], [-0.005968011915683746, -8.35239315032959, -5.16477108001709], [-0.016658492386341095, -5.646724700927734, -4.343460559844971], [-5.0923991203308105, -0.12945187091827393, -2.1603922843933105], [-6.152595520019531, -2.509582996368408, -0.08711685240268707], [-7.789963245391846, -2.9108171463012695, -0.05640644207596779], [-5.4596363042946905e-05, -12.594502449035645, -9.878008842468262], [-5.283019065856934, -0.2180420458316803, -1.6563655138015747], [-7.301463603973389, -0.017483053728938103, -4.094953536987305], [-3.751371383666992, -3.1022140979766846, -0.07088939100503922], [-6.6756979322235566e-06, -13.64484691619873, -12.116358757019043], [-4.755456447601318, -3.027266502380371, -0.058744676411151886], [-0.009791442193090916, -5.019791126251221, -5.7642621994018555], [-7.93251895904541, -3.525578737258911, -0.03024647943675518], [-4.269713401794434, -0.5076686143875122, -0.9568079710006714], [-5.645185470581055, -1.1682029962539673, -0.3775480389595032], [-0.011405267752707005, -7.653627872467041, -4.522106647491455], [-8.071125984191895, -2.1800894737243652, -0.12029799818992615], [-7.0414323806762695, -2.7803540229797363, -0.06495601683855057], [-4.645532608032227, -0.4936617612838745, -0.9675619602203369], [-0.00944018829613924, -7.406394958496094, -4.734316825866699], [-5.002607822418213, -0.34784188866615295, -1.2480323314666748], [-0.007413850631564856, -6.835587501525879, -5.065353870391846], [-0.0005810956354252994, -10.59941291809082, -7.494680404663086], [-5.244564533233643, -0.39503565430641174, -1.1361027956008911], [-6.283574104309082, -0.2254573404788971, -1.6095272302627563], [-6.874755382537842, -3.1742846965789795, -0.04380304366350174], [-6.111329078674316, -0.8074814677238464, -0.5945649743080139], [-4.1585917472839355, -0.22146587073802948, -1.698120355606079], [-0.0004587313160300255, -10.100918769836426, -7.780904769897461], [-8.04680061340332, -0.06769701838493347, -2.731273889541626], [-2.807591199874878, -3.3158507347106934, -0.10164891183376312], [-0.0020920787937939167, -10.147525787353516, -6.1895222663879395], [-0.0013799677835777402, -10.138289451599121, -6.615444183349609], [-6.103329360485077e-05, -9.872161865234375, -11.571918487548828], [-0.004429528955370188, -5.6097187995910645, -7.185204029083252], [-6.038421154022217, -0.15299095213413239, -1.9698539972305298], [-5.513983249664307, -0.4750925898551941, -0.98311847448349], [-5.677162170410156, -0.49145686626434326, -0.9549218416213989], [-7.385499000549316, -0.03136218339204788, -3.4980833530426025], [-2.622600959512056e-06, -14.429715156555176, -13.09718132019043], [-4.768370445162873e-07, -15.084864616394043, -15.275306701660156], [-1.3518227338790894, -0.9852291345596313, -1.0000033378601074], [-0.0036275077145546675, -8.490219116210938, -5.6794562339782715], [-0.0011547094909474254, -9.814879417419434, -6.8130292892456055], [-6.14224100112915, -0.017590349540114403, -4.180788040161133], [-0.22881430387496948, -4.559523105621338, -1.6396048069000244], [-6.747239112854004, -1.9048384428024292, -0.162543386220932], [-3.1094655990600586, -1.8098307847976685, -0.23358102142810822], [-5.386679172515869, -0.2666257619857788, -1.4720126390457153], [-9.46007251739502, -4.7217116355896, -0.009018284268677235], [-0.0038661037106066942, -7.896215438842773, -5.658873081207275], [-1.5090876817703247, -0.9908431768417358, -0.8974080085754395], [-0.0033949140924960375, -8.531654357910156, -5.747074127197266], [-0.002540101297199726, -7.779380798339844, -6.157023906707764], [-4.066943168640137, -0.06326516717672348, -3.1195785999298096], [-4.7546210289001465, -2.0882697105407715, -0.14215485751628876], [-0.004278909880667925, -6.375026702880859, -5.965322494506836], [-6.350768566131592, -0.21953043341636658, -1.6329171657562256], [-7.38392448425293, -3.056042432785034, -0.04886970296502113], [-6.517622470855713, -0.560596764087677, -0.8494396805763245], [-4.658947944641113, -0.3051348328590393, -1.3723931312561035], [-6.578073024749756, -0.26019126176834106, -1.4797027111053467], [-2.442814588546753, -2.8506295680999756, -0.15633082389831543], [-0.00044705410255119205, -9.656916618347168, -7.867466926574707], [-0.0007868293323554099, -9.416289329528809, -7.25714635848999], [-0.03650498017668724, -4.032878398895264, -4.0105485916137695], [-4.601931571960449, -0.9875615835189819, -0.48210254311561584], [-1.9788545614574105e-05, -13.557238578796387, -10.896285057067871], [-0.0015087660867720842, -9.061649322509766, -6.577349662780762], [-5.6217122077941895, -0.48761147260665894, -0.9615753293037415], [-4.780249118804932, -0.7041313052177429, -0.6990281939506531], [-5.782832145690918, -0.38534554839134216, -1.149786353111267], [-0.005449321586638689, -7.916810989379883, -5.284418106079102], [-0.018648535013198853, -5.165031433105469, -4.361217975616455], [-0.0001629458274692297, -10.682734489440918, -8.873876571655273], [-8.079813957214355, -0.010229303501546383, -4.618517875671387], [-5.0697340965271, -0.7787941098213196, -0.6259433627128601], [-1.3217030763626099, -0.39744138717651367, -2.792271375656128], [-6.33486795425415, -0.09148374944925308, -2.457479953765869], [-7.059159755706787, -3.1830501556396484, -0.043240029364824295], [-8.096197128295898, -0.045648280531167984, -3.11637806892395], [-7.707613468170166, -2.9814484119415283, -0.05252426490187645], [-9.807103157043457, -4.4734787940979, -0.011528775095939636], [-6.428774356842041, -2.75978422164917, -0.06712300330400467], [-0.001686342409811914, -8.87137508392334, -6.473016262054443], [-7.352802753448486, -3.585379123687744, -0.02877701073884964], [-4.195830821990967, -4.078845500946045, -0.032507918775081635], [-0.0007626485894434154, -8.72775650024414, -7.418034076690674], [-7.363575458526611, -0.03134993836283684, -3.498932361602783], [-7.889529228210449, -0.022348223254084587, -3.8292605876922607], [-0.0009280903614126146, -8.819375038146973, -7.156451225280762], [-0.0826563909649849, -3.1594138145446777, -3.3000316619873047], [-0.01617499627172947, -5.284449100494385, -4.5121259689331055], [-0.0004258441040292382, -9.637438774108887, -7.9281415939331055], [-2.2020206451416016, -3.6047987937927246, -0.1482360064983368], [-4.111051082611084, -2.3197622299194336, -0.1218145564198494], [-6.609206199645996, -0.33510932326316833, -1.2609232664108276], [-6.23895788192749, -0.050113942474126816, -3.0591611862182617], [-7.690793991088867, -0.13887730240821838, -2.046330451965332], [-0.0001262346631847322, -10.505109786987305, -9.2221097946167], [-6.156982898712158, -2.7194504737854004, -0.0704542025923729], [-3.028305768966675, -3.5748393535614014, -0.0794951468706131], [-1.4185804502631072e-05, -13.142352104187012, -11.310150146484375], [-0.0008536509121768177, -8.356658935546875, -7.388299465179443], [-0.0005347490659914911, -9.52409839630127, -7.680905342102051], [-5.93733024597168, -0.22898687422275543, -1.5993787050247192], [-0.00010907054820563644, -10.915870666503906, -9.305259704589844], [-4.621334075927734, -4.266719818115234, -0.024156760424375534], [-0.007521405816078186, -8.63226318359375, -4.917840480804443], [-4.750895023345947, -2.0922911167144775, -0.14161892235279083], [-7.804299354553223, -0.022429006174206734, -3.8271586894989014], [-3.025055408477783, -0.17272475361824036, -2.206587076187134], [-0.025189191102981567, -6.443436622619629, -3.7600014209747314], [-0.18112580478191376, -2.956373929977417, -2.174522638320923], [-4.4142560958862305, -2.9715006351470947, -0.06542420387268066], [-7.138644218444824, -0.9179255962371826, -0.5110595226287842], [-5.644139289855957, -2.8580427169799805, -0.06285373121500015], [-5.3641204833984375, -1.6261879205703735, -0.2248443216085434], [-7.172531604766846, -0.015808964148163795, -4.205235004425049], [-7.835457801818848, -0.3935556411743164, -1.1240816116333008], [-5.547205448150635, -0.9784059524536133, -0.47772637009620667], [-2.81654953956604, -0.3394306004047394, -1.4783557653427124], [-5.054197788238525, -0.19542302191257477, -1.7653264999389648], [-0.0007307243067771196, -8.792581558227539, -7.454840183258057], [-0.00010096516780322418, -9.671784400939941, -10.179217338562012], [-8.93922233581543, -3.9672064781188965, -0.01924123242497444], [-5.917466640472412, -0.15210886299610138, -1.9775117635726929], [-0.0011236312566325068, -9.3046293258667, -6.876210689544678], [-6.868721008300781, -0.5969215035438538, -0.8019436001777649], [-7.763332843780518, -2.8973963260650635, -0.05719663202762604], [-0.027407338842749596, -4.576353549957275, -4.089788913726807], [-6.868434906005859, -2.5716450214385986, -0.08061357587575912], [-0.003482945030555129, -5.954936981201172, -7.0311994552612305], [-3.2321853637695312, -0.1907586008310318, -2.0084476470947266], [-4.848117351531982, -1.576425552368164, -0.2415059208869934], [-4.800218105316162, -0.1990128755569458, -1.7589088678359985], [-6.557779788970947, -0.026952335610985756, -3.681968927383423], [-6.441350936889648, -0.45906928181648254, -1.003663182258606], [-7.175057411193848, -0.04316707327961922, -3.1824655532836914], [-6.608293533325195, -0.3222804367542267, -1.2940584421157837], [-6.496143341064453, -2.9164652824401855, -0.057241328060626984], [-0.001739775761961937, -9.214371681213379, -6.413852691650391], [-7.832137584686279, -1.2866759300231934, -0.3237709403038025], [-0.003446117974817753, -6.7009453773498535, -6.114532470703125], [-6.821593284606934, -0.7200677990913391, -0.6690581440925598], [-4.42189359664917, -0.03319302201271057, -3.880681037902832], [-6.925495147705078, -0.08361582458019257, -2.535362482070923], [-5.770163059234619, -0.09697925299406052, -2.4156875610351562], [-6.6191816329956055, -2.5868523120880127, -0.07968307286500931], [-5.745876312255859, -1.9105418920516968, -0.16392715275287628], [-0.7129138112068176, -0.7669035196304321, -3.0936238765716553], [-4.187836647033691, -2.559713840484619, -0.09706829488277435], [-0.0010659971740096807, -9.736289978027344, -6.9013776779174805], [-5.5062360763549805, -0.05076771602034569, -3.0913808345794678], [-4.1858344078063965, -1.3467051982879639, -0.3220049738883972], [-4.219691753387451, -2.9224343299865723, -0.0709652379155159], [-6.308222770690918, -0.13605573773384094, -2.076368808746338], [-0.009312997572124004, -7.044365406036377, -4.779834270477295], [-3.3240966796875, -0.5267167687416077, -0.9849596619606018], [-0.03463851660490036, -3.4254701137542725, -6.494697570800781], [-5.831014156341553, -0.16989411413669586, -1.8752883672714233], [-0.00040141629870049655, -9.308485984802246, -8.076781272888184], [-6.730469703674316, -0.014710296876728535, -4.311854362487793], [-0.0037555419839918613, -6.312587738037109, -6.247587203979492], [-5.883201599121094, -4.076121807098389, -0.01995675079524517], [-6.539085388183594, -0.1460062563419342, -2.00692081451416], [-6.492650508880615, -2.6664793491363525, -0.07365839183330536], [-6.115321159362793, -1.9284697771072388, -0.1596750169992447], [-2.0944929122924805, -2.8043456077575684, -0.20294757187366486], [-4.926881313323975, -1.3013646602630615, -0.3276839256286621], [-6.890385627746582, -0.017573600634932518, -4.110320091247559], [-7.3968634605407715, -0.012473664246499538, -4.441099643707275], [-0.0019026764202862978, -6.542808532714844, -7.683287620544434], [-6.152523040771484, -0.06624846905469894, -2.7810463905334473], [-7.410780906677246, -2.2078070640563965, -0.11714768409729004], [-7.974698543548584, -0.02891506813466549, -3.5699620246887207], [-5.928204536437988, -3.1699583530426025, -0.04569702595472336], [-8.222443580627441, -3.219719171524048, -0.04106660187244415], [-7.855063438415527, -0.015897786244750023, -4.174404144287109], [-5.8332719802856445, -0.37741097807884216, -1.1665573120117188], [-6.818880081176758, -0.35429030656814575, -1.2132294178009033], [-7.598011493682861, -2.4843761920928955, -0.08760688453912735], [-0.0003649522550404072, -9.952101707458496, -8.055824279785156], [-4.537324905395508, -0.2953774333000183, -1.406303882598877], [-6.289422988891602, -0.029375430196523666, -3.6085031032562256], [-6.038440704345703, -0.02318965643644333, -3.8855016231536865], [-5.403761386871338, -1.3654015064239502, -0.3008047938346863], [-0.012458005920052528, -4.8900065422058105, -5.326847076416016], [-3.558572769165039, -1.2438640594482422, -0.38089096546173096], [-6.937135219573975, -0.2869115471839905, -1.392510175704956], [-3.7566633224487305, -0.9925297498703003, -0.5008743405342102], [-0.034042779356241226, -6.112208843231201, -3.4656014442443848], [-7.61367654800415, -0.015242170542478561, -4.224475860595703], [-0.002043304033577442, -7.469637393951416, -6.521691799163818], [-3.960092067718506, -0.4013858139514923, -1.1662052869796753], [-3.573535919189453, -1.474095106124878, -0.297116219997406], [-0.00022766382608097047, -9.30712604522705, -8.897126197814941], [-5.683028221130371, -2.9153850078582764, -0.05931105464696884], [-1.7865926027297974, -4.098389625549316, -0.20349948108196259], [-7.3607282638549805, -2.8593945503234863, -0.05968542769551277], [-6.089139938354492, -0.368770033121109, -1.1836860179901123], [-0.00805073045194149, -7.146883010864258, -4.929359436035156], [-0.0005000770906917751, -10.549126625061035, -7.654942512512207], [-2.2180473804473877, -1.9653960466384888, -0.28624555468559265], [-5.447504043579102, -1.5074279308319092, -0.25590693950653076], [-6.653970718383789, -0.16509605944156647, -1.8911454677581787], [-5.786550998687744, -0.2820008099079132, -1.4161006212234497], [-2.0027382373809814, -2.86405611038208, -0.21319586038589478], [-7.762437343597412, -4.05966329574585, -0.017838401719927788], [-1.895545244216919, -3.83248233795166, -0.1886119246482849], [-7.129227161407471, -0.6876643896102905, -0.7002729177474976], [-5.121648788452148, -0.1377549171447754, -2.097836971282959], [-0.4094989597797394, -4.59712553024292, -1.121052861213684], [-0.0014817459741607308, -7.807522296905518, -6.836280822753906], [-8.432527542114258, -0.020735278725624084, -3.8969345092773438], [-2.8729025871143676e-05, -12.89958667755127, -10.548398971557617], [-0.0006282739923335612, -8.445311546325684, -7.791593551635742], [-6.349574565887451, -0.320881187915802, -1.299225091934204], [-0.012150791473686695, -8.479009628295898, -4.433778762817383], [-1.9204554557800293, -0.5862309336662292, -1.213890552520752], [-4.826465606689453, -3.5252718925476074, -0.03817819803953171], [-6.800025463104248, -0.581792414188385, -0.8210020661354065], [-7.170233249664307, -1.4592803716659546, -0.26549360156059265], [-0.00030393750057555735, -11.591175079345703, -8.12978458404541], [-6.680758476257324, -0.06800167262554169, -2.7413034439086914], [-5.955073833465576, -0.14817844331264496, -2.0015172958374023], [-0.009784241206943989, -4.988949298858643, -5.834916591644287], [-4.439709663391113, -0.15919995307922363, -1.9997082948684692], [-7.238615036010742, -2.5927939414978027, -0.07853362709283829], [-7.7898969650268555, -3.574638605117798, -0.028851717710494995], [-4.859407901763916, -0.5008062124252319, -0.9513920545578003], [-5.518777370452881, -2.8130970001220703, -0.06617137789726257], [-6.915975093841553, -0.027514968067407608, -3.643979787826538], [-2.1588425636291504, -0.6012669801712036, -1.0893813371658325], [-7.205362796783447, -0.053824178874492645, -2.9630954265594482], [-6.858602523803711, -0.12594719231128693, -2.1431210041046143], [-6.480539321899414, -0.3460085690021515, -1.234567403793335], [-9.345011711120605, -4.97609281539917, -0.007012872491031885], [-4.949663162231445, -0.29405665397644043, -1.3956177234649658], [-0.014217042364180088, -5.3891215324401855, -4.651169300079346], [-6.585633277893066, -0.08098148554563522, -2.5716521739959717], [-0.205171138048172, -4.0937628746032715, -1.7789477109909058], [-0.025043409317731857, -4.0506086349487305, -4.917065143585205], [-0.006998430471867323, -8.802543640136719, -4.987366676330566], [-0.008441835641860962, -7.4822998046875, -4.848084449768066], [-0.024249032139778137, -5.501675605773926, -3.9181699752807617], [-4.066452980041504, -0.9794596433639526, -0.4986534118652344], [-4.555728912353516, -1.9587764739990234, -0.16432958841323853], [-7.293102741241455, -0.0448729582130909, -3.1418955326080322], [-0.007290426176041365, -6.520066738128662, -5.151564598083496], [-5.881593704223633, -1.5474613904953003, -0.24280795454978943], [-5.876845170860179e-05, -11.337420463562012, -9.967781066894531], [-8.53850269317627, -3.39737868309021, -0.03423609957098961], [-1.63271963596344, -3.6555492877960205, -0.2500584125518799], [-6.617709159851074, -0.027944326400756836, -3.6411938667297363], [-0.06326628476381302, -4.1497392654418945, -3.089207887649536], [-8.611329078674316, -3.215380907058716, -0.0411575548350811], [-1.1920928244535389e-07, -17.06447982788086, -16.309326171875], [-1.4556667804718018, -0.3204101324081421, -3.1965293884277344], [-6.030911445617676, -0.047665514051914215, -3.120297431945801], [-0.0010115751065313816, -10.2023286819458, -6.934085369110107], [-5.102424621582031, -0.9736089706420898, -0.4841827154159546], [-4.1857404708862305, -0.25444701313972473, -1.5632994174957275], [-0.021547269076108932, -4.397613525390625, -4.709406852722168], [-0.09807106852531433, -4.667904853820801, -2.4766571521759033], [-0.0017326356610283256, -7.4402008056640625, -6.773281097412109], [-0.6589266657829285, -4.008415699005127, -0.766941249370575], [-6.8063201904296875, -2.3097445964813232, -0.1057976707816124], [-0.0005782362422905862, -10.486604690551758, -7.505198001861572], [-6.183661460876465, -0.023495826870203018, -3.855684995651245], [-6.194580554962158, -0.019451230764389038, -4.061522483825684], [-0.019363541156053543, -5.68665885925293, -4.148606300354004], [-1.885765552520752, -1.3725759983062744, -0.5194730162620544], [-7.007905006408691, -0.037604428827762604, -3.3241958618164062], [-7.49851655960083, -0.06022411212325096, -2.849165201187134], [-6.250400543212891, -0.12805069983005524, -2.134856939315796], [-0.00021717573690693825, -10.122414588928223, -8.63949966430664], [-2.658331868587993e-05, -11.181676864624023, -11.278026580810547], [-3.349725011503324e-05, -11.215876579284668, -10.81556224822998], [-0.025426533073186874, -6.554885387420654, -3.743006944656372], [-5.053903579711914, -0.02685033157467842, -3.906601905822754], [-7.469470500946045, -0.04717949777841568, -3.089742660522461], [-6.0483222007751465, -0.23359735310077667, -1.5800846815109253], [-6.917384147644043, -0.2036447823047638, -1.6968631744384766], [-5.5404953956604, -0.07183399051427841, -2.7273852825164795], [-6.998680591583252, -3.531989097595215, -0.030623914673924446], [-5.961271286010742, -0.281083881855011, -1.4169254302978516], [-2.9802276912960224e-06, -13.16020679473877, -13.769343376159668], [-6.647909164428711, -0.14232516288757324, -2.02978253364563], [-0.005005210638046265, -7.137744903564453, -5.473119735717773], [-6.6099138259887695, -2.4761502742767334, -0.08928284049034119]]\n",
            "tensor([[9.9604e-01, 1.8687e-04, 3.7758e-03],\n",
            "        [2.6697e-03, 8.2089e-02, 9.1524e-01],\n",
            "        [9.2272e-01, 7.0912e-03, 7.0188e-02],\n",
            "        ...,\n",
            "        [1.2967e-03, 8.6734e-01, 1.3136e-01],\n",
            "        [9.9501e-01, 7.9454e-04, 4.1981e-03],\n",
            "        [1.3469e-03, 8.4066e-02, 9.1459e-01]])\n",
            "[0, 2, 0, 1, 2, 1, 2, 0, 0, 2, 2, 0, 0, 2, 1, 1, 2, 2, 2, 2, 0, 0, 0, 1, 1, 0, 0, 2, 2, 2, 2, 1, 1, 2, 1, 2, 2, 2, 0, 0, 1, 2, 0, 1, 1, 0, 2, 1, 1, 1, 1, 1, 0, 1, 0, 0, 1, 1, 1, 1, 0, 0, 1, 1, 1, 2, 0, 1, 2, 2, 2, 0, 1, 2, 1, 1, 1, 2, 2, 0, 2, 1, 0, 2, 0, 2, 1, 1, 2, 0, 2, 1, 1, 1, 0, 1, 0, 1, 2, 2, 2, 0, 0, 2, 2, 2, 0, 0, 2, 0, 1, 0, 0, 1, 1, 2, 1, 1, 1, 0, 1, 1, 2, 2, 0, 2, 1, 2, 2, 0, 1, 2, 2, 0, 1, 2, 1, 1, 2, 1, 2, 0, 2, 0, 0, 1, 1, 1, 2, 1, 2, 2, 2, 0, 0, 2, 0, 0, 2, 2, 2, 2, 0, 2, 0, 1, 2, 0, 2, 2, 2, 1, 2, 2, 1, 2, 1, 1, 2, 2, 1, 0, 1, 0, 1, 1, 1, 2, 2, 1, 0, 0, 2, 0, 1, 1, 0, 2, 1, 2, 2, 1, 1, 0, 2, 0, 1, 2, 0, 0, 1, 2, 1, 1, 2, 2, 1, 0, 2, 1, 0, 1, 1, 1, 2, 1, 2, 0, 0, 0, 2, 1, 1, 0, 2, 2, 0, 0, 2, 0, 2, 2, 1, 2, 2, 0, 1, 0, 2, 2, 2, 0, 1, 1, 1, 2, 1, 1, 2, 2, 2, 1, 2, 1, 1, 2, 0, 1, 0, 2, 2, 1, 1, 2, 1, 2, 0, 1, 2, 0, 2, 0, 0, 0, 0, 2, 2, 2, 1, 0, 1, 2, 2, 0, 1, 1, 1, 0, 1, 1, 2, 0, 2, 2, 1, 1, 0, 0, 0, 2, 1, 0, 1, 1, 2, 1, 2, 2, 0, 2, 1, 1, 2, 2, 1, 1, 0, 2, 1, 2, 1, 1, 2, 1, 2, 0, 1, 0, 1, 0, 1, 1, 2, 2, 1, 2, 2, 1, 0, 0, 1, 2, 2, 2, 2, 2, 2, 1, 0, 1, 1, 2, 0, 2, 2, 0, 1, 2, 1, 0, 0, 2, 2, 0, 0, 1, 2, 1, 2, 2, 2, 1, 0, 0, 2, 2, 0, 1, 1, 2, 1, 2, 0, 2, 0, 1, 0, 0, 2, 0, 0, 0, 2, 0, 0, 1, 2, 0, 2, 2, 0, 1, 0, 2, 1, 1, 2, 1, 1, 0, 1, 0, 2, 1, 2, 1, 0, 2, 2, 2, 2, 1, 0, 0, 0, 2, 2, 1, 0, 2, 2, 0, 1, 0, 2, 0, 0, 2, 1, 0, 2, 0, 2, 0, 1, 2, 1, 2, 2, 0, 0, 0, 1, 2, 2, 2, 2, 2, 1, 1, 1, 0, 1, 2, 2, 0, 0, 1, 2, 2, 0, 1, 1, 2, 0, 2, 0, 2, 1, 2, 0, 2, 2, 1, 0, 2, 0, 0, 1, 1, 2, 1, 1, 0, 1, 2, 0, 0, 0, 0, 1, 1, 1, 1, 0, 0, 2, 0, 0, 1, 0, 2, 2, 1, 2, 0, 2, 0, 0, 1, 2, 0, 1, 2, 2, 1, 2, 2, 0, 0, 0, 1, 0, 0, 1, 1, 2, 0, 0, 0, 1, 1, 1, 1, 2, 1, 2, 2, 2, 0, 2, 0, 0, 1, 1, 0, 0, 0, 0, 2, 2, 1, 1, 1, 0, 2, 2, 0, 0, 0, 1, 0, 2, 0, 2, 1, 1, 0, 0, 2, 2, 2, 2, 1, 1, 1, 2, 1, 0, 0, 2, 1, 0, 1, 2, 0, 2, 0, 1, 0, 1, 1, 1, 1, 1, 2, 0, 2, 0, 2, 1, 1, 1, 2, 2, 1, 2, 0, 1, 1, 2, 2, 0, 2, 1, 1, 0, 1, 0, 2, 1, 2, 2, 2, 2, 1, 1, 0, 1, 2, 1, 2, 2, 1, 1, 1, 2, 0, 2, 1, 1, 1, 0, 2, 1, 1, 0, 1, 0, 1, 0, 0, 2, 2, 2, 1, 0, 0, 2, 2, 1, 1, 2, 2, 2, 1, 1, 2, 0, 1, 0, 0, 1, 0, 1, 2, 1, 2, 0, 1, 1, 2, 1, 2, 2, 1, 1, 1, 1, 1, 1, 1, 2, 1, 0, 1, 0, 0, 0, 0, 0, 2, 2, 1, 0, 2, 0, 2, 2, 1, 0, 2, 0, 1, 1, 0, 1, 1, 0, 0, 0, 2, 2, 0, 1, 1, 0, 0, 1, 1, 1, 0, 0, 0, 2, 1, 1, 1, 1, 1, 2, 1, 0, 1, 0, 2]\n",
            "f1 score:  0.9150118254063934\n",
            "recall:  0.9151436031331592\n",
            "precision:  0.9153787732588371\n",
            "accuracy:  0.9151436031331592\n"
          ],
          "name": "stdout"
        }
      ]
    },
    {
      "cell_type": "markdown",
      "metadata": {
        "id": "E-CLUkRpiqan"
      },
      "source": [
        "# Fully Connected NN 1 Training "
      ]
    },
    {
      "cell_type": "code",
      "metadata": {
        "colab": {
          "base_uri": "https://localhost:8080/"
        },
        "id": "UXPgdp9Kq5ZQ",
        "outputId": "029b832f-fec6-41ea-af11-3aa50a43ce55"
      },
      "source": [
        "FCNN_model = FullyConnectedNN() \r\n",
        "torch.set_default_tensor_type('torch.cuda.FloatTensor')\r\n",
        "FCNN_model.cuda()\r\n",
        "optimizer = torch.optim.Adam(FCNN_model.parameters(), 0.0000001, weight_decay=0.01)\r\n",
        "scheduler = torch.optim.lr_scheduler.ReduceLROnPlateau(optimizer, patience=5, factor=0.3, threshold=0.0001)\r\n",
        "epoch = 20\r\n",
        "train_model(FCNN_model, optimizer, scheduler, epoch)"
      ],
      "execution_count": null,
      "outputs": [
        {
          "output_type": "stream",
          "text": [
            "\n",
            "**********epoch:  0 \n",
            "\n",
            "\n",
            "train:\n",
            "\n",
            "loss:  6.452208176853143\n",
            "f1 score:  0.4918521411077783\n",
            "recall:  0.4932520679146713\n",
            "precision:  0.4937194262122208\n",
            "accuracy:  0.4932520679146713\n",
            "\n",
            "validation:\n",
            "\n",
            "loss:  0.6812100075315944\n",
            "f1 score:  0.652060566469318\n",
            "recall:  0.6840731070496083\n",
            "precision:  0.7335493126854835\n",
            "accuracy:  0.6840731070496083\n",
            "\n",
            "**********epoch:  1 \n",
            "\n",
            "\n",
            "train:\n",
            "\n",
            "loss:  1.782327611767951\n",
            "f1 score:  0.5989141689295682\n",
            "recall:  0.5999129299085764\n",
            "precision:  0.5994964019819369\n",
            "accuracy:  0.5999129299085764\n",
            "\n",
            "validation:\n",
            "\n",
            "loss:  0.5588674708607186\n",
            "f1 score:  0.7127540145860984\n",
            "recall:  0.7193211488250653\n",
            "precision:  0.73146108054436\n",
            "accuracy:  0.7193211488250653\n",
            "\n",
            "**********epoch:  2 \n",
            "\n",
            "\n",
            "train:\n",
            "\n",
            "loss:  1.326358643334926\n",
            "f1 score:  0.6322029185658544\n",
            "recall:  0.6325642141924249\n",
            "precision:  0.6324208306527617\n",
            "accuracy:  0.6325642141924249\n",
            "\n",
            "validation:\n",
            "\n",
            "loss:  0.5005191373056732\n",
            "f1 score:  0.7774084032691383\n",
            "recall:  0.779373368146214\n",
            "precision:  0.7896773469457048\n",
            "accuracy:  0.779373368146214\n",
            "\n",
            "**********epoch:  3 \n",
            "\n",
            "\n",
            "train:\n",
            "\n",
            "loss:  1.0469863013469654\n",
            "f1 score:  0.660443372016226\n",
            "recall:  0.6630387461906835\n",
            "precision:  0.6622713421942544\n",
            "accuracy:  0.6630387461906835\n",
            "\n",
            "validation:\n",
            "\n",
            "loss:  0.4839385766264665\n",
            "f1 score:  0.7829588410755118\n",
            "recall:  0.7859007832898173\n",
            "precision:  0.791610942582222\n",
            "accuracy:  0.7859007832898173\n",
            "\n",
            "**********epoch:  4 \n",
            "\n",
            "\n",
            "train:\n",
            "\n",
            "loss:  0.7927661854008455\n",
            "f1 score:  0.6966826757938093\n",
            "recall:  0.6978667827601219\n",
            "precision:  0.6989077005874621\n",
            "accuracy:  0.6978667827601219\n",
            "\n",
            "validation:\n",
            "\n",
            "loss:  0.4724745585893591\n",
            "f1 score:  0.7939233102509778\n",
            "recall:  0.7963446475195822\n",
            "precision:  0.8132670348808639\n",
            "accuracy:  0.7963446475195822\n",
            "\n",
            "**********epoch:  5 \n",
            "\n",
            "\n",
            "train:\n",
            "\n",
            "loss:  0.7518879807868001\n",
            "f1 score:  0.7073643188751342\n",
            "recall:  0.7091858946451893\n",
            "precision:  0.710088782051329\n",
            "accuracy:  0.7091858946451893\n",
            "\n",
            "validation:\n",
            "\n",
            "loss:  0.46148079986839247\n",
            "f1 score:  0.8054349423233518\n",
            "recall:  0.8093994778067886\n",
            "precision:  0.8239645072899966\n",
            "accuracy:  0.8093994778067886\n",
            "\n",
            "**********epoch:  6 \n",
            "\n",
            "\n",
            "train:\n",
            "\n",
            "loss:  0.6966315331633972\n",
            "f1 score:  0.705490416867991\n",
            "recall:  0.7091858946451893\n",
            "precision:  0.7101770983873749\n",
            "accuracy:  0.7091858946451893\n",
            "\n",
            "validation:\n",
            "\n",
            "loss:  0.432778640203954\n",
            "f1 score:  0.8211458400434294\n",
            "recall:  0.8198433420365535\n",
            "precision:  0.8247138420153587\n",
            "accuracy:  0.8198433420365535\n",
            "\n",
            "**********epoch:  7 \n",
            "\n",
            "\n",
            "train:\n",
            "\n",
            "loss:  0.6400553619165136\n",
            "f1 score:  0.7339951771968601\n",
            "recall:  0.7353069220722682\n",
            "precision:  0.7391916294607074\n",
            "accuracy:  0.7353069220722682\n",
            "\n",
            "validation:\n",
            "\n",
            "loss:  0.4259058514532323\n",
            "f1 score:  0.8255831891047551\n",
            "recall:  0.8289817232375979\n",
            "precision:  0.8463636765061963\n",
            "accuracy:  0.8289817232375979\n",
            "\n",
            "**********epoch:  8 \n",
            "\n",
            "\n",
            "train:\n",
            "\n",
            "loss:  0.6563641495246513\n",
            "f1 score:  0.7371276369823769\n",
            "recall:  0.738354375272094\n",
            "precision:  0.7409404377126867\n",
            "accuracy:  0.738354375272094\n",
            "\n",
            "validation:\n",
            "\n",
            "loss:  0.4163700693043211\n",
            "f1 score:  0.8192754042148\n",
            "recall:  0.8211488250652742\n",
            "precision:  0.8305262532891058\n",
            "accuracy:  0.8211488250652742\n",
            "\n",
            "**********epoch:  9 \n",
            "\n",
            "\n",
            "train:\n",
            "\n",
            "loss:  0.6278057685200348\n",
            "f1 score:  0.7367382455044097\n",
            "recall:  0.738789725729212\n",
            "precision:  0.7415135370082212\n",
            "accuracy:  0.738789725729212\n",
            "\n",
            "validation:\n",
            "\n",
            "loss:  0.4148651999445671\n",
            "f1 score:  0.8535317330452931\n",
            "recall:  0.8537859007832899\n",
            "precision:  0.8551329433316474\n",
            "accuracy:  0.8537859007832899\n",
            "\n",
            "**********epoch:  10 \n",
            "\n",
            "\n",
            "train:\n",
            "\n",
            "loss:  0.5829152367222528\n",
            "f1 score:  0.7479994223712755\n",
            "recall:  0.7505441880713974\n",
            "precision:  0.754406657338297\n",
            "accuracy:  0.7505441880713974\n",
            "\n",
            "validation:\n",
            "\n",
            "loss:  0.3790470703970641\n",
            "f1 score:  0.8641840046723506\n",
            "recall:  0.8642297650130548\n",
            "precision:  0.8643152391867269\n",
            "accuracy:  0.8642297650130548\n",
            "\n",
            "**********epoch:  11 \n",
            "\n",
            "\n",
            "train:\n",
            "\n",
            "loss:  0.5594504861094807\n",
            "f1 score:  0.7765070087731334\n",
            "recall:  0.7779712668698302\n",
            "precision:  0.7824383888022397\n",
            "accuracy:  0.7779712668698302\n",
            "\n",
            "validation:\n",
            "\n",
            "loss:  0.36689016259818646\n",
            "f1 score:  0.8595736565921885\n",
            "recall:  0.860313315926893\n",
            "precision:  0.859478919638623\n",
            "accuracy:  0.860313315926893\n",
            "\n",
            "**********epoch:  12 \n",
            "\n",
            "\n",
            "train:\n",
            "\n",
            "loss:  0.564810591056619\n",
            "f1 score:  0.7648685493627719\n",
            "recall:  0.7666521549847627\n",
            "precision:  0.7689457037793337\n",
            "accuracy:  0.7666521549847627\n",
            "\n",
            "validation:\n",
            "\n",
            "loss:  0.3740171120487806\n",
            "f1 score:  0.8542633186456735\n",
            "recall:  0.8537859007832899\n",
            "precision:  0.8550127510096897\n",
            "accuracy:  0.8537859007832899\n",
            "\n",
            "**********epoch:  13 \n",
            "\n",
            "\n",
            "train:\n",
            "\n",
            "loss:  0.550210280785661\n",
            "f1 score:  0.774853833238355\n",
            "recall:  0.7762298650413583\n",
            "precision:  0.7803398599856364\n",
            "accuracy:  0.7762298650413583\n",
            "\n",
            "validation:\n",
            "\n",
            "loss:  0.3891288899870157\n",
            "f1 score:  0.8411380642210168\n",
            "recall:  0.8420365535248042\n",
            "precision:  0.8475240841208269\n",
            "accuracy:  0.8420365535248042\n",
            "\n",
            "**********epoch:  14 \n",
            "\n",
            "\n",
            "train:\n",
            "\n",
            "loss:  0.5313876938556685\n",
            "f1 score:  0.7766757770618463\n",
            "recall:  0.7779712668698302\n",
            "precision:  0.7810073309368499\n",
            "accuracy:  0.7779712668698302\n",
            "\n",
            "validation:\n",
            "\n",
            "loss:  0.3554663240301987\n",
            "f1 score:  0.8769059779391102\n",
            "recall:  0.8772845953002611\n",
            "precision:  0.8768661885604736\n",
            "accuracy:  0.8772845953002611\n",
            "\n",
            "**********epoch:  15 \n",
            "\n",
            "\n",
            "train:\n",
            "\n",
            "loss:  0.5163874314601897\n",
            "f1 score:  0.788085887585384\n",
            "recall:  0.7892903787548977\n",
            "precision:  0.793668586728679\n",
            "accuracy:  0.7892903787548977\n",
            "\n",
            "validation:\n",
            "\n",
            "loss:  0.34672768982030294\n",
            "f1 score:  0.8653826657729266\n",
            "recall:  0.8655352480417755\n",
            "precision:  0.8690972697466591\n",
            "accuracy:  0.8655352480417755\n",
            "\n",
            "**********epoch:  16 \n",
            "\n",
            "\n",
            "train:\n",
            "\n",
            "loss:  0.5027035434877641\n",
            "f1 score:  0.7911698532419846\n",
            "recall:  0.7936438833260775\n",
            "precision:  0.796405673086746\n",
            "accuracy:  0.7936438833260775\n",
            "\n",
            "validation:\n",
            "\n",
            "loss:  0.3390284083119089\n",
            "f1 score:  0.8794430122455353\n",
            "recall:  0.8785900783289817\n",
            "precision:  0.882944409415472\n",
            "accuracy:  0.8785900783289817\n",
            "\n",
            "**********epoch:  17 \n",
            "\n",
            "\n",
            "train:\n",
            "\n",
            "loss:  0.4833711351287227\n",
            "f1 score:  0.7961980628896911\n",
            "recall:  0.7971266869830214\n",
            "precision:  0.7997047925118582\n",
            "accuracy:  0.7971266869830214\n",
            "\n",
            "validation:\n",
            "\n",
            "loss:  0.3299293825843961\n",
            "f1 score:  0.8723070236358028\n",
            "recall:  0.8720626631853786\n",
            "precision:  0.873098903581099\n",
            "accuracy:  0.8720626631853786\n",
            "\n",
            "**********epoch:  18 \n",
            "\n",
            "\n",
            "train:\n",
            "\n",
            "loss:  0.49293797622536023\n",
            "f1 score:  0.8025004408999615\n",
            "recall:  0.8027862429255551\n",
            "precision:  0.8077093661396579\n",
            "accuracy:  0.8027862429255551\n",
            "\n",
            "validation:\n",
            "\n",
            "loss:  0.3616994817566592\n",
            "f1 score:  0.858108779829136\n",
            "recall:  0.860313315926893\n",
            "precision:  0.8715960756045623\n",
            "accuracy:  0.860313315926893\n",
            "\n",
            "**********epoch:  19 \n",
            "\n",
            "\n",
            "train:\n",
            "\n",
            "loss:  0.4834754138136075\n",
            "f1 score:  0.8010070736710795\n",
            "recall:  0.802350892468437\n",
            "precision:  0.8045370776578871\n",
            "accuracy:  0.802350892468437\n",
            "\n",
            "validation:\n",
            "\n",
            "loss:  0.36286522266163956\n",
            "f1 score:  0.8413030888789799\n",
            "recall:  0.8420365535248042\n",
            "precision:  0.861133383746183\n",
            "accuracy:  0.8420365535248042\n"
          ],
          "name": "stdout"
        }
      ]
    },
    {
      "cell_type": "markdown",
      "metadata": {
        "id": "0GKDvh0YaUKc"
      },
      "source": [
        "# Fully Connected NN Testing"
      ]
    },
    {
      "cell_type": "code",
      "metadata": {
        "colab": {
          "base_uri": "https://localhost:8080/"
        },
        "id": "QxvTicGurcTq",
        "outputId": "4d41815d-dcf7-4403-d1dc-32df48026f23"
      },
      "source": [
        "test_model(FCNN_model, optimizer, scheduler)"
      ],
      "execution_count": null,
      "outputs": [
        {
          "output_type": "stream",
          "text": [
            "test: \n",
            "loss:  0.3086287132731134\n",
            "[[-1.0536218881607056, 0.42267727851867676, 1.762567162513733], [-2.4652631282806396, 1.8602792024612427, 5.023184776306152], [-1.6865485906600952, 5.545985221862793, -0.6817073822021484], [-1.3980319499969482, 0.30474773049354553, 2.338869571685791], [-2.43387770652771, 0.9230967164039612, 3.66454815864563], [2.599747896194458, -3.859297275543213, -3.7514231204986572], [5.307176113128662, -5.367149829864502, -5.219605445861816], [-0.747420608997345, 3.3500421047210693, -0.2506072521209717], [3.5325963497161865, -3.385493040084839, -5.867565155029297], [0.25953346490859985, -0.8671139478683472, -0.31101638078689575], [-0.5619250535964966, 1.6510854959487915, 0.6197570562362671], [-1.9082672595977783, 5.005702018737793, -0.30154871940612793], [-2.102691411972046, 1.0941202640533447, 4.0134077072143555], [-1.161272644996643, 2.3753745555877686, -0.3446914851665497], [-0.5402453541755676, 1.0172202587127686, 0.6858993172645569], [-2.020009756088257, 0.7751347422599792, 3.7356696128845215], [-1.6299705505371094, 2.45436692237854, 1.3143023252487183], [3.8589324951171875, -4.769508361816406, -4.07863712310791], [-0.30793172121047974, 0.6391387581825256, 0.9746421575546265], [6.30375862121582, -8.870769500732422, -6.734190940856934], [-1.879929780960083, 2.4781334400177, 2.1540799140930176], [6.145305633544922, -7.0614471435546875, -6.543294429779053], [-1.9267661571502686, 4.289130687713623, -0.39695438742637634], [-0.7675067186355591, 1.0524989366531372, 1.5472198724746704], [-1.4945002794265747, 4.240053176879883, 0.8499481678009033], [-1.4549448490142822, 3.495673656463623, 0.5523329973220825], [6.715226173400879, -9.313535690307617, -10.273882865905762], [-1.3051375150680542, 3.764385461807251, 0.7231338024139404], [-1.0356128215789795, 2.9628286361694336, 1.6977375745773315], [-1.3665095567703247, 1.823160171508789, 1.8246221542358398], [-1.2092543840408325, 4.037693977355957, 0.33813199400901794], [-1.2057403326034546, 3.901158094406128, 0.39995837211608887], [-1.8127365112304688, 1.4091479778289795, 2.42546010017395], [-0.6611404418945312, 2.8942530155181885, 0.18090859055519104], [2.416386842727661, -2.5979480743408203, -1.2505388259887695], [7.744251728057861, -8.8270902633667, -7.579222679138184], [-1.5558444261550903, 4.156874179840088, -0.7559795379638672], [-1.188845157623291, 3.951258659362793, -0.8316057324409485], [-1.367119312286377, 1.0517741441726685, 2.0369272232055664], [-2.5535330772399902, 0.6584291458129883, 4.713343620300293], [-2.231874465942383, 1.1829814910888672, 3.433349609375], [-1.4498759508132935, 3.497903347015381, 0.8332186341285706], [-2.145024538040161, 4.141334533691406, -0.269835501909256], [-1.423430323600769, 4.414194107055664, -0.2732801139354706], [6.527888298034668, -8.368122100830078, -4.816319465637207], [-0.4408453106880188, 0.9300118684768677, 0.5578138828277588], [-0.5835777521133423, 0.6483732461929321, 0.8628969192504883], [7.703799247741699, -8.48092269897461, -6.507935523986816], [-2.574998617172241, 0.7093864679336548, 4.369442462921143], [-0.9376596212387085, 2.881178379058838, -0.17342078685760498], [6.015066623687744, -7.078577995300293, -5.275873184204102], [-1.3689583539962769, 0.28317326307296753, 1.3635807037353516], [5.208834171295166, -5.923056602478027, -4.546086311340332], [-1.4923231601715088, 1.6632689237594604, 2.0959761142730713], [5.1528215408325195, -6.909207820892334, -5.35607385635376], [-1.2677333354949951, 3.1925971508026123, -0.28369924426078796], [-1.6292364597320557, 3.3443338871002197, 1.0605487823486328], [-2.473079204559326, 5.075891494750977, -0.45888885855674744], [4.838668346405029, -5.654838562011719, -4.131710052490234], [-1.5193368196487427, 1.346935510635376, 3.0526046752929688], [0.1453859806060791, 1.132629156112671, -2.7166976928710938], [-0.8862562775611877, 3.21097993850708, 0.42318838834762573], [-0.567873477935791, 2.255162000656128, -1.718418002128601], [-1.3855712413787842, 4.196180820465088, -1.1959112882614136], [0.29591649770736694, -1.362585186958313, 0.14719417691230774], [-1.419487714767456, 1.3326094150543213, 0.778145432472229], [-1.2666096687316895, 0.22619494795799255, 2.7226431369781494], [-1.0068501234054565, 1.6121810674667358, 0.20929375290870667], [-1.4192049503326416, 0.5365500450134277, 2.5264952182769775], [-1.2975069284439087, 2.7143383026123047, 1.0193818807601929], [-2.2698452472686768, 0.8471298217773438, 3.4444644451141357], [2.6752099990844727, -3.697202444076538, -2.6723413467407227], [4.58223819732666, -5.2692952156066895, -4.232414722442627], [6.076900005340576, -7.192565441131592, -4.749441623687744], [-0.6134007573127747, 2.2536046504974365, 0.1028657928109169], [-1.5892764329910278, 2.8170034885406494, 0.6344139575958252], [-1.799947738647461, 1.6920409202575684, 1.2440900802612305], [1.5042849779129028, -2.004869222640991, -2.9233176708221436], [-1.4043291807174683, 1.2864487171173096, 2.127434253692627], [-1.6437947750091553, 1.5105600357055664, 2.6356403827667236], [-0.8840852975845337, 1.9782780408859253, 0.7264404296875], [4.314059257507324, -6.204568862915039, -4.045645236968994], [1.8951336145401, -2.3313255310058594, -3.897184133529663], [-2.3916683197021484, 5.7455010414123535, -1.3002104759216309], [-1.3928914070129395, 0.8696950078010559, 2.8664681911468506], [-1.070549488067627, 1.1085983514785767, 1.700332522392273], [-1.9038368463516235, 0.40657687187194824, 3.2179081439971924], [-1.878645658493042, 0.6793087720870972, 2.849886655807495], [-0.8948111534118652, 3.6376895904541016, -0.32212305068969727], [-1.6697050333023071, 5.784255027770996, -0.4525929391384125], [-1.949131727218628, 3.8951776027679443, -0.48007047176361084], [-0.6787103414535522, 0.10699890553951263, 1.4509927034378052], [-1.2445930242538452, 3.7479567527770996, 0.1947997808456421], [-0.8951241970062256, -0.15617184340953827, 1.6766793727874756], [-0.5432745218276978, 0.9112480878829956, 0.8162707686424255], [-1.6469939947128296, 0.44029325246810913, 3.371076822280884], [7.984193325042725, -9.766247749328613, -6.907238960266113], [-0.7277725338935852, 2.343390703201294, -1.0602974891662598], [3.6904757022857666, -3.761397123336792, -4.0665740966796875], [-1.580471158027649, 3.401731252670288, 0.14860650897026062], [-1.5764352083206177, 4.658325672149658, -0.938077449798584], [-1.5797369480133057, 3.683885335922241, -0.9635987281799316], [-2.2406530380249023, 1.3176796436309814, 2.8049769401550293], [-1.3236814737319946, 3.305426836013794, -0.03846748545765877], [-1.547062873840332, 4.327548027038574, -0.4062694311141968], [6.6515727043151855, -7.7885942459106445, -4.829586982727051], [-1.0405936241149902, 3.794790029525757, -0.23004576563835144], [3.414667844772339, -5.204530715942383, -3.327977180480957], [-1.2500306367874146, 0.40480512380599976, 2.5004658699035645], [-2.4651732444763184, 0.3973400592803955, 4.077695846557617], [-1.7210692167282104, 5.494139671325684, -0.3382120132446289], [2.8950459957122803, -2.3427443504333496, -2.546478509902954], [8.993444442749023, -8.145370483398438, -7.03695821762085], [-2.238562822341919, 1.794557809829712, 2.988515615463257], [-1.249008297920227, 4.652595043182373, -0.5291749835014343], [-1.6575368642807007, 4.123541355133057, 0.6790655255317688], [1.3513749837875366, -0.8388087749481201, -1.239540457725525], [-1.6191976070404053, 2.94018292427063, -0.0068070366978645325], [-1.0634770393371582, 0.556035578250885, 2.055206537246704], [-0.8159253597259521, 2.1487152576446533, 0.5940938591957092], [-1.781901240348816, 0.5501962304115295, 2.7894625663757324], [-1.909955620765686, 3.6768925189971924, 1.069541096687317], [4.864982604980469, -6.10482120513916, -5.171151638031006], [1.7304280996322632, -1.0775014162063599, -0.588700532913208], [1.1273736953735352, 0.26665496826171875, -2.038893222808838], [3.317162275314331, -2.9479029178619385, -3.7408604621887207], [-1.2624711990356445, 1.5554553270339966, 0.39918458461761475], [5.527315139770508, -7.091235160827637, -4.670343399047852], [1.6078133583068848, -1.2508357763290405, -1.3680521249771118], [-1.3154109716415405, 1.4955780506134033, 1.3665235042572021], [3.005904197692871, -2.81360125541687, -3.131310224533081], [5.5315680503845215, -5.8455328941345215, -3.927436351776123], [-1.2031844854354858, 2.700040578842163, 0.8652310371398926], [-1.2502070665359497, 3.0259766578674316, 1.0293041467666626], [-1.7930042743682861, 0.7977984547615051, 2.5064966678619385], [-1.1065902709960938, 0.05543988198041916, 1.6282010078430176], [5.297405242919922, -3.547051191329956, -3.524563789367676], [1.2984473705291748, -0.5977458953857422, -0.4546057879924774], [3.2181625366210938, -2.4233384132385254, -2.276137590408325], [-1.176030158996582, 3.81777024269104, -0.3349676728248596], [-0.9414488673210144, 1.8382004499435425, 0.8917436003684998], [-1.7055025100708008, 1.0617098808288574, 3.094545841217041], [5.394450664520264, -5.454874038696289, -3.589651584625244], [1.325402855873108, -0.07421235740184784, -2.486133098602295], [-1.0255327224731445, 0.5882565975189209, 2.588470220565796], [-1.418541431427002, 3.8871686458587646, 0.04286568611860275], [1.2327991724014282, 0.07432211935520172, -2.045938014984131], [-2.3987650871276855, 1.121670126914978, 2.6320207118988037], [-1.1301242113113403, 2.5272045135498047, 0.009395472705364227], [1.3677986860275269, -1.2037718296051025, -1.981741189956665], [7.708545207977295, -7.25708532333374, -6.817787170410156], [-1.2032973766326904, 2.49458646774292, 0.6936177015304565], [-0.9996135830879211, 0.6978974938392639, 1.7032016515731812], [7.814126491546631, -9.652225494384766, -5.402505397796631], [3.2904880046844482, -3.7589592933654785, -3.6603991985321045], [3.3093626499176025, -3.9047739505767822, -3.5773162841796875], [-2.170144557952881, 5.994683742523193, -0.9252214431762695], [0.05864870548248291, 0.484277606010437, -0.43882250785827637], [-1.2971253395080566, 0.8108087778091431, 2.662013053894043], [-1.8063585758209229, 0.5439181923866272, 1.803006649017334], [-0.568770706653595, 3.051038980484009, 0.014889568090438843], [7.953120708465576, -6.886796951293945, -6.374811172485352], [-1.3022438287734985, 0.0956500917673111, 2.1735117435455322], [-0.9327768087387085, 0.18036875128746033, 2.5658164024353027], [-0.950627326965332, -0.40288567543029785, 1.635233998298645], [-0.4675813317298889, 0.7436903715133667, 0.24712586402893066], [-1.160982370376587, -0.08184388279914856, 2.113661050796509], [-1.9028222560882568, 4.548025608062744, -0.01496250182390213], [-1.4362614154815674, 0.5673187375068665, 1.884290337562561], [-0.3396916389465332, 0.49231576919555664, 0.5503058433532715], [-1.8654240369796753, 4.504244327545166, -0.8026516437530518], [-0.490401029586792, 2.3334550857543945, -0.5817680954933167], [-1.5294106006622314, 4.695249557495117, 0.4476967751979828], [5.069602966308594, -3.1333401203155518, -3.0942318439483643], [5.770042419433594, -6.956833839416504, -5.120234966278076], [-0.4663850665092468, 1.1460493803024292, 0.3818824887275696], [-1.6450488567352295, 0.2258700579404831, 1.9694076776504517], [6.148364543914795, -7.4425201416015625, -5.683070659637451], [-0.6966317296028137, 0.32873958349227905, 1.0668163299560547], [-1.5741684436798096, 4.816458702087402, -0.5125522017478943], [-1.6227999925613403, 1.7643840312957764, 2.6620378494262695], [2.2306621074676514, -5.076230525970459, -3.5109939575195312], [3.31416654586792, -2.484731435775757, -3.658836841583252], [-1.4449348449707031, 1.2025079727172852, 1.8433226346969604], [-1.0886868238449097, 4.552801132202148, -0.3072943389415741], [6.144777774810791, -7.142927646636963, -4.843271732330322], [-0.9033825397491455, 4.0903801918029785, 0.47060248255729675], [-1.3889193534851074, 3.079927444458008, 0.2938973903656006], [1.8769649267196655, -2.7774195671081543, -1.2272957563400269], [-1.387756109237671, 3.171252965927124, 0.9897388219833374], [-1.3925371170043945, 0.519434928894043, 1.8522911071777344], [5.801577091217041, -6.5528717041015625, -5.204766750335693], [-0.6076135039329529, 1.2958269119262695, 0.76408451795578], [-1.6861242055892944, 0.5868923664093018, 3.702000379562378], [-1.1788897514343262, 1.2055552005767822, 1.302944302558899], [-2.018508195877075, 0.8891937732696533, 2.755449056625366], [-1.2832099199295044, 1.314253807067871, 2.337244749069214], [4.256155967712402, -3.21791672706604, -3.0147757530212402], [-2.0170178413391113, 0.4557614326477051, 4.0118255615234375], [-1.243730068206787, 1.3204656839370728, 0.5054633617401123], [-1.3659509420394897, 0.08551980555057526, 2.028932809829712], [-1.1272926330566406, 1.9689844846725464, 0.859027624130249], [-2.046583652496338, 3.9939627647399902, -0.367153525352478], [-1.4172050952911377, 2.457022190093994, 1.2184735536575317], [-1.9756064414978027, 3.705782651901245, -0.25571849942207336], [-2.578796863555908, -0.07250083982944489, 5.693967819213867], [-0.8855472803115845, 1.5623252391815186, 0.41987845301628113], [-2.0925519466400146, 0.5358652472496033, 3.978266477584839], [-2.1738007068634033, 0.4297959804534912, 3.838995933532715], [-1.7980537414550781, 5.056785583496094, 0.05301015079021454], [-2.473161220550537, 5.381842613220215, -0.3038245141506195], [5.809973239898682, -7.04368257522583, -4.759513854980469], [-1.8070580959320068, 2.168657064437866, 2.646900177001953], [5.371117115020752, -6.354402542114258, -4.510131359100342], [-2.155339241027832, 0.791144073009491, 3.6254608631134033], [3.2957088947296143, -3.167311191558838, -2.3530189990997314], [-1.9968304634094238, 5.819827556610107, -0.5144708156585693], [-1.366976022720337, 4.810844898223877, -0.02936811000108719], [-1.7294808626174927, 2.094996690750122, 1.0852882862091064], [-1.580798864364624, 2.1730332374572754, 0.9056047797203064], [5.619225978851318, -6.851988792419434, -4.585282802581787], [-1.3348596096038818, 3.980463981628418, 0.4103694558143616], [6.2588791847229, -6.516928195953369, -5.15074348449707], [6.823675155639648, -7.942264080047607, -5.1948981285095215], [-1.4559093713760376, 1.3486714363098145, 3.567997932434082], [-1.855890154838562, 2.798902750015259, 0.6867147088050842], [-1.5729525089263916, 2.423895835876465, 0.2535835802555084], [-2.277520179748535, 5.5379958152771, 0.09968691319227219], [-1.8955872058868408, 1.1910632848739624, 2.532684087753296], [-1.353758454322815, 0.9047534465789795, 2.8954246044158936], [-1.2512195110321045, 0.26963233947753906, 1.833998441696167], [1.4116919040679932, -0.3080627918243408, -2.964015007019043], [-2.1170859336853027, 1.2961785793304443, 2.822845697402954], [5.385476589202881, -5.816474914550781, -4.039684772491455], [-1.0131126642227173, 2.1184561252593994, 1.8847016096115112], [4.844716548919678, -5.286821365356445, -4.2820940017700195], [0.9604587554931641, -2.403228282928467, -0.5868754982948303], [-1.5128406286239624, 3.088177442550659, 0.5117993354797363], [0.3161970376968384, -0.32854151725769043, 0.9892351627349854], [-1.3387751579284668, 0.6270133852958679, 2.9972598552703857], [-1.7083103656768799, 1.1968793869018555, 2.5019805431365967], [-1.4522613286972046, 3.986415386199951, -0.14763009548187256], [5.110051155090332, -5.709017753601074, -4.492764949798584], [-0.9437980651855469, 3.427313804626465, -0.14534050226211548], [-1.772743821144104, 2.8466312885284424, 0.7286268472671509], [-1.1414004564285278, 2.713768243789673, 0.20814552903175354], [-0.539623498916626, 2.364412307739258, 0.24448847770690918], [6.313137531280518, -9.423287391662598, -7.478253364562988], [0.2066793292760849, 1.3673954010009766, -0.74504154920578], [-1.4324841499328613, 4.801180839538574, -0.5720328092575073], [-0.6971795558929443, 1.1094398498535156, -0.181248277425766], [-1.81842839717865, 3.3151566982269287, 0.1687641739845276], [-1.1964020729064941, 0.7335867285728455, 1.8116474151611328], [-1.6577457189559937, 1.9976226091384888, 1.2254598140716553], [-1.336066722869873, 1.5987989902496338, 1.6182602643966675], [3.5454657077789307, -4.730098724365234, -3.7319986820220947], [-0.2940140962600708, -0.4164765477180481, 1.2958048582077026], [-0.9726166129112244, 2.22493314743042, 0.7597827911376953], [-0.6771814227104187, 2.8385517597198486, 0.3068986237049103], [-1.362919807434082, 3.54630446434021, 0.5736377835273743], [-1.1331731081008911, 3.760193347930908, -0.1927804946899414], [-1.6772329807281494, 1.7971349954605103, 0.7097392082214355], [-0.6115667819976807, 0.41928422451019287, 2.5117831230163574], [-1.5231819152832031, 2.3382699489593506, 0.49479857087135315], [-1.262914776802063, 4.264813423156738, -0.8810790777206421], [-0.6190956234931946, 3.011009931564331, 0.10815481096506119], [-1.8906363248825073, 0.42546021938323975, 4.021234512329102], [-1.715259075164795, 2.5378828048706055, 0.8686458468437195], [-1.7164561748504639, 5.039039134979248, -0.028384551405906677], [-1.022727131843567, 0.252506285905838, 1.7769676446914673], [7.537264823913574, -9.406681060791016, -7.816226482391357], [4.457616806030273, -4.370139122009277, -2.9292938709259033], [-2.2093076705932617, 2.5900676250457764, 1.4445782899856567], [4.729474067687988, -4.693136692047119, -3.4254064559936523], [-1.4930884838104248, 3.9400269985198975, 0.101897694170475], [0.37182801961898804, -1.4083280563354492, -0.0667857825756073], [-1.4927481412887573, 3.1858396530151367, 1.2814624309539795], [-1.5807387828826904, 1.2079274654388428, 1.1628811359405518], [-1.915331482887268, 4.408771991729736, -0.40174978971481323], [-2.057565927505493, 0.6400168538093567, 2.9649672508239746], [1.7129325866699219, -1.6951473951339722, -1.443055510520935], [3.2636590003967285, -3.7149875164031982, -4.296313762664795], [-1.116125226020813, 3.0704498291015625, 1.3556568622589111], [0.9747895002365112, -0.6943258047103882, 0.4451223909854889], [-0.7537427544593811, 1.5140173435211182, 0.6929898858070374], [-0.4035639762878418, 0.412039577960968, -0.34140637516975403], [-1.4071382284164429, 3.1796762943267822, 0.3378868103027344], [-1.8904978036880493, 0.8958766460418701, 3.169250011444092], [-1.1863774061203003, 3.9025237560272217, 0.16280147433280945], [-3.1643218994140625, 0.8558225631713867, 6.186217784881592], [-1.2068698406219482, 2.61333966255188, 0.4332738220691681], [-0.574622392654419, 2.8427937030792236, -0.39743632078170776], [2.802870988845825, -2.690419912338257, -1.9661415815353394], [-1.0803812742233276, 2.3643038272857666, 0.9134941101074219], [-0.7606984972953796, 2.873419761657715, 1.445532202720642], [-1.4203267097473145, 4.215139865875244, -0.07108711451292038], [-1.0555367469787598, 1.7777178287506104, 2.2666239738464355], [-1.8129045963287354, 0.5500019788742065, 3.6560239791870117], [-1.0165023803710938, -0.3229799270629883, 0.7106333374977112], [7.8533854484558105, -8.791219711303711, -7.801708698272705], [-0.4139636754989624, 2.285066604614258, -0.2152285873889923], [9.270766258239746, -12.065763473510742, -11.826434135437012], [-1.8942276239395142, 5.036022663116455, -0.4002748131752014], [-3.0105340480804443, 0.7588537335395813, 5.305050849914551], [-2.0645840167999268, 0.8682130575180054, 3.7568399906158447], [-2.4271249771118164, 5.69251012802124, -0.8488874435424805], [11.781437873840332, -11.53188705444336, -9.620993614196777], [12.728981971740723, -11.150805473327637, -7.021731853485107], [0.41538840532302856, 0.34881114959716797, -1.3155776262283325], [-1.5055415630340576, 3.6588144302368164, 1.0661219358444214], [0.050228849053382874, -0.0003956928849220276, 0.7647287249565125], [-2.0636513233184814, 0.4568747878074646, 2.5615360736846924], [7.765129089355469, -8.81705093383789, -7.238032817840576], [-2.4475009441375732, 1.0609025955200195, 3.6822988986968994], [10.153660774230957, -10.425725936889648, -9.370338439941406], [-1.087599277496338, 1.0243709087371826, 2.704827070236206], [-1.4506008625030518, 1.7583822011947632, 2.600330114364624], [6.007236003875732, -7.2946391105651855, -5.472651481628418], [-1.3174904584884644, 2.0741870403289795, 0.7659832239151001], [5.641436576843262, -6.442271709442139, -4.10206937789917], [-1.8016499280929565, 1.276151180267334, 2.6513259410858154], [-0.9338188171386719, 2.170464038848877, -0.10080822557210922], [-0.8710897564888, 2.7609448432922363, 0.31206339597702026], [6.892795562744141, -8.03809642791748, -4.530567169189453], [-0.6048321723937988, 1.3970720767974854, -0.0025369301438331604], [0.8925380110740662, -2.3701677322387695, -0.6290769577026367], [-0.34859561920166016, 0.2203483283519745, 1.0647510290145874], [-0.8116304278373718, 2.526850461959839, 0.2530738413333893], [-1.923860788345337, 2.8364129066467285, 1.5553548336029053], [-2.2247495651245117, 0.623507022857666, 3.8892934322357178], [-1.6072443723678589, -0.01965080201625824, 2.174473524093628], [-1.4553555250167847, 2.179210901260376, 1.707809567451477], [3.7001049518585205, -4.046513080596924, -2.1520984172821045], [0.5477538108825684, 0.5683813691139221, 0.7927269339561462], [-1.7335708141326904, 4.507213592529297, -0.7513890862464905], [-0.05090228095650673, -0.04778018593788147, 0.4822098910808563], [-1.9711167812347412, 2.0264337062835693, 3.2130348682403564], [-1.963134765625, 3.562159776687622, -0.8976932764053345], [8.157929420471191, -9.331007957458496, -7.773044109344482], [5.686532020568848, -6.19767427444458, -4.470101356506348], [6.131047248840332, -7.39862585067749, -6.523746490478516], [-1.7110259532928467, 5.147117614746094, -0.31335726380348206], [2.3279342651367188, -1.1077358722686768, -0.8480410575866699], [-1.7318048477172852, 4.577112674713135, 0.0047697871923446655], [-2.0167152881622314, 0.7618285417556763, 3.1121811866760254], [-2.0524041652679443, 1.2863843441009521, 3.7238035202026367], [-1.3076714277267456, 4.319951057434082, -0.2807236909866333], [-1.9456720352172852, 0.7822068333625793, 4.092275619506836], [-1.0947192907333374, 2.245522975921631, 1.6102221012115479], [4.079351902008057, -4.826969146728516, -3.601917028427124], [-1.8499252796173096, 0.7021499276161194, 3.867464542388916], [1.8247954845428467, -1.7093743085861206, -1.146181583404541], [-1.677855372428894, 0.3247572183609009, 3.730787992477417], [-0.5786246061325073, 1.8367701768875122, 0.39383628964424133], [5.474620342254639, -7.574382305145264, -3.720139980316162], [3.9374122619628906, -3.491940498352051, -2.214395761489868], [0.7185256481170654, -1.1479321718215942, 0.34307727217674255], [-1.137575387954712, 2.735222578048706, 0.7549953460693359], [-2.1219890117645264, 2.6837656497955322, 1.8085628747940063], [-1.0628119707107544, 1.5505108833312988, 1.192887783050537], [-1.221846103668213, 0.06977841258049011, 2.2462267875671387], [-0.7553704977035522, 1.6593782901763916, 1.2131913900375366], [-2.5641469955444336, 6.168854236602783, -1.4527102708816528], [5.860297679901123, -8.39239501953125, -6.51760196685791], [-1.1711094379425049, 2.8851404190063477, 1.3682483434677124], [11.816107749938965, -11.751612663269043, -10.496240615844727], [-1.1094849109649658, 0.7726495265960693, 1.3533258438110352], [-1.0214455127716064, 3.0048415660858154, 0.40951722860336304], [-0.739326000213623, 2.316399097442627, 0.4056589603424072], [6.445436000823975, -7.916956424713135, -4.829262733459473], [5.46239709854126, -4.9586663246154785, -2.8978962898254395], [-0.810421347618103, 2.985769033432007, -0.19425588846206665], [7.226159572601318, -8.78200626373291, -7.012145519256592], [-1.7885818481445312, 2.183377981185913, 1.4157850742340088], [-1.336685299873352, 0.43804293870925903, 2.631061315536499], [6.65761661529541, -8.327544212341309, -5.05230712890625], [-0.6987289786338806, 3.5368969440460205, 0.01425711065530777], [2.9913225173950195, -2.520965337753296, -2.092318058013916], [2.4365787506103516, -1.5779664516448975, -1.751092791557312], [5.400719165802002, -6.106359004974365, -4.757962226867676], [7.0369486808776855, -7.33585262298584, -5.181021213531494], [-1.0493245124816895, 2.6675939559936523, 1.342287540435791], [-1.1637377738952637, 1.543914794921875, 1.9451550245285034], [-1.257407784461975, 2.416210174560547, 1.9570399522781372], [2.2396955490112305, -2.2404892444610596, -2.072866439819336], [-1.0796363353729248, 3.33732271194458, 0.08225130289793015], [4.053179740905762, -4.448625564575195, -2.9486331939697266], [-2.316648483276367, 0.46094000339508057, 4.0308003425598145], [5.29407262802124, -6.767144203186035, -5.643020153045654], [-0.04249713197350502, -0.01755554974079132, 0.6757985353469849], [-1.785834550857544, 4.883575916290283, -0.6141999363899231], [-0.7675384879112244, 1.991744041442871, 2.226621150970459], [-1.7444418668746948, 4.091958522796631, -0.2390577793121338], [-0.45361262559890747, 1.5079574584960938, 0.26074668765068054], [-1.6604253053665161, 1.9013702869415283, 3.103403091430664], [-1.3126907348632812, 2.954866409301758, 1.0455105304718018], [1.3667974472045898, 0.46997374296188354, -1.796546220779419], [-1.1237671375274658, -0.019548550248146057, 3.1408472061157227], [0.08251364529132843, 0.8040814399719238, -1.1740981340408325], [3.5812461376190186, -4.003514289855957, -3.127772808074951], [-1.26605224609375, 1.568115234375, 1.116431474685669], [-1.5854157209396362, 3.8605306148529053, -0.6071621775627136], [-1.5599157810211182, 3.2732105255126953, -1.2369171380996704], [-1.0111634731292725, 2.7886264324188232, 1.1281342506408691], [2.6099436283111572, -2.1313605308532715, -2.1044349670410156], [4.165341377258301, -3.243527412414551, -4.946073055267334], [-2.306596517562866, 1.3200163841247559, 3.474536418914795], [-2.405696392059326, 0.8326724767684937, 3.818589925765991], [-0.9047262072563171, 1.7147040367126465, 1.7755985260009766], [-1.407877802848816, 0.4874129295349121, 2.3320720195770264], [8.559173583984375, -10.73897933959961, -8.078985214233398], [-0.7913731336593628, 0.6012024879455566, 1.5399703979492188], [-1.4660156965255737, 3.2106943130493164, 1.1206048727035522], [-0.6420263648033142, 2.2575104236602783, -0.2722075581550598], [-0.8860706090927124, 3.427025318145752, -0.24122962355613708], [-1.2313355207443237, 3.545982599258423, 0.5105976462364197], [7.1535964012146, -9.163722038269043, -6.089520454406738], [-2.058016538619995, 5.225830554962158, -0.7925143837928772], [2.5236403942108154, -2.132598876953125, -1.1784285306930542], [5.020113468170166, -7.112370014190674, -5.41330623626709], [-1.32520592212677, 2.630657434463501, 0.8872738480567932], [-2.306584596633911, 1.1500705480575562, 4.4383416175842285], [-0.8075790405273438, 2.6533520221710205, 1.348250389099121], [-2.376997470855713, 0.7446340322494507, 4.048572540283203], [4.833901882171631, -4.134111404418945, -5.2158308029174805], [-1.1890851259231567, 0.8706428408622742, 3.58703351020813], [-1.3963772058486938, 4.45131254196167, -0.6517994403839111], [6.084040641784668, -6.663117408752441, -4.646653652191162], [-1.3841888904571533, 0.013013184070587158, 1.4019092321395874], [-1.3611221313476562, 1.3280678987503052, 1.6041699647903442], [-1.429978847503662, 2.7206780910491943, 1.5552725791931152], [2.7625701427459717, -2.831178903579712, -3.1258974075317383], [5.590836524963379, -6.268982887268066, -4.430908203125], [-0.8882232308387756, 1.1537854671478271, 1.76459538936615], [-2.727234363555908, 0.5957866311073303, 4.877251148223877], [-1.635183334350586, 5.322310447692871, 0.011760935187339783], [-1.9470447301864624, 5.36478328704834, -1.0034557580947876], [3.7720656394958496, -4.278409004211426, -3.646332025527954], [-2.248187780380249, 0.6751790642738342, 2.8273770809173584], [-1.5887062549591064, 0.29730424284935, 2.8751895427703857], [-1.3702468872070312, 2.3375837802886963, 1.3234206438064575], [-1.1002070903778076, 0.7931044697761536, 2.1292216777801514], [-0.9340945482254028, 3.2307345867156982, -0.034988146275281906], [-2.728853702545166, 1.5284423828125, 3.949019193649292], [-1.129512071609497, 2.4370851516723633, 0.8425992131233215], [-1.0539878606796265, 2.074526071548462, 1.4717222452163696], [-1.2649476528167725, 1.388951063156128, 1.3040035963058472], [-1.2009854316711426, 0.6507244110107422, 1.6425267457962036], [-1.011850118637085, -0.5625339150428772, 0.9784650802612305], [-2.3253836631774902, 6.221158504486084, -0.44436612725257874], [-1.0962072610855103, 4.1556782722473145, 0.669910192489624], [5.419816493988037, -6.362438201904297, -4.948174476623535], [-1.9764357805252075, 4.863717555999756, -0.9692935943603516], [-1.4300448894500732, 1.8572434186935425, 1.0868871212005615], [3.6449215412139893, -2.7351269721984863, -4.251601696014404], [-1.159254789352417, 2.745727062225342, 0.4616219699382782], [-1.5549960136413574, 3.0052528381347656, 0.4435237944126129], [-1.809741497039795, 4.558806896209717, -0.46908897161483765], [0.8017005920410156, -1.4148340225219727, -0.6041646599769592], [-1.1258857250213623, 3.329552412033081, 1.8043683767318726], [-1.4879716634750366, 0.24759967625141144, 2.9360926151275635], [-1.6904315948486328, 1.2797244787216187, 2.312335729598999], [3.172236680984497, -3.252795457839966, -2.4952144622802734], [-1.4022506475448608, 2.989790439605713, -0.14146816730499268], [-1.843578815460205, 1.9281635284423828, 1.7938913106918335], [2.767512321472168, -2.849564790725708, -2.3357627391815186], [1.7226756811141968, -2.8260867595672607, -3.020622491836548], [2.292224884033203, -2.199559211730957, -0.8991308808326721], [6.50809907913208, -4.956794738769531, -5.766056060791016], [-1.8086235523223877, 4.080160617828369, 0.8738632202148438], [2.7860379219055176, -1.771440863609314, -1.1644365787506104], [-0.7604310512542725, -0.06947904825210571, 1.1906118392944336], [-1.2329902648925781, 3.4008376598358154, 0.20771238207817078], [5.614997386932373, -8.183691024780273, -4.222600936889648], [-1.0089550018310547, 3.1799206733703613, -0.12987995147705078], [-0.8672821521759033, 1.6815814971923828, 0.7569008469581604], [4.3901753425598145, -5.033773899078369, -4.743430137634277], [-1.547765851020813, 0.7851772308349609, 3.194740056991577], [-0.9913591146469116, 0.3980153203010559, 1.666477084159851], [-1.994010090827942, 1.4596997499465942, 2.015000820159912], [2.705491065979004, -3.404869794845581, -2.4291903972625732], [-1.0923010110855103, 0.7338875532150269, 2.002196788787842], [-1.7469985485076904, 1.9982718229293823, 2.6328320503234863], [-1.6311962604522705, 3.7156853675842285, 0.2102816104888916], [-1.3359686136245728, 3.4661645889282227, 0.616929829120636], [-1.8531391620635986, 1.5293114185333252, 3.6764414310455322], [7.477519989013672, -9.213889122009277, -7.45644998550415], [-1.7902275323867798, 4.235743999481201, -0.15221232175827026], [-1.136122703552246, 1.9836680889129639, 1.7767256498336792], [-0.42429614067077637, 0.6002027988433838, 0.33526816964149475], [-0.7096840143203735, -0.2790104150772095, 1.247086524963379], [7.850524425506592, -9.082195281982422, -6.68279504776001], [-2.1355788707733154, 0.93135666847229, 3.852296829223633], [-1.612587332725525, 1.0064069032669067, 2.072603464126587], [-1.8342880010604858, 5.909822940826416, -0.28891873359680176], [5.384631633758545, -4.893589973449707, -4.887484073638916], [6.622768402099609, -7.680919170379639, -7.244234085083008], [-1.5289801359176636, 3.581110954284668, -0.6238394379615784], [5.359442710876465, -6.649476051330566, -3.746182441711426], [8.114093780517578, -8.390547752380371, -6.488348484039307], [-1.2846431732177734, 1.849025011062622, 0.4709795415401459], [-0.45682406425476074, 3.0737500190734863, 0.4048488140106201], [-2.6771485805511475, 2.8059260845184326, 1.6778134107589722], [-2.0513720512390137, 0.23013706505298615, 3.0301718711853027], [-2.1683778762817383, 1.3446332216262817, 4.253507137298584], [-0.6851510405540466, 0.42270106077194214, 1.7669875621795654], [-1.5760961771011353, 4.63832950592041, -0.8310725688934326], [0.9611597061157227, -2.373025894165039, -0.6949805021286011], [-0.702751636505127, 1.1535096168518066, 1.494845986366272], [-1.5487744808197021, 2.5202395915985107, 1.8695878982543945], [10.13785171508789, -11.309857368469238, -9.167754173278809], [3.763606071472168, -4.250951766967773, -3.5752832889556885], [-1.4427865743637085, 2.7005228996276855, 1.7698169946670532], [-1.3442355394363403, 3.915245294570923, -0.8260864615440369], [-2.3272705078125, 1.0698140859603882, 4.458533763885498], [3.669459581375122, -4.858937740325928, -1.788256049156189], [12.37784194946289, -12.519745826721191, -10.544928550720215], [-1.3936916589736938, 1.4776356220245361, 3.1172597408294678], [-1.5014053583145142, 3.8547351360321045, -0.3259364366531372], [-1.3866503238677979, 1.3474639654159546, 2.79301381111145], [-1.8433904647827148, 4.5553178787231445, -1.0315227508544922], [-0.35772275924682617, 0.6802796125411987, 0.7315466403961182], [-0.7865029573440552, 3.0723178386688232, 0.5719537734985352], [-0.5132068395614624, 1.8139851093292236, 0.9208599925041199], [-0.15772727131843567, 0.36602210998535156, 1.4099583625793457], [17.023284912109375, -17.005504608154297, -14.774112701416016], [6.101136207580566, -6.149441719055176, -4.074143886566162], [-2.870016574859619, 1.9827725887298584, 3.7521185874938965], [2.721717596054077, -2.8518950939178467, -0.9547110795974731], [-1.617172122001648, 0.6331721544265747, 2.506375551223755], [-1.4244304895401, 4.0665202140808105, -0.5060853958129883], [-1.0247186422348022, 2.880974292755127, 0.1423797905445099], [-1.3581140041351318, 3.7525668144226074, 1.100257158279419], [-1.2051974534988403, 2.9087560176849365, 0.7768207788467407], [-1.9983044862747192, 1.2590336799621582, 2.6429102420806885], [-2.0123560428619385, 4.075455188751221, -1.144289493560791], [3.514599561691284, -2.2487382888793945, -3.7364661693573], [-1.8499250411987305, 4.972196102142334, -0.3427562713623047], [-1.1944739818572998, 2.3587992191314697, 0.7124931812286377], [-0.7675721645355225, 3.029134750366211, 0.29539355635643005], [-0.8930873870849609, 3.1535024642944336, -0.4299122989177704], [-1.89967679977417, 4.649063587188721, -0.20166000723838806], [2.7646071910858154, -2.6867496967315674, -2.0243992805480957], [3.825695514678955, -3.9512264728546143, -2.701294422149658], [-1.1533211469650269, 2.819387197494507, 1.2851624488830566], [-1.4012757539749146, 1.157956838607788, 3.1058855056762695], [-0.6709355115890503, 0.4256941080093384, 1.7534533739089966], [-2.2436017990112305, 3.6652252674102783, 1.8851863145828247], [-1.8461955785751343, 1.143406867980957, 3.629021167755127], [5.730948448181152, -6.989132404327393, -6.941491603851318], [1.9358694553375244, -2.494633674621582, -1.4565109014511108], [-1.276139736175537, 2.0939528942108154, 1.1579362154006958], [0.898858368396759, -0.4752470850944519, -1.1658598184585571], [-0.6739474534988403, 2.1053528785705566, 0.15824204683303833], [-1.0760715007781982, 1.634239673614502, 1.6365305185317993], [-1.1174017190933228, 3.2276880741119385, -0.46323755383491516], [-2.613827705383301, 1.5462366342544556, 3.216151475906372], [4.489193439483643, -5.04518985748291, -4.128561496734619], [4.346277713775635, -4.756200790405273, -3.2404205799102783], [0.4394105076789856, -0.6148844361305237, -0.05774629861116409], [8.950336456298828, -9.828176498413086, -6.58671760559082], [-1.3144557476043701, 4.767596244812012, 0.13282617926597595], [-2.2125327587127686, 4.54943323135376, 1.2226135730743408], [9.475543022155762, -9.511449813842773, -6.764185905456543], [0.5761511325836182, 0.2649688720703125, -1.2665834426879883], [-1.8441475629806519, 2.8113460540771484, -0.1343865692615509], [-1.4666348695755005, 1.1262381076812744, 2.7997348308563232], [2.8114821910858154, -0.09352339804172516, -1.1643273830413818], [6.119494438171387, -6.723493576049805, -5.677906513214111], [-1.474307656288147, 4.376431465148926, -0.539620578289032], [5.307989597320557, -6.028079032897949, -3.414618730545044], [-1.2234498262405396, 2.736328363418579, -0.3405834436416626], [3.1151692867279053, -3.065830945968628, -2.8837199211120605], [0.2563744783401489, 1.4365922212600708, 0.725122332572937], [-0.07813932001590729, 0.5033062100410461, -0.25386396050453186], [5.029959201812744, -5.107226371765137, -4.639434337615967], [-1.0412304401397705, 4.456884384155273, 0.33451706171035767], [-1.4432756900787354, 3.4686691761016846, -0.16073846817016602], [-1.3767313957214355, 1.4653795957565308, 2.448166608810425], [-1.4820351600646973, 1.2338063716888428, 2.3581011295318604], [2.921098470687866, -3.5874948501586914, -2.9718949794769287], [10.282343864440918, -12.155112266540527, -7.300572395324707], [-0.14203140139579773, 0.49017810821533203, 1.3168848752975464], [7.522189140319824, -9.984769821166992, -7.556545734405518], [1.597618818283081, -0.28350377082824707, -4.64955997467041], [3.0372655391693115, -1.36203932762146, -2.3751559257507324], [-0.07958944141864777, -1.0555936098098755, 0.6293178200721741], [-1.276360273361206, 1.041443943977356, 2.505337953567505], [-1.3202508687973022, 5.092212200164795, -0.2804783284664154], [-0.4435883164405823, 0.29594945907592773, 1.4449100494384766], [-2.4581735134124756, 0.351370632648468, 4.708940505981445], [-1.3571887016296387, 2.138392686843872, 1.9913607835769653], [5.6214728355407715, -5.560821056365967, -4.277925491333008], [-1.5382574796676636, 1.2202699184417725, 2.070486068725586], [3.750197410583496, -4.591487407684326, -4.952508449554443], [-1.5844463109970093, 3.2971584796905518, 2.79130220413208], [0.5354930758476257, -1.0312188863754272, -0.23732608556747437], [-1.6619921922683716, 3.9790873527526855, 0.2326333224773407], [0.3024787902832031, 0.22937321662902832, 0.08594740182161331], [-1.2571938037872314, 1.3505334854125977, 2.1684060096740723], [-2.037050247192383, 0.8942034244537354, 3.5908355712890625], [2.564983606338501, -1.8673101663589478, -2.5305542945861816], [-1.1626776456832886, 3.1189284324645996, 0.34582504630088806], [4.872460842132568, -5.062844276428223, -4.968245983123779], [-1.5442180633544922, 1.0311226844787598, 2.422051191329956], [6.6942338943481445, -8.243453979492188, -5.923269271850586], [3.7820751667022705, -2.87652325630188, -3.6975812911987305], [2.6751296520233154, -3.1101772785186768, -2.004244327545166], [-1.5233676433563232, 3.2813851833343506, -0.21671992540359497], [-2.3072822093963623, 1.2138235569000244, 3.711942195892334], [4.022160053253174, -5.101796627044678, -4.1104817390441895], [-1.073466181755066, 0.5112680196762085, 1.5548673868179321], [-1.0954128503799438, 4.896870136260986, -0.42129790782928467], [-1.376069188117981, 3.557234525680542, -0.021922465413808823], [-0.6450965404510498, 3.1748387813568115, 0.3280041813850403], [-0.23078949749469757, 0.6487100124359131, 0.22019988298416138], [1.5449094772338867, -1.0376166105270386, -0.25715339183807373], [-0.2664583921432495, 0.008374109864234924, 0.9639416933059692], [-2.901620388031006, 0.32152611017227173, 4.223422527313232], [2.581817865371704, -0.5222806930541992, -1.6511479616165161], [-1.6122897863388062, 4.100799083709717, -0.7594190835952759], [-1.2411203384399414, 1.9085867404937744, 2.2418551445007324], [0.3459647297859192, 2.615448236465454, -0.2257201075553894], [-1.2317429780960083, 2.0667338371276855, 1.384487509727478], [-1.5644272565841675, 0.6591775417327881, 1.4881154298782349], [-1.8012231588363647, 4.532347679138184, -0.48388227820396423], [-0.3572738766670227, 1.3652336597442627, 1.126230239868164], [-2.140181064605713, 1.2139033079147339, 3.018968343734741], [0.2717277407646179, 0.35954248905181885, -1.5746768712997437], [4.684164047241211, -5.344844818115234, -5.179189682006836], [-0.9890548586845398, 3.13553524017334, -0.3649592399597168], [-1.0217828750610352, 0.9500746726989746, 1.2028284072875977], [-1.812667727470398, 4.191596984863281, 0.023251406848430634], [2.0290539264678955, -1.2435768842697144, -1.2367430925369263], [-0.5857869386672974, 1.0845996141433716, 0.35032257437705994], [-0.9059709906578064, 1.2974591255187988, 1.007910966873169], [-1.0342680215835571, 1.996559739112854, 0.7685186266899109], [-2.2155251502990723, 4.1033735275268555, -0.046665824949741364], [8.740230560302734, -8.925201416015625, -7.457127571105957], [5.918656349182129, -6.348516464233398, -5.0504231452941895], [-1.0345832109451294, 2.2041263580322266, -0.08695279806852341], [-1.076082468032837, 1.4233877658843994, 2.157121181488037], [-2.2503507137298584, 0.4589253067970276, 3.8761463165283203], [-1.7885196208953857, 0.7309441566467285, 3.2280092239379883], [-1.3810482025146484, 3.9416399002075195, -0.17654269933700562], [-1.2882951498031616, 4.209926128387451, 0.5535907745361328], [-1.6267521381378174, 3.955148696899414, -0.08992470800876617], [-1.1691241264343262, 0.02728339284658432, 1.929693341255188], [-0.950952410697937, 1.6968590021133423, 0.46923550963401794], [-2.407201051712036, 4.295701503753662, 1.7617058753967285], [5.869623184204102, -6.5872955322265625, -4.578567981719971], [-0.6492342948913574, 1.5547115802764893, 0.7337226867675781], [-1.909947156906128, 1.776159405708313, 2.906775712966919], [5.790825843811035, -4.597945213317871, -5.2509965896606445], [-1.6579556465148926, 1.3857542276382446, 1.9650436639785767], [-1.6115800142288208, -0.11143472790718079, 2.9746999740600586], [-1.102033019065857, 2.3121426105499268, 1.276350736618042], [-0.570438802242279, -0.26196324825286865, 1.0318619012832642], [5.574495792388916, -5.891430377960205, -5.142111778259277], [-1.046346664428711, 1.5744774341583252, 0.8473536968231201], [-1.7062771320343018, 4.486039638519287, 0.6634594202041626], [0.4054173231124878, 0.6870096325874329, -0.0866817757487297], [-2.5716729164123535, 0.6626509428024292, 3.6008522510528564], [-1.3177142143249512, 3.1587259769439697, 1.0044881105422974], [-1.4341689348220825, 1.3902559280395508, 2.0114665031433105], [-1.4836150407791138, 2.2169978618621826, 0.534856915473938], [-0.9015291929244995, 2.0149929523468018, 0.216142475605011], [-1.4028939008712769, 1.0990114212036133, 2.828249454498291], [-0.6773924231529236, 3.1571178436279297, 0.9192065596580505], [-1.7773678302764893, 0.4580702781677246, 2.649704694747925], [-2.030984878540039, 6.3865580558776855, -0.7796086072921753], [-1.384769320487976, 1.019875407218933, 2.9165754318237305], [-1.2297967672348022, 1.4239577054977417, 2.0952982902526855], [2.4287071228027344, -1.988548755645752, -1.2636808156967163], [-1.0354499816894531, 1.4799864292144775, 0.9077042937278748], [1.1692450046539307, -0.20768053829669952, -0.8735622763633728], [-1.0895624160766602, 2.580827474594116, 1.5715813636779785], [-1.5504796504974365, 1.3612490892410278, 2.501887321472168], [-0.6312412619590759, 2.091451406478882, 0.22145935893058777], [-2.667222499847412, 1.6974736452102661, 2.8933777809143066], [-2.2730228900909424, 0.8435910940170288, 3.0852415561676025], [-0.7845984101295471, 3.186082363128662, 0.04097943753004074], [-2.037985324859619, 0.9832711815834045, 2.8986072540283203], [-0.7271226048469543, 2.4741463661193848, 0.5933354496955872], [-0.9371904730796814, 0.8575272560119629, 2.246656656265259], [8.954570770263672, -9.29606819152832, -6.887332439422607], [-2.0157878398895264, 1.5897552967071533, 2.9653782844543457], [0.25335413217544556, -0.6881170272827148, 0.19594505429267883], [-1.0948163270950317, 3.6505379676818848, 0.09624157100915909], [-0.13816839456558228, 1.7917197942733765, 0.31270599365234375], [-1.1837198734283447, 2.1751317977905273, 1.6021603345870972], [-0.2066574990749359, -0.11174045503139496, 0.15846440196037292], [10.164971351623535, -10.46843147277832, -6.864065647125244], [-1.2000658512115479, 3.170011281967163, -0.5045231580734253], [5.137725830078125, -4.582458019256592, -2.6874911785125732], [-1.7830837965011597, 3.8059380054473877, 0.16993451118469238], [5.383057117462158, -5.594985008239746, -3.691004991531372], [2.8945159912109375, -3.481093645095825, -1.0452377796173096], [-1.199497938156128, 3.7507236003875732, -0.5353513360023499], [6.617452144622803, -7.356761455535889, -5.638886451721191], [3.8502986431121826, -3.322803497314453, -3.5980396270751953], [4.5926833152771, -4.084781169891357, -4.298384666442871], [-1.2896409034729004, 3.204119920730591, 0.6397130489349365], [-2.6196441650390625, 1.132115125656128, 4.220715522766113], [0.7667686939239502, 0.544291615486145, -0.8912417888641357], [4.162116050720215, -3.1700098514556885, -4.822922706604004], [-0.6079620718955994, 1.8605064153671265, -0.06619413197040558], [-2.0545661449432373, 4.308303356170654, 0.06033668667078018], [-1.080448865890503, 0.44057697057724, 3.148242950439453], [11.783483505249023, -12.028151512145996, -8.514054298400879], [-2.1624419689178467, 0.6495842337608337, 3.3073463439941406], [4.1391825675964355, -5.341166019439697, -3.2350664138793945], [0.35017842054367065, -0.8135811686515808, -0.17089000344276428], [5.644235610961914, -6.362733840942383, -4.858585834503174], [-1.0054506063461304, 2.9141995906829834, 0.21721002459526062], [3.8793632984161377, -3.3905789852142334, -3.5883536338806152], [5.355367183685303, -3.579733371734619, -3.53987717628479], [2.9416396617889404, -2.5746374130249023, -2.0157008171081543], [8.917495727539062, -7.773268699645996, -6.356921195983887], [-1.164565086364746, 0.9700207114219666, 1.0750621557235718], [-1.910112738609314, 3.8904993534088135, -0.40053632855415344], [9.795337677001953, -10.267988204956055, -6.966197490692139], [-0.647544801235199, 0.055933527648448944, 1.4528828859329224], [-1.4971433877944946, 2.170229196548462, -1.2099089622497559], [-1.4913837909698486, 0.9315992593765259, 2.646602153778076], [13.483290672302246, -15.420622825622559, -13.138018608093262], [-0.9038270115852356, 2.9377834796905518, 0.43704405426979065], [-1.668724775314331, 1.8628215789794922, 2.2747116088867188], [5.071601390838623, -4.9082231521606445, -4.267879009246826], [-1.5864543914794922, 3.539963483810425, 0.5150530338287354], [-0.7411783337593079, 2.234304904937744, 1.2949637174606323], [-0.676100492477417, 2.265942335128784, 1.1523102521896362], [-1.424797773361206, 1.5666483640670776, 1.034558892250061], [1.7342168092727661, -1.4131814241409302, -1.8542994260787964], [5.723637104034424, -8.042789459228516, -5.914074897766113], [-1.3414322137832642, 0.8508813977241516, 1.9001833200454712], [-2.0345113277435303, 1.4640374183654785, 3.4159834384918213], [-0.6135833859443665, 0.5053734183311462, 0.6599215865135193], [-2.472503662109375, 1.4668207168579102, 3.8046090602874756], [-1.6303404569625854, 1.9837286472320557, 0.8432408571243286], [-1.4791899919509888, 4.528237342834473, -0.24818155169487], [5.382797718048096, -5.732242107391357, -4.135796546936035], [-1.2885222434997559, 2.3652141094207764, 0.43684008717536926], [-1.5328218936920166, 3.6600444316864014, 0.4204345643520355], [8.57699203491211, -11.30113410949707, -8.673291206359863], [-0.19773802161216736, 0.38156890869140625, 1.248079538345337], [-1.6576231718063354, 0.8277656435966492, 3.660430908203125], [-0.9937011003494263, 1.3516790866851807, 0.9731860160827637], [-0.7466608285903931, 2.6309385299682617, 0.11176558583974838], [1.2580355405807495, -2.076491355895996, -4.330051422119141], [-1.0973082780838013, 1.9965496063232422, 1.3648184537887573], [-1.5860166549682617, 1.076271414756775, 4.244027137756348], [7.945618152618408, -9.052204132080078, -7.904017448425293], [10.152557373046875, -11.055655479431152, -9.20663070678711], [-0.659705400466919, 1.1003390550613403, 0.6448965072631836], [-1.9845879077911377, 0.8813496828079224, 3.1301586627960205], [1.5099551677703857, -1.4008351564407349, -0.12175732105970383], [-0.9945058822631836, 2.6346285343170166, 0.8782352805137634], [-1.480266809463501, 0.8202681541442871, 2.3017284870147705], [6.6522698402404785, -6.544875621795654, -5.413504123687744], [-0.10193604230880737, 0.31476324796676636, 1.5598419904708862], [-0.047961317002773285, -0.8442702293395996, 2.1571383476257324], [-0.352658212184906, -0.4557077884674072, -0.03465907648205757], [6.2629170417785645, -6.784666538238525, -4.102548599243164], [-1.7818233966827393, 3.897473096847534, 1.1852878332138062], [5.5009379386901855, -6.634585380554199, -4.130703449249268]]\n",
            "tensor([[3.4867e-01, 1.5260e+00, 5.8274e+00],\n",
            "        [8.4986e-02, 6.4255e+00, 1.5189e+02],\n",
            "        [1.8516e-01, 2.5621e+02, 5.0575e-01],\n",
            "        ...,\n",
            "        [5.2475e+02, 1.1310e-03, 1.6530e-02],\n",
            "        [1.6833e-01, 4.9278e+01, 3.2716e+00],\n",
            "        [2.4492e+02, 1.3141e-03, 1.6072e-02]])\n",
            "[2, 2, 1, 2, 2, 0, 0, 1, 0, 2, 1, 1, 2, 1, 2, 2, 2, 0, 1, 0, 1, 0, 1, 2, 1, 1, 0, 1, 1, 2, 1, 1, 2, 1, 0, 0, 1, 1, 0, 2, 2, 1, 1, 1, 0, 2, 2, 0, 2, 1, 0, 2, 0, 2, 0, 1, 1, 1, 0, 2, 1, 1, 1, 1, 2, 2, 2, 2, 2, 1, 2, 0, 0, 0, 1, 2, 2, 0, 2, 2, 1, 0, 0, 1, 2, 2, 2, 2, 1, 1, 1, 2, 1, 2, 0, 2, 0, 1, 0, 1, 1, 1, 2, 1, 1, 0, 1, 0, 2, 2, 1, 0, 0, 2, 1, 1, 0, 1, 2, 2, 2, 1, 0, 2, 2, 0, 2, 0, 0, 2, 0, 0, 1, 1, 2, 2, 0, 0, 0, 1, 2, 2, 0, 2, 2, 1, 0, 2, 1, 0, 0, 1, 2, 0, 0, 0, 1, 2, 2, 2, 1, 0, 2, 2, 2, 1, 2, 1, 2, 2, 1, 1, 1, 0, 0, 1, 2, 0, 2, 1, 2, 0, 0, 2, 1, 0, 1, 1, 0, 2, 2, 0, 2, 2, 1, 2, 1, 0, 2, 2, 2, 1, 1, 1, 1, 2, 1, 2, 2, 1, 1, 0, 2, 0, 2, 0, 1, 1, 1, 1, 0, 1, 0, 0, 2, 1, 2, 1, 2, 2, 2, 1, 2, 0, 1, 0, 0, 1, 2, 2, 2, 1, 0, 1, 1, 1, 1, 0, 0, 1, 2, 1, 2, 2, 2, 0, 2, 1, 1, 1, 1, 1, 2, 1, 1, 1, 2, 1, 1, 2, 0, 0, 1, 0, 1, 2, 1, 2, 1, 2, 0, 0, 1, 0, 1, 1, 1, 2, 1, 2, 1, 1, 0, 1, 2, 1, 2, 2, 2, 0, 1, 0, 1, 2, 2, 1, 0, 0, 0, 1, 2, 2, 0, 2, 0, 2, 2, 0, 1, 0, 2, 1, 1, 0, 1, 0, 2, 1, 2, 2, 2, 2, 0, 2, 1, 0, 2, 1, 0, 0, 0, 1, 0, 1, 2, 2, 1, 2, 2, 0, 2, 0, 2, 2, 0, 0, 0, 1, 1, 2, 2, 1, 1, 0, 1, 0, 2, 1, 1, 0, 0, 1, 0, 1, 2, 0, 1, 0, 0, 0, 0, 1, 2, 1, 0, 1, 0, 2, 0, 2, 1, 1, 1, 2, 2, 1, 0, 2, 0, 0, 2, 1, 0, 1, 0, 0, 2, 2, 2, 2, 0, 2, 1, 1, 1, 1, 0, 1, 0, 0, 1, 2, 1, 2, 1, 2, 1, 0, 2, 2, 1, 0, 0, 2, 2, 1, 1, 0, 2, 2, 1, 2, 1, 2, 2, 1, 2, 2, 2, 1, 1, 0, 1, 2, 0, 1, 1, 1, 0, 1, 2, 2, 0, 1, 2, 2, 0, 0, 0, 1, 0, 2, 1, 0, 1, 2, 0, 2, 2, 2, 0, 2, 2, 1, 1, 2, 0, 1, 1, 2, 2, 0, 2, 2, 1, 0, 0, 1, 0, 0, 2, 1, 2, 2, 2, 2, 1, 0, 2, 1, 0, 0, 1, 1, 2, 0, 0, 2, 1, 2, 1, 2, 1, 2, 2, 0, 0, 2, 0, 2, 1, 1, 1, 1, 2, 1, 0, 1, 1, 1, 1, 1, 0, 0, 1, 2, 2, 1, 2, 0, 0, 1, 0, 2, 1, 1, 2, 0, 0, 0, 0, 1, 1, 0, 0, 1, 2, 0, 0, 1, 0, 1, 0, 1, 2, 0, 1, 1, 2, 2, 0, 0, 2, 0, 1, 0, 0, 2, 1, 2, 2, 1, 0, 2, 0, 2, 0, 2, 2, 2, 2, 0, 1, 0, 2, 0, 0, 0, 1, 2, 0, 2, 1, 1, 1, 2, 2, 2, 2, 0, 1, 1, 0, 1, 2, 1, 2, 2, 0, 0, 1, 2, 1, 0, 2, 2, 1, 1, 0, 0, 1, 1, 2, 2, 1, 1, 1, 2, 1, 1, 0, 2, 2, 0, 2, 2, 1, 2, 0, 2, 1, 2, 2, 1, 2, 2, 1, 2, 1, 2, 1, 2, 2, 0, 2, 0, 1, 2, 1, 2, 2, 1, 2, 1, 2, 0, 2, 0, 1, 1, 1, 0, 0, 1, 0, 1, 0, 0, 1, 0, 0, 0, 1, 2, 0, 0, 1, 1, 2, 0, 2, 0, 0, 0, 1, 0, 0, 2, 0, 2, 1, 0, 2, 1, 2, 0, 1, 1, 0, 1, 1, 0, 2, 0, 0, 2, 2, 2, 2, 1, 1, 0, 1, 1, 0, 2, 2, 1, 1, 0, 2, 2, 0, 0, 1, 2, 2, 1, 2, 0, 2, 0, 0, 0, 1, 0]\n",
            "f1 score:  0.8865259613232421\n",
            "recall:  0.8877284595300261\n",
            "precision:  0.8951005139265791\n",
            "accuracy:  0.8877284595300261\n"
          ],
          "name": "stdout"
        }
      ]
    },
    {
      "cell_type": "markdown",
      "metadata": {
        "id": "sjxSYla9vAwL"
      },
      "source": [
        "# Fully Connected NN 2 Training"
      ]
    },
    {
      "cell_type": "markdown",
      "metadata": {
        "id": "q8Xq4TRbTfrJ"
      },
      "source": [
        "data input (x,256,256) I am using greyscale images"
      ]
    },
    {
      "cell_type": "code",
      "metadata": {
        "id": "iIxEVn6zbteM"
      },
      "source": [
        "def weights_init_uniform_rule(m):\n",
        "        classname = m.__class__.__name__\n",
        "        # for every Linear layer in a model..\n",
        "        if classname.find('Linear') != -1:\n",
        "            # get the number of the inputs\n",
        "            n = m.in_features\n",
        "            y = 1.0/np.sqrt(n)\n",
        "            m.weight.data.uniform_(-y, y)\n",
        "            m.bias.data.fill_(0)"
      ],
      "execution_count": null,
      "outputs": []
    },
    {
      "cell_type": "code",
      "metadata": {
        "id": "BRzdYDJjum_x",
        "colab": {
          "base_uri": "https://localhost:8080/"
        },
        "outputId": "dba11270-16b3-4727-d022-95d73a2f4734"
      },
      "source": [
        "torch.set_default_tensor_type('torch.cuda.FloatTensor')\n",
        "fully_connected_nn2 = FullyConnectedNN2()\n",
        "model = fully_connected_nn2\n",
        "model.apply(weights_init_uniform_rule)"
      ],
      "execution_count": null,
      "outputs": [
        {
          "output_type": "execute_result",
          "data": {
            "text/plain": [
              "FullyConnectedNN2(\n",
              "  (l1): Linear(in_features=196608, out_features=1000, bias=True)\n",
              "  (relu): ReLU()\n",
              "  (l3): Linear(in_features=1000, out_features=500, bias=True)\n",
              "  (l4): Linear(in_features=500, out_features=128, bias=True)\n",
              "  (l5): Linear(in_features=128, out_features=84, bias=True)\n",
              "  (l6): Linear(in_features=84, out_features=3, bias=True)\n",
              "  (dropout): Dropout(p=0.5, inplace=False)\n",
              "  (tanh): Tanh()\n",
              "  (l7): Softmax(dim=1)\n",
              ")"
            ]
          },
          "metadata": {
            "tags": []
          },
          "execution_count": 26
        }
      ]
    },
    {
      "cell_type": "code",
      "metadata": {
        "id": "agFPKdTTvMDj"
      },
      "source": [
        "epochs = 20\n",
        "learning_rate = 0.0000001\n",
        "#optimizer = torch.optim.Adam(model.parameters(), lr=learning_rate, weight_decay=0.5)\n",
        "optimizer = torch.optim.Adadelta(model.parameters(), lr=0.0001, rho=0.9, eps=1e-06, weight_decay=0)\n",
        "scheduler = torch.optim.lr_scheduler.ReduceLROnPlateau(optimizer, patience=5, factor=0.3, threshold=0.0001)\n"
      ],
      "execution_count": null,
      "outputs": []
    },
    {
      "cell_type": "code",
      "metadata": {
        "id": "v9xHl5cpvV-h",
        "colab": {
          "base_uri": "https://localhost:8080/"
        },
        "outputId": "a191d3e5-1830-4220-c192-83a17e538250"
      },
      "source": [
        "for epoch in range(epochs):\n",
        "  labels, pred, train_loss = run_model(model, train_dataloader, optimizer, scheduler, train=True)\n",
        "  get_metrics(pred,labels)\n",
        "  labels, pred, valid_loss = run_model(model, cv_dataloader, optimizer, scheduler, train=False)\n",
        "  get_metrics(pred, labels)\n",
        "  print('Epoch: {} \\tTraining Loss: {:.6f} \\tValidation Loss: {:.6f}'.format(epoch, train_loss, valid_loss))\n"
      ],
      "execution_count": null,
      "outputs": [
        {
          "output_type": "stream",
          "text": [
            "f1 score:  0.8895553941652511\n",
            "recall:  0.8894209838920331\n",
            "precision:  0.8899889368861146\n",
            "accuracy:  0.8894209838920331\n",
            "f1 score:  0.8917349697196453\n",
            "recall:  0.891644908616188\n",
            "precision:  0.8919447845682879\n",
            "accuracy:  0.891644908616188\n",
            "Epoch: 0 \tTraining Loss: 0.867683 \tValidation Loss: 0.852164\n",
            "f1 score:  0.8932318810591946\n",
            "recall:  0.8933391380060949\n",
            "precision:  0.8932542566684046\n",
            "accuracy:  0.8933391380060949\n",
            "f1 score:  0.8817097278823354\n",
            "recall:  0.8825065274151436\n",
            "precision:  0.8827098905158198\n",
            "accuracy:  0.8825065274151436\n",
            "Epoch: 1 \tTraining Loss: 0.863621 \tValidation Loss: 0.857336\n",
            "f1 score:  0.8959534974174348\n",
            "recall:  0.8959512407488028\n",
            "precision:  0.8959808504192357\n",
            "accuracy:  0.8959512407488028\n",
            "f1 score:  0.8889431607754723\n",
            "recall:  0.8890339425587467\n",
            "precision:  0.8896319589000732\n",
            "accuracy:  0.8890339425587467\n",
            "Epoch: 2 \tTraining Loss: 0.858326 \tValidation Loss: 0.848190\n",
            "f1 score:  0.9028865562521246\n",
            "recall:  0.9029168480626905\n",
            "precision:  0.9028611285619601\n",
            "accuracy:  0.9029168480626905\n",
            "f1 score:  0.8958949409788814\n",
            "recall:  0.8955613577023499\n",
            "precision:  0.8971749529843525\n",
            "accuracy:  0.8955613577023499\n",
            "Epoch: 3 \tTraining Loss: 0.852489 \tValidation Loss: 0.848370\n",
            "f1 score:  0.9146193825739307\n",
            "recall:  0.9146713104048759\n",
            "precision:  0.914612301556937\n",
            "accuracy:  0.9146713104048759\n",
            "f1 score:  0.8758020767894126\n",
            "recall:  0.8772845953002611\n",
            "precision:  0.8850464862994678\n",
            "accuracy:  0.8772845953002611\n",
            "Epoch: 4 \tTraining Loss: 0.849125 \tValidation Loss: 0.852662\n",
            "f1 score:  0.9155572931267764\n",
            "recall:  0.9155420113191118\n",
            "precision:  0.9155760354198975\n",
            "accuracy:  0.9155420113191118\n",
            "f1 score:  0.8818319091212844\n",
            "recall:  0.881201044386423\n",
            "precision:  0.8872800957938235\n",
            "accuracy:  0.881201044386423\n",
            "Epoch: 5 \tTraining Loss: 0.846144 \tValidation Loss: 0.847876\n",
            "f1 score:  0.9194594019345057\n",
            "recall:  0.9194601654331737\n",
            "precision:  0.919478123519929\n",
            "accuracy:  0.9194601654331737\n",
            "f1 score:  0.8944009437721125\n",
            "recall:  0.8942558746736292\n",
            "precision:  0.8962254656721211\n",
            "accuracy:  0.8942558746736292\n",
            "Epoch: 6 \tTraining Loss: 0.843024 \tValidation Loss: 0.836017\n",
            "f1 score:  0.9120835628370533\n",
            "recall:  0.9120592076621681\n",
            "precision:  0.9121115236107393\n",
            "accuracy:  0.9120592076621681\n",
            "f1 score:  0.88080473492331\n",
            "recall:  0.881201044386423\n",
            "precision:  0.8909301074282537\n",
            "accuracy:  0.881201044386423\n",
            "Epoch: 7 \tTraining Loss: 0.841498 \tValidation Loss: 0.847741\n",
            "f1 score:  0.918574353245082\n",
            "recall:  0.9185894645189377\n",
            "precision:  0.9185715121787127\n",
            "accuracy:  0.9185894645189377\n",
            "f1 score:  0.8933750896456437\n",
            "recall:  0.8929503916449086\n",
            "precision:  0.8944347558036038\n",
            "accuracy:  0.8929503916449086\n",
            "Epoch: 8 \tTraining Loss: 0.838392 \tValidation Loss: 0.837096\n",
            "f1 score:  0.9216470604051715\n",
            "recall:  0.9216369177187637\n",
            "precision:  0.9216650893488371\n",
            "accuracy:  0.9216369177187637\n",
            "f1 score:  0.9021966068489399\n",
            "recall:  0.902088772845953\n",
            "precision:  0.9023395717518449\n",
            "accuracy:  0.902088772845953\n",
            "Epoch: 9 \tTraining Loss: 0.837568 \tValidation Loss: 0.831771\n",
            "f1 score:  0.9259748190548626\n",
            "recall:  0.9259904222899434\n",
            "precision:  0.9259679922772616\n",
            "accuracy:  0.9259904222899434\n",
            "f1 score:  0.8966094348282622\n",
            "recall:  0.8968668407310705\n",
            "precision:  0.8977700196372727\n",
            "accuracy:  0.8968668407310705\n",
            "Epoch: 10 \tTraining Loss: 0.832660 \tValidation Loss: 0.828924\n",
            "f1 score:  0.9241928847704841\n",
            "recall:  0.9242490204614715\n",
            "precision:  0.9242162715269143\n",
            "accuracy:  0.9242490204614715\n",
            "f1 score:  0.9033066595885874\n",
            "recall:  0.9033942558746736\n",
            "precision:  0.9032801833648146\n",
            "accuracy:  0.9033942558746736\n",
            "Epoch: 11 \tTraining Loss: 0.830141 \tValidation Loss: 0.828634\n",
            "f1 score:  0.9242431202530701\n",
            "recall:  0.9242490204614715\n",
            "precision:  0.9242377693643897\n",
            "accuracy:  0.9242490204614715\n",
            "f1 score:  0.8951879874179154\n",
            "recall:  0.8955613577023499\n",
            "precision:  0.9015032615888273\n",
            "accuracy:  0.8955613577023499\n",
            "Epoch: 12 \tTraining Loss: 0.827554 \tValidation Loss: 0.827735\n",
            "f1 score:  0.9277482952652744\n",
            "recall:  0.9277318241184154\n",
            "precision:  0.9277801736651063\n",
            "accuracy:  0.9277318241184154\n",
            "f1 score:  0.8590766435701975\n",
            "recall:  0.8616187989556136\n",
            "precision:  0.8807693297693843\n",
            "accuracy:  0.8616187989556136\n",
            "Epoch: 13 \tTraining Loss: 0.823439 \tValidation Loss: 0.841678\n",
            "f1 score:  0.9277147972478438\n",
            "recall:  0.9277318241184154\n",
            "precision:  0.927824598592169\n",
            "accuracy:  0.9277318241184154\n",
            "f1 score:  0.9050279803444722\n",
            "recall:  0.9046997389033943\n",
            "precision:  0.9060546470372487\n",
            "accuracy:  0.9046997389033943\n",
            "Epoch: 14 \tTraining Loss: 0.824412 \tValidation Loss: 0.824082\n",
            "f1 score:  0.9268891814659257\n",
            "recall:  0.9268611232041793\n",
            "precision:  0.9269310411218162\n",
            "accuracy:  0.9268611232041793\n",
            "f1 score:  0.9035418865343906\n",
            "recall:  0.9033942558746736\n",
            "precision:  0.9040330569296563\n",
            "accuracy:  0.9033942558746736\n",
            "Epoch: 15 \tTraining Loss: 0.819678 \tValidation Loss: 0.822344\n",
            "f1 score:  0.9242728976357412\n",
            "recall:  0.9242490204614715\n",
            "precision:  0.9243283678703712\n",
            "accuracy:  0.9242490204614715\n",
            "f1 score:  0.9008348519771495\n",
            "recall:  0.9007832898172323\n",
            "precision:  0.9014821362881195\n",
            "accuracy:  0.9007832898172323\n",
            "Epoch: 16 \tTraining Loss: 0.822038 \tValidation Loss: 0.820805\n",
            "f1 score:  0.9299173725248215\n",
            "recall:  0.9299085764040053\n",
            "precision:  0.9299367280368152\n",
            "accuracy:  0.9299085764040053\n",
            "f1 score:  0.9022159893731692\n",
            "recall:  0.902088772845953\n",
            "precision:  0.9029000322433842\n",
            "accuracy:  0.902088772845953\n",
            "Epoch: 17 \tTraining Loss: 0.818038 \tValidation Loss: 0.823112\n",
            "f1 score:  0.9325821514441128\n",
            "recall:  0.9325206791467131\n",
            "precision:  0.9326921797163295\n",
            "accuracy:  0.9325206791467131\n",
            "f1 score:  0.9047676568141001\n",
            "recall:  0.9046997389033943\n",
            "precision:  0.9048891546786368\n",
            "accuracy:  0.9046997389033943\n",
            "Epoch: 18 \tTraining Loss: 0.816087 \tValidation Loss: 0.817749\n",
            "f1 score:  0.9272911470488975\n",
            "recall:  0.9272964736612973\n",
            "precision:  0.9272923391000926\n",
            "accuracy:  0.9272964736612973\n",
            "f1 score:  0.9100291490035793\n",
            "recall:  0.9099216710182768\n",
            "precision:  0.9109193455011796\n",
            "accuracy:  0.9099216710182768\n",
            "Epoch: 19 \tTraining Loss: 0.814936 \tValidation Loss: 0.811797\n"
          ],
          "name": "stdout"
        }
      ]
    },
    {
      "cell_type": "markdown",
      "metadata": {
        "id": "MXqfQNWtvXkl"
      },
      "source": [
        "# Fully Connected NN 2 Testing"
      ]
    },
    {
      "cell_type": "code",
      "metadata": {
        "id": "z5RmOVS1vc1f",
        "colab": {
          "base_uri": "https://localhost:8080/"
        },
        "outputId": "0dc14cf1-d5e4-4d6b-e7f8-1558342c33e7"
      },
      "source": [
        "labels, pred, loss = run_model(model, test_dataloader, optimizer, scheduler, train=False)\n",
        "print(\"test: \")\n",
        "print(\"loss: \", loss)\n",
        "print(pred)\n",
        "print(torch.exp(torch.tensor(pred)))\n",
        "print(labels)\n",
        "get_metrics(pred, labels)\n",
        "\n",
        "# pred = torch.exp(torch.tensor(pred))\n",
        "# _, pred = torch.max(pred, 1)\n",
        "# # _, pred = torch.max(torch.tensor(pred), 1)\n",
        "# print(pred)\n",
        "# f1 = f1_score(labels, pred.cpu(), average='weighted')\n",
        "# r = recall_score(labels, pred.cpu(), average='weighted')\n",
        "# p = precision_score(labels, pred.cpu(), average='weighted')\n",
        "# print(\"f1 score: \", f1)\n",
        "# print(\"recall: \", r)\n",
        "# print(\"precision: \", p)\n",
        "\n"
      ],
      "execution_count": null,
      "outputs": [
        {
          "output_type": "stream",
          "text": [
            "test: \n",
            "loss:  0.8074933458119631\n",
            "[[0.13790839910507202, 0.7036963105201721, 0.15839530527591705], [0.13676989078521729, 0.1581399142742157, 0.7050902247428894], [0.7305358052253723, 0.13536979258060455, 0.13409434258937836], [0.13791339099407196, 0.7036883234977722, 0.15839827060699463], [0.1349443644285202, 0.15818192064762115, 0.7068737149238586], [0.7374676465988159, 0.12958908081054688, 0.13294324278831482], [0.13981489837169647, 0.15911434590816498, 0.7010707855224609], [0.12863919138908386, 0.5378192067146301, 0.333541601896286], [0.1382986307144165, 0.7014603614807129, 0.1602410078048706], [0.736765444278717, 0.1282004863023758, 0.13503406941890717], [0.7374655604362488, 0.12958340346813202, 0.13295109570026398], [0.13790152966976166, 0.7037364840507507, 0.1583620309829712], [0.14132097363471985, 0.16062182188034058, 0.698057234287262], [0.13538584113121033, 0.15945036709308624, 0.7051637768745422], [0.17571091651916504, 0.18711452186107635, 0.637174665927887], [0.13647104799747467, 0.15598177909851074, 0.7075471878051758], [0.12915101647377014, 0.1919013112783432, 0.6789476275444031], [0.7374677658081055, 0.12958890199661255, 0.13294336199760437], [0.12398650497198105, 0.6135870814323425, 0.26242637634277344], [0.7368462085723877, 0.12833939492702484, 0.13481441140174866], [0.12529698014259338, 0.23227344453334808, 0.642429530620575], [0.13300344347953796, 0.678909182548523, 0.1880873441696167], [0.13845990598201752, 0.7032335996627808, 0.15830643475055695], [0.13377481698989868, 0.1548827439546585, 0.711342453956604], [0.12732674181461334, 0.6438955664634705, 0.228777676820755], [0.1351378709077835, 0.16069090366363525, 0.7041712403297424], [0.13589707016944885, 0.15446992218494415, 0.7096329927444458], [0.6701658368110657, 0.20706531405448914, 0.122768834233284], [0.13752461969852448, 0.6896566152572632, 0.17281870543956757], [0.13018518686294556, 0.1866483986377716, 0.68316650390625], [0.1353224813938141, 0.1596917062997818, 0.7049857974052429], [0.7366428971290588, 0.1280062049627304, 0.13535089790821075], [0.7362675070762634, 0.1293838620185852, 0.13434863090515137], [0.1378706842660904, 0.7036193013191223, 0.1585099697113037], [0.7374677658081055, 0.12958890199661255, 0.13294333219528198], [0.73456209897995, 0.13287286460399628, 0.132564976811409], [0.5576474070549011, 0.2998049557209015, 0.1425476372241974], [0.7362874746322632, 0.1317933052778244, 0.1319192498922348], [0.7367368936538696, 0.12815475463867188, 0.1351083368062973], [0.35888975858688354, 0.1439231038093567, 0.497187077999115], [0.715150773525238, 0.12105624377727509, 0.1637929528951645], [0.3006505072116852, 0.2066708654165268, 0.4926786720752716], [0.7347091436386108, 0.13280311226844788, 0.13248777389526367], [0.13529223203659058, 0.15975616872310638, 0.7049515843391418], [0.13195592164993286, 0.6944347620010376, 0.17360931634902954], [0.13471175730228424, 0.1575162261724472, 0.7077720165252686], [0.12562860548496246, 0.21345943212509155, 0.6609119772911072], [0.1535605937242508, 0.23858606815338135, 0.6078534126281738], [0.1318516880273819, 0.6943880915641785, 0.17376017570495605], [0.14500349760055542, 0.1572987586259842, 0.6976977586746216], [0.140767440199852, 0.701306939125061, 0.15792560577392578], [0.22052477300167084, 0.6373379826545715, 0.14213721454143524], [0.13537779450416565, 0.15942640602588654, 0.7051957845687866], [0.713402509689331, 0.14645303785800934, 0.14014455676078796], [0.13385428488254547, 0.1550481617450714, 0.7110974788665771], [0.13489355146884918, 0.16227073967456818, 0.702835738658905], [0.13541851937770844, 0.15944527089595795, 0.705136239528656], [0.14206266403198242, 0.6224735975265503, 0.2354637235403061], [0.13994671404361725, 0.6924971342086792, 0.16755610704421997], [0.34095847606658936, 0.1223185732960701, 0.5367230176925659], [0.532632052898407, 0.1979658007621765, 0.2694021761417389], [0.13860690593719482, 0.7001755237579346, 0.1612175703048706], [0.13527877628803253, 0.16030088067054749, 0.7044203281402588], [0.1949225515127182, 0.15050314366817474, 0.6545743346214294], [0.13887178897857666, 0.15988461673259735, 0.7012435793876648], [0.13538317382335663, 0.15946629643440247, 0.7051504850387573], [0.7374677658081055, 0.12958890199661255, 0.13294336199760437], [0.12950991094112396, 0.5824317932128906, 0.2880582809448242], [0.14365047216415405, 0.30612123012542725, 0.5502282977104187], [0.13408930599689484, 0.19581462442874908, 0.6700960993766785], [0.1579142063856125, 0.550150454044342, 0.29193538427352905], [0.137874573469162, 0.7037423253059387, 0.1583831012248993], [0.13538561761379242, 0.15944939851760864, 0.7051650285720825], [0.5068078637123108, 0.10645505040884018, 0.3867371082305908], [0.13789917528629303, 0.7037684917449951, 0.15833230316638947], [0.7374677062034607, 0.1295889914035797, 0.1329432874917984], [0.24775968492031097, 0.41405415534973145, 0.3381861746311188], [0.13513515889644623, 0.16119666397571564, 0.7036681175231934], [0.19656752049922943, 0.31189167499542236, 0.4915407598018646], [0.1378975361585617, 0.7037517428398132, 0.15835078060626984], [0.1384357362985611, 0.164558544754982, 0.6970056891441345], [0.139788419008255, 0.7021749019622803, 0.1580367386341095], [0.7373253107070923, 0.12925684452056885, 0.13341794908046722], [0.13927993178367615, 0.6956218481063843, 0.165098175406456], [0.6970430016517639, 0.13683603703975677, 0.16612091660499573], [0.7374586462974548, 0.12961137294769287, 0.13293004035949707], [0.14046581089496613, 0.15967296063899994, 0.6998612284660339], [0.1166391521692276, 0.4018188416957855, 0.48154205083847046], [0.7365435361862183, 0.1316109299659729, 0.13184548914432526], [0.13060344755649567, 0.211782768368721, 0.6576138734817505], [0.7374668121337891, 0.12959128618240356, 0.13294193148612976], [0.7014634013175964, 0.15696287155151367, 0.1415736973285675], [0.7365529537200928, 0.13161663711071014, 0.13183045387268066], [0.7363930940628052, 0.12813067436218262, 0.1354762315750122], [0.13795553147792816, 0.7036972045898438, 0.1583472639322281], [0.12324804067611694, 0.28888213634490967, 0.5878698229789734], [0.13510863482952118, 0.16079847514629364, 0.7040929198265076], [0.14019371569156647, 0.15019237995147705, 0.7096138596534729], [0.13365605473518372, 0.1545049101114273, 0.7118390202522278], [0.13367073237895966, 0.15455473959445953, 0.711774468421936], [0.1353364735841751, 0.1597265750169754, 0.7049369215965271], [0.7374609112739563, 0.12957192957401276, 0.13296721875667572], [0.5335903763771057, 0.3234638273715973, 0.1429457664489746], [0.7369803190231323, 0.12856991589069366, 0.13444972038269043], [0.12954074144363403, 0.4018312394618988, 0.46862804889678955], [0.7048531174659729, 0.14729350805282593, 0.14785334467887878], [0.1352476179599762, 0.15915538370609283, 0.7055970430374146], [0.1369674652814865, 0.6902787089347839, 0.17275385558605194], [0.737464427947998, 0.12959685921669006, 0.13293875753879547], [0.13368678092956543, 0.15459944307804108, 0.7117137908935547], [0.1353788822889328, 0.15943484008312225, 0.7051862478256226], [0.7366541624069214, 0.12802210450172424, 0.1353236883878708], [0.16027919948101044, 0.24403028190135956, 0.5956904888153076], [0.7304902076721191, 0.135402113199234, 0.1341075748205185], [0.14696219563484192, 0.347641259431839, 0.5053965449333191], [0.13538536429405212, 0.15944775938987732, 0.7051669359207153], [0.13689075410366058, 0.16232751309871674, 0.7007817029953003], [0.13790589570999146, 0.7037174105644226, 0.15837667882442474], [0.7366467118263245, 0.1314237117767334, 0.13192956149578094], [0.732529878616333, 0.13411244750022888, 0.13335765898227692], [0.13691596686840057, 0.7012773156166077, 0.16180673241615295], [0.13789673149585724, 0.7037662267684937, 0.15833698213100433], [0.737456738948822, 0.12956179678440094, 0.13298149406909943], [0.13763217628002167, 0.6954602599143982, 0.16690757870674133], [0.1353469043970108, 0.6679050922393799, 0.19674800336360931], [0.13795118033885956, 0.7037257552146912, 0.15832310914993286], [0.12620006501674652, 0.29619473218917847, 0.5776052474975586], [0.13372927904129028, 0.15463946759700775, 0.7116312384605408], [0.13536539673805237, 0.15951849520206451, 0.7051160931587219], [0.13562317192554474, 0.6973622441291809, 0.16701455414295197], [0.1382429599761963, 0.7014752626419067, 0.16028177738189697], [0.7365529537200928, 0.13161663711071014, 0.13183046877384186], [0.1338835507631302, 0.1547495424747467, 0.7113668918609619], [0.13394315540790558, 0.15492407977581024, 0.7111327648162842], [0.7374675869941711, 0.12958937883377075, 0.1329430490732193], [0.13487759232521057, 0.16271525621414185, 0.7024071216583252], [0.7374677062034607, 0.12958906590938568, 0.13294324278831482], [0.7365413308143616, 0.13162022829055786, 0.13183841109275818], [0.13382488489151, 0.15505632758140564, 0.711118757724762], [0.14092271029949188, 0.7011673450469971, 0.15790995955467224], [0.13512453436851501, 0.16229873895645142, 0.7025766372680664], [0.12763924896717072, 0.19911330938339233, 0.6732473969459534], [0.7343273758888245, 0.1314098984003067, 0.13426275551319122], [0.13416695594787598, 0.155962735414505, 0.7098703384399414], [0.736552894115448, 0.13161662220954895, 0.13183048367500305], [0.16016022861003876, 0.17935436964035034, 0.6604854464530945], [0.13964909315109253, 0.15904082357883453, 0.7013100981712341], [0.1319435089826584, 0.6791576743125916, 0.18889875710010529], [0.7367684245109558, 0.1282052844762802, 0.13502630591392517], [0.13928988575935364, 0.7026227712631226, 0.15808726847171783], [0.13155412673950195, 0.3271792531013489, 0.5412666201591492], [0.13527308404445648, 0.15912367403507233, 0.7056031823158264], [0.14295710623264313, 0.7019789814949036, 0.15506388247013092], [0.1344897598028183, 0.16420941054821014, 0.7013007998466492], [0.13859626650810242, 0.6971481442451477, 0.16425563395023346], [0.13490018248558044, 0.1580563634634018, 0.7070434093475342], [0.7374662756919861, 0.12958769500255585, 0.1329459846019745], [0.7362259030342102, 0.13177858293056488, 0.13199551403522491], [0.13789594173431396, 0.7037672996520996, 0.15833677351474762], [0.7374629378318787, 0.1295771449804306, 0.13295990228652954], [0.13946112990379333, 0.16461077332496643, 0.695928156375885], [0.13538166880607605, 0.15944184362888336, 0.7051764130592346], [0.6960554718971252, 0.17685267329216003, 0.12709186971187592], [0.1378939002752304, 0.7037688493728638, 0.1583372801542282], [0.137894868850708, 0.7037720680236816, 0.15833309292793274], [0.13478218019008636, 0.1577669233083725, 0.7074509263038635], [0.14132630825042725, 0.563088059425354, 0.29558566212654114], [0.7065815329551697, 0.16616183519363403, 0.1272566318511963], [0.12889046967029572, 0.5442625284194946, 0.32684698700904846], [0.7346441149711609, 0.125508651137352, 0.13984720408916473], [0.7374034523963928, 0.1294599026441574, 0.13313673436641693], [0.13584494590759277, 0.15966001152992249, 0.7044950127601624], [0.13877235352993011, 0.6989367008209229, 0.16229097545146942], [0.7365492582321167, 0.1316278874874115, 0.13182280957698822], [0.7374629974365234, 0.12959083914756775, 0.13294608891010284], [0.736983060836792, 0.12857745587825775, 0.13443946838378906], [0.13384053111076355, 0.15503671765327454, 0.7111228108406067], [0.13789497315883636, 0.7037714719772339, 0.15833361446857452], [0.7367374300956726, 0.12815476953983307, 0.1351078599691391], [0.13795891404151917, 0.7034581303596497, 0.15858294069766998], [0.13470599055290222, 0.7022134065628052, 0.1630805879831314], [0.13806051015853882, 0.7037275433540344, 0.15821193158626556], [0.1493476778268814, 0.16898690164089203, 0.6816654205322266], [0.13792358338832855, 0.7037486433982849, 0.15832774341106415], [0.13814324140548706, 0.7025437355041504, 0.15931306779384613], [0.27059289813041687, 0.36698055267333984, 0.3624265491962433], [0.13786442577838898, 0.6514151096343994, 0.21072044968605042], [0.12362980842590332, 0.5481365919113159, 0.32823362946510315], [0.13538388907909393, 0.15945762395858765, 0.7051584720611572], [0.7303664088249207, 0.13695372641086578, 0.13267986476421356], [0.7365559339523315, 0.13160428404808044, 0.13183985650539398], [0.736552894115448, 0.13161663711071014, 0.13183048367500305], [0.1278551071882248, 0.5871819257736206, 0.2849630117416382], [0.7364404797554016, 0.12777510285377502, 0.13578443229198456], [0.7374633550643921, 0.12958747148513794, 0.13294915854930878], [0.13722878694534302, 0.15920409560203552, 0.7035671472549438], [0.13538582623004913, 0.1594492644071579, 0.7051648497581482], [0.13272082805633545, 0.6831435561180115, 0.1841355860233307], [0.1352786421775818, 0.1599557101726532, 0.7047656774520874], [0.21432261168956757, 0.16377539932727814, 0.6219019889831543], [0.14012320339679718, 0.5853908061981201, 0.2744859457015991], [0.6933638453483582, 0.12432605773210526, 0.18231011927127838], [0.13522109389305115, 0.1590583622455597, 0.7057205438613892], [0.735427975654602, 0.12644430994987488, 0.13812768459320068], [0.1342269629240036, 0.37633246183395386, 0.4894406199455261], [0.7374677658081055, 0.12958890199661255, 0.13294333219528198], [0.13342610001564026, 0.16563493013381958, 0.7009389996528625], [0.737461507320404, 0.12960414588451385, 0.1329343020915985], [0.7374565601348877, 0.12961632013320923, 0.1329270899295807], [0.13451571762561798, 0.7020657062530518, 0.16341862082481384], [0.1378755271434784, 0.7032332420349121, 0.1588912010192871], [0.7358796000480652, 0.12832535803318024, 0.135794997215271], [0.13716304302215576, 0.1980230063199997, 0.6648139953613281], [0.7374677062034607, 0.1295890212059021, 0.13294324278831482], [0.20544777810573578, 0.1560441106557846, 0.638508141040802], [0.1378965675830841, 0.7037705183029175, 0.15833288431167603], [0.13945132493972778, 0.6381351351737976, 0.2224135398864746], [0.730226993560791, 0.136210098862648, 0.13356289267539978], [0.13362427055835724, 0.6143704652786255, 0.2520052492618561], [0.1344800591468811, 0.7021476626396179, 0.16337227821350098], [0.13436152040958405, 0.15651379525661469, 0.7091246843338013], [0.1390126645565033, 0.6963152289390564, 0.1646721065044403], [0.1312853991985321, 0.6663462519645691, 0.2023683488368988], [0.1380300372838974, 0.7031102180480957, 0.15885980427265167], [0.7374677658081055, 0.12958890199661255, 0.13294336199760437], [0.13896097242832184, 0.6983576416969299, 0.16268137097358704], [0.1353825181722641, 0.159465029835701, 0.7051524519920349], [0.7365241050720215, 0.13163763284683228, 0.13183824717998505], [0.13852502405643463, 0.6996902227401733, 0.16178472340106964], [0.13537897169589996, 0.15944871306419373, 0.7051723003387451], [0.13766708970069885, 0.15866568684577942, 0.703667163848877], [0.135381817817688, 0.15946944057941437, 0.7051488161087036], [0.736596941947937, 0.12802642583847046, 0.13537664711475372], [0.12890984117984772, 0.6538582444190979, 0.2172318547964096], [0.7367755174636841, 0.13115695118904114, 0.13206756114959717], [0.132282093167305, 0.21541178226470947, 0.652306079864502], [0.13793021440505981, 0.7031294703483582, 0.15894033014774323], [0.13533565402030945, 0.15964429080486298, 0.7050200700759888], [0.7365831732749939, 0.12790177762508392, 0.1355150192975998], [0.13794468343257904, 0.7037314176559448, 0.15832386910915375], [0.13217341899871826, 0.6943747401237488, 0.17345185577869415], [0.13531096279621124, 0.15923374891281128, 0.7054552435874939], [0.1586596518754959, 0.1587436944246292, 0.6825966238975525], [0.13401338458061218, 0.15552610158920288, 0.7104604840278625], [0.7365529537200928, 0.13161657750606537, 0.13183048367500305], [0.7374677062034607, 0.129588782787323, 0.1329435259103775], [0.13680042326450348, 0.6876124739646912, 0.17558714747428894], [0.13789550960063934, 0.7037716507911682, 0.15833288431167603], [0.7365594506263733, 0.1316031962633133, 0.13183727860450745], [0.13360536098480225, 0.16829714179039001, 0.6980975270271301], [0.1296013742685318, 0.5594255924224854, 0.31097307801246643], [0.13822515308856964, 0.7017531394958496, 0.16002173721790314], [0.13201656937599182, 0.20116834342479706, 0.6668151021003723], [0.12421528249979019, 0.30398523807525635, 0.5717994570732117], [0.7182886600494385, 0.1210768073797226, 0.16063456237316132], [0.7365207076072693, 0.13163374364376068, 0.13184553384780884], [0.12914283573627472, 0.3432525098323822, 0.5276046395301819], [0.5654489398002625, 0.11773357540369034, 0.3168174922466278], [0.12835821509361267, 0.6760863661766052, 0.19555546343326569], [0.13224966824054718, 0.6882222890853882, 0.17952804267406464], [0.7367214560508728, 0.12812957167625427, 0.13514897227287292], [0.13435201346874237, 0.15631771087646484, 0.7093302607536316], [0.13893099129199982, 0.698502242565155, 0.16256679594516754], [0.7374677658081055, 0.12958890199661255, 0.13294333219528198], [0.13449324667453766, 0.702149510383606, 0.16335728764533997], [0.14240773022174835, 0.17118078470230103, 0.6864114999771118], [0.13789592683315277, 0.7037686109542847, 0.15833543241024017], [0.13880625367164612, 0.7032235264778137, 0.15797019004821777], [0.13571175932884216, 0.7016277313232422, 0.16266046464443207], [0.13418975472450256, 0.38368022441864014, 0.4821300506591797], [0.14879681169986725, 0.15482638776302338, 0.6963768005371094], [0.11646787077188492, 0.3465343117713928, 0.5369978547096252], [0.7216944098472595, 0.1417820155620575, 0.1365235447883606], [0.13210837543010712, 0.6937423348426819, 0.174149289727211], [0.14247381687164307, 0.6958430409431458, 0.16168314218521118], [0.5585309863090515, 0.10718858242034912, 0.33428043127059937], [0.13536469638347626, 0.1593959629535675, 0.7052392959594727], [0.13534261286258698, 0.1597941666841507, 0.7048632502555847], [0.13868801295757294, 0.6984207034111023, 0.16289126873016357], [0.7365105152130127, 0.13123849034309387, 0.13225102424621582], [0.13703814148902893, 0.33845049142837524, 0.5245113372802734], [0.13290190696716309, 0.17169709503650665, 0.6954010128974915], [0.13749217987060547, 0.7007654905319214, 0.16174231469631195], [0.40896567702293396, 0.20516656339168549, 0.38586774468421936], [0.7366125583648682, 0.12795232236385345, 0.13543511927127838], [0.5958456993103027, 0.10340765863656998, 0.3007466495037079], [0.13584987819194794, 0.6629855632781982, 0.20116457343101501], [0.47015294432640076, 0.1873178780078888, 0.34252920746803284], [0.13434076309204102, 0.16374371945858002, 0.7019155621528625], [0.44111883640289307, 0.1688031405210495, 0.39007800817489624], [0.6567039489746094, 0.1797248125076294, 0.16357123851776123], [0.13808706402778625, 0.7036142945289612, 0.15829868614673615], [0.7367644309997559, 0.12819869816303253, 0.13503693044185638], [0.13593366742134094, 0.6938772201538086, 0.17018912732601166], [0.14835239946842194, 0.4599139988422394, 0.3917335867881775], [0.13789837062358856, 0.7037538290023804, 0.15834781527519226], [0.13695773482322693, 0.7034274935722351, 0.15961477160453796], [0.13789547979831696, 0.7037694454193115, 0.1583351343870163], [0.13963629305362701, 0.7023023366928101, 0.1580614149570465], [0.7365531325340271, 0.13161620497703552, 0.13183067739009857], [0.7374670505523682, 0.12958765029907227, 0.1329452246427536], [0.7374486327171326, 0.1296357959508896, 0.13291557133197784], [0.13372725248336792, 0.15469159185886383, 0.7115811109542847], [0.12200328707695007, 0.2910754382610321, 0.586921215057373], [0.13327986001968384, 0.2018992155790329, 0.6648209095001221], [0.7374677062034607, 0.12958884239196777, 0.13294343650341034], [0.13855205476284027, 0.7032430171966553, 0.15820494294166565], [0.7365529537200928, 0.13161660730838776, 0.13183046877384186], [0.7360484600067139, 0.1277434378862381, 0.13620813190937042], [0.13367436826229095, 0.15451353788375854, 0.7118120789527893], [0.36784589290618896, 0.308876633644104, 0.32327747344970703], [0.13625289499759674, 0.2743488550186157, 0.589398205280304], [0.1352802962064743, 0.16028614342212677, 0.7044335603713989], [0.16251686215400696, 0.15880636870861053, 0.6786767840385437], [0.1377382129430771, 0.7033887505531311, 0.15887302160263062], [0.7374677658081055, 0.12958890199661255, 0.13294336199760437], [0.1344003677368164, 0.6997312903404236, 0.16586840152740479], [0.1349078118801117, 0.15807709097862244, 0.7070150971412659], [0.14282453060150146, 0.1566445529460907, 0.7005308866500854], [0.13830295205116272, 0.7017501592636108, 0.15994684398174286], [0.7367041707038879, 0.1281082034111023, 0.13518759608268738], [0.1353791207075119, 0.1594868153333664, 0.7051340937614441], [0.14048828184604645, 0.23941484093666077, 0.6200969219207764], [0.1353853940963745, 0.15944863855838776, 0.7051659226417542], [0.13887758553028107, 0.6987868547439575, 0.16233551502227783], [0.13120615482330322, 0.19196254014968872, 0.6768313050270081], [0.1351235955953598, 0.16222244501113892, 0.7026540040969849], [0.7367871999740601, 0.128236785531044, 0.1349761039018631], [0.1379152536392212, 0.7037582397460938, 0.15832652151584625], [0.13859336078166962, 0.6961145997047424, 0.16529206931591034], [0.13716408610343933, 0.1568528264760971, 0.7059831023216248], [0.1337987780570984, 0.19412076473236084, 0.6720805168151855], [0.13527803122997284, 0.1608404517173767, 0.7038815021514893], [0.13449522852897644, 0.6733391284942627, 0.19216561317443848], [0.12737618386745453, 0.1984894573688507, 0.6741343140602112], [0.7374629378318787, 0.12957704067230225, 0.13296003639698029], [0.1388643980026245, 0.6987340450286865, 0.16240161657333374], [0.13461124897003174, 0.6958696842193604, 0.1695190817117691], [0.15035027265548706, 0.6968514323234558, 0.15279828011989594], [0.7374658584594727, 0.129592627286911, 0.13294142484664917], [0.13372589647769928, 0.15454378724098206, 0.7117303609848022], [0.13447119295597076, 0.70198655128479, 0.1635422557592392], [0.13512565195560455, 0.15979209542274475, 0.7050822377204895], [0.13759249448776245, 0.6364324688911438, 0.22597497701644897], [0.7374670505523682, 0.12959064543247223, 0.1329423040151596], [0.1463773548603058, 0.684360682964325, 0.16926196217536926], [0.13791672885417938, 0.7036571502685547, 0.15842609107494354], [0.7362743020057678, 0.12749214470386505, 0.13623355329036713], [0.14288397133350372, 0.6963284015655518, 0.16078759729862213], [0.13509824872016907, 0.702485203742981, 0.16241659224033356], [0.140967458486557, 0.7011509537696838, 0.15788161754608154], [0.138052299618721, 0.6868509650230408, 0.17509672045707703], [0.15620577335357666, 0.16220544278621674, 0.6815888285636902], [0.12905056774616241, 0.1922532021999359, 0.6786962151527405], [0.13066181540489197, 0.6381754875183105, 0.23116269707679749], [0.13792593777179718, 0.7037443518638611, 0.15832974016666412], [0.13831859827041626, 0.7031165957450867, 0.1585647612810135], [0.29940661787986755, 0.5531822443008423, 0.14741119742393494], [0.136238694190979, 0.15584495663642883, 0.7079163789749146], [0.13366015255451202, 0.15450677275657654, 0.711833119392395], [0.13536232709884644, 0.15940003097057343, 0.705237627029419], [0.7369467616081238, 0.1285105049610138, 0.13454276323318481], [0.1378430277109146, 0.159491166472435, 0.7026658058166504], [0.13167798519134521, 0.19022995233535767, 0.6780920624732971], [0.13479702174663544, 0.16233527660369873, 0.7028676867485046], [0.736552894115448, 0.13161662220954895, 0.13183048367500305], [0.12980389595031738, 0.6408975720405579, 0.22929853200912476], [0.7366505861282349, 0.12801644206047058, 0.13533295691013336], [0.13538582623004913, 0.15944933891296387, 0.7051647901535034], [0.13695552945137024, 0.7007598876953125, 0.16228458285331726], [0.13378186523914337, 0.15486186742782593, 0.7113562822341919], [0.12933599948883057, 0.18777866661548615, 0.6828852891921997], [0.7365530729293823, 0.13161639869213104, 0.13183057308197021], [0.7371479272842407, 0.12888634204864502, 0.13396567106246948], [0.4443311095237732, 0.12729774415493011, 0.4283710718154907], [0.13545025885105133, 0.15981154143810272, 0.704738199710846], [0.13407187163829803, 0.15569323301315308, 0.7102349400520325], [0.17401237785816193, 0.20786884427070618, 0.6181188225746155], [0.1355995237827301, 0.6608266830444336, 0.2035737931728363], [0.138631671667099, 0.7031618356704712, 0.158206507563591], [0.13557587563991547, 0.1601032316684723, 0.7043208479881287], [0.38027170300483704, 0.26234474778175354, 0.3573835492134094], [0.13786420226097107, 0.7036773562431335, 0.15845851600170135], [0.14530916512012482, 0.6887258887290955, 0.16596491634845734], [0.7369198799133301, 0.1284623146057129, 0.13461779057979584], [0.7365516424179077, 0.13161492347717285, 0.13183344900608063], [0.44441473484039307, 0.135745570063591, 0.41983965039253235], [0.14096346497535706, 0.7011299133300781, 0.15790659189224243], [0.13723543286323547, 0.703457236289978, 0.1593073010444641], [0.13419872522354126, 0.16189920902252197, 0.7039020657539368], [0.1398238241672516, 0.6977536678314209, 0.16242249310016632], [0.13806413114070892, 0.7035221457481384, 0.15841375291347504], [0.1334511637687683, 0.6718047857284546, 0.1947440505027771], [0.6054307222366333, 0.12395505607128143, 0.27061426639556885], [0.1389392912387848, 0.6981611251831055, 0.16289956867694855], [0.12568755447864532, 0.5774552226066589, 0.29685723781585693], [0.7353525757789612, 0.13303561508655548, 0.13161180913448334], [0.13365092873573303, 0.15449990332126617, 0.7118491530418396], [0.1366972029209137, 0.7007666230201721, 0.16253618896007538], [0.7307271957397461, 0.13524511456489563, 0.1340276449918747], [0.1391362100839615, 0.6869264245033264, 0.1739373654127121], [0.13381241261959076, 0.1549556404352188, 0.7112319469451904], [0.6884286999702454, 0.1195107102394104, 0.19206063449382782], [0.15405836701393127, 0.1632569432258606, 0.6826846599578857], [0.13789527118206024, 0.7037703990936279, 0.15833435952663422], [0.7374670505523682, 0.12958726286888123, 0.13294567167758942], [0.13546979427337646, 0.15944638848304749, 0.7050837874412537], [0.5507625937461853, 0.3164486587047577, 0.1327887326478958], [0.12882284820079803, 0.18477000296115875, 0.6864071488380432], [0.39106863737106323, 0.4826399087905884, 0.12629149854183197], [0.4881992042064667, 0.1037350669503212, 0.4080657362937927], [0.6016772985458374, 0.12385360896587372, 0.2744690477848053], [0.7170378565788269, 0.12078967690467834, 0.16217254102230072], [0.13778571784496307, 0.7022802233695984, 0.15993402898311615], [0.163201704621315, 0.16869105398654938, 0.6681072115898132], [0.13446606695652008, 0.15962405502796173, 0.7059098482131958], [0.13820117712020874, 0.7023521661758423, 0.15944668650627136], [0.13936534523963928, 0.7025375962257385, 0.158097043633461], [0.13534201681613922, 0.15943267941474915, 0.7052253484725952], [0.1351916491985321, 0.15909890830516815, 0.7057095170021057], [0.1416686624288559, 0.6798079609870911, 0.17852334678173065], [0.21447230875492096, 0.14875710010528564, 0.6367706060409546], [0.1506621390581131, 0.6835511922836304, 0.16578666865825653], [0.736552894115448, 0.13161662220954895, 0.13183048367500305], [0.11848300695419312, 0.2579668164253235, 0.6235501170158386], [0.13532167673110962, 0.15932291746139526, 0.7053553462028503], [0.13617578148841858, 0.16576413810253143, 0.6980600953102112], [0.7324878573417664, 0.13187362253665924, 0.13563846051692963], [0.7365524768829346, 0.13161678612232208, 0.13183066248893738], [0.13799411058425903, 0.70327228307724, 0.1587335765361786], [0.13959498703479767, 0.15922218561172485, 0.7011828422546387], [0.14352601766586304, 0.6998723149299622, 0.15660163760185242], [0.13535507023334503, 0.1707400679588318, 0.6939048171043396], [0.13790100812911987, 0.7037431001663208, 0.15835589170455933], [0.13529333472251892, 0.15923136472702026, 0.7054753303527832], [0.1361706256866455, 0.7030814290046692, 0.16074791550636292], [0.13694468140602112, 0.6977656483650208, 0.16528962552547455], [0.7031137347221375, 0.12156854569911957, 0.17531779408454895], [0.13514699041843414, 0.16102775931358337, 0.7038252353668213], [0.13400594890117645, 0.7008882164955139, 0.16510584950447083], [0.7374668717384338, 0.12959107756614685, 0.1329420655965805], [0.13788752257823944, 0.7037610411643982, 0.15835140645503998], [0.1354866921901703, 0.702726423740387, 0.16178686916828156], [0.13728651404380798, 0.16017277538776398, 0.7025406956672668], [0.1415490061044693, 0.701030969619751, 0.15742002427577972], [0.7368055582046509, 0.1295129954814911, 0.13368144631385803], [0.13636986911296844, 0.15932460129261017, 0.7043054699897766], [0.7365396618843079, 0.1316247582435608, 0.13183555006980896], [0.1380181908607483, 0.7036184668540955, 0.15836334228515625], [0.13436101377010345, 0.16402897238731384, 0.7016100287437439], [0.13765132427215576, 0.7032739520072937, 0.15907476842403412], [0.7374083399772644, 0.1294456571340561, 0.1331460326910019], [0.13859622180461884, 0.7031843066215515, 0.15821951627731323], [0.13544230163097382, 0.15876545011997223, 0.7057921886444092], [0.7365529537200928, 0.13161666691303253, 0.13183045387268066], [0.12026802450418472, 0.2529173493385315, 0.626814603805542], [0.736552894115448, 0.13161659240722656, 0.13183054327964783], [0.404704749584198, 0.4816516041755676, 0.11364363133907318], [0.7374668121337891, 0.12958939373493195, 0.1329437792301178], [0.14326095581054688, 0.7003757357597351, 0.1563633531332016], [0.737162172794342, 0.12891440093517303, 0.13392341136932373], [0.1353842169046402, 0.1594567596912384, 0.7051590085029602], [0.13263529539108276, 0.6800115704536438, 0.18735305964946747], [0.13789603114128113, 0.7037662267684937, 0.15833771228790283], [0.13438116014003754, 0.6910475492477417, 0.17457136511802673], [0.7276804447174072, 0.13228759169578552, 0.14003188908100128], [0.13493022322654724, 0.15814368426799774, 0.7069260478019714], [0.13423892855644226, 0.1561487764120102, 0.7096123695373535], [0.13537348806858063, 0.15950609743595123, 0.7051203846931458], [0.13538594543933868, 0.15944978594779968, 0.7051642537117004], [0.7365266680717468, 0.12838134169578552, 0.13509202003479004], [0.13809312880039215, 0.7031989693641663, 0.15870791673660278], [0.7374675273895264, 0.12958821654319763, 0.13294431567192078], [0.1435135006904602, 0.16267724335193634, 0.6938092708587646], [0.1350107342004776, 0.16150622069835663, 0.7034830451011658], [0.13873261213302612, 0.699163556098938, 0.16210384666919708], [0.13808879256248474, 0.7019123435020447, 0.15999886393547058], [0.13920320570468903, 0.6152309775352478, 0.24556580185890198], [0.13810226321220398, 0.7023903727531433, 0.1595074087381363], [0.1378316581249237, 0.703751266002655, 0.15841709077358246], [0.13815614581108093, 0.7034286856651306, 0.15841518342494965], [0.13643856346607208, 0.6159393191337585, 0.24762213230133057], [0.1384766399860382, 0.7029338479042053, 0.15858951210975647], [0.1353677660226822, 0.15939714014530182, 0.7052351236343384], [0.730186939239502, 0.13568410277366638, 0.13412898778915405], [0.7365235090255737, 0.12789973616600037, 0.13557679951190948], [0.13477854430675507, 0.15770606696605682, 0.7075153589248657], [0.736558198928833, 0.13160407543182373, 0.13183780014514923], [0.7365538477897644, 0.13161450624465942, 0.13183161616325378], [0.7308081984519958, 0.12481901049613953, 0.14437274634838104], [0.736600935459137, 0.12795782089233398, 0.13544127345085144], [0.7374613285064697, 0.1296042799949646, 0.1329343616962433], [0.124428391456604, 0.2443084567785263, 0.6312631368637085], [0.7374184131622314, 0.12957295775413513, 0.13300855457782745], [0.7374677658081055, 0.12958893179893494, 0.13294333219528198], [0.7369243502616882, 0.13083922863006592, 0.13223648071289062], [0.736552894115448, 0.13161662220954895, 0.13183048367500305], [0.13793563842773438, 0.7035916447639465, 0.1584727019071579], [0.14033547043800354, 0.6017974615097046, 0.25786706805229187], [0.7374675273895264, 0.1295895129442215, 0.13294298946857452], [0.13789725303649902, 0.7037633061408997, 0.1583394855260849], [0.13407748937606812, 0.15571530163288116, 0.7102071642875671], [0.737458348274231, 0.12959305942058563, 0.13294850289821625], [0.13381916284561157, 0.16749103367328644, 0.6986897587776184], [0.13375405967235565, 0.15479180216789246, 0.7114541530609131], [0.13735194504261017, 0.206980362534523, 0.6556677222251892], [0.1540774405002594, 0.1517064869403839, 0.6942160725593567], [0.7366066575050354, 0.12805387377738953, 0.13533948361873627], [0.13468630611896515, 0.7022693157196045, 0.16304434835910797], [0.7374464869499207, 0.12953688204288483, 0.13301660120487213], [0.135332390666008, 0.15982592105865479, 0.7048417329788208], [0.737467348575592, 0.1295897513628006, 0.13294285535812378], [0.13789679110050201, 0.7037705183029175, 0.15833266079425812], [0.14285962283611298, 0.15790560841560364, 0.6992347836494446], [0.13884040713310242, 0.6989720463752747, 0.1621875762939453], [0.7374395132064819, 0.1295199990272522, 0.13304051756858826], [0.13046039640903473, 0.5190894603729248, 0.3504501283168793], [0.7313949465751648, 0.12404121458530426, 0.14456382393836975], [0.13978305459022522, 0.1599481701850891, 0.7002688050270081], [0.14051687717437744, 0.7015293836593628, 0.1579536646604538], [0.1347309947013855, 0.7023037672042847, 0.16296520829200745], [0.7374541163444519, 0.12962223589420319, 0.13292360305786133], [0.12866871058940887, 0.39281678199768066, 0.4785144329071045], [0.7374674081802368, 0.12958817183971405, 0.13294434547424316], [0.3150199353694916, 0.5575700998306274, 0.1274099051952362], [0.13790301978588104, 0.7037382125854492, 0.15835875272750854], [0.7374525666236877, 0.12962612509727478, 0.1329212784767151], [0.7374638319015503, 0.1295793503522873, 0.13295677304267883], [0.13530279695987701, 0.6908669471740723, 0.17383025586605072], [0.13534554839134216, 0.1596628576517105, 0.7049915790557861], [0.14603291451931, 0.16194097697734833, 0.6920261383056641], [0.14033737778663635, 0.17542332410812378, 0.6842392683029175], [0.13530868291854858, 0.16007202863693237, 0.704619288444519], [0.7372675538063049, 0.12967626750469208, 0.1330561339855194], [0.1353807896375656, 0.15945006906986237, 0.705169141292572], [0.7374677062034607, 0.12958912551403046, 0.13294321298599243], [0.7372395396232605, 0.1291472613811493, 0.1336132436990738], [0.736552894115448, 0.13161662220954895, 0.13183048367500305], [0.13508735597133636, 0.16077862679958344, 0.7041340470314026], [0.135353222489357, 0.15938089787960052, 0.7052658796310425], [0.1259780079126358, 0.2555669844150543, 0.6184550523757935], [0.7367526292800903, 0.12818725407123566, 0.1350601464509964], [0.1376461386680603, 0.7036619186401367, 0.1586919128894806], [0.1379278004169464, 0.7037467360496521, 0.15832547843456268], [0.7365656495094299, 0.13159067928791046, 0.13184359669685364], [0.13537763059139252, 0.15948854386806488, 0.7051337957382202], [0.6089373826980591, 0.1054883673787117, 0.2855742275714874], [0.13889984786510468, 0.6985962986946106, 0.16250385344028473], [0.13526122272014618, 0.5242494344711304, 0.34048932790756226], [0.13843461871147156, 0.701027512550354, 0.16053785383701324], [0.1347304880619049, 0.15757323801517487, 0.707696259021759], [0.13795386254787445, 0.7033356428146362, 0.15871046483516693], [0.7363101243972778, 0.12745758891105652, 0.1362323760986328], [0.7365521788597107, 0.13161711394786835, 0.13183076679706573], [0.7365471720695496, 0.1316201388835907, 0.13183265924453735], [0.165058434009552, 0.6692171692848206, 0.16572439670562744], [0.14438514411449432, 0.6984744668006897, 0.15714038908481598], [0.13539636135101318, 0.15946786105632782, 0.7051358222961426], [0.7374671697616577, 0.12958909571170807, 0.13294373452663422], [0.13365766406059265, 0.15450111031532288, 0.7118412256240845], [0.13537783920764923, 0.15949150919914246, 0.7051305770874023], [0.13445253670215607, 0.15677614510059357, 0.708771288394928], [0.13377618789672852, 0.15486475825309753, 0.7113590836524963], [0.13369512557983398, 0.15461194515228271, 0.7116928696632385], [0.7365403175354004, 0.13162070512771606, 0.13183897733688354], [0.7374676465988159, 0.12958881258964539, 0.1329435259103775], [0.7276971936225891, 0.12986654043197632, 0.14243625104427338], [0.13903135061264038, 0.6989734768867493, 0.16199515759944916], [0.125057652592659, 0.2530539035797119, 0.6218885183334351], [0.13387809693813324, 0.16702109575271606, 0.6991007924079895], [0.13945026695728302, 0.1538209468126297, 0.7067288160324097], [0.13479836285114288, 0.1632099598646164, 0.7019916772842407], [0.1353890746831894, 0.15944887697696686, 0.705161988735199], [0.13410654664039612, 0.15475454926490784, 0.7111388444900513], [0.13190102577209473, 0.6900624632835388, 0.17803654074668884], [0.7364980578422546, 0.12773004174232483, 0.13577193021774292], [0.7366675734519958, 0.12804315984249115, 0.135289266705513], [0.13708624243736267, 0.7034140825271606, 0.15949968993663788], [0.13733609020709991, 0.6993213295936584, 0.1633426547050476], [0.1624697595834732, 0.15916289389133453, 0.6783673763275146], [0.13790369033813477, 0.7037248015403748, 0.15837155282497406], [0.1430542767047882, 0.16630978882312775, 0.6906359791755676], [0.7374645471572876, 0.1295810341835022, 0.13295449316501617], [0.13365015387535095, 0.15449805557727814, 0.7118517756462097], [0.7374669909477234, 0.12959083914756775, 0.13294219970703125], [0.13357581198215485, 0.15539959073066711, 0.7110246419906616], [0.13263210654258728, 0.5306312441825867, 0.33673667907714844], [0.40107059478759766, 0.1215977817773819, 0.4773316979408264], [0.1352296769618988, 0.15892167389392853, 0.7058486938476562], [0.1356227993965149, 0.15935002267360687, 0.7050272226333618], [0.13529665768146515, 0.1597757786512375, 0.7049275040626526], [0.6866893768310547, 0.12191731482744217, 0.19139324128627777], [0.7371275424957275, 0.130390003323555, 0.13248252868652344], [0.7374677658081055, 0.12958887219429016, 0.13294340670108795], [0.13538050651550293, 0.15947279334068298, 0.7051466703414917], [0.15814454853534698, 0.14491452276706696, 0.6969409584999084], [0.1399674117565155, 0.15988963842391968, 0.7001429796218872], [0.13513509929180145, 0.1555434614419937, 0.7093213796615601], [0.1353813260793686, 0.15947112441062927, 0.7051475644111633], [0.7368864417076111, 0.13091668486595154, 0.13219685852527618], [0.13893595337867737, 0.17104630172252655, 0.6900177597999573], [0.1353675127029419, 0.15985329449176788, 0.7047791481018066], [0.7365610003471375, 0.13158689439296722, 0.13185210525989532], [0.2165413647890091, 0.13847576081752777, 0.6449828743934631], [0.1405792087316513, 0.701448917388916, 0.15797188878059387], [0.7366960644721985, 0.12808747589588165, 0.13521641492843628], [0.13942913711071014, 0.16115136444568634, 0.6994195580482483], [0.7330262660980225, 0.1285310983657837, 0.13844263553619385], [0.1256835013628006, 0.5891737937927246, 0.285142719745636], [0.13537254929542542, 0.1594105064868927, 0.7052168846130371], [0.736552357673645, 0.13161678612232208, 0.1318308413028717], [0.16103878617286682, 0.5942068696022034, 0.24475431442260742], [0.135322704911232, 0.15976306796073914, 0.7049142718315125], [0.737467348575592, 0.1295899599790573, 0.13294272124767303], [0.7374671697616577, 0.1295887976884842, 0.13294407725334167], [0.7372472882270813, 0.1290901005268097, 0.1336626410484314], [0.14795762300491333, 0.20690365135669708, 0.6451387405395508], [0.7374614477157593, 0.12957368791103363, 0.13296478986740112], [0.7374677658081055, 0.12958890199661255, 0.13294336199760437], [0.7365525960922241, 0.13161680102348328, 0.1318305879831314], [0.1353733092546463, 0.1595299392938614, 0.7050967812538147], [0.134624183177948, 0.1572650820016861, 0.7081106901168823], [0.1373484581708908, 0.7025088667869568, 0.1601427048444748], [0.13500598073005676, 0.16259253025054932, 0.7024015188217163], [0.15424446761608124, 0.22994829714298248, 0.615807294845581], [0.13798829913139343, 0.16006289422512054, 0.7019488215446472], [0.7374668121337891, 0.1295883059501648, 0.13294483721256256], [0.7374677062034607, 0.12958893179893494, 0.13294339179992676], [0.17625665664672852, 0.17107892036437988, 0.6526644229888916], [0.7361100316047668, 0.13192981481552124, 0.13196013867855072], [0.14050494134426117, 0.7015416026115417, 0.15795350074768066], [0.13443520665168762, 0.6946709156036377, 0.1708938628435135], [0.12849532067775726, 0.2019069790840149, 0.6695976853370667], [0.14142346382141113, 0.16405488550662994, 0.6945216655731201], [0.6989694833755493, 0.1756502240896225, 0.12538033723831177], [0.1352643370628357, 0.15989692509174347, 0.7048388123512268], [0.13467396795749664, 0.15683823823928833, 0.7084878087043762], [0.13235804438591003, 0.6641315221786499, 0.20351041853427887], [0.13354595005512238, 0.17045915126800537, 0.6959948539733887], [0.13792335987091064, 0.7037451863288879, 0.15833145380020142], [0.736733078956604, 0.13124598562717438, 0.1320209801197052], [0.1352149248123169, 0.16027334332466125, 0.7045117020606995], [0.13629329204559326, 0.15916429460048676, 0.7045423984527588], [0.7362097501754761, 0.12989841401576996, 0.13389183580875397], [0.13517773151397705, 0.16108350455760956, 0.7037387490272522], [0.13802939653396606, 0.7036508917808533, 0.15831971168518066], [0.13816848397254944, 0.7022473216056824, 0.159584179520607], [0.1389988511800766, 0.698356032371521, 0.16264507174491882], [0.13276785612106323, 0.6783676743507385, 0.18886449933052063], [0.7374002933502197, 0.12973859906196594, 0.13286112248897552], [0.1318332850933075, 0.1736675500869751, 0.6944990754127502], [0.1378956437110901, 0.7037641406059265, 0.15834027528762817], [0.13510286808013916, 0.16087210178375244, 0.7040249705314636], [0.13450443744659424, 0.7021154165267944, 0.16338011622428894], [0.13641369342803955, 0.6501305103302002, 0.21345582604408264], [0.13420505821704865, 0.6271643042564392, 0.23863062262535095], [0.13538585603237152, 0.15945018827915192, 0.7051639556884766], [0.13388198614120483, 0.1551549881696701, 0.7109630107879639], [0.13506324589252472, 0.15852272510528564, 0.7064140439033508], [0.1382121592760086, 0.5003013610839844, 0.3614865243434906], [0.138948455452919, 0.6984323859214783, 0.16261917352676392], [0.737464189529419, 0.12958018481731415, 0.1329556107521057], [0.13077771663665771, 0.6274901628494263, 0.24173210561275482], [0.13770748674869537, 0.702825665473938, 0.15946686267852783], [0.7365429997444153, 0.13162271678447723, 0.1318342685699463], [0.5746552348136902, 0.10276664793491364, 0.3225780725479126], [0.736552894115448, 0.13161659240722656, 0.13183048367500305], [0.15007242560386658, 0.6939195990562439, 0.15600793063640594], [0.7303898334503174, 0.13063301146030426, 0.13897712528705597], [0.13787823915481567, 0.7037556171417236, 0.15836618840694427], [0.142778679728508, 0.3389407694339752, 0.518280565738678], [0.7365526556968689, 0.1316167265176773, 0.1318306028842926], [0.13580389320850372, 0.5428598523139954, 0.3213362395763397], [0.13416139781475067, 0.16541466116905212, 0.7004239559173584], [0.1364223212003708, 0.5780439376831055, 0.2855337858200073], [0.736565351486206, 0.13159146904945374, 0.13184323906898499], [0.13506990671157837, 0.15856724977493286, 0.7063629031181335], [0.1359833925962448, 0.6899598836898804, 0.174056738615036], [0.72516268491745, 0.1322477012872696, 0.14258955419063568], [0.1375482827425003, 0.15646511316299438, 0.7059865593910217], [0.1575748473405838, 0.559982419013977, 0.28244268894195557], [0.7374442219734192, 0.1296459138393402, 0.13290981948375702], [0.13133206963539124, 0.23994749784469604, 0.6287204027175903], [0.7374280691146851, 0.12949256598949432, 0.13307930529117584], [0.7374677658081055, 0.12958890199661255, 0.13294336199760437], [0.13340350985527039, 0.2086677849292755, 0.6579287052154541], [0.730212926864624, 0.1356097161769867, 0.1341773122549057], [0.7374677062034607, 0.12958893179893494, 0.13294336199760437], [0.13789506256580353, 0.7037719488143921, 0.15833304822444916], [0.13451053202152252, 0.7021192908287048, 0.16337019205093384], [0.1346694380044937, 0.16405397653579712, 0.7012766003608704], [0.7365531921386719, 0.13161596655845642, 0.13183078169822693], [0.13525554537773132, 0.15907438099384308, 0.7056699991226196], [0.13536784052848816, 0.18777772784233093, 0.6768544316291809], [0.737218976020813, 0.13010501861572266, 0.1326761245727539], [0.13923102617263794, 0.7027697563171387, 0.1579992175102234], [0.7261978983879089, 0.1387449949979782, 0.13505712151527405], [0.1337503045797348, 0.15478107333183289, 0.7114686369895935], [0.7368687391281128, 0.1309584230184555, 0.1321728229522705], [0.7366111278533936, 0.13149800896644592, 0.13189083337783813], [0.1372411847114563, 0.7023692727088928, 0.16038960218429565], [0.7364906668663025, 0.12776102125644684, 0.13574829697608948], [0.12968966364860535, 0.18863968551158905, 0.6816706657409668], [0.14335207641124725, 0.15748430788516998, 0.699163556098938], [0.1288183480501175, 0.23179969191551208, 0.6393819451332092], [0.13667942583560944, 0.7033113837242126, 0.16000916063785553], [0.13274915516376495, 0.31248506903648376, 0.5547657608985901], [0.13612408936023712, 0.38431453704833984, 0.4795614182949066], [0.16055652499198914, 0.16309256851673126, 0.6763508915901184], [0.1324526071548462, 0.6874284148216248, 0.18011900782585144], [0.13468241691589355, 0.15743856132030487, 0.7078791260719299], [0.5893211960792542, 0.10262534767389297, 0.3080533742904663], [0.13796308636665344, 0.5752018690109253, 0.28683504462242126], [0.13597121834754944, 0.7029702067375183, 0.16105861961841583], [0.13897950947284698, 0.6980557441711426, 0.16296471655368805], [0.7351839542388916, 0.12827472388744354, 0.13654135167598724], [0.7374677658081055, 0.1295889914035797, 0.13294333219528198], [0.13861960172653198, 0.698103129863739, 0.16327732801437378], [0.13530254364013672, 0.15920951962471008, 0.7054880261421204], [0.15629202127456665, 0.159536674618721, 0.6841713786125183], [0.13878875970840454, 0.15898068249225616, 0.7022305727005005], [0.7365719079971313, 0.13157813251018524, 0.131850004196167], [0.13449105620384216, 0.1568845510482788, 0.7086243629455566], [0.13519904017448425, 0.16035693883895874, 0.7044439911842346], [0.13794085383415222, 0.7035424113273621, 0.15851671993732452], [0.7356476187705994, 0.12650878727436066, 0.1378435641527176], [0.13686451315879822, 0.154490664601326, 0.7086448073387146], [0.13838939368724823, 0.16326138377189636, 0.6983491778373718], [0.13444708287715912, 0.16371585428714752, 0.7018370032310486], [0.136491060256958, 0.7008824348449707, 0.1626264750957489], [0.13670212030410767, 0.695414125919342, 0.16788381338119507], [0.13526169955730438, 0.16006027162075043, 0.7046780586242676], [0.7353982329368591, 0.12773406505584717, 0.1368676871061325], [0.7367486357688904, 0.13097617030143738, 0.1322752982378006], [0.12759007513523102, 0.20978115499019623, 0.6626287698745728], [0.18641741573810577, 0.4454701244831085, 0.3681124746799469], [0.14239829778671265, 0.1569264680147171, 0.7006752490997314], [0.13532978296279907, 0.15964572131633759, 0.7050245404243469], [0.736559271812439, 0.1316034346818924, 0.13183724880218506], [0.1344476044178009, 0.6763882637023926, 0.18916410207748413], [0.13467390835285187, 0.1642463505268097, 0.7010797262191772], [0.13839952647686005, 0.700263500213623, 0.1613370031118393], [0.1388879269361496, 0.698813259601593, 0.16229884326457977], [0.1330704241991043, 0.6981692314147949, 0.16876032948493958], [0.13532963395118713, 0.15968820452690125, 0.7049821615219116], [0.13895907998085022, 0.6980801224708557, 0.16296087205410004], [0.13522614538669586, 0.159016951918602, 0.7057569622993469], [0.7374663949012756, 0.1295921355485916, 0.13294146955013275], [0.13428360223770142, 0.16443507373332977, 0.7012812495231628], [0.6018422842025757, 0.12243647128343582, 0.2757212221622467], [0.7374677658081055, 0.12958890199661255, 0.13294336199760437], [0.7365176677703857, 0.1316382735967636, 0.13184402883052826], [0.11723793298006058, 0.2777997851371765, 0.6049622893333435], [0.13879846036434174, 0.6987841129302979, 0.16241739690303802], [0.1379125416278839, 0.7037035226821899, 0.15838395059108734], [0.135287806391716, 0.15996147692203522, 0.7047507166862488], [0.13500909507274628, 0.1612921506166458, 0.7036987543106079], [0.1388143002986908, 0.698067307472229, 0.16311834752559662], [0.12733015418052673, 0.6447914242744446, 0.2278784215450287], [0.13170824944972992, 0.19490642845630646, 0.6733853220939636], [0.1328655481338501, 0.680261492729187, 0.1868729144334793], [0.1378956288099289, 0.7037713527679443, 0.15833301842212677], [0.737467348575592, 0.1295887976884842, 0.132943794131279], [0.14202676713466644, 0.16498589515686035, 0.6929873824119568], [0.13674303889274597, 0.7015135288238525, 0.16174346208572388], [0.5458923578262329, 0.10308947414159775, 0.35101819038391113]]\n",
            "tensor([[1.1479, 2.0212, 1.1716],\n",
            "        [1.1466, 1.1713, 2.0240],\n",
            "        [2.0762, 1.1450, 1.1435],\n",
            "        ...,\n",
            "        [1.1526, 1.1794, 1.9997],\n",
            "        [1.1465, 2.0168, 1.1756],\n",
            "        [1.7261, 1.1086, 1.4205]])\n",
            "[1, 2, 0, 1, 2, 0, 2, 2, 1, 0, 0, 1, 2, 2, 2, 2, 2, 0, 2, 0, 1, 1, 1, 2, 1, 2, 2, 0, 1, 2, 2, 0, 0, 1, 0, 1, 1, 0, 0, 0, 0, 2, 2, 2, 1, 2, 1, 1, 1, 2, 1, 1, 2, 0, 2, 2, 2, 1, 1, 2, 2, 1, 2, 2, 2, 2, 0, 1, 1, 2, 1, 1, 2, 0, 1, 0, 2, 2, 2, 1, 2, 1, 0, 1, 2, 0, 2, 1, 0, 1, 0, 0, 0, 0, 1, 1, 2, 2, 2, 2, 2, 0, 0, 0, 2, 0, 2, 1, 0, 2, 2, 0, 2, 0, 1, 2, 2, 1, 0, 0, 1, 1, 0, 1, 1, 1, 1, 2, 2, 1, 1, 0, 2, 2, 0, 2, 0, 0, 2, 1, 2, 0, 0, 2, 0, 0, 2, 1, 0, 1, 1, 2, 1, 2, 1, 2, 0, 0, 1, 0, 2, 2, 1, 1, 1, 2, 1, 0, 1, 0, 0, 2, 1, 0, 0, 0, 2, 1, 0, 1, 1, 1, 2, 1, 1, 1, 2, 2, 2, 1, 0, 0, 1, 0, 0, 2, 2, 1, 2, 0, 1, 0, 2, 0, 2, 0, 2, 0, 0, 1, 1, 0, 2, 0, 0, 1, 1, 0, 1, 1, 2, 1, 1, 1, 0, 1, 2, 0, 1, 2, 2, 2, 0, 1, 0, 1, 1, 2, 0, 1, 1, 2, 2, 2, 0, 0, 1, 1, 0, 2, 1, 1, 2, 2, 0, 0, 1, 2, 1, 1, 0, 2, 1, 0, 1, 2, 1, 1, 1, 2, 2, 1, 2, 1, 1, 0, 2, 2, 1, 0, 1, 2, 1, 2, 0, 0, 1, 2, 2, 0, 0, 1, 0, 1, 2, 1, 1, 1, 1, 0, 0, 0, 2, 1, 2, 0, 1, 0, 0, 2, 2, 1, 2, 2, 1, 0, 1, 2, 2, 1, 0, 2, 2, 2, 1, 1, 2, 0, 1, 1, 2, 2, 2, 2, 2, 0, 1, 1, 0, 0, 2, 1, 2, 1, 0, 1, 1, 0, 1, 1, 1, 1, 2, 2, 1, 1, 1, 1, 2, 2, 2, 0, 2, 2, 2, 0, 1, 0, 2, 1, 2, 2, 0, 0, 2, 2, 2, 2, 1, 1, 0, 2, 1, 1, 0, 0, 0, 1, 1, 2, 1, 1, 1, 0, 1, 1, 0, 2, 1, 0, 1, 2, 0, 2, 1, 0, 2, 0, 2, 0, 2, 0, 0, 1, 2, 2, 1, 1, 1, 2, 1, 2, 1, 0, 2, 2, 2, 0, 0, 1, 2, 1, 2, 1, 2, 1, 1, 0, 2, 1, 0, 1, 1, 2, 1, 0, 2, 0, 1, 2, 1, 0, 1, 2, 0, 2, 0, 1, 0, 1, 0, 2, 1, 1, 1, 0, 2, 2, 2, 2, 0, 1, 0, 2, 2, 1, 1, 1, 1, 1, 1, 1, 1, 2, 0, 0, 2, 0, 0, 0, 0, 0, 1, 0, 0, 0, 0, 1, 1, 0, 1, 2, 0, 2, 2, 2, 2, 0, 1, 0, 2, 0, 1, 2, 1, 0, 1, 0, 2, 1, 1, 0, 2, 0, 1, 1, 0, 0, 1, 2, 2, 2, 2, 2, 2, 0, 0, 0, 2, 2, 2, 0, 1, 1, 0, 2, 0, 1, 1, 1, 2, 1, 0, 0, 0, 1, 1, 2, 0, 2, 2, 2, 2, 2, 0, 0, 0, 1, 1, 2, 2, 2, 2, 2, 1, 0, 0, 1, 1, 2, 1, 2, 0, 2, 0, 2, 1, 2, 2, 2, 2, 0, 0, 0, 2, 2, 2, 2, 2, 0, 2, 2, 0, 0, 1, 0, 2, 0, 1, 2, 0, 1, 2, 0, 0, 0, 2, 0, 0, 0, 2, 2, 1, 2, 1, 2, 0, 0, 2, 0, 1, 1, 1, 2, 0, 2, 2, 1, 2, 1, 0, 2, 2, 0, 2, 1, 1, 1, 1, 0, 2, 1, 2, 1, 2, 2, 2, 2, 2, 2, 1, 0, 1, 1, 0, 0, 0, 1, 0, 1, 2, 0, 1, 1, 1, 0, 2, 1, 0, 2, 1, 0, 1, 0, 0, 1, 0, 0, 1, 1, 2, 0, 2, 1, 0, 1, 0, 2, 0, 0, 1, 0, 2, 2, 1, 1, 1, 1, 1, 1, 2, 0, 1, 1, 1, 0, 0, 1, 2, 2, 2, 0, 2, 2, 1, 0, 2, 2, 2, 1, 1, 2, 0, 0, 2, 1, 2, 2, 0, 1, 2, 1, 1, 1, 2, 1, 2, 0, 2, 0, 0, 0, 1, 1, 1, 2, 2, 1, 1, 2, 1, 1, 0, 2, 1, 0]\n",
            "f1 score:  0.9138458176382278\n",
            "recall:  0.9138381201044387\n",
            "precision:  0.915780649945825\n",
            "accuracy:  0.9138381201044387\n"
          ],
          "name": "stdout"
        }
      ]
    },
    {
      "cell_type": "markdown",
      "metadata": {
        "id": "9pdXC4BKQLfg"
      },
      "source": [
        "# Improving Models\n",
        "> [Link](https://colab.research.google.com/drive/1TIGtwZBQbuD5zhGne2xFA-ezkkUOu0ln?usp=sharing)"
      ]
    }
  ]
}