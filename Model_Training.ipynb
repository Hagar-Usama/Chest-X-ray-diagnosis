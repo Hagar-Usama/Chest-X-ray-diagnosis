{
  "nbformat": 4,
  "nbformat_minor": 0,
  "metadata": {
    "colab": {
      "name": "Model_Training.ipynb",
      "provenance": [],
      "collapsed_sections": [
        "bRg2QtOazY4v",
        "DMDeY-S_2ZYN",
        "S8X5XiEQ2key",
        "R5JSggyYQcw-",
        "4fD1b2YMhgwV",
        "Nsw4tzqpOyP_",
        "jXM-aEH6yxUH",
        "0AQPeNuvYpTo",
        "Rn-a86MFnwKN",
        "x_C5whR5xLBQ",
        "ewwd6i7lodBs",
        "nfnCRDBH-70E",
        "gmUWkUYbcKqO",
        "1mhuBwnvh6RZ"
      ],
      "toc_visible": true,
      "include_colab_link": true
    },
    "kernelspec": {
      "name": "python3",
      "display_name": "Python 3"
    },
    "accelerator": "GPU",
    "widgets": {
      "application/vnd.jupyter.widget-state+json": {
        "5901f0453d254198862ad962a0144d29": {
          "model_module": "@jupyter-widgets/controls",
          "model_name": "HBoxModel",
          "state": {
            "_view_name": "HBoxView",
            "_dom_classes": [],
            "_model_name": "HBoxModel",
            "_view_module": "@jupyter-widgets/controls",
            "_model_module_version": "1.5.0",
            "_view_count": null,
            "_view_module_version": "1.5.0",
            "box_style": "",
            "layout": "IPY_MODEL_70cd8f5a5d374fb5a60066c9a736c683",
            "_model_module": "@jupyter-widgets/controls",
            "children": [
              "IPY_MODEL_558e9dca7af240e1a70185f0217b1a46",
              "IPY_MODEL_1ca7ac44d6004a94984d29bd76b3289a"
            ]
          }
        },
        "70cd8f5a5d374fb5a60066c9a736c683": {
          "model_module": "@jupyter-widgets/base",
          "model_name": "LayoutModel",
          "state": {
            "_view_name": "LayoutView",
            "grid_template_rows": null,
            "right": null,
            "justify_content": null,
            "_view_module": "@jupyter-widgets/base",
            "overflow": null,
            "_model_module_version": "1.2.0",
            "_view_count": null,
            "flex_flow": null,
            "width": null,
            "min_width": null,
            "border": null,
            "align_items": null,
            "bottom": null,
            "_model_module": "@jupyter-widgets/base",
            "top": null,
            "grid_column": null,
            "overflow_y": null,
            "overflow_x": null,
            "grid_auto_flow": null,
            "grid_area": null,
            "grid_template_columns": null,
            "flex": null,
            "_model_name": "LayoutModel",
            "justify_items": null,
            "grid_row": null,
            "max_height": null,
            "align_content": null,
            "visibility": null,
            "align_self": null,
            "height": null,
            "min_height": null,
            "padding": null,
            "grid_auto_rows": null,
            "grid_gap": null,
            "max_width": null,
            "order": null,
            "_view_module_version": "1.2.0",
            "grid_template_areas": null,
            "object_position": null,
            "object_fit": null,
            "grid_auto_columns": null,
            "margin": null,
            "display": null,
            "left": null
          }
        },
        "558e9dca7af240e1a70185f0217b1a46": {
          "model_module": "@jupyter-widgets/controls",
          "model_name": "FloatProgressModel",
          "state": {
            "_view_name": "ProgressView",
            "style": "IPY_MODEL_a629c379c3844f588e4ed29e4cf75e7b",
            "_dom_classes": [],
            "description": "100%",
            "_model_name": "FloatProgressModel",
            "bar_style": "success",
            "max": 46827520,
            "_view_module": "@jupyter-widgets/controls",
            "_model_module_version": "1.5.0",
            "value": 46827520,
            "_view_count": null,
            "_view_module_version": "1.5.0",
            "orientation": "horizontal",
            "min": 0,
            "description_tooltip": null,
            "_model_module": "@jupyter-widgets/controls",
            "layout": "IPY_MODEL_2952f273bf6544bc876539b7fc5e4697"
          }
        },
        "1ca7ac44d6004a94984d29bd76b3289a": {
          "model_module": "@jupyter-widgets/controls",
          "model_name": "HTMLModel",
          "state": {
            "_view_name": "HTMLView",
            "style": "IPY_MODEL_54eb5a9a1ff64600a923f704cc183a7d",
            "_dom_classes": [],
            "description": "",
            "_model_name": "HTMLModel",
            "placeholder": "​",
            "_view_module": "@jupyter-widgets/controls",
            "_model_module_version": "1.5.0",
            "value": " 44.7M/44.7M [00:00&lt;00:00, 118MB/s]",
            "_view_count": null,
            "_view_module_version": "1.5.0",
            "description_tooltip": null,
            "_model_module": "@jupyter-widgets/controls",
            "layout": "IPY_MODEL_56123685e1f742f9bd752c7288e1ecc2"
          }
        },
        "a629c379c3844f588e4ed29e4cf75e7b": {
          "model_module": "@jupyter-widgets/controls",
          "model_name": "ProgressStyleModel",
          "state": {
            "_view_name": "StyleView",
            "_model_name": "ProgressStyleModel",
            "description_width": "initial",
            "_view_module": "@jupyter-widgets/base",
            "_model_module_version": "1.5.0",
            "_view_count": null,
            "_view_module_version": "1.2.0",
            "bar_color": null,
            "_model_module": "@jupyter-widgets/controls"
          }
        },
        "2952f273bf6544bc876539b7fc5e4697": {
          "model_module": "@jupyter-widgets/base",
          "model_name": "LayoutModel",
          "state": {
            "_view_name": "LayoutView",
            "grid_template_rows": null,
            "right": null,
            "justify_content": null,
            "_view_module": "@jupyter-widgets/base",
            "overflow": null,
            "_model_module_version": "1.2.0",
            "_view_count": null,
            "flex_flow": null,
            "width": null,
            "min_width": null,
            "border": null,
            "align_items": null,
            "bottom": null,
            "_model_module": "@jupyter-widgets/base",
            "top": null,
            "grid_column": null,
            "overflow_y": null,
            "overflow_x": null,
            "grid_auto_flow": null,
            "grid_area": null,
            "grid_template_columns": null,
            "flex": null,
            "_model_name": "LayoutModel",
            "justify_items": null,
            "grid_row": null,
            "max_height": null,
            "align_content": null,
            "visibility": null,
            "align_self": null,
            "height": null,
            "min_height": null,
            "padding": null,
            "grid_auto_rows": null,
            "grid_gap": null,
            "max_width": null,
            "order": null,
            "_view_module_version": "1.2.0",
            "grid_template_areas": null,
            "object_position": null,
            "object_fit": null,
            "grid_auto_columns": null,
            "margin": null,
            "display": null,
            "left": null
          }
        },
        "54eb5a9a1ff64600a923f704cc183a7d": {
          "model_module": "@jupyter-widgets/controls",
          "model_name": "DescriptionStyleModel",
          "state": {
            "_view_name": "StyleView",
            "_model_name": "DescriptionStyleModel",
            "description_width": "",
            "_view_module": "@jupyter-widgets/base",
            "_model_module_version": "1.5.0",
            "_view_count": null,
            "_view_module_version": "1.2.0",
            "_model_module": "@jupyter-widgets/controls"
          }
        },
        "56123685e1f742f9bd752c7288e1ecc2": {
          "model_module": "@jupyter-widgets/base",
          "model_name": "LayoutModel",
          "state": {
            "_view_name": "LayoutView",
            "grid_template_rows": null,
            "right": null,
            "justify_content": null,
            "_view_module": "@jupyter-widgets/base",
            "overflow": null,
            "_model_module_version": "1.2.0",
            "_view_count": null,
            "flex_flow": null,
            "width": null,
            "min_width": null,
            "border": null,
            "align_items": null,
            "bottom": null,
            "_model_module": "@jupyter-widgets/base",
            "top": null,
            "grid_column": null,
            "overflow_y": null,
            "overflow_x": null,
            "grid_auto_flow": null,
            "grid_area": null,
            "grid_template_columns": null,
            "flex": null,
            "_model_name": "LayoutModel",
            "justify_items": null,
            "grid_row": null,
            "max_height": null,
            "align_content": null,
            "visibility": null,
            "align_self": null,
            "height": null,
            "min_height": null,
            "padding": null,
            "grid_auto_rows": null,
            "grid_gap": null,
            "max_width": null,
            "order": null,
            "_view_module_version": "1.2.0",
            "grid_template_areas": null,
            "object_position": null,
            "object_fit": null,
            "grid_auto_columns": null,
            "margin": null,
            "display": null,
            "left": null
          }
        },
        "c8c9a3bd2c6b4f07bb08354069aa82b7": {
          "model_module": "@jupyter-widgets/controls",
          "model_name": "HBoxModel",
          "state": {
            "_view_name": "HBoxView",
            "_dom_classes": [],
            "_model_name": "HBoxModel",
            "_view_module": "@jupyter-widgets/controls",
            "_model_module_version": "1.5.0",
            "_view_count": null,
            "_view_module_version": "1.5.0",
            "box_style": "",
            "layout": "IPY_MODEL_5f13dc5873964d3bb2585ed9b5ec6815",
            "_model_module": "@jupyter-widgets/controls",
            "children": [
              "IPY_MODEL_50e895425a7b419f849e95289c2e54c4",
              "IPY_MODEL_cf35a11cc8844ccfbcaf00a4a39e4796"
            ]
          }
        },
        "5f13dc5873964d3bb2585ed9b5ec6815": {
          "model_module": "@jupyter-widgets/base",
          "model_name": "LayoutModel",
          "state": {
            "_view_name": "LayoutView",
            "grid_template_rows": null,
            "right": null,
            "justify_content": null,
            "_view_module": "@jupyter-widgets/base",
            "overflow": null,
            "_model_module_version": "1.2.0",
            "_view_count": null,
            "flex_flow": null,
            "width": null,
            "min_width": null,
            "border": null,
            "align_items": null,
            "bottom": null,
            "_model_module": "@jupyter-widgets/base",
            "top": null,
            "grid_column": null,
            "overflow_y": null,
            "overflow_x": null,
            "grid_auto_flow": null,
            "grid_area": null,
            "grid_template_columns": null,
            "flex": null,
            "_model_name": "LayoutModel",
            "justify_items": null,
            "grid_row": null,
            "max_height": null,
            "align_content": null,
            "visibility": null,
            "align_self": null,
            "height": null,
            "min_height": null,
            "padding": null,
            "grid_auto_rows": null,
            "grid_gap": null,
            "max_width": null,
            "order": null,
            "_view_module_version": "1.2.0",
            "grid_template_areas": null,
            "object_position": null,
            "object_fit": null,
            "grid_auto_columns": null,
            "margin": null,
            "display": null,
            "left": null
          }
        },
        "50e895425a7b419f849e95289c2e54c4": {
          "model_module": "@jupyter-widgets/controls",
          "model_name": "FloatProgressModel",
          "state": {
            "_view_name": "ProgressView",
            "style": "IPY_MODEL_86cfccc6a1294871924b9bbe7e305a9f",
            "_dom_classes": [],
            "description": "100%",
            "_model_name": "FloatProgressModel",
            "bar_style": "success",
            "max": 57365526,
            "_view_module": "@jupyter-widgets/controls",
            "_model_module_version": "1.5.0",
            "value": 57365526,
            "_view_count": null,
            "_view_module_version": "1.5.0",
            "orientation": "horizontal",
            "min": 0,
            "description_tooltip": null,
            "_model_module": "@jupyter-widgets/controls",
            "layout": "IPY_MODEL_4b9f945431134c3c932c0fd07f9f0f90"
          }
        },
        "cf35a11cc8844ccfbcaf00a4a39e4796": {
          "model_module": "@jupyter-widgets/controls",
          "model_name": "HTMLModel",
          "state": {
            "_view_name": "HTMLView",
            "style": "IPY_MODEL_0fc603d15e1c4988939974b8b3252973",
            "_dom_classes": [],
            "description": "",
            "_model_name": "HTMLModel",
            "placeholder": "​",
            "_view_module": "@jupyter-widgets/controls",
            "_model_module_version": "1.5.0",
            "value": " 54.7M/54.7M [00:00&lt;00:00, 87.6MB/s]",
            "_view_count": null,
            "_view_module_version": "1.5.0",
            "description_tooltip": null,
            "_model_module": "@jupyter-widgets/controls",
            "layout": "IPY_MODEL_7c33190128a7439681ab89fb7503cb41"
          }
        },
        "86cfccc6a1294871924b9bbe7e305a9f": {
          "model_module": "@jupyter-widgets/controls",
          "model_name": "ProgressStyleModel",
          "state": {
            "_view_name": "StyleView",
            "_model_name": "ProgressStyleModel",
            "description_width": "initial",
            "_view_module": "@jupyter-widgets/base",
            "_model_module_version": "1.5.0",
            "_view_count": null,
            "_view_module_version": "1.2.0",
            "bar_color": null,
            "_model_module": "@jupyter-widgets/controls"
          }
        },
        "4b9f945431134c3c932c0fd07f9f0f90": {
          "model_module": "@jupyter-widgets/base",
          "model_name": "LayoutModel",
          "state": {
            "_view_name": "LayoutView",
            "grid_template_rows": null,
            "right": null,
            "justify_content": null,
            "_view_module": "@jupyter-widgets/base",
            "overflow": null,
            "_model_module_version": "1.2.0",
            "_view_count": null,
            "flex_flow": null,
            "width": null,
            "min_width": null,
            "border": null,
            "align_items": null,
            "bottom": null,
            "_model_module": "@jupyter-widgets/base",
            "top": null,
            "grid_column": null,
            "overflow_y": null,
            "overflow_x": null,
            "grid_auto_flow": null,
            "grid_area": null,
            "grid_template_columns": null,
            "flex": null,
            "_model_name": "LayoutModel",
            "justify_items": null,
            "grid_row": null,
            "max_height": null,
            "align_content": null,
            "visibility": null,
            "align_self": null,
            "height": null,
            "min_height": null,
            "padding": null,
            "grid_auto_rows": null,
            "grid_gap": null,
            "max_width": null,
            "order": null,
            "_view_module_version": "1.2.0",
            "grid_template_areas": null,
            "object_position": null,
            "object_fit": null,
            "grid_auto_columns": null,
            "margin": null,
            "display": null,
            "left": null
          }
        },
        "0fc603d15e1c4988939974b8b3252973": {
          "model_module": "@jupyter-widgets/controls",
          "model_name": "DescriptionStyleModel",
          "state": {
            "_view_name": "StyleView",
            "_model_name": "DescriptionStyleModel",
            "description_width": "",
            "_view_module": "@jupyter-widgets/base",
            "_model_module_version": "1.5.0",
            "_view_count": null,
            "_view_module_version": "1.2.0",
            "_model_module": "@jupyter-widgets/controls"
          }
        },
        "7c33190128a7439681ab89fb7503cb41": {
          "model_module": "@jupyter-widgets/base",
          "model_name": "LayoutModel",
          "state": {
            "_view_name": "LayoutView",
            "grid_template_rows": null,
            "right": null,
            "justify_content": null,
            "_view_module": "@jupyter-widgets/base",
            "overflow": null,
            "_model_module_version": "1.2.0",
            "_view_count": null,
            "flex_flow": null,
            "width": null,
            "min_width": null,
            "border": null,
            "align_items": null,
            "bottom": null,
            "_model_module": "@jupyter-widgets/base",
            "top": null,
            "grid_column": null,
            "overflow_y": null,
            "overflow_x": null,
            "grid_auto_flow": null,
            "grid_area": null,
            "grid_template_columns": null,
            "flex": null,
            "_model_name": "LayoutModel",
            "justify_items": null,
            "grid_row": null,
            "max_height": null,
            "align_content": null,
            "visibility": null,
            "align_self": null,
            "height": null,
            "min_height": null,
            "padding": null,
            "grid_auto_rows": null,
            "grid_gap": null,
            "max_width": null,
            "order": null,
            "_view_module_version": "1.2.0",
            "grid_template_areas": null,
            "object_position": null,
            "object_fit": null,
            "grid_auto_columns": null,
            "margin": null,
            "display": null,
            "left": null
          }
        }
      }
    }
  },
  "cells": [
    {
      "cell_type": "markdown",
      "metadata": {
        "id": "view-in-github",
        "colab_type": "text"
      },
      "source": [
        "<a href=\"https://colab.research.google.com/github/Hagar-Usama/Chest-X-ray-diagnosis/blob/improved-models/Model_Training.ipynb\" target=\"_parent\"><img src=\"https://colab.research.google.com/assets/colab-badge.svg\" alt=\"Open In Colab\"/></a>"
      ]
    },
    {
      "cell_type": "code",
      "metadata": {
        "id": "O2ZhTjv-pRPA"
      },
      "source": [
        "import os\n",
        "import numpy as np\n",
        "import matplotlib.pyplot as plt\n",
        "from torch.utils.data import Dataset, DataLoader, random_split\n",
        "import cv2\n",
        "from google.colab import drive\n",
        "import torch.optim as optim\n",
        "from sklearn.preprocessing import LabelEncoder\n",
        "import torch.nn as nn\n",
        "import torch.nn.functional as F\n",
        "import torch\n",
        "from sklearn.metrics import f1_score, recall_score, precision_score, accuracy_score\n",
        "from sklearn.model_selection import train_test_split\n",
        "from google.colab import files\n",
        "from torchvision.models import resnet18, resnet50\n",
        "from statistics import mode"
      ],
      "execution_count": null,
      "outputs": []
    },
    {
      "cell_type": "markdown",
      "metadata": {
        "id": "bRg2QtOazY4v"
      },
      "source": [
        "# Load Pickle File"
      ]
    },
    {
      "cell_type": "code",
      "metadata": {
        "id": "mN0abbEyzRgD"
      },
      "source": [
        "## Credit\n",
        "# https://medium.com/better-programming/load-fast-load-big-with-compressed-pickles-5f311584507e\n",
        "import pickle\n",
        "import bz2\n",
        "import os\n",
        "import cv2\n",
        "import _pickle as cPickle\n",
        "# Load any compressed pickle file\n",
        "def decompress_pickle(file):\n",
        "    data = bz2.BZ2File(file, 'rb')\n",
        "    data = cPickle.load(data)\n",
        "    return data"
      ],
      "execution_count": null,
      "outputs": []
    },
    {
      "cell_type": "code",
      "metadata": {
        "colab": {
          "base_uri": "https://localhost:8080/"
        },
        "id": "iP0xpgsiznO7",
        "outputId": "16b68cc8-e79c-43fe-9f89-df5ec3428946"
      },
      "source": [
        "from google.colab import drive\n",
        "drive.mount('/content/drive')"
      ],
      "execution_count": null,
      "outputs": [
        {
          "output_type": "stream",
          "text": [
            "Mounted at /content/drive\n"
          ],
          "name": "stdout"
        }
      ]
    },
    {
      "cell_type": "code",
      "metadata": {
        "id": "KFHY74Ynz9GO"
      },
      "source": [
        "from pathlib import Path\n",
        "def ds_join():\n",
        "  dataset = Path(\"/content/drive/My Drive/covid-19\")\n",
        "  p1 = dataset.joinpath(\"covid-compressed-label.pbz2\") \n",
        "  p2 = dataset.joinpath(\"covid-compressed-image.pbz2\") \n",
        "  return p1,p2"
      ],
      "execution_count": null,
      "outputs": []
    },
    {
      "cell_type": "code",
      "metadata": {
        "id": "FEJpaTjEzqqe"
      },
      "source": [
        "## run iff a pickle file is used\n",
        "p1, p2 = ds_join()\n",
        "labels, data = decompress_pickle(p1), decompress_pickle(p2)"
      ],
      "execution_count": null,
      "outputs": []
    },
    {
      "cell_type": "code",
      "metadata": {
        "id": "_hajwB4Glfxk"
      },
      "source": [
        "data2 = [i.reshape((3,256,256)) for i in data]"
      ],
      "execution_count": null,
      "outputs": []
    },
    {
      "cell_type": "markdown",
      "metadata": {
        "id": "stKlQ8TH07IF"
      },
      "source": [
        "# Optimize Data"
      ]
    },
    {
      "cell_type": "markdown",
      "metadata": {
        "id": "DMDeY-S_2ZYN"
      },
      "source": [
        "## numerical labels"
      ]
    },
    {
      "cell_type": "code",
      "metadata": {
        "colab": {
          "base_uri": "https://localhost:8080/"
        },
        "id": "tdGlLl1P2cab",
        "outputId": "911d184f-0e69-4170-8430-25b8d1d33555"
      },
      "source": [
        "from sklearn.preprocessing import LabelEncoder\n",
        "le = LabelEncoder()\n",
        "labels = le.fit_transform(labels)\n",
        "print(labels)"
      ],
      "execution_count": null,
      "outputs": [
        {
          "output_type": "stream",
          "text": [
            "[2 2 2 ... 1 1 1]\n"
          ],
          "name": "stdout"
        }
      ]
    },
    {
      "cell_type": "markdown",
      "metadata": {
        "id": "Wv_j9fUH4y3p"
      },
      "source": [
        "## Data Augmentation"
      ]
    },
    {
      "cell_type": "code",
      "metadata": {
        "id": "p73ugqvB3r6Y"
      },
      "source": [
        "from torchvision import transforms, utils\n",
        "\n",
        "train_trans =  transforms.Compose([\n",
        "        transforms.RandomResizedCrop(224),\n",
        "        transforms.RandomHorizontalFlip(),\n",
        "        transforms.ToTensor(),\n",
        "        transforms.Normalize([0.485, 0.456, 0.406], [0.229, 0.224, 0.225])\n",
        "    ])\n",
        "\n",
        "valid_trans = transforms.Compose([\n",
        "        transforms.Resize(256),\n",
        "        transforms.CenterCrop(224),\n",
        "        transforms.ToTensor(),\n",
        "        transforms.Normalize([0.485, 0.456, 0.406], [0.229, 0.224, 0.225])\n",
        "    ])\n",
        "\n",
        "transform = transforms.Compose([\n",
        "        transforms.ToPILImage(),\n",
        "        transforms.RandomHorizontalFlip(),\n",
        "        transforms.ToTensor(),\n",
        "        #transforms.Normalize([0.485, 0.456, 0.406], [0.229, 0.224, 0.225])\n",
        "    ])"
      ],
      "execution_count": null,
      "outputs": []
    },
    {
      "cell_type": "markdown",
      "metadata": {
        "id": "S8X5XiEQ2key"
      },
      "source": [
        "# Split Data"
      ]
    },
    {
      "cell_type": "code",
      "metadata": {
        "id": "mzHCfxJn2qbF"
      },
      "source": [
        "#Credit\n",
        "# https://datascience.stackexchange.com/questions/15135/train-test-validation-set-splitting-in-sklearn\n",
        "from sklearn.model_selection import train_test_split\n",
        "\n",
        "x_train, x_test, y_train, y_test=\\\n",
        "train_test_split(data2, labels, test_size=0.4, random_state=1, stratify=labels)\n",
        "x_train, x_val, y_train, y_val =\\\n",
        "train_test_split(x_train, y_train, test_size=0.5, random_state=1, stratify=y_train) # 0.25 x 0.8 = 0.2"
      ],
      "execution_count": null,
      "outputs": []
    },
    {
      "cell_type": "markdown",
      "metadata": {
        "id": "ndGn3V6r2wvv"
      },
      "source": [
        "# Torch"
      ]
    },
    {
      "cell_type": "code",
      "metadata": {
        "colab": {
          "base_uri": "https://localhost:8080/"
        },
        "id": "xMTP-lX409r4",
        "outputId": "d74edf07-0251-4fc0-c14a-01fc515d8fc7"
      },
      "source": [
        "import torch\n",
        "use_cuda = torch.cuda.is_available()\n",
        "device = torch.device(\"cuda\" if use_cuda else \"cpu\")\n",
        "print(device)"
      ],
      "execution_count": null,
      "outputs": [
        {
          "output_type": "stream",
          "text": [
            "cuda\n"
          ],
          "name": "stdout"
        }
      ]
    },
    {
      "cell_type": "code",
      "metadata": {
        "id": "VJ_42cIu3RlU"
      },
      "source": [
        "from torch.utils.data.dataset import Dataset\n",
        "class MyDataset(Dataset):\n",
        "\n",
        "    def __init__(self, data, labels, transform = None):\n",
        "        self.data = data\n",
        "        self.labels = labels\n",
        "        self.transform = transform\n",
        "\n",
        "    def __len__(self):\n",
        "        return len(self.data)\n",
        "\n",
        "    def __getitem__(self, index):\n",
        "        image = self.data[index]\n",
        "        # transformation\n",
        "        # if self.transform:\n",
        "        #   image = self.transform(image)\n",
        "        #   return image.float().cuda(), torch.tensor(int(self.labels[index]))\n",
        "        return torch.tensor(image).float(), torch.tensor(int(self.labels[index]))\n",
        "        "
      ],
      "execution_count": null,
      "outputs": []
    },
    {
      "cell_type": "markdown",
      "metadata": {
        "id": "GSwUWNGh5KEp"
      },
      "source": [
        "## Dataloader"
      ]
    },
    {
      "cell_type": "code",
      "metadata": {
        "id": "v-OiuRkR5Svw"
      },
      "source": [
        "batch_size = 32"
      ],
      "execution_count": null,
      "outputs": []
    },
    {
      "cell_type": "code",
      "metadata": {
        "id": "PS7eK0Ae5qHm"
      },
      "source": [
        "def prepare_dataloader(x_train, y_train, transform=None):\n",
        "  customDataset = MyDataset(x_train, y_train, transform=transform)\n",
        "  dataloader = DataLoader(customDataset, batch_size=batch_size, shuffle=True, num_workers=0)\n",
        "  return dataloader"
      ],
      "execution_count": null,
      "outputs": []
    },
    {
      "cell_type": "code",
      "metadata": {
        "id": "-o9DXsZI5MAy"
      },
      "source": [
        "# num_workers = 1 causes a crash\n",
        "from torch.utils.data import DataLoader, random_split\n",
        "train_dataloader = prepare_dataloader(x_train, y_train, transform= transform)\n",
        "val_dataloader = prepare_dataloader(x_val, y_val, transform= transform)\n",
        "test_dataloader = prepare_dataloader(x_test, y_test)"
      ],
      "execution_count": null,
      "outputs": []
    },
    {
      "cell_type": "markdown",
      "metadata": {
        "id": "R5JSggyYQcw-"
      },
      "source": [
        "## Training  & Testing"
      ]
    },
    {
      "cell_type": "code",
      "metadata": {
        "id": "rjyC22V4msn3"
      },
      "source": [
        "def run_model(model, dataloader, optimizer, scheduler, train = True):\n",
        "  if train:\n",
        "    model.train()\n",
        "  else:\n",
        "    model.eval()\n",
        "\n",
        "  pred = []\n",
        "  labels = []\n",
        "  loss = nn.CrossEntropyLoss()\n",
        "  total_loss = 0\n",
        "\n",
        "  for (data, label) in dataloader: \n",
        "      # zero the parameter gradients\n",
        "      optimizer.zero_grad()\n",
        "      # forward + backward + optimize\n",
        "      with torch.set_grad_enabled(train == True):\n",
        "        output = model(data)\n",
        "        loss_ = loss(output, label)\n",
        "\n",
        "      total_loss += loss_.item()\n",
        "\n",
        "      if train:\n",
        "        loss_.backward()\n",
        "        optimizer.step()\n",
        "\n",
        "      pred += output.tolist()\n",
        "      labels += label.tolist()\n",
        "        \n",
        "\n",
        "  return labels,pred,total_loss/len(dataloader)"
      ],
      "execution_count": null,
      "outputs": []
    },
    {
      "cell_type": "code",
      "metadata": {
        "id": "IAmpNk9Eo3LC"
      },
      "source": [
        "def train_model(model, optimizer, scheduler, epoch):\n",
        "\n",
        "  for e in range(epoch):\n",
        "    print(\"\\n**********epoch: \", e, \"\\n\")\n",
        "    labels, pred, loss = run_model(model, train_dataloader, optimizer, scheduler, train=True)\n",
        "    print(\"\\ntrain:\\n\") \n",
        "    print(\"loss: \", loss)\n",
        "    get_metrics(pred, labels)\n",
        "\n",
        "    with torch.no_grad():\n",
        "      labels, pred, loss = run_model(model, val_dataloader, optimizer, scheduler, train=False)\n",
        "      scheduler.step(loss)\n",
        "      print(\"\\nvalidation:\\n\")\n",
        "      print(\"loss: \", loss)\n",
        "      get_metrics(pred, labels)"
      ],
      "execution_count": null,
      "outputs": []
    },
    {
      "cell_type": "code",
      "metadata": {
        "id": "UkZkL3VzYafl"
      },
      "source": [
        "def test_model(model, optimizer, scheduler):\n",
        "  with torch.no_grad():\n",
        "    labels, pred, loss = run_model(model, test_dataloader, optimizer, scheduler, train=False)\n",
        "    print(\"test: \")\n",
        "    print(\"loss: \", loss)\n",
        "    print(pred)\n",
        "    print(torch.exp(torch.tensor(pred)))\n",
        "    print(labels)\n",
        "\n",
        "    get_metrics(pred, labels)"
      ],
      "execution_count": null,
      "outputs": []
    },
    {
      "cell_type": "markdown",
      "metadata": {
        "id": "CewCUXjHA1Q6"
      },
      "source": [
        "Improved Models"
      ]
    },
    {
      "cell_type": "code",
      "metadata": {
        "id": "5tB5jfa9P6qF"
      },
      "source": [
        "torch.set_default_tensor_type('torch.cuda.FloatTensor')"
      ],
      "execution_count": null,
      "outputs": []
    },
    {
      "cell_type": "code",
      "metadata": {
        "id": "bbmmHTYnq9cS"
      },
      "source": [
        "def get_metrics(pred, labels):\n",
        "  # pred = torch.exp(torch.tensor(pred)) # get probabilities back\n",
        "  pred = torch.tensor(pred)\n",
        "  _, pred = torch.max(pred, 1)\n",
        "  # _, pred = torch.max(torch.tensor(pred), 1)\n",
        "  # print(pred)\n",
        "  f1 = f1_score(labels, pred.cpu(), average='weighted')\n",
        "  r = recall_score(labels, pred.cpu(), average='weighted')\n",
        "  p = precision_score(labels, pred.cpu(), average='weighted')\n",
        "  a = accuracy_score(labels, pred.cpu())\n",
        "  print(\"f1 score: \", f1)\n",
        "  print(\"recall: \", r)\n",
        "  print(\"precision: \", p)\n",
        "  print(\"accuracy: \", a)\n",
        "\n",
        "  pred_list.append(f1)\n",
        "  pred_list.append(r)\n",
        "  pred_list.append(p)\n",
        "  pred_list.append(a)\n",
        "  return f1,r,p,a"
      ],
      "execution_count": null,
      "outputs": []
    },
    {
      "cell_type": "code",
      "metadata": {
        "id": "y94nQq_1A4hn"
      },
      "source": [
        "dataloaders = {'train': train_dataloader, 'val':val_dataloader, 'test':test_dataloader }\n",
        "dataset_sizes = {'train': len(y_train), 'val':len(y_val)}"
      ],
      "execution_count": null,
      "outputs": []
    },
    {
      "cell_type": "code",
      "metadata": {
        "id": "okwiuM5mhUgt"
      },
      "source": [
        "import torch.nn as nn\n",
        "from torchvision import models\n",
        "\n",
        "class MyResNet(nn.Module):\n",
        "    def __init__(self, type=18, pretrained=True):\n",
        "        super().__init__()\n",
        "        if type == 18:\n",
        "          resnet = models.resnet18(pretrained=pretrained)\n",
        "        else:\n",
        "          resnet = models.resnet50(pretrained=pretrained)\n",
        "\n",
        "\n",
        "        # here we get all the modules(layers) before the fc layer at the end\n",
        "        # note that currently at pytorch 1.0 the named_children() is not supported\n",
        "        # and using that instead of children() will fail with an error\n",
        "        self.features = nn.ModuleList(resnet.children())[:-1]\n",
        "        # Now we have our layers up to the fc layer, but we are not finished yet \n",
        "        # we need to feed these to nn.Sequential() as well, this is needed because,\n",
        "        # nn.ModuleList doesnt implement forward() \n",
        "        # so you cant do sth like self.features(images). Therefore we use \n",
        "        # nn.Sequential and since sequential doesnt accept lists, we \n",
        "        # unpack all the items and send them like this\n",
        "        self.features = nn.Sequential(*self.features)\n",
        "        # now lets add our new layers \n",
        "        in_features = resnet.fc.in_features\n",
        "        # from now, you can add any kind of layers in any quantity!  \n",
        "        # Here I'm creating two new layers \n",
        "\n",
        "        \n",
        "        self.fc0 = nn.Linear(in_features, 256)\n",
        "        self.fc0_bn = nn.BatchNorm1d(256, eps = 1e-2)\n",
        "        self.fc1 = nn.Linear(256, 3)\n",
        "        self.fc1_bn = nn.BatchNorm1d(3, eps = 1e-2)\n",
        "        \n",
        "        # initialize all fc layers to xavier\n",
        "        for m in self.modules():\n",
        "            if isinstance(m, nn.Linear):\n",
        "                torch.nn.init.xavier_normal_(m.weight, gain = 1)\n",
        "\n",
        "    def forward(self, input_imgs):\n",
        "       output = input_imgs.permute(0, 3, 1, 2)\n",
        "       # now in forward pass, you have the full control, \n",
        "       # we can use the feature part from our pretrained model  like this\n",
        "       output = self.features(input_imgs)\n",
        "       # since we are using fc layers from now on, we need to flatten the output.\n",
        "       # we used the avgpooling but we still need to flatten from the shape (batch, 1,1, features)\n",
        "       # to (batch, features) so we reshape like this. input_imgs.size(0) gives the batchsize, and \n",
        "       # we use -1 for inferring the rest\n",
        "       output = output.view(input_imgs.size(0), -1)\n",
        "       # and also our new layers.\n",
        "       output = output.view(input_imgs.size(0), -1)\n",
        "       # and also our new layers. \n",
        "       output = self.fc0_bn(F.relu(self.fc0(output)))\n",
        "       output = self.fc1_bn(F.relu(self.fc1(output)))\n",
        "       return output"
      ],
      "execution_count": null,
      "outputs": []
    },
    {
      "cell_type": "markdown",
      "metadata": {
        "id": "x3vawt_qy-Sp"
      },
      "source": [
        "# ResNet\n"
      ]
    },
    {
      "cell_type": "markdown",
      "metadata": {
        "id": "jFz33IG7la4O"
      },
      "source": [
        "## ResNet 18 (`pretrained = False`)"
      ]
    },
    {
      "cell_type": "code",
      "metadata": {
        "id": "wl1s5fPHlhS0"
      },
      "source": [
        "import torchvision.models as models\n",
        "import torch.optim as optim\n",
        "\n",
        "model =  models.resnet18(pretrained=False)\n",
        "num_ftrs = model.fc.in_features\n",
        "model.fc = nn.Linear(num_ftrs, 3)"
      ],
      "execution_count": null,
      "outputs": []
    },
    {
      "cell_type": "code",
      "metadata": {
        "colab": {
          "base_uri": "https://localhost:8080/"
        },
        "id": "ZkqurPUallAr",
        "outputId": "e0bcbaf0-5435-44ec-9b71-bcac5bd49fa4"
      },
      "source": [
        "# params_to_update = []\n",
        "# for name,param in model.named_parameters():\n",
        "#     if param.requires_grad == True:\n",
        "#         params_to_update.append(param)\n",
        "optimizer = optim.Adam(model.parameters(), 0.001, weight_decay=0.0)\n",
        "scheduler = torch.optim.lr_scheduler.ReduceLROnPlateau(optimizer, patience=5, factor=0.3, threshold=0.0001) \n",
        "train_model(model, optimizer, scheduler, 10)"
      ],
      "execution_count": null,
      "outputs": [
        {
          "output_type": "stream",
          "text": [
            "\n",
            "**********epoch:  0 \n",
            "\n",
            "\n",
            "train:\n",
            "\n",
            "loss:  0.6744392298989825\n",
            "f1 score:  0.7148865920586726\n",
            "recall:  0.7168989547038328\n",
            "precision:  0.7149108303008852\n",
            "accuracy:  0.7168989547038328\n",
            "\n",
            "validation:\n",
            "\n",
            "loss:  0.8544118586513731\n",
            "f1 score:  0.6660018695829163\n",
            "recall:  0.6788511749347258\n",
            "precision:  0.7318733895401915\n",
            "accuracy:  0.6788511749347258\n",
            "\n",
            "**********epoch:  1 \n",
            "\n",
            "\n",
            "train:\n",
            "\n",
            "loss:  0.4042872641649511\n",
            "f1 score:  0.8546700983846105\n",
            "recall:  0.8545296167247387\n",
            "precision:  0.8548380235584315\n",
            "accuracy:  0.8545296167247387\n",
            "\n",
            "validation:\n",
            "\n",
            "loss:  0.32933641307883793\n",
            "f1 score:  0.887030389567136\n",
            "recall:  0.886858137510879\n",
            "precision:  0.8902216785826802\n",
            "accuracy:  0.886858137510879\n",
            "\n",
            "**********epoch:  2 \n",
            "\n",
            "\n",
            "train:\n",
            "\n",
            "loss:  0.30332744535472655\n",
            "f1 score:  0.8910791677253919\n",
            "recall:  0.8911149825783972\n",
            "precision:  0.8910492465065267\n",
            "accuracy:  0.8911149825783972\n",
            "\n",
            "validation:\n",
            "\n",
            "loss:  0.3779916597737206\n",
            "f1 score:  0.8479273037530538\n",
            "recall:  0.8494342906875544\n",
            "precision:  0.8501649536470776\n",
            "accuracy:  0.8494342906875544\n",
            "\n",
            "**********epoch:  3 \n",
            "\n",
            "\n",
            "train:\n",
            "\n",
            "loss:  0.2736530527472496\n",
            "f1 score:  0.8909330670626153\n",
            "recall:  0.8911149825783972\n",
            "precision:  0.8910189025547187\n",
            "accuracy:  0.8911149825783972\n",
            "\n",
            "validation:\n",
            "\n",
            "loss:  0.5182506984306706\n",
            "f1 score:  0.758193519919812\n",
            "recall:  0.7719756309834639\n",
            "precision:  0.8224312237702579\n",
            "accuracy:  0.7719756309834639\n",
            "\n",
            "**********epoch:  4 \n",
            "\n",
            "\n",
            "train:\n",
            "\n",
            "loss:  0.2717738567541043\n",
            "f1 score:  0.9032703677100954\n",
            "recall:  0.9033101045296167\n",
            "precision:  0.9032500424390819\n",
            "accuracy:  0.9033101045296167\n",
            "\n",
            "validation:\n",
            "\n",
            "loss:  1.9348343180285559\n",
            "f1 score:  0.6122778754252513\n",
            "recall:  0.65970409051349\n",
            "precision:  0.7660580499157832\n",
            "accuracy:  0.65970409051349\n",
            "\n",
            "**********epoch:  5 \n",
            "\n",
            "\n",
            "train:\n",
            "\n",
            "loss:  0.25602110744350487\n",
            "f1 score:  0.8990376787686811\n",
            "recall:  0.8989547038327527\n",
            "precision:  0.899149462331451\n",
            "accuracy:  0.8989547038327527\n",
            "\n",
            "validation:\n",
            "\n",
            "loss:  0.37272108780841035\n",
            "f1 score:  0.8711799130613165\n",
            "recall:  0.8703220191470844\n",
            "precision:  0.8852506968633477\n",
            "accuracy:  0.8703220191470844\n",
            "\n",
            "**********epoch:  6 \n",
            "\n",
            "\n",
            "train:\n",
            "\n",
            "loss:  0.2449156911008888\n",
            "f1 score:  0.9104050125773844\n",
            "recall:  0.9102787456445993\n",
            "precision:  0.9105969936170868\n",
            "accuracy:  0.9102787456445993\n",
            "\n",
            "validation:\n",
            "\n",
            "loss:  0.2392867354469167\n",
            "f1 score:  0.9177883557440161\n",
            "recall:  0.917319408181027\n",
            "precision:  0.9205777871713458\n",
            "accuracy:  0.917319408181027\n",
            "\n",
            "**********epoch:  7 \n",
            "\n",
            "\n",
            "train:\n",
            "\n",
            "loss:  0.21181862304608026\n",
            "f1 score:  0.9154002635483254\n",
            "recall:  0.9155052264808362\n",
            "precision:  0.9153970966192171\n",
            "accuracy:  0.9155052264808362\n",
            "\n",
            "validation:\n",
            "\n",
            "loss:  4.672025786505805\n",
            "f1 score:  0.4191758050589174\n",
            "recall:  0.5056570931244561\n",
            "precision:  0.7484322140843702\n",
            "accuracy:  0.5056570931244561\n",
            "\n",
            "**********epoch:  8 \n",
            "\n",
            "\n",
            "train:\n",
            "\n",
            "loss:  0.245845891121361\n",
            "f1 score:  0.9093188918865147\n",
            "recall:  0.9094076655052264\n",
            "precision:  0.9094306874597694\n",
            "accuracy:  0.9094076655052264\n",
            "\n",
            "validation:\n",
            "\n",
            "loss:  0.4385148460666339\n",
            "f1 score:  0.8477382801653619\n",
            "recall:  0.8503046127067014\n",
            "precision:  0.8631803246746832\n",
            "accuracy:  0.8503046127067014\n",
            "\n",
            "**********epoch:  9 \n",
            "\n",
            "\n",
            "train:\n",
            "\n",
            "loss:  0.19900008787711462\n",
            "f1 score:  0.9242625356867024\n",
            "recall:  0.9242160278745645\n",
            "precision:  0.9243866783706259\n",
            "accuracy:  0.9242160278745645\n",
            "\n",
            "validation:\n",
            "\n",
            "loss:  0.23100038969682324\n",
            "f1 score:  0.907966618520622\n",
            "recall:  0.9077458659704091\n",
            "precision:  0.9103043668000214\n",
            "accuracy:  0.9077458659704091\n"
          ],
          "name": "stdout"
        }
      ]
    },
    {
      "cell_type": "code",
      "metadata": {
        "id": "G_fRAOnBlnWk"
      },
      "source": [
        "torch.save(model.state_dict(), \"resNet18_false\")"
      ],
      "execution_count": null,
      "outputs": []
    },
    {
      "cell_type": "code",
      "metadata": {
        "colab": {
          "base_uri": "https://localhost:8080/"
        },
        "id": "Ckd1jhNyltrg",
        "outputId": "e7bbf343-1c98-47f9-a800-765f24498477"
      },
      "source": [
        "test_model(model, optimizer, scheduler)"
      ],
      "execution_count": null,
      "outputs": [
        {
          "output_type": "stream",
          "text": [
            "test: \n",
            "loss:  0.29929245604823035\n",
            "[[-2.634265422821045, 2.8314340114593506, -0.8146829605102539], [1.4362465143203735, -1.5514962673187256, 0.763937771320343], [1.058443307876587, 0.8184515237808228, -2.554236650466919], [-3.372934103012085, -0.32429733872413635, 3.640029191970825], [-2.6492421627044678, 1.831264853477478, 0.31424200534820557], [-1.4990198612213135, -1.7522914409637451, 2.350494146347046], [-3.991243600845337, 3.2852554321289062, 0.42534005641937256], [-3.536245346069336, 2.729487657546997, 0.3248726427555084], [-2.835556983947754, 3.4191322326660156, -0.8271918892860413], [0.809043824672699, 0.6804847717285156, -2.33327317237854], [-0.5725676417350769, -2.644692897796631, 3.2674453258514404], [1.6080881357192993, 0.14893075823783875, -2.4820423126220703], [-2.819262742996216, 1.915103793144226, 0.4158368706703186], [-4.036880970001221, 4.150705814361572, -0.5326766967773438], [-4.00221061706543, 4.380030632019043, -0.8568487763404846], [6.330530166625977, -4.260252952575684, -1.925534725189209], [-2.1753082275390625, 0.5253391265869141, 0.9875443577766418], [-2.8927085399627686, 1.6188173294067383, 1.3068886995315552], [0.15377295017242432, -1.1724059581756592, 0.3639688491821289], [-2.5004618167877197, -0.558967113494873, 2.616727828979492], [-1.2653155326843262, -2.376976251602173, 3.4525609016418457], [3.8267159461975098, -1.3174519538879395, -3.6569573879241943], [4.159207344055176, -2.781593084335327, -2.740185022354126], [-0.3315194249153137, 1.7250494956970215, -2.376782178878784], [-3.379587411880493, 0.43075719475746155, 2.4595537185668945], [-3.2312018871307373, 4.611611843109131, -1.7354283332824707], [-3.2691619396209717, 3.8502321243286133, -1.216387391090393], [2.911041021347046, 0.9218246936798096, -4.841732501983643], [3.775374174118042, -4.125072479248047, -0.8811363577842712], [1.6027263402938843, 0.1377551257610321, -2.5580708980560303], [3.7507941722869873, -3.4814257621765137, -1.460190773010254], [-2.3851583003997803, 2.7102320194244385, -0.7427751421928406], [-4.847341060638428, 2.120718479156494, 2.1267404556274414], [-0.1601576805114746, 1.1705507040023804, -0.688935399055481], [4.080014705657959, -3.7999324798583984, -1.4959663152694702], [-1.0818573236465454, -1.8436261415481567, 2.994868040084839], [-1.3886278867721558, 1.3242181539535522, -0.7788782715797424], [-1.7701417207717896, -1.4222289323806763, 2.699401378631592], [4.342077255249023, -3.3435091972351074, -2.233844757080078], [-1.4406381845474243, -2.681497097015381, 4.4130330085754395], [-1.9047363996505737, 0.7172527313232422, 1.0291473865509033], [-3.3864901065826416, 1.173248291015625, 1.9079996347427368], [4.846653938293457, -5.3736138343811035, -0.933122456073761], [3.3075602054595947, -2.726256847381592, -1.9436836242675781], [-3.248922109603882, 4.019350051879883, -1.5891523361206055], [-4.265368461608887, 0.671746015548706, 3.213560104370117], [1.766393780708313, 0.6048043966293335, -3.213852643966675], [-2.419395923614502, 1.5363553762435913, 0.29150208830833435], [0.16766303777694702, -2.610741138458252, 3.070108652114868], [-3.146679162979126, 4.3002400398254395, -1.5663816928863525], [-3.966447591781616, 3.961925506591797, -0.4440714120864868], [-2.0901381969451904, 4.011453151702881, -2.185872793197632], [-3.906752347946167, 3.790290117263794, -0.5890879034996033], [-2.6777236461639404, -1.0539884567260742, 3.848994493484497], [-0.5622755289077759, -2.5058672428131104, 3.260172128677368], [-0.8986173868179321, -1.5611580610275269, 1.991455316543579], [-1.1534831523895264, 2.2002320289611816, -1.4770324230194092], [-0.3517434298992157, -3.5701041221618652, 4.18369197845459], [3.6345553398132324, -0.3975180685520172, -4.1653337478637695], [-3.799731731414795, 1.4174573421478271, 1.9962975978851318], [-2.1157329082489014, -0.864789605140686, 2.8627731800079346], [1.9131406545639038, 0.10243943333625793, -2.525283098220825], [-3.92891788482666, 1.685325026512146, 1.7618944644927979], [1.8861645460128784, -5.614406108856201, 4.361779689788818], [1.6515612602233887, -5.147780895233154, 4.220176696777344], [4.5462822914123535, -4.500735282897949, -1.4044737815856934], [2.3691213130950928, -0.26093506813049316, -2.8905844688415527], [3.7185866832733154, -1.7898246049880981, -3.1873109340667725], [3.1547765731811523, -0.6551214456558228, -3.395371437072754], [-3.69598388671875, 3.4638569355010986, -0.41036689281463623], [-2.6876461505889893, 4.690975666046143, -2.2973568439483643], [0.6243027448654175, -0.7209489345550537, -0.26899486780166626], [-0.7252250909805298, -1.9042059183120728, 2.2352569103240967], [-3.349428653717041, 4.437931537628174, -1.5400713682174683], [1.2825013399124146, 2.8796534538269043, -4.883392333984375], [3.312086820602417, -3.575742483139038, -0.0993693470954895], [4.108771324157715, -2.6933746337890625, -2.6623923778533936], [1.2958284616470337, -5.719009876251221, 4.970693588256836], [-1.815401315689087, 3.8454408645629883, -2.5976779460906982], [-0.8039460778236389, 1.1615744829177856, -0.6042840480804443], [-4.455074310302734, 3.260962963104248, 0.43471968173980713], [1.5112946033477783, 1.866176962852478, -4.178211688995361], [1.2202510833740234, 1.7338945865631104, -3.5867300033569336], [-0.544243335723877, -3.259002208709717, 4.047725200653076], [1.5680623054504395, -4.806941509246826, 3.516619920730591], [1.0771499872207642, -3.1467597484588623, 1.1431792974472046], [2.1720283031463623, -0.0939931869506836, -2.840532064437866], [4.338019371032715, -4.489808559417725, -1.188084602355957], [2.4019455909729004, -1.478359341621399, -0.6825842261314392], [-3.0877678394317627, 2.8312337398529053, -0.0022802837193012238], [-2.88057804107666, 2.532219886779785, -0.1445378065109253], [2.733121156692505, -1.6746677160263062, -1.9068834781646729], [1.6657129526138306, -4.327541828155518, 2.6982812881469727], [2.051652431488037, -1.7120815515518188, -1.1545801162719727], [-0.46525710821151733, -2.8011631965637207, 3.0236823558807373], [5.1846208572387695, -5.41399621963501, -1.2904319763183594], [-2.538879156112671, 2.4602084159851074, -0.4185463786125183], [0.13989639282226562, -2.7202775478363037, 2.3646457195281982], [3.4748730659484863, -2.8211493492126465, -1.6962223052978516], [-1.0718108415603638, -2.273362636566162, 3.4126713275909424], [-0.8557719588279724, 2.394807815551758, -1.73710298538208], [-2.4100799560546875, 2.4001221656799316, -0.5096326470375061], [2.306215286254883, 0.21172910928726196, -3.3522820472717285], [3.7255876064300537, -4.635255336761475, -0.38332825899124146], [5.644822120666504, -5.943167686462402, -1.3551028966903687], [0.4427807331085205, -1.3567614555358887, 0.7385501265525818], [-2.6660261154174805, 3.1118886470794678, -1.1595420837402344], [-2.5705502033233643, 4.182140827178955, -2.201218366622925], [3.3835628032684326, -0.2671225368976593, -4.166821002960205], [0.9934343695640564, 0.5493814945220947, -2.5981152057647705], [0.9318658709526062, -0.33965110778808594, -1.3711589574813843], [-2.3381969928741455, 0.46229323744773865, 1.4095680713653564], [3.054405927658081, -2.650999069213867, -0.5944718718528748], [-1.1490507125854492, 1.7292648553848267, -0.9978106617927551], [-1.5191106796264648, 3.5070223808288574, -2.4960858821868896], [-0.7543887495994568, -1.399008870124817, 2.1637661457061768], [-2.1583025455474854, 1.063428282737732, 1.0674960613250732], [4.954309463500977, -5.351772785186768, -1.0325796604156494], [-3.784656524658203, 3.56608247756958, -0.6097050905227661], [-4.693772315979004, 4.128671169281006, 0.22779244184494019], [-3.5576529502868652, 3.275554895401001, -0.3990603983402252], [2.0484931468963623, -3.6863081455230713, 1.1945199966430664], [-2.4765899181365967, -0.26205766201019287, 2.0114662647247314], [-4.064419746398926, 3.8970654010772705, -0.4812490940093994], [1.262553095817566, -4.500865936279297, 3.457651376724243], [1.2878974676132202, -4.6527934074401855, 3.4261972904205322], [-3.8091769218444824, 3.5837395191192627, -0.6144331097602844], [-2.2924487590789795, 4.312804222106934, -2.2618319988250732], [3.7896251678466797, -1.8844324350357056, -2.933450222015381], [-3.081502676010132, 3.647277593612671, -0.7733865976333618], [-4.649782657623291, 4.8943352699279785, -0.929068386554718], [-2.787323236465454, 2.8065695762634277, -0.7449432015419006], [-2.8858046531677246, 2.614619731903076, -0.3325071334838867], [-2.9089934825897217, 3.721761465072632, -0.6932788491249084], [-1.2466763257980347, -2.5032124519348145, 3.9387223720550537], [-3.5818099975585938, 1.9775971174240112, 1.3040988445281982], [4.813675880432129, -4.429056167602539, -1.8497111797332764], [4.703062057495117, -4.983348369598389, -1.1262874603271484], [3.391815423965454, -1.92513906955719, -2.4861979484558105], [4.743210792541504, -3.8098177909851074, -2.3822884559631348], [1.3608529567718506, 1.7001540660858154, -3.769519090652466], [-2.704406261444092, 3.1107382774353027, -0.8598203659057617], [3.3055546283721924, -4.204056262969971, -0.2745525538921356], [-3.423426866531372, 3.865142345428467, -0.7687368988990784], [-2.763712167739868, 1.8254687786102295, 1.1782479286193848], [2.388505458831787, -3.5960421562194824, 2.022203207015991], [-3.117144823074341, 4.718738555908203, -2.3732190132141113], [-3.469825029373169, 3.464721441268921, -0.7971345782279968], [0.5947580337524414, -2.6771044731140137, 1.5377066135406494], [-0.7890896797180176, -3.7835171222686768, 4.960393905639648], [-4.392874717712402, 2.0057318210601807, 1.8945916891098022], [-0.6845875382423401, -2.763946056365967, 3.701881170272827], [-1.696112036705017, 1.1609615087509155, 0.1185728907585144], [3.0865044593811035, -1.5658291578292847, -2.5076730251312256], [-2.7974281311035156, 2.2013566493988037, 0.4537680149078369], [-1.145713448524475, -3.820341110229492, 5.309962272644043], [0.06576190143823624, -4.309412002563477, 3.7588441371917725], [-3.420776605606079, 3.465131998062134, -0.9167659878730774], [-1.0463238954544067, -2.680816173553467, 4.052125453948975], [-1.041666030883789, -3.5777945518493652, 5.043939113616943], [-1.5118663311004639, 0.09645269811153412, 0.7781180143356323], [-0.4772232174873352, -4.322373390197754, 5.392306327819824], [-2.018988847732544, -0.3880302608013153, 2.1554696559906006], [0.7292843461036682, -4.735560894012451, 4.784895420074463], [3.059682607650757, -1.6166294813156128, -2.341982126235962], [-3.6303439140319824, 1.393042802810669, 1.6942970752716064], [-3.8197507858276367, 2.0683302879333496, 1.1447062492370605], [-0.018607117235660553, -4.016173362731934, 3.632422685623169], [0.026361815631389618, -4.212613582611084, 4.0790205001831055], [5.30935001373291, -6.39693021774292, -0.9203916788101196], [0.5697996020317078, 1.9252701997756958, -3.032991647720337], [1.2747900485992432, -5.225541591644287, 4.4563422203063965], [-3.6139943599700928, 3.527921199798584, -0.5962279438972473], [-3.3522939682006836, 2.8912529945373535, -0.028556454926729202], [-3.543116807937622, 1.4452228546142578, 1.6696608066558838], [-2.6762616634368896, -2.0958175659179688, 4.81825065612793], [1.4414303302764893, 1.072089433670044, -3.454210042953491], [-3.721996545791626, 1.527314305305481, 1.5937550067901611], [0.4386424422264099, -3.8276586532592773, 3.2786219120025635], [1.682273030281067, -5.2651262283325195, 3.2364003658294678], [-2.1632344722747803, 2.4695322513580322, -1.3088126182556152], [-0.12038510292768478, 1.3388774394989014, -1.5793826580047607], [-2.777580738067627, -0.3269375264644623, 2.800750732421875], [-2.2056210041046143, 3.617356538772583, -2.078941583633423], [4.2860002517700195, -4.755394458770752, -0.7832605242729187], [-0.3068527579307556, -3.8729543685913086, 3.205085515975952], [-3.2582480907440186, 4.371552467346191, -1.7725365161895752], [-3.136218309402466, 4.225679874420166, -1.7446513175964355], [-2.597193956375122, -0.48817142844200134, 2.6858060359954834], [-0.6965997219085693, -0.9135539531707764, 1.6479933261871338], [-2.5590286254882812, 2.2375500202178955, 0.21069717407226562], [-2.324981451034546, -1.924062967300415, 4.340303421020508], [-3.3452188968658447, -0.5544508695602417, 3.9032580852508545], [1.8772313594818115, -2.8614187240600586, 0.3023996651172638], [-3.7276735305786133, 0.6403717994689941, 2.6789677143096924], [2.6233251094818115, -2.49056339263916, 0.47062045335769653], [3.985856771469116, -6.070993423461914, 2.3281614780426025], [-0.6684852838516235, -3.7723937034606934, 4.335316181182861], [0.5974052548408508, -2.7369277477264404, 2.8061206340789795], [-2.4750945568084717, -1.155892014503479, 2.898655414581299], [-2.8326783180236816, 0.5649417638778687, 1.9834778308868408], [-0.8376985788345337, -1.490079641342163, 1.696985125541687], [-4.167252540588379, 2.3880763053894043, 1.2858104705810547], [1.3607553243637085, -4.462399482727051, 3.4479990005493164], [3.0841591358184814, 0.5711961984634399, -4.5279316902160645], [1.2321643829345703, -0.8257490396499634, -0.014770615845918655], [-2.253554105758667, 0.6137901544570923, 1.0358402729034424], [-1.699886679649353, -0.7082880735397339, 2.5120537281036377], [-3.262108087539673, 3.8787002563476562, -1.045751690864563], [1.3175156116485596, -3.8275370597839355, 3.488093137741089], [-2.6937525272369385, -2.0804715156555176, 4.646024703979492], [4.945065498352051, -3.1854910850524902, -3.0793864727020264], [-2.7071759700775146, 3.4107346534729004, -1.207397699356079], [-2.5816750526428223, 4.08125638961792, -2.2716853618621826], [-1.5178292989730835, 2.7191648483276367, -1.7325870990753174], [-3.4626095294952393, 3.3196001052856445, -0.4596750736236572], [-3.9164421558380127, 4.594306468963623, -1.2664601802825928], [-1.5465400218963623, 4.007824420928955, -3.3005263805389404], [-0.15617522597312927, -3.0425119400024414, 3.3157103061676025], [2.4560186862945557, -3.210127115249634, -0.3704841434955597], [3.6377651691436768, -1.804827332496643, -2.848626136779785], [-2.083430051803589, -1.6398552656173706, 3.8227145671844482], [-0.3436908721923828, -3.203217029571533, 3.3590478897094727], [2.7958028316497803, -3.6168274879455566, 2.620793104171753], [1.8200734853744507, -2.2456953525543213, -0.584899365901947], [-2.783263921737671, 2.4619300365448, 0.06572778522968292], [2.3425509929656982, -1.2679214477539062, -1.982856035232544], [-4.807068347930908, 4.254700183868408, -0.3108062446117401], [-2.1790645122528076, -0.16049537062644958, 1.8741899728775024], [0.1737430989742279, -3.0489659309387207, 2.525416135787964], [-0.42275702953338623, 1.4503464698791504, -1.9304003715515137], [3.2450950145721436, -3.465792179107666, -0.16821034252643585], [3.2557990550994873, -3.6498966217041016, -0.857190728187561], [-2.3479065895080566, 3.930938720703125, -2.5044825077056885], [4.228767395019531, -2.4877212047576904, -2.855144500732422], [-3.00240421295166, 3.170098304748535, -0.2800675630569458], [-4.025135517120361, 1.8422038555145264, 1.621367335319519], [4.6995768547058105, -4.101187705993652, -2.0713393688201904], [-4.433449745178223, 1.8943837881088257, 2.024118185043335], [0.16758987307548523, -4.500940799713135, 4.783435821533203], [2.5821073055267334, -3.4815444946289062, -0.23458917438983917], [4.079311370849609, -3.479041337966919, -1.2438654899597168], [1.9155080318450928, 0.48024648427963257, -3.1660068035125732], [3.0540921688079834, -1.6006368398666382, -2.4409072399139404], [0.5161333680152893, 2.060019016265869, -3.027327537536621], [-0.04093208163976669, -0.8975013494491577, 0.23216065764427185], [-3.6009156703948975, 3.696737051010132, -0.6251007914543152], [2.3416717052459717, -4.27114725112915, 3.4009416103363037], [-3.60776948928833, 2.877368450164795, 0.013076435774564743], [1.369355320930481, 2.261906147003174, -4.458414554595947], [-2.072063684463501, 3.323195457458496, -1.237675666809082], [2.9377408027648926, -5.79131555557251, 3.569394111633301], [-2.9139320850372314, 4.543653964996338, -2.131298780441284], [4.537746429443359, -3.83783221244812, -1.9814921617507935], [-1.4400615692138672, -1.6750266551971436, 3.229771137237549], [-3.40564227104187, 3.875818967819214, -1.0272916555404663], [4.409876823425293, -3.8011794090270996, -1.9777902364730835], [0.17500650882720947, -5.418333053588867, 5.757044315338135], [3.7367959022521973, -5.260535717010498, 0.5155729055404663], [1.7030065059661865, -1.7661582231521606, -1.039902925491333], [-2.2171459197998047, 2.244361639022827, -0.7974951863288879], [-3.752876043319702, 4.721541881561279, -1.6923747062683105], [-3.253774404525757, 2.657689332962036, -0.04642711952328682], [-3.859835624694824, 4.228851795196533, -1.0539360046386719], [-4.638017177581787, 4.2208170890808105, -0.07017861306667328], [-2.3076093196868896, -2.309034585952759, 5.064405918121338], [3.690092086791992, -3.9908101558685303, -0.9741600751876831], [3.4555001258850098, -1.376602292060852, -2.656818389892578], [-2.6451051235198975, 1.2732115983963013, 0.8271182775497437], [-1.4288517236709595, 0.3904184401035309, 0.31661084294319153], [-3.554435968399048, 3.7026586532592773, -0.7542474269866943], [-2.33581805229187, 4.703989505767822, -3.1249969005584717], [-2.554399251937866, 2.7564356327056885, -1.2456187009811401], [3.498347520828247, -2.3121562004089355, -2.1939728260040283], [-0.18948706984519958, -3.451101779937744, 3.932371139526367], [-3.5445058345794678, 3.7172200679779053, -1.0674892663955688], [-2.231809377670288, -1.3391870260238647, 3.4161455631256104], [3.9778950214385986, -3.9139492511749268, -1.5403318405151367], [-3.7723681926727295, 4.190382480621338, -1.0892689228057861], [0.20783010125160217, 0.5690485239028931, -1.6014013290405273], [4.248908996582031, -3.42073917388916, -2.2046213150024414], [-2.094651460647583, -0.6485955715179443, 2.488715887069702], [5.184595584869385, -3.75386905670166, -2.4512979984283447], [3.0877110958099365, -0.44912445545196533, -3.4826300144195557], [-0.6391885280609131, -0.6030998229980469, 0.7847579121589661], [-3.3880977630615234, 2.958956480026245, 0.02730834111571312], [0.8982648253440857, -4.15437650680542, 3.5354995727539062], [-3.4040367603302, 2.2124931812286377, 0.506083071231842], [-0.8591812252998352, -3.3368735313415527, 3.890887498855591], [-2.0827958583831787, -1.0966547727584839, 2.8697550296783447], [-2.440426826477051, 3.6697723865509033, -1.8608932495117188], [3.41139817237854, -4.777912616729736, 0.010986130684614182], [0.06553337723016739, -3.0575079917907715, 3.147472858428955], [-3.0029022693634033, 3.4807231426239014, -1.0108121633529663], [2.2916152477264404, -0.5643863677978516, -2.610459089279175], [1.5061577558517456, -4.2881598472595215, 3.025817632675171], [-3.7591559886932373, 3.8312273025512695, -0.7205011248588562], [-2.668360471725464, -0.391838014125824, 2.768956422805786], [1.6733570098876953, -1.8287729024887085, 1.09269118309021], [-1.158791184425354, -0.2797103822231293, 1.1042296886444092], [-4.449034690856934, 4.480572700500488, -0.8875172734260559], [2.7823233604431152, -0.7235516309738159, -3.0065581798553467], [-1.8375709056854248, -0.2283187210559845, 2.1704909801483154], [-3.701441526412964, 0.8233911991119385, 2.5647196769714355], [4.198041915893555, -4.2307915687561035, -1.448129653930664], [-2.477647304534912, 1.1442049741744995, 1.0490070581436157], [0.6405749320983887, -0.26849034428596497, -1.005531907081604], [-3.1623952388763428, 5.689932346343994, -3.246803045272827], [-2.2632460594177246, 3.193596839904785, -1.5982615947723389], [4.423673629760742, -6.39382266998291, 0.6064264178276062], [-3.2559781074523926, 0.5975958108901978, 2.366567373275757], [-1.6137253046035767, 3.1298370361328125, -2.210602045059204], [3.6500751972198486, -3.4093029499053955, -1.4356231689453125], [-3.361042022705078, 5.412353992462158, -2.718832492828369], [-1.8368315696716309, -1.2217377424240112, 2.4565794467926025], [0.9202986359596252, 2.9510250091552734, -4.442007541656494], [-2.930121898651123, 4.001218318939209, -1.731273889541626], [3.506845235824585, -1.5555940866470337, -3.2020905017852783], [-2.032242774963379, 3.214853048324585, -1.6007354259490967], [2.5434517860412598, -0.9700827598571777, -2.596648931503296], [3.433701753616333, -2.827296257019043, -1.673352837562561], [-4.329089164733887, 5.068602085113525, -1.2975261211395264], [2.761899709701538, -0.6537826061248779, -2.9125850200653076], [-4.158487796783447, 2.901322364807129, 0.5515438914299011], [4.197978973388672, -2.5709075927734375, -2.7394139766693115], [-1.8779610395431519, -2.3425676822662354, 4.023349761962891], [-3.4814093112945557, 3.4746904373168945, -0.3791079521179199], [2.718696355819702, 0.25030723214149475, -3.7948155403137207], [3.8840532302856445, -4.5647196769714355, 2.140845537185669], [-1.6092404127120972, -1.6538256406784058, 2.7176949977874756], [-3.496548891067505, 3.472853899002075, -0.21841555833816528], [-3.9302170276641846, 2.393251419067383, 1.0419483184814453], [-2.622530698776245, -0.6003999710083008, 3.0912058353424072], [3.164372205734253, -0.09045848250389099, -4.184596538543701], [2.039994478225708, -3.497830390930176, 0.376714825630188], [4.381139755249023, -4.334621906280518, -1.4255120754241943], [-0.4066411852836609, -2.085352897644043, 2.173004388809204], [3.3142096996307373, -1.22608482837677, -2.729511022567749], [-3.1930925846099854, 3.3330211639404297, -0.8524422645568848], [-3.563023805618286, 4.737417697906494, -1.9137232303619385], [5.630599021911621, -6.868680953979492, -0.9726651310920715], [-2.0749642848968506, 0.7905324697494507, 0.8723494410514832], [-0.29612821340560913, -4.402200222015381, 4.785266876220703], [-2.7662947177886963, 3.5769147872924805, -1.5781093835830688], [-1.6612154245376587, -1.967300534248352, 3.684828042984009], [-4.460475921630859, 4.166240215301514, -0.1081019937992096], [-2.6563608646392822, 1.548766016960144, 0.8611553311347961], [-3.2324230670928955, 3.7227683067321777, -1.3812992572784424], [-0.772857129573822, 3.7459218502044678, -3.375908136367798], [-2.172389268875122, -1.4711331129074097, 3.763105630874634], [-4.344864845275879, 1.6402497291564941, 2.196169137954712], [-2.9564924240112305, 4.194909572601318, -2.217879295349121], [-2.286895513534546, -1.01638662815094, 3.0454835891723633], [-0.5729179978370667, -1.3409456014633179, 1.727475643157959], [4.2192792892456055, -1.9016231298446655, -3.50244402885437], [-2.5700457096099854, 3.6519832611083984, -1.865243911743164], [4.572973251342773, -4.909734725952148, -1.0640935897827148], [2.1298458576202393, 0.3489386737346649, -3.4288084506988525], [4.6152849197387695, -5.2724809646606445, -0.7173999547958374], [3.131577730178833, -0.2042911946773529, -3.7565107345581055], [3.481262445449829, -1.3345638513565063, -3.240447759628296], [4.593405723571777, -5.3361406326293945, -0.6649079322814941], [5.055960178375244, -3.927060127258301, -0.8372215032577515], [-3.439460277557373, 3.801726818084717, -0.9176263213157654], [-1.7847760915756226, 3.046354293823242, -1.377612829208374], [2.6650145053863525, -2.9910659790039062, -0.842004120349884], [-4.083178520202637, 5.224941730499268, -1.8865602016448975], [-3.1943459510803223, 2.623105049133301, -0.133757084608078], [-3.275824785232544, 3.547685146331787, -1.0128350257873535], [2.059154987335205, -0.3839291036128998, -2.17924165725708], [1.4316421747207642, 3.0985398292541504, -5.133252143859863], [2.5375258922576904, -0.288844496011734, -3.49287486076355], [0.39369064569473267, -4.790640354156494, 4.880549907684326], [-3.727976083755493, 4.345181941986084, -1.223933219909668], [-1.4811344146728516, 0.8456089496612549, -0.03682954981923103], [4.679913520812988, -4.974454879760742, -1.1604653596878052], [4.594260215759277, -5.504946708679199, -0.4112051725387573], [-2.070502281188965, -2.4295730590820312, 4.478357791900635], [5.041559219360352, -4.759559154510498, -1.8325707912445068], [4.172231197357178, -4.336694717407227, -1.0376907587051392], [0.6354214549064636, -3.8765439987182617, 2.5083682537078857], [3.9097063541412354, -3.8398990631103516, -0.4126129150390625], [-1.3853118419647217, -1.4735711812973022, 2.5247604846954346], [-4.008224964141846, 2.5279316902160645, 0.9756105542182922], [-2.197939872741699, 1.6880251169204712, 0.5196049809455872], [-0.6905986070632935, 1.4134382009506226, -1.0570182800292969], [4.865669250488281, -6.002667427062988, -0.31808456778526306], [-3.6393063068389893, 4.742242336273193, -1.7970659732818604], [-1.3107471466064453, 3.3856277465820312, -2.3210947513580322], [-3.9924733638763428, 4.318408489227295, -0.9943759441375732], [1.3197059631347656, -3.8691399097442627, 3.5556516647338867], [-2.667609930038452, -1.5202971696853638, 4.054049015045166], [-3.3706867694854736, 4.572049617767334, -1.69207763671875], [-3.6182730197906494, 3.4543910026550293, -0.6847792267799377], [-0.31619152426719666, -1.6709939241409302, 0.9638161063194275], [-3.713785171508789, 3.965266704559326, -0.9566181302070618], [1.5947462320327759, -3.4086883068084717, 2.1293272972106934], [-0.5959917902946472, -4.573148250579834, 5.590395450592041], [-3.000765085220337, -1.0271679162979126, 4.071503162384033], [2.2043697834014893, 0.22008126974105835, -3.1138436794281006], [-1.8601900339126587, -2.5108885765075684, 4.557123184204102], [-3.115299701690674, 1.149302363395691, 1.5234202146530151], [-1.1988146305084229, 2.302100419998169, -1.7624553442001343], [-2.8406484127044678, 3.4096431732177734, -1.4360811710357666], [1.7794559001922607, -0.18664532899856567, -2.420525312423706], [5.235520839691162, -4.189469814300537, -2.6287388801574707], [2.1941115856170654, -2.144934892654419, 0.12993237376213074], [-0.15481054782867432, -0.7770947217941284, 1.2244927883148193], [4.018803119659424, -1.4545754194259644, -3.6059021949768066], [-3.0537822246551514, 1.0272427797317505, 1.3660309314727783], [-4.289786338806152, 2.955275297164917, 0.6057378053665161], [-4.249402046203613, 1.9241608381271362, 1.8575526475906372], [-3.5725057125091553, 1.8570598363876343, 1.5368437767028809], [-3.8974337577819824, 3.6680164337158203, -0.2977026700973511], [-2.704195737838745, 0.5702282190322876, 1.776283621788025], [-3.4282374382019043, 2.8996517658233643, -0.290709525346756], [1.646079659461975, -1.0962486267089844, -0.9929984211921692], [1.5666362047195435, -3.0337350368499756, 1.3552370071411133], [-2.484943151473999, -1.4991369247436523, 3.37721586227417], [-2.142526149749756, -0.4999622702598572, 2.365048408508301], [-1.9379299879074097, 3.5692548751831055, -2.046844959259033], [-1.691965103149414, -2.731898546218872, 4.528019428253174], [-3.5183539390563965, 3.0135724544525146, -0.17792049050331116], [2.0746912956237793, -0.28328558802604675, -2.815946102142334], [0.6414246559143066, -4.158529758453369, 3.5714895725250244], [-2.6510283946990967, 2.2005884647369385, -0.03246379271149635], [-0.16397953033447266, -2.5511298179626465, 1.9661004543304443], [3.2359893321990967, -0.5703569650650024, -3.524918794631958], [-3.8039700984954834, 5.737656116485596, -2.3857877254486084], [-2.8470890522003174, 2.7741551399230957, -0.7540260553359985], [-3.6524698734283447, 4.081361770629883, -1.205836296081543], [-3.0752251148223877, 3.594475507736206, -1.3840866088867188], [-3.285297393798828, 3.1439871788024902, -0.4207708239555359], [-3.2258379459381104, 3.1752843856811523, -0.46838468313217163], [-1.3576363325119019, -0.4996364414691925, 1.6803483963012695], [-1.5970607995986938, -1.6138246059417725, 3.201488733291626], [-3.6071054935455322, 4.363035678863525, -1.4013702869415283], [-0.42262497544288635, 1.693355679512024, -2.1368424892425537], [-2.6474711894989014, 1.759570837020874, 0.24732962250709534], [-4.011007308959961, 3.6873912811279297, -0.4498235881328583], [4.489989280700684, -2.9649271965026855, -2.833355188369751], [-2.310776948928833, 1.7807692289352417, -0.31616514921188354], [3.491436719894409, -2.302412271499634, -2.195390462875366], [-3.805217981338501, 3.352050304412842, -0.29165351390838623], [1.9091814756393433, -5.563436985015869, 4.266148090362549], [3.991508722305298, -1.8653390407562256, -3.143160820007324], [-4.8150177001953125, 4.7059454917907715, -0.6306611895561218], [-3.309133291244507, 1.9652494192123413, 0.8567851185798645], [-2.19913387298584, 2.9096810817718506, -1.2168606519699097], [1.3909560441970825, -5.509400844573975, 4.025796890258789], [-2.0300216674804688, -1.4187674522399902, 3.344406843185425], [0.28503701090812683, -3.0932559967041016, 2.7911996841430664], [-0.33637455105781555, -3.6827683448791504, 4.512446880340576], [-0.8086187839508057, 3.285335063934326, -3.302398920059204], [-3.844383716583252, 3.4757704734802246, -0.4475787281990051], [3.712135076522827, -2.724726676940918, -1.9098057746887207], [0.36529600620269775, -2.85714054107666, 2.699174165725708], [4.093341827392578, -2.9799747467041016, -2.449936866760254], [-3.28772234916687, 4.362697124481201, -1.9483377933502197], [-2.1428182125091553, -1.6841508150100708, 4.126682281494141], [0.5560998916625977, -2.062300205230713, 1.0337958335876465], [0.3446054756641388, -4.322251796722412, 4.087666034698486], [-3.064814805984497, 2.562276601791382, 0.08710718154907227], [-3.381793737411499, 5.534282207489014, -2.938237428665161], [-3.3274431228637695, 0.0437888503074646, 2.7528953552246094], [-1.5527681112289429, -0.6929739713668823, 1.8691446781158447], [-1.2704535722732544, -3.266460657119751, 4.047339916229248], [-2.824127197265625, 3.0014281272888184, -1.0718994140625], [-2.985271692276001, -0.02491205930709839, 2.7699291706085205], [4.016714572906494, -4.323645114898682, -0.8630685210227966], [-2.014782667160034, -2.079474449157715, 4.039836883544922], [-3.417982816696167, 1.3359860181808472, 1.480741024017334], [-1.3549879789352417, 0.7717751264572144, 0.22801536321640015], [-2.0563876628875732, 2.3823118209838867, -1.2423913478851318], [-1.2134472131729126, -0.5906596183776855, 1.5611217021942139], [4.191895484924316, -3.2713606357574463, -2.1928584575653076], [-1.6168081760406494, 3.6132583618164062, -2.2966182231903076], [-1.2392473220825195, 1.3995732069015503, -0.13926547765731812], [0.07541460543870926, -3.8361623287200928, 3.2293083667755127], [4.6185197830200195, -4.703200817108154, -1.3315997123718262], [2.9441850185394287, -0.8278496265411377, -3.0627920627593994], [1.0249425172805786, -4.230505466461182, 3.0373380184173584], [-3.6204285621643066, 1.4316972494125366, 1.7164864540100098], [-2.594146490097046, -1.2169324159622192, 3.6794402599334717], [0.2486874759197235, -4.772112846374512, 4.121852874755859], [-1.2210373878479004, 0.39660272002220154, 0.1103643923997879], [-0.369625061750412, -3.5578842163085938, 4.297179698944092], [-2.1412792205810547, 3.692014694213867, -2.114621162414551], [-2.9869160652160645, 1.7750118970870972, 0.5964502692222595], [0.7245537042617798, -4.6300435066223145, 3.9701015949249268], [-0.32639700174331665, -1.6048458814620972, 1.3873389959335327], [-1.1634842157363892, 2.2133874893188477, -1.6753010749816895], [-3.73600172996521, 3.4506611824035645, -0.18794335424900055], [4.830023765563965, -5.10158109664917, -1.2287511825561523], [-4.3567795753479, 3.93514084815979, -0.10744601488113403], [0.20410746335983276, -2.337308406829834, 1.172959566116333], [-0.628474771976471, -0.5795021057128906, 1.0754101276397705], [-0.48145079612731934, -4.709995746612549, 5.489589214324951], [-3.5013134479522705, 3.328305244445801, -0.6912106871604919], [-1.4995226860046387, -0.35162070393562317, 1.664814829826355], [-2.9180641174316406, 3.862502098083496, -1.5996301174163818], [-2.4096410274505615, 2.440216302871704, -0.7151634097099304], [2.4591457843780518, -0.568648099899292, -2.8612120151519775], [2.6565356254577637, -4.945104598999023, 1.1687403917312622], [-3.688497304916382, 4.167724132537842, -1.1657103300094604], [0.1343587040901184, 0.6813772916793823, -1.2522464990615845], [-2.3234331607818604, 1.7536276578903198, 0.06547953188419342], [-3.4805855751037598, 4.211432933807373, -0.8328935503959656], [-2.071852207183838, 2.1387016773223877, -0.6730356812477112], [-3.510319948196411, 4.095351696014404, -0.8630028367042542], [-3.218308210372925, 3.835029125213623, -1.4768314361572266], [-2.6871321201324463, 5.469438076019287, -3.350120782852173], [1.747878909111023, 1.3803291320800781, -3.981522798538208], [4.666008949279785, -5.91414213180542, -0.15460431575775146], [-3.5873076915740967, 4.456781387329102, -1.6249008178710938], [-2.4171130657196045, 3.3726437091827393, -1.028190016746521], [-2.9993302822113037, -0.6282429695129395, 3.6635706424713135], [-1.9887131452560425, 1.8358699083328247, -0.4516485929489136], [-2.869173288345337, 3.293736457824707, -1.3039076328277588], [4.109570503234863, -3.0113730430603027, -2.377760171890259], [-1.7840617895126343, 1.3977826833724976, 0.22933992743492126], [-2.0282142162323, 3.919645309448242, -2.445373296737671], [-3.256648540496826, -0.7848167419433594, 3.7356626987457275], [-4.360343933105469, 4.234585285186768, -0.5141007304191589], [2.237982988357544, 0.6509888172149658, -3.676515817642212], [-2.374293804168701, -1.5399178266525269, 3.9760639667510986], [3.9909355640411377, -2.3912320137023926, -2.784343719482422], [3.474313497543335, -0.029270321130752563, -4.613161563873291], [-2.0182619094848633, -2.9302451610565186, 5.1013336181640625], [-1.7616599798202515, 0.7786740064620972, 0.70100337266922], [1.3432224988937378, 1.3472791910171509, -3.4059641361236572], [-2.706005811691284, 2.1211533546447754, -0.0042031146585941315], [4.2810492515563965, -3.010213851928711, -2.4821059703826904], [-0.9056925773620605, -3.7897796630859375, 5.390908718109131], [-1.8604639768600464, -0.4888845384120941, 1.5971107482910156], [3.8650290966033936, -1.7763358354568481, -3.172654390335083], [4.66939640045166, -2.6254570484161377, -3.5264759063720703], [-3.2095401287078857, 3.882571220397949, -1.4556084871292114], [3.228302478790283, 0.13882800936698914, -4.385691165924072], [4.0569353103637695, -2.10623836517334, -3.0576741695404053], [-3.6609320640563965, 3.224155902862549, -0.2603912949562073], [-3.570049285888672, 1.0782819986343384, 2.0723354816436768], [-0.6740425229072571, 0.9405508041381836, -0.9213040471076965], [-3.471830129623413, 1.7711937427520752, 0.9205353856086731], [-2.359753370285034, -0.8385584354400635, 2.9783236980438232], [-1.7342520952224731, 2.777055025100708, -1.6744956970214844], [-3.0598855018615723, 2.570119857788086, -0.21480205655097961], [-3.0527031421661377, 4.9657721519470215, -2.6005804538726807], [-0.5835624933242798, 0.2811999022960663, -0.576786458492279], [-2.8355021476745605, 3.4529781341552734, -1.3249850273132324], [0.9508412480354309, 1.2478824853897095, -2.746431350708008], [4.807750225067139, -5.497072219848633, -0.7562240958213806], [2.657435417175293, -3.4951183795928955, -0.33116763830184937], [-2.9297382831573486, 2.53078556060791, 0.4760199785232544], [-1.7230026721954346, -3.1218411922454834, 5.0576043128967285], [2.9486215114593506, 0.18439613282680511, -4.193637371063232], [-0.8658257722854614, -3.2294955253601074, 4.154444217681885], [-0.8789491653442383, -3.4922895431518555, 4.056512355804443], [-3.2234222888946533, 3.6069397926330566, -1.0455219745635986], [1.8840354681015015, -0.6557168960571289, -2.0642783641815186], [-3.7052268981933594, 3.649590253829956, -0.4169059991836548], [-3.22918438911438, 3.9066662788391113, -1.323891282081604], [2.059709072113037, -3.0277597904205322, 1.5890662670135498], [4.408557415008545, -4.183928966522217, -1.4817085266113281], [-2.7057204246520996, 3.0005621910095215, -1.1868014335632324], [-2.382894277572632, -1.5917526483535767, 4.009937763214111], [0.28224968910217285, 2.170414447784424, -3.11759352684021], [4.5933837890625, -3.452946186065674, -2.5490028858184814], [-1.8622480630874634, -2.059234142303467, 4.0634026527404785], [-2.671128749847412, 3.7745046615600586, -1.9713258743286133], [-2.564281702041626, 2.4059643745422363, -0.19052647054195404], [3.330575704574585, -2.2055859565734863, -2.191716194152832], [4.178282737731934, -5.486574649810791, 0.056125055998563766], [3.529546022415161, -1.6449527740478516, -2.6706197261810303], [-1.8872309923171997, 2.6245903968811035, -0.9970065951347351], [4.286135196685791, -3.981254816055298, -1.5998698472976685], [3.9104957580566406, -1.4054030179977417, -3.7352592945098877], [4.176183223724365, -2.2346036434173584, -3.181401014328003], [3.008836507797241, -5.964040279388428, 3.7621302604675293], [-0.2102285623550415, -4.670232772827148, 5.0429511070251465], [0.9975146055221558, -3.31973934173584, 2.4223854541778564], [1.9239050149917603, 1.4158493280410767, -4.189721584320068], [-3.028637170791626, 3.8318870067596436, -1.2445874214172363], [-3.7043631076812744, 2.421579360961914, 0.7671301960945129], [-4.08418083190918, 3.6832571029663086, -0.5531253218650818], [-2.8330395221710205, 2.4288947582244873, -0.383735328912735], [-0.4851456880569458, -3.6282787322998047, 4.000792980194092], [-2.793842077255249, 0.9848374128341675, 1.3082095384597778], [3.9149553775787354, -1.4195865392684937, -3.7266652584075928], [2.642115592956543, -1.6245228052139282, -1.9628701210021973], [-1.8408313989639282, -1.6558414697647095, 3.644942045211792], [4.035104751586914, -3.8431015014648438, -1.4173576831817627], [-3.9925220012664795, 3.988044261932373, -0.48431849479675293], [-3.561992645263672, 4.232784748077393, -1.4408376216888428], [-0.3135068416595459, -4.366316795349121, 4.406829357147217], [1.467854619026184, -5.278176784515381, 4.394211292266846], [-1.771754264831543, 1.8422809839248657, -0.8087120056152344], [3.857163190841675, -0.675540566444397, -4.281404495239258], [-4.367775917053223, 5.3356733322143555, -1.7115426063537598], [-2.859100103378296, -0.7336298227310181, 3.3444983959198], [-0.8036048412322998, 1.5835108757019043, -1.6282159090042114], [-1.5890051126480103, -1.565365195274353, 3.242539644241333], [4.479167461395264, -5.0920233726501465, -0.7980887293815613], [4.204415321350098, -2.1728179454803467, -3.0328848361968994], [-2.246709108352661, 2.6665425300598145, -0.39912864565849304], [-1.6708966493606567, 3.594822406768799, -2.2363321781158447], [4.302999973297119, -4.3796234130859375, -1.1325181722640991], [-0.015714190900325775, -3.575188398361206, 3.149360418319702], [-0.10589797049760818, -2.8348941802978516, 2.356116533279419], [1.6800448894500732, -6.2122297286987305, 4.919832706451416], [3.3101298809051514, -1.8468421697616577, -2.478027820587158], [2.317124605178833, -0.6085433959960938, -2.591078042984009], [2.4395532608032227, -2.9129087924957275, -0.48710858821868896], [1.5341850519180298, -6.0195183753967285, 5.457686424255371], [-3.640291452407837, 3.756488800048828, -1.0851075649261475], [-3.7218339443206787, 2.5516066551208496, 0.5667206645011902], [4.454923629760742, -3.4822754859924316, -2.3038103580474854], [-3.136988401412964, 3.909005641937256, -1.7006497383117676], [-1.482878565788269, -2.0344128608703613, 3.5695250034332275], [-3.635894536972046, 4.792880535125732, -1.6266058683395386], [4.322683334350586, -4.635369777679443, -0.9951339364051819], [-3.0592141151428223, 0.6866976022720337, 2.009303092956543], [-3.731455087661743, 3.5953009128570557, -0.2921046316623688], [-2.6188931465148926, 2.08384370803833, -0.05715246871113777], [1.6865720748901367, -1.9482163190841675, -0.8928747773170471], [-1.951210856437683, -1.478161334991455, 3.709345579147339], [-3.3355114459991455, 5.572640419006348, -3.0016396045684814], [-3.089027166366577, 0.050654470920562744, 2.826507091522217], [-2.6663691997528076, 2.6528916358947754, -0.5655691623687744], [-3.7812211513519287, 3.2234275341033936, -0.05156828835606575], [0.6160454750061035, -0.975715160369873, -0.6257856488227844], [3.0748956203460693, -2.6205379962921143, -0.6418713927268982], [-2.7957005500793457, 3.1687259674072266, -1.2292697429656982], [2.676723003387451, -0.4775688350200653, -3.0770440101623535], [-1.8105902671813965, 1.2221150398254395, -0.5870605707168579], [-1.8138645887374878, 3.7623183727264404, -2.3898069858551025], [-0.7311102151870728, -1.5501998662948608, 2.03534197807312], [-0.34263691306114197, -1.4505656957626343, 2.551220178604126], [-1.7921037673950195, -0.5231224298477173, 2.1008031368255615], [-1.998813509941101, 3.915344715118408, -2.500742197036743], [-0.5349286198616028, -1.0967209339141846, 0.9577053189277649], [-3.6833906173706055, 1.1665986776351929, 2.0209944248199463], [4.078839302062988, -5.1923675537109375, -0.13218632340431213], [-3.6577627658843994, 2.852665901184082, 0.17016378045082092], [4.359428405761719, -2.4946694374084473, -3.1833789348602295], [-2.412135124206543, 2.472107410430908, -0.7660943865776062], [-2.6261401176452637, 1.3728524446487427, 0.9618398547172546], [-3.2878918647766113, 1.2631689310073853, 1.3082754611968994], [-2.0867373943328857, 2.535773277282715, -0.7148575186729431], [0.40207332372665405, 1.2235056161880493, -2.471581220626831], [-2.383524179458618, 0.8496754169464111, 0.7364116907119751], [-1.105946660041809, -0.16456568241119385, 0.9043657183647156], [3.4976894855499268, -2.3038930892944336, -2.2012202739715576], [-2.590911626815796, 2.9882049560546875, -0.9775534272193909], [-2.5532009601593018, 0.6138132810592651, 1.4494428634643555], [3.8322274684906006, -1.802252173423767, -3.104994058609009], [0.7944067716598511, 2.190713405609131, -3.426701545715332], [3.4770588874816895, -2.421464204788208, -1.6758301258087158], [-3.6451244354248047, 3.0713951587677, 0.1423998326063156], [-0.2723115086555481, -3.8719491958618164, 3.7225992679595947], [3.423616647720337, -2.2177274227142334, -2.158616304397583], [5.486546993255615, -6.41486930847168, -0.9950334429740906], [-1.6131662130355835, 3.6216723918914795, -2.6987264156341553], [3.696598529815674, -6.887149333953857, 3.919344186782837], [-3.8738908767700195, 4.325761795043945, -1.2250521183013916], [0.6027764081954956, -3.6232125759124756, 3.2812795639038086], [2.1848556995391846, 0.857223629951477, -3.3053863048553467], [-0.11458293348550797, -3.4130067825317383, 3.716419219970703], [-1.8362056016921997, 1.9473100900650024, -0.9564061164855957], [3.087724447250366, 0.866567850112915, -5.012980937957764], [-1.016927719116211, -2.9117493629455566, 4.084489345550537], [-3.8667404651641846, 2.929788112640381, 0.221887469291687], [3.875488519668579, -1.9294469356536865, -3.044092893600464], [-3.512057065963745, 0.906402587890625, 2.159348249435425], [-3.706418991088867, 2.581256866455078, 0.3177749812602997], [3.5870187282562256, -2.422333002090454, -2.228847026824951], [4.479661464691162, -4.298776149749756, -1.4692604541778564], [1.2716693878173828, 3.2552151679992676, -5.244587421417236], [5.593817710876465, -2.9193506240844727, -3.605811834335327], [-3.0159130096435547, 2.8925113677978516, -0.23223915696144104], [-2.0656282901763916, 0.8287721872329712, 0.5128152966499329], [2.5012409687042236, 0.41221287846565247, -3.8544540405273438], [1.181804895401001, -5.983086109161377, 5.268073558807373], [4.276982307434082, -4.807507514953613, -0.6837031245231628], [-1.976131796836853, 2.458718776702881, -0.9961559176445007], [-3.922319173812866, 3.862799644470215, -0.5715435743331909], [-1.506821632385254, -3.3706369400024414, 4.755826473236084], [-3.2893736362457275, 3.921234130859375, -1.4940152168273926], [-3.1917831897735596, 1.4022635221481323, 1.254691243171692], [-3.1584103107452393, -0.05559459328651428, 2.7941601276397705], [3.8258261680603027, -4.199979305267334, -0.8712918162345886], [3.0216221809387207, -5.287637710571289, 1.0816110372543335], [2.2795064449310303, -2.626152753829956, -1.0016640424728394], [3.8079946041107178, -1.5387731790542603, -3.4053635597229004], [-3.5649890899658203, 0.2768280804157257, 3.1277711391448975], [1.4786056280136108, -0.2747175097465515, -1.8684906959533691], [-3.538921356201172, 1.9298059940338135, 0.8335659503936768], [-2.933835506439209, 4.468379497528076, -2.0375888347625732], [-3.369065523147583, 3.693394899368286, -1.1711146831512451], [-0.4509414732456207, -3.7209115028381348, 4.380622386932373], [-2.3404109477996826, -1.0789791345596313, 3.334834575653076], [2.2551679611206055, -0.005067259073257446, -3.1820647716522217], [-4.2138214111328125, 3.7014522552490234, -0.12178263068199158], [4.076618671417236, -0.8770623207092285, -4.477832317352295], [-0.38278859853744507, 1.5896536111831665, -1.8013889789581299], [-3.867844820022583, 4.454664707183838, -1.533414363861084], [2.4942824840545654, -3.652106761932373, 0.49602317810058594], [-0.040470026433467865, -2.4703805446624756, 1.540162444114685], [3.8788321018218994, -1.633503794670105, -3.3978216648101807], [4.112574577331543, -4.049886703491211, -1.1191518306732178], [5.289491653442383, -4.730670928955078, -2.3675243854522705], [-2.946045160293579, 2.2221059799194336, 0.062312256544828415], [-0.7076122760772705, -1.4808218479156494, 1.3532449007034302], [3.020810604095459, 0.6044551134109497, -4.560389995574951], [4.075654029846191, -1.309022307395935, -4.0659260749816895], [-3.452610969543457, 3.479306221008301, -0.4681577682495117], [-0.8387706279754639, -3.8287692070007324, 5.037281513214111], [2.4701642990112305, -0.7803130149841309, -2.723021984100342], [-1.8557509183883667, 0.4168532192707062, 1.1177823543548584], [2.660993814468384, 0.32850298285484314, -3.80830717086792], [2.517648220062256, -1.4059361219406128, -1.9927895069122314], [-3.975553512573242, 3.026789665222168, 0.39010563492774963], [-3.196944236755371, 1.541876196861267, 0.9584961533546448], [-2.5511105060577393, 0.28592774271965027, 2.081434965133667], [-2.6012890338897705, 2.4185705184936523, -0.4821714758872986], [4.073530197143555, -2.0676934719085693, -3.226966619491577], [4.725581169128418, -5.644023418426514, -0.4810260832309723], [1.7969001531600952, 0.01759408414363861, -2.7888455390930176], [-2.7056994438171387, 3.7062439918518066, -1.8114361763000488], [-2.7109951972961426, 0.670053243637085, 1.5240408182144165], [0.7439612150192261, -3.803454875946045, 2.3803226947784424], [-1.1774579286575317, -1.7980858087539673, 2.1816327571868896], [3.4915664196014404, -3.4244089126586914, -1.1463980674743652], [-2.448047161102295, -0.5276166200637817, 2.7234723567962646], [-3.055201292037964, 3.0062220096588135, -0.7065393328666687], [-2.3211190700531006, 2.266017436981201, -0.49929511547088623], [-2.7872846126556396, -0.7335953712463379, 3.4602739810943604], [-2.618191957473755, 2.5851240158081055, -0.654704749584198], [2.1245903968811035, 1.08738112449646, -4.2455058097839355], [-3.587318181991577, 4.928153038024902, -1.7049635648727417], [3.493426561355591, -2.0009093284606934, -2.6109580993652344], [3.995468854904175, -3.2521448135375977, -2.1389217376708984], [1.9057271480560303, -0.7827473878860474, -1.8151856660842896], [0.07730572670698166, -3.399169445037842, 3.782973051071167], [-1.293434977531433, -3.4436912536621094, 4.283424377441406], [-0.9442703127861023, -3.0587878227233887, 4.466058254241943], [-3.0341198444366455, 4.041466236114502, -1.699350118637085], [3.9297518730163574, -5.761438846588135, 0.5764918923377991], [-1.7163909673690796, 0.04963594675064087, 0.7875795960426331], [2.1789698600769043, -2.384659767150879, 0.362712562084198], [2.026327610015869, -4.985548973083496, 3.1501119136810303], [-2.2466580867767334, -0.4388682544231415, 2.4389383792877197], [-0.00755947083234787, -0.7742955684661865, 0.7166165709495544], [-1.792382001876831, -2.098727226257324, 3.9995110034942627], [-1.5007669925689697, -1.4077593088150024, 2.6542046070098877], [3.162921190261841, 0.22959068417549133, -4.49132776260376], [0.021904535591602325, -0.7321277856826782, 0.07334461808204651], [-2.06484055519104, 0.5027049779891968, 1.0338820219039917], [5.500949859619141, -6.133109092712402, -1.249396800994873], [-2.4059176445007324, -1.2355250120162964, 3.424837350845337], [3.0208065509796143, -0.940524697303772, -3.0271682739257812], [-3.9654531478881836, 3.348353862762451, 0.3107258975505829], [-0.44144320487976074, 0.6896785497665405, -0.8661689162254333], [-3.069009780883789, -0.7420514822006226, 3.5891811847686768], [0.933988094329834, 0.3639508783817291, -2.100412607192993], [0.3662233352661133, 2.282766819000244, -3.370408535003662], [-2.2537667751312256, 2.816413402557373, -1.2618333101272583], [1.5854288339614868, -1.805649757385254, 0.27734649181365967], [-2.3792433738708496, -1.6611244678497314, 4.157478332519531], [1.9934245347976685, -0.7771886587142944, -2.178110122680664], [4.125226020812988, -1.8939203023910522, -3.264688491821289], [-1.8781732320785522, -0.8326116800308228, 2.478393316268921], [-1.3708816766738892, 2.787504196166992, -1.323699951171875], [0.5269047021865845, -3.7623000144958496, 2.2629637718200684], [-3.615999460220337, 3.4637579917907715, -0.553632915019989], [-3.164383888244629, 2.8430798053741455, 0.16296140849590302], [-2.6772584915161133, 3.507021427154541, -1.500239610671997], [2.702044725418091, 1.2489224672317505, -4.8247294425964355], [-3.2622275352478027, 4.686550617218018, -2.310197591781616], [3.259723424911499, -3.623887538909912, -0.9301137328147888], [-1.072922945022583, -3.415818214416504, 5.007752895355225], [-1.9028797149658203, 0.25938960909843445, 1.133131742477417], [-4.008488655090332, 5.014264106750488, -1.8528178930282593], [1.2679108381271362, -4.406580924987793, 4.128549575805664], [1.7707757949829102, 1.9832884073257446, -4.539668083190918], [-1.5217188596725464, -1.9403411149978638, 3.4692440032958984], [-1.3215252161026, -1.588057279586792, 2.1973533630371094], [3.44150447845459, -1.5253559350967407, -3.027578592300415], [-2.0301764011383057, 1.5531338453292847, -0.2221468985080719], [-1.5587342977523804, 1.2040096521377563, 0.26246291399002075], [-0.10171585530042648, 3.616090774536133, -4.132658004760742], [0.44923847913742065, -2.8025832176208496, 2.3215534687042236], [-2.477020025253296, 2.591712236404419, -0.45663297176361084], [1.5293408632278442, -3.5773940086364746, 2.5567405223846436], [-1.1113227605819702, -1.7015045881271362, 2.837733507156372], [5.5229597091674805, -5.543076992034912, -1.7845011949539185], [-0.01738666743040085, 2.163011074066162, -3.1884429454803467], [-2.309192657470703, 3.3189287185668945, -1.59749436378479], [-2.9888203144073486, 4.134685516357422, -1.9611796140670776], [-1.2310742139816284, -3.0310702323913574, 3.6771321296691895], [-2.945019245147705, 3.5875749588012695, -1.3018121719360352], [3.977306604385376, -1.9108814001083374, -3.3030543327331543], [-1.3727827072143555, -0.027988068759441376, 0.7466414570808411], [0.40205612778663635, -4.37501859664917, 4.614009380340576], [1.866730809211731, 1.1367361545562744, -3.9373536109924316], [-0.9769524931907654, -1.5176571607589722, 2.285766363143921], [-1.911085844039917, 0.1069251149892807, 1.1976008415222168], [-2.6747939586639404, 0.06803855299949646, 2.2563459873199463], [-3.377335786819458, 1.4305545091629028, 1.265107274055481], [4.4403276443481445, -5.551649570465088, -0.18450242280960083], [4.257009506225586, -5.49840784072876, -0.18271790444850922], [-3.742913007736206, 5.199149131774902, -1.646500587463379], [1.8825241327285767, 1.9274182319641113, -4.688957214355469], [-0.5676912069320679, 0.12758034467697144, 0.7157896161079407], [-1.9531961679458618, 0.7289032936096191, 0.8580505847930908], [-3.1352672576904297, 3.8023757934570312, -1.4968749284744263], [-0.852976381778717, -2.52213716506958, 2.2742884159088135], [3.903245449066162, -3.8269596099853516, -1.309165358543396], [-4.064190864562988, 2.279892683029175, 1.5678431987762451], [5.863600254058838, -6.858465194702148, -1.110355019569397], [-2.883432626724243, 3.2690863609313965, -1.0509178638458252], [-4.108057022094727, 3.674077033996582, -0.1752857118844986], [-2.9106967449188232, 3.3302621841430664, -0.8329893946647644], [3.38014817237854, -5.772195339202881, 4.065186023712158], [4.357292175292969, -4.548013210296631, -1.2741172313690186], [2.664494752883911, -4.070115089416504, 0.1394941359758377], [4.470006465911865, -4.7392048835754395, -1.0714890956878662], [-3.2229433059692383, 1.5536810159683228, 1.1342618465423584], [-0.2948596775531769, -0.00482477992773056, 0.03803516551852226], [-2.855672597885132, -0.7071354389190674, 3.2019002437591553], [-3.461690664291382, 3.5238962173461914, -0.7419278025627136], [-2.961254596710205, 2.456451416015625, -0.4301678538322449], [-2.983564853668213, 4.415125846862793, -2.0316362380981445], [5.0976362228393555, -5.414430141448975, -1.3045731782913208], [-2.239563226699829, 0.2396286129951477, 1.5276002883911133], [-0.1961372196674347, -4.447189807891846, 4.4759392738342285], [-1.9696658849716187, 3.1673507690429688, -1.6142730712890625], [0.28647252917289734, -1.9470914602279663, 0.810127317905426], [-1.7919672727584839, -2.2123656272888184, 4.074692249298096], [1.362934947013855, -1.92231285572052, 0.4247167408466339], [3.6389527320861816, -1.6612927913665771, -3.2552850246429443], [4.156565189361572, -3.3245110511779785, -1.9973770380020142], [-1.8232321739196777, 1.8815691471099854, -0.8021864295005798], [-3.239309310913086, 4.051004886627197, -1.456870436668396], [1.42429518699646, 2.093179225921631, -4.385160446166992], [0.7600654363632202, -1.4066870212554932, 0.5922217965126038], [-4.114243507385254, 4.907844066619873, -1.5914161205291748], [2.1612818241119385, -1.9990886449813843, 0.02310001477599144], [-2.1119372844696045, 3.2457027435302734, -2.154205083847046], [-1.1680889129638672, -3.0152883529663086, 4.3321146965026855], [3.1326117515563965, -1.6756033897399902, -2.5829169750213623], [-2.58137583732605, 3.2088613510131836, -0.9223278164863586], [-3.501451015472412, 0.18835777044296265, 2.8196918964385986], [-3.4758613109588623, 4.025006294250488, -0.9618891477584839], [3.9479832649230957, -1.9070881605148315, -2.99297833442688], [-1.3602280616760254, -1.4863955974578857, 2.7524325847625732], [-1.7598501443862915, -0.7105801105499268, 2.369330644607544], [-4.067253112792969, 4.2327985763549805, -0.8625767827033997], [-2.3409454822540283, -0.40138283371925354, 2.3770790100097656], [-1.8958200216293335, -0.40954241156578064, 1.8922934532165527], [-1.5096384286880493, -3.4488162994384766, 4.720508575439453], [0.38356244564056396, -5.05194616317749, 5.2937116622924805], [-3.7809078693389893, 4.401740550994873, -1.2179440259933472], [4.668143272399902, -4.658660411834717, -1.353959083557129], [-4.775262355804443, 4.308243751525879, -0.29836875200271606], [-1.4530564546585083, -3.2279677391052246, 4.9268107414245605], [-3.198993682861328, 3.88061261177063, -1.200852870941162], [4.564154624938965, -2.5190558433532715, -3.1818559169769287], [-2.681626796722412, 3.695134162902832, -1.5177850723266602], [4.0777435302734375, -2.4706668853759766, -2.9050018787384033], [-2.967198133468628, 0.43283119797706604, 2.3853185176849365], [-0.8298019766807556, -2.8862547874450684, 3.9068527221679688], [-1.0979211330413818, 2.9997072219848633, -2.5005946159362793], [0.646949052810669, -3.306610107421875, 2.763380765914917], [-4.269994258880615, 3.5374114513397217, 0.00602639839053154], [0.37596452236175537, 2.3861372470855713, -3.1719472408294678], [-1.266048550605774, -1.02755868434906, 1.7756179571151733], [-3.599229335784912, 3.856658697128296, -0.8737655282020569], [-3.1435275077819824, -1.8522799015045166, 5.260696887969971], [-2.8013219833374023, 2.6941986083984375, -0.5256097316741943], [0.009991459548473358, -4.785348415374756, 4.542831897735596], [2.209636926651001, -1.5037928819656372, -1.5891860723495483], [-2.8955812454223633, 3.078138828277588, -0.780665397644043], [-1.4127483367919922, 0.17765182256698608, 1.4876408576965332], [5.618073463439941, -6.355044841766357, -1.2964695692062378], [-3.9996144771575928, 5.121715068817139, -1.8441224098205566], [1.373652696609497, -0.3178570568561554, -1.2320778369903564], [-1.7599014043807983, -2.3660125732421875, 3.4439916610717773], [4.997645378112793, -3.2833352088928223, -0.49045687913894653], [-2.152089834213257, 3.258052110671997, -1.694885015487671], [3.3200576305389404, 0.4366689622402191, -4.707952976226807], [-2.977447032928467, 0.7046371698379517, 1.8767602443695068], [-1.105894923210144, -0.07636010646820068, 0.8899580836296082], [0.6204074025154114, -3.414827346801758, 1.9317679405212402], [-3.249986410140991, 4.322722911834717, -1.8609037399291992], [-2.301889657974243, 3.223414421081543, -1.6939024925231934], [4.921388626098633, -6.148370265960693, -0.2542029023170471], [-3.340888738632202, 4.454066753387451, -1.912189245223999], [0.24397629499435425, -3.931525707244873, 2.7760555744171143], [-2.822657823562622, 4.953525066375732, -3.08134388923645], [4.628153324127197, -3.5055088996887207, -2.4793732166290283], [-4.370487213134766, 4.968926906585693, -1.451042890548706], [-3.350811004638672, 5.917349338531494, -3.0751430988311768], [2.961719274520874, 0.5834649801254272, -4.5513997077941895], [0.9292162656784058, -3.3485307693481445, 2.8748695850372314], [2.995523452758789, 0.20941632986068726, -4.1409831047058105], [3.323822021484375, -1.2336081266403198, -2.737290143966675], [-3.9205548763275146, 3.2916715145111084, -0.16646066308021545], [0.5925003290176392, -3.649679660797119, 2.1358187198638916], [2.62727427482605, -5.198242664337158, 3.8920717239379883], [5.062674522399902, -5.848793029785156, -0.7692499160766602], [-3.1401703357696533, 4.501669406890869, -2.0372369289398193], [-2.4186127185821533, 3.4961252212524414, -1.5543283224105835], [-1.6390856504440308, -2.382189989089966, 3.281717300415039], [-2.1637396812438965, 2.0715150833129883, -0.5739659667015076], [-0.6563302874565125, -2.767651081085205, 3.653012990951538], [3.3250584602355957, 0.4242001175880432, -4.701588153839111], [-3.866217851638794, 1.0127922296524048, 2.387962818145752], [3.079956293106079, -1.5650548934936523, -2.501967668533325], [-1.80394446849823, 0.31767308712005615, 1.0770988464355469], [-3.276944398880005, 1.1444880962371826, 1.76811683177948], [2.2353994846343994, -6.704784870147705, 5.173450469970703], [2.490457773208618, -5.20177698135376, 3.652907371520996], [4.703487873077393, -4.989818096160889, -1.1206940412521362], [-1.6351642608642578, -0.584693193435669, 1.886228084564209], [0.13894414901733398, 0.4039609730243683, -1.426975965499878], [-0.055598728358745575, -0.29490020871162415, -0.4929322898387909], [1.16741144657135, -2.9392547607421875, 2.2248785495758057], [-0.29998213052749634, -3.4861888885498047, 3.107924222946167], [-0.4692681133747101, -2.940889358520508, 3.425609588623047], [-2.437925100326538, 4.221028804779053, -2.3176727294921875], [-1.6124876737594604, 0.2759989798069, 0.7817587852478027], [-1.0761483907699585, -0.9626374244689941, 1.992889642715454], [3.644965171813965, -1.7444838285446167, -3.113086462020874], [4.99990177154541, -7.6213297843933105, 4.404533863067627], [-2.931039333343506, 3.738985538482666, -1.4025936126708984], [-4.477429389953613, 3.138036012649536, 0.6462450623512268], [-0.0701327696442604, -3.666943073272705, 3.622905969619751], [-1.005058765411377, -1.6054528951644897, 2.7695305347442627], [-0.06527837365865707, -3.9223217964172363, 4.358847618103027], [3.464686155319214, -2.007747173309326, -2.63740611076355], [4.504316329956055, -4.731478691101074, -1.2140207290649414], [0.3548949360847473, -3.476945161819458, 3.3629138469696045], [-0.7940375804901123, 2.359650135040283, -2.3253495693206787], [3.4214086532592773, -3.6001696586608887, -0.8692899942398071], [-4.201375484466553, 4.103187084197998, -0.713758111000061], [-3.2692997455596924, 2.786868095397949, 0.0722394585609436], [4.438241004943848, -2.736510992050171, -2.9815399646759033], [-2.810255289077759, 0.9843523502349854, 1.575897455215454], [1.8880811929702759, 1.4995416402816772, -3.9768223762512207], [-2.085480213165283, -0.6232367753982544, 1.9145166873931885], [4.017269611358643, -1.4523022174835205, -3.606689214706421], [-3.167267084121704, 2.7896175384521484, -0.5242426991462708], [-3.5038979053497314, 3.911616563796997, -1.0875298976898193], [-3.325402021408081, 3.7781128883361816, -0.904039204120636], [0.382893443107605, -3.6564059257507324, 2.917401075363159], [-2.6212265491485596, 3.618490219116211, -1.4032111167907715], [0.5746628046035767, -1.1960759162902832, 0.5595148205757141], [-2.2984108924865723, -1.1650564670562744, 3.649275779724121], [-2.326279878616333, 3.6221890449523926, -1.880878210067749], [-0.8450889587402344, 0.6109178066253662, -0.7536560297012329], [-1.2702736854553223, 2.414645195007324, -1.8410815000534058], [-1.6605075597763062, 2.192004919052124, -0.9358810782432556], [-3.3834879398345947, 2.1990058422088623, 0.6029532551765442], [-3.6053154468536377, 4.5108489990234375, -1.7113275527954102], [-2.7174227237701416, 3.171445369720459, -1.1946215629577637], [-1.8370354175567627, 4.096458911895752, -2.9293501377105713], [-2.019540309906006, -1.6613293886184692, 3.7350919246673584], [-3.1797566413879395, 1.9776554107666016, 0.5102761387825012], [1.3778554201126099, 1.8947407007217407, -4.256317615509033], [-4.334627151489258, 3.902724266052246, 0.32219457626342773], [-4.12813663482666, 2.3815603256225586, 1.197836995124817], [4.825047016143799, -5.338564395904541, -0.924081027507782], [-1.1932564973831177, -2.797899007797241, 4.160957336425781], [3.5421760082244873, -2.0059614181518555, -2.26074481010437], [4.455282211303711, -6.355051517486572, 0.6549680233001709], [-0.5238745808601379, 1.33769953250885, -1.6745291948318481], [-2.3957912921905518, 0.970870852470398, 0.9119732975959778], [-0.10093579441308975, -3.501462936401367, 3.870863199234009], [-1.387781023979187, -1.3151458501815796, 1.9306581020355225], [2.527242660522461, -0.26209548115730286, -3.2677009105682373], [4.838565826416016, -4.710147857666016, -1.5489833354949951], [4.875613689422607, -5.06820821762085, -1.416812539100647], [-3.3491597175598145, 4.803552627563477, -2.167839765548706], [-3.077468156814575, 2.3594741821289062, 0.23474806547164917], [-3.0103647708892822, 2.8531925678253174, -0.020391840487718582], [-3.912809371948242, 2.722426652908325, 0.48707467317581177], [-1.5485295057296753, -2.622008800506592, 4.325170993804932], [-1.0825984477996826, -3.4082493782043457, 4.892158031463623], [-4.201301097869873, 3.420431613922119, 0.22702667117118835], [-3.3238418102264404, 1.8620606660842896, 1.0196130275726318], [-2.5675652027130127, 3.963914155960083, -1.6823076009750366], [4.655978202819824, -2.6002655029296875, -3.522059440612793], [-2.6720147132873535, 1.0598978996276855, 0.8256863355636597], [3.756442070007324, -0.7914379835128784, -4.0708489418029785], [-1.6099894046783447, 3.277113914489746, -2.2810404300689697], [-1.4710160493850708, -1.7642910480499268, 3.2540817260742188], [-0.8799598217010498, -1.962180256843567, 3.0184638500213623], [-3.6379473209381104, 4.146953105926514, -1.2129740715026855], [0.2995397448539734, -1.5563085079193115, 1.6020898818969727], [5.090640068054199, -6.324843883514404, -0.2957201600074768], [-3.353769063949585, 4.597776889801025, -1.2476916313171387], [3.1603095531463623, 0.2361452877521515, -4.495432376861572], [5.075541973114014, -5.972629070281982, -0.6305598616600037], [-2.8573577404022217, 4.175998210906982, -1.9874347448349], [1.1260982751846313, -4.2446208000183105, 3.1350927352905273], [0.11779867857694626, -4.44964075088501, 4.568615436553955], [-1.300214409828186, -1.270546793937683, 2.693283796310425], [-3.392378330230713, -1.0712602138519287, 4.0094170570373535], [-1.691990613937378, 2.6223983764648438, -1.7647473812103271], [-2.7556474208831787, 2.660413980484009, -0.35365939140319824], [-2.762328863143921, 4.7853617668151855, -2.746159315109253], [1.378912091255188, -1.416209101676941, 0.4366006553173065], [1.9860724210739136, -5.530117988586426, 4.128584861755371], [-2.101001024246216, 2.2504544258117676, 0.2672747075557709], [-0.059231214225292206, -2.0539097785949707, 2.3772542476654053], [-2.512044906616211, 2.910806894302368, -1.1012336015701294], [-2.1933701038360596, -1.569193959236145, 3.9835402965545654], [-4.546277046203613, 5.30417013168335, -1.2485427856445312], [3.7545084953308105, -1.8477452993392944, -2.6018104553222656], [-1.869864583015442, -1.0014598369598389, 2.1261610984802246], [-3.3462345600128174, 5.214602947235107, -2.447244167327881], [5.1812920570373535, -5.408427715301514, -1.2917869091033936], [4.7928080558776855, -5.203342914581299, -1.029815673828125], [0.5954211950302124, -4.344443321228027, 4.294980525970459], [3.5314249992370605, -0.5766288042068481, -2.8339552879333496], [3.895073890686035, -1.8129619359970093, -3.2834157943725586], [2.292254686355591, 1.3713704347610474, -4.550840377807617], [-1.7338361740112305, 2.7496774196624756, -1.4811924695968628], [-2.006742238998413, 2.951969623565674, -1.0113123655319214], [3.926666736602783, -4.977219104766846, -0.11207091808319092], [2.4375650882720947, -2.4652819633483887, -1.0133060216903687], [4.478757381439209, -4.08839750289917, -1.9828325510025024], [-2.259016513824463, -1.7123908996582031, 3.9870994091033936], [1.3618820905685425, -4.194437026977539, 3.130502939224243], [-1.913535237312317, -0.7436264753341675, 2.605891704559326], [-1.3758701086044312, 1.890569806098938, -0.9345859885215759], [-3.666595935821533, 4.74668550491333, -1.6699104309082031], [4.0217204093933105, -1.6260534524917603, -3.659126043319702], [0.8118967413902283, 0.9690884351730347, -2.315835952758789], [-2.8024935722351074, 2.7399659156799316, -0.7549770474433899], [0.9564461708068848, -4.1691083908081055, 3.2131597995758057], [-0.9670963287353516, -4.42954158782959, 5.906564712524414], [-3.965106248855591, 4.601382732391357, -1.500709891319275], [3.388568639755249, -1.9267781972885132, -2.481172800064087], [-4.221662521362305, 4.7682108879089355, -1.2964608669281006], [4.1759490966796875, -3.2196030616760254, -2.3235604763031006], [-4.3106818199157715, 5.219242572784424, -1.445436954498291], [-0.7371858358383179, -0.7386758327484131, 1.5331335067749023], [-1.229470133781433, -2.7062549591064453, 4.334625244140625], [-2.2200255393981934, -0.8199911117553711, 2.9397084712982178], [-2.7155344486236572, 2.0037941932678223, 0.47638827562332153], [-0.6708576083183289, -3.1613235473632812, 3.8487637042999268], [2.119550943374634, -5.572804927825928, 4.3401780128479], [0.4602457582950592, -5.131085395812988, 5.1410322189331055], [5.084317207336426, -5.4692158699035645, -1.172122836112976], [0.8152398467063904, -4.615114212036133, 4.548067569732666], [3.366161346435547, -0.8377939462661743, -3.5902554988861084], [-0.8630072474479675, -3.1407275199890137, 4.341752529144287], [-2.375549077987671, -1.0758558511734009, 3.403641939163208], [4.244809150695801, -4.647170066833496, -0.885772705078125], [-2.8126564025878906, 4.093776226043701, -1.4556050300598145], [-3.3414061069488525, -0.18008354306221008, 3.345332384109497], [-0.3977369964122772, -3.9643657207489014, 4.649084091186523], [-2.69840931892395, 2.5960402488708496, -0.8370525240898132], [-3.261068105697632, 4.711053371429443, -2.123225450515747], [-2.5627858638763428, 1.2791166305541992, 0.6924009919166565], [-1.703851580619812, -3.1661434173583984, 5.021783351898193], [-3.754962682723999, 3.3422164916992188, -0.3241804242134094], [-2.5835959911346436, 2.1448237895965576, -0.37907469272613525], [4.369203090667725, -2.50760555267334, -3.00793719291687], [4.744568347930908, -3.607285261154175, -2.305833578109741], [-3.5997703075408936, 5.240046501159668, -2.2070834636688232], [5.06435489654541, -5.446214199066162, -1.222553014755249], [-3.668437957763672, 4.225142478942871, -1.4761744737625122], [-3.453106641769409, 4.670767307281494, -1.4955183267593384], [-3.2544748783111572, 0.46184444427490234, 2.186347484588623], [3.866173505783081, -1.734349250793457, -3.3310906887054443], [-0.8059390187263489, -1.1373590230941772, 1.763429880142212], [-2.275634527206421, 4.392192363739014, -2.5953171253204346], [1.6582698822021484, -3.3253843784332275, 0.8519579172134399], [-1.371727466583252, 0.4870340824127197, -0.07768279314041138], [4.432889938354492, -3.3128952980041504, -2.366119623184204], [-1.6962792873382568, 0.5958657264709473, 0.44795599579811096], [4.670807361602783, -5.137900352478027, -0.8539689183235168], [1.8643711805343628, -2.3911900520324707, -0.09502913057804108], [-3.0482537746429443, 5.214903354644775, -2.5188896656036377], [-4.019712924957275, 3.9202463626861572, -0.7395393252372742], [0.6414246559143066, -4.158529758453369, 3.5714895725250244], [-2.1766955852508545, 3.7773332595825195, -1.9882892370224], [4.078822135925293, -3.2132816314697266, -1.4949851036071777], [-0.12524834275245667, -4.1621599197387695, 4.7174391746521], [-2.411147356033325, 3.951167583465576, -2.4237821102142334], [3.5818932056427, -2.749723434448242, -1.6052820682525635], [-3.6644136905670166, 2.9813930988311768, -0.070048987865448], [-3.4291841983795166, 5.317659854888916, -2.5037152767181396], [0.7196162939071655, 0.8257108926773071, -1.9737920761108398], [-3.7181832790374756, 3.95408034324646, -0.781098484992981], [-2.4528892040252686, 3.714653253555298, -2.1482741832733154], [-0.41135334968566895, -2.4827795028686523, 1.9796035289764404], [-3.657714605331421, 0.6078851222991943, 2.8727223873138428], [1.594222903251648, 0.9335751533508301, -3.6430041790008545], [-3.9014158248901367, 3.6767399311065674, -0.578650951385498], [-0.9904016256332397, -1.9150428771972656, 2.6609737873077393], [4.597768306732178, -4.4931864738464355, -1.3930432796478271], [2.503466844558716, -2.5854997634887695, -1.0764212608337402], [-2.8957326412200928, 3.8381903171539307, -1.5615496635437012], [4.388787269592285, -5.7455315589904785, 0.02724754437804222], [-2.2912094593048096, -0.2137233316898346, 2.2027013301849365], [1.7770308256149292, -6.796555042266846, 5.570093154907227], [-0.8226862549781799, 2.3973300457000732, -2.3316421508789062], [4.11195182800293, -2.58571195602417, -2.6380279064178467], [-2.8422510623931885, 4.560579776763916, -2.682488203048706], [-3.2814438343048096, 5.380151271820068, -2.678072929382324], [-2.3593788146972656, 4.0833306312561035, -2.4013402462005615], [3.003272771835327, 0.7316515445709229, -4.559107303619385], [-0.8740448951721191, 1.857824683189392, -0.45562243461608887], [-2.77665638923645, -1.1173579692840576, 3.813703775405884], [2.622298240661621, -3.9439003467559814, 1.3644133806228638], [-1.5824716091156006, -2.4822463989257812, 4.43364953994751], [-2.9646687507629395, 2.1360015869140625, 0.18445828557014465], [-4.411681175231934, 4.954599857330322, -0.8040086627006531], [-1.0557361841201782, 0.2628781497478485, 0.3771563768386841], [-1.9463087320327759, 3.4949679374694824, -1.923742651939392], [3.3430869579315186, -0.9468629360198975, -3.321367025375366], [-2.4185354709625244, 2.1041259765625, -0.1845291554927826], [-0.12091983109712601, -1.9093854427337646, 1.450331211090088], [4.560003280639648, -4.88124418258667, -1.0641977787017822], [-3.9228174686431885, 3.3351287841796875, -0.01312926784157753], [-3.126969575881958, 3.2961230278015137, -0.5476328730583191], [1.9387298822402954, 0.12525726854801178, -3.0623128414154053], [4.607715129852295, -4.559154510498047, -1.3495428562164307], [-2.5298268795013428, 3.382310390472412, -1.3238978385925293], [-3.1475656032562256, 1.156145691871643, 1.3776153326034546], [-3.6015236377716064, 4.159668922424316, -1.2451684474945068], [-0.12371646612882614, -3.308806896209717, 2.5799314975738525], [2.5450680255889893, -0.5634908676147461, -2.8989665508270264], [0.2504708766937256, -1.4693738222122192, 1.2353739738464355], [2.398627519607544, 0.9341529607772827, -3.986098527908325], [-0.24653863906860352, -3.145913600921631, 4.048478603363037], [-2.7241711616516113, 3.2729902267456055, -1.3712308406829834], [-1.5241081714630127, 3.967259407043457, -3.265087842941284], [-2.659205675125122, -1.1517270803451538, 3.7897937297821045], [-2.8788702487945557, 3.8574321269989014, -1.5560827255249023], [-3.1194794178009033, 1.05388343334198, 1.7428176403045654], [-3.0337259769439697, 2.8606600761413574, -0.2786969840526581], [-4.274112224578857, 4.000503063201904, -0.4741741418838501], [1.9402989149093628, -4.040358066558838, 1.9077041149139404], [-2.0499093532562256, -1.841652512550354, 3.8110642433166504], [-3.2106213569641113, 4.04906702041626, -1.7901571989059448], [-2.616239309310913, 3.6971113681793213, -1.5951459407806396], [2.178049087524414, 0.22694465517997742, -3.225803852081299], [-3.6674106121063232, 3.744487762451172, -0.8315665125846863], [-3.6978445053100586, 4.5653252601623535, -1.5280723571777344], [4.418660640716553, -5.1302385330200195, -0.5322303771972656], [4.939990997314453, -4.707224369049072, -1.8053133487701416], [-2.3194401264190674, 2.730064868927002, -1.0440154075622559], [-4.7594218254089355, 2.247903823852539, 2.0206735134124756], [3.6138498783111572, -0.9396095275878906, -3.8319151401519775], [4.296779632568359, -2.233356475830078, -3.166264533996582], [3.014451265335083, 0.010236382484436035, -3.790052652359009], [-1.394612193107605, 1.072736144065857, 0.016457270830869675], [-2.1198537349700928, 2.705665111541748, -1.1735172271728516], [-2.529757499694824, 2.9351489543914795, -1.1279900074005127], [-3.1546285152435303, -2.162729501724243, 5.462009429931641], [-1.8592529296875, -0.013227850198745728, 1.9350059032440186], [-3.1863930225372314, -0.6759003400802612, 3.7629151344299316], [4.948399543762207, -4.036937713623047, -0.6280537247657776], [-2.5523788928985596, 2.9590389728546143, -0.5432495474815369], [-2.914340019226074, 3.4597158432006836, -0.8773159384727478], [2.037127733230591, -0.4454117715358734, -2.2068660259246826], [-4.105493545532227, -0.7712595462799072, 4.907653331756592], [-2.415703296661377, 4.4251885414123535, -2.607407808303833], [0.03292357176542282, -2.991694450378418, 3.181011438369751], [-2.232696294784546, 3.8450446128845215, -2.2475500106811523], [-4.183999061584473, 3.710611343383789, -0.2378312647342682], [-0.9008883237838745, 0.8874468803405762, -0.7927165627479553], [4.400467872619629, -5.396167278289795, -0.2891862988471985], [-4.754728317260742, 3.740878105163574, 0.678743302822113], [-3.315751314163208, 3.4569263458251953, -0.7616614699363708], [-3.037672758102417, 3.6331019401550293, -1.1025631427764893], [-4.08256721496582, 2.3357150554656982, 1.0107786655426025], [-3.5505709648132324, 1.6467487812042236, 1.1479835510253906], [1.841377854347229, -5.492690086364746, 4.14911413192749], [-3.3209664821624756, 4.685835361480713, -2.082343101501465], [0.14718058705329895, -3.989842653274536, 3.900893211364746], [-2.54166579246521, 1.5700410604476929, 0.3285485506057739], [-1.6881611347198486, 1.120906114578247, -0.09865421056747437], [-3.0601909160614014, 1.8611748218536377, 0.6837637424468994], [-1.162152647972107, -3.5671944618225098, 4.0981035232543945], [-4.036446571350098, 4.103349208831787, -0.7506216764450073], [-1.6951924562454224, -1.1682538986206055, 2.700817823410034], [-2.886687994003296, 3.599031448364258, -1.6063251495361328], [-3.469406843185425, 0.15665313601493835, 2.9947376251220703], [-0.09463196247816086, -1.2160450220108032, 0.3626699447631836], [4.763068199157715, -5.674499034881592, -1.0897138118743896], [1.138419508934021, -5.168072700500488, 4.742971897125244], [-3.070197343826294, 0.7159913778305054, 2.0186662673950195], [0.13456258177757263, -3.622591495513916, 2.8541791439056396], [-0.8505418300628662, -0.4518696665763855, 0.6808347105979919], [-3.577565908432007, 3.5749480724334717, -0.9261727929115295], [4.558483123779297, -4.1277008056640625, -1.818260908126831], [-3.208768606185913, 1.2524272203445435, 1.6663551330566406], [4.3535637855529785, -2.9926815032958984, -2.697366237640381], [-1.7327202558517456, -1.9333271980285645, 2.9341962337493896], [-1.3820658922195435, -3.381255865097046, 5.130403995513916], [0.24318793416023254, -2.763801097869873, 2.8116586208343506], [-4.497754096984863, 4.006308555603027, -0.30961519479751587], [-1.0582112073898315, -0.2813453674316406, 1.333799123764038], [-3.901988983154297, 2.5603976249694824, 0.9901848435401917], [-3.0401618480682373, -0.3868407607078552, 3.4702861309051514], [-2.2647650241851807, 1.6733816862106323, -0.07662855088710785], [-2.524580717086792, 1.6311681270599365, 0.5255134105682373], [5.163260459899902, -3.7618660926818848, -1.4119921922683716], [-0.9582462906837463, -2.8833298683166504, 3.1666340827941895], [-1.9512958526611328, 2.1854586601257324, -0.5164337754249573], [2.109219551086426, 0.7627540826797485, -3.7756145000457764], [0.6325294971466064, 1.0134302377700806, -2.0884501934051514], [-1.8448877334594727, 1.3526268005371094, 0.3899935483932495], [-1.0386617183685303, 1.5550042390823364, -1.3286339044570923], [-4.36671257019043, 4.628391265869141, -1.0237122774124146], [-4.074215888977051, 1.082961082458496, 2.5795443058013916], [1.3106249570846558, -0.03604324162006378, -2.1153225898742676], [-1.613213300704956, -0.14397279918193817, 1.3377928733825684], [-3.4150257110595703, 3.917131185531616, -1.1983660459518433], [0.22159478068351746, -2.64766788482666, 2.665588617324829], [3.6320292949676514, -1.645419716835022, -3.0413198471069336], [-0.22347503900527954, -4.631833553314209, 5.485667705535889], [-2.3841049671173096, 2.6600427627563477, -1.1657419204711914], [-3.2321081161499023, 3.9068617820739746, -1.2974140644073486], [-4.554507255554199, 4.469384670257568, -0.7309701442718506], [-1.5103009939193726, -0.8186193704605103, 2.2263574600219727], [-3.0246596336364746, 3.476889133453369, -1.1491165161132812], [1.7481595277786255, 1.8935163021087646, -4.465540409088135], [0.2458800971508026, -3.825773239135742, 3.142176389694214], [0.7535805106163025, 2.3633313179016113, -3.866234064102173], [-2.2564258575439453, 2.6226348876953125, -0.989862859249115], [-0.08687271922826767, -1.5372260808944702, 1.287215232849121], [-2.7956960201263428, -1.2812221050262451, 4.149015426635742], [-3.0977444648742676, 2.2883951663970947, 0.14434649050235748], [-3.8580336570739746, 5.112916946411133, -1.6602898836135864], [5.508638381958008, -6.4747700691223145, -1.1634693145751953], [-3.4271395206451416, 0.18397873640060425, 2.9584531784057617], [-1.7696422338485718, -1.348397970199585, 3.006831407546997], [-4.436155319213867, 2.590825080871582, 1.3311481475830078], [-2.967695951461792, 0.4750581383705139, 2.5720055103302], [-3.440479278564453, 2.2738120555877686, 0.7368150949478149], [1.0631301403045654, -4.191005229949951, 3.0324814319610596], [-0.8422595262527466, -2.0197064876556396, 2.8975651264190674], [1.6185531616210938, 0.11171475052833557, -2.5506088733673096], [-4.048346042633057, 4.550445079803467, -1.1009275913238525], [2.749119520187378, 1.1839842796325684, -4.771700382232666], [-1.0721361637115479, -0.8588796854019165, 1.1623234748840332], [-0.2090713381767273, -3.5683650970458984, 3.8446104526519775], [-1.1448074579238892, -1.7502224445343018, 2.81084942817688], [-2.767770528793335, 3.9814181327819824, -1.996521234512329], [-0.9654268026351929, -3.4972686767578125, 4.273510456085205], [2.8393781185150146, 0.7473074197769165, -4.601489067077637], [-3.7448389530181885, 0.17088016867637634, 3.323913335800171], [3.6533896923065186, -3.405644416809082, -1.4428964853286743], [3.523003101348877, -1.225164532661438, -3.1908929347991943], [3.56074857711792, -1.1871675252914429, -3.5008394718170166], [-2.1422741413116455, -1.4635536670684814, 3.3454949855804443], [2.7549145221710205, -4.886289119720459, 1.087154507637024], [-1.694325566291809, 1.6658204793930054, -0.48627200722694397], [4.5343170166015625, -2.3577473163604736, -2.6653146743774414], [-4.194772720336914, 4.09839391708374, -0.5244253873825073], [-1.9203184843063354, 3.5006165504455566, -2.4177496433258057], [-2.659682035446167, 4.836999893188477, -2.6890575885772705], [-2.9911930561065674, 2.6895525455474854, 0.13166536390781403], [0.022496290504932404, 0.6726603507995605, -0.8516409993171692], [-3.8183765411376953, -1.044144630432129, 4.716850757598877], [-1.3578535318374634, -2.6614465713500977, 4.281088352203369], [0.9514013528823853, -2.6701228618621826, 2.3838913440704346], [1.9211710691452026, 0.4790509343147278, -3.172109365463257], [2.3664181232452393, 1.095212459564209, -4.428248882293701], [2.2821691036224365, -0.6012599468231201, -2.654954195022583], [1.9511464834213257, -4.4094367027282715, 2.9224305152893066], [-0.49312055110931396, -3.5825610160827637, 4.443605899810791], [-4.673195838928223, 2.560441255569458, 1.5180916786193848], [-2.0166969299316406, 1.4278069734573364, 0.644034743309021], [-0.6733089685440063, -0.19350895285606384, 0.29757159948349], [-0.24560680985450745, -3.4191789627075195, 3.6196067333221436], [-1.5371335744857788, -2.3429057598114014, 4.177382946014404], [2.570307731628418, 0.7579953670501709, -4.389618873596191], [1.029478669166565, -4.272855281829834, 3.6905107498168945], [1.6879128217697144, -4.4109787940979, 1.6590688228607178], [3.3170039653778076, -3.2906723022460938, -1.1223740577697754], [-2.9503896236419678, 0.17235100269317627, 2.227830410003662], [4.302929878234863, -4.2775797843933105, -1.3835067749023438], [-4.605220317840576, 3.4695706367492676, 0.6184370517730713], [4.53973388671875, -4.895467281341553, -1.0294803380966187], [-0.6589849591255188, -2.236403226852417, 2.029899835586548], [-1.4878288507461548, 3.2936365604400635, -2.268174648284912], [-2.423799991607666, 0.3517818748950958, 1.621199131011963], [4.520550727844238, -5.937989711761475, 0.1173073798418045], [1.967079758644104, -2.8496897220611572, 0.897898256778717], [0.17017745971679688, -5.564466953277588, 6.2524590492248535], [-1.7358981370925903, 0.16156838834285736, 1.1355788707733154], [4.625950813293457, -5.744625091552734, -0.24644862115383148], [-3.641423463821411, 2.2170262336730957, 0.8821685910224915], [3.1299965381622314, -0.9857590198516846, -2.388948917388916], [-1.9577375650405884, -1.8432927131652832, 3.271136522293091], [4.35609769821167, -2.9849445819854736, -2.659372568130493], [-2.5696346759796143, 1.4774872064590454, 0.4602597951889038], [-3.685896635055542, 4.307590007781982, -1.0578415393829346], [-4.079132080078125, 4.884762287139893, -1.327847957611084], [-4.382058143615723, 4.037696838378906, -0.36339372396469116], [1.8892251253128052, -0.3616693913936615, -2.5409674644470215], [-2.7571609020233154, 2.471843957901001, -0.19604437053203583], [-3.381577730178833, 4.716505527496338, -1.7435650825500488], [-1.9337167739868164, 2.247584342956543, -1.0351778268814087], [-0.5897437334060669, -2.2822604179382324, 3.0640900135040283], [5.100133895874023, -5.423290729522705, -1.2991372346878052], [3.7777256965637207, -2.5651187896728516, -2.3259222507476807], [-0.8786489367485046, -2.3449490070343018, 3.4023897647857666], [-2.807945489883423, 2.7232065200805664, -0.858707845211029], [3.305562734603882, -3.316594362258911, -1.087053894996643], [1.010670781135559, -2.333803176879883, 0.720680296421051], [-3.529674768447876, 5.065796852111816, -2.434224843978882], [-1.681369662284851, -2.7146098613739014, 4.795668125152588], [1.6790895462036133, -1.103824496269226, -0.9130536913871765], [-2.1692705154418945, -1.0841830968856812, 3.1480119228363037], [2.779899835586548, -7.485667705535889, 5.804192066192627], [1.1791025400161743, -5.555544376373291, 5.141539096832275], [-3.88613224029541, 3.231907606124878, 0.05359896644949913], [-3.9308359622955322, 4.381494045257568, -1.224381923675537], [-1.058467984199524, -3.5107340812683105, 4.5507283210754395], [4.804949760437012, -4.655213832855225, -1.540340781211853], [-1.9059075117111206, -0.06052510440349579, 1.4896492958068848], [-2.406707525253296, 1.2808679342269897, 0.4969697594642639], [4.730991840362549, -4.4507269859313965, -1.6247061491012573], [4.449246406555176, -3.7156639099121094, -2.1435325145721436], [3.0812389850616455, -1.2553911209106445, -2.882932186126709], [3.245511531829834, -3.479189395904541, -0.14414823055267334], [-3.2836906909942627, 3.8070449829101562, -0.9740386605262756], [-2.0294692516326904, 0.35923996567726135, 1.4477334022521973], [-3.5668752193450928, 0.7149198055267334, 2.7099788188934326], [-3.7006583213806152, 3.0370724201202393, 0.2754000127315521], [1.9510563611984253, -6.032793998718262, 4.889628887176514], [-1.8302491903305054, -1.8126106262207031, 3.76545786857605], [0.762582540512085, 3.4694390296936035, -4.7691121101379395], [3.823878049850464, -3.5763373374938965, -1.571576476097107], [3.3608152866363525, -0.1751452386379242, -4.212574005126953], [4.113227844238281, -2.5910768508911133, -2.634528875350952], [5.4344282150268555, -6.35860013961792, -1.0214639902114868], [0.9954525232315063, -3.487577438354492, 2.609593152999878], [-0.7721222639083862, 0.3298620879650116, 0.587235152721405], [-3.689592123031616, 3.813899517059326, -0.7022228240966797], [2.9101145267486572, 0.7754789590835571, -4.562870502471924], [-2.9497644901275635, 2.386713981628418, -0.1356401890516281], [-4.3817949295043945, 2.957068681716919, 0.8349856734275818], [-3.7241854667663574, 1.1074550151824951, 2.4514310359954834], [-2.342949867248535, -0.8473376035690308, 3.1613688468933105], [-2.889600992202759, 2.926555633544922, -0.8213078379631042], [-4.022636413574219, 4.605935573577881, -1.2130091190338135], [-3.5612378120422363, 2.5240063667297363, 0.3773951232433319], [2.5181596279144287, 1.1650460958480835, -4.440371036529541], [0.12299316376447678, -2.2814149856567383, 2.527252435684204], [-3.044656753540039, 3.0935018062591553, -0.5245071053504944], [2.2417795658111572, -3.198200225830078, 0.30497461557388306], [-2.861684560775757, 3.271796703338623, -1.3308337926864624], [-3.2671353816986084, 2.6057016849517822, 0.15768487751483917], [-0.7686334848403931, -1.2645466327667236, 1.9208853244781494], [-4.53379487991333, 4.6687541007995605, -0.7836232781410217], [-1.3848575353622437, -2.1743650436401367, 3.038588285446167], [2.4513628482818604, -5.6098151206970215, 3.9797556400299072], [0.7629770636558533, 1.9322623014450073, -3.1795639991760254], [-2.464948892593384, 2.450604200363159, -0.4617566168308258], [-3.026386022567749, -0.6827304363250732, 3.5287516117095947], [-4.455663681030273, 2.676931381225586, 1.0871202945709229], [-0.2902265787124634, -4.1596903800964355, 4.869752407073975], [3.2031891345977783, 0.45883485674858093, -4.670895576477051], [-0.6682698726654053, 1.629233956336975, -1.4181315898895264], [-3.104570150375366, 4.445159912109375, -1.8759822845458984], [-2.729224443435669, 3.609011650085449, -1.7423694133758545], [-2.4392521381378174, 3.297067165374756, -1.0501704216003418], [-3.643047571182251, 2.5297930240631104, 0.3771989047527313], [0.8349326848983765, -4.441276550292969, 2.8965861797332764], [3.454030990600586, -2.552327871322632, -1.6146479845046997], [-2.186460256576538, -0.6511967182159424, 2.5626604557037354], [-2.2904999256134033, -1.7755002975463867, 4.108246326446533], [1.6122329235076904, 0.7432020902633667, -3.2708160877227783], [-3.550926923751831, 4.71625280380249, -1.7972851991653442], [-2.9406707286834717, 3.8060176372528076, -1.668658971786499], [-1.8223950862884521, 1.96465003490448, -0.8614574074745178], [-0.5751646161079407, 0.7104150056838989, -0.5125977993011475], [-1.586410403251648, 1.998266577720642, -0.983305811882019], [-0.6796385645866394, 2.286473274230957, -2.1032321453094482], [0.20501026511192322, 1.7614139318466187, -2.3010494709014893], [3.0475003719329834, -3.3736724853515625, -0.779386579990387], [-3.4591562747955322, 3.06561017036438, -0.39370250701904297], [-0.3036160469055176, -2.9184255599975586, 3.032437562942505], [-2.290661096572876, -1.1763710975646973, 3.3033034801483154], [5.004473686218262, -6.218419075012207, -0.29548943042755127], [3.203385353088379, -2.500300884246826, -1.8044354915618896], [-1.1220446825027466, -0.5785883665084839, 1.449965476989746], [-0.8163262605667114, -2.061707019805908, 2.0254924297332764], [2.059413194656372, -0.9991166591644287, -2.1250598430633545], [3.8201401233673096, -4.643478870391846, -0.42691904306411743], [-3.7311465740203857, 5.283641815185547, -2.082916259765625], [-0.9229528903961182, -3.317760944366455, 4.614552974700928], [3.077145576477051, -0.41485607624053955, -3.5029032230377197], [-0.022438667714595795, -4.854962348937988, 5.575612545013428], [2.3979127407073975, -1.4662023782730103, -0.6945794224739075], [-3.9954817295074463, 1.692221999168396, 1.6576216220855713], [-1.3556056022644043, -1.8451977968215942, 3.0263478755950928], [0.08048684149980545, 1.842197060585022, -2.563326835632324], [4.082569122314453, -3.0804290771484375, -2.251133680343628], [-3.396131992340088, 1.575774073600769, 1.230975866317749], [-3.4611310958862305, 4.785529136657715, -1.9387389421463013], [2.0554044246673584, 2.617137908935547, -5.515428066253662], [-1.1621206998825073, -3.4241559505462646, 5.135827541351318], [-1.4746495485305786, -1.4810024499893188, 2.2049825191497803], [4.236833572387695, -4.798224925994873, -0.6864477396011353], [1.9242769479751587, 2.0917530059814453, -4.907687187194824], [-3.8521063327789307, 3.9717326164245605, -0.8170844912528992], [2.2865538597106934, 1.3782728910446167, -4.5517120361328125], [-0.204593688249588, 1.6571661233901978, -2.477646589279175], [0.8645206093788147, -0.9820106029510498, 0.5547074675559998], [-2.5864593982696533, 3.038177013397217, -1.1814439296722412], [-1.8112207651138306, 3.5314218997955322, -2.0886480808258057], [-0.7668644189834595, 0.12518854439258575, 0.04400401934981346], [3.8450443744659424, -1.2460236549377441, -3.7572219371795654], [-0.5357667207717896, -2.2902960777282715, 2.777390956878662], [-2.850764036178589, -0.6383110284805298, 2.8600223064422607], [-3.8849685192108154, 0.9985029697418213, 2.60387921333313], [-4.4871015548706055, 4.364926815032959, -0.25084713101387024], [-4.437885284423828, 3.9081177711486816, -0.0842413455247879], [-0.9074939489364624, -3.422825336456299, 4.616830348968506], [3.9801242351531982, -1.7726091146469116, -3.259817361831665], [-2.7309532165527344, 1.071789026260376, 1.4565050601959229], [3.2766754627227783, 0.916657567024231, -5.229824542999268], [-2.902470827102661, 1.1179274320602417, 1.329984426498413], [4.425512313842773, -3.531296491622925, -2.153409719467163], [-2.815664768218994, 0.5553984642028809, 1.7926511764526367], [-2.6222965717315674, -1.2071250677108765, 3.3058762550354004], [-1.606627106666565, -1.3766347169876099, 2.432063341140747], [-2.1842401027679443, 1.6294795274734497, -0.07883256673812866], [-2.41635799407959, -0.21153682470321655, 2.3632311820983887], [4.418462753295898, -4.468537330627441, -1.3288795948028564], [-2.2606654167175293, 2.4256765842437744, -0.9313068985939026], [-3.6846609115600586, 3.1894469261169434, -0.021361220628023148], [-1.8531432151794434, -0.3837113678455353, 1.8677799701690674], [-1.7016640901565552, -0.4371205270290375, 1.810463786125183], [-0.7954807281494141, -2.5709586143493652, 3.2531168460845947], [2.5657331943511963, -1.6348165273666382, -2.0260000228881836], [1.0672355890274048, 0.7782852649688721, -2.2365214824676514], [-2.9741575717926025, 2.392551898956299, -0.22070683538913727], [-2.5281994342803955, -0.8028801679611206, 3.2644317150115967], [-3.3561441898345947, 3.9585278034210205, -1.354412317276001], [-2.914889097213745, 3.456271171569824, -0.8352800011634827], [-0.01984187215566635, -0.7655833959579468, 0.16397243738174438], [-3.4702508449554443, 3.2301249504089355, -0.018907103687524796], [-2.643901824951172, 3.3303580284118652, -0.8242731690406799], [2.180734872817993, 0.8637133836746216, -3.3046698570251465], [-2.0442450046539307, -1.0793536901474, 2.889962911605835], [0.425958514213562, -4.261882781982422, 3.7976460456848145], [-3.5348591804504395, 3.9332637786865234, -1.198465347290039], [-1.7792903184890747, 3.8408961296081543, -1.792096734046936], [-2.8483829498291016, 3.7434916496276855, -1.6177544593811035], [5.595664978027344, -6.6556782722473145, -1.144827961921692], [-3.1393024921417236, 4.753044605255127, -1.3925834894180298], [-2.7903101444244385, 3.9415762424468994, -1.9835071563720703], [-1.8537100553512573, 0.3735699951648712, 0.8048434853553772], [-1.8595556020736694, 1.754868507385254, -0.03023231402039528], [2.035226583480835, -0.23618492484092712, -2.2468101978302], [0.9646381139755249, -3.82525634765625, 2.8012311458587646], [4.770931243896484, -3.751404047012329, -2.184678316116333], [3.5679900646209717, -1.2177420854568481, -3.479133367538452], [4.893548488616943, -5.602881908416748, -1.1961053609848022], [3.5880448818206787, -3.6537251472473145, -1.0278512239456177], [-2.1185011863708496, 2.2700395584106445, -0.9885463714599609], [5.017279624938965, -5.760575771331787, -1.032670021057129], [-3.8748064041137695, 4.536235332489014, -1.6625161170959473], [-3.81162166595459, 3.8894131183624268, -0.3133045434951782], [0.7732803821563721, -4.793635368347168, 4.478077411651611], [-1.9940861463546753, -0.07820582389831543, 1.6315041780471802], [-1.9609252214431763, 3.267397403717041, -2.0425162315368652], [2.420041084289551, -0.8165377378463745, -2.598597288131714], [-3.5992469787597656, 3.223006248474121, 0.2743656039237976], [4.373889923095703, -3.8532378673553467, -1.8061020374298096], [-3.976102590560913, 3.93540620803833, -0.65944504737854], [-3.2014353275299072, 2.928555488586426, -0.7078984379768372], [-1.4332464933395386, -1.645410418510437, 3.2797584533691406], [0.018234379589557648, -2.260101318359375, 2.7367007732391357], [-4.075991630554199, 3.204951763153076, 0.48705047369003296], [-2.831773519515991, 1.1418776512145996, 1.0354342460632324], [-4.157173156738281, 3.5971412658691406, -0.06545217335224152], [-3.4972710609436035, 4.35822057723999, -1.7854704856872559], [-2.201559066772461, -1.6612204313278198, 4.088578224182129], [-3.2084081172943115, 2.2516565322875977, 0.5032621026039124], [-1.2658451795578003, -1.5874651670455933, 1.9925568103790283], [-2.6047232151031494, 3.1907734870910645, -1.309002161026001], [-3.2067925930023193, 2.4802284240722656, 0.3554714322090149], [-0.6947133541107178, -5.004902362823486, 5.981991291046143], [-1.5728317499160767, -0.90821373462677, 2.2565720081329346], [-2.411295175552368, -1.7067886590957642, 4.333126068115234], [-3.298908233642578, 4.439259052276611, -1.5048387050628662], [-1.8165332078933716, -1.985761046409607, 3.9883759021759033], [1.5755032300949097, -4.1231207847595215, 1.4989433288574219], [-3.7967050075531006, 2.9639251232147217, 0.208787739276886], [0.07433319836854935, -5.041278839111328, 5.58289909362793], [-2.451845645904541, 3.531844139099121, -1.6928637027740479], [2.423748016357422, -4.498000621795654, 3.0181145668029785], [-0.22164854407310486, -2.531076669692993, 2.7280592918395996], [3.670041799545288, -3.4014480113983154, -1.4749014377593994], [1.325224757194519, -5.45950984954834, 4.705638885498047], [-1.6661819219589233, -2.6386804580688477, 4.7201457023620605], [1.7409495115280151, -0.21284542977809906, -2.539503335952759], [2.9613993167877197, -2.59713077545166, -1.520119547843933], [-3.3523576259613037, 3.751831531524658, -0.9676900506019592], [-1.372871994972229, -2.737952709197998, 4.2864670753479], [-2.923840045928955, 4.991929531097412, -2.6369359493255615], [0.43779656291007996, -2.8780107498168945, 2.4553287029266357], [-1.9385218620300293, -2.550861358642578, 4.7977166175842285], [-2.6345908641815186, 1.4721977710723877, 0.7790054678916931], [2.9941718578338623, -1.840895652770996, -1.42020845413208], [-3.0769765377044678, 3.6789333820343018, -1.5113351345062256], [-2.578089952468872, -1.0246983766555786, 3.444087266921997], [-2.233832597732544, 1.1301835775375366, 0.9105180501937866], [-2.7679946422576904, 4.6778178215026855, -2.58486008644104], [-3.368659734725952, 3.0915215015411377, -0.33166706562042236], [3.9842445850372314, -2.0830166339874268, -3.0037219524383545], [-1.734344244003296, -0.8960115909576416, 1.8880542516708374], [-1.4482855796813965, 0.19166234135627747, 1.2767207622528076], [-3.533284902572632, -0.649796724319458, 4.057613372802734], [-3.1673197746276855, 0.34763896465301514, 2.6296792030334473], [-4.162014007568359, -0.056001126766204834, 4.036254405975342], [0.6750563383102417, 0.6214467287063599, -2.1489460468292236], [1.3596640825271606, -5.298253536224365, 4.65618371963501], [-3.1200172901153564, 2.797231435775757, 0.12866157293319702]]\n",
            "tensor([[7.1772e-02, 1.6970e+01, 4.4278e-01],\n",
            "        [4.2049e+00, 2.1193e-01, 2.1467e+00],\n",
            "        [2.8819e+00, 2.2670e+00, 7.7752e-02],\n",
            "        ...,\n",
            "        [1.9641e+00, 1.8616e+00, 1.1661e-01],\n",
            "        [3.8949e+00, 5.0003e-03, 1.0523e+02],\n",
            "        [4.4156e-02, 1.6399e+01, 1.1373e+00]])\n",
            "[1, 1, 0, 2, 2, 2, 2, 1, 1, 0, 2, 0, 1, 1, 1, 0, 2, 1, 0, 2, 2, 0, 0, 0, 2, 1, 1, 0, 0, 0, 0, 1, 1, 1, 0, 2, 2, 2, 0, 2, 1, 2, 0, 0, 1, 2, 0, 1, 2, 1, 1, 1, 1, 2, 2, 2, 1, 2, 0, 1, 2, 0, 2, 2, 2, 0, 0, 0, 0, 1, 1, 0, 2, 1, 1, 0, 0, 2, 2, 1, 2, 0, 0, 2, 2, 2, 0, 0, 0, 1, 1, 0, 2, 0, 2, 0, 1, 2, 0, 2, 1, 1, 0, 0, 0, 2, 1, 2, 0, 0, 2, 1, 0, 1, 1, 2, 1, 0, 1, 1, 1, 2, 2, 1, 2, 2, 1, 1, 0, 1, 1, 1, 1, 1, 2, 2, 0, 0, 0, 0, 0, 1, 0, 1, 1, 2, 1, 1, 2, 2, 2, 2, 2, 0, 1, 2, 2, 1, 2, 2, 2, 2, 2, 2, 0, 2, 1, 2, 2, 0, 0, 2, 1, 1, 2, 2, 0, 2, 2, 0, 1, 1, 2, 1, 0, 2, 1, 1, 2, 2, 1, 2, 2, 0, 2, 2, 2, 2, 2, 2, 2, 2, 1, 2, 0, 1, 2, 2, 2, 2, 2, 0, 1, 1, 1, 1, 1, 1, 2, 0, 0, 2, 2, 0, 2, 1, 0, 1, 2, 2, 2, 0, 0, 1, 0, 1, 2, 0, 2, 2, 0, 0, 0, 0, 0, 2, 1, 0, 1, 0, 1, 2, 1, 0, 2, 1, 0, 2, 0, 0, 1, 1, 1, 1, 1, 2, 0, 0, 2, 2, 1, 1, 1, 0, 2, 1, 2, 0, 1, 0, 0, 2, 0, 0, 2, 1, 2, 1, 2, 2, 2, 0, 2, 1, 0, 1, 1, 2, 0, 2, 1, 0, 2, 2, 0, 2, 2, 1, 1, 0, 2, 1, 0, 1, 2, 0, 1, 0, 1, 0, 0, 1, 0, 1, 0, 2, 1, 0, 0, 2, 1, 2, 2, 0, 0, 0, 2, 0, 1, 1, 0, 2, 2, 1, 2, 1, 1, 1, 0, 2, 2, 1, 2, 2, 0, 1, 0, 0, 0, 0, 0, 0, 0, 1, 1, 0, 1, 1, 1, 0, 0, 0, 2, 1, 1, 0, 0, 2, 0, 0, 2, 0, 2, 1, 1, 1, 0, 1, 0, 1, 0, 2, 1, 1, 2, 1, 2, 2, 2, 0, 2, 1, 2, 1, 0, 0, 0, 2, 0, 2, 2, 1, 2, 1, 1, 1, 0, 0, 2, 2, 1, 2, 1, 2, 2, 1, 2, 0, 1, 1, 1, 1, 1, 1, 2, 2, 1, 0, 2, 1, 0, 1, 0, 1, 2, 0, 1, 1, 1, 2, 2, 2, 2, 1, 1, 0, 2, 0, 1, 2, 2, 2, 1, 1, 2, 1, 2, 1, 2, 0, 2, 2, 2, 1, 2, 0, 1, 1, 2, 0, 0, 2, 2, 2, 2, 2, 2, 1, 1, 2, 2, 1, 1, 0, 1, 2, 2, 2, 1, 2, 1, 1, 0, 0, 1, 0, 1, 1, 1, 1, 1, 1, 0, 0, 1, 1, 2, 1, 1, 0, 1, 1, 2, 1, 0, 2, 0, 0, 2, 1, 0, 1, 0, 2, 2, 0, 0, 1, 0, 0, 1, 2, 2, 1, 2, 1, 1, 1, 1, 1, 0, 0, 0, 1, 2, 0, 2, 2, 1, 0, 1, 1, 1, 0, 1, 2, 0, 0, 2, 1, 1, 0, 0, 0, 1, 0, 0, 0, 2, 2, 2, 0, 1, 1, 1, 1, 2, 2, 0, 0, 2, 0, 1, 1, 2, 2, 0, 0, 1, 2, 1, 2, 0, 0, 1, 1, 0, 2, 2, 2, 0, 0, 0, 2, 1, 1, 0, 1, 2, 1, 0, 2, 1, 1, 0, 2, 1, 2, 2, 1, 0, 0, 1, 0, 1, 1, 2, 1, 2, 1, 2, 2, 0, 1, 0, 1, 1, 2, 1, 0, 1, 2, 0, 1, 2, 0, 0, 0, 1, 2, 0, 0, 0, 2, 1, 2, 0, 2, 1, 0, 2, 1, 0, 2, 1, 0, 0, 0, 0, 1, 2, 0, 2, 0, 1, 1, 2, 1, 1, 2, 0, 0, 0, 0, 2, 0, 1, 1, 1, 2, 2, 0, 1, 0, 1, 1, 0, 2, 0, 0, 0, 1, 0, 0, 0, 1, 2, 0, 1, 0, 0, 1, 2, 2, 1, 0, 0, 0, 1, 2, 2, 2, 0, 2, 1, 1, 2, 1, 0, 1, 0, 0, 0, 2, 2, 2, 1, 0, 2, 0, 2, 2, 1, 2, 1, 0, 1, 2, 0, 2, 0, 1, 0, 2, 0, 0, 1, 0, 2, 0, 0, 2, 1, 2, 1, 1, 1, 0, 1, 0, 2, 2, 1, 2, 0, 2, 2, 0, 1, 2, 0, 2, 1, 2, 2, 0, 0, 2, 1, 2, 1, 0, 2, 2, 0, 2, 2, 2, 2, 0, 0, 1, 0, 1, 0, 1, 2, 0, 1, 0, 1, 1, 1, 0, 0, 0, 0, 1, 0, 2, 1, 2, 1, 0, 2, 2, 1, 2, 2, 0, 0, 0, 0, 1, 0, 2, 1, 0, 1, 2, 0, 1, 2, 1, 0, 2, 2, 1, 2, 2, 2, 2, 1, 0, 1, 2, 1, 0, 1, 0, 2, 2, 1, 2, 1, 0, 1, 1, 2, 1, 2, 0, 1, 1, 0, 1, 0, 2, 0, 1, 0, 2, 2, 2, 1, 1, 0, 1, 2, 1, 0, 1, 1, 0, 2, 0, 0, 1, 2, 2, 0, 1, 2, 2, 2, 2, 0, 2, 0, 2, 1, 2, 2, 0, 2, 1, 2, 0, 2, 2, 1, 2, 2, 0, 2, 1, 2, 2, 1, 2, 0, 0, 2, 0, 0, 1, 1, 0, 2, 0, 2, 0, 1, 1, 1, 2, 1, 2, 2, 1, 1, 1, 1, 1, 1, 1, 1, 2, 2, 0, 1, 2, 0, 2, 0, 0, 1, 1, 2, 2, 0, 0, 0, 1, 1, 1, 1, 2, 2, 1, 2, 1, 0, 2, 0, 1, 2, 2, 1, 1, 0, 1, 0, 0, 1, 2, 2, 2, 2, 1, 1, 1, 2, 2, 1, 2, 1, 2, 1, 0, 2, 1, 0, 0, 2, 0, 0, 0, 1, 1, 0, 0, 0, 2, 2, 2, 1, 1, 0, 0, 1, 2, 2, 1, 0, 1, 0, 1, 2, 2, 2, 1, 2, 2, 2, 0, 2, 0, 2, 2, 0, 1, 2, 2, 1, 1, 1, 2, 1, 2, 0, 0, 1, 0, 1, 1, 2, 0, 2, 1, 0, 1, 0, 2, 0, 2, 1, 1, 2, 1, 0, 2, 1, 0, 1, 1, 0, 1, 1, 0, 2, 0, 1, 2, 0, 0, 1, 0, 2, 2, 0, 0, 1, 1, 1, 0, 1, 2, 2, 2, 1, 1, 1, 1, 0, 1, 2, 0, 1, 1, 0, 0, 1, 2, 1, 2, 0, 2, 0, 2, 1, 1, 2, 1, 1, 1, 1, 2, 2, 1, 1, 0, 1, 1, 0, 0, 1, 2, 0, 0, 0, 1, 1, 1, 2, 0, 2, 0, 1, 1, 0, 2, 1, 2, 1, 1, 1, 0, 1, 1, 1, 1, 2, 2, 1, 2, 1, 2, 2, 2, 1, 2, 1, 2, 2, 0, 2, 2, 2, 2, 1, 0, 2, 0, 2, 2, 2, 1, 2, 1, 2, 1, 1, 0, 2, 1, 0, 0, 1, 2, 1, 1, 0, 2, 1, 2, 0, 2, 1, 1, 1, 2, 1, 0, 2, 0, 1, 2, 2, 1, 1, 0, 2, 2, 2, 1, 1, 2, 2, 0, 1, 0, 2, 2, 2, 1, 2, 0, 2, 0, 0, 0, 2, 2, 2, 0, 1, 1, 1, 1, 1, 2, 2, 2, 0, 0, 0, 2, 2, 2, 1, 1, 2, 2, 0, 2, 0, 0, 1, 0, 1, 0, 2, 1, 2, 0, 2, 2, 2, 0, 1, 0, 2, 0, 1, 1, 1, 1, 0, 1, 1, 1, 2, 0, 0, 2, 1, 0, 2, 1, 2, 0, 2, 2, 2, 1, 1, 2, 0, 2, 2, 0, 0, 0, 0, 1, 2, 2, 1, 2, 1, 0, 0, 0, 0, 0, 2, 1, 1, 0, 1, 1, 2, 2, 1, 1, 1, 0, 2, 1, 0, 1, 1, 2, 1, 2, 2, 0, 1, 2, 2, 2, 0, 1, 1, 1, 1, 2, 2, 0, 2, 2, 0, 1, 1, 1, 1, 0, 1, 0, 0, 1, 2, 2, 0, 0, 2, 2, 0, 0, 1, 2, 0, 2, 0, 2, 2, 0, 0, 2, 1, 0, 2, 2, 0, 0, 1, 0, 1, 2, 1, 1, 2, 0, 1, 2, 2, 1, 1, 2, 0, 1, 1, 2, 0, 2, 2, 2, 2, 2, 0, 1, 2, 2, 2, 2, 0, 0, 1, 2, 1, 1, 0, 1, 1, 0, 2, 2, 1, 1, 1, 0, 1, 1, 2, 1, 0, 2, 0, 0, 0, 0, 1, 0, 1, 1, 2, 1, 1, 0, 1, 0, 1, 1, 2, 2, 1, 1, 1, 1, 2, 1, 2, 1, 1, 2, 2, 2, 1, 2, 0, 1, 2, 1, 2, 2, 0, 2, 2, 0, 0, 1, 2, 1, 2, 2, 2, 0, 1, 2, 1, 1, 1, 0, 2, 2, 2, 2, 2, 0, 2, 2]\n",
            "f1 score:  0.8887580583051461\n",
            "recall:  0.8883812010443864\n",
            "precision:  0.8928984715603875\n",
            "accuracy:  0.8883812010443864\n"
          ],
          "name": "stdout"
        }
      ]
    },
    {
      "cell_type": "markdown",
      "metadata": {
        "id": "4fD1b2YMhgwV"
      },
      "source": [
        "## ResNet 18 (pretrained = True)"
      ]
    },
    {
      "cell_type": "code",
      "metadata": {
        "id": "MdDYJ_LdhkJi",
        "colab": {
          "base_uri": "https://localhost:8080/",
          "height": 105,
          "referenced_widgets": [
            "5901f0453d254198862ad962a0144d29",
            "70cd8f5a5d374fb5a60066c9a736c683",
            "558e9dca7af240e1a70185f0217b1a46",
            "1ca7ac44d6004a94984d29bd76b3289a",
            "a629c379c3844f588e4ed29e4cf75e7b",
            "2952f273bf6544bc876539b7fc5e4697",
            "54eb5a9a1ff64600a923f704cc183a7d",
            "56123685e1f742f9bd752c7288e1ecc2"
          ]
        },
        "outputId": "49e0e6b3-bc72-48d3-fdc8-c6ed866faaf0"
      },
      "source": [
        "import torchvision.models as models\n",
        "import torch.optim as optim\n",
        "\n",
        "model =  models.resnet18(pretrained=True)\n",
        "num_ftrs = model.fc.in_features\n",
        "model.fc = nn.Linear(num_ftrs, 3)"
      ],
      "execution_count": null,
      "outputs": [
        {
          "output_type": "stream",
          "text": [
            "Downloading: \"https://download.pytorch.org/models/resnet18-5c106cde.pth\" to /root/.cache/torch/hub/checkpoints/resnet18-5c106cde.pth\n"
          ],
          "name": "stderr"
        },
        {
          "output_type": "display_data",
          "data": {
            "application/vnd.jupyter.widget-view+json": {
              "model_id": "5901f0453d254198862ad962a0144d29",
              "version_minor": 0,
              "version_major": 2
            },
            "text/plain": [
              "HBox(children=(FloatProgress(value=0.0, max=46827520.0), HTML(value='')))"
            ]
          },
          "metadata": {
            "tags": []
          }
        },
        {
          "output_type": "stream",
          "text": [
            "\n"
          ],
          "name": "stdout"
        }
      ]
    },
    {
      "cell_type": "code",
      "metadata": {
        "colab": {
          "base_uri": "https://localhost:8080/"
        },
        "id": "h7-fOLyvjXwt",
        "outputId": "0f7d52a1-04b1-41d9-a4cf-f84bbbfb5136"
      },
      "source": [
        "# params_to_update = []\n",
        "# for name,param in model.named_parameters():\n",
        "#     if param.requires_grad == True:\n",
        "#         params_to_update.append(param)\n",
        "optimizer = optim.Adam(model.parameters(), 0.001, weight_decay=0.0)\n",
        "scheduler = torch.optim.lr_scheduler.ReduceLROnPlateau(optimizer, patience=5, factor=0.3, threshold=0.0001) \n",
        "train_model(model, optimizer, scheduler, 10)"
      ],
      "execution_count": null,
      "outputs": [
        {
          "output_type": "stream",
          "text": [
            "\n",
            "**********epoch:  0 \n",
            "\n",
            "\n",
            "train:\n",
            "\n",
            "loss:  0.4765957784321573\n",
            "f1 score:  0.8500195124577951\n",
            "recall:  0.8501742160278746\n",
            "precision:  0.8501053612684673\n",
            "accuracy:  0.8501742160278746\n",
            "\n",
            "validation:\n",
            "\n",
            "loss:  4.9148114985889855\n",
            "f1 score:  0.5111029629231506\n",
            "recall:  0.608355091383812\n",
            "precision:  0.7707115069638123\n",
            "accuracy:  0.608355091383812\n",
            "\n",
            "**********epoch:  1 \n",
            "\n",
            "\n",
            "train:\n",
            "\n",
            "loss:  0.2316454489611917\n",
            "f1 score:  0.9204187439095004\n",
            "recall:  0.9207317073170732\n",
            "precision:  0.9209770271090256\n",
            "accuracy:  0.9207317073170732\n",
            "\n",
            "validation:\n",
            "\n",
            "loss:  0.2121070468177398\n",
            "f1 score:  0.9255313563692812\n",
            "recall:  0.9251523063533508\n",
            "precision:  0.927820400176832\n",
            "accuracy:  0.9251523063533508\n",
            "\n",
            "**********epoch:  2 \n",
            "\n",
            "\n",
            "train:\n",
            "\n",
            "loss:  0.14111952343955636\n",
            "f1 score:  0.9433809607618748\n",
            "recall:  0.9433797909407665\n",
            "precision:  0.9433884626308026\n",
            "accuracy:  0.9433797909407665\n",
            "\n",
            "validation:\n",
            "\n",
            "loss:  0.25852689491067493\n",
            "f1 score:  0.9083379328569967\n",
            "recall:  0.9086161879895561\n",
            "precision:  0.913536233985455\n",
            "accuracy:  0.9086161879895561\n",
            "\n",
            "**********epoch:  3 \n",
            "\n",
            "\n",
            "train:\n",
            "\n",
            "loss:  0.19728206548218927\n",
            "f1 score:  0.9311455717997147\n",
            "recall:  0.931184668989547\n",
            "precision:  0.9315099358102222\n",
            "accuracy:  0.931184668989547\n",
            "\n",
            "validation:\n",
            "\n",
            "loss:  0.40925575606524944\n",
            "f1 score:  0.8625041802600795\n",
            "recall:  0.8624891209747607\n",
            "precision:  0.8885353622249714\n",
            "accuracy:  0.8624891209747607\n",
            "\n",
            "**********epoch:  4 \n",
            "\n",
            "\n",
            "train:\n",
            "\n",
            "loss:  0.10594125586147937\n",
            "f1 score:  0.957313504277486\n",
            "recall:  0.9573170731707317\n",
            "precision:  0.9573284456058847\n",
            "accuracy:  0.9573170731707317\n",
            "\n",
            "validation:\n",
            "\n",
            "loss:  0.29826240003522897\n",
            "f1 score:  0.8996388793602953\n",
            "recall:  0.8981723237597912\n",
            "precision:  0.9143894193237305\n",
            "accuracy:  0.8981723237597912\n",
            "\n",
            "**********epoch:  5 \n",
            "\n",
            "\n",
            "train:\n",
            "\n",
            "loss:  0.0962046119513818\n",
            "f1 score:  0.9695245166980261\n",
            "recall:  0.9695121951219512\n",
            "precision:  0.9695391378949704\n",
            "accuracy:  0.9695121951219512\n",
            "\n",
            "validation:\n",
            "\n",
            "loss:  0.3206398621615436\n",
            "f1 score:  0.8876525117147752\n",
            "recall:  0.8885987815491732\n",
            "precision:  0.8905365108584019\n",
            "accuracy:  0.8885987815491732\n",
            "\n",
            "**********epoch:  6 \n",
            "\n",
            "\n",
            "train:\n",
            "\n",
            "loss:  0.10024674529106253\n",
            "f1 score:  0.9599325392681656\n",
            "recall:  0.9599303135888502\n",
            "precision:  0.959949497222229\n",
            "accuracy:  0.9599303135888502\n",
            "\n",
            "validation:\n",
            "\n",
            "loss:  0.18416024987689322\n",
            "f1 score:  0.931121902897384\n",
            "recall:  0.9312445604873804\n",
            "precision:  0.9320676093270092\n",
            "accuracy:  0.9312445604873804\n",
            "\n",
            "**********epoch:  7 \n",
            "\n",
            "\n",
            "train:\n",
            "\n",
            "loss:  0.08320765316279398\n",
            "f1 score:  0.9703698222446779\n",
            "recall:  0.9703832752613241\n",
            "precision:  0.9703897494547375\n",
            "accuracy:  0.9703832752613241\n",
            "\n",
            "validation:\n",
            "\n",
            "loss:  1.8745042516125574\n",
            "f1 score:  0.5972640681613489\n",
            "recall:  0.6292428198433421\n",
            "precision:  0.8182315071859855\n",
            "accuracy:  0.6292428198433421\n",
            "\n",
            "**********epoch:  8 \n",
            "\n",
            "\n",
            "train:\n",
            "\n",
            "loss:  0.07835310997648372\n",
            "f1 score:  0.9730152537388954\n",
            "recall:  0.9729965156794426\n",
            "precision:  0.9730546339646036\n",
            "accuracy:  0.9729965156794426\n",
            "\n",
            "validation:\n",
            "\n",
            "loss:  0.2289647254575458\n",
            "f1 score:  0.917506227128599\n",
            "recall:  0.917319408181027\n",
            "precision:  0.9236421681045575\n",
            "accuracy:  0.917319408181027\n",
            "\n",
            "**********epoch:  9 \n",
            "\n",
            "\n",
            "train:\n",
            "\n",
            "loss:  0.058242667970868446\n",
            "f1 score:  0.9799648181585965\n",
            "recall:  0.9799651567944251\n",
            "precision:  0.9799710475666318\n",
            "accuracy:  0.9799651567944251\n",
            "\n",
            "validation:\n",
            "\n",
            "loss:  0.21718666060931152\n",
            "f1 score:  0.9365170539820518\n",
            "recall:  0.9364664926022629\n",
            "precision:  0.9372921298288659\n",
            "accuracy:  0.9364664926022629\n"
          ],
          "name": "stdout"
        }
      ]
    },
    {
      "cell_type": "code",
      "metadata": {
        "id": "IA1NLVSjlMNq"
      },
      "source": [
        "torch.save(model.state_dict(), \"resNet18_true\")\n"
      ],
      "execution_count": null,
      "outputs": []
    },
    {
      "cell_type": "code",
      "metadata": {
        "colab": {
          "base_uri": "https://localhost:8080/"
        },
        "id": "C9aJ1TnQjhI1",
        "outputId": "c4f80c58-2e66-455c-ca5b-af31cd4757ed"
      },
      "source": [
        "test_model(model, optimizer, scheduler)"
      ],
      "execution_count": null,
      "outputs": [
        {
          "output_type": "stream",
          "text": [
            "test: \n",
            "loss:  0.24843634835754833\n",
            "[[-4.778416633605957, -2.5089728832244873, 6.358242988586426], [-7.071140766143799, -5.106512069702148, 10.697550773620605], [15.057455062866211, -11.288637161254883, -6.870029449462891], [7.536367893218994, -5.052290916442871, -3.9550490379333496], [6.712723255157471, -4.998384475708008, -2.788243532180786], [-6.634549617767334, -3.655519485473633, 9.625029563903809], [-5.299911022186279, -1.8649884462356567, 6.143850326538086], [-3.7956418991088867, 0.6897167563438416, 2.5085580348968506], [-2.100250244140625, 2.700857162475586, -0.8825761675834656], [9.011983871459961, -6.856540203094482, -3.8826396465301514], [-5.923038005828857, -5.099541664123535, 9.636500358581543], [-1.579984426498413, 2.116593360900879, -1.0120785236358643], [-6.504272937774658, -3.0328118801116943, 8.460382461547852], [-8.466806411743164, -6.26791524887085, 12.760157585144043], [-7.088183879852295, -4.588127613067627, 10.47635269165039], [-3.512254238128662, 5.478050708770752, -2.4203546047210693], [-5.486018657684326, -0.22906318306922913, 5.00802755355835], [-6.478858470916748, -2.309946060180664, 8.058384895324707], [-2.4492759704589844, 4.648252487182617, -2.6147565841674805], [-6.866477012634277, -4.460094928741455, 10.084918022155762], [-5.092059135437012, -2.247176170349121, 6.3020172119140625], [-3.9287872314453125, -3.3408868312835693, 6.222841739654541], [7.378701686859131, -5.689331531524658, -3.015331268310547], [-4.732517719268799, 6.462042808532715, -2.3539535999298096], [-4.715095520019531, -4.821994304656982, 7.60798978805542], [-2.2834219932556152, 3.4896388053894043, -1.5439701080322266], [-3.1916513442993164, 4.655306816101074, -1.8663103580474854], [8.125574111938477, -7.179272651672363, -2.871079206466675], [-4.476517677307129, 7.3309173583984375, -3.632671356201172], [0.14431104063987732, -2.55218505859375, 1.8059911727905273], [-3.838881015777588, -0.08228090405464172, 3.539271593093872], [-3.686985969543457, -2.3954176902770996, 5.431795597076416], [-4.329989433288574, -1.5194679498672485, 4.860164165496826], [13.501726150512695, -9.945039749145508, -6.276566505432129], [-1.1176948547363281, -1.6548999547958374, 2.3584234714508057], [-3.8464622497558594, 5.563077926635742, -2.0628855228424072], [-1.9959778785705566, -4.726043701171875, 5.286734580993652], [-1.905240535736084, 3.32212495803833, -1.842818021774292], [-3.796529769897461, 5.371123313903809, -1.9763293266296387], [-1.9637603759765625, 4.536118507385254, -3.1215603351593018], [12.28070068359375, -8.767372131347656, -5.886338233947754], [-3.0167341232299805, 3.9058148860931396, -1.3004670143127441], [-3.3714704513549805, 6.425049781799316, -3.6246931552886963], [7.6368489265441895, -6.085288047790527, -3.1049370765686035], [-4.121505260467529, -2.6441102027893066, 6.065561771392822], [-2.821737766265869, 3.901674270629883, -1.4843486547470093], [4.8844685554504395, -3.000033140182495, -2.7363173961639404], [3.4351086616516113, -5.708585739135742, 0.9010103940963745], [-2.7886297702789307, -1.541725993156433, 3.5717127323150635], [-2.9715065956115723, 0.41368165612220764, 2.2553021907806396], [-2.2994155883789062, 3.9847664833068848, -2.1154677867889404], [-2.619554042816162, 2.5587213039398193, -0.35932472348213196], [-1.2962067127227783, 2.7794060707092285, -1.8674747943878174], [-5.438075542449951, -6.136415958404541, 9.833258628845215], [-6.4829230308532715, -3.868267059326172, 9.21513843536377], [12.264361381530762, -9.284881591796875, -5.480642318725586], [-4.1629157066345215, -3.5572991371154785, 6.300234794616699], [-4.492124080657959, 8.126457214355469, -4.356165885925293], [-11.424278259277344, -2.3784050941467285, 12.610421180725098], [-2.5374298095703125, 5.029142379760742, -3.1513049602508545], [-5.35895299911499, -1.9839317798614502, 6.509514331817627], [-2.7346930503845215, 5.138800621032715, -2.887770175933838], [-3.37020206451416, 7.986053466796875, -5.236960411071777], [-1.6571481227874756, 2.2092971801757812, -0.8991665840148926], [-3.044560194015503, 5.657713890075684, -3.04353404045105], [-2.476461887359619, 4.7823944091796875, -2.7796106338500977], [9.858898162841797, -6.87950325012207, -4.948879241943359], [-3.400120258331299, 5.553183555603027, -2.801448106765747], [14.780595779418945, -10.894341468811035, -6.892769813537598], [-3.8311853408813477, 3.407317638397217, -0.29114261269569397], [10.597978591918945, -8.462742805480957, -4.319461822509766], [10.734223365783691, -10.267698287963867, -3.3507163524627686], [-2.660731792449951, 2.407745122909546, -0.16005122661590576], [5.232240200042725, -4.446071624755859, -1.7293109893798828], [-5.777894020080566, -4.950822830200195, 9.1390380859375], [2.6810519695281982, -3.255419969558716, -0.6284936666488647], [-3.6854021549224854, 2.9956741333007812, 0.17310723662376404], [-2.2061643600463867, 0.5535735487937927, 1.3951022624969482], [-4.719035625457764, 4.223272800445557, -0.011251996271312237], [-5.048648357391357, -3.2362632751464844, 6.940366744995117], [6.314181804656982, -3.9677371978759766, -3.364323377609253], [-3.1748833656311035, 4.894189834594727, -2.1945407390594482], [2.602997303009033, -2.796926498413086, -0.36380255222320557], [-6.902308940887451, -4.68040132522583, 10.07277774810791], [-5.870553493499756, -7.312531471252441, 10.958258628845215], [-6.019331455230713, -2.2777087688446045, 7.259940147399902], [6.876125812530518, -5.225986480712891, -3.0385420322418213], [-4.3153395652771, 5.233162879943848, -1.4826226234436035], [-1.761063575744629, 4.044575214385986, -2.6164815425872803], [-2.505295753479004, 5.029653549194336, -2.988541603088379], [-3.783078193664551, 4.8722991943359375, -1.6605250835418701], [-5.135961055755615, 6.738811016082764, -2.0606791973114014], [-5.254222869873047, 6.158032417297363, -1.395399570465088], [-2.953402519226074, -3.903505325317383, 5.562063217163086], [-3.899635076522827, -5.498163223266602, 7.606836318969727], [14.338080406188965, -10.020551681518555, -7.3782572746276855], [-5.48779821395874, 4.69458532333374, 0.13967788219451904], [4.50303840637207, -2.3763699531555176, -2.883023977279663], [9.355880737304688, -9.804540634155273, -2.574268102645874], [-5.383326530456543, 7.876873016357422, -3.2736008167266846], [-0.3404901921749115, -3.7382469177246094, 2.867136001586914], [-3.8092565536499023, 1.2578178644180298, 1.9427545070648193], [-1.2823460102081299, 1.3555158376693726, -0.41526636481285095], [8.158203125, -6.747467994689941, -3.2443878650665283], [-5.672172546386719, -6.081181526184082, 9.80690860748291], [0.9323354959487915, -0.40982499718666077, -0.9219361543655396], [5.592383861541748, -4.235030651092529, -2.319727897644043], [-2.7358479499816895, 3.064072608947754, -0.7456449270248413], [-7.173311710357666, -3.7322020530700684, 9.793410301208496], [-3.465078592300415, 1.6307228803634644, 1.3387975692749023], [-1.2916170358657837, -4.12409782409668, 4.075803279876709], [-4.149425506591797, 7.24805212020874, -3.7809102535247803], [-3.4837284088134766, -0.8536845445632935, 3.6728923320770264], [-4.4555277824401855, 4.892249584197998, -0.9174554347991943], [-3.5774435997009277, 4.014344215393066, -1.082605242729187], [-4.115684986114502, 2.8282604217529297, 0.8612319231033325], [-2.622967481613159, 3.6014928817749023, -1.3851423263549805], [13.196616172790527, -9.636497497558594, -6.166963577270508], [10.261348724365234, -7.456258773803711, -4.727574348449707], [13.271738052368164, -9.832746505737305, -6.147687911987305], [-2.5914926528930664, 4.4537248611450195, -2.2008090019226074], [-4.1531853675842285, 6.315860271453857, -2.725032091140747], [7.805757522583008, -4.526921272277832, -4.876081466674805], [-5.553752422332764, -2.0580036640167236, 6.90267276763916], [13.793760299682617, -10.324005126953125, -6.201576232910156], [11.256660461425781, -8.535985946655273, -5.2871294021606445], [-2.8429207801818848, 5.369661331176758, -2.9175467491149902], [-3.804769515991211, -2.006381034851074, 5.0417399406433105], [12.650115013122559, -9.63851547241211, -5.518386363983154], [-1.75510573387146, 0.9199375510215759, 0.47633787989616394], [-4.773857116699219, 3.2957687377929688, 1.151257038116455], [12.447103500366211, -8.620336532592773, -6.115311622619629], [-5.987007141113281, -2.0907785892486572, 7.354576110839844], [-6.936858654022217, -6.278565406799316, 11.320669174194336], [-4.882362365722656, -3.3942933082580566, 7.026068210601807], [9.170047760009766, -6.657626152038574, -4.330137252807617], [11.701107025146484, -8.879518508911133, -5.304838180541992], [-0.24891653656959534, 1.371933102607727, -1.5170249938964844], [-4.436058044433594, 7.5185322761535645, -3.6332085132598877], [9.842613220214844, -7.055911540985107, -4.48050594329834], [-4.724148273468018, -3.2999279499053955, 6.583907127380371], [-3.5763657093048096, 4.485411643981934, -1.327590823173523], [-3.5741074085235596, 4.977019309997559, -1.9120309352874756], [-4.151278018951416, 5.678831100463867, -2.020385980606079], [0.7836471199989319, -1.6680541038513184, 0.4257546067237854], [-6.1363983154296875, -1.8650060892105103, 6.928070068359375], [6.729572772979736, -5.133100509643555, -3.0406620502471924], [14.287809371948242, -10.437564849853516, -6.756850719451904], [-6.229880332946777, -6.529470443725586, 10.5485258102417], [-3.817117691040039, 5.4302215576171875, -2.0552279949188232], [10.571260452270508, -8.202987670898438, -4.619023323059082], [-2.150784492492676, 5.748239517211914, -4.127920150756836], [-3.9323041439056396, 2.097074508666992, 1.4300907850265503], [-3.169368267059326, -4.1495842933654785, 5.980536460876465], [-3.6597347259521484, -1.4736709594726562, 4.760622024536133], [-7.889621257781982, -3.86411714553833, 10.687119483947754], [-4.402273178100586, 6.051619529724121, -2.232572317123413], [-3.528796911239624, 5.860542297363281, -2.9016599655151367], [-4.869810581207275, 7.832612991333008, -3.5390279293060303], [-7.330365180969238, -4.403231620788574, 10.628239631652832], [10.47304916381836, -7.667984962463379, -4.764009952545166], [-2.2740392684936523, 1.1886411905288696, 0.686096727848053], [-4.365128517150879, -4.322036266326904, 7.086418151855469], [-6.7832722663879395, -6.869297981262207, 11.487505912780762], [7.705911636352539, -5.638589859008789, -3.4020559787750244], [-5.457447528839111, 7.1307477951049805, -2.3708064556121826], [-5.545308589935303, -5.199313163757324, 9.16344928741455], [-3.936833381652832, 7.116174697875977, -3.779810667037964], [-3.9930875301361084, -1.7322086095809937, 5.002077102661133], [-3.414543390274048, 6.533158302307129, -3.713606119155884], [-3.9400248527526855, 5.891557693481445, -2.7032721042633057], [6.450773239135742, -4.556495666503906, -2.9438514709472656], [9.254095077514648, -7.184541702270508, -3.9482924938201904], [-6.683003902435303, -2.0190577507019043, 7.914656639099121], [9.419329643249512, -7.43959379196167, -3.882904291152954], [-3.6285147666931152, 5.410920143127441, -2.1974740028381348], [-6.14870548248291, -3.885845899581909, 8.621413230895996], [-3.9573352336883545, -2.558159828186035, 5.375636100769043], [-5.616074085235596, -4.435249328613281, 8.504687309265137], [-5.840096950531006, -6.694664001464844, 10.513344764709473], [-5.519904613494873, -3.0734574794769287, 7.367526531219482], [-1.2798622846603394, 3.5050692558288574, -2.6247236728668213], [13.040881156921387, -10.050666809082031, -5.809085845947266], [8.021160125732422, -4.996811389923096, -4.636593818664551], [7.106933116912842, -5.490026473999023, -2.9190971851348877], [-4.640876293182373, 6.284613132476807, -2.1616227626800537], [-2.7716197967529297, 4.8632283210754395, -2.626723289489746], [7.8277130126953125, -4.157513618469238, -5.0753912925720215], [-10.131515502929688, -3.14982008934021, 11.989350318908691], [-4.001004695892334, -4.759997844696045, 7.191762924194336], [-5.188651084899902, 4.2143096923828125, 0.27127575874328613], [7.155110836029053, -4.833793640136719, -3.5831668376922607], [-2.5940921306610107, 2.0012707710266113, 0.17788490653038025], [13.897478103637695, -8.473945617675781, -8.012842178344727], [-1.630010724067688, 3.575056552886963, -2.3008553981781006], [-4.4874162673950195, -2.151792526245117, 5.955911159515381], [-4.0189032554626465, 4.897213935852051, -1.322453498840332], [5.086860179901123, -3.507568597793579, -2.1899521350860596], [4.2091522216796875, -3.0739736557006836, -1.89013671875], [-5.070748805999756, -6.009346008300781, 9.267683982849121], [9.057998657226562, -7.3111677169799805, -3.574558734893799], [-1.4956986904144287, 3.39363431930542, -2.4228618144989014], [6.198332786560059, -3.73488712310791, -3.6272876262664795], [-5.985724925994873, -5.33405876159668, 9.664990425109863], [-2.6326982975006104, -0.08841708302497864, 2.414496660232544], [-1.685612440109253, -1.124424695968628, 2.4564833641052246], [4.468710422515869, -3.8668086528778076, -1.5084683895111084], [-2.854203224182129, -1.9614206552505493, 4.109807968139648], [12.56324291229248, -9.122193336486816, -5.877887725830078], [-2.2539255619049072, 4.0490546226501465, -2.4002420902252197], [-3.7205543518066406, 7.392426490783691, -4.205219268798828], [1.0229343175888062, 1.7292367219924927, -3.0602972507476807], [-5.5918354988098145, -5.996069431304932, 9.60684585571289], [3.653021812438965, -3.3491673469543457, -0.9492889642715454], [13.933429718017578, -10.099245071411133, -6.6021857261657715], [-1.9710626602172852, 3.184046745300293, -1.5154032707214355], [-3.469636917114258, 6.763182640075684, -3.7592170238494873], [-3.139218330383301, 6.024594306945801, -3.5075976848602295], [-3.618018627166748, -4.104525566101074, 6.374871253967285], [-4.843301773071289, 7.687312126159668, -3.4672868251800537], [-3.360476016998291, -1.8885269165039062, 4.634708881378174], [-1.8570040464401245, -1.7253509759902954, 3.2052574157714844], [13.137618064880371, -8.54011344909668, -7.126961708068848], [-2.4473276138305664, 4.677312850952148, -2.6230366230010986], [-2.8678812980651855, -3.5128324031829834, 5.606205940246582], [-3.4907209873199463, 1.3968805074691772, 1.6922187805175781], [4.410414695739746, -3.94573974609375, -1.3943196535110474], [3.305514335632324, -2.178626775741577, -1.7399016618728638], [-6.203929424285889, -6.2473978996276855, 10.523665428161621], [-4.462436676025391, 5.398430824279785, -1.7818677425384521], [-8.95997428894043, -2.9339845180511475, 10.63986873626709], [1.028313398361206, -2.902688980102539, 1.2825443744659424], [9.157058715820312, -6.624338626861572, -4.214059829711914], [-3.2716550827026367, 5.016116619110107, -2.246720314025879], [-3.519364833831787, -6.016376972198486, 7.600194931030273], [-3.1999433040618896, 3.9786720275878906, -1.266287088394165], [2.277524948120117, -2.8812003135681152, -0.041230928152799606], [-0.8242393136024475, 4.339727401733398, -4.017794609069824], [7.954427242279053, -5.708213806152344, -3.726069450378418], [15.012773513793945, -10.792285919189453, -7.161389350891113], [-6.726654529571533, -3.3241679668426514, 9.093551635742188], [8.907979965209961, -7.368273735046387, -3.429921865463257], [-3.9986114501953125, 5.637856483459473, -2.177896022796631], [-4.981402397155762, 3.0649120807647705, 0.89584881067276], [3.342484951019287, -2.8821377754211426, -0.9604299068450928], [10.052116394042969, -6.62296199798584, -5.401482105255127], [8.30573844909668, -6.336274147033691, -3.6417922973632812], [-3.007429599761963, -0.6704860329627991, 3.144813299179077], [-2.1504669189453125, 1.2478212118148804, 0.22747357189655304], [0.5007248520851135, -3.499411106109619, 2.3356804847717285], [-4.6215972900390625, 7.536818504333496, -3.6303226947784424], [-4.613034725189209, -4.880189895629883, 7.94038200378418], [-4.325047492980957, -5.076241493225098, 7.631769180297852], [-2.699522018432617, 3.2131309509277344, -0.9865548610687256], [13.668415069580078, -9.76431941986084, -6.661834239959717], [-4.1601338386535645, 8.118683815002441, -4.603908061981201], [-3.1276934146881104, 3.9128761291503906, -1.0685056447982788], [-1.6537213325500488, 3.526979446411133, -2.269657850265503], [13.245329856872559, -9.793866157531738, -6.146145820617676], [-3.1313729286193848, 3.541647434234619, -0.8761059641838074], [7.186096668243408, -4.9678850173950195, -3.356461763381958], [-4.972216606140137, -0.2517247498035431, 4.804914951324463], [10.016199111938477, -7.48720645904541, -4.531965255737305], [-6.245704174041748, -2.9039406776428223, 7.96022367477417], [0.4402693808078766, -1.908481240272522, 1.0749543905258179], [-3.912761688232422, -1.955182433128357, 5.456575870513916], [-6.823758602142334, -7.6268205642700195, 11.825043678283691], [-3.352997064590454, 0.4407709538936615, 2.357623338699341], [-4.291350364685059, 6.950621604919434, -3.235696315765381], [9.69913101196289, -5.943936347961426, -5.676046848297119], [1.227666974067688, -2.7509498596191406, 0.9674120545387268], [13.815040588378906, -7.59187650680542, -8.692398071289062], [-5.6104817390441895, 3.4979946613311768, 1.6179790496826172], [-4.6487345695495605, 5.333857536315918, -1.248746633529663], [-3.3510360717773438, 1.7485564947128296, 1.0829453468322754], [9.23086166381836, -6.973874092102051, -4.158510208129883], [1.828200340270996, -2.3005692958831787, -0.03471903130412102], [13.185212135314941, -10.356386184692383, -5.76094913482666], [-3.3925695419311523, 4.376500129699707, -1.3278272151947021], [14.246469497680664, -10.476387023925781, -6.551212310791016], [-2.6682887077331543, -4.907998085021973, 5.84058952331543], [-4.028599262237549, 2.991623878479004, 0.5385451316833496], [-8.64682674407959, -0.9100683331489563, 8.469199180603027], [3.0351433753967285, -1.0510393381118774, -2.8656628131866455], [-3.426750659942627, -0.08262902498245239, 2.7553584575653076], [-5.9468841552734375, -6.364527702331543, 10.331101417541504], [-3.394566297531128, 2.0510013103485107, 0.8248937129974365], [6.971563816070557, -5.5173139572143555, -2.783928871154785], [11.9313383102417, -8.35305404663086, -6.008363723754883], [-5.812182903289795, -5.007783889770508, 9.36208724975586], [-2.217109203338623, 4.257409572601318, -2.3630077838897705], [-5.112864017486572, 5.169027328491211, -0.5865594744682312], [-0.9984373450279236, 0.8264099359512329, -0.14322781562805176], [-1.7096596956253052, -0.19755509495735168, 1.4666012525558472], [-5.878935813903809, -5.145393371582031, 9.319883346557617], [-2.8566441535949707, 4.277759075164795, -1.7380623817443848], [-6.340357303619385, -2.6146700382232666, 7.832151412963867], [0.3418702483177185, -1.7853399515151978, 1.035911202430725], [-2.962233304977417, 4.074923515319824, -1.611981749534607], [-6.229567527770996, 4.025460243225098, 1.7432019710540771], [-3.6516900062561035, 3.9126815795898438, -0.6592406630516052], [12.464071273803711, -8.318047523498535, -7.035001754760742], [-2.7271006107330322, 4.885778427124023, -2.596914052963257], [-1.5806695222854614, 4.486739635467529, -3.1720829010009766], [6.786202430725098, -5.322031021118164, -3.023503541946411], [-3.65750789642334, 3.742161750793457, -0.4295254647731781], [-0.10448866337537766, -5.060701370239258, 3.3773770332336426], [-3.2479586601257324, 5.119929313659668, -2.497525691986084], [-2.4497733116149902, 1.0343892574310303, 1.0609900951385498], [-4.943756580352783, -3.88490891456604, 7.632237434387207], [9.230119705200195, -7.255663871765137, -3.9988088607788086], [-6.714558124542236, -4.554685592651367, 9.797429084777832], [-5.551806926727295, -3.9871487617492676, 7.964711666107178], [-3.7318029403686523, 7.516232967376709, -4.378492832183838], [-4.381406307220459, 3.720059394836426, 0.025765810161828995], [-7.211619853973389, -1.7169957160949707, 8.28955364227295], [14.356502532958984, -10.189945220947266, -7.255006790161133], [-2.2376060485839844, 4.753453254699707, -2.9794766902923584], [-3.7413506507873535, 1.9881972074508667, 1.2898778915405273], [-0.1768507957458496, -2.5127334594726562, 2.096693754196167], [-7.02055025100708, -1.705041527748108, 7.721622467041016], [-3.069444417953491, 0.6348497867584229, 2.0112740993499756], [-2.489858627319336, 2.1895689964294434, -0.2237747609615326], [-4.602830410003662, 6.557550430297852, -2.690465211868286], [5.923298358917236, -4.653491497039795, -2.275602340698242], [-3.8932433128356934, -4.517270088195801, 6.737754821777344], [-6.835672855377197, -4.772336006164551, 9.779788970947266], [-4.37642240524292, -3.3668301105499268, 6.322926044464111], [9.497379302978516, -7.147626876831055, -4.163319110870361], [0.9752810597419739, -2.3195364475250244, 0.8992414474487305], [-7.788126468658447, -6.215298175811768, 12.147210121154785], [-3.1129746437072754, 4.449222564697266, -1.7502176761627197], [-5.198774814605713, -3.6849024295806885, 7.253823280334473], [-4.076590538024902, 4.851582050323486, -1.4191794395446777], [-3.0625882148742676, 5.366166114807129, -2.7307424545288086], [-4.1637115478515625, 5.835084915161133, -2.392179489135742], [10.195487976074219, -5.0984272956848145, -7.481886863708496], [-4.110933780670166, -1.506340742111206, 5.160265922546387], [-3.2467284202575684, 3.259563446044922, -0.44244763255119324], [2.781066417694092, -2.751160144805908, -0.6142655611038208], [-3.3055715560913086, 2.8977365493774414, -0.19928619265556335], [14.523237228393555, -10.621660232543945, -6.861066818237305], [-3.751589775085449, 4.628475189208984, -1.41973078250885], [6.309096813201904, -4.68485164642334, -2.7815980911254883], [-8.387762069702148, -7.685009956359863, 13.833640098571777], [14.196443557739258, -10.420351028442383, -6.618369102478027], [3.447892665863037, -2.9397950172424316, -1.2632579803466797], [9.74729061126709, -6.655154228210449, -4.69578218460083], [11.069408416748047, -8.178718566894531, -4.975403785705566], [-5.049170017242432, 3.4167776107788086, 1.1738309860229492], [-3.6080732345581055, -2.1106081008911133, 5.259964466094971], [-6.348695278167725, -4.874222755432129, 9.807777404785156], [11.62044620513916, -8.28523063659668, -5.649562358856201], [-1.7394721508026123, 3.7590270042419434, -2.5079891681671143], [-5.667236328125, -2.392848491668701, 7.294539928436279], [-5.298332214355469, -5.727921009063721, 9.302032470703125], [-4.373184680938721, -2.979626178741455, 6.201458930969238], [-2.3749284744262695, 3.753408908843994, -1.823125958442688], [10.82778263092041, -7.335407257080078, -5.497444152832031], [12.306741714477539, -9.425674438476562, -5.505551338195801], [12.181434631347656, -7.5510993003845215, -6.736597537994385], [-0.5793533325195312, -1.071874976158142, 1.11979079246521], [-8.736637115478516, -0.8506054282188416, 8.726885795593262], [11.405672073364258, -9.066425323486328, -4.799678802490234], [-3.120849370956421, 6.6864166259765625, -4.181156158447266], [-2.9112606048583984, 4.626387596130371, -1.9197378158569336], [-8.67052936553955, -5.2059173583984375, 12.489206314086914], [-6.182577610015869, -4.8418731689453125, 9.6136474609375], [-2.9472172260284424, 4.9431610107421875, -2.5234432220458984], [-4.012093544006348, 5.7975664138793945, -2.1848390102386475], [-3.7949185371398926, 3.3144283294677734, 0.008951728232204914], [-3.5529730319976807, -3.2335846424102783, 6.034637451171875], [13.143292427062988, -9.529548645019531, -6.194608211517334], [-1.3063452243804932, -1.9698108434677124, 2.8618030548095703], [-5.109715461730957, -5.167361259460449, 8.583550453186035], [-0.17132613062858582, -0.09828364849090576, -0.039442937821149826], [-2.566891670227051, 4.23660945892334, -2.006150960922241], [14.909847259521484, -11.10407829284668, -6.793875694274902], [-3.751394271850586, 5.8317036628723145, -2.680462121963501], [-2.7510764598846436, 4.010735034942627, -1.7023885250091553], [-0.6279292106628418, -0.5978929400444031, 0.691731870174408], [-4.339503288269043, -4.446317672729492, 7.4538445472717285], [12.076910018920898, -8.8103609085083, -5.691509246826172], [-2.5364222526550293, 3.2652382850646973, -1.1689162254333496], [-2.398984432220459, 2.852717876434326, -0.941398024559021], [-4.6658244132995605, 2.9634885787963867, 1.0309162139892578], [-0.6336936354637146, -1.831900715827942, 2.0719106197357178], [13.67060661315918, -10.230545997619629, -6.206816673278809], [14.118309020996094, -11.476020812988281, -5.867852210998535], [-4.603394985198975, 5.239773750305176, -1.1847302913665771], [-3.0371594429016113, -0.7815865278244019, 3.2978556156158447], [-5.861556529998779, 3.891038417816162, 1.3949769735336304], [3.573577404022217, -0.9879261255264282, -3.1319565773010254], [-4.434859275817871, -4.536678314208984, 7.759725570678711], [-3.674838066101074, 6.121094703674316, -2.9704127311706543], [-7.4322896003723145, -2.3179354667663574, 8.765840530395508], [2.960211753845215, 0.01344938762485981, -3.427412271499634], [13.35739803314209, -9.173221588134766, -6.7559494972229], [-3.251234531402588, -1.4703477621078491, 4.127607822418213], [-4.755526065826416, -1.763811707496643, 5.801563262939453], [-3.019655704498291, 0.37406888604164124, 2.3962643146514893], [-6.177076816558838, -3.9590017795562744, 8.848115921020508], [-2.3659310340881348, 2.3446226119995117, -0.3225405216217041], [-2.9233736991882324, 2.881956100463867, -0.47652438282966614], [-2.914598226547241, 3.191910743713379, -0.6886582970619202], [-4.41143274307251, 4.274206638336182, -0.3306240439414978], [-3.834299087524414, -1.7222142219543457, 4.585116863250732], [-2.216921806335449, -3.775749444961548, 4.771717071533203], [-3.2022948265075684, -3.7127022743225098, 5.5214314460754395], [-5.233431339263916, -5.633525848388672, 8.993752479553223], [2.0250182151794434, -1.8924506902694702, -0.604505181312561], [1.8055473566055298, 1.4850870370864868, -3.954310894012451], [-4.001163005828857, 7.040562629699707, -3.570924997329712], [-5.135838031768799, 7.38316011428833, -2.7637481689453125], [7.210394382476807, -6.119556427001953, -2.701533079147339], [-2.8548896312713623, 0.24768319725990295, 1.8351733684539795], [-5.462174892425537, -5.995786666870117, 8.973786354064941], [9.488649368286133, -7.170497894287109, -4.1804094314575195], [-5.506863117218018, -6.69639253616333, 10.118151664733887], [-1.652428388595581, 3.965191125869751, -2.708479881286621], [-2.8754987716674805, 4.674806118011475, -2.271376132965088], [-4.281249523162842, 2.48860764503479, 1.2586488723754883], [-4.3409318923950195, 7.826098442077637, -3.94450044631958], [10.719036102294922, -7.4268798828125, -5.317657947540283], [-2.155735969543457, -1.8381977081298828, 2.9957032203674316], [-1.7691755294799805, 2.3578367233276367, -0.9340403079986572], [-7.581228256225586, -1.244895100593567, 7.959960460662842], [-3.3689823150634766, -2.9935169219970703, 5.602065086364746], [-3.3760573863983154, 5.805100440979004, -2.943585157394409], [4.024136066436768, -1.6654689311981201, -3.022207021713257], [-5.220792293548584, -5.03908634185791, 8.474631309509277], [-6.481807231903076, 8.024942398071289, -2.086251974105835], [-6.130491733551025, -6.000862121582031, 10.339229583740234], [2.626915454864502, -1.9761170148849487, -1.198249340057373], [-4.262243747711182, -4.010990142822266, 6.8004350662231445], [10.573617935180664, -7.775518894195557, -4.847196578979492], [-4.549598693847656, -0.44356799125671387, 4.305630207061768], [10.739877700805664, -8.524438858032227, -4.356210708618164], [-0.9544409513473511, 1.560759425163269, -1.0246293544769287], [-4.670289039611816, -2.0170774459838867, 5.82780647277832], [0.10493183135986328, -1.6304925680160522, 1.1383846998214722], [-3.469961166381836, 2.637331962585449, 0.3862403333187103], [-2.9726715087890625, 4.765974998474121, -2.2263638973236084], [-7.231133937835693, -4.898708820343018, 10.513339042663574], [-5.190157413482666, -3.164104461669922, 6.916050910949707], [5.229059219360352, -4.571297645568848, -1.7752180099487305], [-10.084097862243652, -4.469487190246582, 12.706092834472656], [-0.6568308472633362, 0.9086964726448059, -0.5476931929588318], [-2.280898094177246, -1.7725378274917603, 3.6756441593170166], [-0.7765412926673889, 1.312182903289795, -0.9797013998031616], [-2.3767261505126953, 4.637825965881348, -2.611971139907837], [-5.244239807128906, -4.716431140899658, 8.449715614318848], [-6.156685829162598, -4.00369930267334, 8.756921768188477], [1.1240965127944946, -1.699674129486084, 0.17927426099777222], [-3.3726558685302734, 3.881765842437744, -0.8865756988525391], [9.913827896118164, -7.967434883117676, -3.9948956966400146], [8.917343139648438, -6.2526164054870605, -4.35889196395874], [-1.7810523509979248, 1.6777914762496948, -0.14674066007137299], [-2.747982978820801, 5.105520725250244, -2.7258152961730957], [-3.167250156402588, -0.37480494379997253, 3.2098515033721924], [-3.481858015060425, -3.7986249923706055, 6.039148330688477], [-2.7093658447265625, 2.3939526081085205, -0.04241802915930748], [3.2435545921325684, -2.420280933380127, -1.273965835571289], [-5.45058012008667, -1.5398720502853394, 6.332089424133301], [-6.921258449554443, -2.6699419021606445, 8.406402587890625], [-3.323927640914917, 3.3427138328552246, -0.3179207444190979], [-3.2071211338043213, 2.1197452545166016, 0.6757974028587341], [-4.832045078277588, -3.9607419967651367, 7.3275933265686035], [1.773474931716919, -0.9983920454978943, -1.3151559829711914], [-4.344284534454346, 3.116265296936035, 0.7860012054443359], [-8.542096138000488, -4.384657859802246, 11.643832206726074], [-5.819253444671631, -5.626043796539307, 9.878098487854004], [10.504545211791992, -7.903482913970947, -4.613268852233887], [7.197924613952637, -4.845463275909424, -3.623964309692383], [4.299206733703613, -3.068201780319214, -1.9138027429580688], [13.815651893615723, -10.232467651367188, -6.631568908691406], [-6.9952311515808105, -4.130578994750977, 9.720494270324707], [-2.1724791526794434, 3.8230607509613037, -2.117755174636841], [-2.1454877853393555, -1.0856977701187134, 2.7461087703704834], [-4.5117387771606445, -2.559647560119629, 6.3800201416015625], [-4.026134014129639, 0.7962732911109924, 2.738741159439087], [-7.466556549072266, -4.308178901672363, 10.360852241516113], [-1.2495718002319336, 1.8738511800765991, -1.0331476926803589], [-5.944515228271484, -4.128380298614502, 8.58994197845459], [-4.226068496704102, 3.3376564979553223, 0.3930501937866211], [-3.35174822807312, 5.986295700073242, -3.198760986328125], [-5.874811172485352, -7.044589519500732, 10.56971263885498], [9.179933547973633, -6.292248249053955, -4.540411472320557], [-3.3346471786499023, 3.5755228996276855, -0.8839917778968811], [-1.257544755935669, 1.746235966682434, -0.8167065382003784], [4.925120830535889, -3.4039816856384277, -2.40156626701355], [10.426437377929688, -8.075042724609375, -4.463338851928711], [-1.2596864700317383, 1.7494248151779175, -0.9034779667854309], [10.421810150146484, -7.152599811553955, -5.258840084075928], [-6.5893120765686035, -6.414573669433594, 11.182609558105469], [-5.0094218254089355, 6.7924699783325195, -2.3773155212402344], [-4.117369174957275, -3.2191405296325684, 6.081474304199219], [7.472865581512451, -5.313352584838867, -3.719419002532959], [-4.066065788269043, 4.2927961349487305, -0.754024088382721], [11.373882293701172, -8.691638946533203, -5.035330772399902], [-4.6220831871032715, -4.271915435791016, 7.5217461585998535], [-7.478633403778076, -4.491474628448486, 10.402009010314941], [12.22985553741455, -8.714975357055664, -5.884368896484375], [-3.9503068923950195, -0.04330241680145264, 3.619354486465454], [-3.526500701904297, 5.468801498413086, -2.4403939247131348], [-2.4373044967651367, 1.31356680393219, 0.60401451587677], [-4.746978759765625, -2.126997709274292, 5.784722328186035], [4.080413341522217, -1.9856451749801636, -2.7748515605926514], [-1.2793322801589966, 1.4372845888137817, -0.46863433718681335], [-1.4596977233886719, 1.1904417276382446, -0.021105777472257614], [-3.077254295349121, 3.286163330078125, -0.4931805729866028], [-4.909045219421387, -3.7531747817993164, 7.30302619934082], [-1.9137091636657715, 3.393815040588379, -1.68532133102417], [13.542259216308594, -9.585241317749023, -6.651489734649658], [-2.500363826751709, 2.5296781063079834, -0.7099624872207642], [-3.0988121032714844, 0.8686659932136536, 1.944007158279419], [12.820602416992188, -9.667563438415527, -5.853865623474121], [-3.6051158905029297, 5.142806053161621, -1.9518582820892334], [-3.5006933212280273, 2.798358917236328, 0.2691914141178131], [-6.05423641204834, -1.4730284214019775, 6.62203311920166], [-5.106184482574463, -4.548798561096191, 8.405945777893066], [-4.934229373931885, -2.5098488330841064, 6.782957553863525], [-2.596731185913086, 4.280056953430176, -2.2232351303100586], [5.308403491973877, -3.990405559539795, -2.216747522354126], [-3.389827251434326, 3.7460832595825195, -0.8704867362976074], [11.112963676452637, -8.662540435791016, -4.948145389556885], [9.306676864624023, -6.8026580810546875, -4.144684791564941], [-4.370502471923828, 7.010542869567871, -3.262481212615967], [-4.653138637542725, -4.64395809173584, 7.835022926330566], [-7.486952781677246, -4.955927848815918, 11.178726196289062], [15.562904357910156, -10.439933776855469, -8.254973411560059], [-2.5791728496551514, -1.74996817111969, 3.768162965774536], [-4.732896327972412, 7.163882732391357, -2.9691896438598633], [-6.279526710510254, -5.5243024826049805, 9.9464750289917], [-3.56032133102417, -2.23577618598938, 5.350529193878174], [12.644110679626465, -8.513140678405762, -6.543816566467285], [-2.777141571044922, 5.664695739746094, -3.4707367420196533], [-6.838815689086914, -2.498107433319092, 8.52402400970459], [-5.052951335906982, -4.250058174133301, 7.978269100189209], [7.266722202301025, -6.463683128356934, -2.551302909851074], [10.540207862854004, -7.5018463134765625, -5.058572292327881], [-3.1431455612182617, 3.265460968017578, -0.5751134157180786], [-6.606313228607178, -3.796138286590576, 9.13916301727295], [-2.6552469730377197, 3.3562488555908203, -1.0778710842132568], [-6.2552971839904785, -1.77863609790802, 7.184540748596191], [-4.920165538787842, 6.929721832275391, -2.6009180545806885], [-2.468644142150879, 2.9790701866149902, -0.8325780630111694], [2.321223020553589, -3.9080519676208496, -0.011538888327777386], [-5.405801296234131, -2.3104777336120605, 6.741704940795898], [-2.7636542320251465, -1.828977108001709, 3.62485408782959], [8.083684921264648, -6.732088088989258, -3.1435978412628174], [-1.559667706489563, 4.539995193481445, -3.431879758834839], [8.73314094543457, -5.800277233123779, -4.429755687713623], [-3.867448329925537, 5.479684829711914, -2.0836269855499268], [11.489927291870117, -7.541567802429199, -6.147010803222656], [-1.3067196607589722, -0.6059856414794922, 1.2118868827819824], [-2.8976404666900635, 1.9818211793899536, 0.32437101006507874], [-5.057536602020264, -2.5840978622436523, 6.613185405731201], [-3.4430317878723145, 3.460771083831787, -0.4795185625553131], [12.012235641479492, -9.29698657989502, -5.402905464172363], [5.688292026519775, -3.9984002113342285, -2.656343936920166], [-3.0172202587127686, -2.588571071624756, 4.334712028503418], [5.915670871734619, -5.157314300537109, -2.3135979175567627], [-6.231308460235596, -4.1663055419921875, 8.970744132995605], [-2.551128387451172, 2.7998909950256348, -0.8205172419548035], [-3.7470855712890625, 3.12612247467041, 0.08283791691064835], [-3.7466394901275635, 5.400920867919922, -1.9372026920318604], [-4.6166839599609375, 3.4103803634643555, 0.9023181200027466], [-2.4690816402435303, -4.222050666809082, 5.2840576171875], [7.281700611114502, -6.0690016746521, -2.645761728286743], [8.832085609436035, -6.423641204833984, -4.052240371704102], [-3.9535140991210938, 4.5521559715271, -0.9628757238388062], [-4.399825572967529, 5.9638142585754395, -2.0708048343658447], [-4.46651554107666, -0.665591299533844, 4.731052398681641], [-6.427830219268799, -6.266107559204102, 10.960134506225586], [7.87362813949585, -5.635996341705322, -3.5954840183258057], [7.6541852951049805, -5.411731719970703, -3.668105363845825], [-2.9726223945617676, 6.0261125564575195, -3.519543409347534], [-3.8039755821228027, -2.9823405742645264, 5.537562847137451], [12.714900970458984, -9.237991333007812, -5.980696678161621], [-1.5066032409667969, 0.6480206251144409, 0.606866180896759], [-3.3454089164733887, 4.604471206665039, -1.6297369003295898], [-3.3843722343444824, 5.496947288513184, -2.6479461193084717], [-3.914489269256592, 2.882495880126953, 0.34062132239341736], [3.4362261295318604, -2.6967616081237793, -1.2226189374923706], [17.415761947631836, -13.125152587890625, -7.9203033447265625], [3.890381336212158, -3.6635937690734863, -1.053173303604126], [8.712068557739258, -6.456282615661621, -4.084572792053223], [6.82290506362915, -6.82838249206543, -1.9378845691680908], [-4.84564733505249, -0.5667048096656799, 4.823646545410156], [-3.467073440551758, 1.8176798820495605, 1.23265540599823], [-3.578697443008423, -3.336282730102539, 6.037746906280518], [-5.006178855895996, -5.253141403198242, 8.413331031799316], [-0.12637320160865784, -2.6580281257629395, 2.253755807876587], [-4.89675760269165, 5.992166519165039, -1.5435398817062378], [-2.5400328636169434, 3.093414783477783, -0.9129912853240967], [12.294751167297363, -9.088272094726562, -5.653589248657227], [-4.881382942199707, -5.68161678314209, 8.56751823425293], [6.69122838973999, -5.406494140625, -2.5896003246307373], [-4.116459369659424, -2.7548351287841797, 5.864891052246094], [-6.188147068023682, -4.794992923736572, 9.584108352661133], [7.1017985343933105, -6.198897361755371, -2.3399274349212646], [-4.3681206703186035, 4.142218112945557, -0.2235289216041565], [8.342967987060547, -6.095240592956543, -3.8450369834899902], [10.713871002197266, -7.755029678344727, -5.037747383117676], [-6.099459171295166, -3.522469997406006, 8.299837112426758], [7.664000034332275, -4.512621879577637, -4.694761753082275], [-7.496406555175781, -7.397366523742676, 12.759513854980469], [-6.752185344696045, -4.129324913024902, 9.60670280456543], [-4.372110843658447, 6.580789566040039, -2.7337870597839355], [-4.778726100921631, 8.13040542602539, -3.931647777557373], [-4.46785831451416, 7.180610656738281, -3.1855924129486084], [11.013570785522461, -7.900574207305908, -5.111080646514893], [12.386308670043945, -9.091093063354492, -5.785451889038086], [-4.7690653800964355, 6.725996017456055, -2.5793063640594482], [-2.6580209732055664, -2.517763614654541, 4.497681617736816], [10.614095687866211, -6.696209907531738, -5.9704132080078125], [4.600919246673584, -1.6350823640823364, -3.7205748558044434], [0.8872336149215698, -2.008151054382324, 0.7100168466567993], [-6.269130706787109, 0.07638248801231384, 5.577264785766602], [-5.06489372253418, -5.3729658126831055, 8.751439094543457], [-4.8081135749816895, 5.655092239379883, -1.3312153816223145], [-0.8527957201004028, 1.4578739404678345, -1.2085646390914917], [-1.5850129127502441, 1.4667242765426636, -0.3578910827636719], [14.885433197021484, -11.378122329711914, -6.563701629638672], [-3.248011589050293, -0.8915553689002991, 3.89461612701416], [-1.9237107038497925, 2.9467735290527344, -1.4056875705718994], [12.774112701416016, -9.30099105834961, -6.051821708679199], [-1.3700593709945679, 4.914443016052246, -4.033586502075195], [-3.2492947578430176, 3.0313146114349365, -0.2723994255065918], [-2.1204230785369873, 4.036370277404785, -2.4331765174865723], [-4.053016185760498, -4.532098293304443, 6.945846080780029], [-3.484816074371338, 5.939718723297119, -2.8401288986206055], [-6.332751274108887, -6.042093753814697, 10.534265518188477], [-4.333744525909424, 4.591255187988281, -0.7103163599967957], [-1.1151926517486572, -1.3238489627838135, 2.1020681858062744], [-6.094038486480713, -4.0814385414123535, 8.674788475036621], [9.403055191040039, -7.160068988800049, -4.047246932983398], [-5.566006183624268, -3.638652801513672, 8.051568031311035], [-2.799469232559204, -2.6501002311706543, 4.979410171508789], [-2.9403038024902344, 2.2151803970336914, 0.3438972532749176], [-5.310153007507324, -1.447072148323059, 6.025530815124512], [6.846273899078369, -4.183064937591553, -3.828645706176758], [-8.944299697875977, -3.002199649810791, 10.55562686920166], [11.756987571716309, -7.96386194229126, -6.229138374328613], [-4.130021095275879, 5.176015853881836, -1.618342399597168], [-2.574798107147217, 1.8613966703414917, 0.07409857958555222], [2.579294204711914, 0.3247755467891693, -3.7156827449798584], [10.090547561645508, -8.088262557983398, -3.980557918548584], [1.173089861869812, -3.1271791458129883, 1.3109605312347412], [-1.971419334411621, -2.00148868560791, 3.15958571434021], [-2.504481315612793, -3.7166457176208496, 5.3070597648620605], [14.14499282836914, -10.007743835449219, -6.851776123046875], [8.716599464416504, -5.843356609344482, -4.550914764404297], [-1.579558253288269, -1.9711014032363892, 3.1499431133270264], [14.115336418151855, -10.09392261505127, -6.7623796463012695], [-3.702286958694458, 1.9836174249649048, 1.3269073963165283], [-3.0107460021972656, 5.756329536437988, -3.442669153213501], [7.5217204093933105, -5.480598449707031, -3.4108102321624756], [-6.1752190589904785, -2.08742094039917, 7.171342849731445], [6.120355129241943, -4.416762351989746, -2.5915377140045166], [-4.060692310333252, 5.602479934692383, -2.0678281784057617], [10.811630249023438, -8.366006851196289, -4.842858791351318], [2.294215679168701, -4.366489410400391, 0.9626865386962891], [12.6864013671875, -8.998001098632812, -6.238489627838135], [6.106085777282715, -4.642711639404297, -2.5148394107818604], [7.544734477996826, -5.775334358215332, -3.2134854793548584], [-5.284532070159912, -4.408324241638184, 8.309976577758789], [-0.5596923232078552, 2.4198222160339355, -2.3037877082824707], [-3.5827202796936035, -4.481978416442871, 6.421358108520508], [-4.126692295074463, -0.72275710105896, 4.104012489318848], [0.7393075227737427, 1.8851045370101929, -3.0750203132629395], [8.444918632507324, -5.8587727546691895, -4.155342102050781], [-1.9655766487121582, 4.9759135246276855, -3.5402443408966064], [-4.208308696746826, -0.948314368724823, 4.567617416381836], [-5.261632442474365, -3.461627960205078, 7.690868377685547], [-1.742234706878662, -1.3891602754592896, 2.682373523712158], [-5.980707168579102, -6.096560001373291, 10.292981147766113], [-7.079646587371826, -3.961982488632202, 9.904439926147461], [-8.421945571899414, -2.9410879611968994, 10.144484519958496], [13.760826110839844, -10.3153076171875, -6.263681411743164], [-4.05275821685791, 6.412646293640137, -2.904223680496216], [-2.812830686569214, -3.2983484268188477, 5.055556297302246], [-5.304361343383789, -1.639082670211792, 6.411741733551025], [6.735663890838623, -4.527369976043701, -3.403564453125], [-5.472227096557617, 0.9183245301246643, 3.975806951522827], [-3.730278253555298, -1.7658045291900635, 5.0265302658081055], [-6.332753658294678, -2.71219539642334, 8.137036323547363], [-4.774284839630127, -4.897663593292236, 8.112049102783203], [-3.4300906658172607, 5.531914234161377, -2.7503111362457275], [-3.6584789752960205, -3.92203950881958, 6.0283026695251465], [-3.7410342693328857, 3.505638599395752, -0.49017098546028137], [9.23396110534668, -5.859125137329102, -4.959801197052002], [-6.554770469665527, -4.281322479248047, 9.644522666931152], [6.477840900421143, -8.13158130645752, -0.9907659292221069], [11.409908294677734, -8.081733703613281, -5.544285297393799], [7.9909772872924805, -5.592761993408203, -3.719189405441284], [-1.3038053512573242, 1.4929559230804443, -0.8930439949035645], [-5.086628437042236, 5.382084846496582, -0.8901330232620239], [9.437357902526855, -7.9514970779418945, -3.553891897201538], [-3.927243709564209, 6.020066261291504, -2.6929943561553955], [-6.009980201721191, -1.8570427894592285, 7.036617279052734], [2.054230213165283, -2.03389573097229, -0.5190228223800659], [7.099517345428467, -4.822301864624023, -3.593240261077881], [-6.374724864959717, -4.710195064544678, 9.733845710754395], [3.693842887878418, -2.7543609142303467, -1.4193472862243652], [-1.4694466590881348, -0.04757499694824219, 1.281787395477295], [-3.8736467361450195, -0.43789830803871155, 3.9925405979156494], [0.7759310007095337, -0.6351544260978699, -0.5656805038452148], [12.505268096923828, -9.133186340332031, -5.728954315185547], [13.904455184936523, -9.695548057556152, -7.060416221618652], [-3.7528631687164307, 2.844852924346924, 0.4526285231113434], [-6.67169189453125, -4.556232929229736, 9.602917671203613], [14.750457763671875, -10.137664794921875, -7.457465171813965], [9.040582656860352, -7.264854431152344, -3.586613893508911], [12.183794975280762, -8.403236389160156, -6.182521343231201], [1.3535208702087402, -2.8270797729492188, 0.9514678716659546], [-1.4966756105422974, -1.3777270317077637, 2.2360329627990723], [-0.6516659259796143, -2.4462597370147705, 2.4354407787323], [11.88498306274414, -8.926251411437988, -5.3535308837890625], [-3.533205986022949, 6.0170159339904785, -2.9045283794403076], [12.851265907287598, -8.947641372680664, -6.363400459289551], [14.762712478637695, -10.843147277832031, -6.9408488273620605], [-1.4639947414398193, 2.716493844985962, -1.7180836200714111], [12.720178604125977, -8.626798629760742, -6.500525951385498], [-1.6592531204223633, 3.0937936305999756, -1.9264450073242188], [-4.172536373138428, -4.51010274887085, 7.017419815063477], [-2.835085391998291, 3.4017574787139893, -1.0406328439712524], [-5.424252986907959, 3.926870822906494, 1.020123839378357], [-4.715211391448975, -4.983522415161133, 7.784266471862793], [-3.3494832515716553, 4.438584327697754, -1.7192398309707642], [-5.425586223602295, -4.559016227722168, 8.395730018615723], [-3.0727181434631348, 3.192553758621216, -0.5618342161178589], [-3.3924827575683594, 0.551988422870636, 2.0138027667999268], [-3.30877947807312, 2.3384695053100586, 0.42421188950538635], [13.058937072753906, -9.590331077575684, -5.882046699523926], [-6.2325592041015625, -3.6153621673583984, 8.487617492675781], [11.19086742401123, -8.205533027648926, -5.052453994750977], [-3.5763721466064453, -0.9283388257026672, 4.091802597045898], [-6.303901672363281, -4.065596580505371, 8.962889671325684], [-5.366112232208252, -5.402833938598633, 9.05358600616455], [-4.8736677169799805, 5.910967826843262, -1.4595842361450195], [14.472352981567383, -10.938478469848633, -6.468918323516846], [-3.365913152694702, 4.266638278961182, -1.4199966192245483], [-3.6456737518310547, -5.9946699142456055, 7.692228317260742], [-3.5469813346862793, 3.711461305618286, -0.6196421384811401], [-5.306003570556641, 6.748530387878418, -1.9127388000488281], [7.5540289878845215, -5.7296576499938965, -3.1589808464050293], [6.3191046714782715, -7.102149963378906, -1.3251386880874634], [-3.9097232818603516, -2.4056363105773926, 5.56730842590332], [-7.531678199768066, -3.6438941955566406, 10.05215835571289], [-6.048511028289795, -3.676990270614624, 8.509079933166504], [-2.662046432495117, -4.173572063446045, 5.503822326660156], [15.26230525970459, -11.506946563720703, -6.960933685302734], [-2.4016823768615723, 2.754988193511963, -0.6229870319366455], [1.300689458847046, -2.4129936695098877, 0.5882618427276611], [-3.342045307159424, 6.165826797485352, -3.3931565284729004], [5.031233787536621, -4.0264105796813965, -1.987391710281372], [-5.214375019073486, -1.7574105262756348, 6.306634902954102], [-1.7342160940170288, 2.4047975540161133, -1.0608854293823242], [3.6777727603912354, -3.1401777267456055, -1.1152408123016357], [8.623005867004395, -7.158830165863037, -3.2488090991973877], [15.997756004333496, -11.825907707214355, -7.403307914733887], [-4.695021152496338, 6.249507904052734, -2.1589624881744385], [-9.184867858886719, -6.198596954345703, 13.609021186828613], [-1.9938414096832275, 2.3747124671936035, -0.7827919125556946], [-2.6383776664733887, 4.244356632232666, -2.0098788738250732], [8.019214630126953, -6.33408260345459, -3.5268924236297607], [-1.5863988399505615, 0.5617882013320923, 0.6483772993087769], [8.270771026611328, -5.984852313995361, -3.7006263732910156], [11.103384017944336, -8.533447265625, -4.873708248138428], [8.015934944152832, -5.601812362670898, -3.730856418609619], [-3.2430405616760254, -2.697265148162842, 5.549302101135254], [-3.8383607864379883, 4.893098831176758, -1.4528710842132568], [-0.7854567170143127, -3.22705078125, 3.0564844608306885], [3.797360897064209, -2.562460422515869, -2.1107022762298584], [0.7247887849807739, -2.283128261566162, 0.7304083108901978], [9.27174186706543, -7.703568458557129, -3.6946587562561035], [-6.173906326293945, -3.491297721862793, 8.487080574035645], [-5.148205757141113, 2.9566760063171387, 1.8273639678955078], [-3.638512134552002, 3.0202460289001465, -0.031739410012960434], [5.764349460601807, -7.098492622375488, -0.7370498180389404], [9.85987663269043, -6.565817832946777, -5.064483642578125], [-6.16290283203125, -3.737215757369995, 8.740609169006348], [-6.9880290031433105, -6.238368034362793, 11.313395500183105], [-6.413166522979736, -2.568047523498535, 8.527112007141113], [-0.8276988863945007, 3.385490894317627, -2.9460253715515137], [-3.696289539337158, -0.4631898105144501, 3.7431046962738037], [3.8122339248657227, -3.318042278289795, -1.5441913604736328], [-3.241882562637329, 4.048252105712891, -1.1629369258880615], [-3.0241451263427734, 6.515338897705078, -3.858511209487915], [-7.229211330413818, -5.530086040496826, 11.009394645690918], [11.735828399658203, -9.182106018066406, -5.028433322906494], [-3.0254688262939453, -2.583685874938965, 5.163649559020996], [8.833613395690918, -6.426141738891602, -4.169658660888672], [-3.5970282554626465, -1.8573297262191772, 4.972558975219727], [-6.59586238861084, -3.679614543914795, 8.894183158874512], [-4.342697620391846, -4.706223487854004, 7.420943260192871], [-6.748223781585693, -3.1612133979797363, 8.997479438781738], [9.57154655456543, -6.974636554718018, -4.315385818481445], [-1.6128660440444946, 1.140476942062378, 0.1715005487203598], [-5.5111470222473145, -4.148654937744141, 8.198935508728027], [-2.0161759853363037, 3.3078346252441406, -1.7811830043792725], [-3.1762447357177734, 4.118516445159912, -1.5492051839828491], [-4.770999908447266, 6.7551984786987305, -2.651592493057251], [-2.622246265411377, 6.7320380210876465, -4.470648765563965], [-2.1271700859069824, -2.876389980316162, 4.480698585510254], [-3.464959144592285, 5.9698405265808105, -3.2656164169311523], [-3.0731899738311768, -2.865884304046631, 5.226244926452637], [-3.112966299057007, -2.5357022285461426, 4.505864143371582], [7.8257622718811035, -6.181965351104736, -3.485494375228882], [2.61700439453125, -0.8967021107673645, -2.109103202819824], [-3.2130815982818604, -2.754777431488037, 5.432562828063965], [-3.957850456237793, -1.6685651540756226, 4.529199600219727], [3.5112967491149902, -2.872058629989624, -1.301487922668457], [13.358625411987305, -8.69671630859375, -7.294916152954102], [-4.055642604827881, 3.030198335647583, 0.37650078535079956], [-0.2821199297904968, -1.569201111793518, 1.3172587156295776], [-4.420897006988525, -1.1496224403381348, 5.190727233886719], [-3.527470827102661, 4.202728271484375, -1.1742439270019531], [8.357349395751953, -6.210921287536621, -3.7065627574920654], [-3.8528542518615723, -3.371018648147583, 5.727306842803955], [-2.817246913909912, 3.2128005027770996, -0.8017258644104004], [15.364925384521484, -11.108657836914062, -7.327866554260254], [-6.691493034362793, -3.6521506309509277, 9.09124755859375], [-3.1918179988861084, 6.552225589752197, -3.832306146621704], [-4.474369049072266, 5.271581649780273, -1.397686243057251], [-5.740726947784424, -4.065318584442139, 8.320486068725586], [-2.130173683166504, 4.563000202178955, -2.895653486251831], [-2.270522117614746, 2.2584712505340576, -0.3710464537143707], [-3.5987133979797363, 4.728515625, -1.5038405656814575], [13.783487319946289, -10.25959587097168, -6.342824935913086], [12.479251861572266, -7.735791206359863, -7.2080535888671875], [-4.829010009765625, 7.088682174682617, -2.8058388233184814], [15.086870193481445, -11.158407211303711, -6.9386444091796875], [-3.915060043334961, 2.1928462982177734, 1.2230017185211182], [-3.984407901763916, 4.173435688018799, -0.5570558309555054], [-2.9321441650390625, 2.767787218093872, -0.23280420899391174], [4.409689903259277, -3.3353867530822754, -1.8826957941055298], [-4.139517307281494, -2.909651279449463, 6.2729644775390625], [-6.503292560577393, -5.978643417358398, 10.586801528930664], [-4.422758102416992, -0.8239061832427979, 4.8786211013793945], [-2.4049930572509766, 4.72110652923584, -2.846400499343872], [9.578386306762695, -7.135684013366699, -4.3740315437316895], [-5.164645195007324, -3.8093221187591553, 7.554912567138672], [-5.774093151092529, 3.017597198486328, 2.232783794403076], [-3.2958779335021973, 3.2225098609924316, -0.4150649607181549], [-2.3695127964019775, 1.0982915163040161, 0.731748640537262], [13.659476280212402, -9.568693161010742, -6.573067665100098], [-4.2146172523498535, -2.2024354934692383, 5.54310941696167], [14.341940879821777, -10.312719345092773, -6.810576438903809], [0.947220504283905, -2.229783058166504, 0.7665429711341858], [-5.1631269454956055, -3.2659220695495605, 7.392912864685059], [14.49134635925293, -10.682870864868164, -6.742112159729004], [-7.258761882781982, -3.839020252227783, 10.037934303283691], [15.706762313842773, -10.415656089782715, -8.389701843261719], [-4.79633092880249, -1.772240400314331, 5.6069488525390625], [-6.393198013305664, -3.3364782333374023, 8.641615867614746], [15.145254135131836, -11.201106071472168, -6.965263366699219], [-4.166966915130615, -4.189093589782715, 6.7548370361328125], [-1.8659193515777588, -2.835391044616699, 3.913475751876831], [11.75332260131836, -9.358187675476074, -4.932550430297852], [-2.734528064727783, 5.115818023681641, -2.9613280296325684], [12.604124069213867, -7.839450836181641, -7.250399589538574], [-4.526384353637695, 6.056778907775879, -1.9836783409118652], [11.374746322631836, -8.47213363647461, -5.137473106384277], [-3.7918360233306885, 0.6797328591346741, 2.84989333152771], [-2.0089330673217773, 4.03656530380249, -2.6021945476531982], [-3.6667051315307617, -1.3886768817901611, 4.3434553146362305], [-4.070885181427002, 3.1937813758850098, 0.5328382253646851], [-4.4801177978515625, -0.807691216468811, 4.6532487869262695], [-4.619251251220703, -5.595904350280762, 8.409326553344727], [-3.807875633239746, 2.4224953651428223, 0.7751137018203735], [-6.57535982131958, -6.390697479248047, 11.155322074890137], [13.435358047485352, -9.737245559692383, -6.418800354003906], [13.44807243347168, -10.024914741516113, -6.098071098327637], [12.000347137451172, -7.674092769622803, -6.573273658752441], [-5.346243858337402, 3.5420217514038086, 1.3148014545440674], [13.59194278717041, -9.721607208251953, -6.609426498413086], [-2.6521170139312744, -2.8831188678741455, 4.322868347167969], [-5.565276622772217, -4.289096355438232, 8.578523635864258], [3.1614532470703125, -3.507483959197998, -0.3606933057308197], [-4.831697940826416, -1.6275097131729126, 5.888601303100586], [-5.0318684577941895, 5.136104583740234, -0.5954045653343201], [-3.030130386352539, 3.270590305328369, -0.6832202672958374], [13.152460098266602, -9.811087608337402, -6.090519905090332], [-3.4103918075561523, 4.744879722595215, -1.80678129196167], [-5.403278350830078, -3.6074092388153076, 7.738645553588867], [-0.14008155465126038, 1.7667590379714966, -1.9885554313659668], [6.498053550720215, -4.452211856842041, -3.117530107498169], [-2.4377570152282715, 5.104580879211426, -3.0747692584991455], [10.997526168823242, -8.728476524353027, -4.790589332580566], [-6.5917253494262695, -2.812196731567383, 8.437332153320312], [-3.7591164112091064, 7.790111541748047, -4.593603610992432], [-2.332062244415283, 4.607826232910156, -2.7115671634674072], [7.801419734954834, -6.092621803283691, -2.8988451957702637], [-3.716536521911621, 4.9459733963012695, -1.6703907251358032], [-5.418977737426758, -4.603538513183594, 8.506525993347168], [-3.0356788635253906, 5.526077747344971, -3.0284359455108643], [-7.49893045425415, -6.373956680297852, 12.044058799743652], [-4.194026470184326, 4.456064224243164, -0.8458302021026611], [13.528203964233398, -10.678993225097656, -6.020244598388672], [-3.9981255531311035, 7.196356773376465, -3.838261842727661], [-2.964094638824463, 4.75389289855957, -2.2547357082366943], [-4.667801380157471, 5.2519965171813965, -1.1566047668457031], [8.700733184814453, -5.856672763824463, -4.495276927947998], [-1.140057921409607, -1.0334978103637695, 1.7091553211212158], [-4.392419815063477, 3.237546682357788, 0.2993426024913788], [-3.914219617843628, 5.301630973815918, -1.9685900211334229], [-3.752760171890259, 4.026500225067139, -0.6885234117507935], [-4.384354591369629, -3.2424864768981934, 6.685778617858887], [2.957547903060913, -2.161661148071289, -1.2092382907867432], [-6.703943729400635, -4.321319580078125, 9.446742057800293], [-3.4123191833496094, 0.16579121351242065, 2.919747829437256], [12.80563735961914, -9.536067962646484, -5.824529647827148], [-6.644118785858154, -4.4229536056518555, 9.573081970214844], [-5.011075019836426, -1.5947520732879639, 5.99964714050293], [13.646238327026367, -9.931968688964844, -6.423798561096191], [-5.534428119659424, -4.080545902252197, 8.418051719665527], [6.526437759399414, -4.291942596435547, -3.3380916118621826], [-6.786285400390625, -4.9766621589660645, 10.162793159484863], [-4.544409275054932, 6.781829833984375, -2.779019355773926], [11.636770248413086, -8.849321365356445, -5.120580196380615], [11.75804615020752, -8.295313835144043, -5.661266803741455], [-3.172823429107666, 6.756237983703613, -4.019593238830566], [-4.628788471221924, -3.4550516605377197, 7.073512077331543], [-1.8642768859863281, 4.668956756591797, -3.215853691101074], [8.019919395446777, -6.448014259338379, -3.1569228172302246], [-2.9137799739837646, 5.39176082611084, -2.903815746307373], [-4.4841790199279785, -1.0815645456314087, 4.855643272399902], [-2.9823036193847656, 4.965543746948242, -2.52254319190979], [-6.7129950523376465, -4.2849931716918945, 9.620747566223145], [-3.5986976623535156, -3.1547110080718994, 5.5328593254089355], [-8.591894149780273, -3.9176502227783203, 11.189810752868652], [-2.515842914581299, 3.5582966804504395, -1.3765367269515991], [-4.128256320953369, 0.35093584656715393, 3.0045950412750244], [11.004152297973633, -8.549240112304688, -4.716923713684082], [-1.5560792684555054, 5.298514366149902, -4.203601837158203], [3.7708916664123535, -5.249353408813477, 0.13182446360588074], [-3.91709566116333, 1.2700014114379883, 1.8558344841003418], [-3.4821743965148926, 6.940506935119629, -4.104758262634277], [11.742368698120117, -8.665312767028809, -5.433730125427246], [-5.4879631996154785, -3.6890101432800293, 7.7939982414245605], [-3.792353391647339, 3.299156904220581, -0.004670585505664349], [3.1466448307037354, -2.412273406982422, -1.2420846223831177], [9.906824111938477, -7.199237823486328, -4.3973307609558105], [-11.005695343017578, -3.0402421951293945, 12.565411567687988], [0.24357019364833832, 2.8236196041107178, -3.3845176696777344], [14.34671688079834, -10.238125801086426, -6.877556800842285], [-3.7712109088897705, -3.3430826663970947, 5.745617866516113], [-2.475853204727173, 1.6686028242111206, 0.35194867849349976], [3.6498863697052, -1.5613429546356201, -2.7619006633758545], [-2.3540782928466797, 4.089207172393799, -2.2674238681793213], [0.7024697661399841, 0.35921409726142883, -1.4704821109771729], [-3.4450833797454834, 6.653154373168945, -3.6768617630004883], [12.903764724731445, -9.614330291748047, -5.7189130783081055], [-4.172696590423584, 5.189391136169434, -1.66412353515625], [-4.075387001037598, 5.854223251342773, -2.252854585647583], [-3.5762033462524414, -1.9986315965652466, 5.129368305206299], [-4.982865810394287, -2.4751901626586914, 6.50840425491333], [-1.975623607635498, 2.9907963275909424, -1.4613864421844482], [-3.9080355167388916, 5.151125907897949, -1.7712990045547485], [-5.218328475952148, -4.940537452697754, 8.300107955932617], [-5.368391513824463, -2.6339783668518066, 7.05077600479126], [4.289550304412842, -3.753491163253784, -1.3568027019500732], [4.957231044769287, -3.791780948638916, -2.481415033340454], [-1.5463191270828247, -1.9406894445419312, 2.8224101066589355], [-3.087879180908203, -1.264561414718628, 3.7474639415740967], [4.317823886871338, -2.8519887924194336, -1.8929321765899658], [-6.879728317260742, -1.1436538696289062, 7.283838272094727], [14.018359184265137, -10.555060386657715, -6.365968227386475], [-2.232818603515625, 4.457277774810791, -2.6309525966644287], [12.37231159210205, -8.559276580810547, -6.2042555809021], [14.11286735534668, -10.01213264465332, -6.873866081237793], [-6.7020955085754395, -4.2003173828125, 9.774516105651855], [-3.4049601554870605, -1.8018385171890259, 4.553670883178711], [-7.68546724319458, -5.885445594787598, 11.91652774810791], [-4.419924736022949, 7.128695487976074, -3.2070600986480713], [-4.675332069396973, -5.657226085662842, 8.535411834716797], [11.238107681274414, -8.316144943237305, -5.122167587280273], [-1.9460887908935547, 5.44488000869751, -3.9611802101135254], [7.206509113311768, -5.304670333862305, -3.1694281101226807], [-4.604897975921631, -2.9653677940368652, 6.871209144592285], [-3.9194464683532715, -1.8666807413101196, 5.155555248260498], [0.15229937434196472, 1.2084068059921265, -1.6112074851989746], [-7.825423717498779, -6.543028831481934, 12.640957832336426], [-2.4744057655334473, 5.365100860595703, -3.3907968997955322], [-3.273684501647949, 2.0788588523864746, 0.625930666923523], [-2.3064773082733154, 1.5012301206588745, 0.43517398834228516], [10.33193588256836, -7.344354629516602, -4.9624223709106445], [-4.2147626876831055, -2.3309435844421387, 5.3505401611328125], [-3.618133068084717, -1.068640947341919, 4.0201568603515625], [-5.912694454193115, -4.2212677001953125, 8.684921264648438], [-4.148009300231934, -3.655117988586426, 6.409801006317139], [-2.49932861328125, -2.983762741088867, 4.708865165710449], [-2.5401463508605957, 4.477541923522949, -2.2815957069396973], [-1.3815762996673584, 3.2251157760620117, -2.136390447616577], [8.663339614868164, -6.03776741027832, -4.307197093963623], [-2.595336437225342, 2.4882993698120117, -0.2704075276851654], [9.13119888305664, -6.551318168640137, -4.318375587463379], [-3.197476387023926, 0.3901404142379761, 2.371155023574829], [8.818559646606445, -5.478128910064697, -4.8309173583984375], [-4.261098861694336, 1.2225301265716553, 2.683736562728882], [-3.0998125076293945, 0.5289310812950134, 2.1642770767211914], [-2.951291561126709, 6.54404878616333, -4.128815650939941], [-4.443319797515869, 3.27852725982666, 0.7569607496261597], [7.376161098480225, -5.406468868255615, -3.28417706489563], [8.204300880432129, -6.352297782897949, -3.404121160507202], [0.9634318947792053, 0.7222680449485779, -2.001910924911499], [17.856168746948242, -13.621685981750488, -8.093958854675293], [5.699253559112549, -5.232229232788086, -1.7683066129684448], [3.3707990646362305, -2.9271233081817627, -1.1965510845184326], [-4.901998996734619, 2.488304853439331, 1.4688427448272705], [-2.6801252365112305, 4.451691150665283, -2.090070962905884], [-8.059304237365723, -5.50258207321167, 11.944979667663574], [15.300985336303711, -11.192333221435547, -7.228554725646973], [6.426672458648682, -4.488565444946289, -3.028301954269409], [-5.578502655029297, 0.5160468220710754, 4.586936950683594], [-3.991706371307373, 5.367600440979004, -1.7763423919677734], [-2.7080821990966797, 5.401035308837891, -3.1087117195129395], [-5.70248556137085, -4.95748233795166, 9.06146240234375], [4.226609706878662, -2.8604354858398438, -2.0820984840393066], [-4.091670513153076, 6.123818397521973, -2.4350101947784424], [8.482331275939941, -4.776342391967773, -5.289034366607666], [-5.4536566734313965, -2.261225700378418, 6.771965026855469], [-5.518676280975342, -1.1563831567764282, 5.93037223815918], [-4.755979537963867, -2.8736519813537598, 6.108656883239746], [-5.4527459144592285, -4.130220413208008, 8.524285316467285], [9.263917922973633, -6.446231365203857, -4.634461402893066], [-3.9257919788360596, 3.9501562118530273, -0.4301706850528717], [-1.8506380319595337, 2.5600204467773438, -1.0681250095367432], [-5.331037998199463, -5.664102554321289, 9.194090843200684], [-6.187459945678711, -5.017178535461426, 9.490857124328613], [-6.287465572357178, -5.652804374694824, 10.468008995056152], [-1.5776441097259521, -1.8209432363510132, 2.725236177444458], [-4.454966068267822, 6.028550148010254, -2.0355384349823], [1.6288418769836426, 2.396949291229248, -4.460509300231934], [2.6452269554138184, -2.507913112640381, -0.5543847680091858], [-2.0122742652893066, 3.824962615966797, -2.096796989440918], [-1.657579779624939, 3.913684844970703, -2.650330066680908], [-0.3527142405509949, -7.249025821685791, 5.322710037231445], [-5.309452533721924, -3.184847593307495, 7.342708587646484], [-7.409470081329346, -5.437849998474121, 11.404316902160645], [-3.3783926963806152, -1.2234002351760864, 4.124056816101074], [-5.290889263153076, 0.10379841923713684, 4.856283187866211], [-5.543271541595459, -2.8657021522521973, 7.326488494873047], [8.262565612792969, -6.747206687927246, -3.4064013957977295], [12.797628402709961, -9.551776885986328, -5.854708671569824], [13.362691879272461, -9.986892700195312, -6.275686264038086], [-6.183384418487549, 4.316566467285156, 1.252495527267456], [-5.577332019805908, -7.093458652496338, 10.024408340454102], [-2.343672037124634, 1.9427659511566162, 0.05406235530972481], [9.115018844604492, -6.431307792663574, -4.318113327026367], [6.8582305908203125, -4.898653984069824, -3.045748472213745], [-3.870225667953491, 5.817657947540283, -2.6528282165527344], [-4.941471576690674, -2.453158378601074, 6.71154260635376], [11.083927154541016, -8.557291030883789, -5.004448890686035], [-2.3597607612609863, -2.122072219848633, 3.8670642375946045], [-6.021803379058838, -3.9105324745178223, 8.742945671081543], [9.573799133300781, -7.116657257080078, -4.029038429260254], [-1.4450565576553345, 2.277935028076172, -1.1289987564086914], [-4.81403112411499, -1.7998446226119995, 5.995872974395752], [-8.94430160522461, -3.0021986961364746, 10.555627822875977], [-2.323343276977539, 4.724483489990234, -2.838273048400879], [-4.273349285125732, -3.6732101440429688, 6.805695533752441], [-5.948720932006836, -5.091069221496582, 9.700751304626465], [-2.462228775024414, 5.0711870193481445, -3.2246744632720947], [-5.338082790374756, 1.0099033117294312, 3.6151490211486816], [-2.4084126949310303, 3.930270195007324, -1.9463067054748535], [-1.6571857929229736, 3.727693557739258, -2.4122564792633057], [6.040714263916016, -3.0391006469726562, -3.7358362674713135], [9.15617561340332, -6.637420654296875, -4.066314697265625], [-3.6052215099334717, 3.105441093444824, 0.08647209405899048], [-2.7854883670806885, 3.315474033355713, -1.0508463382720947], [-2.6789913177490234, 3.6373517513275146, -1.4888635873794556], [-6.240055561065674, -5.605076789855957, 10.05733871459961], [-4.354570388793945, -1.7300537824630737, 5.684350967407227], [-4.1034650802612305, 4.3876447677612305, -0.8439064025878906], [-4.763686656951904, 3.4872689247131348, 0.6738345623016357], [-2.9719719886779785, 1.9042878150939941, 0.6016695499420166], [-3.742365837097168, -1.1910059452056885, 4.4629106521606445], [-2.7131576538085938, 5.916285991668701, -3.6582984924316406], [-5.781520843505859, -1.2189867496490479, 6.435932159423828], [-3.1794228553771973, 1.5507038831710815, 1.0269962549209595], [-2.1723530292510986, 5.2804460525512695, -3.6176259517669678], [-3.458254337310791, 3.50637149810791, -0.37245672941207886], [7.986316680908203, -5.667366981506348, -4.141768455505371], [-4.6051249504089355, 6.519466400146484, -2.38607120513916], [-0.7511231303215027, 2.8620615005493164, -2.5241870880126953], [-3.149345636367798, 6.031445503234863, -3.5806641578674316], [11.71159553527832, -8.393620491027832, -5.6350250244140625], [-1.6307895183563232, 1.924575686454773, -0.8500543832778931], [3.056187152862549, -2.943650245666504, -0.6470906734466553], [8.691020965576172, -6.457128524780273, -3.762993335723877], [-4.15121603012085, 4.787655830383301, -1.0681592226028442], [-2.4354288578033447, -1.5868281126022339, 3.6583828926086426], [2.1818976402282715, -0.4878886044025421, -2.081171751022339], [-2.802232265472412, 5.69449520111084, -3.324971914291382], [10.556730270385742, -8.368993759155273, -4.393612384796143], [-4.1238884925842285, 4.1154093742370605, -0.6822184920310974], [-2.8730459213256836, -0.6316919326782227, 3.1910831928253174], [3.904122829437256, -1.3499151468276978, -3.0066940784454346], [-6.403292179107666, -6.853160858154297, 11.310240745544434], [-5.290642261505127, -1.4608961343765259, 5.7893877029418945], [0.8894506096839905, 0.4542236328125, -1.6826674938201904], [-2.5093889236450195, 4.110622882843018, -2.07318377494812], [-2.0238194465637207, 2.329146385192871, -0.6359822750091553], [12.95436954498291, -8.99738883972168, -6.587343692779541], [-3.5649898052215576, 5.804353713989258, -2.789911985397339], [-6.144425392150879, 7.270942211151123, -1.9481232166290283], [-5.440077304840088, -5.786876678466797, 9.361626625061035], [3.4668054580688477, -1.9735748767852783, -1.9656872749328613], [-4.269760608673096, 1.3375455141067505, 2.4154016971588135], [3.882885217666626, -0.6233801245689392, -4.072723388671875], [-5.0125603675842285, -5.829683780670166, 8.88646125793457], [14.564477920532227, -10.249470710754395, -6.9373393058776855], [-0.22330570220947266, -4.280081272125244, 3.230962038040161], [-3.0997090339660645, 6.2558698654174805, -3.800041437149048], [-2.669933795928955, 3.931319236755371, -1.6296120882034302], [-2.399876356124878, 3.5346007347106934, -1.64875066280365], [-2.9473438262939453, 3.2426295280456543, -0.5841760039329529], [-2.288860559463501, 3.212250232696533, -1.498042106628418], [-1.947819709777832, 5.203831672668457, -3.7017688751220703], [-5.148252964019775, -3.8738112449645996, 7.613129138946533], [12.145462989807129, -8.804226875305176, -5.777573108673096], [-3.173008441925049, 6.073042869567871, -3.5275392532348633], [11.923799514770508, -7.956894874572754, -6.0781049728393555], [-1.4025155305862427, 2.1722493171691895, -1.2369561195373535], [-1.6350634098052979, 4.726086616516113, -3.5101232528686523], [9.256046295166016, -6.955196857452393, -3.9858107566833496], [-7.782927989959717, -4.965802192687988, 11.11607837677002], [11.116842269897461, -7.283390998840332, -5.902389049530029], [-5.341649532318115, -3.380904197692871, 7.569551467895508], [8.364021301269531, -6.145445823669434, -3.8637917041778564], [-6.38289213180542, -7.104635238647461, 11.337067604064941], [7.266641139984131, -5.58415412902832, -3.0799129009246826], [-6.709431171417236, -2.0652458667755127, 7.57327938079834], [10.131392478942871, -7.2470197677612305, -4.738982677459717], [9.234713554382324, -7.824599742889404, -3.448331356048584], [4.710882663726807, -4.846267223358154, -1.323016881942749], [-5.398784160614014, -5.497926712036133, 9.116881370544434], [-5.597451686859131, -5.033168792724609, 9.111905097961426], [-0.9935731291770935, 1.0389167070388794, -0.4986983835697174], [-0.3043789863586426, 0.21276244521141052, -0.362575501203537], [-4.143939971923828, 4.498978614807129, -0.8305222392082214], [-4.954699993133545, -4.733535289764404, 8.199478149414062], [4.281784534454346, -3.722823143005371, -1.2629833221435547], [-2.4081339836120605, 4.822451591491699, -2.7748212814331055], [-4.148986339569092, -4.2346720695495605, 6.953759670257568], [-3.7897629737854004, 3.273029088973999, -0.037187229841947556], [6.986748218536377, -3.510843276977539, -4.8518900871276855], [12.995201110839844, -9.637094497680664, -5.956663131713867], [-2.1058459281921387, 0.38182175159454346, 1.1016528606414795], [12.087547302246094, -7.999605178833008, -6.329028606414795], [-3.123091697692871, 5.049522876739502, -2.472125291824341], [-1.2673933506011963, 1.9108153581619263, -1.0466161966323853], [-5.973678112030029, -6.048045635223389, 10.040574073791504], [-5.289416790008545, -6.291229724884033, 9.370017051696777], [-4.712338924407959, 0.1889995038509369, 3.884979009628296], [-2.855645179748535, 3.1272330284118652, -0.5986534357070923], [-4.539618015289307, -1.8232895135879517, 5.678994655609131], [-4.344552516937256, 3.5008323192596436, 0.2568417489528656], [-3.4109840393066406, 5.294078826904297, -2.37613844871521], [-3.0996360778808594, 4.670291423797607, -1.9669049978256226], [-8.991874694824219, -2.7254562377929688, 10.252161979675293], [5.42642068862915, -4.59038782119751, -1.9502668380737305], [-2.7918219566345215, 2.2669119834899902, 0.141555517911911], [-6.11166524887085, -4.238675594329834, 8.848490715026855], [10.945297241210938, -7.351625442504883, -5.739602565765381], [13.657792091369629, -9.953192710876465, -6.389559268951416], [-2.8437328338623047, 5.386392593383789, -2.946443557739258], [10.966358184814453, -8.869368553161621, -4.377509117126465], [-2.218756675720215, -2.5120115280151367, 3.9322545528411865], [-3.149519920349121, 5.186889171600342, -2.3804571628570557], [-3.3191306591033936, -2.46639347076416, 4.839182376861572], [10.640512466430664, -7.783742427825928, -4.707392692565918], [-2.3589835166931152, 3.884256362915039, -2.0713844299316406], [-3.249807357788086, 1.8632131814956665, 0.886843204498291], [-5.9823174476623535, -6.863694190979004, 10.803657531738281], [-4.747170925140381, 3.541760206222534, 0.8553621768951416], [-7.736948490142822, -2.3826942443847656, 9.344805717468262], [-5.445197105407715, -4.0218000411987305, 8.03073501586914], [6.691026210784912, -4.363805770874023, -3.4379889965057373], [-1.1130545139312744, 3.6057651042938232, -3.028024435043335], [-4.613916873931885, 4.666540145874023, -0.553966224193573], [-5.715832233428955, -2.0727462768554688, 7.003216743469238], [13.891444206237793, -11.028266906738281, -6.022627830505371], [-6.455887317657471, -1.0051378011703491, 6.457943916320801], [-1.2642648220062256, -0.43690627813339233, 1.1878736019134521], [-4.519242763519287, -4.208324432373047, 7.382467269897461], [-3.0179433822631836, 0.12194910645484924, 2.496478319168091], [-2.4276344776153564, 1.506588101387024, 0.6642210483551025], [-2.35441255569458, 3.491652011871338, -1.5426859855651855], [-2.5972743034362793, -2.437173843383789, 4.007286071777344], [-2.9739022254943848, 4.698836803436279, -2.1492722034454346], [-4.559067249298096, -3.042914867401123, 6.207345962524414], [6.789947509765625, -4.528338432312012, -3.3034679889678955], [11.027929306030273, -8.463848114013672, -4.700178146362305], [-1.0064910650253296, 0.7736991047859192, -0.1121562272310257], [-5.700376033782959, -4.756612777709961, 9.036327362060547], [8.901727676391602, -7.244525909423828, -3.742011785507202], [-0.5902660489082336, 1.9048305749893188, -1.6590235233306885], [0.814426839351654, 0.7757171392440796, -2.0329978466033936], [-7.111085414886475, -0.5951830148696899, 6.598049163818359], [-6.154201030731201, -2.5540518760681152, 7.651092052459717], [-6.6003642082214355, -5.935931205749512, 10.524020195007324], [-5.483492374420166, -7.090056419372559, 10.24643611907959], [-2.6836276054382324, 3.3993589878082275, -1.2046635150909424], [6.580045223236084, -1.6391352415084839, -6.492527008056641], [2.4066824913024902, -2.8829221725463867, -0.30552437901496887], [-4.475234031677246, 5.850940704345703, -1.968559980392456], [-4.968648433685303, -1.0737501382827759, 5.569979190826416], [1.725135087966919, 2.122328758239746, -4.218630790710449], [8.30970287322998, -6.5750627517700195, -3.3488519191741943], [-6.354337215423584, -5.070976734161377, 9.721299171447754], [3.1105477809906006, -2.298530101776123, -1.4760175943374634], [-2.7242679595947266, 4.535134315490723, -2.23691463470459], [12.345500946044922, -7.963752269744873, -6.506234645843506], [12.243036270141602, -9.664172172546387, -5.292050361633301], [-3.4827492237091064, -3.1140737533569336, 5.503118515014648], [12.310547828674316, -9.445615768432617, -5.543601989746094], [-5.404938220977783, -4.573562145233154, 8.515576362609863], [8.218838691711426, -4.868218421936035, -4.620007514953613], [-4.0964226722717285, 5.729378700256348, -2.0544943809509277], [4.999729633331299, -3.7061409950256348, -2.384300708770752], [-0.7209399342536926, -2.7540485858917236, 2.864149332046509], [11.829708099365234, -8.493040084838867, -5.650960922241211], [11.928842544555664, -9.752359390258789, -4.986127853393555], [-6.263574123382568, -4.566659927368164, 9.339066505432129], [7.77435302734375, -6.818021774291992, -2.894336223602295], [-1.5301384925842285, 5.316603660583496, -4.392996788024902], [-4.433647632598877, -1.0513360500335693, 4.801669597625732], [7.874701499938965, -6.567104816436768, -2.886337995529175], [-1.7137255668640137, 2.8590896129608154, -1.5159361362457275], [8.592987060546875, -6.766582489013672, -3.663886547088623], [-4.06110143661499, -2.221163749694824, 5.547247886657715], [-5.891195774078369, -6.824483871459961, 10.422290802001953], [-2.238173484802246, 5.133609294891357, -3.3684160709381104], [14.784001350402832, -10.715452194213867, -7.1156768798828125], [-4.114185810089111, -1.4899531602859497, 5.182373523712158], [-2.9956769943237305, 5.757223129272461, -3.326533555984497], [-3.852632761001587, -3.595970630645752, 6.274501800537109], [7.673562049865723, -6.0994367599487305, -3.132521867752075], [-6.1041388511657715, -3.000884532928467, 7.858159065246582], [-2.6643145084381104, -0.5799347162246704, 2.707120656967163], [-2.263744831085205, 1.3908644914627075, 0.44513189792633057], [13.576974868774414, -9.725484848022461, -6.662062168121338], [-0.40976056456565857, -1.462007761001587, 1.4230672121047974], [-3.825495958328247, 6.838747024536133, -3.540376901626587], [-5.545896530151367, -3.3595433235168457, 8.1426420211792], [-4.009116172790527, 3.0451464653015137, 0.7225216031074524], [-5.855261325836182, -0.8252562880516052, 5.907449245452881], [-1.9049206972122192, 1.7214566469192505, -0.17924979329109192], [-2.697502851486206, 2.461259126663208, -0.16587527096271515], [-8.988480567932129, -6.899962902069092, 13.605741500854492], [-5.496719837188721, 5.859330654144287, -1.0282102823257446], [-1.8722609281539917, 2.5515787601470947, -1.0656063556671143], [-2.8564257621765137, 2.5875072479248047, -0.13201074302196503], [-2.4016897678375244, 5.055106163024902, -3.149024724960327], [-2.885692596435547, 4.1683783531188965, -1.6898133754730225], [-2.9237687587738037, 3.8187808990478516, -1.5006614923477173], [-3.307328701019287, 3.309704303741455, -0.4874078035354614], [-2.2716073989868164, 3.171621561050415, -1.3932868242263794], [-5.9164652824401855, -3.714282751083374, 8.295426368713379], [-2.828937530517578, 5.78447961807251, -3.5425190925598145], [2.7255215644836426, -2.8687872886657715, -0.40761032700538635], [-3.907130718231201, -0.46990126371383667, 3.8710711002349854], [-10.081244468688965, -5.4411163330078125, 13.982454299926758], [3.4794955253601074, -2.351557731628418, -1.5586532354354858], [6.379158020019531, -5.480738639831543, -2.22148060798645], [-5.601722717285156, -4.705565929412842, 8.745428085327148], [-2.6974029541015625, 4.64189338684082, -2.4875669479370117], [-1.7675018310546875, 2.717696189880371, -1.2448318004608154], [-2.2052009105682373, 0.41245317459106445, 1.4147577285766602], [14.052349090576172, -10.357673645019531, -6.650677680969238], [-5.2001214027404785, -5.47555685043335, 8.776297569274902], [14.798328399658203, -10.946025848388672, -6.858120918273926], [-3.4144482612609863, 2.0743298530578613, 0.6809670329093933], [-2.8030848503112793, -2.068681478500366, 4.31307315826416], [-2.1842174530029297, 4.9820356369018555, -3.194387435913086], [-2.3702385425567627, 5.0623579025268555, -3.193284749984741], [-1.975754976272583, -2.370983123779297, 3.678729295730591], [14.592792510986328, -10.702309608459473, -6.972677707672119], [-9.403661727905273, -2.9805033206939697, 10.933297157287598], [-2.5984928607940674, -1.8234403133392334, 4.010309219360352], [9.689146041870117, -6.623895645141602, -4.728964328765869], [2.931626319885254, -0.13607823848724365, -3.2449162006378174], [-1.1656467914581299, -2.8972697257995605, 3.3497555255889893], [-1.8408907651901245, 2.367007255554199, -0.9179202318191528], [11.539714813232422, -8.792417526245117, -5.091513633728027], [-5.683348178863525, -4.2582244873046875, 8.390904426574707], [-2.764779806137085, 2.6656317710876465, -0.4586166441440582], [-3.12261700630188, -0.8403451442718506, 3.6302649974823], [-4.669936656951904, 5.809169292449951, -1.7371591329574585], [-5.243261814117432, -4.32771110534668, 8.165661811828613], [-3.950291872024536, 3.6166622638702393, -0.10951047390699387], [6.0239386558532715, -3.7477493286132812, -3.384556770324707], [-3.3353023529052734, 2.7013673782348633, 0.1840868443250656], [-1.482087254524231, 2.621488332748413, -1.5262961387634277], [14.752143859863281, -11.259902954101562, -6.646668434143066], [-2.737415313720703, 4.199228286743164, -1.790817141532898], [0.5632615089416504, -0.10253232717514038, -0.6949209570884705], [10.560529708862305, -7.1917009353637695, -5.602114677429199], [-2.8247716426849365, 1.9167388677597046, 0.589913547039032], [-3.8277745246887207, 6.087024688720703, -2.759039878845215], [12.42844009399414, -8.915838241577148, -5.975872993469238], [-5.935441493988037, -4.115780353546143, 8.762484550476074], [-3.893550395965576, 3.999174118041992, -0.5952897071838379], [-8.677906036376953, -5.77286958694458, 12.485068321228027], [-5.161759853363037, -4.358146667480469, 8.114562034606934], [-3.4350295066833496, 5.397266387939453, -2.4927737712860107], [13.00019645690918, -9.432960510253906, -6.591299057006836], [-0.7248594164848328, 2.623786449432373, -2.2290291786193848], [-1.9284638166427612, 4.837116241455078, -3.2824747562408447], [-3.8233962059020996, -2.2689499855041504, 5.330671310424805], [-2.486445426940918, 0.8993093371391296, 0.9897396564483643], [-6.763467311859131, -4.158186912536621, 9.760481834411621], [-4.811420917510986, -4.850131511688232, 7.998412132263184], [9.249716758728027, -6.947271347045898, -4.164229869842529], [-1.3371338844299316, 4.2311835289001465, -3.1477959156036377], [-3.996553897857666, -1.800797462463379, 4.4893622398376465], [-2.2557127475738525, 2.364328622817993, -0.45823362469673157], [10.332180976867676, -7.446033477783203, -4.943354606628418], [12.305805206298828, -9.448400497436523, -5.3413543701171875], [8.703326225280762, -7.456696510314941, -3.0969088077545166], [-5.940646648406982, -3.972883462905884, 8.696616172790527], [-6.254329681396484, -6.823421955108643, 11.009566307067871], [13.26307487487793, -9.40589714050293, -6.360283851623535], [5.23831844329834, -4.374557018280029, -1.7764356136322021], [-3.7174124717712402, 5.114269256591797, -2.1333491802215576], [-2.9389662742614746, 7.41823148727417, -5.047649383544922], [5.424979209899902, -3.546912431716919, -2.914933681488037], [-2.2546443939208984, 2.7246363162994385, -0.9345085024833679], [11.14866828918457, -8.402690887451172, -5.072872161865234], [13.428213119506836, -9.844047546386719, -6.359165191650391], [-2.545158624649048, 3.5413498878479004, -1.4548826217651367], [-7.26940393447876, -4.272159576416016, 10.538222312927246], [-4.64280366897583, -0.652814507484436, 4.837547779083252], [-6.560227870941162, -3.639265537261963, 9.05811595916748], [-2.4563584327697754, 3.028958320617676, -0.9135361313819885], [-4.341248512268066, 4.175205707550049, -0.3888467848300934], [-3.890101432800293, 5.597305774688721, -2.28061842918396], [3.4023542404174805, -3.587491512298584, -0.4752165377140045], [-3.6969656944274902, -2.221202850341797, 5.393741607666016], [7.83115291595459, -5.797553062438965, -3.2835044860839844], [0.0835425928235054, 1.3818317651748657, -2.1345839500427246], [-3.569253444671631, -4.135298252105713, 6.162374496459961], [11.194799423217773, -8.213123321533203, -5.289821147918701], [-3.6702442169189453, -2.857107639312744, 5.59935188293457], [-5.375950336456299, 9.360952377319336, -4.777998924255371], [-6.018669605255127, -7.229011535644531, 10.806022644042969], [7.280656337738037, -5.449747085571289, -3.1218104362487793], [-4.275809288024902, -2.8110833168029785, 5.78629207611084], [-3.7475695610046387, 3.5456480979919434, -0.04131346568465233], [1.5241312980651855, 0.9459226727485657, -3.103224992752075], [-2.9333250522613525, 0.6844884157180786, 2.002330780029297], [10.064135551452637, -8.074155807495117, -3.965001344680786], [-2.5107035636901855, -3.0054826736450195, 4.28476619720459], [-0.8107237219810486, -0.8119139075279236, 1.353603482246399], [-3.8322644233703613, 1.7862764596939087, 1.551302433013916], [-2.694545030593872, 3.954524040222168, -2.1019346714019775], [-3.8560776710510254, -4.874514102935791, 7.128114700317383], [-2.3827011585235596, 4.286965847015381, -2.5149190425872803], [-2.9411346912384033, 6.904406547546387, -4.567287445068359], [-4.374551773071289, -6.268547058105469, 8.688984870910645], [4.491352558135986, -3.458766222000122, -1.8372230529785156], [-5.020618438720703, 3.1109232902526855, 1.3783576488494873], [-3.469290256500244, 6.877911567687988, -3.8708393573760986], [-2.3684747219085693, -1.4875506162643433, 3.4937641620635986], [-2.000791072845459, 3.6270761489868164, -2.125849485397339], [-4.469493389129639, 6.2889556884765625, -2.3465397357940674], [-3.9048657417297363, 5.773207664489746, -2.535871982574463], [-1.9040521383285522, 4.788712501525879, -3.108886480331421], [1.3351995944976807, -2.2625532150268555, 0.4471433758735657], [-3.2234718799591064, 4.27418851852417, -1.570059061050415], [-5.173429012298584, -3.856145143508911, 7.556788444519043], [-1.272336721420288, 2.9253926277160645, -1.856687068939209], [-4.62276029586792, 5.661263465881348, -1.4915680885314941], [-6.99556303024292, -3.2176432609558105, 9.250594139099121], [11.202557563781738, -9.44320011138916, -4.3939361572265625], [8.01845645904541, -6.337052345275879, -3.441911458969116], [-3.804023027420044, 2.594381809234619, 0.7836146354675293], [-5.836209774017334, -3.602320909500122, 8.337014198303223], [7.092298984527588, -4.589787483215332, -3.5007240772247314], [8.556440353393555, -8.266012191772461, -2.5916528701782227], [-1.4803645610809326, -0.4343201220035553, 1.5963001251220703], [-3.08392333984375, -2.0534896850585938, 4.324726104736328], [12.98974895477295, -9.41128921508789, -6.087509632110596], [-2.70694899559021, 4.432675361633301, -2.2270283699035645], [-4.555408000946045, 3.2540125846862793, 0.9659357666969299], [-2.870140552520752, -2.452235221862793, 4.925432205200195], [10.683385848999023, -7.512493133544922, -5.276144027709961], [8.984521865844727, -5.798785209655762, -4.712279796600342], [-6.510921001434326, -4.88509464263916, 10.127976417541504], [-7.273268222808838, -6.507016181945801, 11.670536041259766], [-3.4471492767333984, -1.4984747171401978, 4.612757682800293], [-1.2311248779296875, -2.3157448768615723, 3.0441927909851074], [2.3425865173339844, -3.167283535003662, 0.14767566323280334], [12.814226150512695, -8.1277437210083, -7.109188079833984], [-5.658374786376953, -3.6484975814819336, 8.10969066619873], [5.724374771118164, -4.594302177429199, -2.2095816135406494], [-3.377441883087158, 2.216343402862549, 0.7534499168395996], [-4.284913063049316, 6.323126792907715, -2.6623220443725586], [6.4309163093566895, -5.510293483734131, -2.3437588214874268], [8.106258392333984, -4.690370082855225, -5.068818092346191], [-2.8609859943389893, 4.640000343322754, -2.1655776500701904], [-4.192124843597412, -2.3097245693206787, 5.938321113586426], [9.63343620300293, -7.8611040115356445, -4.1436848640441895], [2.092125415802002, -0.9104944467544556, -1.814752221107483], [-2.942714214324951, 2.8203065395355225, -0.32892969250679016], [-6.000859260559082, -6.428919792175293, 10.420103073120117], [10.568696022033691, -8.804499626159668, -4.457928657531738], [-4.09593391418457, -0.24088430404663086, 4.028203010559082], [3.691638946533203, -2.294736862182617, -1.9319911003112793], [-6.500763416290283, -3.196305274963379, 8.665718078613281], [13.138158798217773, -9.473331451416016, -6.2362751960754395], [-4.6005730628967285, -3.6731507778167725, 6.916128158569336], [-2.2804646492004395, 3.1078014373779297, -1.1484647989273071], [-4.995843410491943, 7.090779781341553, -2.761589288711548], [-3.2988195419311523, -3.2527365684509277, 5.144466400146484], [-6.117903232574463, -3.4146015644073486, 8.280277252197266], [11.560215950012207, -8.795207023620605, -5.1461052894592285], [6.228226184844971, -4.890523910522461, -2.392857789993286], [-2.6160526275634766, 3.478184938430786, -1.187746286392212], [6.8174662590026855, -5.834315776824951, -2.8996801376342773], [8.007920265197754, -6.084113121032715, -3.5650880336761475], [-3.9479949474334717, 5.657014846801758, -2.2606325149536133], [-7.3752522468566895, -3.031954288482666, 9.459942817687988], [-5.680656909942627, -4.295680046081543, 8.49644947052002], [-5.8817667961120605, -5.251467704772949, 9.741166114807129], [-3.3937339782714844, 3.7874698638916016, -0.7827159762382507], [-3.639003276824951, 5.129159927368164, -2.118151903152466], [-6.547585964202881, -5.3074822425842285, 10.631591796875], [7.280825138092041, -5.93187141418457, -2.768664598464966], [-3.807051420211792, 6.753314018249512, -3.412799119949341], [12.665094375610352, -8.914907455444336, -6.2588114738464355], [6.766366004943848, -4.725850582122803, -3.2049312591552734], [13.64761734008789, -9.688344955444336, -6.566774845123291], [3.6031692028045654, -6.2657623291015625, 0.7953420877456665], [-6.032725811004639, -4.244568824768066, 8.61974811553955], [-2.6757733821868896, 5.471024513244629, -3.141711473464966], [0.7277926206588745, -2.059314250946045, 0.6303170919418335], [-3.760128974914551, 4.880393028259277, -1.7138842344284058], [13.142292022705078, -9.243496894836426, -6.507329940795898], [2.291414260864258, -1.4380218982696533, -1.3925635814666748], [-3.513946533203125, 0.36058709025382996, 2.559317111968994], [3.21455717086792, -2.6816773414611816, -1.4872512817382812], [0.008331289514899254, -2.3540844917297363, 1.8693923950195312], [11.535701751708984, -7.87481689453125, -5.8349714279174805], [10.232933044433594, -7.634403705596924, -4.678358554840088], [-5.677200794219971, -3.481936454772949, 8.113500595092773], [-5.206897258758545, -0.7327005863189697, 5.316070556640625], [-2.8048667907714844, 1.248321294784546, 1.0984859466552734], [-1.9695935249328613, 3.823835849761963, -2.2944607734680176], [12.235552787780762, -9.586478233337402, -5.206466197967529], [-3.2333245277404785, 3.8804543018341064, -1.289171814918518], [6.717925548553467, -7.572904586791992, -1.561693549156189], [-7.130247116088867, -7.48218297958374, 12.361820220947266], [-1.7462753057479858, 1.9264715909957886, -0.5153693556785583], [13.422436714172363, -10.146527290344238, -6.040928363800049], [-2.9549975395202637, -4.2607245445251465, 5.724164009094238], [-5.2842607498168945, -3.457432985305786, 7.620014667510986], [9.586516380310059, -8.055956840515137, -3.7529613971710205], [13.575799942016602, -9.926557540893555, -6.372888088226318], [-6.76711893081665, -4.237793922424316, 9.733328819274902], [-3.7895724773406982, -5.624643325805664, 7.553937911987305], [7.552709579467773, -5.78816032409668, -3.209625244140625], [-3.3175899982452393, 3.735032558441162, -0.8068508505821228], [-4.501095294952393, 2.02972674369812, 1.7471809387207031], [-4.968521595001221, -4.630059242248535, 8.089722633361816], [-6.374130725860596, -5.219513893127441, 10.01208209991455], [0.4346628785133362, 1.4651967287063599, -2.278176784515381], [-4.5016865730285645, -6.631623268127441, 8.766275405883789], [-3.4577462673187256, 1.7721258401870728, 1.3177846670150757], [2.6416690349578857, -4.5088653564453125, 0.6120519638061523], [-7.317847728729248, -4.890632629394531, 10.670098304748535], [13.00257682800293, -9.747719764709473, -5.823052883148193], [-2.8633298873901367, 4.981093406677246, -2.519649028778076], [-5.4248785972595215, -5.8621826171875, 9.554373741149902], [0.5449649095535278, -1.6609714031219482, 0.5935803651809692], [-3.639479637145996, 5.850543022155762, -2.725292444229126], [-4.664177417755127, -1.729170560836792, 6.0877861976623535], [-5.285562515258789, -4.5386762619018555, 8.492823600769043], [2.7556514739990234, -2.244603157043457, -1.346307396888733], [11.612550735473633, -7.105137825012207, -7.164516448974609], [-3.274199962615967, 2.767286777496338, 0.07753138989210129], [-2.9046287536621094, 5.753784656524658, -3.393599271774292], [-3.949533224105835, 4.552504539489746, -0.9750365018844604], [-3.6716299057006836, 1.7409636974334717, 1.5502389669418335], [0.1426910161972046, -2.5094432830810547, 1.8748178482055664], [-3.3673996925354004, -1.5762462615966797, 4.312536716461182], [14.782973289489746, -9.04383373260498, -8.41348934173584], [-3.0266754627227783, 6.637996196746826, -4.110668182373047], [-5.424194812774658, 4.431168079376221, 0.28281110525131226], [-2.79722261428833, 5.31157922744751, -2.971883535385132], [-3.1094422340393066, 5.53862190246582, -2.9446959495544434], [-3.591646909713745, 5.002503395080566, -1.9989886283874512], [13.456271171569824, -10.09979248046875, -6.087352752685547], [2.847515106201172, -2.6289119720458984, -0.8400911092758179], [-3.94000244140625, -4.041640281677246, 6.574413299560547], [-5.1843581199646, -5.484856605529785, 8.985223770141602], [-3.9898226261138916, 4.278611183166504, -0.6544357538223267], [-4.234500408172607, 4.401299953460693, -0.8021732568740845], [-2.923144817352295, 2.430121898651123, 0.15436124801635742], [-4.756755352020264, 2.929036855697632, 1.226973056793213], [-4.781553745269775, -4.503737926483154, 7.912374019622803], [-3.775158405303955, -1.3376553058624268, 4.786118507385254], [-4.935593605041504, 7.248718738555908, -3.1055221557617188], [10.317330360412598, -7.629573822021484, -4.624317169189453], [-2.0759832859039307, 4.642232418060303, -2.9730141162872314], [-3.0402672290802, 2.083500385284424, 0.6292099952697754], [-8.764215469360352, -2.112190008163452, 9.66739559173584], [-3.6171352863311768, -0.7014895081520081, 3.921889543533325], [-2.9759016036987305, 3.2092220783233643, -0.5456132888793945], [7.910518169403076, -6.55255651473999, -3.095296859741211], [-5.052099704742432, 5.129901885986328, -0.7196619510650635], [5.484723091125488, -4.642796039581299, -1.9681823253631592], [-5.019259452819824, -4.936538219451904, 8.520535469055176], [-6.110774993896484, -4.310626983642578, 8.925704956054688], [-0.05901927500963211, -2.2544782161712646, 1.6297063827514648], [6.789953231811523, -4.860147476196289, -3.0612003803253174], [9.996679306030273, -6.864782333374023, -4.771796226501465], [13.68383502960205, -10.268280029296875, -6.243746757507324], [3.8424220085144043, -4.214200496673584, -0.6093262434005737], [13.556695938110352, -9.81660270690918, -6.329701900482178], [8.15132999420166, -5.416621685028076, -4.664098739624023], [-2.637120246887207, 1.9694074392318726, 0.35955002903938293], [-3.379948616027832, 5.7781524658203125, -3.011540651321411], [13.101367950439453, -9.080484390258789, -6.559196472167969], [-4.600001335144043, 5.974228858947754, -1.9508509635925293], [-3.0248377323150635, 0.4738236963748932, 2.2702696323394775], [14.264741897583008, -10.98323917388916, -6.336438179016113]]\n",
            "tensor([[8.4093e-03, 8.1352e-02, 5.7723e+02],\n",
            "        [8.4926e-04, 6.0572e-03, 4.4247e+04],\n",
            "        [3.4623e+06, 1.2514e-05, 1.0384e-03],\n",
            "        ...,\n",
            "        [1.0052e-02, 3.9316e+02, 1.4215e-01],\n",
            "        [4.8566e-02, 1.6061e+00, 9.6820e+00],\n",
            "        [1.5671e+06, 1.6984e-05, 1.7706e-03]])\n",
            "[2, 2, 0, 0, 0, 2, 2, 2, 1, 0, 2, 1, 2, 2, 2, 1, 1, 2, 1, 2, 2, 2, 0, 1, 2, 1, 1, 0, 1, 2, 1, 2, 2, 0, 2, 1, 0, 1, 1, 1, 0, 1, 1, 0, 2, 1, 0, 0, 2, 2, 1, 1, 1, 2, 2, 0, 2, 1, 2, 1, 2, 1, 1, 1, 1, 1, 0, 1, 0, 1, 0, 0, 1, 0, 2, 2, 1, 2, 1, 2, 0, 1, 0, 2, 2, 2, 0, 1, 1, 1, 1, 1, 1, 2, 2, 0, 1, 2, 0, 1, 2, 2, 2, 0, 2, 1, 0, 1, 2, 1, 2, 1, 2, 1, 1, 2, 1, 0, 0, 0, 1, 1, 0, 2, 0, 0, 1, 2, 0, 2, 1, 0, 2, 2, 2, 0, 0, 0, 1, 0, 2, 1, 1, 1, 0, 2, 0, 0, 2, 1, 0, 1, 1, 2, 2, 2, 1, 1, 1, 2, 0, 2, 2, 2, 0, 1, 2, 1, 2, 1, 1, 0, 0, 2, 0, 1, 2, 2, 2, 2, 1, 1, 0, 0, 0, 1, 1, 0, 2, 2, 1, 0, 1, 0, 1, 2, 1, 0, 0, 2, 0, 1, 0, 2, 2, 2, 0, 2, 0, 1, 1, 1, 2, 0, 0, 1, 1, 1, 2, 1, 2, 2, 0, 1, 2, 1, 0, 0, 2, 1, 2, 2, 0, 1, 2, 1, 0, 1, 0, 0, 2, 0, 1, 2, 0, 0, 0, 1, 1, 0, 1, 2, 2, 1, 0, 1, 1, 1, 0, 1, 0, 2, 0, 2, 2, 2, 2, 2, 1, 0, 0, 0, 1, 1, 2, 0, 0, 0, 1, 0, 2, 2, 2, 0, 1, 2, 2, 0, 0, 2, 1, 1, 1, 2, 2, 1, 2, 2, 1, 1, 1, 0, 1, 1, 0, 1, 2, 1, 2, 2, 0, 2, 2, 1, 1, 2, 0, 1, 1, 2, 2, 2, 1, 1, 0, 2, 2, 2, 0, 2, 2, 1, 2, 1, 1, 1, 0, 2, 1, 0, 1, 0, 1, 0, 2, 0, 0, 0, 0, 2, 2, 2, 0, 1, 2, 2, 2, 1, 0, 0, 0, 2, 2, 0, 1, 1, 2, 2, 1, 1, 1, 2, 0, 0, 2, 0, 1, 0, 1, 1, 2, 2, 0, 1, 1, 1, 2, 0, 0, 1, 2, 1, 1, 2, 1, 2, 0, 0, 2, 2, 1, 2, 1, 1, 1, 1, 2, 2, 2, 2, 0, 1, 1, 1, 0, 1, 2, 0, 2, 1, 1, 1, 1, 0, 2, 1, 2, 2, 1, 0, 2, 1, 2, 0, 2, 0, 2, 0, 1, 2, 0, 2, 1, 2, 2, 0, 2, 2, 2, 1, 1, 2, 2, 0, 1, 0, 0, 1, 1, 2, 2, 1, 0, 1, 2, 1, 1, 2, 0, 1, 2, 2, 0, 0, 0, 0, 2, 1, 2, 2, 1, 2, 2, 2, 1, 1, 2, 0, 1, 2, 0, 0, 1, 0, 2, 1, 2, 0, 1, 0, 2, 2, 0, 2, 1, 2, 2, 0, 1, 1, 1, 2, 1, 0, 1, 2, 0, 1, 1, 2, 2, 2, 1, 0, 1, 0, 0, 1, 2, 2, 0, 2, 1, 2, 2, 0, 1, 2, 2, 0, 0, 1, 2, 1, 2, 1, 1, 2, 2, 2, 0, 1, 0, 1, 0, 2, 2, 2, 1, 0, 0, 2, 0, 2, 1, 1, 1, 1, 2, 0, 0, 1, 1, 2, 2, 0, 0, 1, 2, 0, 2, 1, 1, 1, 0, 0, 0, 0, 0, 2, 1, 2, 2, 2, 1, 2, 0, 2, 0, 2, 2, 0, 1, 0, 0, 1, 0, 2, 1, 1, 1, 1, 0, 0, 1, 2, 0, 1, 0, 1, 2, 1, 1, 1, 0, 2, 1, 0, 1, 1, 1, 2, 1, 2, 1, 2, 2, 0, 2, 0, 1, 2, 0, 2, 0, 1, 1, 1, 0, 2, 2, 0, 0, 0, 2, 0, 1, 1, 0, 2, 0, 1, 0, 0, 0, 0, 0, 2, 1, 2, 1, 0, 0, 1, 2, 2, 0, 2, 2, 2, 0, 1, 2, 2, 0, 1, 2, 2, 2, 1, 2, 1, 0, 2, 0, 0, 0, 1, 1, 0, 1, 2, 0, 0, 2, 0, 2, 2, 1, 0, 0, 1, 2, 0, 0, 0, 0, 2, 2, 0, 1, 0, 0, 1, 0, 1, 2, 1, 1, 2, 1, 2, 1, 1, 1, 0, 2, 0, 2, 2, 2, 1, 0, 1, 2, 1, 1, 0, 0, 2, 2, 2, 2, 0, 1, 0, 1, 0, 2, 1, 0, 0, 0, 1, 2, 1, 1, 0, 0, 0, 0, 0, 2, 1, 2, 0, 2, 0, 2, 1, 1, 0, 0, 2, 2, 2, 1, 2, 0, 1, 1, 2, 0, 2, 0, 2, 2, 2, 2, 0, 2, 2, 1, 1, 1, 1, 2, 1, 2, 1, 0, 2, 2, 2, 0, 0, 1, 2, 2, 1, 0, 2, 1, 0, 2, 1, 1, 2, 1, 1, 1, 0, 0, 1, 0, 1, 1, 1, 0, 2, 2, 2, 1, 0, 2, 1, 1, 2, 0, 2, 0, 0, 2, 0, 2, 0, 2, 2, 0, 2, 2, 0, 1, 0, 1, 0, 1, 1, 2, 1, 2, 2, 1, 2, 0, 0, 0, 1, 0, 2, 2, 0, 2, 1, 1, 0, 1, 2, 0, 0, 1, 0, 2, 1, 1, 0, 1, 2, 1, 2, 1, 0, 1, 1, 1, 0, 0, 1, 1, 1, 2, 0, 2, 1, 0, 2, 2, 0, 2, 0, 2, 1, 0, 0, 1, 2, 1, 0, 1, 2, 1, 2, 2, 2, 1, 2, 0, 1, 2, 1, 1, 0, 2, 1, 0, 0, 2, 2, 0, 2, 1, 2, 1, 0, 1, 0, 1, 1, 2, 2, 1, 1, 2, 2, 0, 0, 2, 2, 0, 1, 0, 1, 0, 0, 2, 2, 2, 1, 2, 0, 1, 0, 2, 2, 1, 2, 1, 1, 2, 0, 2, 1, 2, 2, 2, 1, 1, 0, 1, 0, 1, 0, 1, 2, 1, 1, 0, 0, 1, 0, 0, 0, 2, 1, 2, 0, 0, 1, 1, 1, 2, 0, 1, 0, 2, 2, 2, 2, 0, 1, 1, 2, 2, 2, 2, 1, 0, 0, 1, 1, 2, 2, 2, 2, 2, 2, 0, 0, 0, 1, 2, 1, 0, 0, 1, 2, 0, 2, 2, 0, 1, 2, 2, 1, 2, 2, 1, 1, 1, 1, 0, 0, 1, 1, 1, 2, 2, 1, 1, 1, 2, 1, 2, 1, 1, 2, 0, 1, 1, 1, 0, 1, 0, 0, 1, 2, 0, 1, 0, 1, 1, 0, 2, 2, 1, 1, 1, 0, 1, 1, 2, 0, 2, 0, 2, 0, 2, 1, 1, 1, 1, 1, 1, 2, 0, 1, 0, 1, 1, 0, 2, 0, 2, 0, 2, 0, 2, 0, 0, 0, 2, 2, 1, 1, 1, 2, 0, 1, 2, 1, 0, 0, 1, 0, 1, 1, 2, 2, 1, 1, 2, 1, 1, 1, 2, 0, 1, 2, 0, 0, 1, 0, 2, 1, 2, 0, 1, 1, 2, 1, 2, 2, 0, 1, 1, 2, 0, 2, 1, 2, 2, 1, 1, 2, 1, 2, 0, 0, 1, 2, 0, 1, 1, 2, 2, 2, 2, 1, 1, 0, 1, 2, 1, 0, 2, 0, 1, 0, 0, 2, 0, 2, 0, 1, 0, 0, 0, 0, 2, 0, 1, 2, 0, 1, 0, 2, 2, 1, 0, 2, 1, 2, 0, 2, 2, 2, 0, 2, 1, 2, 1, 2, 1, 1, 2, 1, 1, 1, 1, 1, 1, 1, 1, 2, 1, 0, 2, 2, 0, 0, 2, 1, 1, 2, 0, 2, 0, 1, 2, 1, 1, 2, 0, 2, 2, 0, 0, 2, 1, 0, 2, 1, 2, 1, 2, 1, 0, 1, 1, 0, 1, 0, 0, 2, 1, 0, 2, 1, 2, 2, 1, 0, 1, 1, 2, 2, 2, 2, 0, 1, 1, 1, 0, 0, 0, 2, 2, 0, 0, 1, 1, 0, 1, 0, 0, 1, 2, 2, 2, 1, 1, 1, 0, 2, 0, 0, 2, 0, 2, 1, 2, 0, 2, 1, 1, 2, 0, 2, 2, 2, 1, 2, 1, 1, 2, 0, 1, 1, 2, 1, 1, 1, 1, 0, 1, 2, 1, 1, 2, 0, 0, 1, 2, 0, 0, 2, 2, 0, 1, 1, 2, 0, 0, 2, 2, 2, 2, 0, 0, 2, 0, 2, 1, 0, 0, 1, 2, 0, 0, 1, 2, 0, 1, 0, 2, 0, 2, 1, 1, 2, 2, 0, 0, 2, 0, 0, 1, 2, 2, 2, 1, 1, 2, 0, 1, 0, 0, 0, 0, 2, 1, 2, 1, 0, 0, 1, 0, 2, 0, 0, 2, 2, 2, 1, 0, 1, 2, 2, 1, 0, 2, 2, 0, 0, 2, 2, 0, 1, 1, 2, 2, 1, 2, 2, 2, 2, 0, 1, 2, 2, 1, 2, 2, 0, 0, 1, 1, 1, 2, 2, 2, 0, 1, 1, 1, 1, 1, 0, 0, 2, 2, 1, 1, 2, 1, 2, 2, 1, 0, 1, 2, 2, 1, 1, 0, 1, 0, 2, 2, 0, 0, 0, 0, 0, 0, 0, 2, 1, 0, 1, 1, 0]\n",
            "f1 score:  0.9301112764857017\n",
            "recall:  0.9301566579634465\n",
            "precision:  0.9301094952398996\n",
            "accuracy:  0.9301566579634465\n"
          ],
          "name": "stdout"
        }
      ]
    },
    {
      "cell_type": "markdown",
      "metadata": {
        "id": "Nsw4tzqpOyP_"
      },
      "source": [
        "## ResNet 50 (pretrained = False)"
      ]
    },
    {
      "cell_type": "code",
      "metadata": {
        "id": "-J1kcg-gJdsZ"
      },
      "source": [
        "import torchvision.models as models\n",
        "import torch.optim as optim\n",
        "\n",
        "model =  models.resnet50(pretrained=False)\n",
        "num_ftrs = model.fc.in_features\n",
        "model.fc = nn.Linear(num_ftrs, 3)"
      ],
      "execution_count": null,
      "outputs": []
    },
    {
      "cell_type": "code",
      "metadata": {
        "colab": {
          "base_uri": "https://localhost:8080/"
        },
        "id": "ahteJEgBmDWT",
        "outputId": "a6e0ef52-baca-4e72-c7c1-f79b3c25d03c"
      },
      "source": [
        "optimizer = optim.Adam(model.parameters(), 0.001, weight_decay=0.0)\n",
        "scheduler = torch.optim.lr_scheduler.ReduceLROnPlateau(optimizer, patience=5, factor=0.3, threshold=0.0001) \n",
        "train_model(model, optimizer, scheduler, 10)"
      ],
      "execution_count": null,
      "outputs": [
        {
          "output_type": "stream",
          "text": [
            "\n",
            "**********epoch:  0 \n",
            "\n",
            "\n",
            "train:\n",
            "\n",
            "loss:  0.9858467777570089\n",
            "f1 score:  0.669783882026133\n",
            "recall:  0.6672473867595818\n",
            "precision:  0.6743196953833143\n",
            "accuracy:  0.6672473867595818\n",
            "\n",
            "validation:\n",
            "\n",
            "loss:  1.2081951167848375\n",
            "f1 score:  0.5040423377582797\n",
            "recall:  0.5813751087902524\n",
            "precision:  0.5476723628571918\n",
            "accuracy:  0.5813751087902524\n",
            "\n",
            "**********epoch:  1 \n",
            "\n",
            "\n",
            "train:\n",
            "\n",
            "loss:  0.38089604675769806\n",
            "f1 score:  0.8476434017308091\n",
            "recall:  0.8475609756097561\n",
            "precision:  0.8477620040824655\n",
            "accuracy:  0.8475609756097561\n",
            "\n",
            "validation:\n",
            "\n",
            "loss:  0.3637850185235341\n",
            "f1 score:  0.8745724906578942\n",
            "recall:  0.8746736292428199\n",
            "precision:  0.878928236102793\n",
            "accuracy:  0.8746736292428199\n",
            "\n",
            "**********epoch:  2 \n",
            "\n",
            "\n",
            "train:\n",
            "\n",
            "loss:  0.28001639743645984\n",
            "f1 score:  0.8945558740105816\n",
            "recall:  0.8945993031358885\n",
            "precision:  0.8945948059434848\n",
            "accuracy:  0.8945993031358885\n",
            "\n",
            "validation:\n",
            "\n",
            "loss:  0.3264578464958403\n",
            "f1 score:  0.8644647980498507\n",
            "recall:  0.8651000870322019\n",
            "precision:  0.8711893556769933\n",
            "accuracy:  0.8651000870322019\n",
            "\n",
            "**********epoch:  3 \n",
            "\n",
            "\n",
            "train:\n",
            "\n",
            "loss:  0.25540077230996555\n",
            "f1 score:  0.9018083645595847\n",
            "recall:  0.9015679442508711\n",
            "precision:  0.9023104634070591\n",
            "accuracy:  0.9015679442508711\n",
            "\n",
            "validation:\n",
            "\n",
            "loss:  0.5685532954004076\n",
            "f1 score:  0.779784068689935\n",
            "recall:  0.7867711053089643\n",
            "precision:  0.8122827052696725\n",
            "accuracy:  0.7867711053089643\n",
            "\n",
            "**********epoch:  4 \n",
            "\n",
            "\n",
            "train:\n",
            "\n",
            "loss:  0.17184048518538475\n",
            "f1 score:  0.9408614208458743\n",
            "recall:  0.9407665505226481\n",
            "precision:  0.9410269311782503\n",
            "accuracy:  0.9407665505226481\n",
            "\n",
            "validation:\n",
            "\n",
            "loss:  0.3390657959712876\n",
            "f1 score:  0.8643949740092358\n",
            "recall:  0.865970409051349\n",
            "precision:  0.8732360528555662\n",
            "accuracy:  0.865970409051349\n",
            "\n",
            "**********epoch:  5 \n",
            "\n",
            "\n",
            "train:\n",
            "\n",
            "loss:  0.17744289421372944\n",
            "f1 score:  0.9416667439084856\n",
            "recall:  0.9416376306620209\n",
            "precision:  0.9417556693762044\n",
            "accuracy:  0.9416376306620209\n",
            "\n",
            "validation:\n",
            "\n",
            "loss:  0.47057495100630653\n",
            "f1 score:  0.8548141856912232\n",
            "recall:  0.8546562228024369\n",
            "precision:  0.8622097762947752\n",
            "accuracy:  0.8546562228024369\n",
            "\n",
            "**********epoch:  6 \n",
            "\n",
            "\n",
            "train:\n",
            "\n",
            "loss:  0.18179568151632944\n",
            "f1 score:  0.9397404714648883\n",
            "recall:  0.9398954703832753\n",
            "precision:  0.9399358812841191\n",
            "accuracy:  0.9398954703832753\n",
            "\n",
            "validation:\n",
            "\n",
            "loss:  0.31956808517376584\n",
            "f1 score:  0.8916278769248458\n",
            "recall:  0.8920800696257616\n",
            "precision:  0.893912530766512\n",
            "accuracy:  0.8920800696257616\n",
            "\n",
            "**********epoch:  7 \n",
            "\n",
            "\n",
            "train:\n",
            "\n",
            "loss:  0.1944160693221622\n",
            "f1 score:  0.9285238461377802\n",
            "recall:  0.9285714285714286\n",
            "precision:  0.9287409334520673\n",
            "accuracy:  0.9285714285714286\n",
            "\n",
            "validation:\n",
            "\n",
            "loss:  1.0665763252311282\n",
            "f1 score:  0.6956791756082799\n",
            "recall:  0.7241079199303743\n",
            "precision:  0.8120015545874611\n",
            "accuracy:  0.7241079199303743\n",
            "\n",
            "**********epoch:  8 \n",
            "\n",
            "\n",
            "train:\n",
            "\n",
            "loss:  0.15701300961275896\n",
            "f1 score:  0.9424789163700977\n",
            "recall:  0.9425087108013938\n",
            "precision:  0.94252928332878\n",
            "accuracy:  0.9425087108013938\n",
            "\n",
            "validation:\n",
            "\n",
            "loss:  0.44982989297972786\n",
            "f1 score:  0.8871163587003668\n",
            "recall:  0.8877284595300261\n",
            "precision:  0.8905669391655203\n",
            "accuracy:  0.8877284595300261\n",
            "\n",
            "**********epoch:  9 \n",
            "\n",
            "\n",
            "train:\n",
            "\n",
            "loss:  0.1426554262224171\n",
            "f1 score:  0.9468257180256903\n",
            "recall:  0.9468641114982579\n",
            "precision:  0.9469172530343924\n",
            "accuracy:  0.9468641114982579\n",
            "\n",
            "validation:\n",
            "\n",
            "loss:  0.32994165768225986\n",
            "f1 score:  0.9045961598561845\n",
            "recall:  0.9042645778938208\n",
            "precision:  0.9082642841100456\n",
            "accuracy:  0.9042645778938208\n"
          ],
          "name": "stdout"
        }
      ]
    },
    {
      "cell_type": "code",
      "metadata": {
        "id": "jlMQ4w6UmDj6"
      },
      "source": [
        "torch.save(model.state_dict(), \"resNet50_false\")"
      ],
      "execution_count": null,
      "outputs": []
    },
    {
      "cell_type": "code",
      "metadata": {
        "colab": {
          "base_uri": "https://localhost:8080/"
        },
        "id": "OC2yVKW9mDv-",
        "outputId": "2967d435-f3cb-4f0c-b9d4-fc01073e15be"
      },
      "source": [
        "test_model(model, optimizer, scheduler)"
      ],
      "execution_count": null,
      "outputs": [
        {
          "output_type": "stream",
          "text": [
            "test: \n",
            "loss:  0.40245343123873073\n",
            "[[-3.348890542984009, -2.560533285140991, 4.933432102203369], [-2.6118862628936768, 2.580530881881714, -0.1038147583603859], [-4.549796104431152, 6.0195488929748535, -1.4801764488220215], [-4.879413604736328, 3.746201515197754, 0.7864037752151489], [-5.89736270904541, 6.4121270179748535, -0.8401588797569275], [-4.4812092781066895, 6.386189937591553, -1.9814174175262451], [-5.192812442779541, 0.8101729154586792, 3.5679385662078857], [3.9849538803100586, -5.125533580780029, 1.6575902700424194], [-3.018529176712036, -2.6178395748138428, 4.897507667541504], [4.233973026275635, -0.3042791187763214, -2.936371326446533], [2.249891519546509, -3.4715545177459717, 1.4588303565979004], [-5.055635929107666, 6.4950337409973145, -1.600292682647705], [-2.9193177223205566, -0.853234052658081, 3.070460081100464], [3.664374351501465, -1.3548462390899658, -1.810356855392456], [-3.5858170986175537, -2.5572736263275146, 5.224151134490967], [-5.711831092834473, 7.9027791023254395, -2.230588674545288], [1.9123525619506836, -1.051263689994812, -0.20005916059017181], [-4.591673851013184, 0.7355873584747314, 3.1082699298858643], [-5.368242263793945, 7.485452175140381, -2.18502140045166], [6.158198833465576, -3.4610650539398193, -1.9933750629425049], [-3.756399154663086, -2.2178990840911865, 5.037214756011963], [2.5867395401000977, -3.6896145343780518, 1.3791837692260742], [-5.551095008850098, 6.7088398933410645, -1.3473862409591675], [5.752777576446533, -3.6284196376800537, -1.43560791015625], [-5.420463562011719, 5.893971920013428, -0.7805404663085938], [-5.374857425689697, 3.7692649364471436, 1.1619117259979248], [3.3365399837493896, -2.7450828552246094, 0.1331130862236023], [-4.20819091796875, 3.7612431049346924, 0.22256439924240112], [-4.253607749938965, 7.437197208404541, -2.603646993637085], [5.838420391082764, -4.622870922088623, -0.3203881084918976], [3.657771587371826, -1.714363932609558, -1.492376446723938], [-4.9791059494018555, 4.011956214904785, 0.6028063893318176], [2.7940220832824707, -1.0752801895141602, -1.0072407722473145], [4.115683555603027, -1.5584089756011963, -1.887253761291504], [-4.616113185882568, 5.6644415855407715, -1.1654119491577148], [-5.578052043914795, 6.573894023895264, -1.1547961235046387], [-3.4219367504119873, -3.1728925704956055, 5.652982234954834], [-2.331162452697754, -4.7325568199157715, 6.169783115386963], [-5.280503749847412, 4.8382391929626465, 0.14054560661315918], [-4.1682868003845215, 2.987543821334839, 0.89280104637146], [-5.542855739593506, 5.362491130828857, -0.0863717719912529], [-0.7897654175758362, -3.174384832382202, 3.7179982662200928], [7.550525188446045, -0.7381058931350708, -3.563507318496704], [-0.34025683999061584, -4.6698527336120605, 4.12731409072876], [-1.340460181236267, 1.7944148778915405, -0.47550496459007263], [1.2468363046646118, -1.0547566413879395, -0.23211738467216492], [-5.211123943328857, 5.732651233673096, -0.8250457644462585], [-6.280847072601318, 8.195768356323242, -2.0173168182373047], [-6.431661128997803, 8.370039939880371, -2.0012569427490234], [-2.021972179412842, -5.356502532958984, 6.419449329376221], [5.361780166625977, -4.468233585357666, -0.1095656082034111], [-3.185145139694214, -0.04462067037820816, 2.7403624057769775], [7.581667423248291, -3.0316669940948486, -3.493544578552246], [2.9301607608795166, -0.8219419717788696, -1.4244420528411865], [-3.293781280517578, -4.283081531524658, 6.499671459197998], [6.21658182144165, -5.3973798751831055, 0.07805322855710983], [1.675233244895935, -2.401089668273926, 0.9616833925247192], [1.7074573040008545, -4.941117286682129, 2.9012081623077393], [-5.281868934631348, 5.230152606964111, -0.22488656640052795], [-5.562830448150635, 6.416818618774414, -0.9444593787193298], [-1.2982854843139648, -2.5220861434936523, 3.469677209854126], [7.452865123748779, -5.109579563140869, -1.5074186325073242], [5.217393398284912, -3.978959321975708, -0.7566737532615662], [-4.9138007164001465, 6.560681343078613, -1.7839431762695312], [-5.095327854156494, 3.9263668060302734, 0.8044754266738892], [-4.633519649505615, 2.6796340942382812, 1.498529314994812], [-1.1420722007751465, -5.434685707092285, 5.948035717010498], [-4.429920196533203, 6.440927982330322, -1.6877620220184326], [-6.609378337860107, 7.637498378753662, -1.2687797546386719], [-2.607463836669922, 0.4255306124687195, 1.9654185771942139], [-4.143423557281494, 1.4390473365783691, 2.2642734050750732], [7.429800510406494, -6.068370819091797, -0.3495657742023468], [-0.832733154296875, -4.594093322753906, 4.904957294464111], [6.438119888305664, -5.4875407218933105, -0.08285170048475266], [-2.3583197593688965, -2.899121046066284, 4.6353278160095215], [-2.637911558151245, -1.2124533653259277, 3.282471179962158], [-3.5686609745025635, -7.323221683502197, 9.199796676635742], [-5.504947185516357, 5.9578328132629395, -0.7357893586158752], [9.906793594360352, -7.496244430541992, -1.1983017921447754], [-1.7507202625274658, -1.6722630262374878, 3.0503811836242676], [-3.5995309352874756, -1.277920126914978, 4.164073944091797], [-0.9784600734710693, -3.3295185565948486, 3.9364583492279053], [-4.6561079025268555, 2.653808355331421, 1.5248041152954102], [8.215548515319824, -6.487380027770996, -0.7663472294807434], [2.856694221496582, -0.9036802053451538, -1.6077260971069336], [-3.6995646953582764, -1.4115846157073975, 4.2749176025390625], [2.08972430229187, 0.10967689007520676, -1.9339739084243774], [-5.125246524810791, 4.054458141326904, 0.7034769654273987], [-2.68839955329895, -6.121555805206299, 7.585885524749756], [6.077322483062744, -5.273500442504883, -0.08406689018011093], [5.682600498199463, -5.713845729827881, 0.8107476830482483], [-3.6589086055755615, -0.7291510701179504, 3.7755749225616455], [-3.8800113201141357, -0.43716204166412354, 3.604982614517212], [7.0075883865356445, -6.11910343170166, 0.21803608536720276], [-3.0430667400360107, -1.0541977882385254, 3.5337183475494385], [0.26157787442207336, -2.5884857177734375, 1.981581687927246], [3.607374906539917, 1.3546713590621948, -3.0461642742156982], [-4.831258773803711, 3.144787311553955, 1.1631042957305908], [4.218230724334717, -3.7262470722198486, 0.026977231726050377], [-5.2773847579956055, 3.9928715229034424, 0.9006638526916504], [3.5569345951080322, -4.356444835662842, 1.1566596031188965], [-4.028835773468018, -2.8616302013397217, 5.726460933685303], [-2.1995110511779785, 0.27260473370552063, 1.6211159229278564], [6.656472682952881, -3.4597535133361816, -2.392847776412964], [3.1212399005889893, -4.5606160163879395, 1.73403799533844], [7.241682529449463, -2.695565938949585, -3.4930124282836914], [-4.12133264541626, 4.797084808349609, -0.7900341749191284], [-3.8344008922576904, -2.143526315689087, 5.079885005950928], [-1.8621609210968018, -5.531380653381348, 6.303462505340576], [-3.1344549655914307, -3.555511236190796, 5.602357387542725], [-5.465597152709961, 4.902481555938721, 0.27578023076057434], [-4.800685405731201, 2.9192004203796387, 1.4410526752471924], [3.958420753479004, -3.4482767581939697, -0.044522397220134735], [-3.7840797901153564, -2.031405448913574, 4.9295268058776855], [-3.037339448928833, 1.88105046749115, 0.9251203536987305], [2.020228385925293, -1.9772337675094604, 0.493903785943985], [6.372375965118408, -6.810713291168213, 0.7383623123168945], [-3.747462511062622, -2.3428330421447754, 5.143829822540283], [-5.150181770324707, 6.275685787200928, -1.2240232229232788], [-3.3419179916381836, -6.324342250823975, 8.19880485534668], [4.969319820404053, -2.32344913482666, -2.0200326442718506], [-4.526082515716553, 5.205176830291748, -0.8092818856239319], [7.883845806121826, -6.170788288116455, -0.7237011194229126], [-3.0226967334747314, 0.8871335983276367, 1.9084951877593994], [-4.176868438720703, -2.824629545211792, 5.892220497131348], [7.037303447723389, -5.7601399421691895, -0.1564190834760666], [-5.2398786544799805, 5.722182750701904, -0.6825206279754639], [-4.109952926635742, -9.326233863830566, 11.187093734741211], [-5.3978400230407715, 6.302700519561768, -1.0719432830810547], [-4.630863666534424, 0.998233437538147, 3.042902708053589], [-4.87116003036499, 1.1339102983474731, 3.080270290374756], [-2.501906156539917, 4.171590805053711, -1.5032259225845337], [-5.046807289123535, 8.160042762756348, -3.0307791233062744], [1.102022409439087, -1.0545893907546997, 0.1516750603914261], [-4.134864330291748, -3.8162357807159424, 6.688033580780029], [0.21654188632965088, -1.6258529424667358, 1.274408221244812], [-2.726412534713745, -3.1471452713012695, 5.1197733879089355], [-3.0391809940338135, -4.208895683288574, 6.217251777648926], [1.5625191926956177, 1.8768190145492554, -2.8495755195617676], [-4.3952484130859375, 3.4824023246765137, 0.5713809728622437], [-1.5583120584487915, -2.808251142501831, 3.8838064670562744], [-0.9429479837417603, 2.447073221206665, -1.40362548828125], [-2.5304622650146484, -6.958159923553467, 8.149943351745605], [-5.707547187805176, 8.455726623535156, -2.756720781326294], [-4.1690592765808105, -3.5781757831573486, 6.521141529083252], [3.461907148361206, -2.9400393962860107, -0.11244349926710129], [7.6039228439331055, -6.297735214233398, -0.594415009021759], [-6.057250022888184, 6.27861213684082, -0.5244035720825195], [-4.524352550506592, 1.915190577507019, 2.1024606227874756], [-1.3727748394012451, -4.759958744049072, 5.394404888153076], [-5.61018180847168, 4.6309685707092285, 0.5338872671127319], [-4.495683193206787, 3.2072701454162598, 0.9131051301956177], [7.81715726852417, -5.667097091674805, -1.1799014806747437], [-2.577346086502075, -3.3431389331817627, 5.178731441497803], [-1.7663066387176514, -3.5239293575286865, 4.7623491287231445], [-5.744747638702393, 6.915432453155518, -1.3044764995574951], [-3.117827892303467, 1.3447819948196411, 1.443474292755127], [3.469348669052124, -5.2620930671691895, 1.8717557191848755], [-2.750229835510254, -7.3888115882873535, 8.585418701171875], [-4.461834907531738, 3.778183937072754, 0.33950257301330566], [-3.4930806159973145, -4.568239212036133, 6.867764472961426], [4.603175640106201, -2.182391881942749, -1.8015680313110352], [-4.061792850494385, 5.038888454437256, -1.0855364799499512], [-5.643636226654053, 5.470577716827393, -0.0716828927397728], [-5.198068141937256, 4.265820026397705, 0.5732964873313904], [-6.14047384262085, 7.702950954437256, -1.7455945014953613], [-5.863246440887451, 6.824935436248779, -1.164074420928955], [-3.993037223815918, -3.156771659851074, 6.041929721832275], [-5.7967352867126465, 7.432887077331543, -1.7455247640609741], [3.1875452995300293, -5.084277629852295, 2.2957708835601807], [5.165016174316406, -3.7045648097991943, -0.8124369978904724], [4.176260948181152, -2.7064971923828125, -1.0441087484359741], [-3.2664010524749756, -2.506286382675171, 4.977186679840088], [-5.674705982208252, 6.758316516876221, -1.2029809951782227], [-2.661870002746582, -0.7369252443313599, 2.9059343338012695], [-2.6539723873138428, 1.5907648801803589, 0.8421533107757568], [-4.845054626464844, 3.437244176864624, 1.0431228876113892], [-4.0303568840026855, 1.3024460077285767, 2.2964699268341064], [-5.437225818634033, 3.794710397720337, 1.1765497922897339], [-3.592867612838745, -2.1266627311706543, 4.877328395843506], [-4.133195400238037, -4.1902289390563965, 6.914122104644775], [-2.58728289604187, 1.6792916059494019, 0.6256998181343079], [-4.813413143157959, 4.645997524261475, -0.11448197811841965], [1.4431743621826172, 0.7050754427909851, -1.8533995151519775], [4.103874683380127, -2.4357855319976807, -1.0585675239562988], [-1.595109224319458, 0.7169576287269592, 0.8880047798156738], [4.030604362487793, -3.733004331588745, 0.2411496341228485], [-3.9987995624542236, -0.17196223139762878, 3.4731204509735107], [8.32804012298584, -6.882589817047119, -0.29452285170555115], [5.827182769775391, -4.856346607208252, -0.1108863428235054], [-1.6651908159255981, -6.005931854248047, 6.634626865386963], [-2.8312995433807373, -3.9875760078430176, 5.832233905792236], [1.9019898176193237, -5.3215556144714355, 3.278930902481079], [-4.385831356048584, -9.463587760925293, 11.492968559265137], [-3.7116165161132812, -1.08809494972229, 4.081836223602295], [8.532059669494629, -6.522319793701172, -0.8426154851913452], [-4.531325817108154, 7.1334662437438965, -2.600172281265259], [4.63783597946167, -3.3040130138397217, -0.7778562903404236], [-2.699164628982544, 1.3900368213653564, 1.053236722946167], [-1.6037439107894897, -2.3572771549224854, 3.5640952587127686], [-5.856185436248779, 7.230772972106934, -1.6013365983963013], [-1.1039600372314453, -1.627469539642334, 2.2136805057525635], [-2.37351393699646, -0.6939560770988464, 2.4822912216186523], [-2.6888678073883057, 0.6032493114471436, 1.805802583694458], [-4.636485576629639, 3.7266292572021484, 0.6103351712226868], [-3.7563812732696533, 2.735553026199341, 0.68471759557724], [6.700748920440674, -6.567237854003906, 0.587357759475708], [0.6669560670852661, 1.5705779790878296, -1.936226725578308], [-2.6865074634552, -3.9149463176727295, 5.735942363739014], [8.229799270629883, -5.313236236572266, -1.9364818334579468], [3.4829814434051514, -3.7462515830993652, 0.8040984272956848], [-4.275234699249268, -1.6635712385177612, 4.97551965713501], [-3.058072805404663, -1.8490544557571411, 4.2187018394470215], [-3.1848437786102295, -1.5308588743209839, 4.064666748046875], [3.1478588581085205, 1.4199955463409424, -4.046047210693359], [6.070412635803223, -5.324613571166992, 0.11187412589788437], [-2.951578378677368, -4.521385669708252, 6.431309223175049], [7.632463455200195, -6.049962520599365, -0.484717458486557], [7.390913486480713, -6.445184230804443, 0.09256265312433243], [-3.646749973297119, -4.78495454788208, 7.158609867095947], [-2.629140615463257, 4.676324367523193, -1.6967928409576416], [4.746862411499023, 0.5586116313934326, -4.626865863800049], [2.086310625076294, -1.6541632413864136, -0.19190920889377594], [-5.2763142585754395, 2.425856828689575, 2.2476463317871094], [-6.057440280914307, 7.558145046234131, -1.606191635131836], [-2.0962367057800293, -3.2603461742401123, 4.759519577026367], [-3.323115587234497, -4.341053485870361, 6.577683925628662], [-4.467000484466553, 4.141092300415039, 0.027665486559271812], [-6.205563545227051, 7.556543827056885, -1.4408104419708252], [-4.228774547576904, 1.4935005903244019, 2.1843507289886475], [-0.012624845840036869, -3.6321256160736084, 3.462094783782959], [6.102751731872559, -4.914481163024902, -0.4844229519367218], [9.321453094482422, -7.427653789520264, -0.45896676182746887], [-3.875396490097046, -0.6628133058547974, 3.7654054164886475], [-4.9616594314575195, 5.859154224395752, -0.9925632476806641], [-4.134148597717285, 2.593196392059326, 1.2077829837799072], [-5.755014419555664, 6.772885322570801, -1.1483592987060547], [0.09043736755847931, 0.7059925198554993, -0.6361934542655945], [-4.940795421600342, 6.161797523498535, -1.3462228775024414], [-4.1389241218566895, -0.3696827292442322, 3.7607316970825195], [-3.618802309036255, -8.239640235900879, 9.92207145690918], [6.142480373382568, -4.286224842071533, -0.9502809643745422], [7.082661151885986, -3.9916110038757324, -2.0776352882385254], [-3.2813212871551514, -0.5473214387893677, 3.183100938796997], [-5.721106052398682, 6.8184895515441895, -1.2630586624145508], [-5.3446221351623535, 5.526358127593994, -0.42899391055107117], [-1.1020368337631226, -0.9652771949768066, 1.812738060951233], [6.9469475746154785, -3.49851393699646, -2.5439951419830322], [-0.5870257616043091, -3.866344690322876, 4.048112392425537], [-5.59622049331665, 5.040658950805664, 0.24666878581047058], [3.6439411640167236, -1.4834047555923462, -1.7694168090820312], [-5.3510637283325195, 3.672724485397339, 1.2157522439956665], [-3.4710962772369385, -5.093719005584717, 7.295372486114502], [-4.013583660125732, 6.034669876098633, -2.051724672317505], [-3.7453715801239014, 0.3918572962284088, 2.8089358806610107], [-2.9827165603637695, -6.523900032043457, 8.155029296875], [2.8537087440490723, -0.41260531544685364, -1.958455204963684], [-4.031956672668457, 6.175039768218994, -2.234628915786743], [7.7714948654174805, -3.781557559967041, -3.11808180809021], [6.023356914520264, -2.0600059032440186, -2.9723808765411377], [-4.663081169128418, 5.322780132293701, -0.8588714599609375], [-3.3104708194732666, -2.1054606437683105, 4.6494035720825195], [-4.993590354919434, 6.750053882598877, -1.9267781972885132], [-4.778492450714111, 2.837723970413208, 1.518692970275879], [-3.8805806636810303, -3.4526360034942627, 6.1770453453063965], [-2.876528024673462, -2.6285736560821533, 4.776892185211182], [-3.9265477657318115, -4.735842227935791, 7.227969646453857], [6.018950939178467, -3.1442697048187256, -2.1377811431884766], [-4.508093357086182, 6.298936367034912, -1.8306515216827393], [-3.088042974472046, -1.6964627504348755, 4.088528156280518], [-5.355893135070801, 5.096381187438965, 0.002090251073241234], [-3.46311354637146, -1.5304033756256104, 4.271720886230469], [-4.022843837738037, -1.0395060777664185, 4.2206196784973145], [-5.383657932281494, 4.301934719085693, 0.6812676787376404], [1.0857499837875366, 0.9168380498886108, -1.6624057292938232], [-3.9663422107696533, -3.1287331581115723, 5.987736701965332], [-4.430845260620117, 4.127216815948486, 0.029651379212737083], [-2.4031834602355957, 2.595064878463745, -0.24133147299289703], [-3.6434786319732666, 1.1454849243164062, 2.0682523250579834], [-3.3865365982055664, -1.6596051454544067, 4.27286434173584], [-5.600524425506592, 7.768960475921631, -2.2852487564086914], [-0.39762958884239197, -2.6120173931121826, 2.8785858154296875], [2.011070966720581, -2.030642509460449, 0.2028687298297882], [-4.489995002746582, 1.8693708181381226, 2.138681650161743], [0.8664785027503967, 1.5709458589553833, -2.171501398086548], [-4.175717830657959, 0.25092291831970215, 3.2319841384887695], [-2.397935152053833, -0.5200510621070862, 2.428525686264038], [-5.2763495445251465, 7.836550235748291, -2.5733094215393066], [2.968491315841675, -0.5476680994033813, -2.0248496532440186], [6.280795574188232, -4.820053577423096, -0.800887942314148], [-5.75730562210083, 6.745466709136963, -1.14124596118927], [-4.334090709686279, 4.747630596160889, -0.5966928005218506], [-3.9808461666107178, 1.4647010564804077, 2.054326295852661], [-4.060933589935303, 0.9978936314582825, 2.553521156311035], [-3.4042539596557617, -7.010270595550537, 8.793209075927734], [-5.221646785736084, 3.550962448120117, 1.2313995361328125], [-2.080522298812866, -4.263369083404541, 5.591532230377197], [-2.9604098796844482, 4.630899429321289, -1.675774335861206], [3.365504503250122, -2.2101995944976807, -0.8689568042755127], [-4.770927429199219, 4.04817533493042, 0.3117728531360626], [-3.6079699993133545, 0.1681913435459137, 2.880465269088745], [1.0378341674804688, -4.28958797454834, 2.7776331901550293], [-3.5495078563690186, -2.513280153274536, 5.188746929168701], [4.204190731048584, -4.622512340545654, 1.0626546144485474], [-4.411880970001221, 2.1344034671783447, 1.859445571899414], [-4.055608749389648, -8.56834602355957, 10.57452392578125], [-3.583083391189575, -1.2890070676803589, 4.0522589683532715], [-3.7614223957061768, -2.6293461322784424, 5.417415618896484], [-5.267105579376221, 4.978890895843506, 0.02839147113263607], [-5.410764694213867, 5.838858604431152, -0.6396113634109497], [-5.499845027923584, 4.621196746826172, 0.480415940284729], [-4.290066242218018, 4.9760589599609375, -0.8759794235229492], [1.8470710515975952, 0.06880491226911545, -1.590493083000183], [0.1911332607269287, -3.5249569416046143, 3.3056671619415283], [3.824646472930908, 0.6138358116149902, -3.863436460494995], [-4.099433422088623, 5.101456642150879, -1.188662052154541], [5.787869930267334, -5.34863805770874, -0.01338314451277256], [2.0425093173980713, -2.9084665775299072, 1.2335410118103027], [-5.556210994720459, 5.23609733581543, 0.04605711251497269], [-4.545993328094482, 1.2344752550125122, 2.7269294261932373], [-5.215341091156006, 2.9169905185699463, 1.7292978763580322], [-2.487401247024536, -4.645162105560303, 6.16923713684082], [-1.9589872360229492, -2.234578847885132, 3.7571027278900146], [5.877723693847656, -5.12714958190918, 0.17033572494983673], [-3.6314585208892822, -0.6381109356880188, 3.5714008808135986], [-5.168638706207275, 2.680220365524292, 1.9482102394104004], [-4.3939642906188965, 6.58250093460083, -2.218425989151001], [-6.596765995025635, 7.567728519439697, -1.2023811340332031], [-5.345163822174072, 5.886052131652832, -0.7478179931640625], [6.5117926597595215, -5.23607873916626, -0.49509957432746887], [-0.811270534992218, -3.459904193878174, 3.8137998580932617], [8.737564086914062, -5.4372334480285645, -2.2450625896453857], [-2.029541015625, -2.4020655155181885, 3.820061445236206], [-4.419195652008057, -2.085106134414673, 5.446808338165283], [3.007871389389038, -1.9753338098526, -0.6570129990577698], [-3.1791622638702393, -4.547825336456299, 6.536360740661621], [-5.723487377166748, 6.991610050201416, -1.4520684480667114], [8.83095932006836, -6.753182888031006, -0.9000969529151917], [-0.8696632385253906, -2.880613088607788, 3.83687424659729], [-4.465506076812744, 3.559814691543579, 0.48713767528533936], [-6.697653293609619, 7.627346515655518, -1.191032886505127], [-4.3617024421691895, 4.320958137512207, -0.15585258603096008], [-3.462920665740967, -6.097236633300781, 8.020416259765625], [-0.26130250096321106, 0.034161053597927094, 0.3383156955242157], [-2.5930521488189697, -1.463112235069275, 3.480527639389038], [-4.323441028594971, 0.8967843055725098, 2.800889015197754], [-3.9202117919921875, -4.279956817626953, 6.878392696380615], [-5.3314337730407715, 5.593371868133545, -0.5119591951370239], [-3.586249828338623, 5.223895072937012, -1.646775245666504], [-1.386137843132019, -2.5447278022766113, 3.4146194458007812], [-4.435681343078613, 2.625861883163452, 1.3513274192810059], [-1.4075040817260742, -2.699223279953003, 3.5546391010284424], [-3.8500373363494873, -0.39661750197410583, 3.5666425228118896], [0.9681096076965332, -0.4960716664791107, -0.2766673266887665], [-2.0197861194610596, -4.415516376495361, 5.540203094482422], [-4.680971145629883, 2.622750759124756, 1.616011619567871], [-4.899165630340576, 6.8679327964782715, -1.9003207683563232], [-5.0924530029296875, 6.762685298919678, -1.8607416152954102], [6.205395221710205, -5.282638072967529, -0.16231924295425415], [-5.591935634613037, 5.648385524749756, -0.33215418457984924], [-2.7882678508758545, -6.535049915313721, 7.985967636108398], [-2.8878283500671387, 2.0361058712005615, 0.6080183982849121], [-5.1663103103637695, 4.645206451416016, 0.23381364345550537], [-3.834542751312256, -2.6542139053344727, 5.511669635772705], [-4.759310245513916, 1.881576657295227, 2.279036283493042], [0.21913379430770874, 0.7733068466186523, -0.6671792268753052], [-4.283298492431641, -1.750623106956482, 5.043593883514404], [6.2492451667785645, -3.8595407009124756, -1.6727137565612793], [-5.791153430938721, 7.549533367156982, -1.847916841506958], [1.0889739990234375, -0.93181312084198, -0.14261303842067719], [6.49318265914917, -2.991748809814453, -2.680712938308716], [-3.882951498031616, -3.2265145778656006, 5.989604949951172], [-6.029273986816406, 7.6217427253723145, -1.8009663820266724], [-5.069406032562256, 5.745148181915283, -0.8194662928581238], [-3.003713369369507, -1.5762606859207153, 3.957350015640259], [0.1692938357591629, 0.04192622750997543, 0.017167678102850914], [-4.991945743560791, 7.506100654602051, -2.4704043865203857], [4.678346633911133, -3.617310047149658, -0.5714762210845947], [6.361482620239258, -4.220215320587158, -1.2627387046813965], [-4.837228298187256, 0.21797943115234375, 3.8025062084198], [-2.7902164459228516, -3.624721050262451, 5.389049530029297], [-3.306420087814331, 0.5721662640571594, 2.283815383911133], [8.423698425292969, -6.6573052406311035, -0.5435488224029541], [5.8495635986328125, -4.704859256744385, -0.10947131365537643], [2.348668098449707, -0.3887906074523926, -1.4823145866394043], [4.141741752624512, -3.9113824367523193, 0.41354623436927795], [-4.86476469039917, 2.3929858207702637, 1.9260241985321045], [-4.32926607131958, -1.5300734043121338, 4.755114555358887], [-3.8843491077423096, 6.166540622711182, -2.2452943325042725], [6.76762056350708, -4.682579517364502, -1.3924760818481445], [-2.8949201107025146, 0.19950850307941437, 2.359471321105957], [-1.7654194831848145, -4.709080696105957, 5.703831672668457], [5.479605197906494, -2.8962149620056152, -1.8531737327575684], [-1.788182020187378, -5.210873126983643, 6.08466100692749], [-1.2063978910446167, -4.684048175811768, 5.284144878387451], [1.6830832958221436, 2.766620635986328, -3.9533016681671143], [-3.3414204120635986, -3.3868448734283447, 5.609137058258057], [0.5024477243423462, -0.7016309499740601, 0.46493422985076904], [5.135439395904541, -3.630953311920166, -0.6793876886367798], [-4.749634265899658, -0.6480783224105835, 4.3724589347839355], [-3.428351640701294, 4.768418788909912, -1.397017002105713], [-5.7054009437561035, 6.071186542510986, -0.633466362953186], [-3.3739476203918457, -7.024901866912842, 8.81457805633545], [-0.9224683046340942, -3.6443183422088623, 4.18265438079834], [8.057326316833496, -6.068699359893799, -0.8347322344779968], [-3.4631474018096924, -1.5076509714126587, 4.120248794555664], [6.6412858963012695, -4.376361846923828, -1.2874431610107422], [-4.011654853820801, -2.8295300006866455, 5.796429634094238], [-4.352001190185547, 2.520435333251953, 1.4614465236663818], [-6.326807022094727, 7.487863063812256, -1.3512972593307495], [6.885810375213623, -5.475009441375732, -0.3588259220123291], [-5.031724452972412, 2.1550259590148926, 2.2610764503479004], [-3.163027048110962, 1.283796787261963, 1.5756179094314575], [-1.750833511352539, -2.5515081882476807, 3.62027907371521], [-0.39046868681907654, -1.7101165056228638, 2.114290714263916], [1.7572708129882812, -1.1817107200622559, -0.19199278950691223], [-2.599766969680786, -6.21218729019165, 7.606046199798584], [-5.105476379394531, 4.726705074310303, 0.12420041114091873], [-4.954404830932617, 4.462897777557373, 0.2592211961746216], [-5.696633815765381, 4.485217571258545, 0.7939786911010742], [-3.2427756786346436, 0.5618005990982056, 2.271061658859253], [-3.6760504245758057, -3.6122424602508545, 6.184741497039795], [-4.2189836502075195, 1.282657265663147, 2.391185998916626], [-4.176795482635498, 2.4460222721099854, 1.3588616847991943], [-2.7649128437042236, -4.305196762084961, 6.0793633460998535], [-2.96444034576416, -3.7861437797546387, 5.833459854125977], [-4.679758548736572, 4.240950584411621, 0.17674753069877625], [-6.0693440437316895, 7.771270275115967, -1.7960457801818848], [-0.9490225315093994, 5.01762056350708, -3.809527635574341], [-5.014923572540283, 3.2443830966949463, 1.361793875694275], [5.100993633270264, -2.1048805713653564, -2.064445734024048], [-4.67781400680542, 2.828864097595215, 1.3421263694763184], [-4.21631383895874, -1.3808132410049438, 4.71386194229126], [-4.957011699676514, 2.9686152935028076, 1.5312366485595703], [5.106832027435303, -4.6092209815979, 0.12465962022542953], [-3.8353536128997803, -3.4312915802001953, 6.147769451141357], [-4.5784831047058105, 4.30045223236084, 0.07353756576776505], [-4.851467609405518, 2.9366581439971924, 1.4696214199066162], [3.5054452419281006, -2.5974128246307373, -0.35118526220321655], [-3.9755566120147705, 4.86251974105835, -0.9660771489143372], [6.4429612159729, -4.262540340423584, -1.234528660774231], [0.8925400972366333, -6.48236608505249, 4.713137626647949], [1.7633891105651855, -1.3206361532211304, -0.08306624740362167], [8.09117603302002, -5.076283931732178, -1.9866116046905518], [-4.091824054718018, 6.207275390625, -2.167552947998047], [-3.0188066959381104, -2.2999427318573, 4.613635063171387], [-5.353966236114502, 3.651271343231201, 1.2591018676757812], [4.0077595710754395, -4.6030426025390625, 1.1820811033248901], [-5.6568427085876465, 6.369889736175537, -0.9430351257324219], [-4.4847025871276855, -0.2043658196926117, 3.918320894241333], [4.091118335723877, -4.6237969398498535, 1.1405085325241089], [-4.397623538970947, 2.1282451152801514, 1.8367176055908203], [-4.059321880340576, 5.450562953948975, -1.5210392475128174], [-4.768796920776367, 0.5560703277587891, 3.397245407104492], [-4.293228626251221, 5.556002140045166, -1.3258494138717651], [-2.8576433658599854, -2.0620784759521484, 4.248321056365967], [-3.649125814437866, 0.2144588828086853, 2.814504384994507], [-3.946260929107666, -3.0434763431549072, 5.893711566925049], [-4.724766731262207, 7.099451541900635, -2.4496867656707764], [-5.434667587280273, 5.582157611846924, -0.4830284118652344], [-4.025951385498047, 3.93739652633667, -0.11116129904985428], [-4.0449347496032715, -2.3112289905548096, 5.36315393447876], [-4.2898125648498535, 3.505476951599121, 0.4821864068508148], [-0.6848148703575134, 3.228475570678711, -2.34795880317688], [-3.7118422985076904, 2.0590741634368896, 1.195759654045105], [-2.896134614944458, 0.8956249952316284, 1.5206602811813354], [4.3055949211120605, -2.5315330028533936, -1.3344700336456299], [7.097145080566406, -5.326792240142822, -0.7397815585136414], [6.913057804107666, -6.1231865882873535, 0.20923012495040894], [-6.606588840484619, 7.810282230377197, -1.4592090845108032], [-3.9472711086273193, -1.1059759855270386, 4.21057653427124], [-4.0149617195129395, 0.6432715654373169, 2.766329526901245], [-1.7381772994995117, 1.7770978212356567, -0.08664000779390335], [-1.6925990581512451, -5.539946556091309, 6.372747898101807], [-4.722748279571533, -0.9057357311248779, 4.615515232086182], [-4.25802755355835, -0.5364390015602112, 4.029799938201904], [-3.2477452754974365, -0.8021494746208191, 3.5087645053863525], [-3.8736464977264404, 2.6844825744628906, 0.811508297920227], [-2.021575450897217, 1.7152916193008423, 0.23971423506736755], [5.925601005554199, -4.7413530349731445, -0.4968660771846771], [-6.1428046226501465, 5.784984111785889, 0.01575932465493679], [-3.820380687713623, -1.1317254304885864, 4.15946626663208], [-3.1448915004730225, 0.9049874544143677, 1.9370152950286865], [-3.9255197048187256, -0.9208626747131348, 4.088963985443115], [0.5035825967788696, 1.6557230949401855, -1.9083120822906494], [3.8504371643066406, 0.5746763348579407, -3.9446585178375244], [7.707098484039307, -6.153579235076904, -0.649175763130188], [7.922990322113037, -6.341087341308594, -0.4891913831233978], [-2.7298190593719482, 4.61816930770874, -1.809023141860962], [6.350334644317627, -4.583886623382568, -0.8487193584442139], [-5.5103230476379395, 6.126835823059082, -0.8664889931678772], [0.6797125935554504, 0.5200927257537842, -0.9535884857177734], [-3.084146022796631, -4.979737758636475, 6.863602161407471], [-2.6163065433502197, -0.3526628613471985, 2.570288896560669], [-0.9987199306488037, 1.2472115755081177, -0.3176132142543793], [-4.95995569229126, 6.601705551147461, -1.6853244304656982], [-5.715639591217041, 4.46641206741333, 0.8289998173713684], [-5.31292200088501, 1.6729915142059326, 2.9149258136749268], [-2.9755420684814453, -5.806097507476807, 7.505163669586182], [1.4539673328399658, -0.12953323125839233, -0.8768155574798584], [-5.089461803436279, 5.801701068878174, -0.8716692924499512], [-5.760135650634766, 4.621070384979248, 0.7701505422592163], [5.919034481048584, -1.530073642730713, -2.490377902984619], [-1.3592162132263184, -3.5265085697174072, 4.4199700355529785], [-5.7100324630737305, 4.858392238616943, 0.484054833650589], [-4.5027031898498535, 1.9849144220352173, 2.041740894317627], [-5.265330791473389, 8.007935523986816, -2.7237441539764404], [-1.6822547912597656, 0.9515717625617981, 0.463236004114151], [-4.393804550170898, 3.4173336029052734, 0.5775684118270874], [-1.888580322265625, -9.873330116271973, 9.74178409576416], [-4.416301250457764, 2.1964612007141113, 1.7793450355529785], [-5.086905002593994, 0.9311597347259521, 3.400824785232544], [-4.052333354949951, -4.33630895614624, 7.0792131423950195], [6.363178730010986, -5.381524562835693, -0.13199564814567566], [-6.0680832862854, 7.849813461303711, -1.8884637355804443], [-4.206667900085449, -2.269101858139038, 5.4061455726623535], [-5.119699954986572, 3.952272653579712, 0.7938276529312134], [-5.920936107635498, 7.563033103942871, -1.7849407196044922], [-4.1472487449646, 1.6784254312515259, 1.9561558961868286], [-2.912853956222534, -3.2439215183258057, 5.12419319152832], [-2.752854108810425, -1.944684386253357, 4.084971904754639], [-5.752980709075928, 6.758416652679443, -1.2101168632507324], [-4.951185703277588, 3.567810297012329, 0.9180083274841309], [4.972207069396973, -4.37308931350708, 0.10114667564630508], [7.366580486297607, -5.987578868865967, -0.3218451142311096], [-1.4457225799560547, -1.6211258172988892, 2.596447706222534], [-1.898794412612915, -4.672110557556152, 5.802796840667725], [-3.0213205814361572, -1.2672063112258911, 3.688870429992676], [-4.137533187866211, -0.16385504603385925, 3.644946336746216], [-4.254988193511963, 4.483158111572266, -0.41682490706443787], [-5.5343828201293945, 6.165852069854736, -0.8392853736877441], [-1.220799446105957, -4.92430305480957, 5.487090587615967], [-4.679466724395752, 5.776801586151123, -1.1961020231246948], [-5.956262588500977, 7.215793609619141, -1.467054843902588], [-1.8017246723175049, -4.377492427825928, 5.464756011962891], [-3.5433125495910645, -5.238152027130127, 7.449414253234863], [-5.117773532867432, 4.100106716156006, 0.6716972589492798], [-4.065650463104248, -1.217657208442688, 4.418080806732178], [-3.171329975128174, -7.313589572906494, 8.814252853393555], [5.422192096710205, -4.915584087371826, 0.3093402683734894], [6.884304523468018, -5.841999053955078, -0.14901067316532135], [-3.9662129878997803, 1.0912538766860962, 2.3552072048187256], [-3.1395061016082764, -4.9953131675720215, 6.97220516204834], [8.12260627746582, -4.761392593383789, -2.3150107860565186], [-3.219851493835449, -2.1587939262390137, 4.655134677886963], [5.5564284324646, -5.291616916656494, 0.2357666790485382], [6.7776970863342285, -5.500364303588867, -0.3815043270587921], [-5.537095546722412, 5.9724884033203125, -0.6299625635147095], [-5.388400554656982, 3.347461462020874, 1.525066614151001], [1.6031897068023682, -0.5184400677680969, -0.9114917516708374], [5.396907806396484, -3.8657407760620117, -0.7057085037231445], [-3.2633447647094727, -2.4190869331359863, 4.874727725982666], [-0.902381181716919, -5.297983169555664, 5.431214809417725], [-5.228649616241455, 2.5969488620758057, 2.0936367511749268], [-3.141906499862671, -1.1095165014266968, 3.670585870742798], [-4.644289493560791, 7.097234725952148, -2.5085670948028564], [3.600397825241089, -1.4258371591567993, -1.7842154502868652], [3.49865460395813, 0.4870108366012573, -3.4589223861694336], [2.8756449222564697, -3.232165575027466, 0.6203334927558899], [1.0550129413604736, -2.9878804683685303, 2.0331826210021973], [4.395932674407959, -4.275394916534424, 0.4852119982242584], [-5.33735990524292, 4.4081130027771, 0.596510112285614], [-4.928048610687256, 7.1069207191467285, -2.00593900680542], [-0.7914032340049744, 2.197148323059082, -1.2758980989456177], [-4.076587200164795, 3.9439799785614014, -0.055078811943531036], [4.421929836273193, -3.3105270862579346, -0.5075090527534485], [7.534485816955566, -5.82192325592041, -0.6009193062782288], [-5.606675148010254, 6.647160053253174, -1.2632479667663574], [-4.219881057739258, -1.695280909538269, 5.007409572601318], [-4.616044521331787, 4.8378987312316895, -0.33468788862228394], [-4.463988780975342, 2.8596878051757812, 1.1747887134552002], [-2.3991568088531494, -0.9414026737213135, 2.999295473098755], [-3.378749132156372, -3.4483211040496826, 5.8359456062316895], [-5.24910306930542, 4.8892388343811035, 0.04747100919485092], [-3.526611566543579, -3.488507032394409, 5.995598793029785], [-3.7803330421447754, 3.4914443492889404, 0.024700110778212547], [-4.5999836921691895, 4.546464443206787, -0.18777969479560852], [7.975846767425537, -6.731009006500244, -0.21279112994670868], [-4.1576056480407715, -0.881228506565094, 4.238524913787842], [-4.164360523223877, 5.210904598236084, -1.1753268241882324], [-4.358410835266113, 6.519730091094971, -2.182436943054199], [5.126801013946533, -2.130483388900757, -2.059448003768921], [6.899318218231201, -0.8665613532066345, -4.193958759307861], [-4.304807186126709, 2.2811286449432373, 1.4800528287887573], [-5.305546283721924, 6.110379219055176, -0.9111450910568237], [-2.9041600227355957, -3.4975340366363525, 5.511346340179443], [5.6139235496521, -4.8001508712768555, 0.005678093060851097], [-1.4575376510620117, -3.2076313495635986, 4.194467067718506], [8.435818672180176, -5.2287774085998535, -2.223588228225708], [-5.8981146812438965, 7.480763912200928, -1.696275234222412], [3.801920175552368, -3.6030445098876953, 0.11884210258722305], [-4.362601280212402, 3.8400580883026123, 0.20510613918304443], [5.158109664916992, -5.145410537719727, 0.6006985902786255], [-1.8450504541397095, -4.541017055511475, 5.682326793670654], [-5.171298503875732, 5.626181602478027, -0.6252720355987549], [2.3428003787994385, -3.3529276847839355, 1.2210311889648438], [-3.080275297164917, -3.492870807647705, 5.678191184997559], [-6.023499965667725, 6.66742467880249, -0.8347899317741394], [6.564158916473389, -4.267502307891846, -1.3676676750183105], [-5.215951442718506, 7.851006507873535, -2.731611967086792], [-2.3462460041046143, -4.423133373260498, 5.9050984382629395], [-4.469547271728516, 2.1541523933410645, 1.879699945449829], [5.4952073097229, -5.105918884277344, 0.4075745642185211], [0.4425501227378845, -3.648656129837036, 3.1803977489471436], [-2.832176446914673, -1.6528446674346924, 3.763826847076416], [-4.733383655548096, 4.0916523933410645, 0.312448650598526], [-0.40254196524620056, 0.6972127556800842, -0.7172921299934387], [-6.066256046295166, 6.923207759857178, -1.0839025974273682], [-4.844192981719971, 5.7915215492248535, -1.0693204402923584], [5.901884078979492, -4.113983631134033, -0.9454412460327148], [7.514769554138184, -5.355209827423096, -1.2303884029388428], [-4.251968860626221, 2.9869253635406494, 0.8296423554420471], [3.0347952842712402, -2.564711809158325, -0.12061398476362228], [-1.5478590726852417, -1.835095763206482, 3.1084487438201904], [-1.5924745798110962, -1.6721099615097046, 2.9577369689941406], [-4.7278828620910645, 4.207974433898926, 0.27214565873146057], [6.355149745941162, -5.378242015838623, -0.127488374710083], [-0.24723416566848755, -0.5674684047698975, 0.685753345489502], [7.5655622482299805, -5.996918678283691, -0.8351718187332153], [-3.4143192768096924, -3.3341453075408936, 5.772421360015869], [5.176983833312988, -4.928706645965576, 0.09459996968507767], [1.9928641319274902, -1.4824169874191284, -0.2264586091041565], [-2.265489101409912, -4.671649932861328, 5.994372367858887], [2.0120160579681396, 1.8335299491882324, -3.3944127559661865], [-1.3923231363296509, -2.993638038635254, 3.9534718990325928], [-5.933948040008545, 5.467910289764404, 0.11423001438379288], [-4.7174506187438965, 5.51331901550293, -0.9493368864059448], [-4.592080593109131, 4.525573253631592, -0.14663809537887573], [0.3521656394004822, -1.540999174118042, 1.1463302373886108], [-5.922733306884766, 5.384929656982422, 0.1956375241279602], [-3.8913490772247314, 3.4642174243927, 0.10591856390237808], [-5.408255577087402, 7.601837635040283, -2.2621712684631348], [6.746755599975586, -4.064234256744385, -1.8727012872695923], [-6.653168678283691, 8.024382591247559, -1.5312412977218628], [-4.647706508636475, 1.0367149114608765, 2.964597463607788], [-4.325680255889893, 6.421542167663574, -2.1785972118377686], [8.26664924621582, -6.8755269050598145, -0.24506667256355286], [-3.4628188610076904, -1.4253407716751099, 4.161579132080078], [-3.462920665740967, -6.097236633300781, 8.020416259765625], [-3.4999730587005615, 6.31129264831543, -2.0391738414764404], [3.4541919231414795, -3.2027103900909424, 0.18575604259967804], [-4.531518936157227, 2.805266857147217, 1.2540909051895142], [-2.7920875549316406, -2.991034746170044, 4.9442009925842285], [-4.041256427764893, -2.389557123184204, 5.40075159072876], [-4.48541784286499, 4.120670795440674, 0.08177877217531204], [-6.249274730682373, 6.926668167114258, -0.9057385921478271], [-0.8005578517913818, -3.892578125, 4.350639820098877], [-5.5047221183776855, 6.6822686195373535, -1.286203384399414], [-4.485540866851807, 3.6328165531158447, 0.5847175121307373], [-4.368335247039795, 5.788687229156494, -1.470984697341919], [-4.582151889801025, 4.820868968963623, -0.46563032269477844], [-3.0616214275360107, -1.7981685400009155, 4.1565423011779785], [5.435888767242432, -3.6878907680511475, -0.9422420263290405], [-4.721232891082764, 8.833605766296387, -4.082825183868408], [-1.7593495845794678, -2.905195713043213, 3.987790584564209], [-5.99237060546875, 8.182965278625488, -2.295248031616211], [4.786811351776123, -5.778824329376221, 1.4018110036849976], [-4.415964603424072, 5.895993709564209, -1.6286988258361816], [2.15183424949646, -1.1018680334091187, -0.824469804763794], [-5.5388665199279785, 4.755256652832031, 0.39788469672203064], [-5.950582504272461, 7.09745979309082, -1.2732738256454468], [-2.4560587406158447, -2.739220142364502, 4.518764019012451], [2.123624563217163, -1.6869648694992065, -0.19359976053237915], [-4.715908527374268, 3.92624831199646, 0.4619410037994385], [-6.0680460929870605, 5.2684149742126465, 0.4470519721508026], [-3.989962339401245, -3.3051598072052, 6.1225385665893555], [-3.239934206008911, -4.023003101348877, 6.2407755851745605], [6.926275730133057, -5.861079692840576, -0.1559733897447586], [-5.893575191497803, 9.158568382263184, -3.1711575984954834], [0.14939060807228088, 0.8755277991294861, -0.906661868095398], [-2.5265443325042725, -3.2578632831573486, 4.850856304168701], [-4.2880144119262695, -7.014659881591797, 9.491250991821289], [-4.211561679840088, -4.0001301765441895, 6.860010147094727], [-4.22285270690918, 5.096268653869629, -0.9496089816093445], [5.194657802581787, -4.568359851837158, 0.3108919560909271], [-6.626176357269287, 8.516684532165527, -2.072263717651367], [-4.383971691131592, 1.6465966701507568, 2.1818249225616455], [-5.646543025970459, 6.848005294799805, -1.3937010765075684], [6.303284168243408, -4.204229354858398, -1.1947009563446045], [-4.349106311798096, 4.4392876625061035, -0.3331950008869171], [8.055088996887207, -6.075737476348877, -0.8255782127380371], [-3.3570330142974854, 4.446320056915283, -1.2017738819122314], [-4.016025066375732, 2.8346996307373047, 0.8507705926895142], [-3.3376948833465576, -2.911686897277832, 5.331060886383057], [-3.6703004837036133, -2.8828768730163574, 5.589775562286377], [-4.817638874053955, 3.2495744228363037, 1.085416316986084], [8.86020278930664, -7.058667182922363, -0.6170033812522888], [-5.9780449867248535, 7.499765872955322, -1.6233515739440918], [-2.2390291690826416, -2.423253059387207, 4.134445667266846], [-5.469094276428223, 3.804535150527954, 1.1865569353103638], [-2.2954699993133545, -0.05751120299100876, 1.9441494941711426], [-5.375498294830322, 9.09976577758789, -3.638274908065796], [-3.6723432540893555, -0.41280397772789, 3.4937736988067627], [-3.181586503982544, 4.50391149520874, -1.372847318649292], [-2.6226561069488525, -6.012582302093506, 7.407553195953369], [-5.359849452972412, 3.5852067470550537, 1.3206894397735596], [3.841485023498535, -3.1718509197235107, 0.015237769111990929], [-3.110581159591675, -1.4772380590438843, 3.9108664989471436], [-4.147882461547852, -8.529402732849121, 10.60916519165039], [5.51297664642334, -4.538131237030029, -0.26836130023002625], [-3.3479433059692383, -5.854867458343506, 7.8042731285095215], [-5.172885417938232, 4.931843280792236, -0.14663250744342804], [-5.023265361785889, 7.950590133666992, -2.911309003829956], [6.189235210418701, -3.7331628799438477, -1.7724618911743164], [5.12824010848999, -3.090562343597412, -1.2828052043914795], [-3.692314863204956, -4.167686462402344, 6.711145401000977], [3.2004311084747314, -2.980217218399048, 0.16579893231391907], [6.359849452972412, -4.8981547355651855, -0.8510014414787292], [1.6945374011993408, -2.5482442378997803, 0.8155563473701477], [-3.8319976329803467, 2.845982551574707, 0.670484185218811], [-4.3231329917907715, 4.888062953948975, -0.6956155300140381], [-3.409867286682129, 4.376405239105225, -0.9707783460617065], [7.514029026031494, -4.9278059005737305, -1.508979320526123], [-2.193234920501709, 1.176392674446106, 0.8174857497215271], [-5.633041858673096, 4.394437313079834, 0.809338390827179], [-5.214879512786865, 8.178577423095703, -3.018650770187378], [-4.3022685050964355, 3.328124761581421, 0.6150717735290527], [-2.980405330657959, -5.408559322357178, 7.208642482757568], [-2.508746862411499, 0.13488692045211792, 2.0829555988311768], [-6.041645050048828, 5.566431522369385, 0.10546017438173294], [8.035225868225098, -5.595796585083008, -1.4812819957733154], [6.770477771759033, -4.0370564460754395, -1.5922112464904785], [-4.35998010635376, 0.5202940106391907, 3.1436054706573486], [-3.131136655807495, -3.8322460651397705, 5.922469615936279], [-5.997826099395752, 7.510427474975586, -1.7099487781524658], [-2.9413845539093018, -0.14340530335903168, 2.7058403491973877], [-5.93586540222168, 7.113710880279541, -1.3633508682250977], [-3.245056390762329, -2.03232479095459, 4.501102924346924], [-5.7099738121032715, 3.479679822921753, 1.6239365339279175], [-5.011289596557617, 3.462876319885254, 1.0941176414489746], [-5.913358211517334, 7.37068510055542, -1.5952599048614502], [-4.118524074554443, 5.05783224105835, -1.013703465461731], [7.736616134643555, -6.726887226104736, 0.07086186856031418], [4.932947158813477, -0.8469075560569763, -3.451809883117676], [0.3584870994091034, -4.607941150665283, 4.04223108291626], [-5.714478015899658, 6.580873012542725, -0.9680972099304199], [-5.043750286102295, 3.269357919692993, 1.2991266250610352], [-2.2715907096862793, 2.7237184047698975, -0.31697994470596313], [6.713071346282959, -4.731766700744629, -1.2515028715133667], [-3.9513518810272217, -6.486022472381592, 8.772542953491211], [-2.672560453414917, -2.2222397327423096, 4.273458957672119], [-4.283703327178955, -4.001682758331299, 6.973204135894775], [-3.937788724899292, 3.019092321395874, 0.5938889980316162], [-2.4808316230773926, -2.9901671409606934, 4.814340114593506], [2.4666452407836914, 2.4497299194335938, -4.2893829345703125], [6.32647180557251, -3.844489097595215, -1.855278730392456], [-6.087436199188232, 7.688195705413818, -1.8237268924713135], [4.7390456199646, -3.0565900802612305, -1.0685715675354004], [9.187244415283203, -7.28249979019165, -0.5781500339508057], [-3.262413740158081, 4.390305042266846, -1.1822240352630615], [-5.597601890563965, 6.591639518737793, -1.1088035106658936], [-4.3539628982543945, 0.5741079449653625, 3.1155593395233154], [7.529187202453613, -5.192855358123779, -1.371731162071228], [-3.906928777694702, -1.6754802465438843, 4.733962059020996], [3.035597562789917, -1.4534406661987305, -1.1657565832138062], [8.108804702758789, -6.530869960784912, -0.37230363488197327], [-5.131464004516602, 6.128816604614258, -1.1256434917449951], [1.682528018951416, 0.8857786655426025, -2.128605604171753], [-5.762470722198486, 7.378055572509766, -1.692194938659668], [-5.470817565917969, 4.16376256942749, 0.9128463268280029], [-2.5407745838165283, -4.352150917053223, 5.849494457244873], [-3.9375762939453125, 0.013994211331009865, 3.287257432937622], [0.18018744885921478, 2.1944782733917236, -2.119563341140747], [3.050955057144165, -1.622316837310791, -0.9594053030014038], [-2.2928645610809326, -2.1799917221069336, 3.8944013118743896], [-3.7087888717651367, 4.1851887702941895, -0.568856418132782], [-5.616744041442871, 6.721183776855469, -1.330893635749817], [6.369880199432373, -4.219963550567627, -1.2721593379974365], [-1.2824808359146118, -6.11803674697876, 6.46341609954834], [-0.8875864744186401, 1.319618582725525, -0.4623414874076843], [6.538668632507324, -5.022731304168701, -0.5742260217666626], [-4.937806606292725, 6.212759494781494, -1.401544213294983], [-4.4834980964660645, -0.09250501543283463, 3.7601494789123535], [-2.850226879119873, -2.020095109939575, 4.168292999267578], [-5.253833770751953, 7.063693523406982, -1.8518469333648682], [-5.744354248046875, 6.171370983123779, -0.61452716588974], [-3.6583688259124756, -2.3276448249816895, 5.11653995513916], [5.7083868980407715, -3.2231838703155518, -1.799867868423462], [6.550326824188232, -5.730443477630615, 0.07644044607877731], [-3.2549357414245605, -6.839930057525635, 8.552517890930176], [0.38280829787254333, -0.8497493863105774, 0.5714853405952454], [3.8185489177703857, -3.4685661792755127, 0.24474361538887024], [0.2621694803237915, 1.3815321922302246, -1.559406042098999], [0.47416257858276367, -0.810331404209137, 0.37128496170043945], [-2.4973390102386475, -4.356637477874756, 5.851002216339111], [-5.410623073577881, 5.629307270050049, -0.4354130029678345], [-1.797981858253479, -2.975175619125366, 4.270291328430176], [0.4675180912017822, -3.7187912464141846, 3.123889207839966], [-5.418570041656494, 2.508409261703491, 2.2768099308013916], [7.005239009857178, -5.297698020935059, -0.8167011141777039], [6.054713726043701, -3.092902183532715, -2.0689074993133545], [-5.067922115325928, 3.996061086654663, 0.7603886127471924], [-4.166408061981201, -5.305091381072998, 7.907240390777588], [7.315054416656494, -3.9624342918395996, -2.3416149616241455], [6.499350070953369, -4.782029628753662, -0.7735942602157593], [-4.321800708770752, 8.038349151611328, -3.104919910430908], [-2.4355483055114746, 3.8603286743164062, -1.1356347799301147], [6.442834377288818, -4.097553730010986, -1.3130977153778076], [3.8415253162384033, -3.2111313343048096, -0.08546579629182816], [-5.224111557006836, 4.604844093322754, 0.35099437832832336], [-2.804396867752075, 2.0119969844818115, 0.6007504463195801], [-3.997955083847046, -1.6129099130630493, 4.714254379272461], [-1.4538332223892212, 4.445248603820801, -2.865858554840088], [2.7966012954711914, -0.9577377438545227, -1.1562495231628418], [-4.764077663421631, 3.4009010791778564, 0.9555294513702393], [-2.5127294063568115, -4.445380210876465, 6.012643337249756], [7.513199329376221, -3.1847472190856934, -3.0007011890411377], [-4.20601224899292, 4.321837902069092, -0.23071978986263275], [-4.694406032562256, 4.955115795135498, -0.5019094347953796], [-5.7046990394592285, 2.60907244682312, 2.4088733196258545], [-4.693823337554932, 1.6334975957870483, 2.470693349838257], [-5.689136981964111, 4.969706058502197, 0.32983532547950745], [5.753654956817627, -4.252939701080322, -0.7469820976257324], [-5.139616966247559, 5.5831074714660645, -0.6819528937339783], [6.794680118560791, -3.2424020767211914, -2.357473611831665], [-2.781322479248047, -5.579901695251465, 7.1970696449279785], [-4.805206298828125, 4.994050979614258, -0.35828766226768494], [5.786995887756348, -4.334394454956055, -0.6827812790870667], [6.39318323135376, -4.823155403137207, -0.8253146409988403], [5.758381366729736, -2.016282796859741, -2.8882977962493896], [4.365400314331055, -3.554928779602051, -0.18830257654190063], [-3.1548569202423096, 5.882236480712891, -2.624037504196167], [2.83817982673645, -6.0007100105285645, 3.0647287368774414], [-6.929927349090576, 9.621417999267578, -2.7474305629730225], [-3.86421537399292, -9.067205429077148, 10.812076568603516], [-1.316785454750061, -3.526550769805908, 4.3441243171691895], [-5.420197486877441, 5.787917137145996, -0.6408954858779907], [0.9082704782485962, -1.8310972452163696, 0.9953142404556274], [-0.6647894978523254, 2.1372597217559814, -1.2124840021133423], [-3.2340924739837646, -2.3247904777526855, 4.779520034790039], [-0.7781767845153809, -1.844875454902649, 2.4280447959899902], [-3.8973987102508545, -5.9714741706848145, 8.266328811645508], [-4.636316776275635, 2.0501065254211426, 2.0487639904022217], [-3.6935837268829346, -0.3886532485485077, 3.419760227203369], [-0.8537487983703613, -5.999481678009033, 6.1867756843566895], [-3.7913551330566406, -5.308516025543213, 7.675777435302734], [7.654808044433594, -5.416480541229248, -0.9433749318122864], [-3.8277053833007812, -2.6347389221191406, 5.487219333648682], [-5.2880120277404785, 1.6173824071884155, 2.8671772480010986], [-0.5971422791481018, -0.7392866015434265, 0.9848546981811523], [5.305334568023682, -2.1243207454681396, -1.379689335823059], [-4.62239408493042, 4.156317234039307, 0.18111275136470795], [4.780049800872803, -4.424458980560303, 0.17352598905563354], [-3.207697629928589, -2.70049786567688, 5.163852214813232], [11.352705001831055, 3.971163034439087, -8.167240142822266], [-3.2767703533172607, 7.323207378387451, -3.9223926067352295], [-2.7678160667419434, -3.1208655834198, 5.123843669891357], [-4.313046455383301, 3.82344126701355, 0.19325295090675354], [-5.312688827514648, 4.230574131011963, 0.7542204856872559], [0.029611287638545036, -3.611981153488159, 3.384080171585083], [7.720779895782471, -5.556346893310547, -1.0287702083587646], [-5.481497287750244, 5.898791790008545, -0.5803290605545044], [-4.57916784286499, 1.6791564226150513, 2.3606414794921875], [-2.3664491176605225, -4.24126672744751, 5.8087568283081055], [3.372236490249634, -2.1874048709869385, -0.894329309463501], [-4.256773471832275, -2.486828565597534, 5.675751209259033], [-4.758427143096924, 6.685308933258057, -1.9333235025405884], [-5.374760150909424, 6.973838806152344, -1.7198935747146606], [-3.4607720375061035, 4.695704936981201, -1.2257742881774902], [-5.37617301940918, 2.6828622817993164, 2.089639902114868], [4.3845133781433105, -4.5946879386901855, 1.1822092533111572], [-4.114213943481445, 0.06765181571245193, 3.3954808712005615], [-0.707862377166748, -0.804327666759491, 1.46479070186615], [-6.306001663208008, 6.444893836975098, -0.4717514216899872], [-5.418653964996338, 3.9127018451690674, 1.0584709644317627], [-5.385792255401611, 5.241091251373291, -0.15846189856529236], [-4.73643159866333, 3.8495519161224365, 0.5163609385490417], [-3.1168034076690674, 3.6577954292297363, -0.6788715124130249], [-3.239427328109741, -2.292222738265991, 4.712183475494385], [-4.423059463500977, 2.574113368988037, 1.396022081375122], [5.461037635803223, -4.631006717681885, -0.10908367484807968], [5.608797550201416, -2.6657755374908447, -2.1315057277679443], [-6.016781806945801, 9.219307899475098, -3.1687028408050537], [2.312932252883911, -1.384835958480835, -0.5346865057945251], [-4.988188743591309, 3.3048923015594482, 1.2562049627304077], [-4.237851619720459, -0.6331720948219299, 4.0922627449035645], [-3.8826377391815186, -3.1313178539276123, 5.8239054679870605], [-2.0584704875946045, 1.505085825920105, 0.37657806277275085], [-5.348970890045166, 6.989395618438721, -1.717345952987671], [-4.734039783477783, 2.222468614578247, 2.0158936977386475], [-4.744067668914795, 3.2811996936798096, 1.0431140661239624], [-5.8627495765686035, 4.579830646514893, 0.8550683259963989], [-2.574587821960449, -3.812706232070923, 5.529323101043701], [-1.1458615064620972, 1.8171370029449463, -0.42544689774513245], [-3.440709352493286, -4.5383172035217285, 6.808006286621094], [-4.903509140014648, 4.790577411651611, -0.10667052119970322], [-6.199972629547119, 8.215529441833496, -2.1262755393981934], [-6.126153469085693, 6.771851062774658, -0.8793100118637085], [-5.182443618774414, 6.92993688583374, -1.8249911069869995], [6.967923641204834, -4.173829555511475, -1.932438850402832], [2.63012957572937, -4.465580940246582, 2.2918477058410645], [-3.4038007259368896, -5.866725444793701, 7.873612880706787], [-2.235952854156494, -4.421666622161865, 5.759487152099609], [-1.8505442142486572, 0.9466776847839355, 0.756160318851471], [-0.6445229053497314, -0.16221988201141357, 0.6839410066604614], [4.376888275146484, -1.1028815507888794, -2.6368443965911865], [5.531310558319092, -3.6661441326141357, -1.4552159309387207], [-4.324769020080566, 5.4413371086120605, -1.2086739540100098], [7.752507209777832, -6.7282562255859375, 0.058398909866809845], [-2.872697114944458, -4.787717819213867, 6.597513675689697], [-3.8870975971221924, -3.0341532230377197, 5.900863170623779], [-4.067885875701904, 3.396871328353882, 0.4452963173389435], [7.00942850112915, -6.161174297332764, 0.23785369098186493], [6.427499294281006, -5.831103801727295, -0.09196432679891586], [-4.726025104522705, 5.374247074127197, -0.8223077654838562], [-5.929739952087402, 5.846439838409424, -0.20796382427215576], [-2.7338340282440186, -5.312499046325684, 6.887819766998291], [-5.001896381378174, 4.62904691696167, 0.07767773419618607], [4.21367883682251, -2.9507501125335693, -0.21245744824409485], [-3.8891384601593018, -2.3973679542541504, 5.327541828155518], [6.905360221862793, -6.139857769012451, 0.14097252488136292], [-3.4508354663848877, -1.2977049350738525, 4.085277080535889], [5.413197994232178, -4.353365898132324, -0.36354172229766846], [-4.311285972595215, 3.584226608276367, 0.4730629622936249], [-3.3850677013397217, -1.132196307182312, 3.8886055946350098], [-2.624603033065796, -2.4699461460113525, 4.333392143249512], [-2.155202627182007, 2.1751768589019775, -0.05482736974954605], [-3.7810332775115967, 2.766920328140259, 0.7942363023757935], [-4.578447341918945, -0.8703600168228149, 4.5505852699279785], [-3.632300615310669, -3.6708242893218994, 6.166781425476074], [-5.1190080642700195, 6.359364986419678, -1.299689531326294], [-2.202726125717163, -0.7029643654823303, 2.5875203609466553], [-5.574447154998779, 6.873856067657471, -1.3954105377197266], [-1.7429203987121582, -3.9810526371002197, 4.959428787231445], [-6.012790203094482, 7.458796977996826, -1.529193639755249], [5.398580551147461, -5.308599948883057, 0.6395381093025208], [-2.737229585647583, -1.3174289464950562, 3.386103391647339], [5.626214027404785, -5.425121784210205, 0.5709525942802429], [6.364475727081299, -5.861850738525391, 0.5111957788467407], [1.8365986347198486, -0.2525149881839752, -1.3161016702651978], [-5.66003942489624, 4.505966663360596, 0.785886824131012], [-5.524078845977783, 8.041029930114746, -2.554229259490967], [0.9744961261749268, 1.406880259513855, -2.087310552597046], [-0.3707066774368286, 3.3169307708740234, -2.7292613983154297], [-5.5393452644348145, 6.602816581726074, -1.252788782119751], [-5.25133752822876, 3.7469513416290283, 1.0829050540924072], [0.010996534489095211, -1.5603817701339722, 1.4827388525009155], [-3.4129769802093506, 0.383332759141922, 2.3009870052337646], [-4.804421901702881, 2.292412519454956, 1.9953935146331787], [-4.748436450958252, 6.596546649932861, -1.7898344993591309], [-4.084136009216309, 2.511183738708496, 1.1331541538238525], [-5.666418552398682, 4.57317590713501, 0.6800650358200073], [2.999159574508667, -2.2443370819091797, -0.36790087819099426], [-4.883568286895752, 6.83011531829834, -2.032372236251831], [7.531678676605225, -5.712057113647461, -0.7744197845458984], [9.583739280700684, -7.246090412139893, -1.1232807636260986], [0.6282436847686768, -4.2760748863220215, 3.613654851913452], [-6.017047882080078, 8.013178825378418, -2.14738392829895], [-5.893716335296631, 6.676822662353516, -0.9912868142127991], [1.817662239074707, -2.057905435562134, 0.6616170406341553], [-3.7026305198669434, 1.7777458429336548, 1.5737237930297852], [8.385519981384277, -6.572808742523193, -0.8084577322006226], [-3.315530300140381, -3.8468916416168213, 6.1299519538879395], [1.8647093772888184, -2.333951711654663, 0.9722285866737366], [-4.655928134918213, 1.865416407585144, 2.2497928142547607], [-4.589732646942139, -0.15287627279758453, 3.9271092414855957], [-1.4470443725585938, -2.2607834339141846, 3.36645245552063], [-3.013396978378296, -5.2614641189575195, 7.091731548309326], [10.333300590515137, -7.17174768447876, -1.8279157876968384], [-2.6966450214385986, 2.1101715564727783, 0.40942129492759705], [-5.490493297576904, 4.66137170791626, 0.4894600510597229], [-3.4423909187316895, 3.5020716190338135, -0.07678232342004776], [-2.9766767024993896, -1.8077657222747803, 4.003004550933838], [3.0764598846435547, 1.5112346410751343, -3.984323263168335], [-5.1158223152160645, 4.138769626617432, 0.6562871932983398], [-2.9023492336273193, -4.980965614318848, 6.765056133270264], [-3.6891095638275146, 6.743355751037598, -2.4692230224609375], [6.726888179779053, -3.8377673625946045, -1.6582863330841064], [-3.4388349056243896, -4.455600738525391, 6.747841835021973], [-4.445634365081787, 0.06125042587518692, 3.5443027019500732], [-3.880070924758911, 2.202777862548828, 1.330150842666626], [4.696648120880127, -4.506815433502197, 0.3546099364757538], [-1.997856855392456, -0.28906112909317017, 1.902744174003601], [-4.296255588531494, 5.450742244720459, -1.2420306205749512], [1.3571958541870117, 0.47380954027175903, -1.5315525531768799], [-4.564648151397705, 3.15812087059021, 0.9722898006439209], [-5.921574115753174, 8.569207191467285, -2.6044914722442627], [2.881805658340454, -1.8780547380447388, -0.44729524850845337], [-1.4776560068130493, -2.6172587871551514, 3.580561399459839], [-1.1939365863800049, -5.710938930511475, 6.092994213104248], [-1.4021732807159424, -4.572005748748779, 5.294428825378418], [-5.269460201263428, 3.5157761573791504, 1.295361876487732], [5.0884857177734375, -5.307755947113037, 1.287871241569519], [8.14390754699707, -6.377879619598389, -0.6010278463363647], [-2.580336809158325, -3.207559585571289, 5.102212905883789], [-3.4568846225738525, -2.3748581409454346, 4.982021808624268], [0.8013076782226562, -3.734412431716919, 2.958012819290161], [-4.949874401092529, 5.314016819000244, -0.5757142305374146], [-2.481710433959961, -0.8363125324249268, 2.8772037029266357], [-4.822838306427002, 4.498123645782471, 0.10648896545171738], [-5.825109004974365, 8.359114646911621, -2.6169395446777344], [-3.6483304500579834, -4.17864990234375, 6.65554666519165], [-4.338897228240967, -1.7061594724655151, 5.073484897613525], [-1.7507917881011963, -5.373788356781006, 6.229084491729736], [7.998884677886963, -4.742858409881592, -2.1849582195281982], [-5.499145030975342, 7.004336833953857, -1.6599466800689697], [-3.6353108882904053, -0.04132586717605591, 3.110694169998169], [-5.55124568939209, 5.578788757324219, -0.29969921708106995], [-4.3487548828125, -9.109658241271973, 11.192655563354492], [-5.178414821624756, 4.759430408477783, 0.16865995526313782], [6.316381931304932, -4.912684440612793, -0.8010697960853577], [-5.723811626434326, 6.353175640106201, -0.8780949115753174], [6.9631123542785645, -5.354162693023682, -0.8464292883872986], [-2.6275172233581543, -2.9567530155181885, 4.821274757385254], [-5.0624871253967285, -0.028930408880114555, 4.1628289222717285], [-1.4055163860321045, -2.6980793476104736, 3.7478301525115967], [-2.2706568241119385, -4.668176651000977, 6.037142276763916], [-3.0573694705963135, -4.497320652008057, 6.34320592880249], [-2.1356289386749268, -1.54824697971344, 3.1063759326934814], [-3.546170711517334, 0.10763194411993027, 2.924955129623413], [6.963125705718994, -6.162007808685303, 0.1127815768122673], [5.697575092315674, -0.26279935240745544, -4.435912132263184], [-3.8001534938812256, 3.900024652481079, -0.2028975784778595], [-5.737980842590332, 6.93161678314209, -1.3183891773223877], [-4.209477424621582, 4.635698318481445, -0.6077220439910889], [-3.135833978652954, -6.449249744415283, 8.098967552185059], [-4.8580803871154785, 1.9579004049301147, 2.3413565158843994], [-3.5796825885772705, 2.7852895259857178, 0.6422269940376282], [7.449068546295166, -5.813475131988525, -0.6834701895713806], [-4.295287609100342, 2.7260992527008057, 1.1736655235290527], [-5.103407382965088, 3.272156000137329, 1.4009343385696411], [-4.4705634117126465, 1.0955537557601929, 2.769522190093994], [-4.557525634765625, 7.186453819274902, -2.659363031387329], [-3.499924898147583, -2.714463472366333, 5.303605079650879], [-4.6285810470581055, 0.9367849826812744, 3.071354627609253], [-3.475785970687866, 4.265715599060059, -0.8227449059486389], [-5.211198329925537, 6.28297758102417, -1.1475367546081543], [-5.809446811676025, 8.13054370880127, -2.352895498275757], [-6.100370407104492, 6.973020076751709, -1.0112990140914917], [-4.729047775268555, 6.751820087432861, -2.0652902126312256], [-4.108750343322754, 1.5185030698776245, 2.125786066055298], [1.7972365617752075, -4.350410461425781, 2.4638402462005615], [3.171175956726074, 2.0506486892700195, -3.0910847187042236], [2.5995657444000244, -3.6584670543670654, 1.3385381698608398], [-4.721671104431152, 5.077812194824219, -0.5461223125457764], [4.540717601776123, -3.9379303455352783, -0.23216882348060608], [-3.3618478775024414, -2.5386855602264404, 5.038819789886475], [-3.4110469818115234, -5.419471263885498, 7.512296199798584], [4.753481388092041, -4.245358943939209, -0.1652693897485733], [-5.874868392944336, 6.17853307723999, -0.5210769176483154], [-3.73675274848938, -4.3989481925964355, 6.880987644195557], [-5.5668768882751465, 5.84451150894165, -0.6153786778450012], [4.496837615966797, -1.8608039617538452, -2.0794479846954346], [-4.3969902992248535, 5.200010299682617, -0.8210676908493042], [1.5691174268722534, 1.0517750978469849, -2.2822978496551514], [-4.343050003051758, -9.754551887512207, 11.698166847229004], [-5.1308512687683105, 4.473276615142822, 0.27836358547210693], [-4.600922107696533, 6.142734050750732, -1.5500853061676025], [-2.1228508949279785, -6.51133394241333, 7.4581732749938965], [-1.8854966163635254, -2.3669612407684326, 3.6680166721343994], [-6.163090229034424, 7.379713535308838, -1.3507270812988281], [-5.39804220199585, 6.109920024871826, -0.8483681082725525], [-5.113879680633545, 4.4536213874816895, 0.33099159598350525], [3.798218011856079, -3.1171209812164307, -0.4077288508415222], [-1.7893115282058716, -4.6245903968811035, 5.628504276275635], [-4.602992534637451, 5.220613956451416, -0.7116949558258057], [-4.87439489364624, 5.150599002838135, -0.4766930043697357], [-3.7694714069366455, -4.550405502319336, 7.066404342651367], [8.618721008300781, -6.940208435058594, -0.3881978690624237], [4.400219440460205, -6.272758483886719, 2.0216267108917236], [5.8012542724609375, -4.036689758300781, -1.1036171913146973], [-2.499664783477783, -3.4861652851104736, 5.2083635330200195], [1.7207986116409302, 0.9373793601989746, -2.3304975032806396], [-4.343720436096191, 4.84879207611084, -0.45741167664527893], [-3.4967525005340576, -7.646781921386719, 9.37466049194336], [-5.736279010772705, 4.465066432952881, 0.8478487730026245], [-5.975918292999268, 5.481348514556885, 0.10739538818597794], [-4.448617935180664, 1.9237475395202637, 2.0458309650421143], [-5.571636199951172, 6.59052038192749, -1.1550447940826416], [4.1327948570251465, -1.5496612787246704, -2.067824602127075], [-3.3877296447753906, 0.557269811630249, 2.4346492290496826], [2.5569446086883545, -0.16934901475906372, -2.067924976348877], [-4.9430437088012695, 4.591188907623291, 0.0504569485783577], [-1.2361723184585571, -3.5809175968170166, 4.346429347991943], [-3.0788047313690186, -3.801569700241089, 5.8842291831970215], [-4.7011189460754395, 6.577906131744385, -1.9246749877929688], [-3.7557485103607178, -1.0309110879898071, 4.065826892852783], [-3.6968905925750732, -5.233920097351074, 7.591092586517334], [7.472772121429443, -4.897655963897705, -1.4656991958618164], [-0.45150771737098694, 0.7579768300056458, -0.04957716912031174], [-2.6868083477020264, -0.7387600541114807, 2.9489188194274902], [-4.24663782119751, -1.3273780345916748, 4.662224292755127], [-4.8127875328063965, 2.934004068374634, 1.4708584547042847], [8.316877365112305, -5.742674827575684, -1.4961562156677246], [-1.5226836204528809, -3.0407426357269287, 4.114562511444092], [-5.464562892913818, 6.23615026473999, -0.9981997013092041], [3.057896375656128, -3.051823377609253, 0.3211362063884735], [-3.8256032466888428, -6.551701068878174, 8.721870422363281], [-4.506105422973633, 1.8854848146438599, 2.103221893310547], [-4.92278528213501, 3.903886079788208, 0.6852968335151672], [-4.327530384063721, 1.7728713750839233, 1.9983160495758057], [4.878812313079834, -4.336193561553955, 0.0893513634800911], [-2.998854398727417, -1.261916995048523, 3.619994640350342], [-4.2528767585754395, 3.2682154178619385, 0.689828634262085], [10.046459197998047, -7.562801837921143, -1.290728211402893], [-2.8257715702056885, -3.4079267978668213, 5.249470233917236], [-5.777690410614014, 8.01486873626709, -2.294205904006958], [-4.010358810424805, -5.410924911499023, 7.94378662109375], [-5.90331506729126, 6.201059818267822, -0.5182421207427979], [2.0983352661132812, 2.0605785846710205, -3.763188600540161], [4.831019878387451, -5.169399738311768, 0.8819940686225891], [4.706538200378418, -4.23613166809082, -0.1345871388912201], [-5.426332950592041, 6.78165864944458, -1.4504244327545166], [-3.5214321613311768, -4.849876880645752, 7.120248317718506], [4.093473434448242, -4.527633190155029, 1.1410325765609741], [-1.7583088874816895, -1.0376070737838745, 2.226012706756592], [-6.186407566070557, 7.005677700042725, -1.0403897762298584], [7.11659049987793, -3.720418691635132, -2.6486728191375732], [-2.385467052459717, 3.3616907596588135, -0.800624430179596], [-1.9785236120224, 0.42044636607170105, 1.193812608718872], [-6.830031394958496, 9.99904727935791, -3.1608667373657227], [-5.649262428283691, 4.906102657318115, 0.4004061818122864], [3.1831905841827393, -4.556286334991455, 1.3500077724456787], [-3.8995444774627686, 0.9672231674194336, 2.444380760192871], [5.386231899261475, -4.700555324554443, 0.0074551161378622055], [-1.2641831636428833, 3.149519681930542, -1.5466086864471436], [7.659187316894531, -6.490782260894775, -0.18794354796409607], [-4.4110426902771, 0.07512591034173965, 3.6394925117492676], [10.199298858642578, -7.9092326164245605, -1.0164084434509277], [-6.026479244232178, 8.900835990905762, -2.8723318576812744], [-3.39760422706604, -1.114181399345398, 3.869685411453247], [-0.3504893481731415, -2.7493677139282227, 2.923919439315796], [-3.9094855785369873, -0.35565677285194397, 3.552150249481201], [3.019650936126709, -1.5356131792068481, -1.1642687320709229], [8.80224609375, -3.9922263622283936, -2.3015706539154053], [-4.5266852378845215, 5.194572925567627, -0.8001505136489868], [-2.5700523853302, 3.0806186199188232, -0.584025502204895], [4.884025573730469, -4.736476898193359, 0.28495046496391296], [-5.681038856506348, 5.796525478363037, -0.3869599401950836], [-4.511493682861328, 0.04227719455957413, 3.5714871883392334], [-5.600468158721924, 6.34902811050415, -0.9170671701431274], [-2.777069330215454, 0.3510567545890808, 1.9158506393432617], [3.440358877182007, -3.088656425476074, 0.18530870974063873], [-5.8237104415893555, 6.840506076812744, -1.223922848701477], [5.714474678039551, -3.498206853866577, -1.302612066268921], [4.896877765655518, -5.0880656242370605, 0.929998517036438], [-3.8412818908691406, -2.8589084148406982, 5.659152507781982], [-3.9322922229766846, 1.8090975284576416, 1.7724628448486328], [-5.236870288848877, 6.2146172523498535, -1.127335548400879], [-4.695774555206299, -0.13625207543373108, 3.9985358715057373], [-3.2775471210479736, 5.268012523651123, -2.0148348808288574], [-5.217377185821533, 2.9665582180023193, 1.743809700012207], [-3.990802764892578, -0.010104542598128319, 3.3800923824310303], [-5.688145637512207, 9.353903770446777, -3.684250831604004], [6.83300256729126, -6.242326259613037, -0.0617920383810997], [-2.5496790409088135, -5.716808795928955, 7.131223201751709], [-6.033316135406494, 6.292219638824463, -0.5028285384178162], [0.9204027056694031, -3.7776596546173096, 2.840867757797241], [-3.468010187149048, -1.8332598209381104, 4.511641025543213], [-3.4727911949157715, -3.1739089488983154, 5.704932689666748], [-0.3311574161052704, -2.894024133682251, 3.033998489379883], [7.3382248878479, -6.032205581665039, -0.4000709354877472], [7.836266994476318, -6.296277046203613, -0.3599584400653839], [2.891477584838867, -2.1780991554260254, -0.1472335010766983], [-1.9886133670806885, -4.103428363800049, 5.188832759857178], [-2.9772531986236572, -4.394662380218506, 6.370184421539307], [-4.549380779266357, 2.3528378009796143, 1.7201764583587646], [-3.5406224727630615, 0.012302378192543983, 2.906665563583374], [-3.6666862964630127, -4.759598255157471, 7.200085163116455], [-0.6445460915565491, -3.902160406112671, 3.8863372802734375], [-4.245021343231201, -8.169144630432129, 10.364490509033203], [5.801333904266357, -5.787873268127441, 0.6086808443069458], [-4.388408660888672, 3.5175375938415527, 0.5757203102111816], [-3.8612234592437744, -5.3081488609313965, 7.75427770614624], [-2.2412781715393066, -5.646910190582275, 6.755048751831055], [-6.044177055358887, 5.884812831878662, -0.20535455644130707], [-4.738560199737549, 3.194162368774414, 1.197387933731079], [-4.170541286468506, 4.873246669769287, -0.8210041522979736], [-3.7146506309509277, -0.35732683539390564, 3.469789981842041], [-5.170261383056641, 7.275747776031494, -2.259044885635376], [-4.14033317565918, 2.394076108932495, 1.3731849193572998], [-2.5016233921051025, -2.077352285385132, 4.003652095794678], [-5.057383060455322, 2.1931302547454834, 2.2616612911224365], [-4.188671112060547, 0.5589935779571533, 2.988011360168457], [-5.1948018074035645, 6.969832420349121, -1.8814136981964111], [-4.7080464363098145, 5.043979167938232, -0.5216405391693115], [3.86000657081604, -4.201148509979248, 0.7360710501670837], [-5.336483478546143, 6.772357940673828, -1.5309865474700928], [1.0732088088989258, 0.4541677236557007, -1.245387077331543], [-2.4955852031707764, -3.7098910808563232, 5.432172775268555], [-0.36950933933258057, -1.6571937799453735, 1.783361554145813], [-0.6299607753753662, -0.6245641708374023, 1.1667277812957764], [-0.3141264319419861, 3.1924245357513428, -2.7564704418182373], [-4.406472206115723, 5.95660924911499, -1.3970892429351807], [-5.259665012359619, 2.7942376136779785, 1.8969160318374634], [-1.7188212871551514, -7.043941497802734, 7.574305057525635], [-1.935462236404419, -2.6282336711883545, 3.9377453327178955], [5.067716121673584, -4.457715034484863, 0.16314691305160522], [-0.0016151827294379473, 1.4007784128189087, -1.325727939605713], [5.282505035400391, -4.856863498687744, 0.34914928674697876], [-3.9540188312530518, -1.2159031629562378, 4.30804443359375], [-2.7586519718170166, -2.2784385681152344, 4.437267780303955], [7.543346405029297, -4.106868743896484, -2.492271661758423], [-1.463792085647583, -4.359912395477295, 5.122302532196045], [-5.017920970916748, 5.8153977394104, -0.9443727731704712], [3.6505534648895264, -2.6087143421173096, -0.5082517266273499], [-3.0434553623199463, -3.2804555892944336, 5.358082294464111], [3.0520918369293213, -3.7039151191711426, 1.1565783023834229], [-4.087686538696289, -3.6390035152435303, 6.552593231201172], [-3.9151623249053955, -0.6640254855155945, 3.837231397628784], [-4.574514865875244, 2.1914162635803223, 1.9119515419006348], [7.513054847717285, -6.336562633514404, 0.028838565573096275], [7.136327266693115, -6.051940441131592, -0.002257326617836952], [-5.262997627258301, 4.878407001495361, 0.0640125498175621], [-4.183593273162842, 7.3413004875183105, -3.154322624206543], [-5.924010753631592, 7.267693519592285, -1.476698875427246], [6.4997758865356445, -4.578038692474365, -1.1755582094192505], [-3.560917377471924, 4.819393157958984, -1.3626350164413452], [-6.341341495513916, 7.632805347442627, -1.5077626705169678], [-0.21417200565338135, -0.4727564752101898, 0.5594619512557983], [2.0928122997283936, -1.6559385061264038, -0.19543007016181946], [-3.2072947025299072, -1.6828701496124268, 4.239899635314941], [7.257533550262451, -2.7936291694641113, -2.883223295211792], [-3.574146032333374, -4.179441928863525, 6.568068027496338], [7.173072338104248, -6.174263954162598, 0.02705404721200466], [5.287001132965088, -0.4961356818675995, -2.9148993492126465], [-5.207213401794434, 5.808305263519287, -0.7320694923400879], [-1.773692011833191, -3.912423849105835, 4.920974254608154], [-5.601942539215088, 5.991197109222412, -0.6207457184791565], [-2.410097360610962, -1.1955667734146118, 3.1642305850982666], [1.7936450242996216, -1.1417723894119263, -0.36618494987487793], [-2.9559481143951416, -3.3785340785980225, 5.493313789367676], [3.4646646976470947, -2.2949347496032715, -0.6380928754806519], [6.788348197937012, -4.21305513381958, -1.5805078744888306], [-2.979275941848755, -1.2384427785873413, 3.4115536212921143], [-1.6860514879226685, -1.4266715049743652, 2.765639543533325], [-2.615225076675415, -2.143479585647583, 4.190723419189453], [4.683065414428711, -3.263603448867798, -0.8288528323173523], [-5.879956245422363, 6.584991931915283, -0.9178884029388428], [-5.184939384460449, 5.147119522094727, -0.17929702997207642], [-3.2643191814422607, -2.295985221862793, 4.68897819519043], [-0.8454463481903076, -3.852273464202881, 4.338696002960205], [-3.9191558361053467, 5.8053297996521, -1.955081582069397], [-3.3944480419158936, -2.661348581314087, 5.052148342132568], [-4.881492614746094, 3.077932357788086, 1.3768408298492432], [0.8831945061683655, -8.408493041992188, 6.441906452178955], [-2.6484220027923584, -3.1146352291107178, 5.019759654998779], [7.063920497894287, -3.649578332901001, -2.219943046569824], [-4.186639308929443, 0.6604748964309692, 2.9435739517211914], [-5.835338115692139, 4.779458045959473, 0.6795365810394287], [-6.19157075881958, 9.197369575500488, -3.0685641765594482], [-5.524337291717529, 5.172860145568848, 0.0758071020245552], [-5.244920253753662, 2.3693816661834717, 2.3070003986358643], [1.3942768573760986, 0.7306948304176331, -1.9206346273422241], [-3.637711763381958, -4.445912837982178, 6.840027809143066], [-0.8892796039581299, -3.0936379432678223, 3.7031095027923584], [-5.128971576690674, 6.119051456451416, -1.1771970987319946], [4.882232666015625, -4.577708721160889, 0.4548325538635254], [8.609169006347656, -6.179807186126709, -1.2906548976898193], [10.26806354522705, -4.839860439300537, -2.935920476913452], [-4.728254318237305, 2.4642555713653564, 1.8057396411895752], [0.3347809910774231, 0.8615824580192566, -0.9800623059272766], [-4.4419779777526855, -5.6587138175964355, 8.461137771606445], [-5.896798610687256, 6.890884876251221, -1.15231192111969], [-2.487362861633301, 1.4527226686477661, 0.7673522233963013], [-1.423414707183838, -3.774360418319702, 4.721388339996338], [6.2196784019470215, -3.845324754714966, -1.6606359481811523], [0.29214730858802795, -4.360996723175049, 3.8755223751068115], [6.12671422958374, -5.559427738189697, 0.14875662326812744], [-5.025356292724609, 4.689977169036865, 0.10816372185945511], [-3.9228098392486572, -3.255699396133423, 6.0677313804626465], [2.4890477657318115, -4.044883728027344, 1.7646267414093018], [-4.883608818054199, 6.643422603607178, -1.871885061264038], [-1.7928106784820557, -5.8492865562438965, 6.643361568450928], [-6.027671813964844, 6.654951095581055, -0.853756308555603], [-1.9788227081298828, -4.479104042053223, 5.685862064361572], [-4.756254196166992, 3.819272994995117, 0.5392947196960449], [-4.350719928741455, -2.1647050380706787, 5.449811935424805], [-5.053928852081299, 7.464181423187256, -2.422330617904663], [2.724942922592163, -2.8355319499969482, 0.5361286401748657], [5.793334484100342, -5.870346546173096, 0.7228158712387085], [-2.3351151943206787, -6.134125232696533, 7.297993183135986], [5.411181926727295, -4.806882381439209, 0.2665664255619049], [-3.44270658493042, -1.0607762336730957, 3.8525960445404053], [-6.682145595550537, 9.078153610229492, -2.4526805877685547], [-5.264225482940674, 5.871472358703613, -0.7829180955886841], [-3.6511189937591553, -5.852982997894287, 8.064594268798828], [-3.9991793632507324, -0.07059300690889359, 3.2536227703094482], [-3.643325090408325, -2.0082762241363525, 4.846310615539551], [3.8425416946411133, -3.7464239597320557, 0.4825081527233124], [6.066601276397705, -3.2114298343658447, -2.1223654747009277], [-2.8065621852874756, -5.1316657066345215, 6.8220601081848145], [4.621617794036865, -0.9856143593788147, -3.019551992416382], [-4.896521091461182, 3.2242023944854736, 1.2483251094818115], [7.1711249351501465, -5.362176895141602, -0.8025012016296387], [-1.7106008529663086, -4.929083347320557, 5.888682842254639], [8.090459823608398, -6.303966045379639, -0.8959590196609497], [-5.631847858428955, 4.6000261306762695, 0.6588526368141174], [3.5990538597106934, -3.5750627517700195, 0.2786174714565277], [9.52902603149414, 8.292503356933594, -9.429893493652344], [-4.359077453613281, 6.847096920013428, -2.43703293800354], [5.6881585121154785, -5.645659923553467, 0.5097494721412659], [6.811195373535156, -4.590222358703613, -1.23749840259552], [-3.6033079624176025, -3.106455087661743, 5.696850299835205], [-4.791666507720947, 3.758507490158081, 0.6519076228141785], [3.173691511154175, 2.057615280151367, -3.0940868854522705], [-3.6262266635894775, -5.505969524383545, 7.563455581665039], [1.8902802467346191, -6.321390628814697, 4.091996669769287], [-4.634589672088623, 5.214956283569336, -0.6604855060577393], [-3.372204542160034, -0.2186698615550995, 3.01151442527771], [-5.263623237609863, 4.354922771453857, 0.5286701321601868], [5.512908935546875, -2.9313724040985107, -1.8484327793121338], [6.186705589294434, -5.5836615562438965, 0.2402769923210144], [-3.402097702026367, -2.403275489807129, 4.984750270843506], [-4.995518207550049, 4.425146102905273, 0.28531768918037415], [-3.8628714084625244, -0.1646568477153778, 3.2782747745513916], [-5.302247524261475, 5.957519054412842, -0.8099410533905029], [-5.709531307220459, 5.89603328704834, -0.4378010332584381], [-4.117449760437012, -1.0248401165008545, 4.207294940948486], [-4.899901866912842, 3.053766965866089, 1.3821417093276978], [-5.547391414642334, 6.203877925872803, -0.9217719435691833], [-5.292304992675781, 4.168429851531982, 0.6875393390655518], [-4.202630043029785, 3.2210569381713867, 0.678878128528595], [5.994600296020508, -5.4945268630981445, 0.3110101819038391], [-1.9131810665130615, -2.324535369873047, 3.634324073791504], [4.523612976074219, -0.9307230710983276, -2.984858512878418], [-5.416283130645752, 5.314821720123291, -0.23875725269317627], [-0.6566338539123535, -0.15241605043411255, 0.6852978467941284], [-2.087763547897339, -4.699843883514404, 5.961839199066162], [-3.288865566253662, -5.834273815155029, 7.762299060821533], [5.959472179412842, -4.975804805755615, -0.21216847002506256], [-5.5539231300354, 6.322094917297363, -0.9310216903686523], [7.403276443481445, -5.292677879333496, -1.109421730041504], [-4.133462429046631, 3.2350587844848633, 0.5834852457046509], [-4.591954708099365, -0.7386043071746826, 4.364553451538086], [-4.162648677825928, -3.4106414318084717, 6.372488975524902], [-2.9851579666137695, -6.6288743019104, 8.194538116455078], [7.352320194244385, -5.264570236206055, -1.09259033203125], [5.801886558532715, -5.346669673919678, -0.027351731434464455], [-1.8748806715011597, -2.246229410171509, 3.76707124710083], [-5.657647609710693, 5.346634387969971, -0.027418414130806923], [-3.2971560955047607, -5.282778263092041, 7.253718852996826], [6.399139881134033, -7.1805806159973145, 1.1585454940795898], [-0.4081537425518036, -6.255214214324951, 6.019954204559326], [7.691369533538818, -6.4985222816467285, -0.2045937478542328], [-2.0553781986236572, -4.661191463470459, 5.89004373550415], [7.247097969055176, -6.314042091369629, -0.05233173817396164], [-1.045161485671997, -2.9116642475128174, 3.6372432708740234], [1.3251711130142212, 0.4998667538166046, -1.5303078889846802], [-3.510627031326294, -1.2187690734863281, 4.052773475646973], [3.02470326423645, -2.5590951442718506, -0.11448464542627335], [-4.449339866638184, -1.0287708044052124, 4.549383640289307], [-4.825329303741455, 2.216501474380493, 2.1172659397125244], [2.9984829425811768, 4.152297496795654, -5.089024543762207], [-2.7445948123931885, 0.8575056195259094, 1.60305655002594], [5.8757195472717285, 2.1505420207977295, -4.890885829925537], [6.628860950469971, -4.232193470001221, -1.4426240921020508], [-5.923232555389404, 8.303145408630371, -2.386695146560669], [-1.5106713771820068, 5.145514011383057, -3.4412777423858643], [4.991234302520752, -2.933960199356079, -0.9258320331573486], [-5.476402759552002, 5.76894998550415, -0.522060215473175], [-3.710937261581421, 1.903382658958435, 1.396267056465149], [3.6257951259613037, -3.9076485633850098, 0.5547306537628174], [4.180741786956787, -3.6861231327056885, 0.21607272326946259], [-0.8740993738174438, 1.5445843935012817, -0.2993105947971344], [-1.2370645999908447, -4.810865879058838, 5.450562000274658], [-4.5496439933776855, 3.707406759262085, 0.5659599304199219], [-4.672817707061768, 3.511159896850586, 0.8470324277877808], [-2.068369150161743, -4.210954189300537, 5.55143404006958], [-1.4262762069702148, 0.2713955342769623, 1.0386559963226318], [6.6733527183532715, -3.98646879196167, -1.6599525213241577], [1.9596827030181885, -1.234436273574829, -0.5837122797966003], [-5.781367301940918, 6.420026779174805, -0.8099281787872314], [-4.2723708152771, -0.17733435332775116, 3.7128219604492188], [2.06571364402771, -4.120009899139404, 1.7117657661437988], [1.163927674293518, -2.3756704330444336, 1.3397924900054932], [-1.4023088216781616, 3.2500646114349365, -1.8161957263946533], [-1.4693219661712646, -0.22524842619895935, 1.4504673480987549], [0.42249882221221924, 1.9401506185531616, -2.1145622730255127], [3.453324317932129, -1.8771506547927856, -0.8592356443405151], [-3.661229372024536, 0.9604021906852722, 2.222682476043701], [1.7705028057098389, 0.22896674275398254, -1.6014763116836548], [7.629486083984375, -6.04418420791626, -0.48810306191444397], [11.081771850585938, 4.5741047859191895, -8.279738426208496], [-1.6917322874069214, -4.107249736785889, 5.085133075714111], [-0.014139593578875065, -1.6151655912399292, 1.6500258445739746], [-4.845686435699463, -1.9828500747680664, 5.636650562286377], [6.016483783721924, -5.489984035491943, 0.17712262272834778], [-4.566786766052246, 5.893965721130371, -1.3841049671173096], [-2.1388227939605713, -1.7487192153930664, 3.426706552505493], [-5.140255451202393, 7.408358097076416, -2.3213589191436768], [-2.7625348567962646, -2.07236385345459, 4.212945461273193], [-4.330898761749268, 6.2149481773376465, -1.9121179580688477], [-6.130079746246338, 7.045787334442139, -1.1569342613220215], [3.4588539600372314, -1.5706464052200317, -1.5173306465148926], [-2.4055562019348145, -3.4997382164001465, 5.143096446990967], [10.086995124816895, -7.579031467437744, -1.3073420524597168], [7.55461311340332, -5.780736446380615, -0.8316220045089722], [-3.7525336742401123, -3.566183567047119, 6.232967853546143], [-5.514154434204102, 6.123948574066162, -0.7943581938743591], [1.9234488010406494, 1.077405571937561, -2.4941954612731934], [9.208377838134766, 9.22484016418457, -9.732527732849121], [-6.217555522918701, 7.04702615737915, -1.0535707473754883], [3.0365827083587646, -0.3951214551925659, -2.0594799518585205], [-3.628848075866699, 6.796458721160889, -2.8866941928863525], [-3.6196963787078857, -6.317306041717529, 8.39157485961914], [-4.718312740325928, 0.12083613127470016, 3.755107879638672], [-2.3140573501586914, -4.572275161743164, 5.976922988891602], [-1.1864484548568726, -5.6082563400268555, 6.027785301208496], [-3.4693498611450195, -0.4311191141605377, 3.190535306930542], [3.04947829246521, 1.0416288375854492, -3.466188907623291], [-4.751736164093018, 0.12116994708776474, 3.805516242980957], [-1.1302064657211304, -3.761519432067871, 4.287546634674072], [-3.186177968978882, -3.6229164600372314, 5.842879772186279], [0.4379299581050873, 0.3724410831928253, -0.6047348380088806], [-1.992997646331787, 2.945890188217163, -0.9410091638565063], [-3.483274221420288, -1.28864324092865, 4.107929706573486], [-2.6442935466766357, -4.4727582931518555, 6.137312412261963], [-4.942716121673584, 9.100831985473633, -4.09466028213501], [-5.260461807250977, 7.174011707305908, -1.8677295446395874], [-3.09519362449646, -2.4037466049194336, 4.620645999908447], [-2.9138572216033936, 5.18005895614624, -2.2233328819274902], [-4.575496196746826, 6.442846775054932, -1.9027892351150513], [3.034938097000122, -2.9184229373931885, 0.4884752631187439], [1.660498857498169, 0.3406064212322235, -1.6505475044250488], [-3.589404821395874, 2.378845691680908, 0.9257033467292786], [-3.1722333431243896, -0.6962687969207764, 3.3385589122772217], [-1.899239420890808, -4.606810569763184, 5.730834007263184], [-3.5115468502044678, -1.0066851377487183, 3.8789823055267334], [-5.692977428436279, 4.946345806121826, 0.3707300126552582], [4.503625392913818, -1.0660685300827026, -2.821594476699829], [-3.432471513748169, -1.7851142883300781, 4.496092319488525], [-5.8683366775512695, 8.566137313842773, -2.6929028034210205], [-2.649444341659546, -3.03509783744812, 4.888968467712402], [-4.731515407562256, 6.30964994430542, -1.6944643259048462], [-4.404112339019775, 4.345936298370361, -0.1530458927154541], [-2.7910821437835693, -1.5829474925994873, 3.802967071533203], [-4.409510135650635, 5.319089412689209, -0.987258791923523], [-4.020115375518799, 4.248382091522217, -0.41839465498924255], [-0.44150102138519287, -4.299733638763428, 4.350746154785156], [-5.081811428070068, 2.4130992889404297, 2.053968906402588], [1.414446473121643, -2.1395418643951416, 1.247868299484253], [-6.177127361297607, 7.489831447601318, -1.4576153755187988], [-2.8103034496307373, -7.896275043487549, 8.99819278717041], [-4.654524326324463, 5.923791885375977, -1.357190728187561], [-4.888814926147461, 0.5384624600410461, 3.5720083713531494], [-6.2855544090271, 9.24521541595459, -2.9614453315734863], [-3.887303352355957, -7.895155429840088, 9.881311416625977], [-3.027811288833618, -6.8406853675842285, 8.380249977111816], [7.840927600860596, -4.322542667388916, -2.496152877807617], [-5.145178318023682, 2.465641498565674, 2.089479684829712], [5.707930564880371, -5.110057830810547, 0.26137569546699524], [-3.3722927570343018, -2.678459644317627, 5.162647724151611], [7.496646404266357, -6.205981731414795, -0.19054435193538666], [7.550366401672363, -6.318367958068848, -0.2044042944908142], [5.207335948944092, -4.628625392913818, 0.056032367050647736], [-3.854027509689331, 6.831987380981445, -2.8562541007995605], [-5.247044563293457, 5.794081211090088, -0.7530394792556763], [-4.8117804527282715, 7.93116569519043, -3.0433473587036133], [-5.6395063400268555, 4.097553730010986, 1.0968897342681885], [3.162245750427246, -3.4704058170318604, 0.8436359167098999], [-3.2013514041900635, -2.734506845474243, 5.009738445281982], [-2.573615550994873, -5.561273097991943, 7.038674831390381], [-5.699403285980225, 7.611138820648193, -1.9552080631256104], [8.180657386779785, -6.2869696617126465, -0.7639681696891785], [-4.966634273529053, 5.892772674560547, -1.1656540632247925], [-2.890826463699341, -3.747490644454956, 5.735228061676025], [1.9412702322006226, -2.7259232997894287, 0.9329079985618591], [1.7334301471710205, -5.3377366065979, 3.5155036449432373], [-5.31323766708374, 6.728209495544434, -1.47600519657135], [-4.2524285316467285, 0.4446798861026764, 3.151047945022583], [4.585036277770996, -1.474615216255188, -2.424353837966919], [6.252074718475342, -5.363521099090576, -0.08835936337709427], [-3.475368022918701, -1.6385942697525024, 4.402219772338867], [-3.767075300216675, 0.6283553838729858, 2.5977044105529785], [3.090137481689453, -3.687737464904785, 0.9013291597366333], [-3.7742624282836914, -2.4755704402923584, 5.292718410491943], [-4.999983787536621, 3.304431438446045, 1.2388417720794678], [-3.6163055896759033, -7.441627025604248, 9.31063461303711], [-4.847842216491699, 4.6954545974731445, -0.06174398213624954], [4.626633644104004, -3.9978692531585693, -0.022446120157837868], [3.138148546218872, -1.8332141637802124, -0.8702486753463745], [-2.5251853466033936, 1.496811032295227, 0.7111959457397461], [7.352284908294678, -3.5557925701141357, -2.499190330505371], [-5.263883113861084, 7.224316120147705, -2.0306451320648193], [-4.990347385406494, 5.233790874481201, -0.40342506766319275], [-3.900993824005127, 3.4627537727355957, 0.2172461897134781], [-2.7917070388793945, -2.176544666290283, 4.289714813232422], [8.129425048828125, -6.651980876922607, -0.26351895928382874], [-2.932871103286743, -1.6501303911209106, 3.9972751140594482], [-3.834770441055298, -1.082783818244934, 4.1054253578186035], [-3.2102010250091553, -4.250342845916748, 6.350961208343506], [-5.759357929229736, 5.21555757522583, 0.14450880885124207], [-3.9986484050750732, 0.6612741947174072, 2.787752866744995], [-3.9387919902801514, 2.4247286319732666, 1.0495588779449463], [4.562756538391113, -2.171417236328125, -1.7781223058700562], [-2.926837921142578, 1.2580615282058716, 1.5024924278259277], [5.078991413116455, -4.571984767913818, -0.15615953505039215], [-2.1553878784179688, -4.9093732833862305, 6.14418363571167], [-1.075913429260254, -2.422316789627075, 3.1437788009643555], [6.1586384773254395, -5.327000617980957, -0.10362110286951065], [-4.5756635665893555, 4.891663551330566, -0.4861661493778229], [2.65582537651062, -8.695080757141113, 5.178999423980713], [-5.114121913909912, 4.634409427642822, 0.1704893559217453], [3.8427255153656006, -2.5710999965667725, -0.9172561168670654], [0.12242448329925537, -0.9911909103393555, 0.7204013466835022], [-4.336134433746338, 1.2856537103652954, 2.5060365200042725], [0.06144995987415314, -0.3620205521583557, 0.5322158932685852], [-3.141193151473999, -4.932750225067139, 6.885674953460693], [-3.7498257160186768, -6.421839237213135, 8.56317138671875], [-2.580838441848755, -3.534374475479126, 5.258889675140381], [-5.063660144805908, 2.792034864425659, 1.7498537302017212], [-3.6290125846862793, -1.6642718315124512, 4.497128486633301], [7.099918842315674, -3.665461301803589, -2.6242806911468506], [5.111347198486328, -2.5218708515167236, -1.9381113052368164], [-5.194827556610107, 5.081649303436279, -0.10083354264497757], [-2.1163501739501953, -2.3499224185943604, 4.007724761962891], [-2.211055040359497, -3.6016740798950195, 5.063812732696533], [-3.2379324436187744, -1.8520116806030273, 4.402381420135498], [-2.254239797592163, -0.46145161986351013, 2.3180043697357178], [-5.466400623321533, 5.343708038330078, -0.16561442613601685], [-4.409222602844238, -0.5010637044906616, 4.0647969245910645], [-4.734008312225342, 5.441695213317871, -0.8122678995132446], [5.329299449920654, -4.453187465667725, -0.09547094255685806], [-5.161460876464844, 4.204226016998291, 0.5025452971458435], [11.246095657348633, -7.405419826507568, -2.527909994125366], [-5.824121952056885, 7.3492431640625, -1.6367440223693848], [3.1912009716033936, -4.211183071136475, 1.4174137115478516], [-5.6602983474731445, 6.457761287689209, -0.9157747030258179], [-4.571202754974365, -1.6987497806549072, 5.246328353881836], [10.32621955871582, -7.687877178192139, -1.2924007177352905], [-5.347245693206787, 3.267423391342163, 1.5668874979019165], [5.3531575202941895, -5.588717937469482, 0.6750692129135132], [-3.431269407272339, -1.3298121690750122, 4.029973983764648], [-0.6473481059074402, 1.257966160774231, -0.49181562662124634], [-3.8043153285980225, 0.22434011101722717, 2.9920694828033447], [-2.0475690364837646, 0.7613155245780945, 1.265817403793335], [-5.02078104019165, -0.6877556443214417, 4.6773762702941895], [-3.9253668785095215, -2.2448854446411133, 5.142899036407471], [-3.440491199493408, -4.370365619659424, 6.589303493499756], [-3.497138023376465, -4.914603233337402, 7.152717113494873], [-0.6321872472763062, 1.7167247533798218, -1.0237634181976318]]\n",
            "tensor([[3.5123e-02, 7.7264e-02, 1.3886e+02],\n",
            "        [7.3396e-02, 1.3204e+01, 9.0139e-01],\n",
            "        [1.0569e-02, 4.1139e+02, 2.2760e-01],\n",
            "        ...,\n",
            "        [3.2049e-02, 1.2647e-02, 7.2727e+02],\n",
            "        [3.0284e-02, 7.3386e-03, 1.2776e+03],\n",
            "        [5.3143e-01, 5.5663e+00, 3.5924e-01]])\n",
            "[2, 2, 1, 1, 1, 1, 1, 0, 2, 0, 0, 1, 2, 0, 2, 1, 0, 1, 1, 0, 1, 0, 1, 0, 1, 1, 0, 1, 1, 0, 0, 1, 0, 0, 1, 1, 2, 2, 1, 1, 1, 2, 0, 2, 2, 0, 1, 1, 1, 2, 0, 2, 0, 0, 2, 0, 2, 0, 1, 1, 2, 0, 0, 1, 1, 1, 2, 1, 1, 2, 2, 0, 2, 0, 2, 2, 2, 1, 0, 2, 2, 2, 1, 0, 0, 1, 0, 1, 2, 0, 0, 2, 1, 0, 1, 2, 0, 2, 0, 1, 0, 2, 2, 0, 0, 0, 1, 2, 2, 2, 1, 1, 0, 2, 2, 0, 0, 2, 1, 2, 0, 0, 0, 2, 2, 0, 1, 2, 1, 2, 1, 2, 1, 0, 2, 0, 2, 2, 0, 1, 2, 0, 2, 1, 2, 0, 0, 1, 0, 2, 1, 2, 0, 2, 2, 1, 1, 0, 2, 1, 2, 0, 1, 2, 1, 1, 1, 2, 1, 0, 0, 0, 2, 1, 2, 2, 1, 2, 1, 2, 2, 1, 1, 0, 0, 1, 0, 2, 0, 0, 2, 2, 0, 2, 2, 0, 1, 0, 1, 2, 1, 2, 2, 2, 1, 2, 0, 0, 2, 0, 0, 2, 2, 2, 0, 0, 2, 0, 0, 2, 1, 0, 0, 2, 1, 2, 2, 1, 1, 2, 2, 0, 0, 1, 1, 1, 1, 0, 1, 1, 2, 0, 0, 2, 1, 1, 2, 0, 2, 1, 0, 1, 2, 1, 1, 2, 0, 1, 0, 0, 1, 2, 1, 1, 2, 2, 2, 0, 1, 2, 1, 2, 2, 1, 0, 2, 1, 1, 1, 2, 1, 2, 2, 1, 0, 1, 2, 1, 0, 0, 1, 1, 2, 2, 2, 1, 2, 1, 0, 2, 2, 2, 2, 0, 2, 2, 2, 2, 1, 1, 1, 1, 0, 2, 0, 1, 0, 0, 1, 1, 1, 2, 2, 0, 1, 2, 1, 1, 1, 0, 2, 0, 2, 2, 0, 2, 1, 0, 0, 1, 1, 1, 2, 2, 2, 2, 2, 1, 1, 2, 1, 2, 2, 0, 2, 1, 1, 1, 0, 1, 2, 1, 2, 2, 2, 0, 2, 0, 1, 0, 0, 2, 1, 1, 2, 1, 1, 0, 0, 2, 2, 2, 0, 0, 0, 0, 1, 2, 1, 0, 2, 2, 0, 2, 2, 0, 2, 2, 0, 0, 1, 1, 2, 2, 0, 2, 0, 2, 2, 1, 0, 1, 1, 2, 2, 0, 2, 1, 1, 1, 1, 2, 1, 1, 2, 2, 1, 1, 0, 1, 0, 1, 2, 1, 0, 2, 1, 2, 0, 1, 0, 2, 0, 0, 1, 2, 1, 0, 1, 2, 0, 2, 2, 2, 1, 2, 2, 2, 2, 1, 2, 2, 1, 1, 1, 2, 0, 0, 0, 1, 2, 2, 2, 2, 2, 2, 2, 1, 0, 0, 1, 2, 2, 2, 0, 0, 0, 0, 1, 0, 1, 2, 2, 2, 0, 1, 1, 1, 2, 0, 1, 1, 0, 2, 1, 1, 1, 2, 2, 2, 2, 2, 2, 0, 2, 2, 1, 1, 1, 2, 2, 1, 1, 0, 0, 2, 2, 2, 2, 1, 1, 2, 1, 1, 2, 2, 1, 2, 2, 0, 0, 2, 2, 0, 2, 0, 0, 1, 1, 0, 0, 2, 2, 1, 2, 1, 0, 0, 0, 2, 0, 1, 1, 0, 1, 0, 0, 1, 2, 1, 2, 2, 2, 1, 2, 2, 1, 0, 2, 1, 1, 0, 0, 1, 1, 2, 0, 2, 0, 1, 0, 1, 0, 2, 1, 0, 2, 1, 0, 1, 2, 1, 0, 2, 2, 1, 0, 1, 1, 0, 0, 1, 0, 2, 2, 1, 0, 0, 0, 2, 0, 0, 2, 0, 2, 1, 1, 1, 2, 1, 2, 1, 0, 1, 2, 1, 0, 2, 2, 1, 0, 1, 2, 2, 1, 1, 2, 1, 1, 1, 1, 2, 0, 1, 0, 1, 0, 1, 0, 1, 1, 2, 0, 1, 1, 2, 2, 0, 1, 0, 2, 2, 2, 1, 0, 1, 1, 1, 0, 1, 0, 1, 1, 2, 2, 1, 0, 1, 2, 1, 2, 1, 2, 1, 2, 1, 0, 2, 2, 0, 2, 1, 1, 0, 0, 2, 0, 0, 2, 1, 1, 1, 0, 0, 1, 1, 2, 2, 2, 1, 0, 0, 2, 2, 1, 2, 1, 2, 1, 1, 1, 0, 0, 0, 2, 1, 1, 0, 0, 2, 2, 2, 1, 2, 0, 0, 1, 0, 0, 1, 1, 1, 0, 2, 0, 0, 1, 0, 1, 1, 2, 2, 0, 0, 2, 1, 1, 0, 0, 2, 0, 1, 1, 2, 1, 1, 2, 0, 0, 2, 0, 0, 2, 2, 2, 1, 2, 2, 1, 0, 0, 1, 1, 0, 0, 1, 1, 0, 0, 1, 1, 2, 1, 0, 1, 2, 0, 1, 1, 1, 1, 1, 0, 1, 0, 2, 1, 0, 0, 0, 0, 1, 2, 1, 2, 2, 1, 0, 1, 2, 0, 2, 1, 2, 2, 2, 0, 2, 2, 2, 0, 1, 0, 2, 0, 1, 2, 1, 1, 2, 0, 1, 1, 2, 0, 2, 1, 1, 1, 2, 0, 2, 2, 1, 1, 1, 1, 1, 2, 2, 0, 0, 1, 0, 1, 2, 2, 1, 1, 2, 0, 1, 2, 0, 2, 1, 1, 1, 1, 0, 0, 2, 2, 2, 0, 1, 0, 1, 0, 2, 2, 1, 0, 0, 1, 1, 2, 1, 0, 2, 0, 2, 0, 1, 2, 2, 1, 2, 2, 2, 1, 2, 1, 2, 1, 0, 2, 0, 0, 0, 1, 1, 0, 0, 1, 1, 0, 2, 1, 1, 1, 1, 0, 1, 0, 0, 0, 1, 1, 0, 1, 0, 2, 0, 2, 2, 2, 2, 0, 1, 1, 1, 2, 0, 1, 2, 1, 0, 2, 2, 1, 0, 2, 2, 0, 1, 1, 0, 2, 2, 2, 2, 0, 0, 2, 2, 2, 1, 2, 1, 1, 2, 1, 2, 0, 1, 2, 1, 2, 2, 0, 1, 0, 2, 2, 1, 2, 2, 2, 2, 0, 0, 1, 1, 1, 2, 1, 1, 0, 2, 1, 1, 1, 2, 1, 1, 1, 1, 1, 1, 1, 0, 0, 0, 1, 0, 2, 2, 0, 1, 2, 1, 0, 1, 0, 2, 1, 1, 2, 2, 1, 1, 1, 0, 2, 1, 1, 2, 0, 0, 0, 2, 0, 1, 2, 1, 1, 1, 1, 0, 2, 0, 1, 2, 2, 1, 2, 2, 0, 2, 2, 2, 1, 0, 2, 1, 0, 2, 1, 1, 1, 0, 1, 1, 0, 2, 1, 2, 1, 0, 0, 0, 1, 2, 0, 0, 1, 0, 0, 1, 1, 1, 0, 1, 0, 0, 0, 2, 0, 1, 2, 2, 2, 0, 0, 0, 1, 0, 1, 1, 1, 2, 0, 1, 0, 0, 2, 2, 1, 2, 1, 1, 2, 1, 0, 2, 1, 2, 2, 2, 2, 0, 0, 0, 2, 2, 1, 2, 2, 2, 2, 0, 1, 2, 2, 1, 1, 1, 2, 1, 2, 2, 1, 2, 2, 1, 0, 1, 0, 2, 2, 2, 0, 2, 1, 2, 2, 0, 0, 0, 2, 2, 0, 2, 1, 0, 2, 0, 2, 1, 2, 0, 0, 1, 1, 1, 0, 1, 1, 0, 0, 1, 0, 2, 0, 0, 1, 2, 1, 1, 0, 2, 0, 0, 2, 2, 2, 0, 1, 1, 2, 2, 0, 2, 1, 2, 2, 1, 2, 1, 1, 1, 1, 0, 2, 2, 1, 0, 0, 0, 1, 0, 2, 1, 1, 2, 0, 2, 0, 1, 2, 0, 1, 2, 1, 2, 1, 2, 1, 0, 0, 2, 0, 2, 1, 1, 2, 2, 2, 0, 0, 2, 0, 1, 0, 0, 0, 1, 0, 0, 1, 0, 0, 2, 1, 0, 2, 0, 1, 2, 1, 0, 0, 2, 1, 1, 1, 1, 2, 1, 1, 1, 1, 0, 1, 0, 1, 0, 2, 2, 0, 1, 0, 1, 2, 2, 2, 0, 0, 2, 1, 2, 0, 2, 0, 2, 0, 2, 0, 1, 0, 2, 1, 0, 1, 0, 0, 1, 1, 0, 1, 1, 0, 0, 0, 2, 1, 1, 2, 0, 0, 0, 1, 2, 2, 0, 0, 0, 0, 0, 2, 0, 0, 0, 2, 2, 2, 0, 1, 1, 1, 2, 1, 1, 0, 2, 0, 0, 2, 1, 0, 0, 1, 0, 1, 2, 1, 2, 2, 1, 0, 1, 2, 2, 0, 1, 2, 2, 1, 1, 2, 1, 1, 0, 0, 2, 1, 2, 2, 1, 0, 2, 1, 2, 2, 1, 2, 1, 1, 2, 1, 0, 1, 2, 1, 2, 1, 2, 2, 0, 1, 0, 2, 0, 0, 0, 1, 1, 1, 1, 0, 2, 2, 1, 0, 1, 2, 0, 0, 1, 2, 0, 0, 2, 2, 0, 2, 1, 2, 1, 0, 0, 2, 0, 1, 1, 1, 2, 0, 2, 2, 2, 1, 2, 1, 0, 2, 0, 2, 2, 0, 1, 2, 1, 0, 2, 2, 0, 2, 2, 2, 1, 2, 0, 0, 1, 2, 2, 2, 2, 1, 2, 1, 0, 1, 0, 1, 0, 1, 2, 0, 1, 0, 2, 0, 2, 2, 1, 2, 2, 2, 0]\n",
            "f1 score:  0.8839294502425619\n",
            "recall:  0.8831592689295039\n",
            "precision:  0.8874843807508803\n",
            "accuracy:  0.8831592689295039\n"
          ],
          "name": "stdout"
        }
      ]
    },
    {
      "cell_type": "markdown",
      "metadata": {
        "id": "jXM-aEH6yxUH"
      },
      "source": [
        "## ResNet 50 (pretrained = True)"
      ]
    },
    {
      "cell_type": "code",
      "metadata": {
        "id": "GuOr9rC6zNAy"
      },
      "source": [
        "import torchvision.models as models\n",
        "import torch.optim as optim\n",
        "\n",
        "model =  models.resnet50(pretrained=True)\n",
        "num_ftrs = model.fc.in_features\n",
        "model.fc = nn.Linear(num_ftrs, 3)"
      ],
      "execution_count": null,
      "outputs": []
    },
    {
      "cell_type": "code",
      "metadata": {
        "id": "VFcicE2VzYz3",
        "colab": {
          "base_uri": "https://localhost:8080/"
        },
        "outputId": "6a12ca6c-6a7a-4233-8bb9-013289161653"
      },
      "source": [
        "optimizer = optim.Adam(model.parameters(), 0.001, weight_decay=0.0)\n",
        "scheduler = torch.optim.lr_scheduler.ReduceLROnPlateau(optimizer, patience=5, factor=0.3, threshold=0.0001) \n",
        "train_model(model, optimizer, scheduler, 10)"
      ],
      "execution_count": null,
      "outputs": [
        {
          "output_type": "stream",
          "text": [
            "\n",
            "**********epoch:  0 \n",
            "\n",
            "\n",
            "train:\n",
            "\n",
            "loss:  0.5256167277693748\n",
            "f1 score:  0.8051609942728352\n",
            "recall:  0.8057491289198606\n",
            "precision:  0.8068001443242853\n",
            "accuracy:  0.8057491289198606\n",
            "\n",
            "validation:\n",
            "\n",
            "loss:  8.92648548550076\n",
            "f1 score:  0.39193550479668987\n",
            "recall:  0.4691035683202785\n",
            "precision:  0.6930360450211761\n",
            "accuracy:  0.4691035683202785\n",
            "\n",
            "**********epoch:  1 \n",
            "\n",
            "\n",
            "train:\n",
            "\n",
            "loss:  0.23866118304431438\n",
            "f1 score:  0.9110488694662545\n",
            "recall:  0.9111498257839721\n",
            "precision:  0.9111124154961221\n",
            "accuracy:  0.9111498257839721\n",
            "\n",
            "validation:\n",
            "\n",
            "loss:  0.8112704306840897\n",
            "f1 score:  0.8472586510237163\n",
            "recall:  0.8468233246301131\n",
            "precision:  0.8520351887122494\n",
            "accuracy:  0.8468233246301131\n",
            "\n",
            "**********epoch:  2 \n",
            "\n",
            "\n",
            "train:\n",
            "\n",
            "loss:  0.23206316638323995\n",
            "f1 score:  0.9216549601900745\n",
            "recall:  0.921602787456446\n",
            "precision:  0.9223074810518389\n",
            "accuracy:  0.921602787456446\n",
            "\n",
            "validation:\n",
            "\n",
            "loss:  0.3509993039899402\n",
            "f1 score:  0.8664027390650931\n",
            "recall:  0.8668407310704961\n",
            "precision:  0.8769079158080044\n",
            "accuracy:  0.8668407310704961\n",
            "\n",
            "**********epoch:  3 \n",
            "\n",
            "\n",
            "train:\n",
            "\n",
            "loss:  0.18522430873579449\n",
            "f1 score:  0.9273852399404389\n",
            "recall:  0.9277003484320557\n",
            "precision:  0.9278605055652818\n",
            "accuracy:  0.9277003484320557\n",
            "\n",
            "validation:\n",
            "\n",
            "loss:  0.4125475697219372\n",
            "f1 score:  0.8890592295271691\n",
            "recall:  0.8894691035683203\n",
            "precision:  0.8935164498457483\n",
            "accuracy:  0.8894691035683203\n",
            "\n",
            "**********epoch:  4 \n",
            "\n",
            "\n",
            "train:\n",
            "\n",
            "loss:  0.13540583000414902\n",
            "f1 score:  0.9581747354487347\n",
            "recall:  0.9581881533101045\n",
            "precision:  0.9583284059591706\n",
            "accuracy:  0.9581881533101045\n",
            "\n",
            "validation:\n",
            "\n",
            "loss:  0.4717208643754323\n",
            "f1 score:  0.8452477638627549\n",
            "recall:  0.8442123585726719\n",
            "precision:  0.8855655667842612\n",
            "accuracy:  0.8442123585726719\n",
            "\n",
            "**********epoch:  5 \n",
            "\n",
            "\n",
            "train:\n",
            "\n",
            "loss:  0.10056031288372146\n",
            "f1 score:  0.9686001485164277\n",
            "recall:  0.9686411149825784\n",
            "precision:  0.9686034933317313\n",
            "accuracy:  0.9686411149825784\n",
            "\n",
            "validation:\n",
            "\n",
            "loss:  0.3140917801194721\n",
            "f1 score:  0.9005550131326497\n",
            "recall:  0.9007832898172323\n",
            "precision:  0.9015759373837385\n",
            "accuracy:  0.9007832898172323\n",
            "\n",
            "**********epoch:  6 \n",
            "\n",
            "\n",
            "train:\n",
            "\n",
            "loss:  0.12932337551481193\n",
            "f1 score:  0.9563559372082361\n",
            "recall:  0.9564459930313589\n",
            "precision:  0.9568353529493268\n",
            "accuracy:  0.9564459930313589\n",
            "\n",
            "validation:\n",
            "\n",
            "loss:  0.22893107972211307\n",
            "f1 score:  0.928192428462845\n",
            "recall:  0.9286335944299391\n",
            "precision:  0.93045609891307\n",
            "accuracy:  0.9286335944299391\n",
            "\n",
            "**********epoch:  7 \n",
            "\n",
            "\n",
            "train:\n",
            "\n",
            "loss:  0.10674129095342424\n",
            "f1 score:  0.9607815103772156\n",
            "recall:  0.960801393728223\n",
            "precision:  0.9607980382285768\n",
            "accuracy:  0.960801393728223\n",
            "\n",
            "validation:\n",
            "\n",
            "loss:  0.21230872554911506\n",
            "f1 score:  0.9249064622603878\n",
            "recall:  0.9251523063533508\n",
            "precision:  0.9259394714563329\n",
            "accuracy:  0.9251523063533508\n",
            "\n",
            "**********epoch:  8 \n",
            "\n",
            "\n",
            "train:\n",
            "\n",
            "loss:  0.11274965355793636\n",
            "f1 score:  0.9616677983190309\n",
            "recall:  0.9616724738675958\n",
            "precision:  0.9620798233454075\n",
            "accuracy:  0.9616724738675958\n",
            "\n",
            "validation:\n",
            "\n",
            "loss:  0.2840794786396954\n",
            "f1 score:  0.9211305400491013\n",
            "recall:  0.9208006962576153\n",
            "precision:  0.9236564648788934\n",
            "accuracy:  0.9208006962576153\n",
            "\n",
            "**********epoch:  9 \n",
            "\n",
            "\n",
            "train:\n",
            "\n",
            "loss:  0.06463803118094802\n",
            "f1 score:  0.9791081234958923\n",
            "recall:  0.9790940766550522\n",
            "precision:  0.9791370759641705\n",
            "accuracy:  0.9790940766550522\n",
            "\n",
            "validation:\n",
            "\n",
            "loss:  0.22265573032200336\n",
            "f1 score:  0.9157087634178339\n",
            "recall:  0.9164490861618799\n",
            "precision:  0.9185145511218821\n",
            "accuracy:  0.9164490861618799\n"
          ],
          "name": "stdout"
        }
      ]
    },
    {
      "cell_type": "code",
      "metadata": {
        "id": "4QQID1LDzdQ4",
        "colab": {
          "base_uri": "https://localhost:8080/"
        },
        "outputId": "b8475af8-60b0-4e97-c243-078d9a957ea2"
      },
      "source": [
        "test_model(model, optimizer, scheduler)"
      ],
      "execution_count": null,
      "outputs": [
        {
          "output_type": "stream",
          "text": [
            "test: \n",
            "loss:  0.2638092488050461\n",
            "[[1.8551685810089111, -7.399412155151367, 6.444147109985352], [-2.874917507171631, 5.845515251159668, -2.534027099609375], [0.22379788756370544, -2.4568536281585693, 2.900705575942993], [-2.432879686355591, -0.5562393069267273, 4.029762268066406], [-2.0866341590881348, -2.5289995670318604, 5.508114814758301], [-1.7565011978149414, 5.770102500915527, -3.5064845085144043], [4.306826114654541, -4.252654552459717, 0.47429710626602173], [5.2127604484558105, -2.9291021823883057, -1.7417105436325073], [6.281837463378906, -6.2603888511657715, 0.5113221406936646], [1.3105583190917969, 1.164428949356079, -1.95695960521698], [5.969902515411377, -6.152327060699463, 0.594708263874054], [-3.3227531909942627, 3.7473855018615723, 0.055834412574768066], [5.5713324546813965, -1.8785046339035034, -3.221323013305664], [0.2320786714553833, 0.40463268756866455, -0.20528317987918854], [-3.219498872756958, 1.6574206352233887, 2.0830466747283936], [-1.996593952178955, -4.1709794998168945, 7.114909648895264], [-1.3790242671966553, -5.857851505279541, 8.223932266235352], [7.259811878204346, -2.53962779045105, -4.164642333984375], [-2.678720235824585, -2.4845387935638428, 6.098996162414551], [-3.4723470211029053, 3.795539617538452, 0.2174944430589676], [4.535643577575684, -3.5668320655822754, -0.6918081045150757], [-3.648343801498413, 5.682270050048828, -1.6345268487930298], [-4.369308948516846, 6.913679122924805, -2.115604877471924], [-2.7423040866851807, 2.558870553970337, 0.7547037601470947], [-1.8222367763519287, 5.191554546356201, -2.944490671157837], [6.474514484405518, -4.614298343658447, -1.4685508012771606], [-4.627460956573486, 6.046449661254883, -1.0028108358383179], [4.427454471588135, -3.648998737335205, -0.524638295173645], [-2.398711919784546, -2.092031478881836, 5.296877384185791], [-6.240882396697998, 8.483572959899902, -1.7515603303909302], [-1.905320644378662, 1.765531063079834, 0.45334216952323914], [-4.975014686584473, 5.344337463378906, 0.027491716668009758], [-5.166345596313477, 4.753499984741211, 1.0321401357650757], [-4.329440593719482, 5.300720691680908, -0.5791568160057068], [-1.1419486999511719, -3.541541576385498, 5.514730453491211], [-3.0146191120147705, 5.231253623962402, -1.8434569835662842], [0.17247813940048218, -2.5554423332214355, 3.1204710006713867], [7.603198528289795, -5.394654750823975, -1.6611313819885254], [-0.042908862233161926, -2.560347557067871, 3.4441494941711426], [7.427293300628662, -5.529584884643555, -1.4097806215286255], [-2.9059250354766846, 1.3708151578903198, 1.9590625762939453], [3.76216197013855, -0.9904348254203796, -2.268627643585205], [-1.0242149829864502, 3.6158509254455566, -2.108121156692505], [-2.3970093727111816, -1.250981330871582, 4.428530693054199], [-2.4107534885406494, -1.5019351243972778, 4.73726749420166], [-2.9259448051452637, 4.845876216888428, -1.4968613386154175], [4.056673526763916, -2.029043436050415, -1.6914993524551392], [6.721595287322998, -3.696077823638916, -2.451647996902466], [4.661607265472412, -6.294682502746582, 2.1522257328033447], [7.7182488441467285, -6.609468460083008, -0.6199549436569214], [-0.6864584684371948, -5.673013687133789, 7.129426002502441], [-3.8124442100524902, 4.777732849121094, -0.5011460185050964], [-2.846651792526245, 5.393697738647461, -2.0509347915649414], [-4.733576774597168, -2.2605950832366943, 8.324360847473145], [-1.7705702781677246, -3.373037815093994, 5.999039649963379], [-1.585660696029663, -1.6035029888153076, 3.6848526000976562], [-0.14796288311481476, 0.2897731363773346, 0.4993932247161865], [-4.8625030517578125, -1.1934401988983154, 7.027183532714844], [7.630537986755371, -5.062775611877441, -2.0205256938934326], [-3.3270816802978516, 4.8119330406188965, -1.096273422241211], [-1.6895904541015625, -1.785209059715271, 4.220142841339111], [1.5871713161468506, -5.085262775421143, 4.119956016540527], [-3.8290436267852783, 7.679460525512695, -3.4152462482452393], [2.140803575515747, -3.7893049716949463, 2.156878709793091], [-3.7221615314483643, -1.8555271625518799, 6.450543403625488], [1.919959306716919, 1.318019986152649, -2.863802909851074], [-4.86931848526001, 8.043737411499023, -2.6538329124450684], [-5.422397613525391, 8.087800979614258, -2.2533681392669678], [-1.0536856651306152, -1.6748850345611572, 3.2263550758361816], [-1.7593410015106201, -1.568842887878418, 3.958090305328369], [-2.8772919178009033, 5.828700065612793, -2.526576042175293], [-1.936110258102417, -3.333195924758911, 5.957512855529785], [4.816317081451416, -2.930999279022217, -1.5409713983535767], [-0.6792066693305969, 2.6102354526519775, -1.4942783117294312], [3.0274994373321533, -5.821336269378662, 3.4551496505737305], [-5.8553032875061035, 9.564605712890625, -3.181567668914795], [-0.23883968591690063, -5.86110782623291, 6.863733768463135], [2.239936590194702, 1.1753872632980347, -3.0771145820617676], [3.3483688831329346, -3.460469961166382, 0.5416927337646484], [6.530033111572266, -2.1509511470794678, -3.8074960708618164], [-4.757258415222168, 7.118359565734863, -1.9377055168151855], [-2.445185422897339, 1.862612009048462, 1.0103120803833008], [1.479248285293579, 0.7549046277999878, -1.724496841430664], [-3.8357532024383545, 2.942748546600342, 1.297310709953308], [-4.895923137664795, 2.774479627609253, 2.605543613433838], [-3.0809807777404785, 6.43951940536499, -2.898970127105713], [6.653292179107666, -3.578843832015991, -2.4430439472198486], [4.740215301513672, -1.6114047765731812, -2.5414013862609863], [-4.297802925109863, 6.483396530151367, -1.7771247625350952], [-4.541526794433594, 6.854645729064941, -1.8415049314498901], [-0.1803225874900818, -3.565793752670288, 4.6289262771606445], [-3.633826494216919, 4.853882312774658, -0.8287210464477539], [3.33526611328125, -5.09709358215332, 2.408128261566162], [-3.7182562351226807, 2.656083822250366, 1.5415160655975342], [-3.2707769870758057, 6.9671735763549805, -3.2192349433898926], [-2.517672300338745, 5.125257968902588, -2.129124641418457], [-6.4903883934021, 6.70827579498291, 0.23075401782989502], [-0.1328236609697342, -2.0567173957824707, 2.715639352798462], [-0.03349623084068298, 0.0481724813580513, 0.38320356607437134], [0.14170214533805847, -6.281110763549805, 6.932038307189941], [-2.365164041519165, -0.6102230548858643, 3.676347017288208], [7.237294673919678, -6.449469566345215, -0.3335024416446686], [-3.9983437061309814, 3.6509344577789307, 0.9136998057365417], [-2.734830617904663, -5.633672714233398, 9.957076072692871], [4.466064929962158, -1.0135197639465332, -2.9277195930480957], [-3.49739933013916, -7.912684917449951, 12.67616081237793], [7.688295841217041, -5.1888017654418945, -1.9063876867294312], [-2.9529807567596436, 4.1673994064331055, -0.7984170317649841], [5.237732887268066, -2.3820977210998535, -2.546072483062744], [7.8002190589904785, -6.6285600662231445, -0.6544896364212036], [-3.120175838470459, -5.110288619995117, 9.139021873474121], [1.6673755645751953, -5.942779541015625, 4.903410911560059], [3.4069344997406006, -5.438325881958008, 2.643279552459717], [-3.8169686794281006, 7.895475387573242, -3.5885720252990723], [-2.3528597354888916, -1.6292815208435059, 4.813654899597168], [0.2384040504693985, 2.539327621459961, -2.3715600967407227], [5.5205278396606445, -1.2220706939697266, -3.7330129146575928], [-2.1842751502990723, -5.241130828857422, 8.524674415588379], [-3.1410586833953857, 4.824463844299316, -1.2334016561508179], [-1.630133867263794, -6.275381088256836, 8.859453201293945], [-5.0339579582214355, 6.237030982971191, -0.8174793720245361], [6.025757789611816, -0.9673718810081482, -4.474237442016602], [6.302009105682373, -2.795907497406006, -3.0135374069213867], [-2.194249391555786, -3.6208198070526123, 6.706876277923584], [0.050513431429862976, -4.110095024108887, 4.67791748046875], [8.037676811218262, -6.361681938171387, -1.2322736978530884], [-0.41300585865974426, 2.535200357437134, -1.7742340564727783], [-3.2996695041656494, 4.060468673706055, -0.4042821228504181], [-1.8759140968322754, 1.1777031421661377, 1.0607811212539673], [-4.618178844451904, 6.359114646911621, -1.335584044456482], [-2.810256004333496, 0.15318605303764343, 3.1570920944213867], [5.030998229980469, -4.26932954788208, -0.25212278962135315], [-0.9793568849563599, -3.5148415565490723, 5.094361305236816], [-0.45986446738243103, 3.7110707759857178, -2.758418083190918], [0.3575235605239868, -2.9928019046783447, 3.3270716667175293], [-1.78733229637146, 3.3497979640960693, -1.079433798789978], [8.004850387573242, -6.123000144958496, -1.352810025215149], [2.631197452545166, -0.11352947354316711, -2.2334768772125244], [0.11031040549278259, -0.6549628973007202, 0.9862550497055054], [1.1065475940704346, 2.1642894744873047, -2.830339193344116], [4.408318996429443, -4.802061080932617, 0.8698432445526123], [6.9616618156433105, -6.354559898376465, -0.11769802868366241], [-0.08268816024065018, -5.305325508117676, 6.094341278076172], [-4.14097785949707, 4.309439182281494, 0.15253274142742157], [4.383563041687012, -3.1704676151275635, -0.8021230101585388], [-5.249139785766602, 6.287707805633545, -0.6228593587875366], [7.384648323059082, -6.528553009033203, -0.3885047137737274], [-4.312929630279541, 2.7860782146453857, 1.9495619535446167], [-4.6825642585754395, 1.9794437885284424, 3.6620404720306396], [3.7991178035736084, -3.9198992252349854, 0.6824941039085388], [4.271803379058838, -2.1749989986419678, -1.712420105934143], [-1.8230268955230713, -0.07263969630002975, 2.4095664024353027], [8.764657020568848, -7.193362236022949, -1.0059521198272705], [-2.3659489154815674, 5.378898620605469, -2.5636484622955322], [-3.355457067489624, 0.6746312379837036, 3.4310824871063232], [-2.209604501724243, -5.190848350524902, 8.254240989685059], [-3.793363571166992, 6.458585739135742, -2.229886531829834], [-4.486863136291504, 6.018263816833496, -1.0096362829208374], [5.680501461029053, -3.0021517276763916, -2.108281373977661], [5.009470462799072, -2.9163053035736084, -1.5195021629333496], [-2.11665940284729, 0.2388574182987213, 2.4522500038146973], [-2.850510358810425, 2.370612621307373, 0.9004040956497192], [-0.8908117413520813, -5.123539924621582, 7.001699447631836], [-3.9048783779144287, 7.154794692993164, -2.766524314880371], [-0.9283514618873596, -4.6615753173828125, 6.228276252746582], [-2.7753608226776123, 2.463773250579834, 0.7527532577514648], [-0.10338416695594788, 2.5280559062957764, -1.9811362028121948], [-2.9927940368652344, 3.9353344440460205, -0.5031780004501343], [4.391576290130615, -0.8525290489196777, -3.171581506729126], [-2.5756375789642334, 6.14719295501709, -3.110119342803955], [8.276498794555664, -6.470812797546387, -1.252059817314148], [-3.36887526512146, 6.078313827514648, -2.2316718101501465], [4.018444538116455, -0.3985193073749542, -3.0690159797668457], [-0.8228499293327332, -5.540473937988281, 7.186201572418213], [1.2746913433074951, -3.1653506755828857, 2.3572192192077637], [6.657722473144531, -5.593385696411133, -0.6289821863174438], [1.113368272781372, -5.464384078979492, 4.980795383453369], [-4.954370975494385, 5.411869049072266, 0.0038857292383909225], [-4.659442901611328, 6.148014068603516, -1.1019102334976196], [-3.5303642749786377, 2.826237440109253, 1.0640596151351929], [4.663402080535889, -0.8546037673950195, -3.417133092880249], [6.506223201751709, -3.2771921157836914, -2.737678050994873], [-4.203892230987549, 0.25492480397224426, 4.815912246704102], [6.16668701171875, -3.6886322498321533, -2.027937412261963], [-0.16216212511062622, -2.972262144088745, 3.6585216522216797], [-2.3951051235198975, -1.1616183519363403, 4.279249668121338], [6.517695426940918, -5.058330535888672, -1.0436264276504517], [-3.9010870456695557, 5.805563449859619, -1.5605918169021606], [-5.465971946716309, 7.921267986297607, -2.0082173347473145], [-1.064190149307251, -0.16646718978881836, 1.6458743810653687], [6.99513578414917, -5.249362945556641, -1.2819277048110962], [-5.322286128997803, 6.0180745124816895, -0.21575136482715607], [-4.2119550704956055, 6.411645889282227, -1.7687263488769531], [-5.811690807342529, 6.496307373046875, -0.3077771067619324], [-2.976804733276367, 0.7469396591186523, 2.637275218963623], [3.581066608428955, 0.2988206446170807, -3.3433451652526855], [-2.51989483833313, 6.43602180480957, -3.4830119609832764], [-2.320560932159424, -1.7063429355621338, 4.945376396179199], [5.134007453918457, -1.1777455806732178, -3.484462261199951], [-0.9784913063049316, -0.8739730715751648, 2.2902884483337402], [9.088411331176758, -7.306502342224121, -1.1442703008651733], [-0.3427669405937195, -2.1133532524108887, 2.985219717025757], [5.682450771331787, -2.7380473613739014, -2.4068098068237305], [-1.6562132835388184, -3.5557682514190674, 5.853739261627197], [-5.222728252410889, 5.572412967681885, -0.01879166252911091], [-0.6890019178390503, -3.0469391345977783, 4.3655195236206055], [4.391959190368652, -0.4082883596420288, -3.4822616577148438], [6.180505275726318, -3.1598665714263916, -2.4661343097686768], [-4.414896488189697, 4.246218204498291, 0.5242040753364563], [0.28629347681999207, -4.20926570892334, 4.743426322937012], [-5.090805530548096, 8.52591609954834, -2.9636919498443604], [1.697296142578125, -5.981457233428955, 4.981417655944824], [-3.673814058303833, 4.660756587982178, -0.6412932872772217], [-0.904202401638031, 1.4957127571105957, -0.22958841919898987], [5.240718364715576, -3.177478075027466, -1.729090690612793], [-3.559187889099121, -2.4947316646575928, 7.087900638580322], [-5.139100551605225, 7.746363639831543, -2.1708080768585205], [7.334625244140625, -3.892533779144287, -2.882758617401123], [7.054887294769287, -4.975913047790527, -1.7174547910690308], [-1.5380849838256836, -2.8478314876556396, 5.106211185455322], [4.1836018562316895, -1.9803950786590576, -1.819679617881775], [-0.9383593797683716, -0.3845294117927551, 1.7911053895950317], [4.668673992156982, -1.2821564674377441, -2.9699935913085938], [-1.2468822002410889, 0.3087005019187927, 1.267422080039978], [8.274275779724121, -4.355563640594482, -3.307983636856079], [-2.986245632171631, 3.0003955364227295, 0.34034493565559387], [-4.229923725128174, 7.772607803344727, -2.9706249237060547], [5.836169719696045, -3.887660026550293, -1.6161792278289795], [-2.522247791290283, 1.5420286655426025, 1.365096926689148], [5.4313883781433105, -4.003417015075684, -0.8366041779518127], [-1.7004170417785645, -4.26700496673584, 6.682568550109863], [5.791651248931885, -4.388895034790039, -1.0874160528182983], [7.343291759490967, -5.463481426239014, -1.3660112619400024], [-2.3923871517181396, 3.2469449043273926, -0.47815221548080444], [-6.997256755828857, 8.584981918334961, -1.1860367059707642], [7.591639995574951, -3.3255510330200195, -3.573786735534668], [-5.2045674324035645, 5.51198673248291, 0.053908199071884155], [-0.09280437231063843, -6.049619197845459, 6.948537826538086], [4.488769054412842, 0.6536553502082825, -4.638725280761719], [7.843355655670166, -5.670279026031494, -1.6247438192367554], [5.153836727142334, -2.7785818576812744, -1.9966931343078613], [-3.770238161087036, 6.294337749481201, -2.1176259517669678], [-0.35588568449020386, 4.466641426086426, -3.656029224395752], [-3.220743417739868, -6.158090114593506, 10.519902229309082], [-1.0913386344909668, 3.3535866737365723, -1.8615996837615967], [-3.4532716274261475, 5.237842082977295, -1.3830856084823608], [7.290195465087891, -4.648111343383789, -2.2029976844787598], [-4.417618751525879, 5.2255706787109375, -0.40950262546539307], [0.8326429724693298, -4.020321846008301, 3.6601152420043945], [1.5779178142547607, -1.495715856552124, 0.36920589208602905], [8.46810245513916, -4.814095497131348, -2.9971375465393066], [4.524049282073975, -2.8373377323150635, -1.40265953540802], [5.28703498840332, -1.8487677574157715, -3.079282283782959], [-3.867586374282837, 0.5240544676780701, 4.049863338470459], [-5.163369178771973, 4.436545372009277, 1.08653724193573], [-1.9367222785949707, 2.9454116821289062, -0.5605983138084412], [7.517899036407471, -3.88008189201355, -2.985651969909668], [-1.6245079040527344, -0.5988566279411316, 2.756580114364624], [-2.5444061756134033, -2.0051639080047607, 5.1802754402160645], [0.9470958113670349, -3.708045721054077, 3.286539316177368], [-2.8499841690063477, 0.6253871917724609, 2.9957971572875977], [-0.30172616243362427, -5.718967437744141, 6.863982200622559], [-0.7854669094085693, 0.6934481263160706, 0.48952221870422363], [-2.0727057456970215, 4.011451244354248, -1.5297726392745972], [6.7922749519348145, -5.213593482971191, -1.131645917892456], [-1.6540956497192383, -3.3099536895751953, 5.839191436767578], [2.6722159385681152, -5.056545734405518, 3.0821640491485596], [-1.0145082473754883, -2.461789608001709, 4.240151405334473], [-0.14524297416210175, 1.174622654914856, -0.6437082290649414], [6.258566379547119, -4.847375392913818, -1.0132782459259033], [-4.905864238739014, 6.4308295249938965, -1.094600796699524], [-0.6619367003440857, -3.299745798110962, 4.6479716300964355], [-0.6638955473899841, 4.529079437255859, -3.376973867416382], [-3.854151964187622, 5.259824752807617, -0.8816960453987122], [-1.2617137432098389, -3.0568199157714844, 5.281689167022705], [4.075296401977539, -1.9104681015014648, -1.819909691810608], [4.85325813293457, -1.8378686904907227, -2.573699951171875], [6.647361755371094, -3.6714556217193604, -2.5300095081329346], [2.390535354614258, -1.6418068408966064, -0.3537015914916992], [5.531589031219482, -2.170285224914551, -2.7996885776519775], [-3.642369508743286, 5.573139190673828, -1.5194902420043945], [8.4241361618042, -7.067285537719727, -0.7593628168106079], [8.276597023010254, -4.35886812210083, -3.306595802307129], [-4.00836706161499, 1.9439847469329834, 2.8236746788024902], [0.9915549159049988, 2.5938799381256104, -3.243802547454834], [-0.5858612656593323, -1.6161603927612305, 2.764352798461914], [-1.543224811553955, -1.7873115539550781, 3.964179515838623], [-4.111719608306885, 7.96192741394043, -3.4052646160125732], [-3.030273675918579, 6.772688865661621, -3.273186683654785], [-4.0805487632751465, 7.331182479858398, -2.780855655670166], [6.052175521850586, -3.8311116695404053, -1.802994966506958], [-1.2548809051513672, -4.715657711029053, 6.863420486450195], [0.20257966220378876, -2.87684965133667, 3.2571768760681152], [-0.04225952923297882, -2.2873055934906006, 2.806504726409912], [-3.9218826293945312, 5.995125770568848, -1.657771110534668], [-2.661345958709717, 5.2445878982543945, -2.2130603790283203], [7.400241374969482, -4.48581600189209, -2.4146080017089844], [2.141705274581909, 0.14964178204536438, -2.0048649311065674], [-2.3539226055145264, -3.0424742698669434, 6.155517578125], [-5.388489246368408, 6.777400493621826, -1.0133017301559448], [-2.270343542098999, -6.3513336181640625, 9.622983932495117], [-3.1996617317199707, 4.217404365539551, -0.6495975255966187], [-3.8135430812835693, 5.582233428955078, -1.3909651041030884], [-1.8084356784820557, 1.6192913055419922, 0.580628514289856], [0.05170413851737976, -0.5675038695335388, 0.9304409027099609], [4.379605770111084, -2.720188617706299, -1.202516794204712], [2.3487391471862793, 1.4494102001190186, -3.2557971477508545], [-3.078922748565674, 4.74654483795166, -1.154407262802124], [8.31581974029541, -7.684370994567871, -0.06711436808109283], [-0.48855528235435486, -2.4665839672088623, 3.6806368827819824], [-4.467335224151611, 6.940837383270264, -2.0278987884521484], [-1.6853044033050537, -3.1079938411712646, 5.794330596923828], [-5.335836887359619, 7.849764823913574, -2.0382332801818848], [-4.205994129180908, 6.129980087280273, -1.4760786294937134], [-2.7832190990448, -0.9070459008216858, 4.219338417053223], [-2.7437944412231445, -0.9981710314750671, 4.521725654602051], [-2.7620809078216553, 2.5027191638946533, 0.8330725431442261], [-0.6939058899879456, 2.2576842308044434, -1.1997791528701782], [-4.797916412353516, 6.560749053955078, -1.3550983667373657], [-2.154717206954956, 1.6541156768798828, 0.9146401882171631], [-2.875941753387451, 5.0776472091674805, -1.759757161140442], [3.285200357437134, -4.697615623474121, 1.8039112091064453], [-0.21696248650550842, -2.3629767894744873, 3.12302303314209], [-5.149577617645264, 6.472826957702637, -0.8736621141433716], [-0.999617874622345, -2.311039686203003, 3.8295538425445557], [-1.988123893737793, 2.0975234508514404, 0.28674256801605225], [7.261921405792236, -6.565182685852051, -0.0899738073348999], [2.1997151374816895, -3.587002992630005, 1.8699063062667847], [-5.055018901824951, 6.259553909301758, -0.7566027641296387], [8.271728515625, -6.703712463378906, -0.901663601398468], [-3.6442909240722656, 5.703705787658691, -1.6646515130996704], [-0.7143884301185608, 3.425926923751831, -2.2385923862457275], [4.832024097442627, -1.8944166898727417, -2.4785027503967285], [-2.5801150798797607, -4.407761096954346, 7.798494815826416], [-4.9921393394470215, 2.0104739665985107, 3.4324817657470703], [-0.24069441854953766, -2.3757641315460205, 3.2104690074920654], [-4.539730548858643, -2.0671801567077637, 7.791433334350586], [-1.446009635925293, 2.10640025138855, -0.22703762352466583], [-5.661039352416992, 6.2689738273620605, -0.2287299782037735], [-4.4427490234375, 6.449292182922363, -1.5921030044555664], [-3.9535653591156006, 5.025136470794678, -0.5227628350257874], [-2.6366398334503174, -2.910334348678589, 6.5995588302612305], [-3.8090314865112305, -1.6368963718414307, 6.3643999099731445], [1.3582737445831299, -3.963148593902588, 3.1810779571533203], [-1.2141432762145996, 4.072731018066406, -2.4116432666778564], [-2.056330680847168, -3.4403369426727295, 6.398525238037109], [2.6621224880218506, -5.699885368347168, 3.645442485809326], [-0.8233972191810608, -3.863375425338745, 5.74497127532959], [-3.780996322631836, 5.257767200469971, -1.103683590888977], [-4.994431972503662, 6.201947212219238, -0.8021284341812134], [4.743834018707275, -2.821551561355591, -1.597882866859436], [-1.1062378883361816, -0.13492712378501892, 1.8567510843276978], [6.152683258056641, -5.073260307312012, -0.5854614973068237], [-2.8277907371520996, 4.867346286773682, -1.6208902597427368], [0.32426488399505615, -1.221107006072998, 1.4451488256454468], [-2.000993013381958, -0.2967745065689087, 2.9535398483276367], [-4.428102016448975, 6.934687614440918, -2.0674264430999756], [7.017603397369385, -6.518580913543701, 0.09663063287734985], [4.3220295906066895, -0.8227524161338806, -2.9851675033569336], [2.489182949066162, 0.21968543529510498, -2.524904489517212], [6.2752861976623535, -2.040182113647461, -3.730870008468628], [-1.79671049118042, 3.241664171218872, -0.9929470419883728], [0.24606502056121826, 1.2654328346252441, -1.09976327419281], [0.9305391907691956, -1.9071683883666992, 1.4206749200820923], [-4.062913417816162, 3.524893045425415, 1.0361655950546265], [5.566751956939697, -3.2838428020477295, -1.9126265048980713], [2.556462526321411, 2.5976431369781494, -4.593920707702637], [-3.8688366413116455, 6.464898109436035, -2.131026268005371], [5.206717014312744, -3.5709681510925293, -1.2723582983016968], [7.9617743492126465, -5.678979873657227, -1.7829192876815796], [6.866154670715332, -4.751995086669922, -1.7142140865325928], [-0.3488091230392456, 0.29832252860069275, 0.4817267060279846], [6.403383731842041, -4.778615951538086, -1.139503002166748], [4.659090042114258, -2.385422945022583, -1.9325841665267944], [-3.362264633178711, 7.380346298217773, -3.4770941734313965], [-4.799037456512451, 6.56336784362793, -1.3397636413574219], [-2.906933307647705, 5.99263858795166, -2.630774974822998], [-3.14700984954834, -1.6487663984298706, 5.829600811004639], [7.8634796142578125, -5.993512153625488, -1.3277626037597656], [-1.2873010635375977, 2.308091402053833, -0.5642703771591187], [-7.033817768096924, 8.728782653808594, -1.254801630973816], [2.7350246906280518, 0.12763611972332, -2.415531873703003], [-3.2807607650756836, 3.216557741165161, 0.4533320665359497], [-4.292514324188232, 4.720088005065918, -0.060380853712558746], [-0.7389532923698425, -5.098647117614746, 6.8470916748046875], [7.699931621551514, -5.458637237548828, -1.738476037979126], [-5.3507890701293945, 8.948076248168945, -3.140698194503784], [6.610764026641846, -3.867668867111206, -2.2280216217041016], [-1.06596040725708, 1.4994056224822998, 0.027582911774516106], [4.164210796356201, -1.494856357574463, -1.9803626537322998], [-1.1314260959625244, -2.142622709274292, 3.871645927429199], [-2.213559865951538, 1.4767534732818604, 1.1697568893432617], [-5.070295333862305, 7.2346296310424805, -1.7213951349258423], [3.626213312149048, -3.895000696182251, 0.6565370559692383], [-0.21971070766448975, 0.5924285054206848, 0.04505503922700882], [-4.13653039932251, 3.835960865020752, 0.6678647994995117], [-0.14449885487556458, -3.8636720180511475, 4.82427978515625], [-5.944967269897461, 6.05348014831543, 0.37853068113327026], [8.276342391967773, -6.223666191101074, -1.4761896133422852], [-3.2784979343414307, 5.406307220458984, -1.6440140008926392], [-4.1354265213012695, -0.45302918553352356, 5.4560322761535645], [0.7317714095115662, 3.5843987464904785, -3.8443591594696045], [-2.40566086769104, 1.4254655838012695, 1.4219173192977905], [4.561015605926514, -1.148565649986267, -3.020181894302368], [2.200058698654175, -1.0184274911880493, -0.8008291721343994], [-3.485806703567505, 5.075009346008301, -1.199507236480713], [-1.425933837890625, -2.9768054485321045, 5.083388805389404], [-2.0511982440948486, -1.1275858879089355, 3.6944007873535156], [-1.1450424194335938, -5.706201076507568, 7.637847900390625], [8.675875663757324, -6.719684600830078, -1.3690685033798218], [-0.6550418734550476, -2.0197906494140625, 3.301461696624756], [-6.167614936828613, 8.132989883422852, -1.520119071006775], [-3.215423345565796, 4.136673450469971, -0.5474330186843872], [-1.185119867324829, 0.016309000551700592, 1.6693611145019531], [-3.359304666519165, 1.6651616096496582, 2.1274919509887695], [-4.505130290985107, 8.30112075805664, -3.2662971019744873], [6.703136444091797, -4.429539203643799, -1.803945541381836], [6.425775051116943, -2.7281415462493896, -3.1400814056396484], [6.8292012214660645, -4.466974258422852, -1.8248612880706787], [3.163426637649536, -0.13783980906009674, -2.5307834148406982], [0.6969940066337585, -2.896740436553955, 2.6487154960632324], [6.939243793487549, -5.905666351318359, -0.5381508469581604], [-3.2924680709838867, 4.886772632598877, -1.1576000452041626], [-2.979052782058716, 4.03567361831665, -0.6442621946334839], [-2.2262728214263916, 3.1357085704803467, -0.4162774682044983], [-1.872925043106079, -4.215412139892578, 6.810431480407715], [-0.6321656703948975, -2.6581122875213623, 3.961554527282715], [5.170258045196533, -3.032062292098999, -1.7777103185653687], [3.2338192462921143, -0.10372202098369598, -2.598484516143799], [1.2431814670562744, -4.084566593170166, 3.4783711433410645], [1.358062744140625, -4.319703102111816, 3.5014352798461914], [-3.154205560684204, -4.667588710784912, 9.053858757019043], [-3.6921777725219727, 5.088946342468262, -0.9316620826721191], [-6.1014533042907715, 8.061274528503418, -1.503057599067688], [-4.22387170791626, -0.37246495485305786, 5.7422285079956055], [-0.6984598636627197, 2.9676353931427, -1.9116737842559814], [-2.2497966289520264, 3.877323865890503, -1.219982385635376], [-5.479086399078369, 6.792945384979248, -0.8791274428367615], [1.028160572052002, -2.912175416946411, 2.406038522720337], [-2.28277587890625, 3.685979127883911, -0.919683039188385], [-4.426601409912109, 7.497809886932373, -2.6185364723205566], [-4.050457000732422, 3.419438600540161, 1.1951416730880737], [-2.077000617980957, 0.0037844511680305004, 2.7435357570648193], [-0.5970231890678406, -1.1753485202789307, 2.399641990661621], [-2.096034049987793, -6.639970779418945, 9.734990119934082], [6.903037071228027, -2.7676570415496826, -3.612752914428711], [-0.020820796489715576, -1.181133508682251, 1.6807434558868408], [-1.12109375, 2.6965322494506836, -1.1732439994812012], [-3.2423160076141357, 3.7067816257476807, -0.07061310112476349], [0.350708931684494, -4.876455307006836, 5.177489280700684], [6.6982340812683105, -6.412783145904541, 0.16843177378177643], [-0.40674275159835815, -3.8633105754852295, 5.097501754760742], [-3.7372729778289795, 6.322483539581299, -2.105030059814453], [-1.5929992198944092, -6.398736000061035, 9.078452110290527], [7.162795066833496, -6.606868743896484, -0.07754109799861908], [-5.830643177032471, 6.9508819580078125, -0.7243671417236328], [-3.742567300796509, 6.266298770904541, -2.0446949005126953], [-2.053385019302368, 4.456180572509766, -2.0094614028930664], [-1.3007416725158691, -2.2153537273406982, 4.063252925872803], [-0.0034258365631103516, 0.4630576968193054, 0.03211970627307892], [-2.61674427986145, 1.5163958072662354, 1.4847701787948608], [6.408630847930908, -5.513589859008789, -0.42175042629241943], [-3.2076685428619385, 2.845806837081909, 0.6761308908462524], [-3.7808141708374023, 7.335109233856201, -3.0942938327789307], [-2.5913987159729004, 3.6641602516174316, -0.610641360282898], [-3.9521443843841553, 2.8122823238372803, 1.8299111127853394], [0.982295036315918, -0.6103931069374084, 0.07699291408061981], [1.1980059146881104, -6.114667892456055, 5.762170791625977], [-4.285955429077148, 6.89831018447876, -2.183950185775757], [-6.115096569061279, 8.077689170837402, -1.5030977725982666], [3.6097190380096436, -1.3942925930023193, -1.8655203580856323], [7.727004051208496, -6.253983974456787, -0.9927022457122803], [-4.490041255950928, 7.636714935302734, -2.685634136199951], [-3.1658647060394287, 5.799328327178955, -2.310237169265747], [-0.06454581767320633, -2.7612054347991943, 3.3213753700256348], [-2.0169339179992676, -4.012434005737305, 6.90559196472168], [1.3046348094940186, -4.814645767211914, 4.382763862609863], [5.597400188446045, -2.1256649494171143, -2.9309158325195312], [-5.720679759979248, 5.478548049926758, 0.6911547780036926], [8.712875366210938, -6.106684684753418, -1.9868688583374023], [-0.428893506526947, -1.5537006855010986, 2.694345474243164], [5.563318729400635, -4.22282075881958, -0.9056292176246643], [7.740671157836914, -4.0599236488342285, -3.073345422744751], [8.447250366210938, -6.815769195556641, -1.0289506912231445], [-1.9789350032806396, 1.076183557510376, 1.509817123413086], [-4.608771800994873, 7.766732215881348, -2.7208006381988525], [9.188633918762207, -6.505169868469238, -1.9703518152236938], [-3.4567582607269287, -3.9277873039245605, 8.585878372192383], [-4.956045627593994, 7.856776237487793, -2.4447097778320312], [-0.8276659846305847, 2.6317403316497803, -1.4931942224502563], [5.853094577789307, -3.211906909942627, -2.2966132164001465], [-2.846409559249878, -1.9094892740249634, 5.5631794929504395], [-2.76395320892334, 5.134000301361084, -1.9538381099700928], [3.5047991275787354, -1.0824249982833862, -1.9516111612319946], [-4.998116970062256, 6.8225626945495605, -1.4410523176193237], [-3.564638376235962, 0.9783321619033813, 3.0305051803588867], [-2.581892251968384, -0.9306469559669495, 4.383771896362305], [-1.119081735610962, -0.7520636916160583, 2.2523703575134277], [-1.9347803592681885, 2.69100022315979, -0.422676682472229], [-2.226048707962036, -2.410395622253418, 5.492866039276123], [-1.111734390258789, 3.2564685344696045, -1.6263102293014526], [5.7386555671691895, -3.66534686088562, -1.5697718858718872], [5.215643405914307, -2.950913667678833, -1.9125401973724365], [-2.8463032245635986, -6.007311820983887, 9.889687538146973], [4.413814544677734, -3.36923885345459, -0.7058327198028564], [-1.7411866188049316, -1.7773857116699219, 3.9972667694091797], [-1.5486469268798828, -4.717169761657715, 7.028704643249512], [-4.339121341705322, -0.9331315159797668, 6.240327835083008], [-4.420294284820557, 3.6484453678131104, 1.1980750560760498], [6.550577163696289, -4.706562042236328, -1.4870699644088745], [-2.475311040878296, 6.567801475524902, -3.5942230224609375], [-5.95217752456665, 7.782875061035156, -1.3780027627944946], [-0.9812650680541992, 5.973672866821289, -4.384274482727051], [-0.766232967376709, -5.27193546295166, 6.801295280456543], [2.719508647918701, -6.615564346313477, 4.644747734069824], [-4.124938488006592, 5.599325180053711, -1.1116689443588257], [-3.161691427230835, 2.199737310409546, 1.3093980550765991], [-1.5989480018615723, 1.2894244194030762, 0.750905454158783], [6.529359340667725, -4.236399173736572, -1.7897446155548096], [-0.31310367584228516, -2.2385241985321045, 3.425225257873535], [-2.6260838508605957, 3.166166305541992, 0.016855044290423393], [-3.4955365657806396, 6.225492000579834, -2.2919766902923584], [-3.3682973384857178, 0.2317751795053482, 3.920356035232544], [5.080773830413818, -3.308668375015259, -1.3428672552108765], [-4.520015716552734, 4.895757675170898, 0.08640686422586441], [7.290907859802246, -6.087088584899902, -0.5776225328445435], [4.896918296813965, -5.0196990966796875, 0.485593318939209], [-5.527668476104736, 7.055359840393066, -1.1031968593597412], [-0.34473752975463867, -3.844663381576538, 4.988543510437012], [-2.3026552200317383, -1.517559289932251, 4.334372520446777], [-3.1836154460906982, 6.145971775054932, -2.4987685680389404], [-2.5006208419799805, 1.5475068092346191, 1.4222631454467773], [-3.5329487323760986, 0.9032551646232605, 3.289318323135376], [-4.623971462249756, 7.282774925231934, -2.1972434520721436], [4.101134300231934, 0.2946854829788208, -3.869349479675293], [-4.518660068511963, 2.5252723693847656, 2.564044952392578], [-2.2570481300354004, -1.2978851795196533, 4.027722358703613], [7.6589741706848145, -7.04306173324585, -0.048296526074409485], [-2.4281342029571533, -1.7700278759002686, 5.095362663269043], [4.074329853057861, -2.6106269359588623, -0.9695255160331726], [-1.411391258239746, -1.258994460105896, 3.3131675720214844], [-2.250866413116455, -1.3250054121017456, 4.2354230880737305], [-1.686110019683838, -1.7756682634353638, 4.199881076812744], [-1.8721938133239746, -3.3250043392181396, 6.188558101654053], [1.660837173461914, -3.8403375148773193, 2.6162338256835938], [-0.6470510959625244, -0.07191352546215057, 1.0249321460723877], [-5.416980266571045, 9.103520393371582, -3.226451873779297], [-4.690709590911865, 7.816946506500244, -2.609593391418457], [-4.046737194061279, 5.899233818054199, -1.484602451324463], [-4.439041614532471, 4.001550197601318, 0.9327353835105896], [-2.347820520401001, 2.2254536151885986, 0.5692402720451355], [-3.2374634742736816, 6.106436252593994, -2.3772494792938232], [-3.010786771774292, 1.2585619688034058, 2.6388328075408936], [7.060965061187744, -4.836928367614746, -1.715053677558899], [0.7110822796821594, -5.125594139099121, 5.174317359924316], [-3.121572971343994, 2.4528467655181885, 1.277420163154602], [-4.471634864807129, 5.573799133300781, -0.5250345468521118], [-2.7162294387817383, 2.8349454402923584, 0.22775445878505707], [-3.127878427505493, 3.773113250732422, -0.15662826597690582], [-0.6095585227012634, -4.980219841003418, 6.274287223815918], [-1.2447879314422607, -3.2402493953704834, 5.108397960662842], [-1.6973991394042969, 2.8349993228912354, -0.8004753589630127], [2.482139825820923, 1.2252821922302246, -3.1858158111572266], [-4.505183696746826, 7.686577796936035, -2.689553737640381], [5.1009907722473145, -2.7944586277008057, -1.953891396522522], [5.413683891296387, -2.6019623279571533, -2.401705026626587], [-0.47886887192726135, -4.459494113922119, 5.776226043701172], [-3.362495183944702, -3.405742883682251, 8.03632926940918], [6.469466686248779, -4.329421520233154, -1.6644959449768066], [5.126277923583984, -4.842842102050781, 0.13032536208629608], [-6.2001423835754395, 6.885855197906494, -0.24461545050144196], [-2.8740901947021484, 5.530807018280029, -2.170328140258789], [0.4580891728401184, -4.98246955871582, 5.154217720031738], [-0.9598109126091003, -5.1388444900512695, 6.868793487548828], [-5.6887593269348145, 8.58739948272705, -2.3845748901367188], [-1.6314513683319092, -5.524585723876953, 8.12297534942627], [-2.8024096488952637, 8.089606285095215, -4.710635185241699], [-5.424985885620117, 4.672293186187744, 1.36734139919281], [5.253870487213135, -3.096494436264038, -1.543911099433899], [-3.8864529132843018, 1.0145930051803589, 3.713320732116699], [-1.8698430061340332, 0.2777060866355896, 2.0284318923950195], [-5.596226215362549, 7.965433597564697, -1.9769814014434814], [-0.5300359725952148, -5.774745941162109, 7.447823524475098], [-2.958085536956787, 3.623629331588745, -0.2841539680957794], [-4.341286659240723, 4.293902397155762, 0.4889247417449951], [6.495759963989258, -4.608047962188721, -1.4110451936721802], [5.282468318939209, -2.2742536067962646, -2.6377062797546387], [-1.1039321422576904, 0.29389438033103943, 1.1975458860397339], [-1.8296077251434326, 0.10595310479402542, 2.178256034851074], [-2.3588287830352783, -1.1162285804748535, 4.460003852844238], [1.294851303100586, -4.351977348327637, 3.6081061363220215], [-3.104448080062866, -2.406059980392456, 6.212726593017578], [-3.826326370239258, 7.0250043869018555, -2.725493907928467], [-2.123689889907837, 5.98248291015625, -3.3985118865966797], [-3.134643316268921, 6.686740875244141, -3.035602569580078], [6.525191783905029, -4.681184768676758, -1.3453445434570312], [4.965269565582275, -0.35890254378318787, -4.066321849822998], [3.9083220958709717, -1.025457739830017, -2.5482702255249023], [-2.615699529647827, -5.240970134735107, 9.342302322387695], [-5.165430068969727, 7.27116584777832, -1.6558085680007935], [-1.6731841564178467, -0.9678102135658264, 3.044698715209961], [-4.283578395843506, 4.9193854331970215, -0.266430139541626], [-1.6942243576049805, 2.314974069595337, -0.2802331745624542], [8.315131187438965, -5.818568229675293, -1.8354923725128174], [5.482035160064697, -4.286617755889893, -0.6478164792060852], [7.490583896636963, -5.898855209350586, -0.9954572916030884], [7.980842113494873, -6.7247633934021, -0.6959470510482788], [-4.389795303344727, 5.941406726837158, -1.0801976919174194], [-3.948240041732788, 5.362737655639648, -1.0179316997528076], [-2.957789897918701, 6.702239036560059, -3.237722396850586], [-1.6503520011901855, -1.1911449432373047, 3.576826810836792], [-3.9093661308288574, 5.267274379730225, -0.9248188734054565], [-0.5145749449729919, -2.582244396209717, 3.785308837890625], [-5.420842170715332, 6.672979354858398, -0.8794724941253662], [-1.7497472763061523, -2.451317310333252, 4.908421516418457], [-4.470284938812256, 5.156201362609863, -0.34918028116226196], [7.005865097045898, -5.63443660736084, -0.8987534046173096], [-3.7111525535583496, -2.4617936611175537, 7.389453887939453], [1.3678457736968994, -5.9221038818359375, 5.274173736572266], [-1.9564576148986816, -3.8384804725646973, 6.6228108406066895], [-2.5196373462677, -0.674080491065979, 4.18253755569458], [-1.968198299407959, -0.7732531428337097, 3.3579373359680176], [-0.13108091056346893, -3.6717889308929443, 4.458287715911865], [-2.3126957416534424, -0.916997492313385, 3.8904902935028076], [5.675278186798096, -3.728433847427368, -1.6350301504135132], [5.371222019195557, -3.0138611793518066, -1.778173565864563], [4.876474380493164, -1.2061227560043335, -3.1118531227111816], [-0.6996596455574036, 0.7739585041999817, 0.35371994972229004], [-3.538456678390503, 5.0069990158081055, -1.0609583854675293], [6.24595308303833, -5.071907997131348, -0.7594570517539978], [-4.409301280975342, 7.375567436218262, -2.4455723762512207], [-0.41743341088294983, -7.151101112365723, 8.501002311706543], [-3.5840065479278564, 4.822633743286133, -0.7972322702407837], [6.615084171295166, -3.126582622528076, -2.9380178451538086], [-3.398934841156006, 7.0289506912231445, -3.2151448726654053], [-5.425857067108154, 5.509391784667969, 0.3271711468696594], [0.3228256106376648, -3.391818046569824, 3.657855987548828], [8.4443941116333, -5.578957557678223, -2.248414993286133], [-2.7487833499908447, -3.202319383621216, 7.016580104827881], [-5.3634867668151855, 9.245566368103027, -3.3778181076049805], [-0.11057358235120773, -1.6604633331298828, 2.4586215019226074], [0.5786693692207336, -3.0733485221862793, 3.1109261512756348], [5.2961554527282715, -6.150879383087158, 1.3243649005889893], [-2.8736584186553955, 0.9103185534477234, 2.8941941261291504], [-2.493443012237549, -3.457150936126709, 6.689667701721191], [-2.754049062728882, 4.396052360534668, -1.1945089101791382], [7.391464710235596, -5.591091156005859, -1.2958530187606812], [-4.173759937286377, 7.672247886657715, -3.0260841846466064], [6.008808612823486, -3.8200631141662598, -1.8148223161697388], [8.28808879852295, -6.528610706329346, -1.1981242895126343], [-5.907840251922607, 7.235971450805664, -0.7068681120872498], [-1.9094212055206299, -4.489777565002441, 7.636343479156494], [-2.957670211791992, 3.702805280685425, -0.19702257215976715], [-2.486947536468506, 3.7437503337860107, -0.9041760563850403], [-3.8923542499542236, 4.813360214233398, -0.5493051409721375], [-2.4634735584259033, 5.49465274810791, -2.559502124786377], [3.2938058376312256, 0.6973015069961548, -3.437215805053711], [4.476070880889893, -3.900569438934326, -0.1344997137784958], [-3.5277764797210693, 4.877588748931885, -0.920966386795044], [2.810851812362671, -0.05241670459508896, -2.343174934387207], [-3.591848611831665, 5.386717796325684, -1.3951953649520874], [7.471945762634277, -6.211153984069824, -0.6184335350990295], [-2.3493220806121826, 3.670694589614868, -0.9156197905540466], [-3.9893581867218018, 2.403824806213379, 2.074235677719116], [-4.120132923126221, 2.810086727142334, 1.9060097932815552], [6.820046901702881, -5.954004764556885, -0.40928903222084045], [5.24062442779541, -4.156229496002197, -0.7142922878265381], [-3.5881359577178955, 2.4083917140960693, 1.6532522439956665], [-3.767948865890503, 6.419393539428711, -2.2279443740844727], [-3.3500256538391113, 3.448967456817627, 0.2591654658317566], [-0.45449721813201904, 1.7408254146575928, -1.0074259042739868], [-5.208748817443848, 7.5747599601745605, -1.8944283723831177], [-0.19282060861587524, -3.9395205974578857, 4.798343658447266], [-5.035402774810791, 4.6200032234191895, 0.9003499150276184], [-0.43819814920425415, -3.3702118396759033, 4.4663238525390625], [-4.276862144470215, 3.8336880207061768, 0.9755371809005737], [1.4417481422424316, -4.348410606384277, 3.7419419288635254], [8.110798835754395, -6.505068302154541, -1.0355268716812134], [-2.487165689468384, 4.24575138092041, -1.3919178247451782], [8.280996322631836, -6.515616416931152, -1.185120701789856], [-6.136889934539795, 6.995376110076904, -0.43789058923721313], [9.01801872253418, -6.993391990661621, -1.4112141132354736], [4.9002461433410645, -5.099420547485352, 0.6227568984031677], [-2.5979654788970947, 2.3707163333892822, 0.5801615118980408], [4.722046375274658, -4.226802825927734, -0.11447770148515701], [3.258699655532837, -2.423722982406616, -0.47501733899116516], [7.2189106941223145, -3.8359735012054443, -2.8141908645629883], [5.721140384674072, -1.375619649887085, -3.730806350708008], [-4.14412260055542, -3.3197622299194336, 8.717944145202637], [4.229223728179932, -1.0303162336349487, -2.7873620986938477], [-2.859602212905884, 5.702343940734863, -2.3398525714874268], [-0.6618072390556335, 0.46666717529296875, 0.43688586354255676], [9.976861000061035, -7.092804908752441, -2.2132461071014404], [-0.08101014792919159, -4.281261920928955, 5.5031657218933105], [-4.166392803192139, -2.2688634395599365, 7.395176887512207], [-3.2714078426361084, -3.394728899002075, 7.819704055786133], [5.937341213226318, -2.2172939777374268, -3.251835346221924], [5.906350612640381, -3.498661756515503, -1.8646596670150757], [-5.842588901519775, 6.675451278686523, -0.4895750880241394], [0.9997934699058533, -3.221626043319702, 2.6734864711761475], [-4.335793972015381, 6.463219165802002, -1.6360541582107544], [7.8387274742126465, -6.645298957824707, -0.6741743683815002], [4.840578556060791, -2.6936850547790527, -1.6914583444595337], [1.7804272174835205, 1.7239954471588135, -3.0126097202301025], [0.47372013330459595, -5.329927444458008, 5.982004165649414], [7.916996479034424, -5.488781929016113, -1.9170260429382324], [-1.3145520687103271, -0.9206785559654236, 2.9126906394958496], [2.4294981956481934, -0.10147725045681, -1.8218821287155151], [5.611267566680908, -3.9803614616394043, -1.2783387899398804], [-5.409434795379639, 7.973299503326416, -2.1323471069335938], [1.4344358444213867, -5.253653526306152, 4.737921237945557], [-0.8455079197883606, -6.740489959716797, 8.932165145874023], [-4.258038520812988, 6.129685878753662, -1.4881638288497925], [-1.0649526119232178, 1.5496940612792969, -0.00882241316139698], [0.6702733039855957, 0.55633145570755, -0.8381798267364502], [-4.497416973114014, -0.5900285840034485, 6.091403961181641], [-0.09846328943967819, -3.315737724304199, 3.978064775466919], [-0.9955642819404602, -2.9235360622406006, 4.54052734375], [-4.117447376251221, 4.873547554016113, -0.43411707878112793], [5.4213080406188965, -3.342071533203125, -1.4680255651474], [-3.6755917072296143, 2.691938638687134, 1.3743799924850464], [6.9132466316223145, -4.390042304992676, -1.9523065090179443], [-2.2338244915008545, -0.8849382996559143, 3.63400936126709], [5.7608208656311035, -4.113290786743164, -1.3429090976715088], [-1.2265088558197021, -1.974382758140564, 3.6917922496795654], [0.31681469082832336, 2.7999751567840576, -2.5273191928863525], [-1.7833647727966309, -5.155852794647217, 8.060528755187988], [-2.936171293258667, 3.3998048305511475, -0.21727384626865387], [-1.9209609031677246, 4.040500164031982, -1.5846501588821411], [2.193228006362915, 2.4062228202819824, -4.100805282592773], [-6.241386890411377, 7.896965980529785, -1.1854945421218872], [6.000551700592041, -4.809847831726074, -0.7472250461578369], [-3.2988247871398926, -2.619055986404419, 6.641124725341797], [-4.664264678955078, 6.1223955154418945, -1.0969209671020508], [-2.502436876296997, -2.5543835163116455, 6.181339263916016], [-1.3789119720458984, 0.8995619416236877, 0.8459255695343018], [-4.118967533111572, 6.452263355255127, -1.8438570499420166], [3.073946952819824, -5.585634708404541, 3.254300594329834], [-2.9752771854400635, -1.106214165687561, 4.871111869812012], [2.391187906265259, -1.3628089427947998, -0.7652193307876587], [4.993704795837402, -2.328275442123413, -2.172546863555908], [5.133893966674805, -2.8843770027160645, -1.8040934801101685], [-0.8204343318939209, 3.827040433883667, -2.611684799194336], [-4.714400768280029, 3.3132121562957764, 1.8438774347305298], [4.923549652099609, -4.180777549743652, -0.4711286723613739], [-2.513587474822998, 0.028119530528783798, 2.9433155059814453], [8.012041091918945, -3.815798044204712, -3.587116003036499], [7.97204065322876, -5.753674507141113, -1.7254093885421753], [-2.2118194103240967, -5.185966491699219, 8.212442398071289], [-2.8598010540008545, 5.115048408508301, -1.8867114782333374], [-1.696427345275879, -2.0790650844573975, 4.517297744750977], [-3.5832042694091797, 5.517343521118164, -1.4272018671035767], [-4.264758586883545, 6.297197341918945, -1.5989753007888794], [-2.9425902366638184, 4.958550930023193, -1.5549561977386475], [-0.7866228222846985, -1.2731170654296875, 2.5468876361846924], [5.790137767791748, -3.09025502204895, -2.4018352031707764], [-4.966763496398926, 7.31767463684082, -1.9075220823287964], [5.093131065368652, -2.907986879348755, -1.678218960762024], [-5.406083583831787, 5.08779764175415, 0.7384800910949707], [-5.440095901489258, 5.099312782287598, 0.7376673221588135], [-3.115140676498413, 5.478758335113525, -1.9852863550186157], [-1.2574923038482666, -1.7624577283859253, 3.612194299697876], [6.62835168838501, -6.245911121368408, -0.006973998621106148], [-2.8703479766845703, 1.464521884918213, 1.806989073753357], [-2.485907793045044, -3.577800989151001, 7.103153228759766], [-3.7936394214630127, 4.319134712219238, -0.18277063965797424], [-3.86732816696167, 4.6243109703063965, -0.42289745807647705], [-4.566685676574707, 7.3572163581848145, -2.360598564147949], [-4.7169413566589355, 5.75430965423584, -0.6077896356582642], [-5.018923759460449, 5.273850440979004, 0.21605846285820007], [-4.8261799812316895, 6.611294746398926, -1.3720332384109497], [-0.00418892502784729, -1.4456706047058105, 1.8934589624404907], [-1.853264331817627, -0.7615495324134827, 3.311420202255249], [-3.348670244216919, 3.9722588062286377, -0.08717876672744751], [-4.2179179191589355, 3.6074087619781494, 1.1159964799880981], [-4.688137531280518, 5.416053771972656, -0.36831945180892944], [-2.5884251594543457, 3.833275079727173, -0.8347948789596558], [-2.425607919692993, 1.5426340103149414, 1.2328795194625854], [5.2140092849731445, -0.8393554091453552, -4.031747817993164], [-0.09326285868883133, -2.7249391078948975, 3.284843921661377], [-3.135629653930664, 3.536597967147827, 0.01680092327296734], [-1.3981282711029053, 0.724970281124115, 1.0295535326004028], [-1.642564296722412, -3.610722780227661, 5.897604942321777], [-2.0092365741729736, 4.723550796508789, -2.283276319503784], [-3.591587543487549, 5.0775861740112305, -1.0567320585250854], [-2.588387966156006, 4.383014678955078, -1.3321477174758911], [7.558374881744385, -6.21434211730957, -0.695845365524292], [-2.4218931198120117, 5.959407329559326, -3.0253820419311523], [-3.664414882659912, 5.344118118286133, -1.2855678796768188], [3.7747766971588135, -2.4504482746124268, -1.0410678386688232], [-5.2619948387146, 5.855020046234131, -0.16817764937877655], [-1.5422399044036865, 5.274265766143799, -3.20033597946167], [-4.7972588539123535, 6.895514965057373, -1.656316876411438], [-6.071159839630127, 9.150595664978027, -2.6163482666015625], [7.002136707305908, -5.983492374420166, -0.5440574884414673], [1.755281925201416, -4.024317741394043, 2.81813383102417], [-1.887460708618164, -3.009638786315918, 5.778652191162109], [7.622703552246094, -6.823626518249512, -0.3013429343700409], [-4.19154691696167, 7.45285701751709, -2.831275224685669], [-3.014995813369751, -2.4376637935638428, 6.60462760925293], [7.7044548988342285, -3.08618426322937, -4.00308895111084], [6.179906368255615, -4.076411724090576, -1.4688917398452759], [-3.086108922958374, 4.861339092254639, -1.369377613067627], [0.9000219106674194, 1.5405149459838867, -1.904197096824646], [3.985646963119507, -1.9767581224441528, -1.697672963142395], [1.8091943264007568, 0.25814563035964966, -1.4707697629928589], [7.56190299987793, -5.648012161254883, -1.4250848293304443], [-0.6391279697418213, -3.972752332687378, 5.227843284606934], [6.529469013214111, -2.7487213611602783, -3.223137855529785], [-3.929412841796875, 4.887777328491211, -0.5797989368438721], [-2.4112112522125244, -2.7500998973846436, 6.104022979736328], [-1.3607127666473389, -1.4057419300079346, 3.2373745441436768], [-2.039226770401001, 2.4689013957977295, -0.091390460729599], [-6.1232147216796875, 7.982926368713379, -1.4436662197113037], [-4.516725063323975, 5.368936538696289, -0.38420239090919495], [7.432339191436768, -5.897491455078125, -1.0279897451400757], [5.766021251678467, -4.225378513336182, -1.2430146932601929], [-3.354741334915161, 6.29081916809082, -2.5163376331329346], [9.284399032592773, -5.706527233123779, -2.879847526550293], [5.976755619049072, -4.166835784912109, -1.4293705224990845], [1.2780301570892334, -0.654662549495697, -0.05317443609237671], [-4.673312664031982, 5.43459415435791, -0.3138941526412964], [6.616837024688721, -5.362692832946777, -0.8036215305328369], [6.849139213562012, -5.460190773010254, -0.93941330909729], [0.9766681790351868, -2.8700478076934814, 2.3345704078674316], [-4.951390266418457, 7.734448432922363, -2.341984510421753], [-5.272792816162109, 7.9826555252075195, -2.3106846809387207], [9.329529762268066, -6.976434707641602, -1.7614349126815796], [-4.26298189163208, 7.354961395263672, -2.635931968688965], [-3.9111452102661133, 7.3433074951171875, -2.9593658447265625], [5.795283794403076, -1.4120653867721558, -3.8565378189086914], [6.960538387298584, -3.4373385906219482, -2.934088706970215], [-4.536896705627441, 6.7219624519348145, -1.7487951517105103], [2.8594987392425537, 0.13349173963069916, -2.4275870323181152], [5.508896350860596, -1.9161121845245361, -3.0060222148895264], [-5.158573150634766, -6.217958450317383, 12.583271026611328], [-4.8625030517578125, -1.1934401988983154, 7.027183532714844], [-6.10009241104126, 9.05094051361084, -2.4721014499664307], [-2.1035735607147217, 5.030209541320801, -2.441281795501709], [-1.0649425983428955, 1.2022640705108643, 0.5795830488204956], [0.10000337660312653, -3.94962215423584, 4.796820640563965], [0.7100870013237, -0.7877328395843506, 0.6091197729110718], [-2.9659810066223145, -2.7281651496887207, 6.684351921081543], [3.2464230060577393, -0.8895436525344849, -1.8618686199188232], [5.232004642486572, -3.5058443546295166, -1.3592969179153442], [-0.024931006133556366, -3.5294721126556396, 4.295328617095947], [-0.8330816626548767, 0.2631877660751343, 0.9898329973220825], [-0.1740720123052597, -0.8670855760574341, 1.3002760410308838], [5.597245216369629, -5.34499454498291, 0.2575125992298126], [6.254038333892822, -4.297222137451172, -1.4863945245742798], [6.617437839508057, -2.7456653118133545, -3.295428991317749], [-2.74969220161438, 5.785834312438965, -2.537808418273926], [-3.173867702484131, -1.1678255796432495, 4.995927810668945], [-3.8209116458892822, -0.5122764706611633, 5.250190258026123], [0.6378279328346252, -2.7645537853240967, 2.7991442680358887], [6.006702423095703, -3.165459394454956, -2.329791307449341], [0.09497492015361786, -3.935319423675537, 4.436460018157959], [5.7679901123046875, -4.371159076690674, -1.0841894149780273], [3.1066362857818604, -0.12887540459632874, -2.6774978637695312], [7.390897274017334, -6.311079502105713, -0.5787324905395508], [-0.7832046747207642, 4.098926544189453, -2.8624839782714844], [-4.017151355743408, -3.995335340499878, 9.18450927734375], [-4.796417713165283, -6.550960540771484, 12.515515327453613], [-3.370239496231079, -4.409233093261719, 9.019366264343262], [-5.1099629402160645, 7.25062370300293, -1.7681164741516113], [-3.6182210445404053, 4.512565612792969, -0.5482169985771179], [0.3813421130180359, -3.6192445755004883, 3.7349393367767334], [4.3082804679870605, -2.644913911819458, -1.2251683473587036], [-3.130434274673462, 2.290616035461426, 1.249940276145935], [-1.9894275665283203, -3.5428240299224854, 6.643755912780762], [2.309431314468384, -1.394390344619751, -0.4805572032928467], [-4.44456148147583, 2.7642056941986084, 2.4754514694213867], [-3.111524820327759, -1.737463116645813, 5.654431343078613], [-4.500502109527588, 5.481253623962402, -0.6208056211471558], [-0.4736168086528778, 2.399543523788452, -1.4841117858886719], [0.695358157157898, 0.836094081401825, -1.179098129272461], [-4.99395227432251, 7.144034385681152, -1.707825779914856], [-0.35508468747138977, -4.345004081726074, 5.379366397857666], [-2.906067132949829, 1.7502589225769043, 1.5701195001602173], [5.5056915283203125, -3.7621877193450928, -1.4186252355575562], [3.5969741344451904, -1.189751386642456, -1.9682139158248901], [-4.700062274932861, 8.126851081848145, -2.920975923538208], [-2.3202219009399414, -1.680182933807373, 4.573428153991699], [0.9037397503852844, 2.2742602825164795, -2.7274723052978516], [1.593848466873169, -2.677377462387085, 1.4954406023025513], [5.08118200302124, -3.7750985622406006, -0.8773870468139648], [8.116442680358887, -5.654003620147705, -1.8382166624069214], [2.257814645767212, -4.798305034637451, 3.0653061866760254], [8.301377296447754, -5.816449165344238, -1.8274427652359009], [-2.773452043533325, 1.672354817390442, 1.473157525062561], [0.6350465416908264, -2.152003049850464, 2.052490472793579], [-2.254615068435669, -0.5676388144493103, 3.2834720611572266], [-4.633659839630127, 6.586633682250977, -1.48052978515625], [6.041107654571533, -2.5855305194854736, -2.904057741165161], [7.121602535247803, -3.7359960079193115, -2.8882923126220703], [-3.43461275100708, 5.505022048950195, -1.6309038400650024], [-6.1163105964660645, 8.309159278869629, -1.761649489402771], [7.102546215057373, -5.519553184509277, -1.1179710626602173], [-5.316783905029297, 8.370515823364258, -2.5101938247680664], [-1.0903208255767822, 3.537912130355835, -2.045243978500366], [-3.034926652908325, -2.8404295444488525, 6.8893585205078125], [3.9152748584747314, -4.135654926300049, 0.6145913600921631], [-3.2803051471710205, 3.4792802333831787, 0.18905837833881378], [7.649386882781982, -5.709142684936523, -1.3582996129989624], [-5.602476596832275, 8.122858047485352, -2.0698330402374268], [-1.278428316116333, -2.0022430419921875, 4.279870510101318], [-0.16195553541183472, -2.6965043544769287, 3.38104510307312], [-2.9025461673736572, 1.9697380065917969, 1.3070963621139526], [8.201269149780273, -5.8942975997924805, -1.713532567024231], [3.34272837638855, 0.7725644707679749, -3.6119613647460938], [-0.9742586016654968, 1.4505220651626587, -0.058771826326847076], [-3.5339267253875732, 3.4350063800811768, 0.49535536766052246], [5.464417457580566, -4.08912467956543, -1.014608383178711], [-3.9977192878723145, -3.1276657581329346, 8.361736297607422], [1.5541348457336426, 0.9122077822685242, -1.9042702913284302], [5.97504997253418, -5.69248628616333, 0.1976029872894287], [-3.2203776836395264, 3.6814608573913574, -0.1631517857313156], [-2.5033628940582275, -3.848223924636841, 7.506297588348389], [-3.6167662143707275, -3.943591833114624, 8.37328815460205], [-0.9450963139533997, -1.056884765625, 2.3941173553466797], [7.85615348815918, -5.892733097076416, -1.3762069940567017], [7.327564716339111, -3.6831040382385254, -3.000370979309082], [-2.962585210800171, -4.709511756896973, 8.928409576416016], [3.761535167694092, -3.0611894130706787, -0.47772619128227234], [-5.747473239898682, 9.072975158691406, -2.805851459503174], [8.458917617797852, -5.5870184898376465, -2.2866010665893555], [0.12063899636268616, 1.9971662759780884, -1.641375184059143], [-5.2590107917785645, 8.348345756530762, -2.648085594177246], [-0.6505062580108643, -2.915865659713745, 4.2382354736328125], [7.094976902008057, -2.5541656017303467, -3.922975540161133], [-2.0247223377227783, 0.5700530409812927, 1.8420530557632446], [-2.238201856613159, 2.596285104751587, 0.14458943903446198], [-0.7715193033218384, 0.4919159412384033, 0.5638417601585388], [-1.529723882675171, -2.879380464553833, 5.167448997497559], [-2.7673261165618896, 4.40135383605957, -1.2428094148635864], [-4.759671688079834, 3.7345669269561768, 1.4455639123916626], [-1.2810437679290771, -2.38077974319458, 4.434761047363281], [-2.5174314975738525, 4.2715654373168945, -1.3477951288223267], [-0.5935933589935303, 1.662550926208496, -0.7180976867675781], [-3.736800193786621, 6.851449489593506, -2.653679370880127], [-2.526261806488037, -0.36061227321624756, 3.417361259460449], [-4.080610752105713, 4.355318069458008, 0.14201860129833221], [-2.5283567905426025, 2.274477243423462, 0.5783599615097046], [4.268121242523193, -1.3642354011535645, -2.4246938228607178], [3.930215358734131, -1.5375279188156128, -2.018296241760254], [2.5333259105682373, 0.5227752923965454, -2.540879487991333], [-2.76947021484375, -1.5736501216888428, 4.934118270874023], [-2.849273681640625, -4.64315938949585, 8.307966232299805], [5.692426681518555, -4.773972511291504, -0.5558692216873169], [-2.2569897174835205, 2.748857021331787, -0.08311614394187927], [-0.26006799936294556, -2.11213755607605, 2.8277587890625], [-4.48866605758667, 5.409214019775391, -0.6074175834655762], [-1.9433343410491943, 0.2229287177324295, 2.2257533073425293], [8.373285293579102, -6.542252540588379, -1.2969123125076294], [5.421810626983643, -2.311622381210327, -2.5526514053344727], [-3.232175588607788, 4.060428619384766, -0.421129435300827], [-3.3666019439697266, 6.137216567993164, -2.33042573928833], [-5.372504711151123, 6.473807334899902, -0.7252858281135559], [5.240279674530029, -4.763026714324951, -0.08239972591400146], [6.597036361694336, -3.95751953125, -2.0689449310302734], [4.583676815032959, -0.47708091139793396, -3.5079524517059326], [-5.180715560913086, 5.906560897827148, -0.33734238147735596], [-1.9100914001464844, -5.143407821655273, 7.826496124267578], [-4.488612651824951, 1.0902049541473389, 3.8973548412323], [3.6195104122161865, -0.9839873909950256, -2.2784063816070557], [-4.569105625152588, 6.463747978210449, -1.4106117486953735], [6.854081630706787, -5.512360095977783, -0.788383960723877], [4.257546901702881, -3.5317938327789307, -0.28110355138778687], [-2.7870309352874756, 4.878605365753174, -1.6510542631149292], [1.9405810832977295, 0.8044155240058899, -2.173905372619629], [-5.544841289520264, 7.748970985412598, -1.7526730298995972], [5.56731653213501, -4.771286964416504, -0.20983947813510895], [-4.5356926918029785, 3.9732203483581543, 0.9242793321609497], [-4.742494583129883, 6.809201240539551, -1.6577504873275757], [-1.0834131240844727, 3.8597536087036133, -2.322648763656616], [6.0143818855285645, -4.187501430511475, -1.453603982925415], [-4.780362606048584, 3.5801007747650146, 1.7183934450149536], [8.790989875793457, -6.726759910583496, -1.4184142351150513], [7.600335597991943, -5.470660209655762, -1.6309722661972046], [-0.5270195603370667, 3.2641732692718506, -2.2231221199035645], [-2.779095411300659, 4.495870590209961, -1.3243266344070435], [-2.8860766887664795, 3.614882469177246, -0.2466992437839508], [-4.2863593101501465, 6.4090576171875, -1.6499005556106567], [-2.7920620441436768, 5.44322395324707, -2.2283594608306885], [-3.3546760082244873, 6.988006114959717, -3.1288909912109375], [2.0750927925109863, -1.955704927444458, 0.2990078926086426], [-3.0120327472686768, 6.035286903381348, -2.482731819152832], [-1.2082090377807617, -4.778400421142578, 6.628722667694092], [-1.6416876316070557, -0.520626962184906, 2.761812925338745], [-1.3092048168182373, 2.427716016769409, -0.7622830271720886], [-1.726595401763916, 1.7611033916473389, 0.3189849853515625], [-0.7397230863571167, 0.8181742429733276, 0.34372082352638245], [-1.6143555641174316, -0.5605395436286926, 2.8676774501800537], [5.0749616622924805, -1.7864646911621094, -2.7204740047454834], [2.4574358463287354, 0.9572486281394958, -3.058784246444702], [0.6102058291435242, -3.838502883911133, 3.767890453338623], [0.8181185126304626, -5.7127790451049805, 5.937757968902588], [5.023296356201172, -2.287827253341675, -2.2774953842163086], [-3.9541165828704834, 7.928940773010254, -3.5048766136169434], [4.836349010467529, -1.3735767602920532, -3.044964551925659], [4.080506324768066, -2.9246985912323, -0.8008267879486084], [-4.0965189933776855, 6.803142547607422, -2.293221950531006], [-1.9166843891143799, 3.0911929607391357, -0.7553003430366516], [5.735957622528076, -3.994340658187866, -1.3074266910552979], [-4.074685573577881, 4.600374221801758, 0.0036106761544942856], [1.6963410377502441, -1.630722999572754, 0.4122236967086792], [-3.9638941287994385, 6.609588623046875, -2.187394380569458], [8.065279006958008, -6.5671706199646, -0.8579236268997192], [5.589548110961914, -4.263809680938721, -0.8867390155792236], [-2.857140302658081, -3.0257279872894287, 6.783280849456787], [-1.4743568897247314, -2.215341329574585, 4.284722328186035], [-5.960835933685303, 8.631731033325195, -2.245657205581665], [5.679357051849365, -3.349764108657837, -1.9493401050567627], [2.41894268989563, -1.036508321762085, -1.0075769424438477], [-1.133556604385376, 0.09734588861465454, 1.3673745393753052], [8.538043975830078, -6.744513988494873, -1.2067067623138428], [-5.10784387588501, 7.300901412963867, -1.7668216228485107], [-2.8354406356811523, 2.0360028743743896, 1.1986037492752075], [2.2206826210021973, -0.1257752627134323, -1.6751991510391235], [-6.430984020233154, 7.780388355255127, -0.8392281532287598], [5.700972080230713, -3.477172613143921, -1.8382928371429443], [-5.1484856605529785, 7.228643417358398, -1.6126374006271362], [4.976813793182373, -4.250060558319092, -0.49440959095954895], [2.062394380569458, 0.22624462842941284, -1.8334084749221802], [-4.265377044677734, 5.812018394470215, -1.1743077039718628], [-1.972855806350708, 4.289018154144287, -1.9543684720993042], [-0.6719743609428406, -2.8650758266448975, 4.075275421142578], [-4.804766654968262, 6.7092509269714355, -1.4313008785247803], [-4.244439125061035, 7.915201187133789, -3.229393243789673], [-2.0723462104797363, 0.5458138585090637, 2.082388401031494], [-1.1158370971679688, -4.811548709869385, 6.879777908325195], [4.699045181274414, -1.2371915578842163, -3.0633692741394043], [6.372685432434082, -2.9759371280670166, -2.775634765625], [-1.0371851921081543, 3.1214988231658936, -1.661542534828186], [-4.435666561126709, 7.279873847961426, -2.407041549682617], [-4.454848289489746, -3.0670950412750244, 8.492071151733398], [-2.2465829849243164, 1.0524019002914429, 1.8676385879516602], [-4.496492862701416, -4.804880142211914, 10.425572395324707], [7.944931507110596, -5.751348495483398, -1.664493203163147], [6.004906177520752, -4.800567626953125, -0.7126292586326599], [-3.0982329845428467, 5.804740905761719, -2.3110852241516113], [-2.0633983612060547, 2.827770709991455, -0.3548673689365387], [5.153870582580566, -2.893167734146118, -1.7690776586532593], [6.148570537567139, -1.0655581951141357, -4.500388145446777], [-4.404512882232666, 2.233595132827759, 2.5730795860290527], [7.353957176208496, -5.073198318481445, -1.7144972085952759], [9.44831371307373, -6.467445373535156, -2.3853931427001953], [7.009799957275391, -5.666661262512207, -0.8441563844680786], [7.076344966888428, -5.217294692993164, -1.4529998302459717], [-2.6062357425689697, -0.6284785270690918, 3.8292269706726074], [7.246170520782471, -6.340397834777832, -0.45712780952453613], [6.4426069259643555, -5.545951843261719, -0.414253294467926], [-5.186091899871826, 6.877130508422852, -1.30411696434021], [-4.078545093536377, 4.094540596008301, 0.37627971172332764], [-1.9315977096557617, 3.671466112136841, -1.270399808883667], [-3.4104697704315186, 5.096719741821289, -1.2376811504364014], [-4.172515392303467, 6.092426300048828, -1.5106914043426514], [-4.276832580566406, 5.928956508636475, -1.2254208326339722], [7.46242094039917, -4.268503189086914, -2.490878105163574], [8.954155921936035, -4.371363639831543, -3.8320608139038086], [9.1776704788208, -6.378266334533691, -2.233290672302246], [-0.6908428072929382, -3.4828202724456787, 4.829501152038574], [-0.7908098697662354, -6.65614652633667, 8.797691345214844], [-4.420559406280518, 5.012637138366699, -0.21861493587493896], [5.206150531768799, -2.489711046218872, -2.316599130630493], [-5.162477016448975, 7.489853382110596, -1.8901749849319458], [0.6339301466941833, -4.790654182434082, 4.986964702606201], [-2.342108726501465, 2.8107287883758545, -0.13427899777889252], [7.436802387237549, -5.670384407043457, -1.27323579788208], [6.0143609046936035, -4.207797527313232, -1.3822072744369507], [-2.8886919021606445, 4.447512626647949, -1.1389387845993042], [-2.2343854904174805, -1.1799473762512207, 4.158425331115723], [7.5698065757751465, -5.2752532958984375, -1.714015007019043], [-2.255570411682129, -4.011213302612305, 7.53043270111084], [-3.8919060230255127, 6.194376468658447, -1.8224533796310425], [7.510677337646484, -5.6975274085998535, -1.279594898223877], [2.3859622478485107, -3.640505790710449, 1.803955078125], [-4.852255821228027, 6.602730751037598, -1.3532427549362183], [7.535477638244629, -5.113779067993164, -1.926813006401062], [-3.089669942855835, 3.639066457748413, -0.22644399106502533], [-3.7843263149261475, 4.826600551605225, -0.5761523246765137], [-3.4047043323516846, 4.076234340667725, -0.24491479992866516], [-0.3591267466545105, -2.8562610149383545, 3.9573559761047363], [0.5018811821937561, -4.499342918395996, 4.700360298156738], [5.659185409545898, -4.089694499969482, -1.0914676189422607], [-4.852310657501221, 5.545801162719727, -0.29256904125213623], [-3.8810243606567383, 6.567180633544922, -2.234330892562866], [-2.8708226680755615, 5.169787406921387, -1.8773332834243774], [-2.192993640899658, 3.741197347640991, -1.1170367002487183], [-2.4017670154571533, -0.5338926911354065, 3.441634178161621], [-4.0706071853637695, 5.897487640380859, -1.370293140411377], [3.8762006759643555, -1.754511833190918, -1.5954744815826416], [-3.3262832164764404, 4.607025623321533, -0.8839733004570007], [-3.2542850971221924, -0.8869428634643555, 4.719531059265137], [-1.3306727409362793, -0.45330142974853516, 2.2381277084350586], [-2.91451096534729, 5.082733154296875, -1.8210276365280151], [-1.615457534790039, -2.161036252975464, 4.465938568115234], [4.862764358520508, -5.227164268493652, 0.8392263054847717], [2.8218090534210205, -0.5176092386245728, -1.904953122138977], [-5.473161697387695, 9.657256126403809, -3.651951789855957], [3.733250617980957, -3.3474912643432617, -0.006002830341458321], [-4.954081058502197, 7.900379180908203, -2.5045738220214844], [-3.458470106124878, 4.939807891845703, -1.1612614393234253], [4.259646892547607, -0.9791370630264282, -2.7034618854522705], [-5.056464672088623, 4.319368362426758, 1.1759203672409058], [-4.992554187774658, 7.3606061935424805, -1.9086636304855347], [-1.6137912273406982, 1.0256754159927368, 0.8739258050918579], [8.307001113891602, -6.723260879516602, -0.9170850515365601], [-2.4013962745666504, 5.251450538635254, -2.382357358932495], [7.361298084259033, -5.146083831787109, -1.6745299100875854], [-1.8759939670562744, 2.918757438659668, -0.6948021650314331], [-4.431136131286621, 3.209869384765625, 1.6438075304031372], [-1.5969507694244385, -0.2702917158603668, 2.548776149749756], [8.869650840759277, -6.7679948806762695, -1.4492483139038086], [5.460368633270264, -2.211179256439209, -2.822657585144043], [5.352724552154541, -3.698601722717285, -1.2971926927566528], [-4.1327433586120605, 5.945348262786865, -1.3683334589004517], [5.931625843048096, -3.470799684524536, -1.886958122253418], [-2.085782766342163, 4.04562520980835, -1.6223443746566772], [7.663082122802734, -4.975370407104492, -2.104700803756714], [5.116115093231201, -1.8426828384399414, -2.8049190044403076], [4.328622341156006, -1.8100273609161377, -2.2339601516723633], [-4.4464240074157715, 5.476363182067871, -0.6065499782562256], [7.761681079864502, -5.874403953552246, -1.4684677124023438], [6.326258182525635, -5.229124546051025, -0.7545472383499146], [6.653698444366455, -4.145111083984375, -1.961114525794983], [6.772594928741455, -4.468071937561035, -1.8384002447128296], [-3.36346697807312, -1.3823268413543701, 5.66741418838501], [-1.1413979530334473, 1.3811060190200806, 0.08632679283618927], [5.521275043487549, -5.670907974243164, 0.538030743598938], [-3.762284278869629, 4.996636390686035, -0.8320320248603821], [6.528406620025635, -3.1158478260040283, -2.892792224884033], [5.979262828826904, -2.139040946960449, -3.3131680488586426], [-4.954346179962158, 5.20792293548584, 0.16841022670269012], [-1.4483833312988281, 4.194724082946777, -2.3470029830932617], [6.540029048919678, -5.2423200607299805, -0.8753587007522583], [-5.633709907531738, 5.040006637573242, 0.9703917503356934], [-4.834555625915527, 6.863438129425049, -1.5764371156692505], [3.9991133213043213, -1.711137294769287, -1.813346028327942], [0.053369998931884766, 0.40591514110565186, -0.08040553331375122], [-4.37216329574585, 5.882376670837402, -1.0876713991165161], [-4.723534107208252, 6.229790687561035, -1.0898889303207397], [-1.9169039726257324, -1.7007207870483398, 4.153080463409424], [-3.8466508388519287, 6.775412559509277, -2.503568410873413], [7.969029903411865, -5.667355537414551, -1.7060301303863525], [-4.441987037658691, 5.739088535308838, -0.8177629113197327], [7.411657333374023, -5.922369003295898, -0.9736006259918213], [-2.7784533500671387, 4.952139854431152, -1.8710004091262817], [5.557192325592041, -4.459214687347412, -0.5877822041511536], [-4.27644157409668, 4.966976642608643, -0.3079959452152252], [-4.148478031158447, 6.115719318389893, -1.3599387407302856], [-2.855147123336792, -3.0956227779388428, 6.708933353424072], [-2.4823055267333984, -3.4072859287261963, 6.676389694213867], [-0.8216428160667419, 1.488709807395935, -0.19560013711452484], [7.04803466796875, -4.56252384185791, -1.9000991582870483], [-5.0424418449401855, 8.174423217773438, -2.6655025482177734], [1.0667922496795654, -0.003924513701349497, -0.6685826778411865], [-0.7369479537010193, -5.730476379394531, 7.286923408508301], [-4.249858856201172, 4.383954048156738, 0.4198789596557617], [-3.1407454013824463, -0.9549642205238342, 4.632629871368408], [-2.079349994659424, -3.86446213722229, 7.012900352478027], [-5.333118438720703, 6.961741924285889, -1.2270394563674927], [8.183067321777344, -6.738480567932129, -0.9205071926116943], [-5.147189617156982, 4.593484878540039, 0.9661554098129272], [-5.168972492218018, -6.834462642669678, 13.477688789367676], [-3.3550055027008057, 2.4534671306610107, 1.303746223449707], [6.464848041534424, -4.323520660400391, -1.6236647367477417], [-4.791893005371094, -2.8501296043395996, 8.95324420928955], [7.153713226318359, -5.455049514770508, -1.3151694536209106], [-0.7927109003067017, 0.5789029598236084, 0.7967281937599182], [5.888392448425293, -2.372659206390381, -2.9042201042175293], [-2.6601991653442383, 0.9555627703666687, 2.1251986026763916], [-5.32227897644043, 8.069518089294434, -2.3078536987304688], [-0.28488537669181824, -4.400081634521484, 5.572556018829346], [7.564866542816162, -5.904586315155029, -1.1559876203536987], [-2.4433906078338623, 2.72725772857666, 0.056288138031959534], [5.071530342102051, -1.9761232137680054, -2.461606979370117], [-3.758864164352417, 4.697659969329834, -0.5737941265106201], [6.563449859619141, -1.9135701656341553, -4.096920013427734], [-2.246311902999878, -5.030106544494629, 8.37444019317627], [-2.245516061782837, 0.723905622959137, 1.9775822162628174], [-3.826456308364868, 0.39881631731987, 3.9928359985351562], [-3.5908901691436768, 6.592199325561523, -2.5148277282714844], [-1.153095006942749, -3.330826997756958, 5.259214878082275], [-3.1473851203918457, -1.5358589887619019, 5.545036792755127], [-4.764023780822754, 5.552718162536621, -0.3335804045200348], [3.505261182785034, -3.3382434844970703, 0.3406372666358948], [-4.989470481872559, 8.266345024108887, -2.774930477142334], [-4.796883583068848, 7.877331733703613, -2.579317808151245], [-4.771481037139893, -1.1954630613327026, 7.116042137145996], [-3.4729745388031006, 5.659951210021973, -1.7297695875167847], [-6.080387592315674, 9.02583122253418, -2.477982759475708], [-0.5349302887916565, 3.0919151306152344, -2.077846050262451], [5.456218719482422, -5.71693754196167, 0.7769515514373779], [-4.3536481857299805, 5.763177871704102, -1.0438774824142456], [-2.696200132369995, 2.9160120487213135, 0.3220936059951782], [-3.953526258468628, 4.865179061889648, -0.36078211665153503], [4.2629194259643555, -0.19483545422554016, -3.493358612060547], [-5.3538289070129395, 8.100045204162598, -2.2952802181243896], [7.717679977416992, -2.9298622608184814, -4.12601375579834], [-3.4479808807373047, 3.7914974689483643, 0.061588823795318604], [-2.8541228771209717, 5.597041130065918, -2.3122811317443848], [7.212047100067139, -5.574695587158203, -1.1921426057815552], [-1.9281120300292969, -4.699239253997803, 7.418427467346191], [-4.318607807159424, 6.334740161895752, -1.5752906799316406], [4.34893274307251, -2.028686285018921, -1.838732361793518], [-2.4380991458892822, 0.9522259831428528, 2.0664114952087402], [-1.053576946258545, -5.877804279327393, 8.140227317810059], [-5.889564037322998, 7.3813371658325195, -1.0823510885238647], [-4.117469310760498, 3.8647425174713135, 0.6628099083900452], [5.441802501678467, -0.9994257092475891, -3.874879837036133], [5.921492099761963, -3.2440288066864014, -2.116612672805786], [-3.5966598987579346, 3.0394809246063232, 1.0076671838760376], [3.9660427570343018, -1.391860008239746, -2.3588294982910156], [0.5556120276451111, -3.649627447128296, 3.678649425506592], [3.9971988201141357, -1.4729335308074951, -2.2220940589904785], [-1.3420987129211426, -2.3642654418945312, 4.335453033447266], [0.7357268929481506, -2.6279296875, 2.335792303085327], [3.307644844055176, -1.2231314182281494, -1.7451227903366089], [-3.689992666244507, -1.0830860137939453, 5.7699503898620605], [8.529364585876465, -6.650739669799805, -1.2149394750595093], [6.080621242523193, -2.5786678791046143, -3.0367350578308105], [4.531912326812744, -2.897580862045288, -1.334055781364441], [-5.739573001861572, 7.167400360107422, -1.0577765703201294], [0.914432168006897, 1.9157304763793945, -2.370800495147705], [-0.4474064111709595, 3.0190775394439697, -2.1226398944854736], [-0.25602197647094727, -3.228693723678589, 4.267483234405518], [0.5997249484062195, -1.0315301418304443, 0.8030151128768921], [3.1831324100494385, -5.132871627807617, 2.4430809020996094], [-3.3080685138702393, 2.582484483718872, 1.3860994577407837], [-4.86298131942749, 7.985762596130371, -2.6029391288757324], [5.546626567840576, -1.2020137310028076, -3.9012374877929688], [-2.6177685260772705, 1.4327484369277954, 1.5696406364440918], [-4.7975335121154785, 6.305439472198486, -1.05996835231781], [6.73441219329834, -5.302914142608643, -0.9568871259689331], [-0.056709110736846924, -2.624166250228882, 3.289372205734253], [8.429435729980469, -6.271157264709473, -1.569921612739563], [-1.179290533065796, 0.7414753437042236, 0.768345296382904], [-2.745485544204712, 3.9644992351531982, -0.8054404258728027], [-0.4949411451816559, -3.0940840244293213, 4.200924873352051], [-4.534348487854004, 3.444098472595215, 1.4993137121200562], [-2.859356164932251, -1.7351295948028564, 5.467742919921875], [-1.018500804901123, 1.5778586864471436, -0.10812041163444519], [-3.215238571166992, 6.436640739440918, -2.7368078231811523], [-5.480963230133057, -5.338508605957031, 12.455143928527832], [-3.4575443267822266, 4.05280876159668, -0.2284439355134964], [-2.6241061687469482, -1.9344429969787598, 5.493006706237793], [-5.2001566886901855, 6.424995422363281, -0.8110324740409851], [-0.6150351166725159, 3.3300764560699463, -2.304544448852539], [3.299928903579712, -0.9581857323646545, -1.8427704572677612], [-1.8161613941192627, -3.0767900943756104, 5.557029724121094], [-6.710307598114014, 9.998991966247559, -2.7965316772460938], [-0.2961341440677643, -4.8214921951293945, 5.819925308227539], [-2.3851850032806396, 1.2743871212005615, 1.4964592456817627], [-1.5451033115386963, 3.7920029163360596, -1.8082391023635864], [6.489344120025635, -3.4811959266662598, -2.620824098587036], [-5.213156700134277, -1.746436357498169, 8.103150367736816], [8.20542049407959, -5.798856735229492, -1.761095643043518], [-4.368594169616699, -7.986494541168213, 13.888418197631836], [1.828857421875, -0.21811753511428833, -1.0440813302993774], [-0.08086727559566498, -2.4645936489105225, 3.0411221981048584], [-2.0675735473632812, 7.258719444274902, -4.6244683265686035], [-2.4645307064056396, 3.327761173248291, -0.42512938380241394], [4.114718914031982, -2.8297717571258545, -0.8523681163787842], [-5.545621395111084, 6.126641273498535, -0.20548342168331146], [-4.1346001625061035, 6.351137638092041, -1.7542542219161987], [-0.8088374733924866, -7.150662422180176, 8.83388614654541], [2.6252834796905518, -2.10036301612854, -0.12282314896583557], [-2.9391660690307617, 4.214773178100586, -0.8927266001701355], [-3.2454030513763428, 6.314020156860352, -2.528326988220215], [8.774206161499023, -6.242178916931152, -2.00618839263916], [-3.9484333992004395, 6.759984970092773, -2.380776882171631], [-1.8621032238006592, -1.9347063302993774, 4.521039009094238], [-4.560235500335693, 5.680593490600586, -0.7137564420700073], [-2.151862621307373, 2.535865068435669, -0.05229083448648453], [-0.22046318650245667, -1.8558337688446045, 2.5504837036132812], [5.1175456047058105, -3.9119038581848145, -0.9131056070327759], [-3.8496861457824707, 6.663238525390625, -2.32492733001709], [6.921118259429932, -5.975615501403809, -0.5203542113304138], [-1.5692627429962158, 2.8509981632232666, -0.9017523527145386], [-0.610059380531311, -0.019931696355342865, 0.937587559223175], [-2.6638906002044678, -2.5383381843566895, 5.816431045532227], [-4.39201545715332, 5.896074295043945, -1.027732491493225], [-1.919034719467163, -2.765754222869873, 5.435799598693848], [-2.659320831298828, 5.807969570159912, -2.7007386684417725], [0.7494065165519714, 1.3005598783493042, -1.5950818061828613], [2.0426769256591797, -2.3181488513946533, 0.638779878616333], [-2.6759088039398193, 1.138540506362915, 2.0141398906707764], [-1.5629305839538574, -4.834264755249023, 7.489933490753174], [-0.6345290541648865, -4.903037071228027, 6.258021831512451], [-2.514708995819092, 4.199333190917969, -1.2663359642028809], [5.02940034866333, -2.189319610595703, -2.4597668647766113], [-2.0072078704833984, -3.0927159786224365, 6.165734767913818], [7.607994079589844, -4.2230424880981445, -2.8595693111419678], [-3.7019236087799072, 6.823851585388184, -2.647244453430176], [-0.4470371603965759, -5.463137626647949, 6.870909690856934], [5.045984745025635, -1.3031457662582397, -3.374645709991455], [1.595210313796997, -1.8624627590179443, 0.8468672037124634], [-3.5917913913726807, 2.9385275840759277, 1.2392079830169678], [-2.38097882270813, 1.6940844058990479, 1.112955927848816], [5.1344804763793945, -2.188351631164551, -2.3528048992156982], [8.254265785217285, -4.47232723236084, -3.187534809112549], [-2.158302068710327, -3.3347110748291016, 6.407462120056152], [-1.1953532695770264, -2.5706536769866943, 4.354435920715332], [2.228878974914551, -7.380164623260498, 6.166023254394531], [-6.523946762084961, 7.856107234954834, -0.9060189723968506], [-0.4225095510482788, -2.1423709392547607, 3.0673842430114746], [5.117411136627197, -4.799248695373535, -0.015352563932538033], [-1.2892746925354004, -3.648796558380127, 5.819235801696777], [5.778698921203613, -5.201716423034668, -0.2455493062734604], [-1.0559911727905273, -2.4812889099121094, 4.142388820648193], [5.725290775299072, -2.572235107421875, -2.56325101852417], [7.9151835441589355, -5.754749298095703, -1.662216067314148], [1.941183090209961, -1.1619826555252075, -0.177012637257576], [4.056192398071289, -4.15866231918335, 0.6182045340538025], [-2.5001184940338135, -3.7141335010528564, 7.259243488311768], [-4.807739734649658, 3.16622257232666, 2.0396366119384766], [-0.34547001123428345, -0.8376068472862244, 1.7191590070724487], [-2.379748582839966, 5.607987880706787, -2.7628746032714844], [3.263200044631958, -2.628514051437378, -0.19799558818340302], [-4.126597881317139, 7.240779876708984, -2.6820695400238037], [0.46990248560905457, 0.6617370247840881, -0.7131434679031372], [6.566650867462158, -5.933148384094238, -0.2793327271938324], [-0.6766570806503296, -1.777406930923462, 2.9597268104553223], [4.2266011238098145, -5.4444122314453125, 1.7859402894973755], [5.044434070587158, -3.8536336421966553, -0.775017261505127], [-3.705378293991089, 6.2895097732543945, -2.1564223766326904], [6.014532566070557, -3.8129804134368896, -1.7098698616027832], [5.620333194732666, -2.275676965713501, -2.797992706298828], [3.0482211112976074, 0.130279541015625, -2.59722900390625], [-0.32090526819229126, -1.0089472532272339, 1.6935268640518188], [-6.300227642059326, 5.097771167755127, 1.7420903444290161], [-1.8717944622039795, 0.6895279288291931, 1.593115210533142], [-5.389807224273682, 7.558165550231934, -1.7057009935379028], [-4.504244804382324, 6.598318099975586, -1.691680669784546], [5.459366321563721, -3.4234492778778076, -1.6055495738983154], [-3.148664712905884, -0.8945682644844055, 4.934682369232178], [-0.8664104342460632, 0.5086657404899597, 0.7327696084976196], [0.21366767585277557, -2.1222503185272217, 2.432427406311035], [-2.21484112739563, 4.557359218597412, -1.8931220769882202], [-2.1530802249908447, 4.587225914001465, -2.003979444503784], [-4.796207904815674, 6.864293098449707, -1.6453887224197388], [-3.1803219318389893, 5.860642433166504, -2.2443690299987793], [-5.667430400848389, 7.193248748779297, -1.1169575452804565], [-3.940560817718506, 6.587808132171631, -2.200279712677002], [4.624151706695557, -5.569170951843262, 1.3239531517028809], [-0.05299021303653717, -1.0865552425384521, 1.6570225954055786], [-1.0739331245422363, 3.8568274974823, -2.402937173843384], [-0.462807297706604, -5.472491264343262, 7.1033549308776855], [6.776779651641846, -5.957691192626953, -0.3422479033470154], [6.905031681060791, -6.217479228973389, -0.22470715641975403], [-3.356529712677002, 3.4218623638153076, 0.31509333848953247], [5.493195056915283, -4.262852191925049, -0.8495422005653381], [-0.2213718742132187, -1.8646564483642578, 2.563814640045166], [-2.680567502975464, 1.5452110767364502, 1.5178920030593872], [-0.7717942595481873, 2.8117823600769043, -1.6007559299468994], [8.306889533996582, -6.3462419509887695, -1.37283456325531], [-4.166707515716553, 2.506619691848755, 2.4835071563720703], [-3.029273748397827, -1.5923511981964111, 5.507185935974121], [-4.789404392242432, 6.912128448486328, -1.6290262937545776], [-3.7971322536468506, 7.259530067443848, -2.9837217330932617], [-1.797743558883667, -1.116950511932373, 3.417262554168701], [-2.069495677947998, -3.8408896923065186, 6.798456192016602], [-4.866098880767822, 8.838282585144043, -3.4352927207946777], [-2.913184642791748, 3.4402999877929688, -0.09968743473291397], [3.9385061264038086, -2.1862242221832275, -1.2507102489471436], [-1.610926628112793, -0.10451000183820724, 2.1161675453186035], [1.5147311687469482, -2.4400579929351807, 1.3929531574249268], [-1.0940814018249512, 3.1834194660186768, -1.645087480545044], [1.3165414333343506, -3.6502552032470703, 2.946338176727295], [3.682751417160034, -0.8430613279342651, -2.5344672203063965], [-3.6547815799713135, -0.2600695490837097, 4.476816177368164], [1.6499741077423096, -4.266639709472656, 3.179360866546631], [-1.4509711265563965, -2.46592116355896, 4.6104631423950195], [-0.09343495965003967, 4.537174701690674, -3.9455504417419434], [-0.6755663752555847, -6.220649719238281, 7.733572006225586], [-4.204605579376221, 5.346065521240234, -0.7028522491455078], [-0.48913639783859253, -2.9374687671661377, 3.9861011505126953], [-0.7803468704223633, -4.18265438079834, 5.843723297119141], [-2.78574538230896, 4.978373050689697, -1.76438307762146], [-4.630040645599365, -4.8857741355896, 10.901470184326172], [5.366447925567627, -3.263631582260132, -1.6578314304351807], [0.4454634189605713, -5.193443298339844, 5.502134799957275], [0.5313748717308044, -4.032265663146973, 4.124669551849365], [8.249189376831055, -6.672669410705566, -1.0425736904144287], [-4.160206317901611, -0.6479851603507996, 5.407423973083496], [6.030585765838623, -2.7687575817108154, -2.744441270828247], [-0.8960348963737488, -0.001009110826998949, 1.235927700996399], [6.29046630859375, -6.067573547363281, 0.21188992261886597], [-2.251617193222046, -4.779524803161621, 8.009095191955566], [-0.5538328289985657, -1.5778019428253174, 2.8604986667633057], [-4.988366603851318, 7.069889068603516, -1.6382886171340942], [-2.2160797119140625, -0.9498067498207092, 3.737729549407959], [0.511867105960846, -4.893661022186279, 5.002691268920898], [-0.2978163957595825, 2.042999029159546, -1.281063199043274], [8.364506721496582, -5.086539268493652, -2.624687671661377], [-0.12210272252559662, -4.675925254821777, 5.436833381652832], [-4.064121723175049, 4.72922420501709, -0.251201331615448], [-4.2517476081848145, 0.386074036359787, 4.748859882354736], [0.9075261354446411, -3.5469062328338623, 3.379432201385498], [6.648301601409912, -2.261641502380371, -3.783583641052246], [-2.9663634300231934, 2.719456911087036, 0.6358322501182556], [-3.60442852973938, 1.2552945613861084, 2.798633575439453], [-0.2572008967399597, -3.5456511974334717, 4.420588493347168], [-3.426088809967041, 5.93031120300293, -2.070525884628296], [0.009070277214050293, -3.908038377761841, 4.476030349731445], [-3.1447784900665283, -2.6650943756103516, 6.713222503662109], [3.1540932655334473, 0.28753429651260376, -3.015503406524658], [3.537973642349243, -0.14564944803714752, -2.8432164192199707], [-1.6245183944702148, 2.3164443969726562, -0.19680123031139374], [0.01866845414042473, -5.188570022583008, 5.868378162384033], [-6.695812702178955, 7.370691299438477, -0.18596990406513214], [3.0360429286956787, -0.7731642127037048, -1.9262686967849731], [4.587780475616455, -2.4173526763916016, -1.6781619787216187], [-2.6073362827301025, -3.081235647201538, 6.377981185913086], [-2.7631471157073975, -1.4927706718444824, 4.985369682312012], [-2.92449688911438, 5.002257823944092, -1.657678246498108], [-5.407790660858154, 6.514044284820557, -0.7906233668327332], [-4.0620880126953125, 7.019125938415527, -2.516207218170166], [-0.7298732399940491, 0.5319473147392273, 0.7333621978759766], [-5.1382832527160645, 7.536051273345947, -1.9609160423278809], [-1.4791607856750488, -1.9465789794921875, 4.011131286621094], [-5.0916924476623535, 7.7129130363464355, -2.1632864475250244], [-1.0938143730163574, -4.199949741363525, 6.123481750488281], [-3.2500417232513428, 2.6256589889526367, 1.0358963012695312], [-2.720428228378296, -3.070389986038208, 6.745896816253662], [7.492891788482666, -3.0168535709381104, -3.880525827407837], [1.3007032871246338, -2.845999002456665, 2.004568576812744], [-3.3642418384552, -3.016629695892334, 7.137457847595215], [-4.699374198913574, 5.077317714691162, 0.08444565534591675], [7.168552875518799, -5.912775039672852, -0.6719042062759399], [4.908878326416016, -2.080087423324585, -2.237173557281494], [2.947409152984619, -2.310411214828491, -0.32756921648979187], [-4.286718845367432, 4.859588623046875, -0.2007312923669815], [-3.633216142654419, -1.0207765102386475, 5.525404453277588], [7.4376397132873535, -3.6469838619232178, -3.1632487773895264], [-2.739020586013794, -2.795267343521118, 6.259105205535889], [-0.8438050150871277, -3.51655650138855, 4.968008041381836], [-3.9249446392059326, 5.883954048156738, -1.516060709953308], [7.463125705718994, -6.3576202392578125, -0.5805087089538574], [-3.2402782440185547, 6.375507831573486, -2.6234617233276367], [-1.5674121379852295, 0.24679933488368988, 2.093742609024048], [0.909654438495636, -4.898240089416504, 5.105291366577148], [-4.254260063171387, 4.454922676086426, 0.19525903463363647], [-6.4195556640625, 7.684864044189453, -0.8289114236831665], [-4.723724842071533, 7.548369407653809, -2.3689730167388916], [0.6589873433113098, 1.6763509511947632, -1.906800627708435], [7.498672008514404, -4.848150730133057, -1.995466947555542], [7.978245258331299, -5.992292404174805, -1.4701777696609497], [-1.4595634937286377, 0.6282566785812378, 1.288643479347229], [6.497378826141357, -5.538763523101807, -0.486080527305603], [6.896064281463623, -4.02318811416626, -2.3413615226745605], [-4.944945812225342, 8.413788795471191, -2.9427261352539062], [-0.928581178188324, -0.5983323454856873, 1.8913170099258423], [-2.6001131534576416, 3.3024017810821533, -0.36328428983688354], [-4.277143478393555, 3.435288429260254, 1.1881357431411743], [-5.05001163482666, 9.221280097961426, -3.635852813720703], [2.0774567127227783, -2.1693055629730225, 0.7876548767089844], [-0.6190186738967896, 2.4110524654388428, -1.3687186241149902], [-1.2740185260772705, 1.9966912269592285, -0.3338676691055298], [-2.319836378097534, 0.36758953332901, 2.453801155090332], [-0.014082081615924835, -3.5616629123687744, 4.237600326538086], [-4.510279178619385, 6.615386962890625, -1.6595021486282349], [-0.2682044804096222, -2.380945920944214, 3.128035306930542], [-2.1191933155059814, -1.2990880012512207, 4.003359794616699], [-5.117969036102295, 1.3486292362213135, 4.71920108795166], [-1.2584824562072754, 4.202114105224609, -2.5231146812438965], [-3.3471477031707764, -2.7285239696502686, 6.920523643493652], [5.544521808624268, -1.9040448665618896, -3.1670570373535156], [-2.243468999862671, 4.7530317306518555, -2.058722496032715], [7.835531711578369, -5.3249711990356445, -1.9872633218765259], [-6.035074710845947, 8.99059772491455, -2.5081424713134766], [-3.24013352394104, 6.560530662536621, -2.8721203804016113], [3.544718027114868, -0.37150201201438904, -2.7037789821624756], [3.2387712001800537, 1.904482364654541, -4.630484580993652], [7.335666179656982, -6.274775505065918, -0.5585783123970032], [-2.4946768283843994, 4.744735240936279, -1.8226659297943115], [5.174562931060791, -2.822732925415039, -1.8333393335342407], [-5.699062824249268, 8.30833911895752, -2.1915783882141113], [-5.008622646331787, -5.32139778137207, 11.95704460144043], [-4.026967525482178, 5.570128440856934, -1.0780855417251587], [-3.513564348220825, -2.6072652339935303, 6.88101863861084], [-4.383584499359131, 7.091483116149902, -2.2308387756347656], [-5.698663711547852, 8.587157249450684, -2.3678066730499268], [-2.5163121223449707, -1.093389868736267, 4.173932075500488], [4.3156609535217285, -1.718077301979065, -2.174591541290283], [-0.3704751133918762, -0.5981126427650452, 1.5064131021499634], [3.892702341079712, -4.948319911956787, 1.5118697881698608], [6.766855716705322, -4.44389533996582, -1.8508350849151611], [-4.328351974487305, -2.247095823287964, 8.026093482971191], [4.272048473358154, -1.7164950370788574, -2.2225184440612793], [4.388169765472412, -2.6164815425872803, -1.4029884338378906], [-2.3777623176574707, -1.4063352346420288, 4.616412162780762], [-0.00746135413646698, -1.2622425556182861, 1.7520300149917603], [-4.918877601623535, 6.912968158721924, -1.5298043489456177], [1.100318193435669, -5.599803447723389, 5.166388511657715], [-1.8996245861053467, -0.8234586715698242, 3.2343053817749023], [-3.7251522541046143, 5.989875316619873, -1.7978352308273315], [-1.7991528511047363, -2.850618839263916, 5.32186222076416], [-3.902660369873047, 6.389369010925293, -1.9414931535720825], [-3.24245285987854, 6.482350826263428, -2.8387746810913086], [-2.101313352584839, 0.5011991858482361, 2.110922336578369], [4.522312641143799, -2.164038896560669, -1.8063756227493286], [-3.099877119064331, 3.805982828140259, -0.2379634976387024], [-4.778832912445068, 6.566582679748535, -1.3027743101119995], [-1.8809349536895752, -1.4788535833358765, 4.347076892852783], [2.7347376346588135, 0.8937504887580872, -3.1523067951202393], [-2.4186007976531982, 3.0896711349487305, -0.19642744958400726], [-1.0580546855926514, 2.471123695373535, -1.0931355953216553], [-2.1412107944488525, 1.572190761566162, 0.9780850410461426], [-2.738842248916626, 5.6266374588012695, -2.378356456756592], [5.318165302276611, -5.643136978149414, 0.9831287860870361], [4.318925857543945, -1.4743125438690186, -2.429379940032959], [-5.097218990325928, 5.679670810699463, -0.14124907553195953], [7.111468315124512, -3.5387122631073, -2.9923782348632812], [2.8598287105560303, 1.9653805494308472, -4.437498092651367], [-4.057591438293457, -2.0373964309692383, 7.120879173278809], [5.3162455558776855, -3.2099690437316895, -1.5812057256698608], [-2.651477575302124, 0.4465510845184326, 2.667633056640625], [-0.5385577082633972, -5.548489570617676, 6.828147888183594], [-0.7604200839996338, -3.3598856925964355, 5.008069038391113], [7.233152866363525, -5.8345112800598145, -0.8459224700927734], [-2.449150800704956, 1.9880832433700562, 1.0061719417572021], [-3.6416802406311035, 1.8992223739624023, 2.5251078605651855], [2.3965280055999756, 0.0746622085571289, -2.0111427307128906], [-0.1324857920408249, -1.7397537231445312, 2.494724988937378], [-1.670586109161377, 0.12114956974983215, 2.0586161613464355], [6.1311936378479, -4.518459796905518, -1.1833752393722534], [4.656779766082764, -1.5108277797698975, -2.5666604042053223], [7.8089985847473145, -5.46655797958374, -1.8034964799880981], [-1.4928827285766602, -0.13993476331233978, 2.2401676177978516], [7.324426651000977, -4.665264129638672, -2.153319835662842]]\n",
            "tensor([[6.3928e+00, 6.1161e-04, 6.2901e+02],\n",
            "        [5.6421e-02, 3.4568e+02, 7.9339e-02],\n",
            "        [1.2508e+00, 8.5704e-02, 1.8187e+01],\n",
            "        ...,\n",
            "        [2.4627e+03, 4.2258e-03, 1.6472e-01],\n",
            "        [2.2472e-01, 8.6941e-01, 9.3949e+00],\n",
            "        [1.5169e+03, 9.4168e-03, 1.1610e-01]])\n",
            "[2, 1, 2, 2, 2, 1, 2, 0, 0, 2, 0, 1, 0, 0, 2, 2, 2, 0, 2, 2, 0, 1, 1, 2, 1, 0, 1, 0, 2, 1, 2, 1, 1, 1, 2, 1, 2, 0, 2, 0, 2, 0, 1, 2, 2, 1, 0, 0, 0, 0, 2, 1, 1, 2, 2, 2, 2, 2, 0, 1, 2, 2, 1, 2, 2, 0, 1, 1, 2, 2, 1, 2, 0, 1, 2, 1, 2, 0, 0, 0, 1, 2, 2, 2, 1, 1, 0, 0, 1, 1, 2, 1, 2, 2, 1, 1, 1, 2, 1, 2, 2, 0, 1, 2, 0, 2, 0, 1, 0, 0, 2, 2, 2, 1, 2, 1, 0, 2, 1, 2, 1, 0, 0, 2, 2, 0, 1, 1, 2, 1, 1, 0, 2, 1, 2, 1, 0, 0, 2, 0, 0, 0, 2, 1, 0, 1, 0, 2, 2, 0, 0, 2, 0, 1, 2, 2, 1, 1, 0, 0, 2, 2, 2, 1, 2, 1, 1, 1, 0, 1, 0, 1, 0, 2, 2, 0, 0, 1, 1, 1, 0, 0, 2, 0, 2, 2, 0, 1, 1, 2, 0, 1, 1, 1, 2, 0, 1, 2, 0, 1, 0, 2, 0, 2, 1, 2, 0, 0, 2, 2, 1, 2, 1, 1, 0, 2, 1, 0, 0, 2, 0, 2, 0, 2, 0, 2, 1, 0, 2, 0, 2, 0, 0, 1, 1, 0, 1, 2, 0, 0, 0, 1, 1, 2, 1, 1, 0, 1, 2, 2, 0, 0, 0, 2, 1, 1, 0, 2, 2, 2, 2, 2, 0, 1, 0, 2, 2, 2, 1, 0, 1, 2, 1, 1, 2, 0, 0, 0, 0, 0, 1, 0, 0, 2, 0, 1, 2, 1, 1, 1, 0, 2, 2, 2, 1, 1, 0, 0, 2, 1, 2, 1, 2, 2, 2, 0, 1, 1, 0, 2, 1, 2, 1, 1, 2, 2, 2, 1, 1, 2, 1, 2, 2, 1, 2, 1, 0, 2, 1, 0, 1, 1, 0, 2, 1, 2, 2, 1, 1, 1, 1, 2, 2, 2, 1, 2, 2, 2, 1, 1, 0, 2, 0, 1, 2, 2, 1, 0, 0, 0, 0, 1, 2, 2, 1, 0, 0, 1, 0, 0, 0, 2, 0, 0, 1, 1, 1, 2, 0, 1, 1, 0, 1, 1, 2, 0, 1, 0, 1, 0, 2, 1, 1, 0, 1, 2, 2, 1, 0, 1, 2, 1, 2, 0, 0, 1, 2, 2, 2, 0, 2, 1, 1, 2, 1, 1, 0, 0, 0, 1, 2, 0, 1, 1, 1, 2, 2, 0, 0, 2, 2, 2, 1, 1, 2, 1, 1, 1, 2, 1, 1, 2, 2, 2, 2, 0, 2, 1, 1, 2, 0, 2, 1, 2, 0, 1, 1, 1, 2, 1, 2, 0, 2, 1, 1, 1, 2, 2, 1, 1, 0, 0, 1, 1, 2, 2, 2, 0, 1, 0, 2, 0, 0, 0, 2, 1, 0, 2, 1, 1, 0, 2, 1, 0, 1, 1, 2, 2, 1, 2, 2, 0, 0, 2, 0, 2, 2, 2, 2, 0, 1, 1, 1, 2, 2, 1, 2, 2, 0, 2, 1, 1, 2, 0, 1, 0, 0, 1, 2, 2, 1, 2, 2, 1, 0, 1, 2, 0, 2, 2, 2, 2, 2, 2, 2, 1, 1, 1, 1, 1, 1, 1, 2, 0, 2, 1, 1, 1, 1, 2, 2, 1, 1, 1, 0, 0, 2, 2, 0, 0, 1, 1, 2, 2, 1, 2, 1, 1, 0, 2, 2, 1, 2, 1, 1, 0, 0, 2, 2, 2, 2, 2, 1, 1, 1, 0, 0, 0, 2, 1, 2, 1, 1, 0, 0, 0, 0, 1, 1, 1, 2, 1, 2, 2, 2, 1, 0, 2, 2, 2, 2, 0, 2, 2, 0, 0, 0, 1, 1, 0, 1, 2, 1, 0, 0, 1, 2, 0, 2, 1, 2, 2, 0, 2, 2, 1, 0, 1, 0, 0, 1, 2, 1, 1, 2, 1, 0, 0, 1, 0, 1, 0, 1, 2, 2, 0, 0, 1, 1, 1, 1, 1, 2, 1, 2, 1, 2, 0, 0, 0, 1, 0, 2, 2, 0, 0, 0, 0, 2, 0, 1, 1, 0, 2, 2, 2, 0, 0, 1, 0, 1, 0, 0, 0, 2, 0, 2, 1, 0, 1, 2, 2, 1, 2, 0, 2, 2, 2, 1, 0, 1, 0, 2, 0, 2, 1, 2, 1, 1, 0, 1, 0, 2, 1, 2, 2, 1, 2, 2, 0, 0, 0, 1, 2, 0, 2, 0, 0, 2, 1, 2, 1, 1, 1, 2, 0, 1, 0, 1, 1, 1, 2, 0, 2, 2, 1, 1, 1, 1, 1, 1, 1, 2, 1, 2, 1, 1, 2, 0, 2, 2, 2, 2, 1, 1, 1, 0, 1, 1, 0, 1, 1, 1, 1, 0, 2, 2, 0, 1, 2, 0, 0, 1, 2, 0, 0, 0, 2, 0, 2, 2, 2, 2, 1, 1, 0, 0, 1, 0, 0, 1, 1, 0, 0, 2, 1, 1, 0, 1, 1, 0, 0, 1, 0, 0, 2, 2, 1, 1, 2, 2, 2, 2, 0, 0, 2, 2, 2, 0, 0, 0, 1, 2, 2, 2, 0, 2, 0, 0, 0, 1, 2, 2, 2, 1, 2, 2, 0, 1, 2, 0, 1, 2, 1, 1, 1, 1, 2, 1, 0, 0, 1, 2, 0, 2, 0, 0, 2, 0, 2, 2, 2, 1, 0, 0, 1, 1, 0, 1, 1, 2, 2, 1, 0, 1, 2, 2, 1, 0, 0, 2, 1, 0, 2, 0, 0, 2, 2, 2, 2, 0, 0, 2, 0, 1, 0, 1, 1, 2, 0, 2, 1, 2, 2, 1, 1, 2, 1, 1, 1, 2, 1, 1, 0, 0, 1, 2, 2, 0, 2, 2, 1, 2, 0, 0, 1, 1, 1, 0, 0, 0, 1, 2, 2, 0, 1, 0, 0, 1, 0, 1, 0, 1, 1, 1, 0, 2, 0, 0, 1, 1, 1, 1, 1, 1, 2, 1, 2, 2, 1, 1, 1, 2, 0, 0, 2, 2, 0, 1, 0, 0, 1, 1, 0, 2, 2, 1, 0, 0, 2, 2, 1, 0, 0, 2, 0, 1, 1, 0, 1, 0, 1, 0, 0, 1, 1, 2, 1, 1, 2, 2, 0, 0, 2, 1, 2, 2, 2, 0, 0, 1, 2, 0, 0, 1, 0, 0, 0, 0, 2, 0, 0, 1, 2, 1, 1, 1, 1, 0, 0, 0, 2, 2, 1, 0, 1, 2, 1, 0, 0, 1, 2, 0, 2, 1, 0, 2, 1, 0, 1, 1, 1, 2, 2, 0, 1, 1, 1, 1, 2, 1, 0, 1, 2, 2, 1, 2, 2, 0, 1, 0, 1, 2, 0, 1, 1, 1, 0, 1, 0, 1, 1, 1, 0, 0, 0, 1, 0, 1, 0, 0, 0, 1, 0, 0, 0, 0, 2, 1, 0, 1, 0, 0, 1, 1, 0, 1, 1, 0, 1, 1, 1, 2, 1, 0, 2, 0, 1, 0, 1, 1, 2, 2, 1, 0, 1, 0, 2, 1, 2, 2, 1, 0, 1, 2, 2, 0, 2, 0, 2, 0, 2, 1, 2, 0, 1, 0, 1, 0, 2, 2, 2, 1, 2, 2, 1, 2, 1, 1, 2, 1, 1, 1, 0, 1, 1, 1, 0, 1, 0, 1, 1, 0, 2, 1, 0, 2, 2, 1, 1, 0, 0, 1, 0, 2, 0, 2, 2, 0, 2, 0, 0, 0, 1, 1, 1, 2, 2, 2, 2, 1, 0, 2, 1, 0, 2, 0, 2, 2, 2, 2, 2, 2, 1, 2, 1, 2, 1, 1, 0, 2, 1, 2, 2, 2, 0, 2, 0, 2, 0, 2, 1, 2, 0, 1, 1, 2, 0, 1, 1, 0, 1, 2, 1, 1, 2, 0, 1, 0, 2, 2, 2, 1, 2, 1, 0, 0, 2, 2, 2, 1, 0, 2, 0, 1, 2, 0, 1, 2, 1, 0, 0, 2, 2, 2, 1, 2, 0, 2, 0, 2, 0, 0, 2, 0, 2, 1, 2, 1, 0, 1, 1, 0, 2, 2, 0, 1, 0, 0, 0, 2, 1, 2, 1, 1, 0, 2, 1, 2, 1, 1, 1, 1, 1, 1, 0, 2, 1, 2, 0, 0, 2, 0, 2, 2, 1, 0, 1, 2, 1, 1, 2, 2, 1, 1, 0, 2, 0, 1, 2, 0, 2, 2, 2, 1, 2, 1, 2, 2, 1, 2, 0, 2, 2, 0, 2, 0, 2, 0, 2, 2, 1, 2, 2, 1, 0, 2, 1, 2, 2, 0, 1, 1, 2, 1, 2, 2, 0, 0, 1, 2, 1, 0, 0, 2, 2, 2, 1, 1, 2, 1, 2, 1, 2, 1, 2, 0, 2, 2, 1, 0, 0, 0, 1, 2, 0, 2, 2, 1, 0, 1, 2, 2, 1, 1, 1, 2, 0, 0, 2, 0, 0, 1, 2, 1, 2, 1, 0, 2, 2, 2, 2, 1, 2, 2, 2, 1, 2, 0, 1, 0, 1, 1, 0, 0, 0, 1, 0, 1, 2, 1, 2, 1, 1, 2, 0, 2, 0, 0, 2, 0, 0, 2, 2, 1, 2, 2, 1, 2, 1, 1, 1, 0, 1, 2, 2, 0, 1, 1, 1, 1, 0, 0, 1, 0, 0, 2, 0, 2, 2, 2, 0, 1, 2, 0, 2, 2, 0, 0, 0, 1, 0]\n",
            "f1 score:  0.9150717184946019\n",
            "recall:  0.9157963446475196\n",
            "precision:  0.9196126621549549\n",
            "accuracy:  0.9157963446475196\n"
          ],
          "name": "stdout"
        }
      ]
    },
    {
      "cell_type": "markdown",
      "metadata": {
        "id": "0AQPeNuvYpTo"
      },
      "source": [
        "# DenseNet"
      ]
    },
    {
      "cell_type": "markdown",
      "metadata": {
        "id": "Rn-a86MFnwKN"
      },
      "source": [
        "## DenseNet (pretrained = False)"
      ]
    },
    {
      "cell_type": "code",
      "metadata": {
        "id": "sVo0a7gJUNhu"
      },
      "source": [
        "pred_list = []"
      ],
      "execution_count": null,
      "outputs": []
    },
    {
      "cell_type": "code",
      "metadata": {
        "colab": {
          "base_uri": "https://localhost:8080/"
        },
        "id": "GspqH39EZ8cW",
        "outputId": "17750f49-05a0-4ea4-8c77-27186c426633"
      },
      "source": [
        "from torchvision import models\n",
        "model = models.densenet169(pretrained=False)\n",
        "num_ftrs = model.classifier.in_features\n",
        "model.fc = nn.Linear(num_ftrs, 3)\n",
        "#model.cuda()\n",
        "optimizer = optim.Adam(model.parameters(), 0.0001, weight_decay=0.0)\n",
        "scheduler = torch.optim.lr_scheduler.ReduceLROnPlateau(optimizer, patience=5, factor=0.3, threshold=0.0001) \n",
        "train_model(model, optimizer, scheduler, 10)"
      ],
      "execution_count": null,
      "outputs": [
        {
          "output_type": "stream",
          "text": [
            "\n",
            "**********epoch:  0 \n",
            "\n",
            "\n",
            "train:\n",
            "\n",
            "loss:  3.301233539978663\n",
            "f1 score:  0.7136656656979625\n",
            "recall:  0.686411149825784\n",
            "precision:  0.7684838521529239\n",
            "accuracy:  0.686411149825784\n"
          ],
          "name": "stdout"
        },
        {
          "output_type": "stream",
          "text": [
            "/usr/local/lib/python3.6/dist-packages/sklearn/metrics/_classification.py:1272: UndefinedMetricWarning: Recall is ill-defined and being set to 0.0 in labels with no true samples. Use `zero_division` parameter to control this behavior.\n",
            "  _warn_prf(average, modifier, msg_start, len(result))\n"
          ],
          "name": "stderr"
        },
        {
          "output_type": "stream",
          "text": [
            "\n",
            "validation:\n",
            "\n",
            "loss:  1.094557782014211\n",
            "f1 score:  0.8264294714760256\n",
            "recall:  0.8302872062663186\n",
            "precision:  0.8357829548173578\n",
            "accuracy:  0.8302872062663186\n",
            "\n",
            "**********epoch:  1 \n",
            "\n",
            "\n",
            "train:\n",
            "\n",
            "loss:  0.5179296187642548\n",
            "f1 score:  0.8820149520757713\n",
            "recall:  0.882404181184669\n",
            "precision:  0.8825632931729079\n",
            "accuracy:  0.882404181184669\n",
            "\n",
            "validation:\n",
            "\n",
            "loss:  0.5044812121325069\n",
            "f1 score:  0.8356567863478721\n",
            "recall:  0.8407310704960835\n",
            "precision:  0.8592138296253613\n",
            "accuracy:  0.8407310704960835\n",
            "\n",
            "**********epoch:  2 \n",
            "\n",
            "\n",
            "train:\n",
            "\n",
            "loss:  0.3135855733934376\n",
            "f1 score:  0.9013319988852104\n",
            "recall:  0.9015679442508711\n",
            "precision:  0.9013108041787077\n",
            "accuracy:  0.9015679442508711\n",
            "\n",
            "validation:\n",
            "\n",
            "loss:  0.3106939688117968\n",
            "f1 score:  0.8999284014231629\n",
            "recall:  0.9007832898172323\n",
            "precision:  0.9025375424127398\n",
            "accuracy:  0.9007832898172323\n",
            "\n",
            "**********epoch:  3 \n",
            "\n",
            "\n",
            "train:\n",
            "\n",
            "loss:  0.22629529341227478\n",
            "f1 score:  0.9249168049690769\n",
            "recall:  0.9250871080139372\n",
            "precision:  0.925008232709453\n",
            "accuracy:  0.9250871080139372\n",
            "\n",
            "validation:\n",
            "\n",
            "loss:  0.3049289455844296\n",
            "f1 score:  0.8938788621198515\n",
            "recall:  0.8955613577023499\n",
            "precision:  0.8995963134404497\n",
            "accuracy:  0.8955613577023499\n",
            "\n",
            "**********epoch:  4 \n",
            "\n",
            "\n",
            "train:\n",
            "\n",
            "loss:  0.18650936469849613\n",
            "f1 score:  0.9346195466915461\n",
            "recall:  0.9346689895470384\n",
            "precision:  0.9346499675226351\n",
            "accuracy:  0.9346689895470384\n",
            "\n",
            "validation:\n",
            "\n",
            "loss:  0.24656934705045488\n",
            "f1 score:  0.9068055501225781\n",
            "recall:  0.906875543951262\n",
            "precision:  0.9072399685172472\n",
            "accuracy:  0.906875543951262\n",
            "\n",
            "**********epoch:  5 \n",
            "\n",
            "\n",
            "train:\n",
            "\n",
            "loss:  0.13030298494009507\n",
            "f1 score:  0.9555331541996258\n",
            "recall:  0.955574912891986\n",
            "precision:  0.9555883622507112\n",
            "accuracy:  0.955574912891986\n",
            "\n",
            "validation:\n",
            "\n",
            "loss:  0.27917399257421494\n",
            "f1 score:  0.9033336674409481\n",
            "recall:  0.9033942558746736\n",
            "precision:  0.903354499754421\n",
            "accuracy:  0.9033942558746736\n",
            "\n",
            "**********epoch:  6 \n",
            "\n",
            "\n",
            "train:\n",
            "\n",
            "loss:  0.12526549021196035\n",
            "f1 score:  0.960767274996616\n",
            "recall:  0.960801393728223\n",
            "precision:  0.9608364992891252\n",
            "accuracy:  0.960801393728223\n",
            "\n",
            "validation:\n",
            "\n",
            "loss:  0.4827298192928235\n",
            "f1 score:  0.84205873122393\n",
            "recall:  0.8476936466492603\n",
            "precision:  0.8776990184590645\n",
            "accuracy:  0.8476936466492603\n",
            "\n",
            "**********epoch:  7 \n",
            "\n",
            "\n",
            "train:\n",
            "\n",
            "loss:  0.10787024286886056\n",
            "f1 score:  0.9642824680243254\n",
            "recall:  0.9642857142857143\n",
            "precision:  0.9642812999010963\n",
            "accuracy:  0.9642857142857143\n",
            "\n",
            "validation:\n",
            "\n",
            "loss:  0.2916763742040429\n",
            "f1 score:  0.894497892890901\n",
            "recall:  0.896431679721497\n",
            "precision:  0.9031851636856162\n",
            "accuracy:  0.896431679721497\n",
            "\n",
            "**********epoch:  8 \n",
            "\n",
            "\n",
            "train:\n",
            "\n",
            "loss:  0.09554351170340346\n",
            "f1 score:  0.9703957811705547\n",
            "recall:  0.9703832752613241\n",
            "precision:  0.9704232582250177\n",
            "accuracy:  0.9703832752613241\n",
            "\n",
            "validation:\n",
            "\n",
            "loss:  0.2576682225206039\n",
            "f1 score:  0.9042565536396331\n",
            "recall:  0.9051348999129678\n",
            "precision:  0.9077320252700267\n",
            "accuracy:  0.9051348999129678\n",
            "\n",
            "**********epoch:  9 \n",
            "\n",
            "\n",
            "train:\n",
            "\n",
            "loss:  0.07422073309620221\n",
            "f1 score:  0.9747346787293981\n",
            "recall:  0.9747386759581882\n",
            "precision:  0.9747398752714235\n",
            "accuracy:  0.9747386759581882\n",
            "\n",
            "validation:\n",
            "\n",
            "loss:  0.2260369232131375\n",
            "f1 score:  0.9152385755428357\n",
            "recall:  0.9155787641427328\n",
            "precision:  0.9153175168201337\n",
            "accuracy:  0.9155787641427328\n"
          ],
          "name": "stdout"
        }
      ]
    },
    {
      "cell_type": "code",
      "metadata": {
        "id": "-p6wd-EYLKwg"
      },
      "source": [
        "torch.save(model.state_dict(), \"denseNet_false\")\n"
      ],
      "execution_count": null,
      "outputs": []
    },
    {
      "cell_type": "code",
      "metadata": {
        "id": "lONr12qdUtp6"
      },
      "source": [
        "pred_list = []"
      ],
      "execution_count": null,
      "outputs": []
    },
    {
      "cell_type": "code",
      "metadata": {
        "colab": {
          "base_uri": "https://localhost:8080/"
        },
        "id": "UX7wzyjeaFR2",
        "outputId": "1e6baccb-573c-4992-d555-815a4b13c686"
      },
      "source": [
        "test_model(model, optimizer, scheduler)"
      ],
      "execution_count": null,
      "outputs": [
        {
          "output_type": "stream",
          "text": [
            "IOPub data rate exceeded.\n",
            "The notebook server will temporarily stop sending output\n",
            "to the client in order to avoid crashing it.\n",
            "To change this limit, set the config variable\n",
            "`--NotebookApp.iopub_data_rate_limit`.\n",
            "\n",
            "Current values:\n",
            "NotebookApp.iopub_data_rate_limit=1000000.0 (bytes/sec)\n",
            "NotebookApp.rate_limit_window=3.0 (secs)\n",
            "\n"
          ],
          "name": "stderr"
        }
      ]
    },
    {
      "cell_type": "code",
      "metadata": {
        "colab": {
          "base_uri": "https://localhost:8080/"
        },
        "id": "BNhvn4hcU61R",
        "outputId": "fa54dc60-7a37-406a-ef3a-54ddac14c357"
      },
      "source": [
        "pred_list"
      ],
      "execution_count": null,
      "outputs": [
        {
          "output_type": "execute_result",
          "data": {
            "text/plain": [
              "[0.9199260620604759,\n",
              " 0.9203655352480418,\n",
              " 0.9218970362009204,\n",
              " 0.9203655352480418]"
            ]
          },
          "metadata": {
            "tags": []
          },
          "execution_count": 33
        }
      ]
    },
    {
      "cell_type": "markdown",
      "metadata": {
        "id": "x_C5whR5xLBQ"
      },
      "source": [
        "## DenseNet (pretrained = True)"
      ]
    },
    {
      "cell_type": "code",
      "metadata": {
        "id": "1GMM_H1CVPGp"
      },
      "source": [
        "pred_list = []"
      ],
      "execution_count": null,
      "outputs": []
    },
    {
      "cell_type": "code",
      "metadata": {
        "id": "_n1krknZYqgG",
        "colab": {
          "base_uri": "https://localhost:8080/",
          "height": 105,
          "referenced_widgets": [
            "c8c9a3bd2c6b4f07bb08354069aa82b7",
            "5f13dc5873964d3bb2585ed9b5ec6815",
            "50e895425a7b419f849e95289c2e54c4",
            "cf35a11cc8844ccfbcaf00a4a39e4796",
            "86cfccc6a1294871924b9bbe7e305a9f",
            "4b9f945431134c3c932c0fd07f9f0f90",
            "0fc603d15e1c4988939974b8b3252973",
            "7c33190128a7439681ab89fb7503cb41"
          ]
        },
        "outputId": "bedfd75d-b882-40b7-f7d2-a400ea0cd610"
      },
      "source": [
        "import torchvision.models as models\n",
        "import torch.optim as optim\n",
        "\n",
        "model =  models.densenet169(pretrained=True)\n",
        "\n",
        "# for param in model.parameters():\n",
        "#     param.requires_grad = False\n",
        "\n",
        "num_ftrs = model.classifier.in_features\n",
        "model.fc0 = nn.Linear(num_ftrs, 600)\n",
        "model.fc1 = nn.Linear(600, 200)\n",
        "model.fc3 = nn.Linear(200, 3)\n",
        "\n"
      ],
      "execution_count": null,
      "outputs": [
        {
          "output_type": "stream",
          "text": [
            "Downloading: \"https://download.pytorch.org/models/densenet169-b2777c0a.pth\" to /root/.cache/torch/hub/checkpoints/densenet169-b2777c0a.pth\n"
          ],
          "name": "stderr"
        },
        {
          "output_type": "display_data",
          "data": {
            "application/vnd.jupyter.widget-view+json": {
              "model_id": "c8c9a3bd2c6b4f07bb08354069aa82b7",
              "version_minor": 0,
              "version_major": 2
            },
            "text/plain": [
              "HBox(children=(FloatProgress(value=0.0, max=57365526.0), HTML(value='')))"
            ]
          },
          "metadata": {
            "tags": []
          }
        },
        {
          "output_type": "stream",
          "text": [
            "\n"
          ],
          "name": "stdout"
        }
      ]
    },
    {
      "cell_type": "code",
      "metadata": {
        "colab": {
          "base_uri": "https://localhost:8080/"
        },
        "id": "qXRGhfgxZSkt",
        "outputId": "cae5cf54-cc4e-4d78-cefa-719328f17c19"
      },
      "source": [
        "optimizer = optim.Adam(model.parameters(), 0.001, weight_decay=0.0)\n",
        "scheduler = torch.optim.lr_scheduler.ReduceLROnPlateau(optimizer, patience=5, factor=0.3, threshold=0.0001) \n",
        "train_model(model, optimizer, scheduler, 10)"
      ],
      "execution_count": null,
      "outputs": [
        {
          "output_type": "stream",
          "text": [
            "\n",
            "**********epoch:  0 \n",
            "\n",
            "\n",
            "train:\n",
            "\n",
            "loss:  0.8679785046519505\n",
            "f1 score:  0.8568689879231873\n",
            "recall:  0.8371080139372822\n",
            "precision:  0.8776091122643478\n",
            "accuracy:  0.8371080139372822\n"
          ],
          "name": "stdout"
        },
        {
          "output_type": "stream",
          "text": [
            "/usr/local/lib/python3.6/dist-packages/sklearn/metrics/_classification.py:1272: UndefinedMetricWarning: Recall is ill-defined and being set to 0.0 in labels with no true samples. Use `zero_division` parameter to control this behavior.\n",
            "  _warn_prf(average, modifier, msg_start, len(result))\n"
          ],
          "name": "stderr"
        },
        {
          "output_type": "stream",
          "text": [
            "\n",
            "validation:\n",
            "\n",
            "loss:  14.230725526809692\n",
            "f1 score:  0.5449227807520357\n",
            "recall:  0.4908616187989556\n",
            "precision:  0.724419251257908\n",
            "accuracy:  0.4908616187989556\n",
            "\n",
            "**********epoch:  1 \n",
            "\n",
            "\n",
            "train:\n",
            "\n",
            "loss:  0.28065795606623095\n",
            "f1 score:  0.9119344010618265\n",
            "recall:  0.912020905923345\n",
            "precision:  0.9119320814834813\n",
            "accuracy:  0.912020905923345\n",
            "\n",
            "validation:\n",
            "\n",
            "loss:  0.2602950479421351\n",
            "f1 score:  0.9197486586205634\n",
            "recall:  0.9190600522193212\n",
            "precision:  0.9246646466138037\n",
            "accuracy:  0.9190600522193212\n",
            "\n",
            "**********epoch:  2 \n",
            "\n",
            "\n",
            "train:\n",
            "\n",
            "loss:  0.1856351021108114\n",
            "f1 score:  0.935407948696892\n",
            "recall:  0.9355400696864111\n",
            "precision:  0.9354530169440562\n",
            "accuracy:  0.9355400696864111\n",
            "\n",
            "validation:\n",
            "\n",
            "loss:  1.4389670507775412\n",
            "f1 score:  0.6803040600159278\n",
            "recall:  0.6962576153176675\n",
            "precision:  0.8066150732508021\n",
            "accuracy:  0.6962576153176675\n",
            "\n",
            "**********epoch:  3 \n",
            "\n",
            "\n",
            "train:\n",
            "\n",
            "loss:  0.14277000642485088\n",
            "f1 score:  0.9442830313033298\n",
            "recall:  0.9442508710801394\n",
            "precision:  0.9443351141970665\n",
            "accuracy:  0.9442508710801394\n",
            "\n",
            "validation:\n",
            "\n",
            "loss:  0.24786514954434502\n",
            "f1 score:  0.9263453334743602\n",
            "recall:  0.927763272410792\n",
            "precision:  0.9319174185489969\n",
            "accuracy:  0.927763272410792\n",
            "\n",
            "**********epoch:  4 \n",
            "\n",
            "\n",
            "train:\n",
            "\n",
            "loss:  0.08049042052071956\n",
            "f1 score:  0.9721331675853154\n",
            "recall:  0.9721254355400697\n",
            "precision:  0.9721563784432955\n",
            "accuracy:  0.9721254355400697\n",
            "\n",
            "validation:\n",
            "\n",
            "loss:  0.21534889915751088\n",
            "f1 score:  0.9422233685846634\n",
            "recall:  0.9425587467362925\n",
            "precision:  0.9424844089884428\n",
            "accuracy:  0.9425587467362925\n",
            "\n",
            "**********epoch:  5 \n",
            "\n",
            "\n",
            "train:\n",
            "\n",
            "loss:  0.11157132034552181\n",
            "f1 score:  0.9572508477799736\n",
            "recall:  0.9573170731707317\n",
            "precision:  0.9573128414470411\n",
            "accuracy:  0.9573170731707317\n",
            "\n",
            "validation:\n",
            "\n",
            "loss:  0.38771726527354783\n",
            "f1 score:  0.8875669125253304\n",
            "recall:  0.8885987815491732\n",
            "precision:  0.9080276603656575\n",
            "accuracy:  0.8885987815491732\n",
            "\n",
            "**********epoch:  6 \n",
            "\n",
            "\n",
            "train:\n",
            "\n",
            "loss:  0.06658058626473778\n",
            "f1 score:  0.9764693979301863\n",
            "recall:  0.9764808362369338\n",
            "precision:  0.9764602636078179\n",
            "accuracy:  0.9764808362369338\n",
            "\n",
            "validation:\n",
            "\n",
            "loss:  0.193126044029163\n",
            "f1 score:  0.9302704288626007\n",
            "recall:  0.9295039164490861\n",
            "precision:  0.9373442576483446\n",
            "accuracy:  0.9295039164490861\n",
            "\n",
            "**********epoch:  7 \n",
            "\n",
            "\n",
            "train:\n",
            "\n",
            "loss:  0.05758166751022347\n",
            "f1 score:  0.9799795746652679\n",
            "recall:  0.9799651567944251\n",
            "precision:  0.9800088947387492\n",
            "accuracy:  0.9799651567944251\n",
            "\n",
            "validation:\n",
            "\n",
            "loss:  0.38736332875366014\n",
            "f1 score:  0.9085767114036906\n",
            "recall:  0.9086161879895561\n",
            "precision:  0.9120348309506033\n",
            "accuracy:  0.9086161879895561\n",
            "\n",
            "**********epoch:  8 \n",
            "\n",
            "\n",
            "train:\n",
            "\n",
            "loss:  0.11084146463286339\n",
            "f1 score:  0.9651256358330569\n",
            "recall:  0.9651567944250871\n",
            "precision:  0.9652140107814055\n",
            "accuracy:  0.9651567944250871\n",
            "\n",
            "validation:\n",
            "\n",
            "loss:  0.20897849918239647\n",
            "f1 score:  0.9374039447696391\n",
            "recall:  0.9373368146214099\n",
            "precision:  0.9378494864358671\n",
            "accuracy:  0.9373368146214099\n",
            "\n",
            "**********epoch:  9 \n",
            "\n",
            "\n",
            "train:\n",
            "\n",
            "loss:  0.09035187672513227\n",
            "f1 score:  0.9651301062733372\n",
            "recall:  0.9651567944250871\n",
            "precision:  0.9651448725617922\n",
            "accuracy:  0.9651567944250871\n",
            "\n",
            "validation:\n",
            "\n",
            "loss:  0.1796459679802259\n",
            "f1 score:  0.9404240477150406\n",
            "recall:  0.9408181026979983\n",
            "precision:  0.9415103117731026\n",
            "accuracy:  0.9408181026979983\n"
          ],
          "name": "stdout"
        }
      ]
    },
    {
      "cell_type": "code",
      "metadata": {
        "id": "MReh456yRX4A"
      },
      "source": [
        "torch.save(model.state_dict(), \"denseNet_true\")"
      ],
      "execution_count": null,
      "outputs": []
    },
    {
      "cell_type": "code",
      "metadata": {
        "colab": {
          "base_uri": "https://localhost:8080/"
        },
        "id": "1yU6Jc0NQrgk",
        "outputId": "95af9cff-35c4-42bc-d3c7-8505e60ff24a"
      },
      "source": [
        "test_model(model, optimizer, scheduler)"
      ],
      "execution_count": null,
      "outputs": [
        {
          "output_type": "stream",
          "text": [
            "test: \n",
            "loss:  0.19328186152173052\n"
          ],
          "name": "stdout"
        },
        {
          "output_type": "stream",
          "text": [
            "IOPub data rate exceeded.\n",
            "The notebook server will temporarily stop sending output\n",
            "to the client in order to avoid crashing it.\n",
            "To change this limit, set the config variable\n",
            "`--NotebookApp.iopub_data_rate_limit`.\n",
            "\n",
            "Current values:\n",
            "NotebookApp.iopub_data_rate_limit=1000000.0 (bytes/sec)\n",
            "NotebookApp.rate_limit_window=3.0 (secs)\n",
            "\n"
          ],
          "name": "stderr"
        }
      ]
    },
    {
      "cell_type": "code",
      "metadata": {
        "colab": {
          "base_uri": "https://localhost:8080/"
        },
        "id": "N2o9iKbKVWQ6",
        "outputId": "bd523d42-787a-4e8c-bb58-aae3d446e958"
      },
      "source": [
        "pred_list"
      ],
      "execution_count": null,
      "outputs": [
        {
          "output_type": "execute_result",
          "data": {
            "text/plain": [
              "[0.8568689879231873,\n",
              " 0.8371080139372822,\n",
              " 0.8776091122643478,\n",
              " 0.8371080139372822,\n",
              " 0.5449227807520357,\n",
              " 0.4908616187989556,\n",
              " 0.724419251257908,\n",
              " 0.4908616187989556,\n",
              " 0.9119344010618265,\n",
              " 0.912020905923345,\n",
              " 0.9119320814834813,\n",
              " 0.912020905923345,\n",
              " 0.9197486586205634,\n",
              " 0.9190600522193212,\n",
              " 0.9246646466138037,\n",
              " 0.9190600522193212,\n",
              " 0.935407948696892,\n",
              " 0.9355400696864111,\n",
              " 0.9354530169440562,\n",
              " 0.9355400696864111,\n",
              " 0.6803040600159278,\n",
              " 0.6962576153176675,\n",
              " 0.8066150732508021,\n",
              " 0.6962576153176675,\n",
              " 0.9442830313033298,\n",
              " 0.9442508710801394,\n",
              " 0.9443351141970665,\n",
              " 0.9442508710801394,\n",
              " 0.9263453334743602,\n",
              " 0.927763272410792,\n",
              " 0.9319174185489969,\n",
              " 0.927763272410792,\n",
              " 0.9721331675853154,\n",
              " 0.9721254355400697,\n",
              " 0.9721563784432955,\n",
              " 0.9721254355400697,\n",
              " 0.9422233685846634,\n",
              " 0.9425587467362925,\n",
              " 0.9424844089884428,\n",
              " 0.9425587467362925,\n",
              " 0.9572508477799736,\n",
              " 0.9573170731707317,\n",
              " 0.9573128414470411,\n",
              " 0.9573170731707317,\n",
              " 0.8875669125253304,\n",
              " 0.8885987815491732,\n",
              " 0.9080276603656575,\n",
              " 0.8885987815491732,\n",
              " 0.9764693979301863,\n",
              " 0.9764808362369338,\n",
              " 0.9764602636078179,\n",
              " 0.9764808362369338,\n",
              " 0.9302704288626007,\n",
              " 0.9295039164490861,\n",
              " 0.9373442576483446,\n",
              " 0.9295039164490861,\n",
              " 0.9799795746652679,\n",
              " 0.9799651567944251,\n",
              " 0.9800088947387492,\n",
              " 0.9799651567944251,\n",
              " 0.9085767114036906,\n",
              " 0.9086161879895561,\n",
              " 0.9120348309506033,\n",
              " 0.9086161879895561,\n",
              " 0.9651256358330569,\n",
              " 0.9651567944250871,\n",
              " 0.9652140107814055,\n",
              " 0.9651567944250871,\n",
              " 0.9374039447696391,\n",
              " 0.9373368146214099,\n",
              " 0.9378494864358671,\n",
              " 0.9373368146214099,\n",
              " 0.9651301062733372,\n",
              " 0.9651567944250871,\n",
              " 0.9651448725617922,\n",
              " 0.9651567944250871,\n",
              " 0.9404240477150406,\n",
              " 0.9408181026979983,\n",
              " 0.9415103117731026,\n",
              " 0.9408181026979983,\n",
              " 0.9414985845764492,\n",
              " 0.9419060052219321,\n",
              " 0.943747953453615,\n",
              " 0.9419060052219321]"
            ]
          },
          "metadata": {
            "tags": []
          },
          "execution_count": 38
        }
      ]
    },
    {
      "cell_type": "markdown",
      "metadata": {
        "id": "ewwd6i7lodBs"
      },
      "source": [
        "# Inception v3"
      ]
    },
    {
      "cell_type": "markdown",
      "metadata": {
        "id": "nfnCRDBH-70E"
      },
      "source": [
        "## preparing data"
      ]
    },
    {
      "cell_type": "code",
      "metadata": {
        "id": "uXChAe8LbyAa"
      },
      "source": [
        "torch.save(model.state_dict(), \"Inception_true_auxlogit_false\")"
      ],
      "execution_count": null,
      "outputs": []
    },
    {
      "cell_type": "code",
      "metadata": {
        "id": "ex9GuNpW--Ti"
      },
      "source": [
        "from torch.utils.data import DataLoader, random_split\n",
        "batch_size = 64\n",
        "# resize to 299\n",
        "resized = [cv2.resize(i, (299,299), interpolation = cv2.INTER_AREA) for i in data]\n",
        "resized2 = [i.reshape((3,299,299)) for i in resized]\n",
        "\n",
        "x_train, x_test, y_train, y_test=\\\n",
        "train_test_split(resized2, labels, test_size=0.4, random_state=1, stratify=labels)\n",
        "x_train, x_val, y_train, y_val =\\\n",
        "train_test_split(x_train, y_train, test_size=0.5, random_state=1, stratify=y_train)\n",
        "\n",
        "train_dataloader = prepare_dataloader(x_train, y_train, transform= train_trans)\n",
        "val_dataloader = prepare_dataloader(x_val, y_val, transform= valid_trans)\n",
        "test_dataloader = prepare_dataloader(x_test, y_test)"
      ],
      "execution_count": null,
      "outputs": []
    },
    {
      "cell_type": "code",
      "metadata": {
        "colab": {
          "base_uri": "https://localhost:8080/"
        },
        "id": "phaQmMCnRsAy",
        "outputId": "501270cf-7274-4ff4-84cf-2f422e04564d"
      },
      "source": [
        "print(resized2[0].shape)"
      ],
      "execution_count": null,
      "outputs": [
        {
          "output_type": "stream",
          "text": [
            "(3, 299, 299)\n"
          ],
          "name": "stdout"
        }
      ]
    },
    {
      "cell_type": "markdown",
      "metadata": {
        "id": "gmUWkUYbcKqO"
      },
      "source": [
        "## Inception V3 (`pretrained = False`)"
      ]
    },
    {
      "cell_type": "code",
      "metadata": {
        "id": "8zQ2TruZocTY"
      },
      "source": [
        "from torchvision import models\n",
        "import torch.optim as optim\n",
        "\n",
        "model= models.inception_v3(init_weights=True, pretrained=False, aux_logits=False)\n",
        "num_ftrs = model.fc.in_features\n",
        "model.fc = nn.Linear(num_ftrs, 3)"
      ],
      "execution_count": null,
      "outputs": []
    },
    {
      "cell_type": "code",
      "metadata": {
        "colab": {
          "base_uri": "https://localhost:8080/"
        },
        "id": "4OC465Pno-1U",
        "outputId": "c59421e2-762c-40d4-8611-d708444726dd"
      },
      "source": [
        "import torch.optim as optim\n",
        "optimizer = optim.Adam(model.parameters(), 0.001, weight_decay=0.0)\n",
        "scheduler = torch.optim.lr_scheduler.ReduceLROnPlateau(optimizer, patience=5, factor=0.3, threshold=0.0001) \n",
        "train_model(model, optimizer, scheduler, 10)\n"
      ],
      "execution_count": null,
      "outputs": [
        {
          "output_type": "stream",
          "text": [
            "\n",
            "**********epoch:  0 \n",
            "\n",
            "\n",
            "train:\n",
            "\n",
            "loss:  0.6094233079089059\n",
            "f1 score:  0.7317779637481335\n",
            "recall:  0.7317073170731707\n",
            "precision:  0.7321146817496305\n",
            "accuracy:  0.7317073170731707\n",
            "\n",
            "validation:\n",
            "\n",
            "loss:  126.51620186699762\n",
            "f1 score:  0.14090375663348265\n",
            "recall:  0.3002610966057441\n",
            "precision:  0.44087994336457237\n",
            "accuracy:  0.3002610966057441\n",
            "\n",
            "**********epoch:  1 \n",
            "\n"
          ],
          "name": "stdout"
        },
        {
          "output_type": "stream",
          "text": [
            "/usr/local/lib/python3.6/dist-packages/sklearn/metrics/_classification.py:1272: UndefinedMetricWarning: Precision is ill-defined and being set to 0.0 in labels with no predicted samples. Use `zero_division` parameter to control this behavior.\n",
            "  _warn_prf(average, modifier, msg_start, len(result))\n"
          ],
          "name": "stderr"
        },
        {
          "output_type": "stream",
          "text": [
            "\n",
            "train:\n",
            "\n",
            "loss:  0.4161035137044059\n",
            "f1 score:  0.8425810339397484\n",
            "recall:  0.8432055749128919\n",
            "precision:  0.8429398671554837\n",
            "accuracy:  0.8432055749128919\n",
            "\n",
            "validation:\n",
            "\n",
            "loss:  0.9975590970781114\n",
            "f1 score:  0.7509114874863404\n",
            "recall:  0.763272410791993\n",
            "precision:  0.8067393062332966\n",
            "accuracy:  0.763272410791993\n",
            "\n",
            "**********epoch:  2 \n",
            "\n",
            "\n",
            "train:\n",
            "\n",
            "loss:  0.3155009729994668\n",
            "f1 score:  0.884990665308637\n",
            "recall:  0.8850174216027874\n",
            "precision:  0.8851168684186256\n",
            "accuracy:  0.8850174216027874\n",
            "\n",
            "validation:\n",
            "\n",
            "loss:  0.36193431582715774\n",
            "f1 score:  0.8695283924297065\n",
            "recall:  0.8694516971279374\n",
            "precision:  0.8768609052851644\n",
            "accuracy:  0.8694516971279374\n",
            "\n",
            "**********epoch:  3 \n",
            "\n",
            "\n",
            "train:\n",
            "\n",
            "loss:  0.2173145595524046\n",
            "f1 score:  0.917178859790071\n",
            "recall:  0.9172473867595818\n",
            "precision:  0.9173148329551221\n",
            "accuracy:  0.9172473867595818\n",
            "\n",
            "validation:\n",
            "\n",
            "loss:  0.3548285812139511\n",
            "f1 score:  0.879646027575141\n",
            "recall:  0.8807658833768495\n",
            "precision:  0.8900815117841232\n",
            "accuracy:  0.8807658833768495\n",
            "\n",
            "**********epoch:  4 \n",
            "\n",
            "\n",
            "train:\n",
            "\n",
            "loss:  0.21485294505125946\n",
            "f1 score:  0.9242453006317234\n",
            "recall:  0.9242160278745645\n",
            "precision:  0.9243380034377666\n",
            "accuracy:  0.9242160278745645\n",
            "\n",
            "validation:\n",
            "\n",
            "loss:  0.3083145891626676\n",
            "f1 score:  0.879256601792576\n",
            "recall:  0.8790252393385553\n",
            "precision:  0.8811815338563409\n",
            "accuracy:  0.8790252393385553\n",
            "\n",
            "**********epoch:  5 \n",
            "\n",
            "\n",
            "train:\n",
            "\n",
            "loss:  0.1665861192676756\n",
            "f1 score:  0.9432295836728136\n",
            "recall:  0.9433797909407665\n",
            "precision:  0.9432623636394437\n",
            "accuracy:  0.9433797909407665\n",
            "\n",
            "validation:\n",
            "\n",
            "loss:  0.31444623983568615\n",
            "f1 score:  0.8969537515987803\n",
            "recall:  0.8990426457789382\n",
            "precision:  0.906554190999892\n",
            "accuracy:  0.8990426457789382\n",
            "\n",
            "**********epoch:  6 \n",
            "\n",
            "\n",
            "train:\n",
            "\n",
            "loss:  0.1156872912413544\n",
            "f1 score:  0.9564543433650325\n",
            "recall:  0.9564459930313589\n",
            "precision:  0.9564709424872025\n",
            "accuracy:  0.9564459930313589\n",
            "\n",
            "validation:\n",
            "\n",
            "loss:  0.5436416781610913\n",
            "f1 score:  0.8745170953113939\n",
            "recall:  0.8746736292428199\n",
            "precision:  0.8902089952499653\n",
            "accuracy:  0.8746736292428199\n",
            "\n",
            "**********epoch:  7 \n",
            "\n",
            "\n",
            "train:\n",
            "\n",
            "loss:  0.1289799650096231\n",
            "f1 score:  0.9608007807610379\n",
            "recall:  0.960801393728223\n",
            "precision:  0.9608331624447398\n",
            "accuracy:  0.960801393728223\n",
            "\n",
            "validation:\n",
            "\n",
            "loss:  0.40211328367392224\n",
            "f1 score:  0.8867767483956218\n",
            "recall:  0.8877284595300261\n",
            "precision:  0.887620714230798\n",
            "accuracy:  0.8877284595300261\n",
            "\n",
            "**********epoch:  8 \n",
            "\n",
            "\n",
            "train:\n",
            "\n",
            "loss:  0.13700512041234308\n",
            "f1 score:  0.9520441675480859\n",
            "recall:  0.9520905923344948\n",
            "precision:  0.952125250790701\n",
            "accuracy:  0.9520905923344948\n",
            "\n",
            "validation:\n",
            "\n",
            "loss:  0.4077751528885629\n",
            "f1 score:  0.867353211200965\n",
            "recall:  0.8677110530896431\n",
            "precision:  0.8723042417411356\n",
            "accuracy:  0.8677110530896431\n",
            "\n",
            "**********epoch:  9 \n",
            "\n",
            "\n",
            "train:\n",
            "\n",
            "loss:  0.1114852682997783\n",
            "f1 score:  0.9581706700850651\n",
            "recall:  0.9581881533101045\n",
            "precision:  0.9581787968256115\n",
            "accuracy:  0.9581881533101045\n",
            "\n",
            "validation:\n",
            "\n",
            "loss:  0.2541840904288822\n",
            "f1 score:  0.9220990840412334\n",
            "recall:  0.9225413402959095\n",
            "precision:  0.9230989440371674\n",
            "accuracy:  0.9225413402959095\n"
          ],
          "name": "stdout"
        }
      ]
    },
    {
      "cell_type": "code",
      "metadata": {
        "colab": {
          "base_uri": "https://localhost:8080/"
        },
        "id": "9iiwyqqlotTY",
        "outputId": "fe65879f-6fb0-4704-c6f2-09e3f6dd1aca"
      },
      "source": [
        "test_model(model, optimizer, scheduler)"
      ],
      "execution_count": null,
      "outputs": [
        {
          "output_type": "stream",
          "text": [
            "test: \n",
            "loss:  0.3182282031824191\n",
            "[[-3.342123031616211, -1.4163413047790527, 3.952723503112793], [-5.8144426345825195, 5.5729756355285645, -0.7006058692932129], [-5.071965217590332, 5.758038520812988, -1.5617173910140991], [2.2766172885894775, -4.4648823738098145, 1.7740753889083862], [-4.720467567443848, 6.2835211753845215, -2.701657772064209], [-6.408641815185547, 6.576035022735596, -1.264389157295227], [-7.5031867027282715, 7.734842777252197, -1.541277289390564], [-4.641702175140381, 0.9899430274963379, 2.8817391395568848], [-0.6867212653160095, 1.572458028793335, -1.464813470840454], [4.805793285369873, -3.109292507171631, -2.070469856262207], [6.854283332824707, -2.8438775539398193, -4.412267208099365], [-7.087599754333496, 5.860260963439941, 0.1010245680809021], [7.016898155212402, -3.6529617309570312, -3.5484938621520996], [0.03538564220070839, -2.399468421936035, 1.8312358856201172], [9.35315227508545, -4.289499759674072, -5.022781848907471], [-2.470986843109131, 2.2154927253723145, -0.2895468473434448], [6.861881256103516, -3.734206438064575, -3.318068504333496], [-0.9416394829750061, 0.6655752062797546, -0.2677345871925354], [-6.105100631713867, 6.396780014038086, -1.3247137069702148], [-3.289189577102661, -1.6917544603347778, 4.180696964263916], [-1.4595656394958496, 2.8772192001342773, -2.0572872161865234], [-1.3391258716583252, -3.1757924556732178, 3.842033863067627], [8.795586585998535, -4.07267427444458, -4.785403728485107], [7.657999038696289, -2.69340443611145, -5.146243095397949], [-1.7715842723846436, 1.9141894578933716, -0.7277197241783142], [-4.388576507568359, 3.9543352127075195, -0.28432080149650574], [-7.645359516143799, 8.669476509094238, -2.383695602416992], [-6.524667739868164, 8.123931884765625, -2.8448619842529297], [6.431604385375977, -3.617922067642212, -3.0172219276428223], [-2.701618194580078, -0.18539048731327057, 2.2073354721069336], [-2.5029096603393555, 0.13462747633457184, 1.7710046768188477], [7.756002902984619, -3.96677565574646, -3.9118943214416504], [-6.978231906890869, 8.063037872314453, -2.381442070007324], [-0.4442511796951294, -4.156773090362549, 4.111073970794678], [1.4032032489776611, -0.9068892598152161, -0.9120079278945923], [4.388394355773926, -2.6304502487182617, -2.112985134124756], [-3.6897616386413574, -0.35574871301651, 3.272724151611328], [-0.25566697120666504, -1.52555513381958, 1.194054365158081], [-7.471346855163574, 9.59931755065918, -3.7331318855285645], [8.746373176574707, -4.1559343338012695, -4.662607669830322], [5.911591529846191, -2.355440378189087, -3.779421329498291], [-0.9982720017433167, -0.14148767292499542, 0.6760099530220032], [-7.624204635620117, 8.672971725463867, -2.3789024353027344], [-5.491962432861328, 6.293851375579834, -1.738157868385315], [-5.826385974884033, 4.231633186340332, 0.6552357077598572], [7.41605281829834, -3.827299118041992, -3.7453155517578125], [6.392413139343262, -3.6332244873046875, -3.0006484985351562], [7.885267734527588, -3.8250293731689453, -4.170577526092529], [5.626099586486816, -2.8648922443389893, -2.9880833625793457], [7.532039642333984, -3.0556159019470215, -4.6787919998168945], [-0.7736252546310425, -2.0903003215789795, 2.3409385681152344], [-2.4572670459747314, 2.886443614959717, -1.0979245901107788], [-2.714956521987915, -2.6998677253723145, 4.598508834838867], [-2.699779748916626, -3.009401559829712, 4.939957141876221], [-2.740652322769165, 1.263429045677185, 0.8214195966720581], [4.220870018005371, -0.3282555341720581, -4.3684587478637695], [3.150954246520996, -1.3255746364593506, -2.229574680328369], [0.04281653091311455, -3.0051043033599854, 2.3915586471557617], [-1.9126535654067993, 0.7981690764427185, 0.5387463569641113], [-7.126223564147949, 5.421328067779541, 0.6370193362236023], [-7.048961639404297, 9.184962272644043, -3.70058012008667], [-8.418017387390137, 10.431488037109375, -3.7900404930114746], [-1.6227645874023438, -2.2748124599456787, 3.132005214691162], [-6.814453125, 8.368911743164062, -2.760406017303467], [8.056695938110352, -4.346277713775635, -3.863758087158203], [7.134644508361816, -3.501715660095215, -3.804687976837158], [5.106949806213379, -2.073363780975342, -3.330125331878662], [-3.6588377952575684, -1.3111392259597778, 4.171419143676758], [4.1927642822265625, -3.252211570739746, -1.2992231845855713], [-4.492945671081543, 6.411236763000488, -3.010085105895996], [-3.9205543994903564, 2.9470064640045166, 0.31061580777168274], [-3.5538814067840576, 1.3574388027191162, 1.558732509613037], [-5.829560279846191, 6.203882217407227, -1.476718544960022], [0.5226841568946838, 1.8444253206253052, -2.9567127227783203], [6.18375301361084, -3.367042064666748, -3.092097759246826], [-3.422987699508667, -3.4117140769958496, 5.95967435836792], [-1.4898579120635986, -1.491986632347107, 2.350065231323242], [-4.678153991699219, 1.1553140878677368, 2.7610888481140137], [-2.5914509296417236, -1.9815022945404053, 3.9338645935058594], [6.437129974365234, -3.1144039630889893, -3.5711441040039062], [-4.165570259094238, -0.12439979612827301, 3.5173211097717285], [-6.822680473327637, 7.727226257324219, -2.0515804290771484], [-1.9535167217254639, 2.9445676803588867, -1.5919684171676636], [-0.18496167659759521, 0.47285354137420654, -0.7913281917572021], [-3.7523157596588135, -0.8116111159324646, 3.86006498336792], [-3.0627448558807373, -3.517435073852539, 5.773404598236084], [-7.301740646362305, 8.644603729248047, -2.6847400665283203], [4.412858963012695, -1.9517706632614136, -2.8154501914978027], [-7.613565444946289, 6.78745698928833, -0.467435359954834], [-3.577648401260376, 0.5339265465736389, 2.3839287757873535], [2.710197925567627, -0.6515035033226013, -2.537022590637207], [-3.435229539871216, 3.5726401805877686, -0.8674882650375366], [5.991328239440918, -2.7300949096679688, -3.604372978210449], [-2.5483851432800293, -1.4402215480804443, 3.3716797828674316], [5.538786888122559, -2.817502021789551, -2.9504518508911133], [-0.2492692917585373, -3.1189990043640137, 2.7656188011169434], [2.5279438495635986, -3.589489459991455, 0.6162614226341248], [5.300058364868164, -3.811736583709717, -3.207082748413086], [8.673233985900879, -4.224520206451416, -4.515379428863525], [-5.801540851593018, 6.20076847076416, -1.3704782724380493], [-2.205765962600708, -3.5145421028137207, 4.987427234649658], [3.498028516769409, -3.7054576873779297, -0.164812833070755], [5.287192344665527, -3.462246894836426, -2.1161904335021973], [-4.439821720123291, 6.415751934051514, -3.121920585632324], [3.9618468284606934, -1.1549630165100098, -3.1919493675231934], [-2.2437517642974854, -2.8474886417388916, 4.401273727416992], [6.082399368286133, -2.622762441635132, -3.6700491905212402], [-0.9747176170349121, -3.400057792663574, 3.699901580810547], [4.712600231170654, -3.2816011905670166, -1.7584620714187622], [-1.7760518789291382, -3.759707450866699, 4.865556240081787], [-2.625396966934204, -2.1386218070983887, 4.104837417602539], [-2.193439245223999, -3.0606822967529297, 4.56650972366333], [5.274501800537109, -3.8059616088867188, -1.736249566078186], [7.434937000274658, -3.4603872299194336, -4.115029811859131], [0.10843371599912643, -4.368070602416992, 3.849371910095215], [-2.6857268810272217, -0.8832181096076965, 2.76505184173584], [-3.715367317199707, 0.3280237317085266, 2.633334159851074], [-1.2536126375198364, -0.6164323091506958, 1.2392808198928833], [-2.8116090297698975, -3.28309965133667, 5.352639675140381], [8.273096084594727, -3.965700387954712, -4.421707630157471], [-4.424320220947266, 2.153264045715332, 1.5311394929885864], [-5.145301818847656, 6.1643218994140625, -1.9817851781845093], [-2.433230400085449, -3.7001500129699707, 5.421669006347656], [-4.947320938110352, 1.667819619178772, 2.41192626953125], [-5.681829929351807, 7.316076755523682, -2.81512451171875], [-4.443681240081787, 5.064700603485107, -1.4869405031204224], [-8.725764274597168, 10.28927993774414, -3.2252297401428223], [-6.7781081199646, 7.072948932647705, -1.3788896799087524], [-5.018246650695801, 4.361596584320068, -0.06443724036216736], [7.646195411682129, -3.7689766883850098, -4.028628826141357], [-6.405427932739258, 6.67399263381958, -1.3398452997207642], [-2.0162248611450195, -2.042996883392334, 3.40374755859375], [6.722898483276367, -3.335904836654663, -3.5501527786254883], [-3.246469259262085, 4.448740482330322, -1.9779329299926758], [-1.3672977685928345, -3.7694053649902344, 4.489329814910889], [1.9595255851745605, -3.344844102859497, 0.7697573900222778], [-6.9229655265808105, 8.807792663574219, -3.251406669616699], [-4.779439926147461, 6.274433135986328, -2.4900031089782715], [2.1811108589172363, -3.731203556060791, 1.0637286901474], [-0.6551102995872498, -4.6434807777404785, 4.776334285736084], [6.150297164916992, -3.3550333976745605, -3.019115924835205], [-1.2683550119400024, -1.752383828163147, 2.310079574584961], [-7.119802474975586, 8.98245906829834, -3.3235440254211426], [-4.0600786209106445, 0.5685918927192688, 2.7174758911132812], [-6.763227462768555, 6.971868991851807, -1.3500038385391235], [1.7254219055175781, -2.2758841514587402, 0.1402232050895691], [-2.4564971923828125, -3.2217092514038086, 4.957307815551758], [-2.945155382156372, -1.0273221731185913, 3.3091320991516113], [-5.679925918579102, 7.020956516265869, -2.4067254066467285], [-1.4650453329086304, -0.6026429533958435, 1.479206919670105], [3.501020669937134, -0.8310778737068176, -3.139068126678467], [7.599579811096191, -3.704394578933716, -3.9572715759277344], [8.801785469055176, -4.022266864776611, -4.828511714935303], [-2.150346040725708, 1.6838128566741943, -0.03178182244300842], [-3.933845281600952, -0.1678854078054428, 3.3590121269226074], [2.0926034450531006, -1.9412182569503784, -0.6590586304664612], [-3.3166935443878174, 4.291326522827148, -1.7518829107284546], [-5.524417877197266, 7.206977367401123, -2.800858497619629], [-1.805482268333435, -3.5726375579833984, 4.6275129318237305], [6.203688144683838, -3.1345431804656982, -3.3263845443725586], [-3.6029765605926514, 0.9374944567680359, 1.8806931972503662], [-1.325831651687622, 3.678908348083496, -3.1162190437316895], [1.1504172086715698, -2.7362451553344727, 1.0186827182769775], [4.624009609222412, -3.7774271965026855, -1.1623058319091797], [-3.04058575630188, -2.539935827255249, 4.757859230041504], [-5.428335189819336, 6.672128200531006, -2.224114418029785], [-5.248396873474121, 5.3812055587768555, -1.0551927089691162], [-4.433139801025391, 4.812763690948486, -1.128735065460205], [-7.926251411437988, 7.779537677764893, -1.2746819257736206], [-2.3637473583221436, -2.7107889652252197, 4.340673923492432], [0.8487582802772522, 1.2374787330627441, -2.6756181716918945], [-5.801563262939453, 5.870778560638428, -0.9822392463684082], [6.440563678741455, -3.1950535774230957, -3.45388126373291], [-2.3222153186798096, -3.089008331298828, 4.746215343475342], [3.7619802951812744, -4.180075168609619, 0.04886734485626221], [-9.285501480102539, 11.372420310974121, -3.942617416381836], [-5.72105598449707, 6.3549323081970215, -1.6178319454193115], [-4.163023948669434, 0.5403794050216675, 2.8043298721313477], [5.745204448699951, -3.040867805480957, -3.0047049522399902], [-5.775700092315674, 3.2793562412261963, 1.6176443099975586], [-3.4228904247283936, -0.9834710955619812, 3.7100253105163574], [3.790106773376465, -2.7346391677856445, -1.4542409181594849], [5.245746612548828, -2.9177041053771973, -2.664559841156006], [-3.106820821762085, -2.230356454849243, 4.598412036895752], [-7.50250768661499, 9.456642150878906, -3.516173839569092], [5.501728057861328, -3.115802764892578, -2.672274589538574], [-1.4761601686477661, -3.3362064361572266, 4.131231784820557], [-5.979900360107422, 4.817298412322998, 0.17591522634029388], [6.604973316192627, -3.395766258239746, -3.4321675300598145], [5.824442386627197, -4.033862590789795, -2.088235855102539], [6.919004440307617, -3.4451191425323486, -3.6720871925354004], [-1.7988214492797852, -1.5019994974136353, 2.6639795303344727], [-2.5291550159454346, -0.08971764892339706, 2.041327953338623], [-6.748716354370117, 8.759172439575195, -3.427095890045166], [-3.8417932987213135, -1.2325938940048218, 4.309319019317627], [-3.480480909347534, 4.392951488494873, -1.659448266029358], [-7.8256683349609375, 9.416342735290527, -3.0547890663146973], [-7.7860517501831055, 8.54415512084961, -2.144543170928955], [-5.4094648361206055, 4.446950435638428, 0.1313447207212448], [-6.978858947753906, 7.838772296905518, -2.0473670959472656], [-2.8254711627960205, -2.872199535369873, 4.979557514190674], [-2.4414823055267334, -2.1015686988830566, 3.883845806121826], [6.665007591247559, -3.9471123218536377, -2.912886142730713], [-1.772456407546997, -3.3944578170776367, 4.540397644042969], [6.0467305183410645, -2.88265323638916, -3.3906660079956055], [-3.5691826343536377, -2.0247349739074707, 4.798520088195801], [6.002705097198486, -2.775021553039551, -3.4658398628234863], [-5.991281509399414, 7.721368312835693, -2.967866897583008], [8.144545555114746, -3.9822475910186768, -4.259537220001221], [-2.0999975204467773, 1.993534803390503, -0.4062131643295288], [-5.626012802124023, 7.3028883934021, -2.853236675262451], [-2.6644394397735596, 3.0533132553100586, -0.9842053651809692], [-3.8199899196624756, -2.1756815910339355, 5.140860557556152], [-3.603529214859009, 4.264122486114502, -1.3683011531829834], [-2.8992416858673096, -1.0367456674575806, 3.25169038772583], [7.640340805053711, -4.0870466232299805, -3.6352758407592773], [-3.920961618423462, 5.349508762359619, -2.3099212646484375], [4.659921646118164, -3.0185868740081787, -2.029186725616455], [-2.2209718227386475, -0.7824633717536926, 2.361074924468994], [-1.6087723970413208, -3.741204023361206, 4.7037787437438965], [-1.1975425481796265, -2.693354606628418, 3.2928948402404785], [1.9145244359970093, -3.6665496826171875, 1.2675360441207886], [-5.544707298278809, 7.516173362731934, -3.200265407562256], [-4.983116626739502, 5.618005752563477, -1.5893453359603882], [7.531627178192139, -3.123239278793335, -4.570858478546143], [-7.086142539978027, 6.092042922973633, -0.22797740995883942], [-2.314279794692993, -2.3700175285339355, 3.999051094055176], [-3.294438600540161, 3.5189764499664307, -0.8883916139602661], [6.041891098022461, -2.9648373126983643, -3.9036874771118164], [2.5320894718170166, -0.2104729861021042, -2.8179969787597656], [-4.217009544372559, 6.27791690826416, -3.1388258934020996], [-3.638378143310547, -0.3276682496070862, 3.280639171600342], [-3.9376800060272217, 1.0324420928955078, 2.1722288131713867], [6.746896743774414, -2.9289164543151855, -4.672086238861084], [-5.250966548919678, 4.758598804473877, -0.3313184976577759], [-5.171002388000488, 5.750581741333008, -1.4588841199874878], [-1.9850895404815674, 4.004938125610352, -2.805968761444092], [6.930504322052002, -4.324498176574707, -4.519934177398682], [-3.9347338676452637, 1.7611429691314697, 1.5037516355514526], [1.2061524391174316, -1.525961995124817, -0.10382235050201416], [6.857707500457764, -3.8552823066711426, -3.1854500770568848], [4.04310417175293, -1.9852937459945679, -2.4793663024902344], [-3.5377490520477295, -2.253117084503174, 4.9493794441223145], [-2.2777388095855713, -3.458401679992676, 5.071617603302002], [6.602264404296875, -3.0359768867492676, -3.9068713188171387], [6.441783905029297, -4.02791690826416, -2.622983455657959], [-6.469419479370117, 7.48020601272583, -2.182002544403076], [0.52496737241745, -3.8749170303344727, 2.79854154586792], [-2.0138845443725586, -3.8172340393066406, 5.129543781280518], [7.36461067199707, -2.2475712299346924, -5.267813682556152], [-4.537301063537598, 4.2324981689453125, -0.3995048403739929], [-1.653329849243164, -4.05163049697876, 5.039810657501221], [4.805904388427734, -2.8796756267547607, -2.232750415802002], [2.042811632156372, -3.3446547985076904, 0.8696892261505127], [-0.2826675772666931, -1.60027015209198, 1.2715011835098267], [-5.1821770668029785, 4.952423572540283, -0.42389529943466187], [4.1598968505859375, -2.9903078079223633, -1.498416543006897], [-2.9876620769500732, 5.421019554138184, -3.5108437538146973], [5.688586235046387, -3.3501341342926025, -2.5958251953125], [-2.55439829826355, 0.3857177495956421, 1.6014912128448486], [1.239353060722351, -3.4836788177490234, 1.7013332843780518], [-1.757222056388855, -3.8429665565490723, 4.979849338531494], [-1.4587782621383667, -3.39155650138855, 4.302690029144287], [7.163613319396973, -3.475118637084961, -3.8720173835754395], [7.885685920715332, -2.824993848800659, -5.174294948577881], [-1.276347279548645, -4.467429161071777, 5.147110462188721], [6.693782806396484, -3.4846482276916504, -3.432549476623535], [6.382071018218994, -4.148622512817383, -2.4971375465393066], [-2.7086238861083984, -2.6102454662323, 4.605564117431641], [-7.778672218322754, 9.002174377441406, -2.570125102996826], [-3.241708517074585, 0.22183029353618622, 2.2588753700256348], [-7.673272132873535, 7.544093608856201, -1.1736940145492554], [-8.2245454788208, 9.499674797058105, -2.9174141883850098], [-8.123101234436035, 9.852970123291016, -3.2716593742370605], [-3.000939130783081, 1.624898910522461, 0.7529482841491699], [-4.529829025268555, 5.826228618621826, -2.2637405395507812], [6.126045227050781, -2.3952417373657227, -4.024285793304443], [6.163579940795898, -3.5024802684783936, -2.902097225189209], [-2.2485249042510986, -3.548765182495117, 5.038476467132568], [-2.5033719539642334, -0.3040784001350403, 2.1180081367492676], [5.937896728515625, -2.5189223289489746, -3.6451873779296875], [-3.250946283340454, 2.198991298675537, 0.3881312608718872], [-1.686525821685791, -3.1342597007751465, 4.2142157554626465], [0.4964820444583893, -2.2807159423828125, 1.280403971672058], [-7.3668060302734375, 9.261481285095215, -3.4333763122558594], [-7.994621276855469, 8.632619857788086, -1.9084724187850952], [6.977183818817139, -3.202988386154175, -4.044920444488525], [-9.531628608703613, 11.548382759094238, -3.9226527214050293], [-1.5242621898651123, -2.582458019256592, 3.435153007507324], [-1.814414143562317, -3.8629865646362305, 4.981982707977295], [-9.010659217834473, 10.343537330627441, -2.9994611740112305], [-1.7102919816970825, -2.99155330657959, 4.097565174102783], [7.165609359741211, -4.341268062591553, -3.052614688873291], [6.145349502563477, -3.9145679473876953, -2.458404541015625], [6.506833076477051, -3.0846993923187256, -3.6895318031311035], [-2.174192190170288, -0.43593037128448486, 1.9372867345809937], [-8.574562072753906, 8.915026664733887, -1.9384669065475464], [-3.0618479251861572, -1.7771133184432983, 4.101298809051514], [-6.159186363220215, 8.209797859191895, -3.367610454559326], [-2.3767952919006348, -1.5757899284362793, 3.3605003356933594], [-3.20123291015625, -2.481194019317627, 4.929119110107422], [-6.266870498657227, 7.070363521575928, -1.8859609365463257], [-4.759926795959473, 5.760634899139404, -1.8758537769317627], [-0.07111682742834091, -3.723883628845215, 3.2806897163391113], [-7.364526748657227, 8.58780288696289, -2.6058664321899414], [6.968630313873291, -3.5033774375915527, -3.608872890472412], [-6.5283894538879395, 7.734407901763916, -2.423511028289795], [-4.126888275146484, -2.724409818649292, 5.883640766143799], [-0.7518453001976013, -3.1904139518737793, 3.2699437141418457], [7.38059663772583, -3.7287051677703857, -3.824917793273926], [8.641605377197266, -4.173191547393799, -4.4889960289001465], [-3.8357367515563965, 3.0735087394714355, 0.1773010790348053], [8.72907829284668, -4.185354709625244, -4.547318458557129], [-2.58724045753479, -3.876476764678955, 5.670700550079346], [-5.264871597290039, 6.812575817108154, -2.6369128227233887], [-5.026991367340088, 4.586845874786377, -0.36425548791885376], [-7.68198299407959, 8.445169448852539, -2.0985517501831055], [-3.6736505031585693, 0.8343603014945984, 2.1351070404052734], [-4.967682838439941, 6.038034915924072, -1.9916808605194092], [-3.6097748279571533, 1.8367279767990112, 1.08285391330719], [-7.925025939941406, 9.866538047790527, -3.582822322845459], [-2.6735756397247314, -2.6246070861816406, 4.631310939788818], [-0.5307138562202454, -2.760098695755005, 2.730207920074463], [1.1334092617034912, -2.6432414054870605, 0.9749308824539185], [9.491453170776367, -4.313153266906738, -5.194758892059326], [7.4193339347839355, -3.059865713119507, -4.450698375701904], [0.6787280440330505, -3.126368522644043, 1.9041942358016968], [-6.242548942565918, 6.030837535858154, -0.8620384931564331], [1.0394998788833618, -2.5784568786621094, 0.9504075050354004], [-4.357860565185547, 0.4808526039123535, 3.086071491241455], [5.972911834716797, -2.215001106262207, -4.079740524291992], [9.259734153747559, -3.955759048461914, -5.30872106552124], [-3.7872486114501953, 2.1205081939697266, 0.9304041266441345], [5.391549110412598, -2.3694663047790527, -3.3347678184509277], [-3.6740291118621826, -0.5933855175971985, 3.564091205596924], [-7.6238603591918945, 6.917474746704102, -0.7233223915100098], [-3.4480888843536377, -0.5380378365516663, 3.26546573638916], [-6.01859712600708, 5.847182750701904, -0.8760502338409424], [-1.2478348016738892, 1.9425994157791138, -1.3080923557281494], [-1.2364195585250854, -4.552876949310303, 5.204396724700928], [4.807994365692139, -2.0837836265563965, -3.0673270225524902], [-0.9464202523231506, -4.202303409576416, 4.567870140075684], [-1.8597073554992676, -2.5730459690093994, 3.7732787132263184], [3.9986732006073, -1.119611144065857, -3.289412021636963], [-0.6145521998405457, 1.8879728317260742, -1.842620849609375], [-1.4095999002456665, -4.335317134857178, 5.11486291885376], [-3.2589282989501953, -3.593507766723633, 5.982621669769287], [4.559161186218262, -1.5456777811050415, -3.3871283531188965], [2.078545093536377, -4.475886821746826, 2.0299253463745117], [8.965548515319824, -4.279880523681641, -4.789454936981201], [7.41743278503418, -3.358149528503418, -5.4733734130859375], [-7.566583633422852, 9.456588745117188, -3.4458870887756348], [-6.308564186096191, 7.7476582527160645, -2.69527006149292], [-2.0133416652679443, -0.006420286372303963, 1.416357159614563], [-5.427544593811035, 3.5396811962127686, 1.0155892372131348], [-8.750042915344238, 10.688560485839844, -3.6540160179138184], [-1.653518557548523, -3.612325668334961, 4.636372089385986], [-2.149620532989502, 3.9748547077178955, -2.577526569366455], [-8.521102905273438, 9.52138614654541, -2.69451904296875], [-1.5453284978866577, -4.057033061981201, 5.001758098602295], [7.191123008728027, -4.054051399230957, -3.298902988433838], [-2.534754991531372, -3.1206436157226562, 4.869595050811768], [0.3461250960826874, -1.7709739208221436, 0.8583643436431885], [-5.002643585205078, 5.932444095611572, -1.8424464464187622], [3.3663899898529053, -1.5613137483596802, -2.195448875427246], [-2.6594676971435547, -1.037845492362976, 3.1153383255004883], [-3.1984245777130127, 2.182845115661621, 0.44233977794647217], [3.014533519744873, -3.1877729892730713, -0.27709174156188965], [7.768278121948242, -3.777419328689575, -4.109954357147217], [-7.657575607299805, 8.462018966674805, -2.1799135208129883], [-6.801613807678223, 7.470849514007568, -1.8149772882461548], [3.6172263622283936, -2.2206308841705322, -1.807392954826355], [6.606112003326416, -3.3568854331970215, -3.4520182609558105], [1.73740553855896, -3.515380382537842, 1.3075830936431885], [-4.533918380737305, 4.99167013168335, -1.4014533758163452], [6.613058090209961, -3.2829065322875977, -3.542398452758789], [5.424905776977539, -2.929295301437378, -2.7688770294189453], [-1.7171505689620972, -3.6114487648010254, 4.692255020141602], [7.12697696685791, -3.4652459621429443, -3.8492627143859863], [6.472553730010986, -2.425966262817383, -4.278866291046143], [6.297890663146973, -3.6613216400146484, -2.8431520462036133], [-1.1142581701278687, -4.103628635406494, 4.601659297943115], [4.066634654998779, -0.9371134638786316, -3.539491653442383], [6.379327774047852, -2.5713706016540527, -4.069900989532471], [-5.779125213623047, 6.499414920806885, -1.8301438093185425], [5.975542068481445, -3.499361038208008, -2.7648797035217285], [4.656593322753906, -3.0411882400512695, -1.99668288230896], [-3.8139679431915283, 2.7068703174591064, 0.3444402813911438], [-3.514572858810425, -2.0759387016296387, 4.824798107147217], [1.4198988676071167, -0.27817749977111816, -1.6364823579788208], [-2.295884132385254, -3.593750476837158, 5.154831409454346], [-6.538271903991699, 7.87311315536499, -2.571824550628662], [7.504781723022461, -3.6000022888183594, -4.070016860961914], [5.759855270385742, -3.337951183319092, -2.6538848876953125], [-7.631320476531982, 9.148796081542969, -2.9638266563415527], [-5.638301849365234, 6.208086967468262, -1.5203756093978882], [-4.4765095710754395, 2.539858818054199, 1.2263621091842651], [-2.8629467487335205, -1.818827509880066, 3.9344396591186523], [0.0987691879272461, -3.1056957244873047, 2.4149975776672363], [-0.7109299898147583, -2.1102211475372314, 2.1881604194641113], [-7.192957878112793, 8.250635147094727, -2.3581132888793945], [6.909907341003418, -3.6616029739379883, -3.478147029876709], [-1.601742148399353, -2.9647231101989746, 3.961759090423584], [-7.283883571624756, 9.343881607055664, -3.5981297492980957], [-6.3307061195373535, 6.566559314727783, -1.3291088342666626], [5.1395263671875, -2.201115131378174, -3.1942062377929688], [-3.8908894062042236, 0.5671157240867615, 2.6459884643554688], [8.168168067932129, -3.9218497276306152, -4.3629231452941895], [4.187860488891602, -1.8216965198516846, -2.700049877166748], [6.1251325607299805, -3.7088968753814697, -2.6898322105407715], [-2.1140429973602295, -3.2019295692443848, 4.635100841522217], [-2.1994221210479736, -1.9858378171920776, 3.5662946701049805], [-2.7213244438171387, -3.685915946960449, 5.637080192565918], [-7.563498497009277, 7.46964168548584, -1.2660977840423584], [2.574923276901245, -3.271158456802368, 0.31251463294029236], [-6.2340168952941895, 4.2315168380737305, 0.9777137637138367], [-7.056598663330078, 6.920749187469482, -1.1151139736175537], [6.892036437988281, -3.9746103286743164, -3.1255931854248047], [-1.6528050899505615, -4.178250789642334, 5.173475742340088], [7.448247909545898, -2.9474103450775146, -4.596872329711914], [-8.132685661315918, 9.652034759521484, -3.0414743423461914], [-6.662318229675293, 8.363746643066406, -3.0478954315185547], [-5.164349555969238, 5.630972385406494, -1.4172947406768799], [5.223311901092529, -3.261348247528076, -2.3168492317199707], [-5.476962089538574, 4.6807708740234375, -0.19430454075336456], [6.624137878417969, -3.219967842102051, -4.432361125946045], [-3.2716434001922607, 4.324731349945068, -1.784436583518982], [-0.6587665677070618, -4.659003734588623, 4.769554615020752], [7.457235336303711, -3.668112277984619, -3.9544167518615723], [-8.494538307189941, 9.394083023071289, -2.420288562774658], [-6.818124294281006, 6.183763027191162, -0.6135697364807129], [-5.242802619934082, 6.240743160247803, -1.9167100191116333], [-3.1163604259490967, 0.7281661629676819, 1.7505996227264404], [-3.5503711700439453, 5.01089334487915, -2.258718490600586], [-2.0103979110717773, -4.160315990447998, 5.474079608917236], [-6.601967811584473, 7.480061054229736, -2.143601894378662], [-5.83293342590332, 7.211401462554932, -2.5040206909179688], [-1.4642304182052612, -3.5412673950195312, 4.351027011871338], [-4.230373859405518, 4.7213640213012695, -1.2442923784255981], [-3.400751829147339, 4.739775657653809, -2.1278696060180664], [-6.8646111488342285, 5.185252666473389, 0.47391682863235474], [-2.2069337368011475, -2.47540283203125, 3.9794259071350098], [6.623158931732178, -3.1519861221313477, -3.622312545776367], [-4.430926322937012, 4.8508620262146, -1.2425063848495483], [-2.763073205947876, -2.4923994541168213, 4.538113594055176], [8.035140037536621, -3.3844780921936035, -4.77401876449585], [-3.215686082839966, 3.2401316165924072, -0.719853401184082], [4.439516067504883, -3.41501522064209, -1.404840111732483], [-0.028889063745737076, -2.1606063842773438, 1.5417931079864502], [-7.606077671051025, 7.520499229431152, -1.3007584810256958], [-7.714858531951904, 9.3564453125, -3.1313953399658203], [-6.1163740158081055, 3.0371897220611572, 2.2099475860595703], [1.5376795530319214, 0.7932566404342651, -2.9341211318969727], [6.681613922119141, -3.4797921180725098, -3.4259958267211914], [-2.31461501121521, -3.926199436187744, 5.497952461242676], [-3.658526659011841, -2.473177194595337, 5.209081172943115], [4.598049163818359, -2.0136420726776123, -2.9492578506469727], [-7.853227138519287, 9.509222030639648, -3.1628332138061523], [-7.550602436065674, 9.558830261230469, -3.5462112426757812], [-5.070917129516602, 6.3250956535339355, -2.2999863624572754], [-1.8757363557815552, -1.4290522336959839, 2.7176647186279297], [2.604710817337036, -1.2275583744049072, -1.7095366716384888], [-3.995706081390381, 4.410594463348389, -1.1956759691238403], [-5.23071813583374, 1.6229724884033203, 2.6895222663879395], [-7.242512226104736, 9.216347694396973, -3.5036206245422363], [-0.5969956517219543, -0.7665429711341858, 0.6725095510482788], [-7.872758388519287, 9.530708312988281, -3.2688536643981934], [5.620244979858398, -2.2149453163146973, -3.669644355773926], [-8.081851959228516, 8.634845733642578, -1.873078465461731], [-1.575386643409729, -2.8449151515960693, 3.7713141441345215], [-5.089668273925781, 4.8098883628845215, -0.5809170603752136], [-5.988048553466797, 7.92780065536499, -3.2160000801086426], [3.6858937740325928, -1.823114037513733, -2.2425084114074707], [-4.511085033416748, 6.1375837326049805, -2.6794424057006836], [8.473099708557129, -4.149892330169678, -4.387771129608154], [0.8538215756416321, 0.23335225880146027, -1.6382542848587036], [3.2758076190948486, -1.4087687730789185, -2.260636806488037], [-3.8241360187530518, 4.888628959655762, -1.8400360345840454], [-4.356945037841797, 0.8467077612876892, 2.7305846214294434], [-3.0647008419036865, -0.4010547995567322, 2.7162437438964844], [-6.673526287078857, 6.932108402252197, -1.4520511627197266], [-5.169428825378418, 7.133228778839111, -3.1702094078063965], [2.0028483867645264, -1.8919285535812378, -0.5397039651870728], [6.8983001708984375, -3.3821775913238525, -3.7183327674865723], [2.124650478363037, -3.2441835403442383, 0.7039850950241089], [4.502028465270996, -3.9998064041137695, -0.8752411007881165], [7.864813804626465, -3.491246223449707, -4.555526256561279], [-5.086134910583496, 1.8531135320663452, 2.3687496185302734], [-4.911513328552246, 3.0146727561950684, 1.0993950366973877], [-2.589644193649292, -2.9567532539367676, 4.8060221672058105], [7.75581169128418, -3.157559633255005, -5.415909767150879], [6.1991801261901855, -2.3713274002075195, -4.097991943359375], [-5.377973556518555, 7.073455333709717, -2.860093116760254], [-1.0370131731033325, -0.8774140477180481, 1.3849798440933228], [6.820970058441162, -3.603701591491699, -3.41849422454834], [-2.6794841289520264, -3.499276638031006, 5.413044452667236], [3.9115912914276123, -2.8467905521392822, -1.486944556236267], [0.8622355461120605, -0.43563687801361084, -0.9039101600646973], [-0.8771121501922607, -1.0455163717269897, 1.4194055795669556], [0.8525161743164062, -3.0163683891296387, 1.577537178993225], [-0.22706516087055206, -4.025632381439209, 3.763901710510254], [-9.115808486938477, 10.213855743408203, -2.728438377380371], [7.8277740478515625, -3.666882038116455, -4.284955978393555], [6.290029525756836, -2.4427506923675537, -3.9892578125], [5.28349494934082, -2.820208787918091, -2.7808732986450195], [6.13632869720459, -2.5795164108276367, -3.7947020530700684], [6.368697643280029, -3.3133249282836914, -3.3307347297668457], [2.7380106449127197, -3.339463949203491, 0.18054252862930298], [-2.3954741954803467, -2.9910151958465576, 4.704695701599121], [2.2079122066497803, -3.493288993835449, 0.8688071370124817], [5.130692481994629, -2.1193478107452393, -3.3121819496154785], [7.198637962341309, -3.443096399307251, -3.930267333984375], [-1.2590422630310059, -3.71779203414917, 4.350732326507568], [4.526978015899658, -2.681675910949707, -2.089388370513916], [-6.072019577026367, 6.206446647644043, -1.0977686643600464], [-2.9040470123291016, -2.8826799392700195, 5.070061206817627], [-2.6871249675750732, 3.8089799880981445, -1.7960642576217651], [7.990933418273926, -3.689939022064209, -4.438561916351318], [7.829338073730469, -4.476734638214111, -3.393578052520752], [3.1766955852508545, -2.1490912437438965, -1.503485083580017], [-6.296387672424316, 8.141107559204102, -3.170383930206299], [-1.9148021936416626, -3.6811859607696533, 4.924961090087891], [-3.512535810470581, 4.164007186889648, -1.44105064868927], [5.667647361755371, -2.481358528137207, -3.4224061965942383], [-8.774473190307617, 11.176721572875977, -4.257925987243652], [8.91261100769043, -6.40513277053833, -5.852713108062744], [-5.020187854766846, 3.9544754028320312, 0.18330104649066925], [0.21798893809318542, -3.346670627593994, 2.477778911590576], [-5.773364067077637, 3.692014455795288, 1.1569315195083618], [4.919503211975098, -2.3290817737579346, -2.889204502105713], [-0.46620652079582214, -3.2724602222442627, 3.1670422554016113], [-5.209798812866211, 6.4610276222229, -2.2497825622558594], [-6.214400291442871, 7.706387996673584, -2.655391216278076], [-0.3563481271266937, -3.746652841567993, 3.449188232421875], [-8.394042015075684, 10.194475173950195, -3.4291086196899414], [-0.8311218619346619, -3.4925742149353027, 3.7097620964050293], [-0.8158953785896301, 0.5996382832527161, -0.324171245098114], [-1.6053003072738647, -3.2916646003723145, 4.260991096496582], [-2.9440300464630127, -1.1344565153121948, 3.3806729316711426], [8.173027992248535, -3.9269328117370605, -4.348045825958252], [-5.640506744384766, 5.8746018409729, -1.3076694011688232], [7.2439117431640625, -3.9735159873962402, -3.4155917167663574], [-4.0914764404296875, 4.493373394012451, -1.12308669090271], [6.67608118057251, -3.128203868865967, -3.732353687286377], [-3.3714749813079834, -0.695723831653595, 3.3846850395202637], [-3.0790016651153564, -1.7065033912658691, 4.02902364730835], [-5.828841209411621, 5.483258247375488, -0.5515249967575073], [-5.942702293395996, 6.474365234375, -1.5328060388565063], [-8.21092414855957, 10.196746826171875, -3.6501827239990234], [-4.221428394317627, 3.709068775177002, -0.14403341710567474], [-4.488561630249023, 3.9195051193237305, -0.10842491686344147], [2.443622350692749, -0.4683520197868347, -2.4396862983703613], [-3.944483995437622, 5.184321880340576, -2.079888343811035], [-6.057094573974609, 6.694495677947998, -1.7071504592895508], [-4.644743919372559, -0.592901885509491, 4.427497386932373], [-4.4958295822143555, 5.947257995605469, -2.397611618041992], [-5.327944755554199, 2.174163818359375, 2.2116594314575195], [-0.4689677357673645, -3.430777072906494, 3.315268039703369], [-4.075345516204834, 5.386044025421143, -2.2536849975585938], [0.9189131259918213, 1.4889267683029175, -3.0809707641601562], [-7.066972732543945, 8.618335723876953, -2.880661964416504], [5.494601726531982, -3.3056480884552, -2.391207218170166], [-4.244253158569336, -1.0511829853057861, 4.448032855987549], [-1.8273330926895142, -1.7926079034805298, 2.977985382080078], [-0.5276288986206055, -3.3594436645507812, 3.2428669929504395], [8.558277130126953, -3.877149820327759, -4.728516578674316], [-5.277209758758545, 5.911032676696777, -1.5605757236480713], [-4.9800825119018555, 2.24743390083313, 1.875661015510559], [-8.797528266906738, 9.394735336303711, -2.1379785537719727], [-1.0382150411605835, -4.43829870223999, 4.9486517906188965], [-6.648350715637207, 7.997348308563232, -2.684086322784424], [6.207983493804932, -2.7779059410095215, -3.781609535217285], [8.311522483825684, -3.4773826599121094, -4.939543724060059], [-3.9690768718719482, 4.140589237213135, -0.8080801963806152], [-6.111327171325684, 8.072830200195312, -3.319207191467285], [6.489911079406738, -2.4046831130981445, -4.2701334953308105], [-0.23647579550743103, -2.9127492904663086, 2.708920955657959], [-1.267077922821045, -1.6139124631881714, 2.310840606689453], [-7.453861236572266, 8.51822280883789, -2.390371799468994], [-1.3277251720428467, -4.341515064239502, 5.0613813400268555], [-2.808323860168457, 2.3907394409179688, -0.0893944799900055], [5.081902980804443, -3.0738115310668945, -2.3437609672546387], [-2.6467792987823486, 4.238658428192139, -2.2938108444213867], [-1.7631255388259888, 3.339048385620117, -2.258838653564453], [-6.486554145812988, 8.096428871154785, -2.8404269218444824], [-1.866512417793274, -3.9906210899353027, 5.199796199798584], [8.789568901062012, -4.018151760101318, -4.820921421051025], [-4.443526268005371, 3.6291232109069824, 0.090668223798275], [8.51049518585205, -4.118106365203857, -4.460752964019775], [-3.0897886753082275, -2.4482262134552, 4.799710750579834], [7.687018394470215, -3.869554281234741, -3.948904514312744], [-5.0615692138671875, 6.262314319610596, -2.154751777648926], [8.78757381439209, -4.192015171051025, -4.6608757972717285], [-7.31667423248291, 7.091540813446045, -0.8447980880737305], [-1.7406216859817505, 1.354546070098877, -0.22116421163082123], [-5.079946517944336, 2.697859287261963, 1.4699324369430542], [5.002280235290527, -4.355034351348877, -0.9496906995773315], [7.626570701599121, -3.690232753753662, -4.092302322387695], [8.346003532409668, -3.4733073711395264, -4.972265720367432], [-6.223792552947998, 7.189309597015381, -2.101142406463623], [-3.179669141769409, -2.7838611602783203, 5.230636119842529], [-0.3489960730075836, -3.3480005264282227, 3.1775450706481934], [-6.230287075042725, 5.154458522796631, -0.14401257038116455], [6.127475738525391, -2.8032236099243164, -4.45902156829834], [0.45822128653526306, 1.8658822774887085, -2.990227222442627], [0.2539137005805969, -2.849876880645752, 1.9637891054153442], [6.762475967407227, -3.7923052310943604, -3.1824278831481934], [-7.692517280578613, 8.753095626831055, -2.4573965072631836], [-7.3625078201293945, 9.312955856323242, -3.417712688446045], [-1.2112668752670288, 2.649113655090332, -2.137115001678467], [-3.0761585235595703, -1.7243419885635376, 4.066659927368164], [-2.3916847705841064, -2.3038835525512695, 4.022251605987549], [-3.431429147720337, 6.388071537017822, -4.081915378570557], [-3.6655771732330322, 4.907343864440918, -2.10951566696167], [-3.061706304550171, 5.11033821105957, -2.9351606369018555], [3.400233030319214, -1.0680121183395386, -2.7602877616882324], [-6.065273284912109, 5.071426868438721, 0.019904986023902893], [-7.144620418548584, 7.197454929351807, -1.3656038045883179], [2.3980441093444824, -2.5047872066497803, -0.3269335627555847], [7.048537254333496, -2.932096481323242, -4.39194917678833], [-4.566105842590332, -0.4198199510574341, 4.109742164611816], [-6.070941925048828, 6.8759660720825195, -1.8517979383468628], [-0.5434881448745728, -4.699613094329834, 4.6971025466918945], [0.8001639246940613, 0.7985640168190002, -2.0657958984375], [5.998474597930908, -2.9520273208618164, -3.2490997314453125], [-3.863276720046997, -0.9269974827766418, 3.9877119064331055], [8.344442367553711, -4.488572597503662, -3.9763402938842773], [6.619972229003906, -4.074350833892822, -4.30731201171875], [-4.394490718841553, -0.06948971748352051, 3.6682071685791016], [-4.480600833892822, 4.918968677520752, -1.2454980611801147], [6.121947288513184, -2.3837573528289795, -3.968689441680908], [-6.490300178527832, 8.016470909118652, -2.8083362579345703], [7.889404296875, -3.978956937789917, -4.019982814788818], [5.016585350036621, -3.7692408561706543, -1.5453457832336426], [-8.446419715881348, 9.92484188079834, -3.0131125450134277], [-6.664964199066162, 8.780647277832031, -3.5136351585388184], [6.109418869018555, -3.53958797454834, -2.8063597679138184], [3.397615432739258, -3.3363258838653564, -0.4556637406349182], [-5.078289985656738, 5.783055782318115, -1.6480737924575806], [5.633865833282471, -2.2289743423461914, -3.667910575866699], [-7.404827117919922, 9.137747764587402, -3.119729995727539], [-6.949541091918945, 7.354840278625488, -1.6161330938339233], [-2.0255143642425537, -2.995905876159668, 4.320035457611084], [-3.7775795459747314, 5.28919792175293, -2.4562010765075684], [-1.3175945281982422, -4.1518635749816895, 4.909849643707275], [3.777358293533325, -2.3942904472351074, -1.7456315755844116], [-5.11722469329834, 4.3265509605407715, 0.048744186758995056], [3.1799986362457275, -2.7660367488861084, -0.816060483455658], [-5.227404594421387, 1.5346485376358032, 2.797028064727783], [-3.0140187740325928, -3.9721202850341797, 6.125442028045654], [-6.1079607009887695, 6.55076265335083, -1.531090259552002], [-2.4739978313446045, -3.405184745788574, 5.105210304260254], [-0.1043146625161171, -0.5489235520362854, 0.19545581936836243], [-2.1603212356567383, -1.8953845500946045, 3.4203810691833496], [-6.14338493347168, 7.369361400604248, -2.355034828186035], [-0.37843677401542664, -2.7097103595733643, 2.5415587425231934], [1.4003657102584839, -1.1884832382202148, -0.7212676405906677], [5.487403869628906, -3.5566773414611816, -2.257509708404541], [-2.3249945640563965, -3.627624273300171, 5.203601837158203], [-3.1412088871002197, 4.454014301300049, -2.064403533935547], [3.2750537395477295, -2.7672500610351562, -0.9595621228218079], [5.244416236877441, -4.4182963371276855, -1.0989718437194824], [4.207311153411865, -2.023123025894165, -2.5455098152160645], [8.162510871887207, -3.9226126670837402, -4.340582847595215], [-3.734933614730835, 0.17398403584957123, 2.7833542823791504], [-1.5182770490646362, -4.4592156410217285, 5.342763423919678], [-5.358579635620117, 7.0429253578186035, -2.8381295204162598], [4.278803825378418, -2.665799140930176, -1.9731508493423462], [1.9601598978042603, -0.662528932094574, -1.7264984846115112], [-5.73017692565918, 4.573222637176514, 0.3145902752876282], [-1.9609625339508057, -2.1670608520507812, 3.492257595062256], [6.234536170959473, -3.1012725830078125, -3.3940539360046387], [6.547054290771484, -2.3088388442993164, -4.500853061676025], [-5.303008079528809, 3.7742066383361816, 0.783778190612793], [0.18386073410511017, -3.060227155685425, 2.3758397102355957], [-4.410721778869629, 5.379894733428955, -1.9232760667800903], [-3.3153998851776123, -0.24152202904224396, 2.8210086822509766], [-1.857617735862732, -2.66365909576416, 3.8711366653442383], [-4.762182712554932, 2.6586012840270996, 1.2230230569839478], [7.247586727142334, -3.5962250232696533, -3.759822368621826], [-2.9262406826019287, 3.548004627227783, -1.244642734527588], [-5.64849853515625, 7.772098064422607, -3.4289398193359375], [-3.355175256729126, 4.84357213973999, -2.3707776069641113], [-9.129593849182129, 9.849075317382812, -2.4560418128967285], [7.4404144287109375, -3.3696346282958984, -5.481155872344971], [-2.350956678390503, -2.6793129444122314, 4.386406898498535], [0.38070571422576904, 0.4740329384803772, -1.458534836769104], [-2.5080087184906006, -3.7793540954589844, 5.524652004241943], [-2.525346040725708, -1.043423056602478, 2.958674907684326], [-3.8970115184783936, 2.6943199634552, 0.438968300819397], [-3.3293075561523438, 0.8562940955162048, 1.8619697093963623], [8.112473487854004, -4.0538554191589355, -5.547878265380859], [-4.156405448913574, -0.21082742512226105, 3.5959243774414062], [-6.983166694641113, 6.235872745513916, -0.4010300636291504], [-3.9842965602874756, 4.039154529571533, -0.7630369067192078], [-3.1580116748809814, -3.004852771759033, 5.341999530792236], [-4.513352394104004, 5.210119247436523, -1.576804518699646], [0.2746897339820862, -0.1605219691991806, -0.7132706642150879], [-7.577663898468018, 8.638667106628418, -2.433292865753174], [-5.127893447875977, 6.8189616203308105, -2.812866687774658], [-7.995445728302002, 9.622200012207031, -3.1397080421447754], [-6.98657751083374, 8.44529914855957, -2.8163509368896484], [-1.9537516832351685, -3.812121868133545, 5.116272449493408], [-1.0197654962539673, 0.3755471706390381, 0.1369457244873047], [-6.488065719604492, 8.200623512268066, -3.0264291763305664], [-8.615979194641113, 10.619316101074219, -3.7389392852783203], [-4.306553840637207, 4.80579137802124, -1.3384475708007812], [4.899681091308594, -1.5417133569717407, -3.69160795211792], [7.141263961791992, -2.5460009574890137, -5.4335455894470215], [-4.145904541015625, 4.497140407562256, -1.091978907585144], [-2.4792287349700928, -2.220241069793701, 4.062952041625977], [-2.904351234436035, -1.329554557800293, 3.5622334480285645], [-3.4942495822906494, 2.224266767501831, 0.6507190465927124], [0.7717531323432922, -3.2853899002075195, 1.9782694578170776], [-4.968340873718262, 5.422634601593018, -1.4037772417068481], [-2.7069613933563232, 2.611647129058838, -0.35628095269203186], [6.471883296966553, -3.7075881958007812, -2.9670848846435547], [-6.63417911529541, 8.484952926635742, -3.225099563598633], [-2.5820953845977783, 2.135981798171997, -0.19533899426460266], [-3.8483526706695557, 5.040412425994873, -2.029934883117676], [-4.133141040802002, 5.38015604019165, -2.096444606781006], [4.326135635375977, -1.5787150859832764, -3.0522613525390625], [-7.280457496643066, 8.104974746704102, -2.060817241668701], [-1.9133105278015137, -3.9917707443237305, 5.25097131729126], [6.548264503479004, -3.804104804992676, -4.295603275299072], [-1.5477133989334106, -3.950286626815796, 4.8072404861450195], [-3.1395483016967773, -0.5624906420707703, 2.9905080795288086], [-1.2417856454849243, 2.0451807975769043, -1.3975496292114258], [-3.264176845550537, 4.454765796661377, -1.9221869707107544], [7.667316913604736, -3.8917922973632812, -3.901167869567871], [-5.281855583190918, 4.393893718719482, 0.04697831720113754], [-2.0683672428131104, -2.570049524307251, 3.9430928230285645], [-2.864771604537964, 0.8223318457603455, 1.2510989904403687], [-5.318624973297119, 6.587501049041748, -2.3069214820861816], [-1.862924575805664, 0.8342254757881165, 0.5046598315238953], [-6.510420799255371, 6.274731159210205, -0.8601744174957275], [4.075326442718506, -3.234360694885254, -1.2059290409088135], [6.449536323547363, -2.388770580291748, -4.244996070861816], [-6.400954723358154, 6.941364765167236, -1.7677730321884155], [-6.142799377441406, 7.002372741699219, -1.9403493404388428], [-3.7594220638275146, 3.915212631225586, -0.8210227489471436], [2.4181067943573, -0.4476526379585266, -2.440793991088867], [-7.540256977081299, 8.15068244934082, -1.8725517988204956], [5.361801624298096, -3.1574857234954834, -2.489933967590332], [-4.143110275268555, 5.570283889770508, -2.3377346992492676], [-5.737816333770752, 6.627837657928467, -1.885314702987671], [-6.021798133850098, 7.8387932777404785, -3.0737648010253906], [-7.40714168548584, 9.338974952697754, -3.4278054237365723], [-8.317211151123047, 9.870933532714844, -3.139496326446533], [-1.9643433094024658, -2.738055467605591, 3.922412395477295], [-4.721560478210449, 3.5078301429748535, 0.45702385902404785], [10.639151573181152, -6.746863842010498, -7.2178568840026855], [-4.275506973266602, 0.599029004573822, 2.9383578300476074], [-4.536809921264648, 2.453763961791992, 1.2556322813034058], [-1.205060362815857, -2.820979118347168, 3.4524073600769043], [6.090654373168945, -4.266560077667236, -2.1013011932373047], [5.409082889556885, -2.9811763763427734, -2.6989355087280273], [-1.605520248413086, -3.7673263549804688, 4.709474086761475], [-0.9067254662513733, -1.9806140661239624, 2.2780966758728027], [-5.572301864624023, 4.459151744842529, 0.3238655924797058], [-3.1717183589935303, -3.3876798152923584, 5.745346546173096], [-2.0573155879974365, 2.7263643741607666, -1.359704613685608], [-2.8139116764068604, -0.7462415099143982, 2.912632942199707], [0.5240250825881958, -3.9311585426330566, 2.864211082458496], [-2.675654649734497, -1.225721001625061, 3.187911033630371], [6.9229631423950195, -3.6846582889556885, -3.430817127227783], [-5.834003448486328, 7.824453830718994, -3.299086570739746], [-3.7540171146392822, 2.314462661743164, 0.8626699447631836], [-2.766512632369995, -2.103691816329956, 4.223593235015869], [-6.318964004516602, 7.176862716674805, -1.9425863027572632], [-2.4315707683563232, -2.498281478881836, 4.206482410430908], [3.0078670978546143, -1.8337661027908325, -1.5699723958969116], [-2.539708137512207, -3.97570538520813, 5.7611212730407715], [-2.8854801654815674, -2.326829433441162, 4.458603382110596], [8.492955207824707, -4.085992336273193, -4.415485382080078], [-2.2494473457336426, -3.7417726516723633, 5.3113179206848145], [5.971906661987305, -2.810333251953125, -3.4456276893615723], [-7.0608062744140625, 7.859130382537842, -2.162141799926758], [-1.8599348068237305, -3.4672207832336426, 4.674907207489014], [-6.011122703552246, 7.133337497711182, -2.2565383911132812], [-1.3748743534088135, -2.987147331237793, 3.7569494247436523], [-7.178946495056152, 8.521690368652344, -2.6435389518737793], [-8.303689002990723, 8.178342819213867, -1.3731857538223267], [9.0144681930542, -4.1000142097473145, -4.955873966217041], [6.677488803863525, -4.173163414001465, -2.6955785751342773], [-0.9458137154579163, 0.24063487350940704, 0.21528145670890808], [-1.372101902961731, -4.32305383682251, 5.057095050811768], [6.776427268981934, -3.242880344390869, -3.766726016998291], [-6.651618957519531, 8.177507400512695, -2.7528562545776367], [-3.178392171859741, 1.1234151124954224, 1.3963465690612793], [-4.678153991699219, 1.155314326286316, 2.7610883712768555], [-3.2556426525115967, 3.1441993713378906, -0.43141353130340576], [-2.316053628921509, -1.4428882598876953, 3.0091404914855957], [-5.757200717926025, 6.366663455963135, -1.614445447921753], [-3.9172134399414062, -1.8943532705307007, 4.954233646392822], [9.467071533203125, -4.579535484313965, -4.864247798919678], [6.298909664154053, -2.4971938133239746, -4.040694713592529], [-6.670314311981201, 6.341834545135498, -0.8212219476699829], [-0.9814534783363342, 2.6613101959228516, -2.3638620376586914], [0.29005205631256104, -3.6701009273529053, 2.820178985595703], [-3.246347665786743, -2.4546051025390625, 4.815767765045166], [-4.858493804931641, 6.802391529083252, -3.070021629333496], [-1.7848759889602661, -3.428480625152588, 4.514671802520752], [-3.218855142593384, -3.3558573722839355, 5.754227161407471], [1.1131013631820679, -4.693065166473389, 3.182476043701172], [-6.551395416259766, 7.76132869720459, -2.4127020835876465], [-1.60942804813385, 1.819717288017273, -0.7817291021347046], [-4.7408928871154785, 5.478646278381348, -1.602104902267456], [3.012748956680298, -2.6776199340820312, -0.7672191858291626], [-1.553403377532959, 2.090379238128662, -1.1083025932312012], [7.409940719604492, -2.615231513977051, -5.182762145996094], [7.961055755615234, -3.815378427505493, -4.271430492401123], [-5.880023002624512, 7.526847839355469, -2.8254690170288086], [7.567749977111816, -4.012664794921875, -3.6972126960754395], [-8.588105201721191, 10.431373596191406, -3.5205516815185547], [-7.975466728210449, 7.7289204597473145, -1.0893937349319458], [-2.009730815887451, -3.16576886177063, 4.450092792510986], [-2.546570062637329, -2.7676548957824707, 4.597748279571533], [-3.1133201122283936, -3.0282421112060547, 5.346869945526123], [-3.0765771865844727, -2.0837013721466064, 4.453067779541016], [-3.8701014518737793, 2.1432909965515137, 1.1593414545059204], [-3.245147466659546, 1.5043449401855469, 1.137663722038269], [-5.46188497543335, 5.346299171447754, -0.896529495716095], [6.438179969787598, -3.334507465362549, -3.3465476036071777], [-6.5369062423706055, 8.61251449584961, -3.4923386573791504], [-0.898536741733551, -4.482295513153076, 4.7688212394714355], [0.3943570852279663, -3.9002819061279297, 2.992952823638916], [-1.7436219453811646, -3.549516439437866, 4.6416144371032715], [1.104662537574768, -3.9128217697143555, 2.327169418334961], [0.48324328660964966, -3.5673255920410156, 2.5628576278686523], [-2.7107419967651367, 4.230289936065674, -2.452866554260254], [-0.8936511874198914, -3.5675768852233887, 3.8695669174194336], [5.333106517791748, -3.336115837097168, -2.2236008644104004], [-3.7846620082855225, -1.9325259923934937, 4.819403171539307], [-3.6035423278808594, -1.6624153852462769, 4.535943031311035], [1.4151860475540161, -3.6232988834381104, 1.7480956315994263], [-3.7331411838531494, 5.193204402923584, -2.3522000312805176], [-3.4824609756469727, 3.4147534370422363, -0.5548387765884399], [-5.583986282348633, 6.918549537658691, -2.4456968307495117], [-5.267897605895996, 5.2157416343688965, -0.8388426899909973], [-7.347287654876709, 9.091475486755371, -3.213773250579834], [3.6933434009552, -1.8189860582351685, -2.2136659622192383], [-7.3448004722595215, 8.92117977142334, -2.954625129699707], [-6.948075294494629, 6.615952491760254, -0.8156222105026245], [-6.839922904968262, 6.332267761230469, -0.6756795644760132], [7.168177604675293, -4.099468231201172, -3.2361974716186523], [-6.01800537109375, 7.918117046356201, -3.2087488174438477], [-3.3059756755828857, 4.271581172943115, -1.6691265106201172], [-2.9079012870788574, -1.6334213018417358, 3.883708953857422], [3.551739454269409, -2.8000664710998535, -1.1040339469909668], [7.098981857299805, -3.3313727378845215, -3.9579062461853027], [-4.446659564971924, 2.69989013671875, 0.9524151682853699], [-4.227835655212402, 1.018628478050232, 2.4579310417175293], [-7.5627312660217285, 8.565271377563477, -2.3601393699645996], [5.735543251037598, -2.6340091228485107, -3.352785587310791], [-6.725517272949219, 4.569930553436279, 1.1252628564834595], [-5.468591690063477, 4.475354194641113, 0.21511965990066528], [-3.806246042251587, -0.15525011718273163, 3.241652011871338], [-3.9042019844055176, -1.016445279121399, 4.149492263793945], [8.22023868560791, -3.741579294204712, -4.584444522857666], [-5.879789352416992, 8.23940658569336, -3.7414145469665527], [7.586832046508789, -3.563802719116211, -4.195331573486328], [1.1416691541671753, 0.22322340309619904, -1.845720648765564], [-3.5517947673797607, 0.09851939976215363, 2.7058510780334473], [2.5137295722961426, -4.059023380279541, 1.1266098022460938], [-4.73726749420166, 2.2038488388061523, 1.7067300081253052], [6.597183704376221, -2.6588423252105713, -4.1587815284729], [-8.564435005187988, 9.251655578613281, -2.157097816467285], [4.382866859436035, -3.4898247718811035, -1.2013355493545532], [0.808708131313324, -4.265336036682129, 2.9935431480407715], [-1.4675766229629517, -3.2012505531311035, 4.020476818084717], [-2.7019450664520264, -2.792586326599121, 4.765025615692139], [-3.9145772457122803, 5.884781360626221, -2.99910831451416], [-3.473433256149292, -2.7339963912963867, 5.313212871551514], [5.516415596008301, -2.4519708156585693, -3.3468751907348633], [-3.2371633052825928, 2.811539888381958, -0.22837528586387634], [7.50181770324707, -5.520036220550537, -5.018325328826904], [-3.3290483951568604, 4.663617134094238, -2.150146007537842], [-4.417984485626221, 1.633725881576538, 2.0176968574523926], [6.032759666442871, -3.3506906032562256, -2.9375715255737305], [6.715582370758057, -3.4691858291625977, -3.427415370941162], [9.397744178771973, -4.178107738494873, -5.289140224456787], [-3.685223340988159, -1.921578049659729, 4.774847030639648], [6.801797866821289, -3.793067455291748, -3.2156529426574707], [1.8481999635696411, -4.600736141204834, 2.392547130584717], [-1.005387306213379, 2.3233203887939453, -1.7865935564041138], [8.05643367767334, -4.0384602546691895, -4.105216026306152], [-5.397904396057129, 7.197185039520264, -3.0073347091674805], [-3.3333444595336914, 4.515443325042725, -1.867729902267456], [8.529292106628418, -3.8945200443267822, -4.686309337615967], [-4.45046854019165, 5.212339878082275, -1.5847285985946655], [3.1868555545806885, -1.5989364385604858, -2.022775173187256], [-4.335249900817871, 5.477410793304443, -2.027858257293701], [6.553115367889404, -3.18550968170166, -3.502840042114258], [-1.6167163848876953, -2.185345411300659, 3.1738367080688477], [0.47080540657043457, -2.306727647781372, 1.3277709484100342], [-2.593738317489624, -0.7841868996620178, 2.7520904541015625], [-5.940972328186035, 6.405834197998047, -1.4797786474227905], [7.021722316741943, -3.589709520339966, -3.6207900047302246], [5.048769950866699, -2.31748366355896, -3.0829648971557617], [5.439009666442871, -3.154637336730957, -2.577792167663574], [-3.1701812744140625, 0.0489620640873909, 2.493773937225342], [-3.837493658065796, 4.7752227783203125, -1.6818338632583618], [9.376810073852539, -4.282088756561279, -5.117568492889404], [6.480429649353027, -2.5574522018432617, -4.532639026641846], [-8.168217658996582, 8.436447143554688, -1.63809072971344], [-3.4964606761932373, 4.895730018615723, -2.230895519256592], [7.094171047210693, -3.656994104385376, -3.5526037216186523], [-8.379343032836914, 10.271729469299316, -3.5344080924987793], [-7.606755256652832, 6.690788745880127, -0.39889663457870483], [7.995135307312012, -3.7010178565979004, -4.45006799697876], [-2.9664981365203857, 4.693399906158447, -2.5934910774230957], [-6.477932929992676, 5.743165493011475, -0.41282936930656433], [-5.288009166717529, 4.102480411529541, 0.28275567293167114], [6.090585708618164, -2.90116548538208, -3.7777109146118164], [-8.340176582336426, 9.755970001220703, -2.9639906883239746], [-2.2235124111175537, 1.4586472511291504, 0.1488444209098816], [-3.861199378967285, 2.693244457244873, 0.42941462993621826], [-4.635687351226807, 5.500153064727783, -1.7239247560501099], [5.473379135131836, -3.302438497543335, -2.378045082092285], [-4.5503082275390625, 0.588305652141571, 3.163020610809326], [4.43397331237793, -2.6671924591064453, -2.132565498352051], [-3.223919630050659, -0.419430673122406, 2.9461216926574707], [-1.104796290397644, 2.157470703125, -1.6678454875946045], [-3.076359272003174, -1.1797301769256592, 3.5294227600097656], [5.633037567138672, -2.9960310459136963, -2.892423629760742], [-3.6767795085906982, -0.34181708097457886, 3.2308993339538574], [-3.60547137260437, 1.5849820375442505, 1.2302769422531128], [4.9482102394104, -2.260213851928711, -2.972830295562744], [-4.729727745056152, 5.978142261505127, -2.2292466163635254], [-2.410043954849243, -0.40150994062423706, 2.180851936340332], [6.05882453918457, -2.724271774291992, -3.611631393432617], [-1.9409886598587036, -2.3801817893981934, 3.6976494789123535], [0.3202795088291168, -3.8995580673217773, 3.0199451446533203], [-6.229302406311035, 4.543896198272705, 0.44985777139663696], [-6.551514625549316, 7.854543209075928, -2.5451221466064453], [-6.04062557220459, 6.473361015319824, -1.3799138069152832], [-4.7241363525390625, 4.6948747634887695, -0.8036934733390808], [6.297813415527344, -2.928165912628174, -3.5842461585998535], [6.638209819793701, -2.9420876502990723, -3.8677620887756348], [6.777080059051514, -3.40779972076416, -3.586604595184326], [-5.293912887573242, 6.76133394241333, -2.534128189086914], [-0.9212916493415833, -3.767754316329956, 4.072528839111328], [-4.033526420593262, -0.14155703783035278, 3.412311553955078], [6.292669296264648, -3.2489285469055176, -3.2760229110717773], [-2.5243375301361084, -2.646815299987793, 4.490311622619629], [-1.3965076208114624, -3.103152275085449, 3.7224068641662598], [-5.41151237487793, 5.801008701324463, -1.2649292945861816], [7.912562370300293, -3.5998029708862305, -4.412195682525635], [8.138618469238281, -3.97407865524292, -4.275897979736328], [4.591890811920166, -2.369974136352539, -2.556704044342041], [-3.2324788570404053, 2.429492473602295, 0.172866091132164], [-6.317286491394043, 7.9226975440979, -2.8933815956115723], [-1.1592522859573364, -2.1758570671081543, 2.7482352256774902], [1.6881202459335327, -0.11463482677936554, -2.0365586280822754], [-2.6907899379730225, 0.6712008118629456, 1.3761545419692993], [7.8695197105407715, -4.489195823669434, -5.274327754974365], [-1.0779378414154053, 1.9939000606536865, -1.4987999200820923], [0.793928325176239, -1.6685794591903687, 0.3627464473247528], [-1.7309679985046387, -3.850335121154785, 4.881715297698975], [1.8418084383010864, -3.446535110473633, 1.1965988874435425], [2.196397066116333, 0.6021969318389893, -3.3207592964172363], [4.0083770751953125, -3.928617000579834, -0.4190998375415802], [-0.211732417345047, -3.6278936862945557, 3.20424747467041], [-8.196168899536133, 8.739171981811523, -1.9945200681686401], [-1.5345276594161987, -4.4372148513793945, 5.2937846183776855], [-4.482521057128906, 3.8792223930358887, -0.11631866544485092], [-2.4816272258758545, -1.4454759359359741, 3.307271957397461], [-0.9290980696678162, 2.890439510345459, -2.5877957344055176], [-7.614625930786133, 8.375836372375488, -2.15346622467041], [-3.4025747776031494, 2.180933952331543, 0.5153722763061523], [6.370416164398193, -4.151383876800537, -2.4835948944091797], [-5.715364456176758, 5.636117458343506, -0.799603283405304], [4.262902736663818, -2.4595489501953125, -2.1364259719848633], [-1.7749131917953491, -4.14975118637085, 5.240170955657959], [8.075489044189453, -3.8664889335632324, -4.315832614898682], [-1.3481509685516357, -1.1756349802017212, 1.890952706336975], [-2.4593803882598877, -2.939279317855835, 4.6961164474487305], [-4.882895469665527, 6.575074195861816, -2.778149127960205], [-6.294467449188232, 7.739676475524902, -2.6422719955444336], [-0.1461949646472931, 1.5582033395767212, -2.0529985427856445], [-7.566276550292969, 9.019128799438477, -2.857539176940918], [-2.837307929992676, 0.9319448471069336, 1.2379282712936401], [5.466398239135742, -2.4746317863464355, -3.2851433753967285], [-0.8436810374259949, -3.197519302368164, 3.4394946098327637], [-0.1804673820734024, 0.3810111880302429, -0.7878667116165161], [-7.366459846496582, 9.398582458496094, -3.5936965942382812], [-1.650936484336853, -3.7529940605163574, 4.779577732086182], [-2.2630560398101807, 0.28513890504837036, 1.393483281135559], [-5.612494468688965, 4.312910556793213, 0.2525601387023926], [-5.49055290222168, 2.4224495887756348, 2.1617050170898438], [-7.7626214027404785, 9.889708518981934, -3.7418365478515625], [-4.464284420013428, 4.930574417114258, -1.2419513463974], [-3.9913337230682373, 5.415177822113037, -2.341158390045166], [3.9580070972442627, -3.292377471923828, -1.0579701662063599], [-4.8258280754089355, 3.0345652103424072, 0.9450925588607788], [7.703887939453125, -3.819403886795044, -4.002124786376953], [-4.78462028503418, 5.896511554718018, -2.0750160217285156], [-7.732747554779053, 9.810806274414062, -3.6608223915100098], [-5.708426475524902, 3.9669947624206543, 0.8593317270278931], [0.39001592993736267, -3.6089096069335938, 2.795989990234375], [0.11488025635480881, -1.171122431755066, 0.5131422281265259], [-2.658797025680542, -1.0479164123535156, 3.07326078414917], [-8.17701244354248, 9.408622741699219, -2.814911365509033], [-5.295782089233398, 6.96812629699707, -2.787376880645752], [-8.365382194519043, 10.836637496948242, -4.315646171569824], [-2.805656909942627, -0.25044816732406616, 2.4356207847595215], [5.306044578552246, -3.528367280960083, -2.118406295776367], [-2.7214319705963135, -2.1273961067199707, 4.145804405212402], [-1.7866183519363403, -3.608138084411621, 4.747567176818848], [6.346614837646484, -2.016237258911133, -4.528872966766357], [-3.8427860736846924, -2.620919942855835, 5.5658488273620605], [8.26787281036377, -4.143751621246338, -4.213873386383057], [-3.301347255706787, -2.4307894706726074, 4.9541215896606445], [7.990708351135254, -3.7769436836242676, -4.349173069000244], [4.7082438468933105, -1.7609719038009644, -3.3529253005981445], [4.989573955535889, -3.7718048095703125, -1.5138252973556519], [-3.1953437328338623, -1.4371836185455322, 3.901301383972168], [-0.909737229347229, -3.9080333709716797, 4.266919136047363], [0.31392785906791687, -3.5637550354003906, 2.615018367767334], [5.375181198120117, -3.055579662322998, -2.6307249069213867], [-6.140705108642578, 5.762713432312012, -0.735924243927002], [-9.4374361038208, 11.154949188232422, -3.5485639572143555], [-2.7292494773864746, -1.761118769645691, 3.83419132232666], [-2.8227763175964355, -3.515873432159424, 5.549757480621338], [4.712715148925781, -4.231658458709717, -0.8141510486602783], [3.1890597343444824, -1.5800390243530273, -2.0342764854431152], [-7.605806350708008, 8.535491943359375, -2.220604419708252], [6.986582279205322, -3.417175054550171, -3.7235021591186523], [-2.5561492443084717, -3.551896095275879, 5.373269557952881], [6.500155925750732, -2.674330234527588, -4.356055736541748], [-1.4764961004257202, -0.13542912900447845, 1.1259796619415283], [-3.7857632637023926, -0.020147621631622314, 3.0564489364624023], [-1.6630598306655884, -3.4367313385009766, 4.468993663787842], [6.538556098937988, -3.4501869678497314, -3.339658260345459], [-6.294204235076904, 7.018347263336182, -1.9485175609588623], [-1.9612420797348022, -0.48397666215896606, 1.9012513160705566], [-2.9140589237213135, 5.217583179473877, -3.2316064834594727], [-3.2914929389953613, 3.794032096862793, -1.1941535472869873], [-4.753997802734375, 5.949148654937744, -2.1603240966796875], [-3.916717529296875, 3.641195297241211, -0.5265835523605347], [-7.890822887420654, 8.008070945739746, -1.4360548257827759], [1.0387449264526367, -2.4532246589660645, 0.8726983070373535], [-1.4624817371368408, -3.603421688079834, 4.450401306152344], [6.487447738647461, -3.1484880447387695, -3.577974319458008], [-5.66148567199707, 7.304677486419678, -2.840211868286133], [8.970564842224121, -4.12501859664917, -4.898636341094971], [-5.1651811599731445, 6.842137813568115, -2.819876194000244], [-2.2730140686035156, 0.9178543090820312, 0.805469274520874], [-2.5852630138397217, -1.9862536191940308, 3.803244113922119], [-0.9734126925468445, -3.6921660900115967, 4.0316643714904785], [-3.691115140914917, 5.3998188972473145, -2.6380796432495117], [-8.172247886657715, 9.534042358398438, -2.876797676086426], [-2.7945125102996826, -0.7733189463615417, 2.8261184692382812], [-3.0937540531158447, 3.4799044132232666, -1.0636285543441772], [-6.374313831329346, 5.996414661407471, -0.5583832859992981], [6.236691474914551, -4.204481601715088, -2.270028591156006], [-2.2684919834136963, 0.5610247850418091, 1.1597591638565063], [9.505106925964355, -4.257533550262451, -5.270388126373291], [7.252142906188965, -2.9842045307159424, -4.474778652191162], [-4.348752021789551, 4.548062801361084, -0.99387526512146], [-2.859116315841675, -3.0561447143554688, 5.121398448944092], [3.129654884338379, -3.1030960083007812, -0.4900628328323364], [-3.2065718173980713, -2.3442697525024414, 4.700357913970947], [-2.257634401321411, -0.23958532512187958, 1.9396388530731201], [-2.0193023681640625, -2.182382583618164, 3.5470104217529297], [-7.188709259033203, 8.323958396911621, -2.385432243347168], [2.0193097591400146, -3.3205575942993164, 0.8098505735397339], [-1.7977972030639648, -4.064261436462402, 5.184936046600342], [-2.780930280685425, -3.0064311027526855, 5.014599323272705], [-2.540830612182617, -0.17133542895317078, 2.160167694091797], [-1.4084612131118774, 2.4441723823547363, -1.5517526865005493], [-6.990885257720947, 8.470513343811035, -2.771522045135498], [-5.802699565887451, 7.362853050231934, -2.7556357383728027], [-7.056093692779541, 9.198386192321777, -3.685330390930176], [-4.008851051330566, -1.0857383012771606, 4.2728142738342285], [-3.0590224266052246, -2.2451279163360596, 4.424912929534912], [-2.0825042724609375, -1.4043978452682495, 2.842679500579834], [-0.8645026683807373, -3.0083718299865723, 3.251249313354492], [-7.485293388366699, 9.245231628417969, -3.2686219215393066], [6.245092391967773, -3.389359951019287, -3.0906739234924316], [-1.3642154932022095, -2.592038631439209, 3.2959728240966797], [9.590336799621582, -4.366628170013428, -5.24033260345459], [1.5089224576950073, 0.4041978716850281, -2.43418025970459], [-2.4273197650909424, -1.9343398809432983, 3.6827282905578613], [-4.161124229431152, 5.457810878753662, -2.2222371101379395], [7.982181072235107, -3.6990292072296143, -4.441760540008545], [-1.8919951915740967, -3.703291893005371, 4.9038004875183105], [-4.206334114074707, 0.7803518772125244, 2.672696113586426], [-4.319939136505127, 1.9389749765396118, 1.6358164548873901], [6.666104316711426, -3.5220108032226562, -3.388857364654541], [-4.809998989105225, 3.8904452323913574, 0.3256748914718628], [5.676835060119629, -2.795379638671875, -3.1433191299438477], [-7.754489898681641, 7.245495319366455, -0.7655312418937683], [-4.114614009857178, -1.624203085899353, 4.953545093536377], [6.970881462097168, -2.863537549972534, -4.292243480682373], [-5.465281963348389, 6.240479946136475, -1.77187979221344], [-5.032723426818848, 5.0488457679748535, -0.9004162549972534], [4.137481212615967, -3.3869500160217285, -1.1318217515945435], [5.0023932456970215, -3.769247055053711, -1.5324913263320923], [-1.9792006015777588, -2.845977306365967, 4.211031913757324], [5.76820707321167, -3.4367198944091797, -2.5803308486938477], [9.3359956741333, -4.1765570640563965, -5.179117202758789], [-7.693570613861084, 7.860752105712891, -1.5690515041351318], [1.223451018333435, -4.539397716522217, 2.941284656524658], [0.7761658430099487, 0.8535319566726685, -2.18452787399292], [-6.139101982116699, 5.460115909576416, -0.3510380983352661], [-7.419168472290039, 7.486602306365967, -1.3834280967712402], [-7.352933883666992, 9.052976608276367, -3.2663817405700684], [-2.19569993019104, 0.6487508416175842, 0.9649038910865784], [-4.292584419250488, 0.3463117480278015, 3.1506357192993164], [-0.20778369903564453, -3.6728878021240234, 3.3074002265930176], [7.247063636779785, -3.0832433700561523, -4.310471057891846], [5.449442386627197, -3.6036787033081055, -2.1215615272521973], [3.1664621829986572, -1.0607799291610718, -2.483950614929199], [0.7625206112861633, -4.725853443145752, 3.5514588356018066], [-2.278527021408081, 1.1423015594482422, 0.6718577146530151], [-4.1880316734313965, 1.2603527307510376, 2.1587166786193848], [-6.843790054321289, 5.107792377471924, 0.6244861483573914], [-4.389896392822266, 4.391236782073975, -0.8197034001350403], [-3.48358416557312, 5.1736626625061035, -2.6969828605651855], [1.8305670022964478, -1.3275541067123413, -1.0374809503555298], [-3.8620293140411377, -0.5820122361183167, 3.6958632469177246], [4.919854164123535, -1.4910253286361694, -3.6777987480163574], [-5.922316551208496, 5.432824611663818, -0.45459964871406555], [-2.6381590366363525, 0.5928433537483215, 1.4998809099197388], [4.979938507080078, -2.7654643058776855, -2.5861968994140625], [-5.004114627838135, 4.983960151672363, -0.8540365695953369], [-4.036919593811035, 4.519369125366211, -1.2400901317596436], [8.726747512817383, -4.14141321182251, -4.660401821136475], [-3.8141355514526367, 0.6005987524986267, 2.4648003578186035], [7.355536937713623, -3.755619525909424, -3.690474033355713], [-0.9478431940078735, 2.1932668685913086, -1.8666027784347534], [-5.42596435546875, 6.781497478485107, -2.412583827972412], [6.952638626098633, -2.871201276779175, -4.281117916107178], [-8.78270435333252, 10.932268142700195, -3.981736660003662], [-8.096713066101074, 9.2740478515625, -2.5916128158569336], [-0.60202556848526, -3.767333745956421, 3.7926697731018066], [-3.6778552532196045, -0.5205098986625671, 3.4571175575256348], [-4.326899528503418, 1.5297131538391113, 2.03873348236084], [2.858339548110962, -1.472697138786316, -1.779314637184143], [-4.825213432312012, 3.850367546081543, 0.06497640162706375], [0.7965834140777588, 0.777629554271698, -2.1444830894470215], [-6.777238845825195, 5.373600482940674, 0.33652645349502563], [-2.870117425918579, -2.9451451301574707, 4.993032455444336], [5.350797653198242, -2.2126052379608154, -3.4229087829589844], [6.52131462097168, -3.2654502391815186, -3.501206874847412], [-7.057757377624512, 8.215517044067383, -2.5364766120910645], [0.3003856837749481, -2.7062551975250244, 1.8072909116744995], [6.747903347015381, -2.847504138946533, -4.121674060821533], [-1.953926920890808, -3.6849935054779053, 4.940301895141602], [6.018487930297852, -3.8868155479431152, -2.4148635864257812], [-4.782979965209961, 5.208034992218018, -1.3120394945144653], [5.638139724731445, -2.694464683532715, -3.196714401245117], [-8.452305793762207, 10.166037559509277, -3.2913661003112793], [6.949584007263184, -4.033976078033447, -3.0992965698242188], [-2.026064872741699, -4.170118808746338, 5.495707988739014], [-5.230308532714844, 5.0960774421691895, -0.7383660078048706], [-7.28322696685791, 9.41779613494873, -3.7149252891540527], [6.768184661865234, -3.7934165000915527, -3.1858973503112793], [-7.38308048248291, 8.710765838623047, -2.708474636077881], [-1.9704124927520752, -2.9359586238861084, 4.255720615386963], [2.8431079387664795, -1.5676544904708862, -1.693048119544983], [-0.5671477913856506, 2.3205111026763916, -2.4502153396606445], [-5.472165584564209, 6.708683490753174, -2.2878646850585938], [-7.401620864868164, 9.181193351745605, -3.2766761779785156], [5.730276107788086, -3.1180686950683594, -2.884289264678955], [-7.123671531677246, 8.667049407958984, -2.8897695541381836], [-0.14481528103351593, -3.9132256507873535, 3.518435001373291], [-4.224494934082031, 0.8092542886734009, 2.67356538772583], [-5.313098907470703, 3.577902317047119, 0.774086058139801], [-3.7133142948150635, 5.994344234466553, -3.2845702171325684], [-7.871912479400635, 9.567460060119629, -3.3355484008789062], [-5.368537425994873, 4.60660982131958, -0.33538633584976196], [5.829463958740234, -2.6479082107543945, -3.4112462997436523], [-7.387206077575684, 8.977136611938477, -2.9941635131835938], [3.1857640743255615, -2.173527479171753, -1.4914577007293701], [-6.7791852951049805, 5.657812595367432, -0.009714044630527496], [1.0661089420318604, -3.8021183013916016, 2.2572851181030273], [7.055647850036621, -4.39472770690918, -2.778871536254883], [-1.3150144815444946, -1.2143110036849976, 1.8384729623794556], [-5.949463844299316, 5.832108974456787, -1.0390502214431763], [-4.258868217468262, 0.3050413131713867, 3.198401927947998], [-4.168933868408203, 1.5467783212661743, 1.8949741125106812], [-5.765833854675293, 6.017813205718994, -1.2631701231002808], [-4.966897964477539, 6.041964054107666, -1.9911417961120605], [-5.921952247619629, 7.534419536590576, -2.77420711517334], [-6.649364471435547, 6.131216526031494, -0.6195395588874817], [-1.5228469371795654, -3.9644064903259277, 4.839686870574951], [-0.04951423779129982, -4.580358028411865, 4.093228340148926], [-3.411644697189331, -2.010343551635742, 4.624001979827881], [-5.232690811157227, 6.430421352386475, -2.222209930419922], [-1.5043905973434448, -3.579587936401367, 4.496448516845703], [7.202001094818115, -3.9093949794769287, -3.4783902168273926], [-3.5642759799957275, 0.39013737440109253, 2.4614133834838867], [-3.511444568634033, 3.6679344177246094, -0.779815137386322], [-7.448949813842773, 8.160877227783203, -1.953595757484436], [7.469731330871582, -3.4454188346862793, -4.1983418464660645], [-4.846479892730713, 6.731204032897949, -2.9535417556762695], [-3.944091558456421, 0.9515333771705627, 2.2003722190856934], [0.41874024271965027, -2.601818084716797, 1.7462958097457886], [-1.2785848379135132, -1.6962641477584839, 2.368764877319336], [-2.972144365310669, -0.87297123670578, 3.2021961212158203], [-0.41408130526542664, 3.0652952194213867, -3.4093527793884277], [-2.541926145553589, -3.6116878986358643, 5.4063639640808105], [5.771909713745117, -2.452683448791504, -3.557785987854004], [-4.612720966339111, 5.461026668548584, -1.7304223775863647], [-3.6698551177978516, 5.635712146759033, -2.978477954864502], [-6.745895862579346, 5.513059139251709, 0.10301671922206879], [-3.0925889015197754, -1.1897333860397339, 3.53413724899292], [-3.241508722305298, -1.9665580987930298, 4.37717866897583], [-5.039434432983398, 6.069766521453857, -2.0464868545532227], [-2.721400499343872, -0.04355313256382942, 2.081696033477783], [7.041451454162598, -4.401866912841797, -2.7554826736450195], [-8.27554988861084, 9.625600814819336, -2.9156742095947266], [-3.943256139755249, 5.245742321014404, -2.161240577697754], [0.7633742690086365, -3.1112799644470215, 1.7803395986557007], [-7.00192403793335, 9.176202774047852, -3.6681365966796875], [-8.188094139099121, 9.441549301147461, -2.839510440826416], [-4.24377965927124, 2.911196708679199, 0.5460308194160461], [-1.1626603603363037, 1.335861325263977, -0.7916234731674194], [-5.856334686279297, 7.255582332611084, -2.546215057373047], [-3.049476385116577, 0.49154871702194214, 1.9623068571090698], [-1.822519302368164, 3.101494312286377, -1.9767688512802124], [-5.225015640258789, 6.386329650878906, -2.1415719985961914], [4.339003562927246, -3.8536415100097656, -0.900423526763916], [4.174313545227051, -2.056969165802002, -2.48702335357666], [7.468850135803223, -3.4969964027404785, -4.1098480224609375], [4.724498271942139, -1.2343627214431763, -3.7685675621032715], [7.55744743347168, -4.216705799102783, -3.474553108215332], [-1.9444580078125, -3.186699390411377, 4.462688446044922], [4.3273234367370605, -2.0832009315490723, -2.660994052886963], [-3.5106661319732666, -1.0799566507339478, 3.832571029663086], [6.149198532104492, -3.095595359802246, -3.3149638175964355], [-2.772423267364502, -3.2112302780151367, 5.199748516082764], [6.256535530090332, -3.1006507873535156, -3.394564628601074], [-7.580353260040283, 9.660978317260742, -3.628145694732666], [5.70059871673584, -3.0266001224517822, -3.6679887771606445], [1.3145337104797363, -2.7676918506622314, 0.8701249361038208], [-1.8860664367675781, -0.6528826355934143, 1.8965626955032349], [-5.044407367706299, 6.728857517242432, -2.7709999084472656], [-5.415566444396973, 7.071827411651611, -2.8068442344665527], [-3.869072675704956, 2.560504913330078, 0.554854154586792], [-0.4960380494594574, -3.9212698936462402, 3.8158392906188965], [-6.151841163635254, 4.470157146453857, 0.6873962879180908], [-6.045539379119873, 7.172488689422607, -2.234895706176758], [4.856775283813477, -3.3891477584838867, -1.793932318687439], [4.653765678405762, -1.8518997430801392, -3.172456741333008], [-4.29567813873291, 4.45855188369751, -1.0147006511688232], [0.052823420614004135, -1.9824692010879517, 1.4284111261367798], [-1.2804659605026245, -2.8084030151367188, 3.5001163482666016], [-3.0667192935943604, -1.1956297159194946, 3.51106595993042], [3.62349009513855, -3.075068473815918, -0.9558112025260925], [-5.416224479675293, 7.103612422943115, -2.840933322906494], [7.320830821990967, -3.908048391342163, -3.550808906555176], [-6.336673736572266, 5.895475387573242, -0.6007080078125], [-8.399474143981934, 9.848142623901367, -3.034252166748047], [-8.084773063659668, 8.305556297302246, -1.6333986520767212], [-2.0613951683044434, -2.563962936401367, 3.9484071731567383], [-3.638343334197998, -0.032799042761325836, 2.8840246200561523], [-2.975260019302368, 0.2474318891763687, 2.0931968688964844], [-8.080163955688477, 8.86324405670166, -2.354485511779785], [7.367309093475342, -3.7077150344848633, -3.8387131690979004], [-6.836188316345215, 8.309858322143555, -2.771878719329834], [7.747719764709473, -4.077250003814697, -3.6931357383728027], [-4.846209526062012, 4.5544114112854, -0.5729395747184753], [-1.9035401344299316, -2.448496103286743, 3.7280850410461426], [-2.907165765762329, -1.0938249826431274, 3.3130321502685547], [6.373830318450928, -2.5603811740875244, -4.077546119689941], [7.381283283233643, -4.146350383758545, -3.3693737983703613], [-9.0474214553833, 10.326004028320312, -3.0000410079956055], [-6.985688209533691, 5.663002967834473, 0.3404986262321472], [-3.3339648246765137, -2.963573455810547, 5.484445095062256], [-4.243673801422119, 3.1480844020843506, 0.21379581093788147], [-1.267113208770752, -2.5232787132263184, 3.2631664276123047], [6.055519104003906, -3.758103847503662, -2.5611014366149902], [-5.267918586730957, 7.2791900634765625, -3.2155022621154785], [-3.350916624069214, -0.8455381393432617, 3.4711313247680664], [6.8651204109191895, -3.3170578479766846, -3.7768731117248535], [6.154118537902832, -2.6197519302368164, -3.794271469116211], [-5.296377182006836, 5.702093601226807, -1.311083197593689], [-7.150743007659912, 8.010507583618164, -2.1412501335144043], [-1.1154532432556152, -3.6377549171447754, 4.143498420715332], [-4.86015510559082, 6.44241189956665, -2.597224235534668], [-6.868054389953613, 7.0591607093811035, -1.2655848264694214], [-2.464845895767212, 4.295156955718994, -2.6954879760742188], [-5.045890808105469, 4.712951183319092, -0.4194837510585785], [-2.150279998779297, -1.5049458742141724, 2.9739603996276855], [6.041567325592041, -2.648850679397583, -3.6109108924865723], [5.092194557189941, -2.6567816734313965, -2.681760311126709], [-1.7035391330718994, -3.943387269973755, 4.944585800170898], [-5.455979347229004, 5.4504075050354, -0.9080028533935547], [-1.6929709911346436, -2.6554341316223145, 3.741365432739258], [-6.517126083374023, 8.162095069885254, -2.8961329460144043], [1.4561926126480103, -0.22540698945522308, -1.8327937126159668], [-3.1624393463134766, 0.022028092294931412, 2.486374855041504], [-2.9513676166534424, 1.4366601705551147, 0.9111825227737427], [7.524446487426758, -3.747586727142334, -3.9247279167175293], [3.870121717453003, -3.4113805294036865, -0.8289616703987122], [-1.284309983253479, -4.083628177642822, 4.726637363433838], [5.778058052062988, -3.0202596187591553, -3.056692123413086], [-3.7737176418304443, 2.182529926300049, 0.964993953704834], [-4.5728254318237305, 4.073328495025635, -0.2569606304168701], [5.766447067260742, -2.5257537364959717, -3.520369529724121], [4.529361724853516, -3.3708336353302, -1.5160270929336548], [-2.5658183097839355, 3.9869699478149414, -2.1908645629882812], [1.2110108137130737, -4.0546369552612305, 2.305190086364746], [-1.0031065940856934, -4.096755027770996, 4.513862133026123], [-1.826357364654541, -3.1889352798461914, 4.336979389190674], [-4.685537815093994, 0.9422575235366821, 2.89169979095459], [-2.273056745529175, -1.8429182767868042, 3.4105710983276367], [6.542485237121582, -3.4482951164245605, -3.3426942825317383], [5.156998634338379, -2.5861809253692627, -2.8858375549316406], [-2.362441301345825, -2.8334834575653076, 4.5366339683532715], [-7.051285266876221, 6.12850284576416, -0.32081201672554016], [-8.120100975036621, 10.274428367614746, -3.834761619567871], [-1.4120906591415405, -2.5898051261901855, 3.361234664916992], [-1.6039055585861206, -0.6154634356498718, 1.610440969467163], [-7.471419334411621, 8.23817253112793, -2.0748209953308105], [-0.9916813969612122, -4.159666538238525, 4.520832061767578], [-3.149852991104126, 5.749082565307617, -3.709723949432373], [-4.213279724121094, 6.0515055656433105, -2.8350024223327637], [-7.906136512756348, 9.267004013061523, -2.914832592010498], [5.642687797546387, -3.045762062072754, -2.8634462356567383], [-6.4222412109375, 6.935588359832764, -1.56722891330719], [-4.070582389831543, -0.896782398223877, 4.203094482421875], [7.588387489318848, -4.536287784576416, -3.151397705078125], [-7.433892250061035, 8.576011657714844, -2.4792685508728027], [-3.276143789291382, -0.4555467963218689, 3.02144718170166], [-7.679001331329346, 7.71802282333374, -1.4628828763961792], [0.10698544234037399, 1.6746809482574463, -2.445469856262207], [-0.7641555666923523, -4.524621963500977, 4.692366600036621], [-3.2282652854919434, -1.7542825937271118, 4.301919460296631], [3.3612449169158936, -1.551254391670227, -2.199185371398926], [-6.214920997619629, 8.22707748413086, -3.3921003341674805], [-5.8279523849487305, 6.5359978675842285, -1.8293936252593994], [-0.45862409472465515, -3.501774787902832, 3.356412410736084], [-2.508086919784546, -2.9191477298736572, 4.7233567237854], [4.50723934173584, -1.722110629081726, -3.1593503952026367], [10.034642219543457, -7.158273696899414, -6.709305286407471], [-7.719579219818115, 8.904268264770508, -2.6165618896484375], [-1.8763786554336548, -2.391909122467041, 3.5432190895080566], [10.951547622680664, -7.059698581695557, -7.436395168304443], [-0.8816847801208496, -4.357297420501709, 4.651423931121826], [-1.710951566696167, -2.8672313690185547, 3.9921889305114746], [-1.3949482440948486, -3.0214529037475586, 3.688035011291504], [9.497642517089844, -4.497885704040527, -5.020318984985352], [0.517249584197998, 0.14974243938922882, -1.1400805711746216], [3.8081488609313965, -2.642728805541992, -1.4961917400360107], [-4.538973331451416, 0.7290694117546082, 2.9907588958740234], [-4.142930030822754, 4.9437432289123535, -1.6178418397903442], [8.597064018249512, -4.120232582092285, -4.4306206703186035], [-4.858186721801758, 1.750889539718628, 2.2017593383789062], [-4.636533737182617, 2.029043197631836, 1.896225094795227], [2.908982992172241, -2.6556575298309326, -0.6842601299285889], [-3.964681625366211, 2.584771156311035, 0.6969321370124817], [2.7057130336761475, -2.1847023963928223, -0.9452358484268188], [-3.845336437225342, -1.2932456731796265, 4.406551837921143], [7.651747226715088, -3.3699164390563965, -4.380829811096191], [-4.515326499938965, 5.836465358734131, -2.2455830574035645], [5.155000686645508, -3.544140338897705, -1.9612005949020386], [-5.342983245849609, 4.264279842376709, 0.3086979389190674], [-1.5247490406036377, 0.6465573310852051, 0.1492326855659485], [-1.1373918056488037, -4.545847415924072, 5.093214988708496], [8.238804817199707, -4.043654918670654, -4.282789707183838], [-3.909334897994995, 3.295872211456299, -0.1992029845714569], [5.967665672302246, -2.8190135955810547, -3.4331250190734863], [-5.2103424072265625, 4.478580951690674, -0.1411777287721634], [8.52375316619873, -3.8084301948547363, -4.809577941894531], [8.678897857666016, -4.229220867156982, -4.518346309661865], [-3.4930059909820557, -2.533189296722412, 5.230725288391113], [-2.0363588333129883, -4.2052083015441895, 5.505316257476807], [-3.466909646987915, -0.15448282659053802, 2.9502954483032227], [-6.2976813316345215, 7.968511581420898, -2.9019813537597656], [-2.1436545848846436, -2.0067739486694336, 3.4215779304504395], [2.289539098739624, -3.146191358566284, 0.35775408148765564], [6.95118522644043, -4.343567371368408, -2.825514316558838], [-0.27747711539268494, -1.982587456703186, 1.6718939542770386], [-1.8208576440811157, -3.9623074531555176, 5.10060977935791], [-1.7829749584197998, -3.8694450855255127, 4.996074199676514], [-0.804649829864502, -2.85321044921875, 3.0154457092285156], [6.875153064727783, -2.6065824031829834, -4.775339603424072], [2.7887489795684814, -0.8619573712348938, -2.2993979454040527], [2.457484722137451, 0.12705011665821075, -3.0165457725524902], [-5.588181495666504, 4.416215419769287, 0.16098058223724365], [-1.9527910947799683, -3.706009864807129, 4.961024761199951], [1.40619695186615, 0.5725131034851074, -2.529082775115967], [8.563763618469238, -4.604933738708496, -5.888923645019531], [8.281087875366211, -3.9511547088623047, -4.423349857330322], [-2.147430658340454, -3.9486958980560303, 5.362339496612549], [-2.1772994995117188, -3.0654289722442627, 4.549723148345947], [-6.150258541107178, 6.333289623260498, -1.1882082223892212], [6.234678745269775, -3.256096601486206, -3.2522144317626953], [-4.790671348571777, 2.5166778564453125, 1.512625813484192], [-2.1255102157592773, -3.1688966751098633, 4.610785961151123], [-5.943144798278809, 6.812620639801025, -1.958046793937683], [-8.184194564819336, 8.562650680541992, -1.785492181777954], [-4.166412353515625, 4.328088283538818, -0.9559301137924194], [7.691878795623779, -4.37670373916626, -5.431032657623291], [-5.617325782775879, 5.945716857910156, -1.2377033233642578], [-7.7216973304748535, 9.75547981262207, -3.6860251426696777], [-0.7442330121994019, -1.4014230966567993, 1.5529617071151733], [-2.7590270042419434, -0.19585371017456055, 2.3726534843444824], [-0.8962551951408386, -4.157871723175049, 4.510523796081543], [8.557205200195312, -4.604852676391602, -5.883533000946045], [-0.885341465473175, 0.45214128494262695, -0.10626852512359619], [-4.391571044921875, 5.707193851470947, -2.1696929931640625], [-7.940180778503418, 9.385149955749512, -2.958127498626709], [7.67314338684082, -3.8292531967163086, -3.9501571655273438], [3.530418634414673, -3.7821364402770996, -0.16696755588054657], [-3.5153796672821045, -0.19505424797534943, 3.046830654144287], [-4.416097640991211, 2.8775315284729004, 0.7324053049087524], [-7.695363998413086, 7.772453784942627, -1.4496160745620728], [2.982316255569458, -3.6092264652252197, 0.12385143339633942], [-5.278799057006836, 5.777912616729736, -1.4764460325241089], [-1.353047251701355, -1.8426114320755005, 2.589416027069092], [-2.8981199264526367, 4.722709655761719, -2.7233834266662598], [-1.7811206579208374, -3.1722311973571777, 4.3090434074401855], [-0.8605672717094421, -4.03937292098999, 4.33557653427124], [-7.575682163238525, 9.333292007446289, -3.2313523292541504], [6.71439266204834, -3.328343391418457, -3.605802059173584], [-3.3422367572784424, -0.7280022501945496, 3.3827462196350098], [-0.9676255583763123, -4.217350482940674, 4.612435340881348], [-2.8984615802764893, 2.062972068786621, 0.20203448832035065], [-0.5033693909645081, -3.3255553245544434, 3.1677212715148926], [6.248476982116699, -3.558030605316162, -2.9341015815734863], [-7.860378265380859, 8.54586410522461, -2.1643967628479004], [-3.0031778812408447, -1.1038020849227905, 3.461137294769287], [-7.989113807678223, 6.875901699066162, -0.23896309733390808], [-1.8338549137115479, 2.0557520389556885, -0.8570127487182617], [-2.9846484661102295, -3.2289321422576904, 5.3735833168029785], [-5.304393291473389, 1.6665763854980469, 2.7250967025756836], [4.4622883796691895, -3.172318935394287, -1.6032570600509644], [-6.096408843994141, 8.346263885498047, -3.6470775604248047], [6.365883827209473, -3.7794835567474365, -2.831209182739258], [-4.949383735656738, -0.4305746555328369, 4.488420009613037], [7.374140739440918, -3.4414596557617188, -4.08359956741333], [-1.3430200815200806, -3.5002546310424805, 4.2407145500183105], [2.9739904403686523, -0.5854093432426453, -2.860823631286621], [-5.341304779052734, 5.79865026473999, -1.4967854022979736], [-5.551469326019287, 5.274743556976318, -0.6974300742149353], [-5.728024482727051, 5.783721446990967, -0.8996307849884033], [4.789767742156982, -3.165384292602539, -1.9949064254760742], [-6.030546188354492, 5.287970066070557, -0.19904430210590363], [-4.122905731201172, 1.5041173696517944, 1.9357306957244873], [-0.4524635076522827, -4.091049671173096, 3.941338539123535], [-2.8109171390533447, -0.8285410404205322, 3.038806915283203], [2.366835117340088, -0.8475785851478577, -1.8528772592544556], [-5.6038312911987305, 4.589125156402588, 0.23546697199344635], [-2.736706018447876, -3.1982924938201904, 5.191833972930908], [5.999593734741211, -3.1578145027160645, -3.099984645843506], [5.902528762817383, -3.13918399810791, -3.0514583587646484], [-2.8045294284820557, -3.962625026702881, 5.981720447540283], [8.22784423828125, -3.898841381072998, -4.451571941375732], [-8.01480770111084, 9.918013572692871, -3.475531578063965], [-1.2515593767166138, -2.985189914703369, 3.547793388366699], [-0.6109728217124939, -3.854295253753662, 3.8377842903137207], [6.657790184020996, -2.873073101043701, -3.9373536109924316], [7.871167182922363, -3.6551403999328613, -4.342258930206299], [-5.326345443725586, 7.207475662231445, -3.0763425827026367], [7.1429033279418945, -3.116302967071533, -4.180985927581787], [-4.1939520835876465, 1.8611935377120972, 1.4299589395523071], [-4.055968761444092, 4.139204978942871, -0.8894770741462708], [-1.4853354692459106, -4.474000453948975, 5.305511474609375], [-4.292482376098633, 1.0546178817749023, 2.441977024078369], [-2.5984609127044678, -2.6678500175476074, 4.573634624481201], [-3.287236213684082, 1.1960322856903076, 1.512205719947815], [4.821873188018799, -3.1432857513427734, -2.0494542121887207], [8.045439720153809, -3.9024362564086914, -4.268232822418213], [-3.47691011428833, 0.3215327858924866, 2.505451202392578], [-6.50374698638916, 7.880822658538818, -2.6400766372680664], [3.7649881839752197, -4.39865255355835, 0.28845179080963135], [-1.0809987783432007, -3.127314805984497, 3.540689468383789], [9.722689628601074, -4.350999355316162, -5.363954067230225], [7.521655559539795, -3.67960786819458, -3.9962096214294434], [7.991018295288086, -3.3743276596069336, -4.782497882843018], [-6.723537445068359, 7.82399845123291, -2.293086051940918], [-6.484531402587891, 8.015527725219727, -2.7639503479003906], [-6.338724136352539, 6.273036003112793, -1.0068684816360474], [-0.8381609320640564, 0.9989140033721924, -0.6126185655593872], [-0.9827267527580261, 0.13775761425495148, 0.33480948209762573], [-1.8829299211502075, 3.659168004989624, -2.5314817428588867], [-2.9927480220794678, -3.492690086364746, 5.666519641876221], [-4.552202224731445, 4.400975227355957, -0.583508312702179], [0.7473202347755432, 2.265533685684204, -3.7850871086120605], [-3.443251132965088, -2.461761951446533, 5.08359432220459], [8.09081745147705, -3.8562779426574707, -4.345175743103027], [-5.662726879119873, 3.723581314086914, 1.3084378242492676], [-1.1383193731307983, -2.1406240463256836, 2.7314205169677734], [-7.7747297286987305, 8.859813690185547, -2.4815163612365723], [-5.685555458068848, 4.233306407928467, 0.4059576690196991], [-2.708380937576294, -3.156479835510254, 5.145713806152344], [-5.301618576049805, 5.781283855438232, -1.4223476648330688], [-1.1341716051101685, 1.0004605054855347, -0.5413255095481873], [-7.007178783416748, 8.759593963623047, -3.1877307891845703], [5.913173675537109, -3.1404051780700684, -3.0587210655212402], [-1.6148771047592163, -3.3859503269195557, 4.3499345779418945], [6.401549339294434, -2.5775322914123535, -4.081493854522705], [-8.16549015045166, 9.647651672363281, -2.9795475006103516], [0.4897707998752594, -3.7673938274383545, 2.834280014038086], [-3.073471784591675, -2.4668920040130615, 4.747033596038818], [3.2323672771453857, -0.2782924175262451, -3.4295105934143066], [-7.454178810119629, 9.50732135772705, -3.5711302757263184], [-7.478097915649414, 8.75307846069336, -2.6196470260620117], [-2.225177049636841, 4.845289707183838, -3.6082630157470703], [5.12010383605957, -3.8501577377319336, -1.5921857357025146], [6.8906941413879395, -3.2513060569763184, -3.858025550842285], [-1.6896145343780518, -3.5404841899871826, 4.6068196296691895], [2.2534704208374023, -1.2931782007217407, -1.3979603052139282], [-5.796004772186279, 7.118956089019775, -2.4507436752319336], [-5.72357702255249, 6.521742343902588, -1.8422892093658447], [-3.4680140018463135, 5.1219706535339355, -2.5514631271362305], [5.463628768920898, -4.568432331085205, -1.1359251737594604], [-1.572686791419983, 2.580899477005005, -1.6606022119522095], [6.068809509277344, -3.357896089553833, -2.9653220176696777], [5.499669075012207, -3.324803352355957, -2.484745979309082], [-3.066166639328003, 0.29550451040267944, 1.9648526906967163], [-6.515169143676758, 7.962584495544434, -2.694596767425537], [1.3945189714431763, 0.6044509410858154, -2.55294132232666], [-2.145566701889038, -2.959927558898926, 4.4362945556640625], [6.736179828643799, -3.364389419555664, -3.550662040710449], [0.4511053264141083, -3.9840521812438965, 3.0540127754211426], [4.599379062652588, -2.723822593688965, -2.2386789321899414], [5.930741786956787, -3.9865384101867676, -2.156787872314453], [6.556607246398926, -3.491029739379883, -3.2824573516845703], [3.484445333480835, -0.34999585151672363, -3.6470699310302734], [-1.6964441537857056, -3.770780086517334, 4.773117542266846], [7.349416255950928, -3.4808011054992676, -4.0636467933654785], [-4.002673625946045, 0.5279218554496765, 2.8165016174316406], [-6.705527305603027, 7.207902908325195, -1.7486895322799683], [1.0660585165023804, -4.184113502502441, 2.657735824584961], [-4.77176570892334, 4.928715229034424, -1.1188890933990479]]\n",
            "tensor([[3.5362e-02, 2.4260e-01, 5.2077e+01],\n",
            "        [2.9841e-03, 2.6322e+02, 4.9628e-01],\n",
            "        [6.2701e-03, 3.1673e+02, 2.0978e-01],\n",
            "        ...,\n",
            "        [1.2241e-03, 1.3501e+03, 1.7400e-01],\n",
            "        [2.9039e+00, 1.5236e-02, 1.4264e+01],\n",
            "        [8.4654e-03, 1.3820e+02, 3.2664e-01]])\n",
            "[1, 1, 1, 2, 1, 1, 1, 1, 1, 0, 0, 1, 0, 2, 0, 1, 0, 2, 1, 2, 1, 2, 0, 0, 1, 1, 1, 1, 0, 2, 2, 0, 1, 2, 2, 0, 1, 2, 1, 0, 0, 2, 1, 1, 1, 0, 0, 0, 0, 0, 2, 1, 2, 2, 2, 0, 0, 2, 2, 1, 1, 1, 2, 1, 0, 0, 0, 2, 0, 1, 2, 2, 1, 1, 0, 2, 2, 2, 2, 0, 2, 1, 1, 2, 2, 2, 1, 0, 1, 2, 1, 1, 0, 1, 0, 2, 0, 0, 0, 1, 2, 0, 0, 1, 0, 2, 0, 2, 0, 2, 2, 2, 0, 0, 2, 2, 2, 2, 2, 0, 2, 1, 2, 2, 1, 1, 1, 1, 2, 0, 2, 2, 0, 1, 2, 2, 1, 1, 2, 2, 0, 2, 1, 2, 1, 2, 2, 2, 1, 2, 0, 0, 0, 1, 2, 0, 1, 1, 2, 0, 2, 1, 2, 0, 2, 1, 1, 1, 1, 2, 1, 1, 0, 2, 2, 1, 1, 2, 0, 1, 2, 0, 0, 2, 1, 0, 2, 1, 0, 0, 0, 2, 2, 1, 2, 1, 1, 1, 1, 1, 2, 2, 0, 2, 0, 2, 0, 1, 0, 2, 1, 1, 2, 1, 2, 0, 1, 0, 2, 2, 2, 2, 1, 1, 0, 1, 2, 1, 0, 0, 1, 2, 2, 0, 1, 1, 1, 0, 2, 1, 0, 0, 2, 2, 0, 0, 1, 2, 2, 0, 1, 2, 0, 2, 2, 2, 0, 0, 0, 0, 2, 2, 2, 0, 0, 2, 0, 0, 2, 1, 2, 1, 1, 1, 1, 1, 0, 0, 2, 2, 0, 1, 2, 0, 1, 1, 0, 1, 2, 2, 1, 2, 0, 0, 0, 2, 1, 2, 1, 2, 2, 1, 1, 2, 1, 0, 1, 2, 2, 0, 0, 2, 0, 2, 1, 1, 1, 2, 1, 1, 1, 2, 2, 2, 0, 0, 2, 1, 2, 2, 0, 0, 1, 0, 2, 1, 1, 1, 2, 2, 0, 2, 2, 0, 1, 2, 2, 0, 2, 0, 0, 1, 1, 2, 1, 1, 2, 1, 1, 2, 0, 2, 2, 1, 0, 2, 2, 0, 0, 1, 1, 0, 0, 2, 1, 0, 0, 2, 0, 0, 0, 2, 0, 0, 1, 0, 0, 1, 2, 2, 2, 1, 0, 0, 1, 1, 1, 2, 2, 2, 1, 0, 2, 1, 1, 0, 2, 0, 2, 0, 2, 2, 2, 1, 0, 1, 1, 0, 2, 0, 1, 1, 1, 0, 1, 0, 1, 2, 0, 1, 1, 1, 2, 1, 2, 1, 1, 2, 1, 1, 1, 2, 0, 1, 2, 0, 1, 0, 2, 1, 1, 2, 0, 0, 2, 2, 0, 1, 1, 1, 2, 2, 1, 2, 1, 2, 1, 0, 1, 2, 1, 1, 0, 1, 0, 0, 0, 1, 2, 2, 1, 1, 2, 0, 2, 0, 0, 2, 2, 2, 0, 0, 1, 2, 0, 2, 2, 2, 2, 0, 2, 1, 0, 0, 0, 0, 0, 0, 2, 2, 0, 0, 2, 0, 1, 2, 1, 0, 0, 0, 1, 2, 1, 0, 1, 0, 2, 0, 1, 0, 2, 1, 1, 2, 1, 2, 1, 2, 2, 0, 1, 0, 1, 0, 2, 2, 1, 1, 1, 2, 2, 0, 1, 1, 2, 1, 2, 2, 1, 0, 1, 0, 2, 2, 2, 0, 1, 2, 1, 2, 1, 0, 0, 1, 1, 0, 2, 2, 1, 2, 2, 0, 1, 1, 1, 2, 0, 2, 0, 2, 0, 1, 0, 1, 1, 1, 0, 0, 0, 1, 2, 2, 1, 0, 0, 2, 0, 1, 1, 1, 1, 2, 1, 1, 1, 0, 2, 1, 0, 0, 2, 1, 2, 1, 0, 2, 0, 0, 2, 1, 0, 1, 0, 0, 1, 1, 0, 0, 1, 0, 1, 1, 2, 1, 2, 2, 1, 0, 2, 2, 1, 2, 0, 2, 1, 2, 0, 0, 2, 1, 0, 0, 0, 0, 2, 2, 0, 0, 0, 2, 2, 0, 0, 1, 2, 1, 1, 2, 2, 0, 2, 1, 1, 1, 0, 2, 2, 2, 2, 2, 2, 0, 2, 1, 1, 2, 1, 0, 1, 1, 1, 1, 2, 2, 1, 1, 1, 0, 0, 1, 2, 2, 1, 2, 1, 1, 0, 1, 1, 2, 1, 0, 1, 2, 0, 2, 2, 2, 1, 0, 1, 2, 2, 1, 2, 1, 0, 0, 1, 1, 1, 0, 1, 0, 1, 1, 1, 1, 1, 2, 1, 0, 2, 1, 2, 0, 0, 2, 2, 2, 2, 1, 2, 2, 2, 0, 1, 2, 2, 1, 2, 0, 2, 2, 0, 2, 0, 1, 2, 1, 2, 1, 1, 0, 0, 1, 2, 0, 1, 1, 2, 1, 2, 1, 2, 0, 0, 1, 1, 2, 2, 1, 2, 2, 2, 1, 2, 1, 0, 2, 0, 0, 1, 0, 1, 1, 2, 2, 2, 2, 2, 1, 1, 0, 1, 2, 2, 2, 2, 2, 1, 2, 0, 2, 2, 0, 1, 1, 1, 1, 1, 0, 1, 1, 1, 0, 1, 1, 2, 0, 0, 1, 1, 1, 0, 1, 1, 2, 2, 0, 1, 0, 2, 2, 2, 2, 0, 1, 0, 2, 2, 2, 1, 2, 0, 2, 0, 1, 1, 0, 0, 0, 2, 0, 2, 2, 0, 1, 1, 0, 1, 0, 1, 0, 2, 0, 2, 1, 0, 0, 0, 2, 1, 0, 0, 1, 1, 0, 1, 1, 0, 1, 1, 1, 0, 1, 2, 1, 1, 0, 1, 0, 2, 1, 2, 0, 2, 2, 0, 1, 2, 0, 2, 2, 1, 1, 1, 1, 0, 0, 0, 1, 2, 2, 0, 2, 2, 1, 0, 0, 0, 2, 0, 0, 1, 2, 0, 1, 2, 2, 2, 0, 0, 2, 1, 2, 1, 2, 1, 1, 1, 0, 1, 0, 2, 0, 2, 2, 1, 1, 0, 1, 1, 0, 2, 1, 1, 2, 2, 1, 2, 1, 1, 1, 0, 2, 0, 1, 1, 1, 2, 0, 2, 1, 1, 1, 2, 0, 2, 2, 0, 2, 0, 2, 0, 0, 0, 2, 2, 2, 0, 1, 1, 2, 2, 0, 0, 1, 0, 2, 0, 2, 2, 2, 0, 1, 2, 1, 2, 1, 1, 1, 0, 2, 0, 1, 0, 1, 1, 2, 2, 1, 1, 2, 1, 1, 0, 2, 0, 0, 1, 2, 0, 2, 2, 2, 1, 0, 2, 2, 0, 2, 1, 2, 1, 2, 2, 2, 2, 1, 0, 1, 0, 1, 2, 1, 0, 2, 2, 1, 0, 2, 0, 1, 2, 0, 1, 1, 0, 0, 2, 0, 0, 1, 2, 0, 1, 1, 1, 2, 2, 2, 0, 0, 0, 2, 2, 2, 1, 1, 1, 0, 2, 0, 1, 2, 0, 2, 2, 0, 2, 0, 2, 1, 0, 1, 1, 2, 2, 1, 2, 1, 0, 1, 2, 0, 0, 1, 2, 0, 2, 0, 1, 0, 1, 0, 2, 2, 1, 0, 1, 2, 0, 2, 1, 1, 0, 1, 2, 2, 2, 1, 1, 1, 0, 1, 0, 1, 2, 0, 1, 1, 2, 2, 1, 1, 1, 1, 2, 2, 2, 1, 2, 0, 2, 2, 1, 0, 1, 2, 2, 2, 2, 0, 2, 0, 1, 1, 1, 0, 2, 1, 2, 0, 1, 1, 2, 1, 1, 2, 1, 1, 2, 1, 1, 0, 0, 0, 0, 0, 2, 0, 2, 0, 2, 0, 1, 0, 2, 2, 1, 1, 1, 2, 1, 1, 0, 0, 1, 0, 2, 2, 0, 1, 0, 2, 1, 1, 2, 2, 2, 1, 0, 1, 0, 1, 2, 2, 0, 0, 1, 1, 2, 1, 2, 0, 1, 2, 0, 0, 1, 1, 2, 1, 1, 1, 2, 2, 0, 0, 2, 1, 2, 1, 0, 2, 1, 0, 0, 2, 0, 2, 1, 0, 0, 1, 2, 2, 2, 2, 2, 0, 0, 2, 1, 1, 2, 2, 1, 2, 1, 1, 1, 0, 1, 2, 0, 1, 2, 1, 0, 2, 2, 0, 1, 1, 0, 2, 0, 0, 1, 2, 0, 2, 2, 2, 0, 2, 2, 2, 1, 0, 2, 1, 0, 1, 0, 2, 0, 1, 0, 1, 0, 2, 0, 1, 0, 1, 0, 0, 2, 2, 1, 1, 2, 0, 0, 2, 2, 2, 2, 0, 0, 0, 1, 2, 0, 0, 0, 2, 2, 1, 0, 2, 2, 1, 1, 1, 0, 1, 1, 2, 2, 2, 0, 1, 1, 1, 0, 0, 2, 1, 1, 0, 1, 2, 1, 2, 2, 1, 0, 2, 2, 1, 2, 0, 1, 2, 1, 1, 2, 1, 2, 1, 0, 2, 0, 2, 0, 1, 1, 1, 0, 1, 2, 2, 2, 0, 1, 2, 0, 0, 2, 0, 1, 2, 2, 1, 0, 1, 0, 2, 1, 2, 2, 2, 2, 0, 0, 2, 1, 2, 2, 0, 0, 0, 1, 1, 1, 0, 2, 1, 2, 1, 0, 2, 0, 1, 0, 1, 1, 2, 1, 1, 1, 0, 2, 0, 1, 2, 2, 0, 1, 1, 1, 0, 0, 2, 0, 1, 1, 1, 0, 1, 0, 0, 1, 1, 0, 2, 0, 2, 0, 0, 0, 0, 2, 0, 2, 1, 2, 1]\n",
            "f1 score:  0.9045101344104833\n",
            "recall:  0.9053524804177546\n",
            "precision:  0.9074629066347218\n",
            "accuracy:  0.9053524804177546\n"
          ],
          "name": "stdout"
        }
      ]
    },
    {
      "cell_type": "markdown",
      "metadata": {
        "id": "1mhuBwnvh6RZ"
      },
      "source": [
        "## Inception V3 (`pretrained = True`)"
      ]
    },
    {
      "cell_type": "code",
      "metadata": {
        "id": "3fSN8PRMiATy"
      },
      "source": [
        "model= models.inception_v3(init_weights=True, pretrained=True, aux_logits=False)\n",
        "num_ftrs = model.fc.in_features\n",
        "model.fc = nn.Linear(num_ftrs, 3)"
      ],
      "execution_count": null,
      "outputs": []
    },
    {
      "cell_type": "code",
      "metadata": {
        "colab": {
          "base_uri": "https://localhost:8080/"
        },
        "id": "lbS9K_QJiaf7",
        "outputId": "b35e4343-6cb1-4c1f-f80c-212f5fb30bbe"
      },
      "source": [
        "import torch.optim as optim\n",
        "\n",
        "optimizer = optim.Adam(model.parameters(), 0.001, weight_decay=0.0)\n",
        "scheduler = torch.optim.lr_scheduler.ReduceLROnPlateau(optimizer, patience=5, factor=0.3, threshold=0.0001) \n",
        "train_model(model, optimizer, scheduler, 10)\n"
      ],
      "execution_count": null,
      "outputs": [
        {
          "output_type": "stream",
          "text": [
            "\n",
            "**********epoch:  0 \n",
            "\n",
            "\n",
            "train:\n",
            "\n",
            "loss:  0.39387105736467576\n",
            "f1 score:  0.8456790815172874\n",
            "recall:  0.8458188153310104\n",
            "precision:  0.8456155341165759\n",
            "accuracy:  0.8458188153310104\n",
            "\n",
            "validation:\n",
            "\n",
            "loss:  1.3022183510992262\n",
            "f1 score:  0.7696001333370689\n",
            "recall:  0.7745865970409052\n",
            "precision:  0.8077273472086212\n",
            "accuracy:  0.7745865970409052\n",
            "\n",
            "**********epoch:  1 \n",
            "\n",
            "\n",
            "train:\n",
            "\n",
            "loss:  0.18946712132957247\n",
            "f1 score:  0.9336910235016472\n",
            "recall:  0.9337979094076655\n",
            "precision:  0.9339864538966854\n",
            "accuracy:  0.9337979094076655\n",
            "\n",
            "validation:\n",
            "\n",
            "loss:  0.38427844478024376\n",
            "f1 score:  0.8717041561087125\n",
            "recall:  0.8729329852045257\n",
            "precision:  0.8804288011180773\n",
            "accuracy:  0.8729329852045257\n",
            "\n",
            "**********epoch:  2 \n",
            "\n",
            "\n",
            "train:\n",
            "\n",
            "loss:  0.1174387898710039\n",
            "f1 score:  0.9625788059132383\n",
            "recall:  0.9625435540069687\n",
            "precision:  0.9626931486123999\n",
            "accuracy:  0.9625435540069687\n",
            "\n",
            "validation:\n",
            "\n",
            "loss:  0.4307142131858402\n",
            "f1 score:  0.857865333220295\n",
            "recall:  0.8633594429939078\n",
            "precision:  0.8830795019978481\n",
            "accuracy:  0.8633594429939078\n",
            "\n",
            "**********epoch:  3 \n",
            "\n",
            "\n",
            "train:\n",
            "\n",
            "loss:  0.08546832338389423\n",
            "f1 score:  0.9695310733964697\n",
            "recall:  0.9695121951219512\n",
            "precision:  0.9695664790910327\n",
            "accuracy:  0.9695121951219512\n",
            "\n",
            "validation:\n",
            "\n",
            "loss:  0.5253909246789085\n",
            "f1 score:  0.9176922755228011\n",
            "recall:  0.917319408181027\n",
            "precision:  0.9293369966135996\n",
            "accuracy:  0.917319408181027\n",
            "\n",
            "**********epoch:  4 \n",
            "\n",
            "\n",
            "train:\n",
            "\n",
            "loss:  0.08656073413375351\n",
            "f1 score:  0.9677335995987402\n",
            "recall:  0.9677700348432056\n",
            "precision:  0.9677386952660502\n",
            "accuracy:  0.9677700348432056\n",
            "\n",
            "validation:\n",
            "\n",
            "loss:  0.2695993449952867\n",
            "f1 score:  0.920647223871758\n",
            "recall:  0.9208006962576153\n",
            "precision:  0.9261489537931474\n",
            "accuracy:  0.9208006962576153\n",
            "\n",
            "**********epoch:  5 \n",
            "\n",
            "\n",
            "train:\n",
            "\n",
            "loss:  0.049670263503988586\n",
            "f1 score:  0.986063323807866\n",
            "recall:  0.9860627177700348\n",
            "precision:  0.9860806264065637\n",
            "accuracy:  0.9860627177700348\n",
            "\n",
            "validation:\n",
            "\n",
            "loss:  0.19493736595743233\n",
            "f1 score:  0.9483093558046735\n",
            "recall:  0.9486510008703221\n",
            "precision:  0.9518205317699449\n",
            "accuracy:  0.9486510008703221\n",
            "\n",
            "**********epoch:  6 \n",
            "\n",
            "\n",
            "train:\n",
            "\n",
            "loss:  0.04324559119736983\n",
            "f1 score:  0.9869337683366576\n",
            "recall:  0.9869337979094077\n",
            "precision:  0.9869358733947894\n",
            "accuracy:  0.9869337979094077\n",
            "\n",
            "validation:\n",
            "\n",
            "loss:  0.16852253106319243\n",
            "f1 score:  0.9580362707586187\n",
            "recall:  0.95822454308094\n",
            "precision:  0.959927890447869\n",
            "accuracy:  0.95822454308094\n",
            "\n",
            "**********epoch:  7 \n",
            "\n",
            "\n",
            "train:\n",
            "\n",
            "loss:  0.02921931937129961\n",
            "f1 score:  0.9921598360089674\n",
            "recall:  0.9921602787456446\n",
            "precision:  0.9922044738430214\n",
            "accuracy:  0.9921602787456446\n",
            "\n",
            "validation:\n",
            "\n",
            "loss:  0.1908390499237511\n",
            "f1 score:  0.9458908764071785\n",
            "recall:  0.9460400348128808\n",
            "precision:  0.9481475631445307\n",
            "accuracy:  0.9460400348128808\n",
            "\n",
            "**********epoch:  8 \n",
            "\n",
            "\n",
            "train:\n",
            "\n",
            "loss:  0.051611166913062334\n",
            "f1 score:  0.9825634434599104\n",
            "recall:  0.9825783972125436\n",
            "precision:  0.9825748033186816\n",
            "accuracy:  0.9825783972125436\n",
            "\n",
            "validation:\n",
            "\n",
            "loss:  0.2636766241242488\n",
            "f1 score:  0.9220792123614113\n",
            "recall:  0.9225413402959095\n",
            "precision:  0.9325964284201216\n",
            "accuracy:  0.9225413402959095\n",
            "\n",
            "**********epoch:  9 \n",
            "\n",
            "\n",
            "train:\n",
            "\n",
            "loss:  0.04439513788868984\n",
            "f1 score:  0.9843205574912892\n",
            "recall:  0.9843205574912892\n",
            "precision:  0.9843205574912892\n",
            "accuracy:  0.9843205574912892\n",
            "\n",
            "validation:\n",
            "\n",
            "loss:  0.11691790757079919\n",
            "f1 score:  0.9616393309497787\n",
            "recall:  0.9617058311575283\n",
            "precision:  0.9624650035986084\n",
            "accuracy:  0.9617058311575283\n"
          ],
          "name": "stdout"
        }
      ]
    },
    {
      "cell_type": "code",
      "metadata": {
        "id": "Q1WIm6LSjWRi"
      },
      "source": [
        "torch.save(model.state_dict(), \"Inception_true_auxlogit_false\")"
      ],
      "execution_count": null,
      "outputs": []
    },
    {
      "cell_type": "code",
      "metadata": {
        "colab": {
          "base_uri": "https://localhost:8080/"
        },
        "id": "pCFhh_7oijXz",
        "outputId": "31a9ad7c-816c-44cd-e148-9f96ea31e243"
      },
      "source": [
        "test_model(model, optimizer, scheduler)"
      ],
      "execution_count": null,
      "outputs": [
        {
          "output_type": "stream",
          "text": [
            "test: \n",
            "loss:  0.1812179209664464\n",
            "[[8.096827507019043, -4.9308881759643555, -4.567342281341553], [3.1655690670013428, -1.9899612665176392, -1.8506672382354736], [-2.3525118827819824, 1.1842247247695923, 0.5925988554954529], [-8.987308502197266, -5.421750068664551, 12.349607467651367], [-4.13490104675293, 4.725791931152344, -2.011983633041382], [-5.24079704284668, 6.264619827270508, -2.887295961380005], [-1.6977537870407104, 3.714656114578247, -3.204270601272583], [-2.3615548610687256, 4.172900199890137, -3.086946725845337], [5.8595781326293945, -3.801274061203003, -3.090831756591797], [0.9617079496383667, -1.3152446746826172, -0.07232923060655594], [-7.930696964263916, -3.0846211910247803, 9.123174667358398], [-3.8922717571258545, 6.045253753662109, -3.917367696762085], [-4.0352959632873535, -1.5396720170974731, 4.676162242889404], [-1.4276559352874756, 3.488633155822754, -3.158393383026123], [8.335271835327148, -5.588136672973633, -4.212161540985107], [-7.802392959594727, -3.641598701477051, 9.615074157714844], [-2.0179872512817383, -2.5565264225006104, 3.5139005184173584], [-12.16401481628418, -4.587721347808838, 14.015543937683105], [-3.6387574672698975, 5.177451133728027, -3.0426676273345947], [7.860481262207031, -5.148025989532471, -4.134215831756592], [-2.5364086627960205, 4.982207298278809, -3.95448899269104], [-0.24455052614212036, 0.01903701014816761, -0.34727713465690613], [5.319674491882324, -3.278014659881592, -3.2964656352996826], [-5.327435493469238, -2.9413678646087646, 6.877191066741943], [-3.0586016178131104, -0.8238539695739746, 3.145242929458618], [-6.128048896789551, -2.930739641189575, 7.293896198272705], [-2.2700579166412354, 3.3615381717681885, -2.1410346031188965], [-7.494704246520996, -1.5364972352981567, 7.409775257110596], [-3.8281285762786865, -2.526893138885498, 5.4251627922058105], [6.79228401184082, -4.565093994140625, -3.500783681869507], [-4.034704208374023, 5.322530269622803, -2.8912270069122314], [-2.2679760456085205, 3.714078903198242, -3.004289388656616], [-5.244767189025879, -1.5268588066101074, 5.210600852966309], [-3.8379509449005127, 1.8492709398269653, 0.7180718183517456], [-6.920906066894531, -1.3567652702331543, 6.663367748260498], [-3.3551995754241943, 5.830084800720215, -4.141002655029297], [-2.6547276973724365, 4.7886857986450195, -3.517327308654785], [4.228660583496094, -1.5856083631515503, -3.5803043842315674], [-4.170513153076172, 5.047408580780029, -2.34686541557312], [-4.670103073120117, -2.2333765029907227, 5.766778469085693], [-4.336079120635986, 4.805164337158203, -2.002147674560547], [-3.0398175716400146, -0.05912317708134651, 2.3397746086120605], [7.690051078796387, -4.839510917663574, -3.969189405441284], [-2.941697835922241, 2.8892481327056885, -1.3826885223388672], [-3.4775357246398926, 5.576368808746338, -3.7666642665863037], [7.205547332763672, -4.412576675415039, -3.9593067169189453], [8.05826473236084, -5.59925651550293, -3.757239580154419], [-3.9617319107055664, 5.795170783996582, -3.5342490673065186], [4.957067966461182, -5.125277996063232, -0.6143012642860413], [7.383146286010742, -4.489654541015625, -4.1329474449157715], [-0.6762956380844116, -0.5933768153190613, 0.3189223110675812], [-3.5468130111694336, 4.955263137817383, -2.891826868057251], [-5.313969612121582, 7.588649749755859, -4.48434591293335], [6.686456680297852, -4.563279151916504, -3.2276666164398193], [4.718416690826416, -3.5353283882141113, -1.9254655838012695], [-3.8180229663848877, 5.751829147338867, -3.6685850620269775], [7.334680557250977, -4.7587127685546875, -3.7058961391448975], [6.581938743591309, -4.670173645019531, -2.870185375213623], [-3.8550517559051514, -0.5954278707504272, 3.3326783180236816], [-3.098696708679199, -2.7011375427246094, 4.90533447265625], [-7.615909099578857, -3.947165012359619, 9.606624603271484], [3.888110876083374, -2.316322088241577, -2.546741247177124], [7.117006778717041, -5.295905113220215, -2.8127505779266357], [-2.2040843963623047, -2.2430827617645264, 3.6555941104888916], [8.626933097839355, -5.17854118347168, -4.841646194458008], [-2.959585428237915, -3.198808431625366, 5.191641330718994], [1.4607958793640137, -5.104211807250977, 3.46669340133667], [-4.940245628356934, -0.9989618062973022, 4.781138896942139], [-11.048227310180664, -3.811000347137451, 12.418071746826172], [-5.106297969818115, 4.85911750793457, -1.4220926761627197], [-3.6935551166534424, 5.953653812408447, -4.090616703033447], [6.33436393737793, -4.390793800354004, -2.9377658367156982], [6.3056182861328125, -4.273201942443848, -2.98905611038208], [6.755284786224365, -4.739271640777588, -3.017120599746704], [-3.3850152492523193, 5.119990825653076, -3.215607166290283], [6.503695011138916, -5.032256126403809, -2.3827624320983887], [-8.857307434082031, -4.825763702392578, 11.620540618896484], [-9.287291526794434, -5.046405792236328, 12.228153228759766], [8.333837509155273, -5.50299072265625, -4.207009315490723], [-7.776067733764648, -0.9520430564880371, 6.616408824920654], [-4.284497261047363, 6.7888102531433105, -4.439648151397705], [-5.043216705322266, 8.337894439697266, -5.749944686889648], [-12.441695213317871, -4.542244911193848, 14.13076400756836], [-2.778918504714966, -0.06680923700332642, 2.0837016105651855], [-2.931276559829712, 3.5925331115722656, -1.8081810474395752], [-11.537643432617188, -5.588375091552734, 14.560501098632812], [0.836612343788147, -3.9727697372436523, 2.6061317920684814], [4.606843948364258, -3.1669223308563232, -2.1510050296783447], [-3.5551345348358154, 5.294673442840576, -3.3622617721557617], [6.223923683166504, -4.041042327880859, -3.2428314685821533], [-1.7733505964279175, -0.5578426122665405, 1.760195016860962], [8.70815372467041, -5.730815410614014, -4.32775354385376], [6.2419304847717285, -4.256624221801758, -3.0532381534576416], [-3.9585494995117188, 6.3890275955200195, -4.21090030670166], [6.531976699829102, -3.2595584392547607, -4.483856678009033], [-4.095998764038086, 5.560908794403076, -3.0533268451690674], [-3.4553515911102295, -2.8467178344726562, 5.454897403717041], [-4.116436958312988, -2.627434492111206, 5.595517635345459], [-4.238955020904541, 6.057656288146973, -3.66922926902771], [1.373473882675171, -2.873389959335327, 0.904161810874939], [-2.457542657852173, -2.4157745838165283, 3.6872200965881348], [-8.455716133117676, -2.5933680534362793, 9.183955192565918], [5.368625164031982, -3.5101006031036377, -2.68430233001709], [-10.328420639038086, -3.864225149154663, 11.918815612792969], [-2.0480358600616455, -2.2821285724639893, 3.50687575340271], [-3.7308969497680664, 6.340735912322998, -4.399954319000244], [2.8187015056610107, -0.1836157739162445, -3.7669484615325928], [8.179409980773926, -5.6317033767700195, -3.7904655933380127], [-8.259032249450684, -5.3111186027526855, 11.628419876098633], [-3.2175416946411133, 3.3420417308807373, -1.2073867321014404], [-12.654266357421875, -5.62155818939209, 15.37082576751709], [2.6491520404815674, -1.1434201002120972, -2.5413618087768555], [-2.40583872795105, 0.2057459056377411, 1.39146089553833], [-8.16400146484375, -4.570949077606201, 10.87343978881836], [7.347501754760742, -4.8566789627075195, -3.5834767818450928], [-1.1294533014297485, 2.39258074760437, -2.078122854232788], [-4.339015960693359, 5.371725559234619, -2.7011282444000244], [-6.799864768981934, -3.82133150100708, 9.100732803344727], [1.0632030963897705, -2.800679922103882, 1.1969977617263794], [-3.07489275932312, 4.7963762283325195, -3.1207568645477295], [-2.0975470542907715, 3.995298147201538, -3.22615122795105], [-5.425329208374023, -2.778978109359741, 6.7656941413879395], [-9.233022689819336, -3.261536121368408, 10.39614200592041], [-4.380996227264404, 5.629092693328857, -2.9589731693267822], [-4.187385559082031, 6.62929630279541, -4.340651035308838], [7.538570404052734, -4.774459362030029, -3.9260025024414062], [-2.2258622646331787, 3.2660582065582275, -2.080437183380127], [2.8652737140655518, -4.686618804931641, 1.4994789361953735], [-7.799680233001709, -5.295629501342773, 11.284093856811523], [6.4431891441345215, -4.025071620941162, -3.3809292316436768], [-8.198840141296387, -3.5217676162719727, 9.9051513671875], [7.824000358581543, -5.433810710906982, -3.552255392074585], [-3.6309475898742676, 6.061878204345703, -4.20676851272583], [-7.422472953796387, -2.750600576400757, 8.578410148620605], [7.615056991577148, -4.953648567199707, -4.189491271972656], [-4.453644752502441, 1.1273648738861084, 2.3198258876800537], [7.137870788574219, -5.176990985870361, -3.161449909210205], [1.8634185791015625, -3.725864887237549, 0.9398512244224548], [-3.4805305004119873, -1.2402130365371704, 3.800401449203491], [8.044607162475586, -5.1289873123168945, -4.208523273468018], [-4.454999923706055, 6.4960126876831055, -3.9183645248413086], [-3.229417562484741, 0.1346723586320877, 2.332156181335449], [-3.4866299629211426, 5.722938537597656, -3.864060640335083], [-1.4067442417144775, 3.6896495819091797, -3.5066893100738525], [-4.15208101272583, 7.0160064697265625, -4.917544364929199], [-4.0605788230896, 3.9720914363861084, -1.2041642665863037], [-3.0470879077911377, 4.593086242675781, -2.9222679138183594], [7.214291572570801, -4.624749183654785, -3.874544143676758], [-3.0420725345611572, 3.058084726333618, -1.1029752492904663], [7.62744140625, -5.032550811767578, -3.779268980026245], [-2.864143133163452, -3.980916976928711, 5.695959568023682], [-1.4917213916778564, 3.80238676071167, -3.597933053970337], [-2.9508631229400635, 5.214377403259277, -3.797287702560425], [-3.428008556365967, -2.509920835494995, 5.106578826904297], [6.568264007568359, -4.705099105834961, -2.8935728073120117], [-2.038356065750122, -3.8441660404205322, 5.275720119476318], [8.014885902404785, -5.051937580108643, -4.13385009765625], [8.680374145507812, -5.649567604064941, -4.443644046783447], [6.878366947174072, -5.474362373352051, -2.3570315837860107], [2.7327630519866943, -0.9696229100227356, -2.4514758586883545], [6.436591625213623, -4.373788356781006, -3.066736936569214], [6.091253280639648, -4.498686790466309, -2.558960199356079], [3.9786136150360107, -3.0074751377105713, -1.7624258995056152], [-1.2573912143707275, 2.904816150665283, -2.5810983180999756], [-3.125305414199829, 5.347009658813477, -3.736973524093628], [-7.9040985107421875, -2.6712453365325928, 8.697257995605469], [-6.493058204650879, -5.405503749847412, 10.405954360961914], [-7.298120498657227, -5.657286643981934, 11.146465301513672], [4.364279747009277, -3.1384594440460205, -1.9713488817214966], [-3.109276294708252, 5.260828495025635, -3.603280782699585], [-5.493994235992432, -4.145016193389893, 8.359356880187988], [-2.891284942626953, -2.258953094482422, 4.039304733276367], [-2.590062141418457, 4.004611968994141, -3.038801431655884], [6.919732570648193, -4.463465690612793, -3.464548349380493], [-1.8275775909423828, -1.3780163526535034, 2.3843436241149902], [-2.9722278118133545, -2.365518808364868, 4.2946553230285645], [-8.575712203979492, -4.00020694732666, 10.696039199829102], [-3.708237409591675, -2.3707120418548584, 5.134720325469971], [-2.340604066848755, -1.1712251901626587, 2.5923221111297607], [-5.387835502624512, 7.103738784790039, -3.8040084838867188], [-6.97698974609375, -2.8496179580688477, 7.622907638549805], [5.609752655029297, -4.262609481811523, -2.169217348098755], [-3.7175559997558594, 6.337430953979492, -4.445451259613037], [-3.116732597351074, 5.420888900756836, -4.0062103271484375], [-3.1227426528930664, -2.990304708480835, 5.304303169250488], [-2.7306878566741943, 4.0079665184021, -2.5353262424468994], [-6.384334087371826, 7.865614891052246, -3.8682491779327393], [8.196614265441895, -5.555809020996094, -4.0034332275390625], [-2.285447597503662, 3.9357247352600098, -2.955606698989868], [-2.536054849624634, 2.551409959793091, -0.898611307144165], [-7.35462760925293, -4.31706428527832, 10.03664493560791], [-4.589110851287842, 6.94866943359375, -4.378174304962158], [-1.4409081935882568, 1.3426529169082642, -1.0118423700332642], [5.174129486083984, -3.4517297744750977, -2.492233991622925], [-2.9069526195526123, 4.9547858238220215, -3.6442105770111084], [-1.7542051076889038, 3.3890135288238525, -2.95941424369812], [-3.4381449222564697, -0.7749742269515991, 3.3700175285339355], [-6.920851707458496, -1.9857786893844604, 7.3156890869140625], [8.678550720214844, -5.890997409820557, -4.119112491607666], [-5.4082770347595215, 8.669649124145508, -5.809622287750244], [-4.8028411865234375, -0.9849462509155273, 4.71075439453125], [-4.534578323364258, 7.161629676818848, -4.72498893737793], [-1.2491252422332764, 1.4014440774917603, -0.9106040596961975], [-6.233037948608398, -3.4787707328796387, 7.991210460662842], [-2.3315746784210205, 1.6233867406845093, 0.10829444229602814], [-4.1540327072143555, 5.489056587219238, -2.9751651287078857], [-3.4415767192840576, -2.788025140762329, 5.241629600524902], [-3.9934301376342773, 6.527307033538818, -4.405174732208252], [-3.556549072265625, -0.9224787950515747, 3.4505512714385986], [8.440008163452148, -5.808278560638428, -3.9446330070495605], [-5.5296735763549805, 8.088894844055176, -4.817344665527344], [9.773584365844727, -6.269704341888428, -4.958122730255127], [-1.3830857276916504, 1.0062997341156006, -0.44924619793891907], [-3.943974018096924, 5.278822898864746, -2.8871243000030518], [-3.542699098587036, 5.390089988708496, -3.3858566284179688], [1.5217890739440918, -1.3574563264846802, -0.6513180136680603], [2.5291850566864014, -1.1650837659835815, -2.0977041721343994], [-7.426251411437988, -2.7059028148651123, 8.486197471618652], [6.757124423980713, -4.626511096954346, -3.1889967918395996], [-4.5149760246276855, 5.788329601287842, -2.9675161838531494], [-3.0912468433380127, 0.02519652433693409, 2.2878692150115967], [-0.6014136075973511, 2.5211899280548096, -2.8960466384887695], [-4.832518577575684, -1.7025859355926514, 5.493244647979736], [-1.6124505996704102, 3.1771652698516846, -2.636174440383911], [8.248259544372559, -5.0953826904296875, -4.460796356201172], [-2.242666482925415, -0.7569665312767029, 2.1460416316986084], [-2.778721570968628, 4.706319808959961, -3.251088857650757], [-5.381164073944092, 6.873278617858887, -3.529581069946289], [-6.425664901733398, 8.491215705871582, -4.510623455047607], [-1.9227118492126465, -1.663831353187561, 2.7365334033966064], [-1.6470603942871094, 3.5248324871063232, -3.140611410140991], [-6.074618339538574, 8.323028564453125, -4.660941123962402], [0.4213355779647827, 1.1274137496948242, -2.469367742538452], [-5.129451751708984, 6.3246355056762695, -3.0670244693756104], [-3.4348695278167725, 4.625524520874023, -2.543616533279419], [-3.9949491024017334, -0.25205889344215393, 3.311465263366699], [-3.577540636062622, 4.411645412445068, -2.1586670875549316], [-3.6035068035125732, -3.0416812896728516, 5.7049174308776855], [-3.6883702278137207, 4.493958473205566, -2.1329002380371094], [5.186042785644531, -4.084907054901123, -1.9901082515716553], [9.039502143859863, -6.0486578941345215, -4.484747409820557], [-5.491010665893555, -1.96536386013031, 6.24383020401001], [-8.024765014648438, -4.155353546142578, 10.33242130279541], [6.747250556945801, -4.744781017303467, -2.9988348484039307], [-3.4795408248901367, 5.687275409698486, -3.858322858810425], [-6.06720495223999, 7.015513896942139, -3.0904879570007324], [-1.7860599756240845, 3.4453675746917725, -2.7578375339508057], [-2.757814645767212, 5.1504364013671875, -3.922194719314575], [-4.831843852996826, 7.590488433837891, -4.9507365226745605], [-5.252895355224609, -1.4848772287368774, 5.509607791900635], [-4.387566566467285, 2.5346920490264893, 0.4450426995754242], [-4.3180694580078125, -0.7388906478881836, 4.130434989929199], [5.523600101470947, -3.576369047164917, -2.9303224086761475], [6.305441856384277, -4.371049880981445, -2.8979101181030273], [6.3513007164001465, -3.7693779468536377, -3.85638165473938], [-2.028002977371216, 3.0434882640838623, -1.962194800376892], [-11.59315299987793, -5.55310583114624, 14.35279655456543], [-0.7327651977539062, 1.536949872970581, -1.522278070449829], [7.836019039154053, -5.141432285308838, -3.9219727516174316], [-4.242969512939453, 6.439746379852295, -4.0241007804870605], [3.6155121326446533, -1.7658236026763916, -2.7833962440490723], [5.269092559814453, -3.535963296890259, -2.5120179653167725], [-10.526654243469238, -6.365178108215332, 14.113542556762695], [7.585697174072266, -4.795603275299072, -3.966212034225464], [-5.173055648803711, -0.7820943593978882, 4.823963642120361], [-4.514904975891113, -1.2503620386123657, 4.763930797576904], [-2.816687822341919, 4.913536548614502, -3.521270990371704], [5.26729679107666, -4.7964253425598145, -1.3008034229278564], [7.846492767333984, -5.2881011962890625, -3.905259847640991], [-1.9995228052139282, 3.0896432399749756, -2.0395147800445557], [-7.304586887359619, -4.665302276611328, 10.243474960327148], [-5.1190972328186035, -0.5993317365646362, 4.511274814605713], [-8.55414867401123, -2.988010883331299, 9.385945320129395], [-4.03440523147583, -3.030088424682617, 6.129432201385498], [6.878875732421875, -4.688248634338379, -3.2102015018463135], [-1.474185585975647, -0.18838678300380707, 1.050769329071045], [-2.8957595825195312, -2.2004616260528564, 4.352329254150391], [-2.0649735927581787, -3.6881353855133057, 4.92238187789917], [-3.6005916595458984, 4.360133171081543, -2.0888330936431885], [-14.7113037109375, -6.570029258728027, 18.094213485717773], [6.1784467697143555, -4.639971733093262, -2.476470470428467], [-14.638367652893066, -5.0876312255859375, 16.39942741394043], [-10.555692672729492, -4.325983047485352, 12.408745765686035], [-4.447237968444824, 6.353015899658203, -3.7014851570129395], [-1.1643693447113037, -1.6363507509231567, 2.151735544204712], [8.951583862304688, -5.781229019165039, -4.671901702880859], [5.692181587219238, -4.032003402709961, -2.7100985050201416], [-0.24251657724380493, 2.4936304092407227, -3.343144655227661], [-3.6911237239837646, 6.023908615112305, -4.027899265289307], [-8.84840202331543, -4.875292778015137, 11.775840759277344], [-7.842877388000488, -2.6421868801116943, 8.763855934143066], [-5.682339191436768, -0.573039174079895, 5.045226097106934], [-2.6988275051116943, 5.039187431335449, -3.809504508972168], [-1.765873670578003, -0.34012696146965027, 1.387413501739502], [-3.1971898078918457, -1.448034405708313, 3.6285204887390137], [-4.390862464904785, 6.369415283203125, -3.845660924911499], [-5.011049747467041, 6.983201026916504, -3.9638123512268066], [-2.641740322113037, 5.342934608459473, -4.5755534172058105], [-2.423933506011963, 3.090933084487915, -1.6981290578842163], [3.8942224979400635, -3.6201093196868896, -0.8027585744857788], [-1.291519045829773, 0.37219706177711487, 0.43838804960250854], [-10.408808708190918, -2.294527769088745, 10.291545867919922], [-3.375363349914551, 4.15171480178833, -2.046236276626587], [-3.129406690597534, 4.824210166931152, -3.137953996658325], [6.814284324645996, -5.333571434020996, -2.5100643634796143], [-3.979360342025757, 5.858179569244385, -3.5460972785949707], [7.692140579223633, -4.995508193969727, -3.9585397243499756], [6.016745090484619, -4.271445274353027, -2.7434916496276855], [-2.643310308456421, 0.9394464492797852, 1.087408185005188], [-3.938739538192749, 5.8956193923950195, -3.6527273654937744], [-4.171609878540039, 0.9247379302978516, 2.3102219104766846], [7.185256004333496, -5.086648464202881, -3.182905435562134], [7.30240535736084, -4.347951889038086, -4.280665874481201], [4.888422966003418, -2.905855894088745, -2.7572968006134033], [-3.815059185028076, -4.659141540527344, 7.484590530395508], [-1.6392364501953125, 4.14835262298584, -3.8977982997894287], [5.468140602111816, -4.315526962280273, -1.9939513206481934], [5.308208465576172, -2.837996244430542, -3.3492488861083984], [-1.3343089818954468, 3.643754720687866, -3.674614906311035], [8.965169906616211, -5.5413618087768555, -4.9364776611328125], [-2.4001545906066895, 1.7657839059829712, -0.2746918499469757], [9.142967224121094, -6.1321282386779785, -4.4929022789001465], [-3.6179749965667725, 5.282845497131348, -3.205796003341675], [8.84714412689209, -5.954057693481445, -4.335755825042725], [1.3948149681091309, -2.1840670108795166, -0.19035619497299194], [-5.168356895446777, -4.644454479217529, 8.403154373168945], [7.722847938537598, -4.879517555236816, -4.007639408111572], [-2.553720712661743, 2.826216459274292, -1.1832077503204346], [-10.115309715270996, -2.3536417484283447, 10.265533447265625], [7.785112380981445, -5.442516326904297, -3.579920530319214], [-2.5767176151275635, 4.4567999839782715, -3.2151737213134766], [-4.041112899780273, 5.055506706237793, -2.515923023223877], [4.480084419250488, -3.1127638816833496, -2.190236806869507], [5.001687049865723, -2.796333074569702, -3.0772719383239746], [-7.6752166748046875, -2.710049867630005, 8.668188095092773], [-1.3832932710647583, -3.5172464847564697, 4.246312618255615], [-4.436333656311035, 5.570556163787842, -2.94812273979187], [5.030937671661377, -4.651738166809082, -1.1515536308288574], [-7.650062561035156, -3.8085482120513916, 9.696145057678223], [-1.579477310180664, 0.8832190632820129, 0.03464735671877861], [-2.7316415309906006, 4.291715621948242, -2.8214027881622314], [-0.9613684415817261, -2.8019955158233643, 3.2369582653045654], [-1.1873977184295654, 3.875678062438965, -3.965742588043213], [-0.5303970575332642, -0.5071130394935608, 0.49781373143196106], [-5.726449966430664, -2.0102264881134033, 6.383891582489014], [-0.8397343158721924, -2.0121982097625732, 1.9180524349212646], [-1.6534734964370728, -1.4970732927322388, 2.6299877166748047], [-6.102869987487793, -1.3559092283248901, 5.948653221130371], [-3.162923812866211, -1.141784906387329, 3.445831060409546], [6.672061443328857, -4.6668243408203125, -2.9452974796295166], [-5.13693380355835, -2.1310946941375732, 5.9560723304748535], [-4.034853935241699, 5.401555061340332, -2.9626057147979736], [7.578185081481934, -5.066518783569336, -3.859877109527588], [7.562406539916992, -5.013878345489502, -3.663191556930542], [-8.888296127319336, -3.2519848346710205, 10.127891540527344], [-3.586876153945923, 4.666392803192139, -2.491220235824585], [8.20808219909668, -5.715936183929443, -3.864393949508667], [-5.648279190063477, -1.8392940759658813, 5.9887776374816895], [-2.636629819869995, -2.353616952896118, 4.187532424926758], [-6.535435676574707, -3.8707773685455322, 8.79346752166748], [-3.35345196723938, 5.803754806518555, -4.154027938842773], [9.091973304748535, -5.912734031677246, -4.751028060913086], [-4.516424179077148, -3.0613582134246826, 6.474649906158447], [7.330089569091797, -4.740861892700195, -3.7167582511901855], [-1.427492380142212, 2.2907586097717285, -1.638139009475708], [-1.6194796562194824, -2.2259654998779297, 2.9555580615997314], [-10.922404289245605, -6.741338729858398, 15.27499008178711], [7.1808857917785645, -4.91660737991333, -3.3559634685516357], [8.621718406677246, -5.563899517059326, -4.398839473724365], [7.706894874572754, -4.964394569396973, -4.004878520965576], [8.163562774658203, -5.02524471282959, -4.573945999145508], [-5.325924873352051, -4.5355448722839355, 7.845077037811279], [6.5071821212768555, -4.437132835388184, -2.971550703048706], [-3.0084147453308105, 2.5304977893829346, -0.6224285364151001], [7.283868789672852, -4.6388773918151855, -3.996112585067749], [-3.448591470718384, 3.8792312145233154, -1.7242777347564697], [-10.503385543823242, -5.1831955909729, 12.9986572265625], [-1.2316174507141113, 3.315431594848633, -3.241811513900757], [-2.2225191593170166, 0.9818314909934998, 0.6063538789749146], [-9.757880210876465, -2.5347635746002197, 10.198890686035156], [-10.994686126708984, -4.458086013793945, 13.011862754821777], [-11.505699157714844, -5.664792060852051, 14.566173553466797], [4.75600528717041, -4.9816975593566895, -0.40139707922935486], [-8.135330200195312, -3.4988412857055664, 9.858181953430176], [4.496957302093506, -2.0633132457733154, -3.779132604598999], [-2.42106556892395, 3.9359538555145264, -2.6561973094940186], [8.403755187988281, -5.073525428771973, -4.695058822631836], [-3.1540024280548096, 5.440805435180664, -3.857333183288574], [-4.02608585357666, 5.078927993774414, -2.5672683715820312], [-4.875649452209473, 7.03765869140625, -4.154975414276123], [-3.9646718502044678, 6.496253967285156, -4.408812999725342], [-4.121570587158203, -1.8851484060287476, 4.933899402618408], [-5.735982894897461, 7.867770195007324, -4.397955417633057], [-2.9158365726470947, 4.962342262268066, -3.561218500137329], [-7.3194122314453125, -2.765381097793579, 8.420186996459961], [-3.993896484375, -3.2166249752044678, 6.183530330657959], [-5.583113670349121, -2.7180936336517334, 7.001936435699463], [8.79732608795166, -5.414616584777832, -4.896321773529053], [-7.675351142883301, -2.7492778301239014, 8.705425262451172], [-5.02650260925293, -1.1279352903366089, 4.928483009338379], [-2.7566897869110107, 5.384422302246094, -4.22121524810791], [-3.495189905166626, 5.456412315368652, -3.5192272663116455], [-0.6861563920974731, 2.307816743850708, -2.6108460426330566], [-9.21722412109375, -3.354660749435425, 10.485047340393066], [-4.211335182189941, 6.674962043762207, -4.392393589019775], [-9.241313934326172, -4.011133670806885, 11.09654426574707], [-2.5281081199645996, 3.761990547180176, -2.42559552192688], [6.567174911499023, -3.8229939937591553, -3.974327325820923], [-3.650667905807495, 5.464565277099609, -3.444737672805786], [8.301626205444336, -5.15817403793335, -4.594931602478027], [-3.582176446914673, 5.274150371551514, -3.1966006755828857], [8.653818130493164, -5.4857072830200195, -4.649930477142334], [-5.4697465896606445, -2.7228000164031982, 6.7847580909729], [5.062076568603516, -3.3278157711029053, -2.581847667694092], [-3.7325234413146973, 6.758373737335205, -4.967128276824951], [-8.576120376586914, -6.350006103515625, 12.936851501464844], [-2.282771110534668, 4.224724292755127, -3.1867282390594482], [-3.9559199810028076, -2.1942739486694336, 5.208131313323975], [3.782984972000122, -4.144103527069092, -0.33646175265312195], [-1.7229816913604736, 2.4958455562591553, -2.1158134937286377], [7.226980209350586, -4.9856462478637695, -3.2783453464508057], [-2.4484333992004395, 3.695862293243408, -2.331117868423462], [-4.5712714195251465, 7.099133491516113, -4.49376916885376], [-3.279430627822876, 2.5149085521698, -0.1789802759885788], [6.28656005859375, -5.092255115509033, -1.9800853729248047], [-3.7466423511505127, 4.384189128875732, -1.993733525276184], [-4.218444347381592, 5.882330894470215, -3.4262192249298096], [-2.2939417362213135, -1.834118127822876, 3.215831995010376], [7.083491325378418, -4.737857341766357, -3.403895854949951], [-3.0678658485412598, 5.763785362243652, -4.381154537200928], [-4.114374160766602, 7.018024444580078, -4.963247776031494], [-2.7040178775787354, -2.312483072280884, 4.176260471343994], [9.214807510375977, -6.060839653015137, -4.771981716156006], [-9.708043098449707, -4.645688533782959, 12.075531005859375], [-4.117391109466553, 6.722420692443848, -4.501223087310791], [-3.616288185119629, 5.0091094970703125, -2.898686647415161], [7.333477020263672, -4.810858726501465, -3.84816575050354], [8.057372093200684, -5.1587371826171875, -4.2207512855529785], [-0.4661765992641449, 1.3729124069213867, -1.583681583404541], [-1.8635711669921875, -1.0649360418319702, 2.262190580368042], [6.104644298553467, -5.05348014831543, -1.8039882183074951], [7.905119895935059, -5.0014848709106445, -4.19097375869751], [-1.5566035509109497, -1.34639310836792, 2.2294647693634033], [4.147001266479492, -1.974799633026123, -3.04028058052063], [-1.9920525550842285, -1.4682234525680542, 2.618086576461792], [6.358433246612549, -4.85463285446167, -2.3631913661956787], [0.2588074803352356, 0.9785374402999878, -2.031465768814087], [-6.761562824249268, -3.9638559818267822, 9.157781600952148], [-3.633446455001831, 5.232431411743164, -3.2611286640167236], [8.97370719909668, -5.567447662353516, -4.9782304763793945], [-2.346606969833374, 4.266868591308594, -3.2120018005371094], [-7.69645357131958, -2.0691165924072266, 8.032594680786133], [-3.899583578109741, 4.973269462585449, -2.8126957416534424], [-1.0495223999023438, 2.935788631439209, -3.000760793685913], [-0.027776658535003662, 0.13486118614673615, -0.6968574523925781], [3.4919891357421875, -4.6550140380859375, 0.41440948843955994], [7.728370189666748, -5.66477108001709, -3.2657907009124756], [-1.9992915391921997, -3.0918023586273193, 4.323002338409424], [-4.791184425354004, 7.2704668045043945, -4.689317226409912], [-2.8314027786254883, -2.2073147296905518, 4.299178123474121], [4.767401695251465, -2.885763645172119, -2.6687166690826416], [-3.9066295623779297, 5.0032219886779785, -2.568587064743042], [-1.8834800720214844, -1.6671689748764038, 2.6123616695404053], [2.637375593185425, -0.39794066548347473, -3.131182909011841], [-3.607781171798706, -2.7547733783721924, 5.208924293518066], [5.9116106033325195, -4.262405872344971, -2.605659246444702], [-3.9560084342956543, -3.8732187747955322, 6.779743671417236], [5.587275505065918, -3.0704143047332764, -3.420806646347046], [4.8578715324401855, -3.8440017700195312, -1.6880528926849365], [-7.779880523681641, -4.441479682922363, 10.527719497680664], [-3.567580461502075, 5.715202331542969, -3.7492644786834717], [-4.1337714195251465, 5.957222938537598, -3.5336241722106934], [-4.13527774810791, 7.245484828948975, -5.299180507659912], [-0.22024588286876678, 0.9385488629341125, -1.566223382949829], [-3.656874895095825, 5.924351215362549, -4.144476413726807], [-2.6454946994781494, -3.4685933589935303, 5.302292346954346], [-2.8327295780181885, 4.3350348472595215, -2.7651007175445557], [-2.4769363403320312, -1.9443029165267944, 3.562260866165161], [-5.353389739990234, -1.3649468421936035, 5.546542167663574], [8.360395431518555, -5.233072280883789, -4.5342607498168945], [8.240089416503906, -5.234866619110107, -4.4107866287231445], [-2.8849599361419678, 1.0942037105560303, 0.9421811103820801], [-1.2965977191925049, -3.0386006832122803, 3.695840835571289], [-3.0278735160827637, 3.117300271987915, -1.3281337022781372], [-3.4599406719207764, -2.0093235969543457, 4.365844249725342], [-11.775045394897461, -5.858619689941406, 14.76086711883545], [7.621100425720215, -4.685429573059082, -4.210644245147705], [-3.738490343093872, -2.234206438064575, 5.0044684410095215], [-14.866739273071289, -4.82958984375, 16.463359832763672], [-0.6384382247924805, -0.5859033465385437, 0.7371863126754761], [-8.890321731567383, -2.411288022994995, 9.369373321533203], [-3.782975435256958, 5.946409702301025, -3.8241617679595947], [-5.319457530975342, -0.3711381256580353, 4.2058916091918945], [-3.816607713699341, 5.875300884246826, -3.7257137298583984], [-4.897139549255371, 5.730831146240234, -2.6616814136505127], [-0.7606481313705444, -2.092644691467285, 2.3548202514648438], [-10.167505264282227, -4.333342552185059, 12.272551536560059], [7.060334205627441, -5.454407215118408, -2.924541711807251], [-8.6461181640625, -3.0125749111175537, 9.696532249450684], [-2.6516735553741455, 4.054533004760742, -2.7832133769989014], [-1.8625669479370117, -0.7828108668327332, 1.809528112411499], [-5.414879322052002, -2.2328317165374756, 6.39028787612915], [4.0968732833862305, -4.689509391784668, 0.07374488562345505], [-3.4271018505096436, 5.981481075286865, -4.27254056930542], [-4.433895111083984, 4.562131881713867, -1.5799288749694824], [9.346574783325195, -6.121447563171387, -4.673816204071045], [-5.604043006896973, 7.7518134117126465, -4.3872971534729], [-3.55843186378479, 5.321163654327393, -3.274040699005127], [-1.2315059900283813, 1.0193027257919312, -0.22290106117725372], [-4.402609825134277, 6.401040554046631, -3.900085926055908], [9.595830917358398, -5.955880165100098, -4.997044086456299], [-7.201101303100586, -5.5024237632751465, 10.976097106933594], [-2.626559019088745, 4.71713924407959, -3.5902979373931885], [-6.521286964416504, 9.379694938659668, -5.607962131500244], [5.793123245239258, -3.6848580837249756, -3.0559475421905518], [-2.675283670425415, 4.499887466430664, -3.200315237045288], [-4.526778221130371, 1.8738127946853638, 1.1983625888824463], [7.469046592712402, -4.657700538635254, -4.159928321838379], [-7.511543273925781, -4.680700302124023, 10.508085250854492], [-6.534377574920654, -4.643446445465088, 9.615839004516602], [7.049588680267334, -4.407379150390625, -3.7089462280273438], [0.9732780456542969, 1.37447988986969, -3.782423257827759], [-8.471875190734863, -2.3041112422943115, 8.945805549621582], [-3.5294530391693115, 3.844302177429199, -1.6688534021377563], [-2.326956272125244, 0.5075274705886841, 1.1726551055908203], [-4.568012237548828, 5.36698055267334, -2.5460221767425537], [-3.972644329071045, 0.17736724019050598, 2.675408124923706], [-5.185490608215332, -1.0441176891326904, 4.911779880523682], [0.0500805601477623, -1.2407361268997192, 0.6171602010726929], [7.102699279785156, -4.744483947753906, -3.449766159057617], [4.766412258148193, -2.8877015113830566, -2.662111520767212], [-3.4441094398498535, -2.205831527709961, 4.759122371673584], [8.024924278259277, -5.369428634643555, -3.9679219722747803], [-3.085674285888672, 3.3596932888031006, -1.3164888620376587], [7.8333420753479, -5.201080322265625, -3.923021078109741], [-3.845921277999878, 5.652363300323486, -3.4578466415405273], [-3.3365633487701416, 5.848630905151367, -4.328920841217041], [6.601339340209961, -5.121242046356201, -2.467008590698242], [6.679715633392334, -4.428051948547363, -3.2772393226623535], [-6.4436845779418945, -1.8774560689926147, 6.922239303588867], [-4.200884819030762, 5.031399250030518, -2.4619648456573486], [7.933645725250244, -5.258676052093506, -3.9600110054016113], [4.205534934997559, -2.3482539653778076, -2.9566757678985596], [-2.604248285293579, -2.9101176261901855, 4.454245567321777], [-0.7364383935928345, -3.7137451171875, 4.023460865020752], [-6.913538932800293, -3.7119152545928955, 8.88192367553711], [-2.2598347663879395, 3.0848352909088135, -1.8513541221618652], [-3.214318037033081, 5.157870769500732, -3.5326669216156006], [-4.791716575622559, 6.514167785644531, -3.582367181777954], [-5.937749862670898, 8.727389335632324, -5.27950382232666], [5.562347412109375, -2.732253313064575, -3.865663766860962], [-4.698063373565674, 6.398512840270996, -3.5554964542388916], [-2.9066638946533203, 5.008036136627197, -3.683377504348755], [-2.0026659965515137, -3.1577863693237305, 4.507737636566162], [-5.443662643432617, -2.476125478744507, 6.652637958526611], [-8.023380279541016, -5.017550468444824, 11.213376998901367], [-8.802330017089844, -5.012483596801758, 11.728513717651367], [-4.4685821533203125, -1.166554570198059, 4.634699821472168], [-15.057279586791992, -5.426104545593262, 17.176605224609375], [-5.803742408752441, -3.142239809036255, 7.563567161560059], [-3.3082120418548584, 4.751696586608887, -2.8292815685272217], [-4.5542707443237305, 3.5176608562469482, -0.4456263482570648], [-10.964035034179688, -5.202253341674805, 13.509897232055664], [-2.5522897243499756, 3.8961188793182373, -2.5791382789611816], [6.488159656524658, -4.618377208709717, -2.8115384578704834], [-4.060601234436035, -2.6836442947387695, 5.720338344573975], [-3.275275707244873, 5.651353359222412, -4.09576940536499], [-4.906500816345215, 7.193377494812012, -4.328146934509277], [5.753705978393555, -3.173295497894287, -3.642195463180542], [-4.869594097137451, -0.875825047492981, 4.356142520904541], [5.329429626464844, -3.0494513511657715, -3.1670656204223633], [-7.287825584411621, -5.1668782234191895, 10.571321487426758], [-2.8381991386413574, 4.5651726722717285, -3.2522668838500977], [-3.8802101612091064, -3.4784815311431885, 6.305910110473633], [-0.2907785475254059, 2.4430246353149414, -3.1626274585723877], [-5.437575340270996, 7.7776031494140625, -4.742593765258789], [-2.644460916519165, 4.156307220458984, -2.685741424560547], [0.902289867401123, 1.106933355331421, -3.0343892574310303], [6.789834976196289, -4.613709449768066, -3.196260452270508], [7.243188858032227, -4.978969097137451, -3.3729074001312256], [6.629630088806152, -4.35650110244751, -3.3785440921783447], [8.834056854248047, -6.036229133605957, -4.210463523864746], [-8.975947380065918, -4.778983116149902, 11.779809951782227], [1.5351065397262573, -1.6499407291412354, -0.3616188168525696], [9.462419509887695, -6.103181838989258, -4.9293999671936035], [-8.059097290039062, -3.2965574264526367, 9.563518524169922], [-8.59088134765625, -4.440249919891357, 11.067831993103027], [8.572322845458984, -5.283197402954102, -4.84102201461792], [5.157783508300781, -2.978107452392578, -3.1541240215301514], [1.9638292789459229, -1.087626576423645, -1.6856998205184937], [5.940122127532959, -3.5292751789093018, -3.411858320236206], [5.266559600830078, -3.4548606872558594, -2.691352367401123], [-1.8573740720748901, -1.2752925157546997, 2.5697035789489746], [2.194929838180542, -4.309022426605225, 1.7699286937713623], [-5.529262542724609, -0.49633899331092834, 4.550378322601318], [-6.960073471069336, -2.0601322650909424, 7.242002964019775], [-3.669769763946533, 6.055500030517578, -4.103835582733154], [-3.941721200942993, 6.491970062255859, -4.53394079208374], [-5.507223606109619, -3.7200167179107666, 8.01515007019043], [-3.317167043685913, 5.146208763122559, -3.390526294708252], [0.6822527647018433, -1.9615875482559204, 0.8362777829170227], [-1.404789686203003, -0.090693898499012, 0.7645528316497803], [-4.467974662780762, 5.700186729431152, -2.949819326400757], [0.8668991327285767, 0.42229020595550537, -2.009554624557495], [-4.888860702514648, -2.516704559326172, 6.221580505371094], [-2.6670188903808594, 4.858092308044434, -3.6090307235717773], [-3.8357675075531006, 4.887958526611328, -2.4981486797332764], [4.195972919464111, -2.1069133281707764, -3.0538690090179443], [-2.2117979526519775, 2.587967872619629, -1.3159503936767578], [5.518726825714111, -4.399507999420166, -1.9267337322235107], [-2.7680740356445312, 4.884665012359619, -3.5246284008026123], [-3.0414135456085205, -0.2676842510700226, 2.5516836643218994], [-4.594185829162598, 6.7074079513549805, -4.040297508239746], [5.650001525878906, -2.9331464767456055, -3.7174570560455322], [-4.453667163848877, 6.4432220458984375, -4.091816425323486], [-2.6658031940460205, 5.535130500793457, -4.474303722381592], [7.497063636779785, -4.865499496459961, -3.677408456802368], [-3.7252492904663086, -1.4523688554763794, 4.071451663970947], [-4.7868242263793945, 6.0229573249816895, -3.0263309478759766], [-0.8311268091201782, 1.3408969640731812, -1.4639607667922974], [-3.2334110736846924, -1.7248879671096802, 3.7844955921173096], [-2.0113601684570312, 2.2807090282440186, -1.455749750137329], [-2.602189302444458, 3.592883348464966, -2.1123132705688477], [-2.419560194015503, 3.9112510681152344, -2.659562826156616], [-7.153168678283691, -4.478370666503906, 9.547773361206055], [-2.6792962551116943, 4.566692352294922, -3.348334550857544], [6.071542739868164, -4.085822582244873, -2.9203550815582275], [7.5002641677856445, -5.2251362800598145, -3.413792848587036], [-5.192413806915283, -5.00295352935791, 8.788084030151367], [-3.4253127574920654, 5.763528823852539, -4.156055927276611], [-2.9147140979766846, 5.070666790008545, -3.6098735332489014], [-3.752760410308838, -3.0390634536743164, 5.867786884307861], [5.723471641540527, -3.9113352298736572, -2.8380632400512695], [-5.739812850952148, 8.507208824157715, -5.125724792480469], [5.080977916717529, -3.7652523517608643, -2.2362635135650635], [-4.644285678863525, 5.897426605224609, -3.186166524887085], [-5.319000720977783, 5.005260467529297, -1.3112246990203857], [4.9359893798828125, -3.1287410259246826, -2.6021106243133545], [7.378866195678711, -4.98239278793335, -3.6095120906829834], [7.030247688293457, -4.312348365783691, -3.7635586261749268], [-2.86191725730896, 3.3671932220458984, -1.6181278228759766], [-4.745555400848389, -2.21274471282959, 5.844703674316406], [-6.796905517578125, -4.038222312927246, 9.354166030883789], [-3.3866357803344727, -2.2760908603668213, 4.493985652923584], [-4.019290924072266, 1.1658854484558105, 1.716223955154419], [-1.1330885887145996, -0.49948403239250183, 1.0054606199264526], [4.7921271324157715, -4.389371395111084, -1.037550926208496], [4.227598190307617, -4.339520454406738, -0.5138600468635559], [-3.436976194381714, -5.196720600128174, 7.403519630432129], [-7.761811256408691, -3.279935598373413, 9.349626541137695], [-3.8576486110687256, 4.921784400939941, -2.4971017837524414], [-2.0827174186706543, 4.647794723510742, -3.976794481277466], [-2.3343160152435303, 4.641895771026611, -3.6714494228363037], [6.026060104370117, -4.103926181793213, -2.960994005203247], [-10.279266357421875, -5.128806114196777, 12.880683898925781], [-1.1446080207824707, 3.1083154678344727, -3.2986037731170654], [-2.6965103149414062, 4.7750244140625, -3.569639205932617], [-3.0380947589874268, 3.137028455734253, -1.165736198425293], [-3.980729341506958, 6.151136875152588, -3.90266489982605], [6.78135347366333, -4.5853095054626465, -3.232884168624878], [-5.914682388305664, 9.13232707977295, -5.803985118865967], [7.475163459777832, -4.8018903732299805, -3.8238072395324707], [-3.277312994003296, -2.4872939586639404, 4.826158046722412], [1.277092456817627, -3.2437055110931396, 1.4135332107543945], [-3.943524122238159, 4.932525634765625, -2.5099802017211914], [-8.179576873779297, -3.2559540271759033, 9.649760246276855], [-2.4338738918304443, 3.747870683670044, -2.4197213649749756], [2.554014205932617, -0.5902283191680908, -2.6815407276153564], [-3.1305887699127197, 5.340425968170166, -4.112447261810303], [-2.3948709964752197, 4.82474946975708, -3.9412424564361572], [-5.519351959228516, 7.996302127838135, -4.825694561004639], [3.828681707382202, -1.961586833000183, -2.7013068199157715], [-3.2628133296966553, 5.803443908691406, -4.180510520935059], [7.240630149841309, -5.076217174530029, -3.2709274291992188], [8.47523307800293, -5.757387161254883, -4.091139316558838], [-9.899383544921875, -2.022650957107544, 9.679388046264648], [-2.6476845741271973, 4.751677989959717, -3.513363838195801], [-4.832064628601074, 6.8877058029174805, -4.003299713134766], [4.763307571411133, -2.974978446960449, -2.7150158882141113], [7.437814712524414, -5.292346954345703, -3.2975547313690186], [-2.9803664684295654, 4.485349655151367, -2.7791802883148193], [-4.7464776039123535, 7.013397216796875, -4.316633701324463], [-2.034336805343628, 4.503841876983643, -3.917992353439331], [-2.203209400177002, -2.316019058227539, 3.792964220046997], [-1.5817515850067139, 3.345144510269165, -2.8941292762756348], [-4.814523696899414, 5.882753372192383, -2.811802625656128], [-4.141349792480469, -1.8096648454666138, 4.951901435852051], [-3.374603033065796, -2.254302978515625, 4.697601795196533], [-4.247095584869385, -3.207368850708008, 6.363560199737549], [-2.5264832973480225, 4.469672679901123, -3.2232871055603027], [0.6934330463409424, -3.2531354427337646, 2.138827085494995], [-2.8155312538146973, 4.073616027832031, -2.4584243297576904], [-2.5091421604156494, 1.936611294746399, -0.27631503343582153], [-1.399381399154663, 2.3402581214904785, -1.7694083452224731], [-1.1787047386169434, 1.5797126293182373, -1.3144385814666748], [-4.143956184387207, 6.435266494750977, -4.15056848526001], [-4.848118782043457, 5.784151077270508, -2.657862663269043], [-5.020251750946045, 7.072850227355957, -4.042600154876709], [4.768815517425537, -4.140313148498535, -1.3369529247283936], [-4.2448601722717285, 5.79660701751709, -3.2315266132354736], [-2.260763168334961, -1.686292290687561, 3.2021708488464355], [-3.238818883895874, -1.4049724340438843, 3.9037578105926514], [6.9216790199279785, -4.957826614379883, -3.007399797439575], [-3.843233346939087, 4.123428821563721, -1.5564472675323486], [-4.343044281005859, 7.013350963592529, -4.698541641235352], [4.957680702209473, -2.890784740447998, -2.887728214263916], [4.182750225067139, -4.177867412567139, -0.6663047075271606], [-3.0174238681793213, 5.186676979064941, -3.6273624897003174], [-2.6737680435180664, 5.144106864929199, -3.955427885055542], [-2.4333770275115967, 2.560889720916748, -1.003251552581787], [-2.3375487327575684, 0.7861068844795227, 0.8760508298873901], [8.251439094543457, -5.5503129959106445, -4.018655776977539], [7.220459461212158, -4.659715175628662, -3.8671343326568604], [-2.4884984493255615, 4.88704252243042, -3.900000810623169], [-5.114610195159912, 7.769458770751953, -4.8506083488464355], [1.7849345207214355, -2.1219422817230225, -0.08365973830223083], [5.623480796813965, -3.761331796646118, -2.7116153240203857], [4.8034772872924805, -4.74146032333374, -0.6779059171676636], [8.453912734985352, -5.403503894805908, -4.462924480438232], [-1.5344643592834473, 3.4168782234191895, -3.157327890396118], [-5.415037155151367, -2.556612491607666, 6.63141393661499], [-5.3745245933532715, 6.03200626373291, -2.575007200241089], [5.310225486755371, -3.5078933238983154, -2.7105917930603027], [-0.3776094913482666, -2.9210941791534424, 2.7907533645629883], [7.851891040802002, -4.963438034057617, -4.181179523468018], [8.625582695007324, -5.428287029266357, -4.661052227020264], [-4.153903007507324, 5.103202819824219, -2.434229612350464], [8.344894409179688, -5.432903289794922, -4.327650547027588], [4.105784893035889, -4.562991142272949, -0.04893874377012253], [1.8566428422927856, -1.0107249021530151, -1.615909457206726], [-3.2585036754608154, -2.615649461746216, 4.736583232879639], [-4.1686506271362305, 7.692782402038574, -5.707648754119873], [-3.763706684112549, 5.50758695602417, -3.4005701541900635], [-5.096158981323242, 7.2423529624938965, -4.232768535614014], [8.2755126953125, -5.431178092956543, -4.116236686706543], [-4.027397155761719, 7.352246284484863, -5.455881595611572], [-3.068444013595581, 6.0546722412109375, -4.906750679016113], [9.850780487060547, -6.029319763183594, -5.445111274719238], [-5.274863243103027, -4.184274673461914, 7.910165786743164], [7.501625061035156, -5.010889053344727, -3.7364094257354736], [-3.2265851497650146, 1.2142196893692017, 0.9159364700317383], [-4.169438362121582, 6.205994606018066, -3.793475866317749], [6.497627258300781, -4.869777679443359, -2.6122820377349854], [-8.828125, -2.824612855911255, 9.793269157409668], [-5.55407190322876, -1.9007421731948853, 6.113024711608887], [-3.127285957336426, -2.520289182662964, 4.486260890960693], [-4.659857749938965, -2.140073537826538, 5.661977291107178], [-2.0414955615997314, 3.7318146228790283, -2.9598288536071777], [-4.287797451019287, 6.2942681312561035, -3.8126609325408936], [-4.006443023681641, 5.858083724975586, -3.4999425411224365], [7.761857032775879, -5.73129415512085, -3.175391674041748], [7.802074909210205, -5.225796699523926, -3.7695319652557373], [7.556110382080078, -5.000716209411621, -3.72772216796875], [-1.9781430959701538, 2.8220484256744385, -1.8812392950057983], [4.868597984313965, -3.37899112701416, -2.272430419921875], [-3.946707010269165, 6.754440784454346, -4.734272480010986], [4.577615737915039, -2.2978765964508057, -3.2054708003997803], [8.25212574005127, -5.498345375061035, -4.178685665130615], [4.848552227020264, -2.651777982711792, -3.118525743484497], [-3.7493479251861572, -3.4549977779388428, 6.168033599853516], [-1.9270671606063843, 4.560969352722168, -4.088398456573486], [7.521249294281006, -4.406093120574951, -4.3439555168151855], [-3.044301748275757, 3.271026372909546, -1.3251142501831055], [-6.077908515930176, -0.4226726293563843, 5.198877811431885], [-3.3786323070526123, 4.301157474517822, -2.188366413116455], [-3.9831316471099854, 1.8159048557281494, 1.1349066495895386], [-1.5898367166519165, 3.119920015335083, -2.516716718673706], [0.648131251335144, 0.454893559217453, -1.8618035316467285], [-4.375495910644531, 6.811954498291016, -4.346904277801514], [8.748632431030273, -5.553152084350586, -4.798024654388428], [4.719103813171387, -4.395293712615967, -1.004658818244934], [-8.861013412475586, -2.97346568107605, 9.59052562713623], [9.58150863647461, -6.26709508895874, -4.873347282409668], [-14.687517166137695, -4.178570747375488, 15.595102310180664], [-7.29561710357666, -4.107630252838135, 9.726760864257812], [-4.127939701080322, 7.082091808319092, -4.995988368988037], [-9.651169776916504, -4.601640701293945, 12.102115631103516], [-2.6398699283599854, 3.212792158126831, -1.5844753980636597], [-2.363224744796753, -2.395273447036743, 3.6870291233062744], [7.0398759841918945, -4.88530158996582, -3.2105488777160645], [5.308737754821777, -3.4127509593963623, -2.799586057662964], [-6.383959770202637, 7.1737823486328125, -3.0584073066711426], [-2.020578384399414, -3.623485565185547, 5.0724778175354], [8.15272331237793, -5.611726760864258, -3.792907238006592], [-3.2957544326782227, 5.178524494171143, -3.3735437393188477], [-7.586483955383301, -2.3814175128936768, 8.211615562438965], [-12.649539947509766, -4.871673583984375, 14.434834480285645], [-4.97410249710083, 6.2965779304504395, -3.16333270072937], [-2.1349997520446777, -3.5003910064697266, 4.673725128173828], [-11.816557884216309, -5.664622783660889, 14.765592575073242], [-7.732183456420898, -2.3860390186309814, 8.405824661254883], [5.957677841186523, -3.5093295574188232, -3.460646390914917], [-0.9390414953231812, 3.0273239612579346, -3.070509195327759], [-7.796065807342529, -3.823249340057373, 9.80303955078125], [-3.1055963039398193, 2.2689952850341797, -0.1694081574678421], [-2.8577868938446045, -2.484917640686035, 4.2704315185546875], [-1.1652863025665283, 3.4732248783111572, -3.4442169666290283], [-2.231053590774536, -1.301093578338623, 2.6531002521514893], [-4.80354118347168, 7.244952201843262, -4.5002970695495605], [7.271596908569336, -4.686203479766846, -3.7769582271575928], [-4.864289283752441, -1.4577802419662476, 5.030104160308838], [-6.461304664611816, 6.347832202911377, -1.9953540563583374], [0.16804297268390656, 1.6069453954696655, -2.6525051593780518], [-3.4188153743743896, 0.01057405211031437, 2.5188772678375244], [6.641901016235352, -4.569394588470459, -3.165235757827759], [-3.593712329864502, 1.4135841131210327, 0.921424388885498], [-7.4021382331848145, -1.2225284576416016, 6.843241214752197], [5.813898086547852, -4.326509475708008, -2.3638205528259277], [-9.175251960754395, -3.8600287437438965, 10.858783721923828], [-4.248221397399902, 6.78968620300293, -4.5211052894592285], [-1.8829740285873413, 1.781624674797058, -1.095245122909546], [-4.814184188842773, 0.47271934151649475, 2.892890214920044], [6.8897809982299805, -4.384546279907227, -3.7154347896575928], [6.860788345336914, -5.003934860229492, -3.0244553089141846], [-3.8663973808288574, -1.0736989974975586, 3.863285779953003], [8.08858585357666, -4.928002834320068, -4.702624320983887], [-4.617513179779053, 6.809937477111816, -4.214641571044922], [-8.783519744873047, -4.394703388214111, 11.208368301391602], [-4.500422477722168, 5.403439998626709, -2.5189807415008545], [-2.5273633003234863, 5.572688102722168, -4.727163314819336], [-0.8794550895690918, 2.7595765590667725, -2.9890153408050537], [-7.340034008026123, -1.6581753492355347, 7.275998592376709], [6.5347394943237305, -4.586440086364746, -3.05678129196167], [-2.1681935787200928, -2.9146769046783447, 4.423151016235352], [-5.0954270362854, -1.558781623840332, 5.490035533905029], [8.290803909301758, -5.389719009399414, -4.243666172027588], [8.822685241699219, -5.6877217292785645, -4.691497325897217], [-2.2706987857818604, 3.685190439224243, -2.869982957839966], [9.520992279052734, -5.8594183921813965, -5.097157001495361], [5.218372344970703, -2.98007869720459, -3.216923952102661], [-4.943707466125488, 6.2983832359313965, -3.2176010608673096], [-7.202093124389648, -3.2559449672698975, 8.85896110534668], [-0.48325857520103455, -3.918519973754883, 3.9436450004577637], [-2.842336416244507, 4.860541343688965, -3.779665231704712], [-6.565720081329346, -4.176520347595215, 8.89698600769043], [-1.8307404518127441, 3.0471458435058594, -2.212719202041626], [-5.731507301330566, 7.1597900390625, -3.5141050815582275], [-1.704616665840149, 3.2110183238983154, -2.6735146045684814], [4.209159851074219, -2.545016050338745, -2.4413132667541504], [6.345310211181641, -4.741518974304199, -2.6289143562316895], [-4.309211730957031, 1.5340454578399658, 1.6601327657699585], [-2.87929630279541, 5.62493896484375, -4.433268070220947], [-4.511607646942139, 7.173656463623047, -4.795207500457764], [-8.64840030670166, -3.879077434539795, 10.692431449890137], [-5.2243452072143555, -0.47983333468437195, 4.245060920715332], [-3.8860058784484863, 6.477200508117676, -4.515445232391357], [-3.2303645610809326, 5.761165142059326, -4.1416916847229], [3.503401756286621, -4.0198588371276855, 0.050373438745737076], [7.750465393066406, -5.174461364746094, -3.8296420574188232], [-2.56880259513855, 4.705362319946289, -3.521728277206421], [6.143441677093506, -3.796527147293091, -3.290372133255005], [7.9091997146606445, -5.378802299499512, -3.7846739292144775], [3.517437696456909, -2.1186373233795166, -2.3602488040924072], [6.462420463562012, -4.65233039855957, -2.9869468212127686], [-3.8004934787750244, 5.806827545166016, -3.647974967956543], [-1.9461442232131958, -1.310953974723816, 2.3008875846862793], [3.25531268119812, -4.472618103027344, 0.7650020122528076], [-2.612342596054077, 1.9464584589004517, -0.5607454776763916], [5.586413383483887, -4.287692546844482, -2.3444478511810303], [-6.911757946014404, -4.461129665374756, 9.729490280151367], [5.11348819732666, -3.644047260284424, -2.2421820163726807], [-4.418971061706543, -1.2430306673049927, 4.566365718841553], [-3.4144742488861084, 5.275254249572754, -3.483781576156616], [-4.624899387359619, 2.4867660999298096, 0.6980680227279663], [-7.427392959594727, -2.4162166118621826, 8.13412857055664], [-2.685380220413208, 5.495777606964111, -4.475897312164307], [-2.2545430660247803, 2.9257373809814453, -1.5488312244415283], [-6.155581951141357, -4.464617729187012, 9.022409439086914], [4.487729072570801, -2.6539785861968994, -2.6376750469207764], [-5.4345703125, 7.633318901062012, -4.459475994110107], [-6.835493087768555, -3.3929250240325928, 8.671833038330078], [-3.3496954441070557, 5.418239593505859, -3.5841050148010254], [-6.179224014282227, -4.273277282714844, 8.926647186279297], [-5.181855201721191, -1.3328903913497925, 5.353009223937988], [-3.721726655960083, 5.640097618103027, -3.4872853755950928], [-7.589241981506348, -3.063481092453003, 9.014541625976562], [-0.782791018486023, 1.7723103761672974, -1.83763587474823], [6.160608291625977, -4.30857515335083, -2.7568953037261963], [5.655244827270508, -4.238164901733398, -2.2723543643951416], [8.241250991821289, -5.986135959625244, -3.5581727027893066], [-11.864046096801758, -2.9121313095092773, 12.090660095214844], [-0.9318420886993408, -3.1258838176727295, 3.4153459072113037], [7.463021278381348, -5.117957592010498, -3.552687883377075], [-2.161752462387085, 1.9951354265213013, -0.7221876382827759], [-4.2506232261657715, -2.248392343521118, 5.383234977722168], [-5.416904926300049, 8.769257545471191, -5.814146995544434], [-4.3054351806640625, 5.490204811096191, -2.783984422683716], [7.545722961425781, -5.041111469268799, -3.690584421157837], [-4.143939018249512, 6.009856700897217, -3.595881462097168], [-3.303978204727173, 5.175673484802246, -3.3869686126708984], [5.485111713409424, -4.623737335205078, -1.689659595489502], [-2.175029993057251, 4.325279235839844, -3.913196563720703], [6.998010635375977, -5.133225917816162, -2.9072694778442383], [-4.993287563323975, 7.8045549392700195, -5.006561279296875], [-12.146034240722656, -6.533191680908203, 15.862434387207031], [-3.075875759124756, 1.5793355703353882, 0.5482828617095947], [7.687185287475586, -4.901156425476074, -3.982945680618286], [5.902741432189941, -4.551741123199463, -2.1579349040985107], [6.4764814376831055, -4.458829879760742, -3.1519529819488525], [7.252835273742676, -4.640944480895996, -3.920569658279419], [-4.416417121887207, 7.247504234313965, -4.871724605560303], [-1.6989256143569946, 0.9799410700798035, 0.1705741584300995], [-4.126703262329102, 5.632880210876465, -3.107901096343994], [4.603119850158691, -4.096431732177734, -1.2040114402770996], [-5.768929481506348, 6.840546607971191, -3.1563713550567627], [-4.262868881225586, 4.40451717376709, -1.5349005460739136], [6.790401458740234, -4.212255477905273, -3.585222005844116], [-2.174006223678589, 0.5232465863227844, 0.9019140005111694], [-4.0528764724731445, 7.056643009185791, -5.027454376220703], [5.855069160461426, -2.9716379642486572, -4.083724498748779], [-5.918845176696777, -2.83454966545105, 7.260188579559326], [7.850336074829102, -5.40867280960083, -3.5766148567199707], [6.75221586227417, -4.761329650878906, -2.9990663528442383], [-5.952933311462402, -2.3642332553863525, 6.883500576019287], [-1.7094101905822754, 0.90531325340271, 0.25723400712013245], [-2.4697659015655518, -2.5998079776763916, 4.348372936248779], [-1.7647374868392944, 3.4013845920562744, -2.819411516189575], [-1.4410803318023682, 1.1263693571090698, -0.48557355999946594], [0.46475693583488464, 1.7687129974365234, -3.1962625980377197], [8.98011589050293, -5.9629974365234375, -4.430975914001465], [5.420228958129883, -4.3096771240234375, -1.8820195198059082], [2.4497272968292236, -3.0446414947509766, 0.05236361548304558], [-5.191407203674316, -0.26313135027885437, 4.339478015899658], [4.225654602050781, -4.576980113983154, -0.22212490439414978], [-3.5486226081848145, 5.044665336608887, -3.099515676498413], [-7.689323425292969, -3.5652501583099365, 9.579071044921875], [-2.1047680377960205, 2.81545090675354, -1.5912721157073975], [5.04957389831543, -3.1024792194366455, -2.6970770359039307], [-0.45243939757347107, 0.8012975454330444, -1.041839599609375], [-6.509356498718262, -0.5626117587089539, 5.386532306671143], [8.052742004394531, -5.070150375366211, -4.289508819580078], [-4.21723747253418, 6.266120910644531, -3.8661019802093506], [-6.06067419052124, 5.832287311553955, -1.707705020904541], [-5.201225280761719, -1.9768738746643066, 5.871521472930908], [7.513921737670898, -5.037931442260742, -3.600297212600708], [4.738524436950684, -3.7058675289154053, -1.7213587760925293], [7.230283737182617, -4.249377250671387, -4.33363676071167], [-6.1763715744018555, -5.140888214111328, 9.69822883605957], [-3.1673879623413086, -0.1772346794605255, 2.1703574657440186], [6.194545745849609, -4.883112907409668, -2.1804654598236084], [8.562830924987793, -5.6209259033203125, -4.49574613571167], [7.861753940582275, -5.271018028259277, -3.763221502304077], [-7.080341339111328, -3.8225772380828857, 9.324777603149414], [9.273967742919922, -6.177831649780273, -4.924414157867432], [5.764203071594238, -4.28308629989624, -2.341069459915161], [7.169053077697754, -4.8754563331604, -3.4068291187286377], [1.3261586427688599, -3.6790544986724854, 2.083444833755493], [-3.1823809146881104, 4.036803245544434, -2.0251872539520264], [6.050625801086426, -4.694030284881592, -2.205589771270752], [-5.160861015319824, 7.493309497833252, -4.465213298797607], [6.159151077270508, -4.429023742675781, -2.696918249130249], [6.947301864624023, -4.513986587524414, -3.585319995880127], [-3.3558218479156494, 5.145872592926025, -3.2813737392425537], [7.838623046875, -5.116456508636475, -3.977809190750122], [-5.604875564575195, -1.152410864830017, 5.483998775482178], [-7.080311298370361, -3.919771194458008, 9.425703048706055], [6.4101033210754395, -4.573010444641113, -2.8804032802581787], [6.007687568664551, -3.7972958087921143, -3.2748119831085205], [-4.903070449829102, -1.916101336479187, 5.565496921539307], [-1.1138408184051514, -2.3694584369659424, 2.5949251651763916], [-2.334247350692749, 3.142132043838501, -1.8234567642211914], [-2.8277080059051514, -1.523535132408142, 3.3772170543670654], [8.520626068115234, -5.4085307121276855, -4.554294109344482], [-2.1394340991973877, -3.3864848613739014, 4.710757255554199], [-2.5113565921783447, -3.240234851837158, 5.057729721069336], [-2.6134674549102783, 3.149216413497925, -1.4936566352844238], [-4.151731491088867, 7.273392677307129, -5.179609298706055], [-4.095510482788086, 5.527561187744141, -3.1750075817108154], [5.093267440795898, -3.6328091621398926, -2.240116834640503], [-0.846616268157959, -3.6820833683013916, 4.055453777313232], [5.873767375946045, -4.166324615478516, -2.562232732772827], [-1.9132581949234009, 3.2216243743896484, -2.3492989540100098], [3.0707156658172607, -0.6390069723129272, -3.2472891807556152], [-3.9682743549346924, -2.1039576530456543, 5.02661657333374], [-4.969106674194336, 0.8782973885536194, 2.644416093826294], [1.9027862548828125, 1.0614994764328003, -3.992738962173462], [-5.439229965209961, 6.8911895751953125, -3.4890382289886475], [6.209287643432617, -3.9041898250579834, -3.2757959365844727], [-3.7494211196899414, 4.0367021560668945, -1.5174963474273682], [7.074122428894043, -4.425323486328125, -3.961758852005005], [-4.2361040115356445, -0.7842570543289185, 4.0309343338012695], [6.034440994262695, -3.7417824268341064, -3.362677812576294], [-3.866593837738037, 3.4541800022125244, -1.078864574432373], [-6.948019027709961, -3.546123504638672, 9.001653671264648], [-4.6215620040893555, 6.8563995361328125, -4.237027168273926], [-7.840939521789551, -3.3676185607910156, 9.486373901367188], [-3.5270049571990967, -0.6152267456054688, 3.3219659328460693], [5.212824821472168, -3.3801610469818115, -2.7427964210510254], [-8.506861686706543, -5.130263805389404, 11.75044059753418], [-3.099414110183716, 6.017104148864746, -4.686929225921631], [-2.657972574234009, 3.556893825531006, -2.1326425075531006], [-3.2752506732940674, -2.885448694229126, 5.279475688934326], [-1.963655948638916, 3.014899492263794, -2.1892592906951904], [-6.8054304122924805, -2.7056758403778076, 8.022424697875977], [5.224669456481934, -2.8793270587921143, -3.2121150493621826], [-0.5705854892730713, -1.5815922021865845, 1.6230350732803345], [-3.3082945346832275, 4.880462169647217, -3.0352914333343506], [-0.783453106880188, 2.0368683338165283, -2.480084180831909], [5.395309925079346, -3.540191411972046, -2.6521122455596924], [-4.2970075607299805, 7.240182876586914, -5.029727935791016], [-3.1826398372650146, -2.7681186199188232, 4.964502811431885], [-4.57227087020874, -3.398822546005249, 6.674557685852051], [7.3137946128845215, -5.140220642089844, -3.2886695861816406], [-7.5326642990112305, -2.175198554992676, 7.9114298820495605], [7.992865562438965, -4.510448455810547, -4.862145900726318], [-2.628408908843994, -3.558002471923828, 5.1604743003845215], [6.351772308349609, -3.9831161499023438, -3.3800301551818848], [6.618496894836426, -3.6322736740112305, -4.130341529846191], [-3.874709129333496, -2.9105257987976074, 5.860394477844238], [-5.590954780578613, -2.7493271827697754, 7.016221046447754], [-3.2668330669403076, -1.7394880056381226, 3.8456943035125732], [7.21270227432251, -4.949549674987793, -3.3546717166900635], [-2.201547861099243, 2.2785675525665283, -1.0125224590301514], [-6.040768623352051, -3.689718246459961, 8.170663833618164], [-5.012332916259766, -3.13291597366333, 6.909970283508301], [-2.964629888534546, -2.6867778301239014, 4.824452877044678], [-1.4767701625823975, 3.0447728633880615, -2.7724924087524414], [-4.2178497314453125, -0.6423395872116089, 3.8351850509643555], [-2.4574310779571533, -0.08401912450790405, 1.5661449432373047], [6.815713882446289, -4.729275226593018, -3.189405918121338], [2.130521059036255, -0.2197493314743042, -2.761850118637085], [-3.6383018493652344, -2.3097927570343018, 5.048447132110596], [-4.18320369720459, 5.976505756378174, -3.656442642211914], [-4.410655975341797, 7.645569801330566, -5.5788254737854], [-2.613734722137451, 4.494858264923096, -3.183051824569702], [7.048003196716309, -4.713123321533203, -3.390873670578003], [-4.28059196472168, 5.96445369720459, -3.4669735431671143], [-4.35444450378418, -2.984670877456665, 5.942786693572998], [-6.24281120300293, -1.8822561502456665, 6.722351551055908], [-5.731957912445068, 7.833917140960693, -4.330718517303467], [-4.478483200073242, 5.741855621337891, -2.903050184249878], [-5.599140644073486, -0.6679494976997375, 4.773135662078857], [3.2528021335601807, -2.9363975524902344, -0.8514953255653381], [-4.6602678298950195, 6.837971210479736, -4.127951622009277], [4.77955436706543, -2.612467050552368, -3.260114908218384], [-4.365220069885254, 5.964970588684082, -3.4156911373138428], [7.680668830871582, -4.909676551818848, -3.9939663410186768], [6.83449649810791, -4.502191543579102, -3.3763680458068848], [-1.9107236862182617, -2.3000075817108154, 3.6462557315826416], [5.605015754699707, -4.195703506469727, -2.3544843196868896], [8.25558853149414, -4.994541168212891, -4.602904796600342], [-5.262731552124023, 7.29267692565918, -4.108209133148193], [-3.6507277488708496, -3.6064717769622803, 5.962530612945557], [6.424229621887207, -4.897117614746094, -2.4338881969451904], [-3.139538526535034, 5.421047210693359, -3.847604990005493], [6.931334495544434, -4.782790184020996, -3.19515061378479], [-3.013481616973877, -1.4243301153182983, 3.516557455062866], [-2.097694158554077, 4.071849346160889, -3.209538698196411], [-3.072763204574585, 3.3954412937164307, -1.4253108501434326], [-2.091146945953369, 3.424074411392212, -2.3793814182281494], [-8.777460098266602, -4.207910537719727, 10.952147483825684], [-7.279218673706055, -3.152167558670044, 8.478912353515625], [-1.898740530014038, 3.5749313831329346, -2.8911244869232178], [-9.043203353881836, -4.562075138092041, 11.67004108428955], [-1.3907166719436646, -3.136047840118408, 3.8110640048980713], [-4.076752662658691, 6.005200386047363, -3.658048629760742], [-6.166044235229492, -2.3776330947875977, 7.124161720275879], [-3.180640697479248, 4.376428604125977, -2.5609681606292725], [8.127386093139648, -5.281284332275391, -4.120076656341553], [6.352015495300293, -4.759002685546875, -2.511347770690918], [-6.262893199920654, -4.099698066711426, 8.872305870056152], [-4.095527648925781, 5.757131099700928, -3.299145221710205], [4.9112443923950195, -2.7115466594696045, -3.0582242012023926], [-3.7081103324890137, 0.8793778419494629, 1.9900646209716797], [-2.954807996749878, 4.35922908782959, -2.682905912399292], [3.4846768379211426, -3.4104831218719482, -0.5893970131874084], [-4.220952987670898, -0.8236584663391113, 4.046621799468994], [7.151386737823486, -4.990698337554932, -3.383025884628296], [-7.248986721038818, -1.5299450159072876, 6.796823978424072], [-5.1885271072387695, 7.819390296936035, -4.837700366973877], [3.2820825576782227, -5.1911468505859375, 0.4672611653804779], [-1.1239371299743652, 3.462698221206665, -3.7159407138824463], [7.278679847717285, -5.021676063537598, -3.4151673316955566], [-1.9487513303756714, 2.7508137226104736, -1.7817825078964233], [-13.741644859313965, -5.9645233154296875, 16.631776809692383], [5.306970119476318, -4.045261859893799, -2.0100908279418945], [-7.914462566375732, -3.433455228805542, 9.638954162597656], [-0.4169405698776245, -3.1298553943634033, 3.092087984085083], [-2.837554454803467, 3.881985902786255, -2.2953238487243652], [-3.2889935970306396, 4.664642333984375, -2.7710983753204346], [6.230316162109375, -4.2000532150268555, -2.9500319957733154], [3.2133560180664062, -2.604707956314087, -1.126611590385437], [4.990381717681885, -3.250549793243408, -2.4860949516296387], [-4.23869514465332, 5.691556930541992, -3.170102834701538], [-3.7551538944244385, 6.166144371032715, -4.173812389373779], [6.837920665740967, -4.457497596740723, -3.4187190532684326], [8.37300968170166, -5.256103515625, -4.481045246124268], [-5.610921382904053, -1.8320549726486206, 5.965132236480713], [-6.163986682891846, -5.293522834777832, 9.919303894042969], [-5.616084575653076, -1.2589023113250732, 5.3162841796875], [-5.503623008728027, -2.6890382766723633, 6.783489227294922], [5.335448265075684, -4.598485946655273, -1.4790470600128174], [5.511418342590332, -4.10354471206665, -2.2664077281951904], [5.604065895080566, -3.1789941787719727, -3.3799445629119873], [-2.166966438293457, -0.6479394435882568, 1.9193904399871826], [-6.038407325744629, -4.213800430297852, 8.593936920166016], [3.608802318572998, -3.4618990421295166, -0.7987083196640015], [7.764972686767578, -5.207875728607178, -3.730914831161499], [-6.4476823806762695, -5.493040084838867, 10.401342391967773], [-4.2007904052734375, 6.905346870422363, -4.667979717254639], [6.35953426361084, -3.7885689735412598, -3.723475933074951], [-3.017338991165161, 5.103928565979004, -3.5692996978759766], [-6.77993106842041, -3.1189217567443848, 8.44595718383789], [-2.735966205596924, 5.001983642578125, -3.8564655780792236], [-3.0399107933044434, 4.287326812744141, -2.5686824321746826], [-0.32913872599601746, 3.3557047843933105, -4.657890319824219], [-4.674004077911377, 0.6746634244918823, 2.837099552154541], [6.439626693725586, -4.047754287719727, -3.3554718494415283], [7.309347629547119, -5.103000640869141, -3.302020311355591], [-2.416084051132202, 2.586383819580078, -1.0633513927459717], [-1.835845708847046, 0.4001137912273407, 0.7201844453811646], [-1.88706636428833, 2.1732354164123535, -1.2430431842803955], [-3.197100877761841, 4.997293472290039, -3.264226198196411], [-3.995946168899536, 4.648467540740967, -2.089449167251587], [4.941675662994385, -2.9612936973571777, -2.9394266605377197], [-8.58980655670166, -4.090710163116455, 10.686267852783203], [5.725010395050049, -4.509490966796875, -2.073749303817749], [-2.7332780361175537, 5.041262149810791, -3.73061203956604], [8.44201374053955, -5.631661891937256, -4.136495113372803], [4.163283348083496, -2.4210758209228516, -2.7632791996002197], [4.126126289367676, -3.0693981647491455, -1.7997335195541382], [7.4973602294921875, -5.1319780349731445, -3.513090133666992], [-2.2857985496520996, 4.585235595703125, -3.663350820541382], [-3.732426166534424, -3.443234920501709, 6.1882195472717285], [-1.8742531538009644, -1.005548357963562, 1.9863903522491455], [-8.808101654052734, -3.552330732345581, 10.458621978759766], [-0.8163800239562988, 2.4407217502593994, -2.786632776260376], [6.683413505554199, -4.1300578117370605, -3.9230520725250244], [6.961294174194336, -4.454680919647217, -3.6772115230560303], [-2.158918619155884, 3.718194007873535, -2.7059078216552734], [-2.373133897781372, 2.965169906616211, -1.4922889471054077], [4.922920227050781, -3.885317087173462, -1.754103660583496], [-2.2297847270965576, 2.883718252182007, -1.7788593769073486], [-8.185084342956543, -4.53839111328125, 10.875473976135254], [-3.225904941558838, 5.264455318450928, -3.611647367477417], [8.683724403381348, -6.086151123046875, -3.8770575523376465], [-4.0821990966796875, 1.4715124368667603, 1.2066054344177246], [-4.885076522827148, 6.614983081817627, -3.6508610248565674], [-2.962534189224243, 6.061464309692383, -4.9957661628723145], [-8.322152137756348, -2.3764002323150635, 8.846118927001953], [-3.098184823989868, 5.191922664642334, -3.6172077655792236], [-4.450745582580566, 7.017819404602051, -4.6386332511901855], [8.721626281738281, -5.667962074279785, -4.318141460418701], [-7.445351600646973, -2.5094211101531982, 8.292564392089844], [-4.415940284729004, 5.763733863830566, -3.012709379196167], [-4.493802547454834, -3.6276543140411377, 6.814730644226074], [-3.3276193141937256, 5.236112594604492, -3.466207981109619], [-1.6394855976104736, -1.6848609447479248, 2.762388229370117], [-3.9717295169830322, 5.934190273284912, -3.7152485847473145], [5.195859909057617, -3.0775434970855713, -2.9689621925354004], [-3.5969207286834717, 4.742435455322266, -2.6332626342773438], [-3.0144202709198, 5.122433185577393, -3.6720848083496094], [-2.03096866607666, -0.5839436054229736, 1.7799595594406128], [-1.9308854341506958, 4.018607139587402, -3.329129219055176], [-1.0981214046478271, 0.5699119567871094, -0.35406386852264404], [-4.801835060119629, 6.804411888122559, -4.023685932159424], [7.180351257324219, -4.754342079162598, -3.4721639156341553], [-2.3324851989746094, 3.8615803718566895, -2.722407102584839], [5.3538007736206055, -3.3613665103912354, -2.94054913520813], [6.981191635131836, -4.7537055015563965, -3.3325610160827637], [-4.21814489364624, 6.068614959716797, -3.713893175125122], [1.205724835395813, -0.7066093683242798, -1.3265507221221924], [-3.347912073135376, 4.403275966644287, -2.492511749267578], [3.982783555984497, -2.440354824066162, -2.2203876972198486], [-6.207422256469727, -3.3677761554718018, 8.222856521606445], [-12.171269416809082, -2.4653565883636475, 11.762903213500977], [-13.34444808959961, -6.194205284118652, 16.59105110168457], [-1.289348840713501, -1.5646041631698608, 2.126465082168579], [6.344526767730713, -4.797279357910156, -2.4081146717071533], [-4.527752876281738, 7.291917324066162, -4.844086170196533], [8.500150680541992, -5.709315299987793, -4.079687595367432], [3.3499038219451904, -3.6400258541107178, -0.30598029494285583], [-6.398671627044678, -5.3378143310546875, 10.00368881225586], [-1.8208916187286377, -0.5427125096321106, 1.5469118356704712], [-10.553016662597656, -4.1016011238098145, 12.352069854736328], [-4.16599702835083, -3.1556429862976074, 6.034129619598389], [-3.5059316158294678, 5.869884014129639, -4.0322585105896], [-2.78100848197937, 1.982667326927185, -0.038268525153398514], [7.415657043457031, -4.8496809005737305, -3.757237195968628], [7.420302391052246, -4.973606109619141, -3.593494176864624], [-0.8215056657791138, -1.9093600511550903, 2.120671510696411], [-9.618449211120605, -3.790245532989502, 11.31842041015625], [-7.0451459884643555, -2.6507976055145264, 8.098725318908691], [-4.154276371002197, 6.380151748657227, -3.998546838760376], [-7.755995750427246, -4.6242804527282715, 10.644041061401367], [-4.18212890625, 6.889151573181152, -4.706264972686768], [-5.895757675170898, -1.0195387601852417, 5.740746974945068], [-5.295662879943848, -2.736441135406494, 6.483708381652832], [5.9549455642700195, -3.3110620975494385, -3.674093008041382], [-0.7024577856063843, 0.10906434804201126, -0.252664178609848], [-2.471910238265991, 1.5961823463439941, -0.06548008322715759], [-1.387087106704712, 2.614832639694214, -2.2592642307281494], [-3.432846784591675, 4.074451446533203, -1.9490275382995605], [-5.452425003051758, 6.555880069732666, -3.0291335582733154], [-6.333887100219727, -3.951547622680664, 8.566115379333496], [5.643498420715332, -3.244542360305786, -3.3410563468933105], [-4.1517333984375, 5.9927873611450195, -3.593348264694214], [-3.476372241973877, 6.13204288482666, -4.4477715492248535], [7.4399919509887695, -5.301998615264893, -3.2790160179138184], [-1.3077516555786133, 3.075485944747925, -3.054586172103882], [-11.445365905761719, -3.883859634399414, 12.863513946533203], [8.35415267944336, -5.678664684295654, -4.043278694152832], [-3.837378978729248, 5.337080001831055, -3.101076126098633], [-10.979264259338379, -5.3560404777526855, 13.920225143432617], [-7.062595367431641, -2.4744675159454346, 8.01733112335205], [-4.038987159729004, 6.5727033615112305, -4.425014019012451], [-3.541379451751709, -2.5817480087280273, 5.241682529449463], [5.620248317718506, -3.9383420944213867, -2.543821096420288], [-2.554999589920044, 1.7235116958618164, 0.06532813608646393], [5.869861602783203, -4.0784711837768555, -2.6357181072235107], [6.46436882019043, -4.741003036499023, -2.7337052822113037], [-3.2268826961517334, 5.562674522399902, -3.9349052906036377], [1.1283814907073975, -3.707958459854126, 2.041200637817383], [-3.635559558868408, -1.2060023546218872, 3.899852752685547], [-3.5192577838897705, 5.518762588500977, -3.592106342315674], [-3.6434812545776367, 4.607941627502441, -2.529181480407715], [7.888673782348633, -5.06940221786499, -4.026981353759766], [-5.660983085632324, -3.729328155517578, 7.966860294342041], [-6.20089864730835, 8.068283081054688, -4.239777565002441], [-8.412288665771484, -4.041037082672119, 10.611767768859863], [-3.4789927005767822, 5.638282775878906, -3.7403271198272705], [6.057166576385498, -4.296796798706055, -2.774122953414917], [7.439939498901367, -4.975394248962402, -3.6409857273101807], [7.8858537673950195, -5.119491100311279, -4.025600910186768], [-0.3678620159626007, -3.052569627761841, 2.237976312637329], [-4.085171699523926, -2.066413164138794, 5.165887355804443], [4.728826999664307, -5.137328147888184, -0.34878072142601013], [-3.033388376235962, 5.841299057006836, -4.490686893463135], [-6.820748329162598, -1.695159673690796, 6.624752998352051], [-4.474493026733398, -0.6081207990646362, 4.07950496673584], [4.719415664672852, -3.0036377906799316, -2.5563433170318604], [3.3311123847961426, -2.136871576309204, -1.8774995803833008], [-4.905474662780762, 7.952712059020996, -5.317319869995117], [-0.7659411430358887, -2.992354154586792, 3.257439374923706], [-3.7791049480438232, 5.912428855895996, -3.805344820022583], [-6.034646987915039, -2.648724317550659, 7.349008083343506], [-0.7035802602767944, -0.9003332257270813, 0.8339706659317017], [-7.797372341156006, -4.394390106201172, 10.445297241210938], [-5.316109657287598, 5.951148986816406, -2.4693472385406494], [-3.5852787494659424, -0.13357746601104736, 2.776169538497925], [1.3466532230377197, -4.490921974182129, 2.748183012008667], [-3.3232624530792236, 3.5986530780792236, -1.4076569080352783], [6.762327194213867, -4.325944900512695, -3.4251017570495605], [7.902234077453613, -4.7479166984558105, -4.374598503112793], [-4.249871253967285, 2.836637258529663, 0.261844277381897], [-10.689762115478516, -5.917181968688965, 14.115280151367188], [7.834816932678223, -5.030420303344727, -4.003330230712891], [-1.6090362071990967, -3.4323089122772217, 3.593853712081909], [7.428705215454102, -5.180610656738281, -3.4455692768096924], [6.267742156982422, -4.204217433929443, -3.237901449203491], [-0.40331628918647766, -1.4556629657745361, 1.4119923114776611], [-4.237066268920898, 6.250162124633789, -3.8798704147338867], [5.362099647521973, -4.128115653991699, -2.1452982425689697], [-6.876676082611084, -3.0906565189361572, 8.410032272338867], [-3.576921224594116, -0.9695993661880493, 3.568664312362671], [-1.1571826934814453, 4.251552104949951, -4.657449245452881], [-2.4592292308807373, 4.211673736572266, -3.0854527950286865], [-1.5100717544555664, -2.7665445804595947, 3.700343370437622], [-2.778141736984253, 4.656101226806641, -3.2235910892486572], [-3.373089551925659, 5.781946659088135, -4.0817413330078125], [-5.540096282958984, 7.69520902633667, -4.384768486022949], [-6.813467979431152, -3.500138998031616, 8.793744087219238], [5.838018417358398, -4.083376884460449, -2.6119604110717773], [-5.181851387023926, 7.851143836975098, -4.882837772369385], [-3.030626058578491, 5.625007629394531, -4.259782314300537], [-8.172035217285156, -6.506283760070801, 12.776969909667969], [-1.0591645240783691, 2.476785182952881, -2.7108867168426514], [-3.273866891860962, 5.839134216308594, -4.4109787940979], [7.726978302001953, -4.821351528167725, -4.118420124053955], [6.890697479248047, -4.598359107971191, -3.3321831226348877], [7.223752021789551, -4.903380393981934, -3.537665605545044], [-3.275878429412842, 2.498821973800659, -0.35851502418518066], [-3.6729586124420166, 6.526988506317139, -4.726773262023926], [-2.689220666885376, 4.278815269470215, -3.0239574909210205], [-3.0605015754699707, 5.737013339996338, -4.431515216827393], [-3.937232732772827, -1.156381368637085, 4.0428547859191895], [7.845100402832031, -5.378334045410156, -3.753506898880005], [-3.0060155391693115, 5.4901533126831055, -4.377167701721191], [-16.69385528564453, -4.570237159729004, 17.644142150878906], [3.7642662525177, -3.365299940109253, -1.0912659168243408], [7.400049209594727, -4.654914855957031, -3.955157518386841], [-1.3943740129470825, 0.6867256164550781, -0.1532701849937439], [-2.8231093883514404, 4.197584629058838, -2.635085105895996], [7.001095771789551, -4.497228145599365, -3.718475580215454], [-3.530613899230957, 5.374122619628906, -3.4048516750335693], [-3.0947535037994385, 4.50325870513916, -2.7803711891174316], [-1.428318977355957, 2.666994571685791, -2.226517915725708], [-0.9143624305725098, 3.560220956802368, -4.112918853759766], [3.32757306098938, -0.9445029497146606, -3.2077271938323975], [-2.5846893787384033, 4.371903419494629, -3.1040945053100586], [-3.516634225845337, 5.607564926147461, -3.7454447746276855], [0.20735907554626465, -3.981879711151123, 3.4494121074676514], [-8.512144088745117, -3.063464879989624, 9.594805717468262], [-3.823601007461548, 4.411633491516113, -1.8674967288970947], [-3.2830798625946045, -1.2238858938217163, 3.6198201179504395], [8.050983428955078, -5.502921104431152, -3.7815816402435303], [-10.634429931640625, -4.813629150390625, 13.099306106567383], [-3.2556281089782715, 4.957476615905762, -3.0837085247039795], [-4.400064468383789, 6.523215293884277, -4.023555278778076], [-3.331390857696533, 5.661584854125977, -3.959904432296753], [-12.626585006713867, -5.129878044128418, 15.016112327575684], [-1.168178915977478, -3.7414040565490723, 4.35860538482666], [-4.062870025634766, 5.126243591308594, -2.6016812324523926], [7.975591659545898, -4.417224407196045, -4.950289249420166], [-2.1528384685516357, -3.5959298610687256, 4.695981979370117], [-11.816557884216309, -5.664622783660889, 14.765592575073242], [2.9610936641693115, -5.332059860229492, 2.116569757461548], [-2.1074466705322266, 1.6732871532440186, -0.3250793516635895], [-5.64611291885376, -4.864830017089844, 8.914957046508789], [-3.3821065425872803, 5.808300018310547, -4.120260715484619], [8.765203475952148, -5.723721027374268, -4.517088413238525], [7.221273422241211, -4.8709917068481445, -3.4354045391082764], [-9.943130493164062, -3.254455327987671, 11.005956649780273], [-3.2349965572357178, 4.6662211418151855, -2.851917028427124], [-6.29740047454834, 0.17307116091251373, 4.630903720855713], [-0.9856197834014893, -1.6168473958969116, 1.9430880546569824], [-3.99698805809021, 6.877483367919922, -4.985161781311035], [7.320984840393066, -4.852081298828125, -3.682476758956909], [7.929723262786865, -5.150169372558594, -4.105961322784424], [-4.485062122344971, 5.501729965209961, -2.7115819454193115], [-3.218092679977417, 6.135397434234619, -4.654397964477539], [-3.6854193210601807, 5.820405960083008, -3.7749693393707275], [-6.3157958984375, -3.3383948802948, 8.237167358398438], [-6.2238922119140625, 8.588912963867188, -4.891525745391846], [-1.5762077569961548, -0.10573968291282654, 1.0740259885787964], [-3.0670509338378906, -1.0715748071670532, 3.2249207496643066], [-2.1683127880096436, -3.3524043560028076, 4.381777286529541], [-1.884925127029419, 3.4085004329681396, -2.5902187824249268], [6.74042272567749, -4.604515075683594, -3.2025821208953857], [-4.352120399475098, 7.0155439376831055, -4.649576663970947], [2.1064369678497314, -1.258355975151062, -1.3693568706512451], [4.570747375488281, -2.9988694190979004, -2.2833077907562256], [-3.06522536277771, 4.743326187133789, -3.1254003047943115], [-1.9950635433197021, 2.7467689514160156, -1.9272332191467285], [4.758929252624512, -3.6251420974731445, -1.831831455230713], [-3.940911293029785, 5.867456912994385, -3.5755321979522705], [7.1023688316345215, -5.084445953369141, -3.0073189735412598], [-7.860271453857422, -2.3687305450439453, 8.31140422821045], [-3.137474298477173, -2.129401445388794, 4.315110683441162], [8.75261402130127, -6.0177764892578125, -4.231943130493164], [-6.029468536376953, -3.730053663253784, 8.371238708496094], [7.163213729858398, -4.88643217086792, -3.36002516746521], [7.689531326293945, -5.053159236907959, -3.857926607131958], [-4.611354351043701, 2.099440813064575, 1.3758723735809326], [-1.9093939065933228, 3.0410773754119873, -2.2123985290527344], [-10.045138359069824, -5.128350734710693, 12.94930648803711], [5.183684349060059, -3.6526968479156494, -2.3018147945404053], [5.541900157928467, -4.840240478515625, -1.5815736055374146], [-6.180929660797119, 7.9670329093933105, -4.121482849121094], [7.930606842041016, -5.398375511169434, -3.796348810195923], [-3.9117815494537354, 1.2418959140777588, 1.7528164386749268], [-7.524868011474609, -5.539541244506836, 11.197306632995605], [8.192133903503418, -5.490001201629639, -4.018838405609131], [-5.26298189163208, 6.695674896240234, -3.3644979000091553], [8.14767837524414, -5.240262508392334, -4.097017765045166], [-1.7430135011672974, 4.245034694671631, -4.0109333992004395], [6.9760589599609375, -3.9801886081695557, -4.143435001373291], [-6.208073616027832, -3.2865216732025146, 7.915273189544678], [-2.1984832286834717, -2.4521453380584717, 4.037791728973389], [-3.3185667991638184, 3.7806217670440674, -1.7783946990966797], [6.994436264038086, -4.886717796325684, -3.168686628341675], [-3.6269757747650146, 4.234250545501709, -2.0668232440948486], [-4.098676681518555, 6.074050426483154, -3.8044047355651855], [-3.2362594604492188, 5.095193862915039, -3.3165595531463623], [-2.8121700286865234, 3.2848265171051025, -1.8222192525863647], [7.181055068969727, -4.839955806732178, -3.4187605381011963], [-3.6042673587799072, -2.035630464553833, 4.631051540374756], [-4.953057289123535, 5.937008857727051, -2.8100717067718506], [9.001494407653809, -5.834956169128418, -4.680119037628174], [-5.36569356918335, -3.9209234714508057, 7.95747709274292], [-2.531252145767212, 3.210287094116211, -1.7717645168304443], [-4.786752700805664, -1.9002012014389038, 5.1444993019104], [-6.915031909942627, -2.765190601348877, 8.072236061096191], [-0.3445047438144684, -1.1315960884094238, 1.036661148071289], [-2.9486494064331055, 5.3800201416015625, -3.978116273880005], [6.840795516967773, -4.746264934539795, -3.17720627784729], [-4.6439208984375, -5.01539421081543, 7.960817337036133], [-4.454986572265625, 4.747174263000488, -1.837562918663025], [-3.2069971561431885, 5.0604047775268555, -3.315641403198242], [6.885410308837891, -3.419743061065674, -4.781338214874268], [8.437702178955078, -5.39992618560791, -4.344836711883545], [-4.978265762329102, -1.5503727197647095, 5.3312554359436035], [2.0562660694122314, -3.673884391784668, 1.2087311744689941], [-0.18225395679473877, 1.9621875286102295, -2.6208484172821045], [1.1613192558288574, -3.725003480911255, 2.3066937923431396], [-5.005487442016602, 6.188311576843262, -3.0223567485809326], [-2.238577365875244, 4.188235282897949, -3.2009525299072266], [8.110969543457031, -5.509701251983643, -3.8384459018707275], [-4.210641384124756, 5.425952434539795, -2.803781032562256], [5.927213191986084, -4.3712263107299805, -2.5707781314849854], [-12.2431640625, -3.5680243968963623, 13.06363296508789], [-4.6782684326171875, -2.1408228874206543, 5.819710731506348], [-5.227670669555664, 5.83003044128418, -2.491764783859253], [-3.8254048824310303, 1.1734635829925537, 1.720517635345459], [-3.371258020401001, 5.405305862426758, -3.6841962337493896], [-1.5212925672531128, 2.510953187942505, -2.2652385234832764], [6.282825469970703, -4.64378547668457, -2.5397870540618896], [-8.753169059753418, -3.3670499324798584, 10.257148742675781], [-5.211652755737305, -3.2209279537200928, 7.229682445526123], [7.791269779205322, -4.937063217163086, -4.091418743133545], [-12.52280330657959, -3.655998945236206, 13.251457214355469], [7.204166889190674, -4.667862892150879, -3.8323400020599365], [-3.4668025970458984, 6.143573760986328, -4.4263811111450195], [-3.788166046142578, 4.871804237365723, -2.66903018951416], [0.7543808221817017, -3.486453056335449, 2.2827720642089844], [7.445425987243652, -4.889791011810303, -3.892428159713745], [-0.8618741035461426, 2.493414878845215, -2.619483709335327], [7.400558948516846, -4.970977783203125, -3.6433684825897217], [-3.0669519901275635, 4.863949775695801, -3.3683791160583496], [-4.455599308013916, -0.673256516456604, 3.8422703742980957], [-6.429248809814453, -1.8870567083358765, 6.763644695281982], [6.3072614669799805, -4.0165486335754395, -3.2858986854553223], [-4.275944232940674, -2.273212194442749, 5.38873815536499], [-4.823026180267334, 7.064736366271973, -4.322091579437256], [-4.5819597244262695, 6.58894681930542, -3.8620333671569824], [-1.5555534362792969, 3.130199670791626, -2.6986873149871826], [8.18390941619873, -5.421455383300781, -4.108922481536865], [-2.5075888633728027, 4.72735071182251, -3.6118226051330566], [-4.142012596130371, 5.683466911315918, -3.1887660026550293], [5.023839950561523, -2.851302146911621, -3.031777858734131], [-6.566658020019531, 3.406092882156372, 0.9591240286827087], [8.064897537231445, -5.407928943634033, -3.9591190814971924], [-3.401573419570923, 5.863997459411621, -4.125851154327393], [-4.446872711181641, 6.022109031677246, -3.3483316898345947], [-4.094647407531738, -2.003188371658325, 5.1091108322143555], [2.4587690830230713, -2.163843870162964, -0.8581458330154419], [6.461620807647705, -4.420196056365967, -2.997539758682251], [7.2682085037231445, -4.952733993530273, -3.4406003952026367], [-4.148794651031494, -1.1838051080703735, 4.032540798187256], [-3.2185819149017334, 4.675062656402588, -2.8201711177825928], [-3.1323609352111816, 4.000110626220703, -2.1198294162750244], [7.925745010375977, -4.825099468231201, -4.410782337188721], [-5.06224250793457, 6.987910270690918, -3.911641836166382], [8.519342422485352, -5.760400772094727, -4.15160608291626], [-3.6536526679992676, 6.0083327293396, -4.065856456756592], [0.44600924849510193, -2.647639274597168, 1.5982919931411743], [-4.421709060668945, -0.9609736800193787, 4.4095540046691895], [7.733335018157959, -4.9453840255737305, -3.958542823791504], [-3.9323456287384033, 5.9582014083862305, -3.7475452423095703], [-5.010578155517578, 6.211312294006348, -3.0633304119110107], [-5.164870262145996, 6.567668914794922, -3.306086301803589], [4.811095237731934, -1.967955470085144, -4.244703769683838], [-2.865615129470825, -0.6806445121765137, 2.7474427223205566], [1.7164533138275146, -1.0989689826965332, -1.3832350969314575], [3.9323604106903076, -3.6657066345214844, -0.827906608581543], [-9.394880294799805, -5.051572799682617, 12.26832389831543], [6.63530158996582, -3.5735514163970947, -4.405736446380615], [-3.079284429550171, 5.267492771148682, -3.675136089324951], [8.569912910461426, -5.57335090637207, -4.414393424987793], [7.0247697830200195, -4.996976852416992, -3.109703302383423], [7.293610572814941, -5.023355007171631, -3.374297618865967], [-1.8071465492248535, 3.5508954524993896, -2.8121252059936523], [5.472694396972656, -3.770934820175171, -2.5382840633392334], [6.806822776794434, -4.623847484588623, -3.358083486557007], [6.894876003265381, -4.344755172729492, -3.836120367050171], [-7.093031883239746, -3.804142475128174, 9.304738998413086], [7.386270523071289, -5.013243675231934, -3.4948556423187256], [-2.8832242488861084, 5.536618709564209, -4.444584846496582], [-7.099331855773926, -4.088874340057373, 9.542250633239746], [-0.014349296689033508, -1.4851616621017456, 0.8450573682785034], [-2.4724137783050537, 4.892884254455566, -3.8819868564605713], [-4.184211730957031, -2.609165668487549, 5.559446811676025], [-3.22940993309021, 4.091031074523926, -2.157545566558838], [-3.773892402648926, -2.007948160171509, 4.767749786376953], [0.09548316895961761, 0.32313254475593567, -1.5272586345672607], [1.1209213733673096, -2.8522655963897705, 1.2489770650863647], [-1.4949514865875244, 4.086353302001953, -4.380609035491943], [-7.405342102050781, -5.703010082244873, 10.957378387451172], [-6.6423258781433105, -3.9187984466552734, 9.030445098876953], [6.725353240966797, -4.437973499298096, -3.3163583278656006], [-9.288423538208008, -2.2176897525787354, 9.32010555267334], [-3.466510057449341, -2.662224054336548, 4.987136363983154], [-3.3291513919830322, -0.4177902936935425, 2.6880881786346436], [8.108603477478027, -4.980098247528076, -4.411144733428955], [7.527858257293701, -4.755862236022949, -4.027264595031738], [-4.301152229309082, 5.513933181762695, -2.914517402648926], [2.488621473312378, -4.450168609619141, 1.6746635437011719], [7.4275054931640625, -5.172776222229004, -3.5138745307922363], [8.017988204956055, -5.408110618591309, -3.903402090072632], [5.526614189147949, -4.183468818664551, -2.1513850688934326], [-11.34103012084961, -2.8405864238739014, 11.49081039428711], [-2.1313180923461914, -0.941552460193634, 2.116194009780884], [-2.9735772609710693, 2.136148691177368, -0.16646814346313477], [-2.3621222972869873, 2.642035961151123, -1.2759695053100586], [-1.369823694229126, 2.2109534740448, -1.6519150733947754], [-4.020052433013916, -0.45617231726646423, 3.5880649089813232], [4.911614418029785, -2.3721978664398193, -3.468083143234253], [-3.184988260269165, 4.963985443115234, -3.2058353424072266], [-4.293738842010498, 6.191278457641602, -3.657813549041748], [-2.1016924381256104, 3.654137134552002, -2.7953999042510986], [-3.960211992263794, 5.4804911613464355, -3.10040020942688], [-2.8044631481170654, 4.566564559936523, -3.2326180934906006], [-2.9885265827178955, 3.7067008018493652, -1.8810405731201172], [8.253201484680176, -5.302090644836426, -4.2588934898376465], [7.287568092346191, -4.262176513671875, -4.16269063949585], [-10.674869537353516, -3.360382080078125, 11.737594604492188], [-2.252685785293579, 3.8504436016082764, -2.8993327617645264], [-4.100177764892578, 6.994327545166016, -4.913520812988281], [-2.6783347129821777, 4.787392616271973, -3.550532102584839], [-2.4890918731689453, 2.307941198348999, -0.5961072444915771], [-3.775264024734497, 5.345612049102783, -3.215723752975464], [-4.938468933105469, -4.01609468460083, 7.7000908851623535], [-6.463624000549316, -3.1080262660980225, 8.104756355285645], [8.103536605834961, -5.666670799255371, -3.785740375518799], [6.683596611022949, -4.028870105743408, -3.957864761352539], [6.74791145324707, -4.633233070373535, -3.107325315475464], [4.6702141761779785, -3.6403448581695557, -1.7938178777694702], [-4.733804702758789, -1.9703181982040405, 5.636175155639648], [-2.0557708740234375, 4.308414459228516, -3.605781316757202], [6.187623977661133, -3.681222438812256, -3.708198308944702], [-8.111882209777832, -2.500642776489258, 8.856518745422363], [-1.3013626337051392, 3.0421295166015625, -2.7932004928588867], [-4.265862464904785, 5.8708953857421875, -3.3447749614715576], [5.711916446685791, -3.9644854068756104, -2.779435396194458], [-2.848249673843384, 2.876237630844116, -1.0526490211486816], [-4.9730658531188965, 7.017576217651367, -4.003376007080078], [4.672490119934082, -2.9081852436065674, -2.569065809249878], [-5.833273887634277, 7.824955940246582, -4.248072624206543], [-4.521042823791504, 6.966222763061523, -4.47365140914917], [-7.658509254455566, -5.499249458312988, 11.42314338684082], [-4.009843826293945, 5.648085117340088, -3.258378744125366], [-2.612441301345825, -2.821810007095337, 4.583319187164307], [-9.848796844482422, -2.5808908939361572, 10.2806396484375], [8.056692123413086, -5.686584949493408, -3.645134210586548], [-4.941933631896973, 7.5696258544921875, -4.839583873748779], [8.944555282592773, -5.893582344055176, -4.6418375968933105], [-2.782630205154419, 3.7338054180145264, -2.009899377822876], [-4.754561901092529, -1.1340409517288208, 4.844229221343994], [-2.8558390140533447, 3.029432535171509, -1.1723326444625854], [-3.591827630996704, -0.9159726500511169, 3.55818772315979], [-5.4354681968688965, -4.757672309875488, 8.463642120361328], [5.706543922424316, -3.0939838886260986, -3.6104648113250732]]\n",
            "tensor([[3.2840e+03, 7.2201e-03, 1.0386e-02],\n",
            "        [2.3702e+01, 1.3670e-01, 1.5713e-01],\n",
            "        [9.5130e-02, 3.2682e+00, 1.8087e+00],\n",
            "        ...,\n",
            "        [2.7548e-02, 4.0013e-01, 3.5100e+01],\n",
            "        [4.3592e-03, 8.5856e-03, 4.7393e+03],\n",
            "        [3.0083e+02, 4.5321e-02, 2.7039e-02]])\n",
            "[0, 0, 1, 2, 1, 1, 1, 1, 0, 0, 2, 1, 2, 1, 0, 2, 2, 2, 1, 0, 1, 2, 0, 2, 2, 2, 1, 2, 2, 0, 1, 1, 2, 1, 2, 1, 1, 0, 1, 2, 1, 2, 0, 1, 1, 0, 0, 1, 0, 0, 2, 1, 1, 0, 0, 1, 0, 0, 2, 2, 2, 0, 0, 2, 0, 2, 2, 2, 2, 1, 1, 0, 0, 0, 1, 0, 2, 2, 0, 2, 1, 1, 2, 2, 1, 2, 2, 0, 1, 0, 2, 0, 0, 1, 0, 1, 2, 2, 1, 2, 2, 2, 0, 2, 2, 1, 0, 0, 2, 1, 2, 0, 1, 2, 0, 1, 1, 2, 2, 1, 1, 2, 2, 1, 1, 0, 1, 0, 2, 0, 2, 0, 1, 2, 0, 2, 0, 0, 2, 0, 1, 2, 1, 1, 1, 1, 1, 0, 1, 0, 2, 1, 1, 2, 0, 2, 0, 0, 0, 0, 0, 0, 0, 1, 1, 2, 2, 2, 0, 1, 2, 2, 1, 0, 2, 2, 2, 2, 2, 1, 2, 0, 1, 1, 2, 1, 1, 0, 1, 2, 2, 1, 2, 0, 1, 1, 2, 2, 0, 1, 2, 1, 2, 2, 2, 1, 2, 1, 2, 0, 1, 0, 1, 1, 1, 2, 1, 2, 0, 1, 2, 1, 2, 1, 0, 2, 1, 1, 1, 2, 2, 1, 1, 1, 1, 2, 1, 2, 1, 0, 0, 2, 2, 0, 1, 1, 1, 1, 1, 2, 1, 2, 0, 0, 0, 1, 2, 1, 0, 1, 0, 0, 2, 0, 2, 2, 1, 0, 0, 1, 2, 2, 2, 2, 0, 1, 2, 2, 1, 2, 0, 2, 2, 1, 2, 0, 0, 2, 1, 2, 2, 2, 1, 2, 2, 1, 1, 1, 2, 0, 2, 2, 1, 1, 0, 1, 0, 0, 1, 1, 2, 0, 0, 0, 2, 1, 0, 0, 1, 0, 1, 0, 1, 0, 2, 2, 0, 1, 2, 0, 1, 1, 0, 0, 2, 2, 1, 0, 2, 2, 1, 2, 1, 2, 2, 2, 2, 2, 2, 0, 2, 1, 0, 0, 2, 1, 0, 2, 2, 2, 1, 0, 2, 0, 1, 2, 2, 0, 0, 0, 0, 2, 0, 1, 0, 1, 2, 1, 2, 2, 2, 2, 0, 2, 0, 1, 0, 1, 1, 1, 1, 2, 1, 1, 2, 2, 2, 0, 2, 2, 1, 1, 1, 2, 1, 2, 1, 0, 1, 0, 1, 0, 2, 0, 1, 2, 1, 2, 0, 1, 0, 1, 1, 2, 0, 1, 1, 2, 0, 1, 1, 2, 0, 2, 1, 2, 0, 0, 2, 2, 0, 0, 2, 0, 2, 0, 2, 2, 1, 0, 1, 2, 1, 1, 2, 0, 0, 2, 1, 2, 0, 1, 2, 0, 2, 0, 2, 0, 0, 2, 1, 1, 1, 1, 1, 2, 1, 2, 2, 0, 0, 2, 2, 1, 2, 2, 0, 2, 2, 2, 2, 1, 2, 1, 1, 2, 2, 0, 2, 1, 2, 2, 0, 1, 1, 0, 1, 1, 1, 1, 0, 2, 1, 1, 0, 1, 2, 0, 2, 2, 0, 0, 2, 1, 1, 1, 2, 2, 2, 0, 0, 2, 0, 1, 0, 1, 1, 0, 0, 2, 1, 0, 0, 2, 2, 2, 1, 1, 1, 1, 0, 1, 1, 2, 2, 2, 2, 2, 2, 2, 1, 1, 2, 1, 0, 2, 1, 1, 0, 2, 0, 2, 1, 2, 1, 1, 1, 0, 0, 0, 0, 0, 2, 2, 0, 2, 2, 0, 0, 0, 0, 0, 2, 0, 2, 2, 1, 1, 2, 1, 2, 2, 1, 2, 2, 1, 1, 0, 1, 0, 1, 2, 1, 0, 1, 1, 0, 2, 1, 1, 2, 1, 1, 1, 2, 1, 0, 0, 2, 1, 1, 2, 0, 1, 0, 1, 1, 0, 0, 0, 1, 2, 2, 2, 2, 2, 0, 0, 2, 2, 1, 1, 1, 0, 2, 2, 1, 1, 1, 0, 1, 0, 2, 2, 1, 2, 1, 0, 1, 1, 1, 0, 1, 0, 0, 2, 1, 1, 0, 0, 1, 1, 1, 2, 1, 1, 2, 2, 2, 1, 2, 1, 2, 2, 1, 1, 1, 1, 0, 1, 2, 2, 0, 2, 1, 0, 0, 1, 1, 1, 2, 0, 0, 1, 1, 0, 0, 0, 0, 1, 2, 1, 0, 2, 0, 0, 1, 0, 0, 0, 2, 1, 1, 1, 0, 1, 1, 0, 2, 0, 2, 1, 0, 2, 2, 2, 2, 1, 1, 1, 0, 0, 0, 1, 0, 1, 0, 0, 0, 2, 2, 0, 1, 2, 1, 2, 1, 2, 1, 0, 0, 2, 0, 2, 2, 1, 2, 1, 2, 0, 0, 1, 2, 0, 1, 2, 2, 1, 2, 2, 2, 0, 1, 2, 2, 2, 1, 2, 1, 0, 2, 1, 1, 2, 0, 1, 2, 0, 2, 1, 1, 2, 0, 0, 2, 0, 1, 2, 1, 1, 1, 2, 0, 2, 2, 0, 0, 1, 0, 0, 1, 2, 2, 1, 2, 1, 1, 1, 0, 0, 2, 1, 1, 2, 1, 1, 1, 2, 0, 1, 0, 0, 0, 0, 1, 2, 0, 1, 0, 2, 0, 2, 1, 2, 2, 1, 2, 2, 0, 1, 2, 1, 2, 2, 1, 2, 2, 0, 0, 0, 2, 2, 0, 2, 2, 1, 1, 0, 1, 1, 0, 1, 0, 1, 2, 2, 0, 0, 0, 0, 1, 1, 1, 0, 1, 1, 0, 2, 1, 0, 2, 0, 0, 2, 1, 2, 2, 1, 1, 0, 0, 0, 2, 0, 1, 2, 1, 0, 1, 2, 0, 1, 1, 2, 0, 0, 0, 2, 2, 0, 0, 0, 2, 0, 0, 0, 2, 1, 0, 1, 0, 0, 1, 0, 2, 2, 0, 0, 2, 2, 1, 2, 0, 2, 2, 1, 1, 1, 0, 2, 0, 1, 0, 2, 1, 1, 1, 0, 1, 0, 2, 0, 1, 2, 1, 2, 2, 0, 2, 1, 1, 2, 1, 2, 0, 2, 1, 1, 0, 1, 2, 2, 0, 2, 0, 2, 0, 0, 2, 2, 1, 0, 1, 2, 2, 2, 0, 2, 2, 0, 0, 2, 1, 1, 1, 0, 1, 2, 2, 1, 1, 2, 0, 1, 0, 1, 0, 0, 2, 0, 0, 1, 2, 0, 1, 0, 2, 1, 1, 1, 2, 2, 1, 2, 2, 1, 2, 1, 0, 0, 2, 1, 0, 1, 1, 0, 2, 0, 2, 1, 0, 1, 0, 1, 2, 0, 2, 2, 1, 1, 0, 0, 0, 1, 1, 0, 0, 2, 2, 2, 2, 0, 0, 0, 2, 2, 0, 0, 2, 1, 0, 1, 2, 1, 1, 0, 1, 0, 0, 1, 2, 2, 1, 1, 0, 2, 0, 1, 0, 0, 0, 0, 1, 2, 2, 2, 2, 0, 0, 1, 2, 0, 1, 2, 1, 0, 1, 1, 1, 2, 1, 1, 0, 2, 1, 2, 1, 2, 1, 0, 1, 1, 2, 1, 2, 1, 0, 1, 0, 0, 1, 0, 1, 0, 2, 2, 2, 2, 0, 1, 0, 0, 2, 2, 2, 2, 1, 2, 0, 0, 2, 2, 2, 1, 2, 1, 2, 2, 0, 2, 2, 2, 1, 1, 2, 0, 1, 1, 0, 1, 2, 0, 1, 2, 2, 1, 2, 0, 2, 0, 0, 1, 2, 2, 1, 1, 0, 2, 1, 2, 1, 0, 0, 0, 2, 2, 0, 1, 2, 2, 0, 0, 1, 2, 1, 2, 2, 2, 1, 2, 2, 2, 0, 0, 2, 2, 0, 2, 0, 0, 2, 1, 0, 2, 2, 1, 1, 2, 1, 1, 1, 2, 0, 1, 1, 2, 1, 1, 0, 0, 0, 2, 1, 1, 1, 2, 0, 1, 2, 0, 0, 2, 1, 0, 1, 1, 1, 1, 0, 1, 1, 2, 2, 1, 1, 0, 2, 1, 1, 1, 2, 2, 1, 0, 2, 2, 2, 2, 2, 1, 0, 0, 2, 1, 2, 2, 1, 0, 0, 1, 1, 1, 2, 1, 2, 2, 2, 1, 0, 1, 2, 0, 1, 1, 0, 1, 0, 2, 2, 0, 2, 0, 0, 1, 1, 2, 0, 0, 1, 0, 2, 2, 0, 1, 0, 1, 0, 2, 2, 1, 0, 1, 1, 1, 1, 0, 2, 1, 0, 2, 1, 2, 2, 1, 1, 0, 2, 1, 1, 0, 0, 2, 2, 1, 2, 1, 1, 0, 1, 0, 2, 2, 1, 1, 1, 1, 0, 2, 2, 0, 2, 0, 1, 1, 2, 0, 1, 0, 1, 2, 2, 0, 2, 1, 1, 1, 0, 1, 1, 0, 1, 0, 1, 1, 2, 2, 0, 0, 2, 1, 1, 0, 1, 0, 1, 2, 2, 0, 1, 1, 1, 0, 2, 0, 2, 2, 0, 1, 0, 0, 0, 2, 0, 0, 0, 2, 0, 1, 2, 2, 1, 2, 1, 2, 1, 2, 1, 2, 2, 0, 2, 2, 2, 0, 0, 1, 0, 0, 0, 0, 2, 2, 2, 2, 1, 2, 0, 1, 1, 1, 1, 1, 1, 0, 0, 2, 1, 1, 1, 2, 1, 2, 2, 0, 0, 0, 0, 2, 1, 0, 2, 1, 1, 0, 2, 1, 1, 1, 1, 2, 1, 2, 2, 0, 1, 0, 1, 2, 1, 2, 2, 0]\n",
            "f1 score:  0.9468138047932749\n",
            "recall:  0.9471279373368147\n",
            "precision:  0.9489421056826649\n",
            "accuracy:  0.9471279373368147\n"
          ],
          "name": "stdout"
        }
      ]
    }
  ]
}